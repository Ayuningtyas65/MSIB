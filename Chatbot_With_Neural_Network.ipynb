{
  "nbformat": 4,
  "nbformat_minor": 0,
  "metadata": {
    "colab": {
      "provenance": []
    },
    "kernelspec": {
      "name": "python3",
      "display_name": "Python 3"
    },
    "language_info": {
      "name": "python"
    }
  },
  "cells": [
    {
      "cell_type": "markdown",
      "source": [
        "# Chatbot With Neural Network"
      ],
      "metadata": {
        "id": "iw5Wh7WIPHCh"
      }
    },
    {
      "cell_type": "markdown",
      "source": [
        "Tri Mulyani Ayuningtyas _ JumaTec"
      ],
      "metadata": {
        "id": "L6PeZ8E8g6e8"
      }
    },
    {
      "cell_type": "markdown",
      "source": [
        "## Mendownload Dataset"
      ],
      "metadata": {
        "id": "3leN7UdGPOMj"
      }
    },
    {
      "cell_type": "code",
      "source": [
        "#download dataset\n",
        "from urllib import request\n",
        "url = \"https://raw.githubusercontent.com/fendy07/chatbot-AI/master/kampus_merdeka.json\"\n",
        "request.urlretrieve(url, \"kampus_merdeka.json\")"
      ],
      "metadata": {
        "colab": {
          "base_uri": "https://localhost:8080/"
        },
        "id": "MN-CCGri5-YL",
        "outputId": "96902d65-06bb-4ee1-d781-32234fe0d66e"
      },
      "execution_count": null,
      "outputs": [
        {
          "output_type": "execute_result",
          "data": {
            "text/plain": [
              "('kampus_merdeka.json', <http.client.HTTPMessage at 0x7f4300916e90>)"
            ]
          },
          "metadata": {},
          "execution_count": 1
        }
      ]
    },
    {
      "cell_type": "markdown",
      "source": [
        "## Load Gdrive"
      ],
      "metadata": {
        "id": "WRVLwS7TPf2_"
      }
    },
    {
      "cell_type": "code",
      "execution_count": null,
      "metadata": {
        "id": "ibnxRSJXrHRi",
        "colab": {
          "base_uri": "https://localhost:8080/"
        },
        "outputId": "05b13bde-e31a-4872-ff6d-b859a2c2fd14"
      },
      "outputs": [
        {
          "output_type": "stream",
          "name": "stdout",
          "text": [
            "Mounted at /content/drive\n"
          ]
        }
      ],
      "source": [
        "#Load Gdrive\n",
        "from google.colab import drive\n",
        "drive.mount('/content/drive')"
      ]
    },
    {
      "cell_type": "markdown",
      "source": [
        "## Menginstall Library"
      ],
      "metadata": {
        "id": "vLgbTzSZPjd_"
      }
    },
    {
      "cell_type": "code",
      "source": [
        "#installasi Library\n",
        "!pip -q install speechrecognition\n",
        "!pip -q install gtts"
      ],
      "metadata": {
        "colab": {
          "base_uri": "https://localhost:8080/"
        },
        "id": "xR_22tsq4vlW",
        "outputId": "b4218dea-2894-494f-ea3e-6fbb03864358"
      },
      "execution_count": null,
      "outputs": [
        {
          "output_type": "stream",
          "name": "stdout",
          "text": [
            "\u001b[K     |████████████████████████████████| 32.8 MB 111 kB/s \n",
            "\u001b[?25h"
          ]
        }
      ]
    },
    {
      "cell_type": "markdown",
      "source": [
        "## Mengimport Library"
      ],
      "metadata": {
        "id": "Dh7S-Bb3PnXp"
      }
    },
    {
      "cell_type": "code",
      "source": [
        "#import Libraries\n",
        "import json\n",
        "import nltk\n",
        "import time\n",
        "import random\n",
        "import string\n",
        "import pickle\n",
        "import numpy as np\n",
        "import pandas as pd\n",
        "from gtts import gTTS\n",
        "from io import BytesIO\n",
        "import tensorflow as tf\n",
        "import IPython.display as ipd\n",
        "import speech_recognition as sr \n",
        "import matplotlib.pyplot as plt\n",
        "from nltk.stem import WordNetLemmatizer\n",
        "from tensorflow.keras.models import Model\n",
        "from keras.utils.vis_utils import plot_model\n",
        "from sklearn.preprocessing import LabelEncoder\n",
        "from tensorflow.keras.preprocessing.text import Tokenizer\n",
        "from tensorflow.keras.layers import Input, Embedding, LSTM\n",
        "from tensorflow.keras.preprocessing.sequence import pad_sequences\n",
        "from tensorflow.keras.layers import Flatten, Dense, GlobalMaxPool1D"
      ],
      "metadata": {
        "id": "bgjQkNR_4vh5"
      },
      "execution_count": null,
      "outputs": []
    },
    {
      "cell_type": "markdown",
      "source": [
        "## Download NLTK Package"
      ],
      "metadata": {
        "id": "D8NBtD_eQ3yK"
      }
    },
    {
      "cell_type": "code",
      "source": [
        "nltk.download('punkt')\n",
        "nltk.download('wordnet')\n",
        "nltk.download('omw-1.4')"
      ],
      "metadata": {
        "colab": {
          "base_uri": "https://localhost:8080/"
        },
        "id": "zLIF9n2c5OFy",
        "outputId": "5c74039a-755f-4f84-9ca6-8b38f8269a8a"
      },
      "execution_count": null,
      "outputs": [
        {
          "output_type": "stream",
          "name": "stderr",
          "text": [
            "[nltk_data] Downloading package punkt to /root/nltk_data...\n",
            "[nltk_data]   Unzipping tokenizers/punkt.zip.\n",
            "[nltk_data] Downloading package wordnet to /root/nltk_data...\n",
            "[nltk_data] Downloading package omw-1.4 to /root/nltk_data...\n"
          ]
        },
        {
          "output_type": "execute_result",
          "data": {
            "text/plain": [
              "True"
            ]
          },
          "metadata": {},
          "execution_count": 5
        }
      ]
    },
    {
      "cell_type": "markdown",
      "source": [
        "## Load Dataset Json"
      ],
      "metadata": {
        "id": "hb2D2So3Q5ps"
      }
    },
    {
      "cell_type": "code",
      "source": [
        "# Importing the dataset\n",
        "with open('/content/kampus_merdeka.json') as content:\n",
        "  data1 = json.load(content)\n",
        "\n",
        "# Mendapatkan semua data ke dalam list\n",
        "tags = [] # data tag\n",
        "inputs = [] # data input atau pattern\n",
        "responses = {} # data respon\n",
        "words = [] # Data kata \n",
        "classes = [] # Data Kelas atau Tag\n",
        "documents = [] # Data Kalimat Dokumen\n",
        "ignore_words = ['?', '!'] # Mengabaikan tanda spesial karakter\n",
        "\n",
        "for intent in data1['intents']:\n",
        "  responses[intent['tag']]=intent['responses']\n",
        "  for lines in intent['patterns']:\n",
        "    inputs.append(lines)\n",
        "    tags.append(intent['tag'])\n",
        "    for pattern in intent['patterns']:\n",
        "      w = nltk.word_tokenize(pattern)\n",
        "      words.extend(w)\n",
        "      documents.append((w, intent['tag']))\n",
        "      # add to our classes list\n",
        "      if intent['tag'] not in classes:\n",
        "        classes.append(intent['tag'])\n",
        "\n",
        "# Konversi data json ke dalam dataframe\n",
        "data = pd.DataFrame({\"patterns\":inputs, \"tags\":tags})"
      ],
      "metadata": {
        "id": "t7cL6ZAO5RFm"
      },
      "execution_count": null,
      "outputs": []
    },
    {
      "cell_type": "markdown",
      "source": [
        "## Menampilkan Semua Data"
      ],
      "metadata": {
        "id": "4Xcobh0uQ9RH"
      }
    },
    {
      "cell_type": "code",
      "source": [
        "#menampilkan data keseluruhan\n",
        "data"
      ],
      "metadata": {
        "colab": {
          "base_uri": "https://localhost:8080/",
          "height": 424
        },
        "id": "Wah8Cw2MB79E",
        "outputId": "0e139253-fb00-4458-b8cf-0db23a2edcd1"
      },
      "execution_count": null,
      "outputs": [
        {
          "output_type": "execute_result",
          "data": {
            "text/plain": [
              "                                             patterns  \\\n",
              "0                                               hallo   \n",
              "1                                                 hai   \n",
              "2                                                halo   \n",
              "3                                                 hei   \n",
              "4                                                  hi   \n",
              "..                                                ...   \n",
              "75                                      Apa itu PMMB?   \n",
              "76                        Apa saja persyaratan IISMA?   \n",
              "77  Bagaimana periode pelaksanaan dan cara mendaft...   \n",
              "78           Apa saja manfaat apabila mengikuti PMMB?   \n",
              "79  Apa saja universitas yang tergabung dalam prog...   \n",
              "\n",
              "                            tags  \n",
              "0                       greeting  \n",
              "1                       greeting  \n",
              "2                       greeting  \n",
              "3                       greeting  \n",
              "4                       greeting  \n",
              "..                           ...  \n",
              "75               penjelasan_PMMB  \n",
              "76             persyaratan_IISMA  \n",
              "77  periode_dan_pendaftaran_PMMB  \n",
              "78                  manfaat_PMMB  \n",
              "79                    mitra_PMMB  \n",
              "\n",
              "[80 rows x 2 columns]"
            ],
            "text/html": [
              "\n",
              "  <div id=\"df-90d8f0af-5502-463f-a71a-0d2cfc5b0acd\">\n",
              "    <div class=\"colab-df-container\">\n",
              "      <div>\n",
              "<style scoped>\n",
              "    .dataframe tbody tr th:only-of-type {\n",
              "        vertical-align: middle;\n",
              "    }\n",
              "\n",
              "    .dataframe tbody tr th {\n",
              "        vertical-align: top;\n",
              "    }\n",
              "\n",
              "    .dataframe thead th {\n",
              "        text-align: right;\n",
              "    }\n",
              "</style>\n",
              "<table border=\"1\" class=\"dataframe\">\n",
              "  <thead>\n",
              "    <tr style=\"text-align: right;\">\n",
              "      <th></th>\n",
              "      <th>patterns</th>\n",
              "      <th>tags</th>\n",
              "    </tr>\n",
              "  </thead>\n",
              "  <tbody>\n",
              "    <tr>\n",
              "      <th>0</th>\n",
              "      <td>hallo</td>\n",
              "      <td>greeting</td>\n",
              "    </tr>\n",
              "    <tr>\n",
              "      <th>1</th>\n",
              "      <td>hai</td>\n",
              "      <td>greeting</td>\n",
              "    </tr>\n",
              "    <tr>\n",
              "      <th>2</th>\n",
              "      <td>halo</td>\n",
              "      <td>greeting</td>\n",
              "    </tr>\n",
              "    <tr>\n",
              "      <th>3</th>\n",
              "      <td>hei</td>\n",
              "      <td>greeting</td>\n",
              "    </tr>\n",
              "    <tr>\n",
              "      <th>4</th>\n",
              "      <td>hi</td>\n",
              "      <td>greeting</td>\n",
              "    </tr>\n",
              "    <tr>\n",
              "      <th>...</th>\n",
              "      <td>...</td>\n",
              "      <td>...</td>\n",
              "    </tr>\n",
              "    <tr>\n",
              "      <th>75</th>\n",
              "      <td>Apa itu PMMB?</td>\n",
              "      <td>penjelasan_PMMB</td>\n",
              "    </tr>\n",
              "    <tr>\n",
              "      <th>76</th>\n",
              "      <td>Apa saja persyaratan IISMA?</td>\n",
              "      <td>persyaratan_IISMA</td>\n",
              "    </tr>\n",
              "    <tr>\n",
              "      <th>77</th>\n",
              "      <td>Bagaimana periode pelaksanaan dan cara mendaft...</td>\n",
              "      <td>periode_dan_pendaftaran_PMMB</td>\n",
              "    </tr>\n",
              "    <tr>\n",
              "      <th>78</th>\n",
              "      <td>Apa saja manfaat apabila mengikuti PMMB?</td>\n",
              "      <td>manfaat_PMMB</td>\n",
              "    </tr>\n",
              "    <tr>\n",
              "      <th>79</th>\n",
              "      <td>Apa saja universitas yang tergabung dalam prog...</td>\n",
              "      <td>mitra_PMMB</td>\n",
              "    </tr>\n",
              "  </tbody>\n",
              "</table>\n",
              "<p>80 rows × 2 columns</p>\n",
              "</div>\n",
              "      <button class=\"colab-df-convert\" onclick=\"convertToInteractive('df-90d8f0af-5502-463f-a71a-0d2cfc5b0acd')\"\n",
              "              title=\"Convert this dataframe to an interactive table.\"\n",
              "              style=\"display:none;\">\n",
              "        \n",
              "  <svg xmlns=\"http://www.w3.org/2000/svg\" height=\"24px\"viewBox=\"0 0 24 24\"\n",
              "       width=\"24px\">\n",
              "    <path d=\"M0 0h24v24H0V0z\" fill=\"none\"/>\n",
              "    <path d=\"M18.56 5.44l.94 2.06.94-2.06 2.06-.94-2.06-.94-.94-2.06-.94 2.06-2.06.94zm-11 1L8.5 8.5l.94-2.06 2.06-.94-2.06-.94L8.5 2.5l-.94 2.06-2.06.94zm10 10l.94 2.06.94-2.06 2.06-.94-2.06-.94-.94-2.06-.94 2.06-2.06.94z\"/><path d=\"M17.41 7.96l-1.37-1.37c-.4-.4-.92-.59-1.43-.59-.52 0-1.04.2-1.43.59L10.3 9.45l-7.72 7.72c-.78.78-.78 2.05 0 2.83L4 21.41c.39.39.9.59 1.41.59.51 0 1.02-.2 1.41-.59l7.78-7.78 2.81-2.81c.8-.78.8-2.07 0-2.86zM5.41 20L4 18.59l7.72-7.72 1.47 1.35L5.41 20z\"/>\n",
              "  </svg>\n",
              "      </button>\n",
              "      \n",
              "  <style>\n",
              "    .colab-df-container {\n",
              "      display:flex;\n",
              "      flex-wrap:wrap;\n",
              "      gap: 12px;\n",
              "    }\n",
              "\n",
              "    .colab-df-convert {\n",
              "      background-color: #E8F0FE;\n",
              "      border: none;\n",
              "      border-radius: 50%;\n",
              "      cursor: pointer;\n",
              "      display: none;\n",
              "      fill: #1967D2;\n",
              "      height: 32px;\n",
              "      padding: 0 0 0 0;\n",
              "      width: 32px;\n",
              "    }\n",
              "\n",
              "    .colab-df-convert:hover {\n",
              "      background-color: #E2EBFA;\n",
              "      box-shadow: 0px 1px 2px rgba(60, 64, 67, 0.3), 0px 1px 3px 1px rgba(60, 64, 67, 0.15);\n",
              "      fill: #174EA6;\n",
              "    }\n",
              "\n",
              "    [theme=dark] .colab-df-convert {\n",
              "      background-color: #3B4455;\n",
              "      fill: #D2E3FC;\n",
              "    }\n",
              "\n",
              "    [theme=dark] .colab-df-convert:hover {\n",
              "      background-color: #434B5C;\n",
              "      box-shadow: 0px 1px 3px 1px rgba(0, 0, 0, 0.15);\n",
              "      filter: drop-shadow(0px 1px 2px rgba(0, 0, 0, 0.3));\n",
              "      fill: #FFFFFF;\n",
              "    }\n",
              "  </style>\n",
              "\n",
              "      <script>\n",
              "        const buttonEl =\n",
              "          document.querySelector('#df-90d8f0af-5502-463f-a71a-0d2cfc5b0acd button.colab-df-convert');\n",
              "        buttonEl.style.display =\n",
              "          google.colab.kernel.accessAllowed ? 'block' : 'none';\n",
              "\n",
              "        async function convertToInteractive(key) {\n",
              "          const element = document.querySelector('#df-90d8f0af-5502-463f-a71a-0d2cfc5b0acd');\n",
              "          const dataTable =\n",
              "            await google.colab.kernel.invokeFunction('convertToInteractive',\n",
              "                                                     [key], {});\n",
              "          if (!dataTable) return;\n",
              "\n",
              "          const docLinkHtml = 'Like what you see? Visit the ' +\n",
              "            '<a target=\"_blank\" href=https://colab.research.google.com/notebooks/data_table.ipynb>data table notebook</a>'\n",
              "            + ' to learn more about interactive tables.';\n",
              "          element.innerHTML = '';\n",
              "          dataTable['output_type'] = 'display_data';\n",
              "          await google.colab.output.renderOutput(dataTable, element);\n",
              "          const docLink = document.createElement('div');\n",
              "          docLink.innerHTML = docLinkHtml;\n",
              "          element.appendChild(docLink);\n",
              "        }\n",
              "      </script>\n",
              "    </div>\n",
              "  </div>\n",
              "  "
            ]
          },
          "metadata": {},
          "execution_count": 7
        }
      ]
    },
    {
      "cell_type": "markdown",
      "source": [
        "## Menampilkan baris pertama sampai baris kelima"
      ],
      "metadata": {
        "id": "6yQP9aIGRBtt"
      }
    },
    {
      "cell_type": "code",
      "source": [
        "# Cetak data baris pertama sampai baris kelima\n",
        "data.head()"
      ],
      "metadata": {
        "colab": {
          "base_uri": "https://localhost:8080/",
          "height": 206
        },
        "id": "40fvLfloCEIP",
        "outputId": "845dc4ff-84f1-4bbb-bdd3-62ffc8bdf45b"
      },
      "execution_count": null,
      "outputs": [
        {
          "output_type": "execute_result",
          "data": {
            "text/plain": [
              "  patterns      tags\n",
              "0    hallo  greeting\n",
              "1      hai  greeting\n",
              "2     halo  greeting\n",
              "3      hei  greeting\n",
              "4       hi  greeting"
            ],
            "text/html": [
              "\n",
              "  <div id=\"df-01aa5884-fedb-4b1c-907b-b5b396a02cb0\">\n",
              "    <div class=\"colab-df-container\">\n",
              "      <div>\n",
              "<style scoped>\n",
              "    .dataframe tbody tr th:only-of-type {\n",
              "        vertical-align: middle;\n",
              "    }\n",
              "\n",
              "    .dataframe tbody tr th {\n",
              "        vertical-align: top;\n",
              "    }\n",
              "\n",
              "    .dataframe thead th {\n",
              "        text-align: right;\n",
              "    }\n",
              "</style>\n",
              "<table border=\"1\" class=\"dataframe\">\n",
              "  <thead>\n",
              "    <tr style=\"text-align: right;\">\n",
              "      <th></th>\n",
              "      <th>patterns</th>\n",
              "      <th>tags</th>\n",
              "    </tr>\n",
              "  </thead>\n",
              "  <tbody>\n",
              "    <tr>\n",
              "      <th>0</th>\n",
              "      <td>hallo</td>\n",
              "      <td>greeting</td>\n",
              "    </tr>\n",
              "    <tr>\n",
              "      <th>1</th>\n",
              "      <td>hai</td>\n",
              "      <td>greeting</td>\n",
              "    </tr>\n",
              "    <tr>\n",
              "      <th>2</th>\n",
              "      <td>halo</td>\n",
              "      <td>greeting</td>\n",
              "    </tr>\n",
              "    <tr>\n",
              "      <th>3</th>\n",
              "      <td>hei</td>\n",
              "      <td>greeting</td>\n",
              "    </tr>\n",
              "    <tr>\n",
              "      <th>4</th>\n",
              "      <td>hi</td>\n",
              "      <td>greeting</td>\n",
              "    </tr>\n",
              "  </tbody>\n",
              "</table>\n",
              "</div>\n",
              "      <button class=\"colab-df-convert\" onclick=\"convertToInteractive('df-01aa5884-fedb-4b1c-907b-b5b396a02cb0')\"\n",
              "              title=\"Convert this dataframe to an interactive table.\"\n",
              "              style=\"display:none;\">\n",
              "        \n",
              "  <svg xmlns=\"http://www.w3.org/2000/svg\" height=\"24px\"viewBox=\"0 0 24 24\"\n",
              "       width=\"24px\">\n",
              "    <path d=\"M0 0h24v24H0V0z\" fill=\"none\"/>\n",
              "    <path d=\"M18.56 5.44l.94 2.06.94-2.06 2.06-.94-2.06-.94-.94-2.06-.94 2.06-2.06.94zm-11 1L8.5 8.5l.94-2.06 2.06-.94-2.06-.94L8.5 2.5l-.94 2.06-2.06.94zm10 10l.94 2.06.94-2.06 2.06-.94-2.06-.94-.94-2.06-.94 2.06-2.06.94z\"/><path d=\"M17.41 7.96l-1.37-1.37c-.4-.4-.92-.59-1.43-.59-.52 0-1.04.2-1.43.59L10.3 9.45l-7.72 7.72c-.78.78-.78 2.05 0 2.83L4 21.41c.39.39.9.59 1.41.59.51 0 1.02-.2 1.41-.59l7.78-7.78 2.81-2.81c.8-.78.8-2.07 0-2.86zM5.41 20L4 18.59l7.72-7.72 1.47 1.35L5.41 20z\"/>\n",
              "  </svg>\n",
              "      </button>\n",
              "      \n",
              "  <style>\n",
              "    .colab-df-container {\n",
              "      display:flex;\n",
              "      flex-wrap:wrap;\n",
              "      gap: 12px;\n",
              "    }\n",
              "\n",
              "    .colab-df-convert {\n",
              "      background-color: #E8F0FE;\n",
              "      border: none;\n",
              "      border-radius: 50%;\n",
              "      cursor: pointer;\n",
              "      display: none;\n",
              "      fill: #1967D2;\n",
              "      height: 32px;\n",
              "      padding: 0 0 0 0;\n",
              "      width: 32px;\n",
              "    }\n",
              "\n",
              "    .colab-df-convert:hover {\n",
              "      background-color: #E2EBFA;\n",
              "      box-shadow: 0px 1px 2px rgba(60, 64, 67, 0.3), 0px 1px 3px 1px rgba(60, 64, 67, 0.15);\n",
              "      fill: #174EA6;\n",
              "    }\n",
              "\n",
              "    [theme=dark] .colab-df-convert {\n",
              "      background-color: #3B4455;\n",
              "      fill: #D2E3FC;\n",
              "    }\n",
              "\n",
              "    [theme=dark] .colab-df-convert:hover {\n",
              "      background-color: #434B5C;\n",
              "      box-shadow: 0px 1px 3px 1px rgba(0, 0, 0, 0.15);\n",
              "      filter: drop-shadow(0px 1px 2px rgba(0, 0, 0, 0.3));\n",
              "      fill: #FFFFFF;\n",
              "    }\n",
              "  </style>\n",
              "\n",
              "      <script>\n",
              "        const buttonEl =\n",
              "          document.querySelector('#df-01aa5884-fedb-4b1c-907b-b5b396a02cb0 button.colab-df-convert');\n",
              "        buttonEl.style.display =\n",
              "          google.colab.kernel.accessAllowed ? 'block' : 'none';\n",
              "\n",
              "        async function convertToInteractive(key) {\n",
              "          const element = document.querySelector('#df-01aa5884-fedb-4b1c-907b-b5b396a02cb0');\n",
              "          const dataTable =\n",
              "            await google.colab.kernel.invokeFunction('convertToInteractive',\n",
              "                                                     [key], {});\n",
              "          if (!dataTable) return;\n",
              "\n",
              "          const docLinkHtml = 'Like what you see? Visit the ' +\n",
              "            '<a target=\"_blank\" href=https://colab.research.google.com/notebooks/data_table.ipynb>data table notebook</a>'\n",
              "            + ' to learn more about interactive tables.';\n",
              "          element.innerHTML = '';\n",
              "          dataTable['output_type'] = 'display_data';\n",
              "          await google.colab.output.renderOutput(dataTable, element);\n",
              "          const docLink = document.createElement('div');\n",
              "          docLink.innerHTML = docLinkHtml;\n",
              "          element.appendChild(docLink);\n",
              "        }\n",
              "      </script>\n",
              "    </div>\n",
              "  </div>\n",
              "  "
            ]
          },
          "metadata": {},
          "execution_count": 8
        }
      ]
    },
    {
      "cell_type": "markdown",
      "source": [
        "## Menampilkan data baris ke -70 dampai baris terakhir"
      ],
      "metadata": {
        "id": "27Cbxpp1RNM1"
      }
    },
    {
      "cell_type": "code",
      "source": [
        "# Cetak data baris ke-70 sampai baris akhir\n",
        "data.tail(10)"
      ],
      "metadata": {
        "colab": {
          "base_uri": "https://localhost:8080/",
          "height": 363
        },
        "id": "RMXrI46kCMMM",
        "outputId": "9bd80c85-0dcd-47e2-96e2-a396e335134c"
      },
      "execution_count": null,
      "outputs": [
        {
          "output_type": "execute_result",
          "data": {
            "text/plain": [
              "                                             patterns  \\\n",
              "70  Apa saja manfaat apabila mengikuti Pertukaran ...   \n",
              "71                              Apa itu Pejuang Muda?   \n",
              "72                 Apa saja persyaratan Pejuang Muda?   \n",
              "73  Bagaimana periode pelaksanaan dan cara mendaft...   \n",
              "74   Apa saja manfaat apabila mengikuti Pejuang Muda?   \n",
              "75                                      Apa itu PMMB?   \n",
              "76                        Apa saja persyaratan IISMA?   \n",
              "77  Bagaimana periode pelaksanaan dan cara mendaft...   \n",
              "78           Apa saja manfaat apabila mengikuti PMMB?   \n",
              "79  Apa saja universitas yang tergabung dalam prog...   \n",
              "\n",
              "                                    tags  \n",
              "70          manfaat_pertukaran_mahasiswa  \n",
              "71               penjelasan_pejuang_muda  \n",
              "72              persyaratan_pejuang_muda  \n",
              "73  periode_dan_pendaftaran_pejuang_muda  \n",
              "74                  manfaat_pejuang_muda  \n",
              "75                       penjelasan_PMMB  \n",
              "76                     persyaratan_IISMA  \n",
              "77          periode_dan_pendaftaran_PMMB  \n",
              "78                          manfaat_PMMB  \n",
              "79                            mitra_PMMB  "
            ],
            "text/html": [
              "\n",
              "  <div id=\"df-adef179d-aa1d-4164-b7de-82a7780b5a7d\">\n",
              "    <div class=\"colab-df-container\">\n",
              "      <div>\n",
              "<style scoped>\n",
              "    .dataframe tbody tr th:only-of-type {\n",
              "        vertical-align: middle;\n",
              "    }\n",
              "\n",
              "    .dataframe tbody tr th {\n",
              "        vertical-align: top;\n",
              "    }\n",
              "\n",
              "    .dataframe thead th {\n",
              "        text-align: right;\n",
              "    }\n",
              "</style>\n",
              "<table border=\"1\" class=\"dataframe\">\n",
              "  <thead>\n",
              "    <tr style=\"text-align: right;\">\n",
              "      <th></th>\n",
              "      <th>patterns</th>\n",
              "      <th>tags</th>\n",
              "    </tr>\n",
              "  </thead>\n",
              "  <tbody>\n",
              "    <tr>\n",
              "      <th>70</th>\n",
              "      <td>Apa saja manfaat apabila mengikuti Pertukaran ...</td>\n",
              "      <td>manfaat_pertukaran_mahasiswa</td>\n",
              "    </tr>\n",
              "    <tr>\n",
              "      <th>71</th>\n",
              "      <td>Apa itu Pejuang Muda?</td>\n",
              "      <td>penjelasan_pejuang_muda</td>\n",
              "    </tr>\n",
              "    <tr>\n",
              "      <th>72</th>\n",
              "      <td>Apa saja persyaratan Pejuang Muda?</td>\n",
              "      <td>persyaratan_pejuang_muda</td>\n",
              "    </tr>\n",
              "    <tr>\n",
              "      <th>73</th>\n",
              "      <td>Bagaimana periode pelaksanaan dan cara mendaft...</td>\n",
              "      <td>periode_dan_pendaftaran_pejuang_muda</td>\n",
              "    </tr>\n",
              "    <tr>\n",
              "      <th>74</th>\n",
              "      <td>Apa saja manfaat apabila mengikuti Pejuang Muda?</td>\n",
              "      <td>manfaat_pejuang_muda</td>\n",
              "    </tr>\n",
              "    <tr>\n",
              "      <th>75</th>\n",
              "      <td>Apa itu PMMB?</td>\n",
              "      <td>penjelasan_PMMB</td>\n",
              "    </tr>\n",
              "    <tr>\n",
              "      <th>76</th>\n",
              "      <td>Apa saja persyaratan IISMA?</td>\n",
              "      <td>persyaratan_IISMA</td>\n",
              "    </tr>\n",
              "    <tr>\n",
              "      <th>77</th>\n",
              "      <td>Bagaimana periode pelaksanaan dan cara mendaft...</td>\n",
              "      <td>periode_dan_pendaftaran_PMMB</td>\n",
              "    </tr>\n",
              "    <tr>\n",
              "      <th>78</th>\n",
              "      <td>Apa saja manfaat apabila mengikuti PMMB?</td>\n",
              "      <td>manfaat_PMMB</td>\n",
              "    </tr>\n",
              "    <tr>\n",
              "      <th>79</th>\n",
              "      <td>Apa saja universitas yang tergabung dalam prog...</td>\n",
              "      <td>mitra_PMMB</td>\n",
              "    </tr>\n",
              "  </tbody>\n",
              "</table>\n",
              "</div>\n",
              "      <button class=\"colab-df-convert\" onclick=\"convertToInteractive('df-adef179d-aa1d-4164-b7de-82a7780b5a7d')\"\n",
              "              title=\"Convert this dataframe to an interactive table.\"\n",
              "              style=\"display:none;\">\n",
              "        \n",
              "  <svg xmlns=\"http://www.w3.org/2000/svg\" height=\"24px\"viewBox=\"0 0 24 24\"\n",
              "       width=\"24px\">\n",
              "    <path d=\"M0 0h24v24H0V0z\" fill=\"none\"/>\n",
              "    <path d=\"M18.56 5.44l.94 2.06.94-2.06 2.06-.94-2.06-.94-.94-2.06-.94 2.06-2.06.94zm-11 1L8.5 8.5l.94-2.06 2.06-.94-2.06-.94L8.5 2.5l-.94 2.06-2.06.94zm10 10l.94 2.06.94-2.06 2.06-.94-2.06-.94-.94-2.06-.94 2.06-2.06.94z\"/><path d=\"M17.41 7.96l-1.37-1.37c-.4-.4-.92-.59-1.43-.59-.52 0-1.04.2-1.43.59L10.3 9.45l-7.72 7.72c-.78.78-.78 2.05 0 2.83L4 21.41c.39.39.9.59 1.41.59.51 0 1.02-.2 1.41-.59l7.78-7.78 2.81-2.81c.8-.78.8-2.07 0-2.86zM5.41 20L4 18.59l7.72-7.72 1.47 1.35L5.41 20z\"/>\n",
              "  </svg>\n",
              "      </button>\n",
              "      \n",
              "  <style>\n",
              "    .colab-df-container {\n",
              "      display:flex;\n",
              "      flex-wrap:wrap;\n",
              "      gap: 12px;\n",
              "    }\n",
              "\n",
              "    .colab-df-convert {\n",
              "      background-color: #E8F0FE;\n",
              "      border: none;\n",
              "      border-radius: 50%;\n",
              "      cursor: pointer;\n",
              "      display: none;\n",
              "      fill: #1967D2;\n",
              "      height: 32px;\n",
              "      padding: 0 0 0 0;\n",
              "      width: 32px;\n",
              "    }\n",
              "\n",
              "    .colab-df-convert:hover {\n",
              "      background-color: #E2EBFA;\n",
              "      box-shadow: 0px 1px 2px rgba(60, 64, 67, 0.3), 0px 1px 3px 1px rgba(60, 64, 67, 0.15);\n",
              "      fill: #174EA6;\n",
              "    }\n",
              "\n",
              "    [theme=dark] .colab-df-convert {\n",
              "      background-color: #3B4455;\n",
              "      fill: #D2E3FC;\n",
              "    }\n",
              "\n",
              "    [theme=dark] .colab-df-convert:hover {\n",
              "      background-color: #434B5C;\n",
              "      box-shadow: 0px 1px 3px 1px rgba(0, 0, 0, 0.15);\n",
              "      filter: drop-shadow(0px 1px 2px rgba(0, 0, 0, 0.3));\n",
              "      fill: #FFFFFF;\n",
              "    }\n",
              "  </style>\n",
              "\n",
              "      <script>\n",
              "        const buttonEl =\n",
              "          document.querySelector('#df-adef179d-aa1d-4164-b7de-82a7780b5a7d button.colab-df-convert');\n",
              "        buttonEl.style.display =\n",
              "          google.colab.kernel.accessAllowed ? 'block' : 'none';\n",
              "\n",
              "        async function convertToInteractive(key) {\n",
              "          const element = document.querySelector('#df-adef179d-aa1d-4164-b7de-82a7780b5a7d');\n",
              "          const dataTable =\n",
              "            await google.colab.kernel.invokeFunction('convertToInteractive',\n",
              "                                                     [key], {});\n",
              "          if (!dataTable) return;\n",
              "\n",
              "          const docLinkHtml = 'Like what you see? Visit the ' +\n",
              "            '<a target=\"_blank\" href=https://colab.research.google.com/notebooks/data_table.ipynb>data table notebook</a>'\n",
              "            + ' to learn more about interactive tables.';\n",
              "          element.innerHTML = '';\n",
              "          dataTable['output_type'] = 'display_data';\n",
              "          await google.colab.output.renderOutput(dataTable, element);\n",
              "          const docLink = document.createElement('div');\n",
              "          docLink.innerHTML = docLinkHtml;\n",
              "          element.appendChild(docLink);\n",
              "        }\n",
              "      </script>\n",
              "    </div>\n",
              "  </div>\n",
              "  "
            ]
          },
          "metadata": {},
          "execution_count": 9
        }
      ]
    },
    {
      "cell_type": "markdown",
      "source": [
        "## Remove Punctuations"
      ],
      "metadata": {
        "id": "6q1cHJLARW2e"
      }
    },
    {
      "cell_type": "code",
      "source": [
        "data['patterns'] = data['patterns'].apply(lambda wrd:[ltrs.lower()for ltrs in wrd if ltrs not in string.punctuation])\n",
        "data['patterns'] = data['patterns'].apply(lambda wrd: ''.join(wrd))"
      ],
      "metadata": {
        "id": "3r5eN3kI6pxE"
      },
      "execution_count": null,
      "outputs": []
    },
    {
      "cell_type": "markdown",
      "source": [
        "## Lemmatization (Lematisasi)"
      ],
      "metadata": {
        "id": "X_-87VKrRYEe"
      }
    },
    {
      "cell_type": "code",
      "source": [
        "lemmatizer = WordNetLemmatizer()\n",
        "words = [lemmatizer.lemmatize(w.lower()) for w in words if w not in ignore_words]\n",
        "words = sorted(list(set(words)))\n",
        "\n",
        "print(len(words), \"Unique lemmatized words\", words)"
      ],
      "metadata": {
        "colab": {
          "base_uri": "https://localhost:8080/"
        },
        "id": "iEjaaYdpAdkm",
        "outputId": "c8727c48-5041-412c-da8e-c1efe693010b"
      },
      "execution_count": null,
      "outputs": [
        {
          "output_type": "stream",
          "name": "stdout",
          "text": [
            "78 Unique lemmatized words [',', 'afternoon', 'apa', 'apabila', 'bagaimana', 'bai', 'banyak', 'bersertifikat', 'bro', 'buat', 'bumn', 'bye', 'byee', 'cara', 'dadah', 'dah', 'dalam', 'dan', 'good', 'hai', 'hallo', 'halo', 'hei', 'hi', 'hy', 'iisma', 'independen', 'itu', 'jumpa', 'kadek', 'kadekbot', 'kampus', 'kamu', 'kasih', 'kawan', 'kemendikbud', 'kemensos', 'magang', 'mahasiswa', 'makasih', 'malam', 'manfaat', 'mendaftar', 'mengajar', 'mengikuti', 'merdeka', 'mitra', 'morning', 'muda', 'pagi', 'pejuang', 'pelaksanaan', 'pembuatmu', 'penciptamu', 'periode', 'persyaratan', 'pertukaran', 'pmmb', 'program', 'saja', 'sampai', 'see', 'selamat', 'si', 'siang', 'siapa', 'sih', 'sore', 'studi', 'tergabung', 'terima', 'thank', 'thanks', 'tinggal', 'tujuan', 'universitas', 'yang', 'you']\n"
          ]
        }
      ]
    },
    {
      "cell_type": "markdown",
      "source": [
        "## Menyortir Data Kelas Tags"
      ],
      "metadata": {
        "id": "V36X30aCRcTp"
      }
    },
    {
      "cell_type": "code",
      "source": [
        "# sort classes\n",
        "classes = sorted(list(set(classes)))\n",
        "print (len(classes), \"classes\", classes)"
      ],
      "metadata": {
        "colab": {
          "base_uri": "https://localhost:8080/"
        },
        "id": "jnwZCiMQBMP1",
        "outputId": "bcb4cd3e-d794-4699-b0f6-e0c456575c4f"
      },
      "execution_count": null,
      "outputs": [
        {
          "output_type": "stream",
          "name": "stdout",
          "text": [
            "40 classes ['goodbye', 'greeting', 'kadekbot', 'manfaat_IISMA', 'manfaat_PMMB', 'manfaat_kampus_mengajar', 'manfaat_magang', 'manfaat_pejuang_muda', 'manfaat_pertukaran_mahasiswa', 'manfaat_studi_independen', 'mitra_IISMA', 'mitra_PMMB', 'mitra_magang', 'mitra_studi_independen', 'pencipta_kadekbot', 'penjelasan_IISMA', 'penjelasan_PMMB', 'penjelasan_kampus_mengajar', 'penjelasan_kampus_merdeka', 'penjelasan_magang', 'penjelasan_pejuang_muda', 'penjelasan_pertukaran_mahasiswa', 'penjelasan_studi_independen', 'periode_dan_pendaftaran_IISMA', 'periode_dan_pendaftaran_PMMB', 'periode_dan_pendaftaran_kampus_mengajar', 'periode_dan_pendaftaran_magang', 'periode_dan_pendaftaran_pejuang_muda', 'periode_dan_pendaftaran_pertukaran_mahasiswa', 'periode_dan_pendaftaran_studi_independen', 'persyaratan_IISMA', 'persyaratan_kampus_mengajar', 'persyaratan_kampus_merdeka', 'persyaratan_magang', 'persyaratan_pejuang_muda', 'persyaratan_pertukaran_mahasiswa', 'persyaratan_studi_independen', 'program_kampus_merdeka', 'terimakasih', 'tujuan_kampus_merdeka']\n"
          ]
        }
      ]
    },
    {
      "cell_type": "markdown",
      "source": [
        "## Mencari Jumlah Keseluruhan Data Teks"
      ],
      "metadata": {
        "id": "QRaQ4zH6RgNp"
      }
    },
    {
      "cell_type": "code",
      "source": [
        "# documents = combination between patterns and intents\n",
        "print (len(documents), \"documents\")"
      ],
      "metadata": {
        "colab": {
          "base_uri": "https://localhost:8080/"
        },
        "id": "_zmAB09CBP7N",
        "outputId": "05b2ec25-50f2-453c-d45e-ea639ebec087"
      },
      "execution_count": null,
      "outputs": [
        {
          "output_type": "stream",
          "name": "stdout",
          "text": [
            "438 documents\n"
          ]
        }
      ]
    },
    {
      "cell_type": "markdown",
      "source": [
        "## Tokenization (Tokenisasi)"
      ],
      "metadata": {
        "id": "Bdw1x5j7RjhZ"
      }
    },
    {
      "cell_type": "code",
      "source": [
        "tokenizer = Tokenizer(num_words=2000)\n",
        "tokenizer.fit_on_texts(data['patterns'])\n",
        "train = tokenizer.texts_to_sequences(data['patterns'])\n",
        "train"
      ],
      "metadata": {
        "colab": {
          "base_uri": "https://localhost:8080/"
        },
        "id": "M7uS4JZUBP1w",
        "outputId": "a202a97b-9d1e-4f35-95b0-2d191e72f52e"
      },
      "execution_count": null,
      "outputs": [
        {
          "output_type": "execute_result",
          "data": {
            "text/plain": [
              "[[40],\n",
              " [41],\n",
              " [42],\n",
              " [43],\n",
              " [44],\n",
              " [45],\n",
              " [46],\n",
              " [47],\n",
              " [48],\n",
              " [49],\n",
              " [50],\n",
              " [51],\n",
              " [52],\n",
              " [53],\n",
              " [54],\n",
              " [1, 6, 32],\n",
              " [29, 32],\n",
              " [29, 55],\n",
              " [33, 21, 56, 57, 29, 58],\n",
              " [29, 59, 33],\n",
              " [60],\n",
              " [61],\n",
              " [34],\n",
              " [62],\n",
              " [63, 34],\n",
              " [64, 65],\n",
              " [66, 67],\n",
              " [68],\n",
              " [69, 35],\n",
              " [70],\n",
              " [71, 35],\n",
              " [36, 37],\n",
              " [72],\n",
              " [36, 37, 73],\n",
              " [1, 6, 4, 5],\n",
              " [1, 74, 4, 5],\n",
              " [1, 7, 8, 4, 5],\n",
              " [1, 2, 3, 4, 5],\n",
              " [3, 4, 5, 75],\n",
              " [3, 4, 5, 76],\n",
              " [3, 4, 5, 77],\n",
              " [18, 19],\n",
              " [20],\n",
              " [4, 22],\n",
              " [9],\n",
              " [23, 24, 5],\n",
              " [25, 26],\n",
              " [27],\n",
              " [1, 6, 18, 19],\n",
              " [1, 2, 7, 18, 19],\n",
              " [10, 11, 12, 13, 14, 15, 3, 18, 19],\n",
              " [1, 2, 16, 17, 8, 18, 19],\n",
              " [1, 2, 38, 21, 30, 31, 18, 19],\n",
              " [1, 6, 20, 28],\n",
              " [1, 2, 7, 20, 28],\n",
              " [10, 11, 12, 13, 14, 15, 3, 20, 28],\n",
              " [1, 2, 16, 17, 8, 20, 28],\n",
              " [1, 2, 38, 21, 30, 31, 20, 28],\n",
              " [1, 6, 4, 22],\n",
              " [1, 2, 7, 4, 22],\n",
              " [10, 11, 12, 13, 14, 15, 3, 4, 22],\n",
              " [1, 2, 16, 17, 8, 4, 22],\n",
              " [1, 6, 9],\n",
              " [1, 2, 7, 9],\n",
              " [10, 11, 12, 13, 14, 15, 3, 9],\n",
              " [1, 2, 16, 17, 8, 9],\n",
              " [1, 2, 39, 21, 30, 31, 3, 9],\n",
              " [1, 6, 23, 24, 5],\n",
              " [1, 2, 7, 23, 24, 5],\n",
              " [10, 11, 12, 13, 14, 15, 3, 23, 24, 5],\n",
              " [1, 2, 16, 17, 8, 23, 24, 5],\n",
              " [1, 6, 25, 26],\n",
              " [1, 2, 7, 25, 26],\n",
              " [10, 11, 12, 13, 14, 15, 3, 25, 26],\n",
              " [1, 2, 16, 17, 8, 25, 26],\n",
              " [1, 6, 27],\n",
              " [1, 2, 7, 9],\n",
              " [10, 11, 12, 13, 14, 15, 3, 27],\n",
              " [1, 2, 16, 17, 8, 27],\n",
              " [1, 2, 39, 21, 30, 31, 3, 27]]"
            ]
          },
          "metadata": {},
          "execution_count": 14
        }
      ]
    },
    {
      "cell_type": "markdown",
      "source": [
        "## Padding"
      ],
      "metadata": {
        "id": "S3-ou2scRrER"
      }
    },
    {
      "cell_type": "code",
      "source": [
        "# Apply padding \n",
        "x_train = pad_sequences(train)\n",
        "print(x_train) # Padding Sequences"
      ],
      "metadata": {
        "colab": {
          "base_uri": "https://localhost:8080/"
        },
        "id": "tGOM62agDbX1",
        "outputId": "a15149d6-6d37-44f9-c594-e0fcc017a20a"
      },
      "execution_count": null,
      "outputs": [
        {
          "output_type": "stream",
          "name": "stdout",
          "text": [
            "[[ 0  0  0  0  0  0  0  0  0 40]\n",
            " [ 0  0  0  0  0  0  0  0  0 41]\n",
            " [ 0  0  0  0  0  0  0  0  0 42]\n",
            " [ 0  0  0  0  0  0  0  0  0 43]\n",
            " [ 0  0  0  0  0  0  0  0  0 44]\n",
            " [ 0  0  0  0  0  0  0  0  0 45]\n",
            " [ 0  0  0  0  0  0  0  0  0 46]\n",
            " [ 0  0  0  0  0  0  0  0  0 47]\n",
            " [ 0  0  0  0  0  0  0  0  0 48]\n",
            " [ 0  0  0  0  0  0  0  0  0 49]\n",
            " [ 0  0  0  0  0  0  0  0  0 50]\n",
            " [ 0  0  0  0  0  0  0  0  0 51]\n",
            " [ 0  0  0  0  0  0  0  0  0 52]\n",
            " [ 0  0  0  0  0  0  0  0  0 53]\n",
            " [ 0  0  0  0  0  0  0  0  0 54]\n",
            " [ 0  0  0  0  0  0  0  1  6 32]\n",
            " [ 0  0  0  0  0  0  0  0 29 32]\n",
            " [ 0  0  0  0  0  0  0  0 29 55]\n",
            " [ 0  0  0  0 33 21 56 57 29 58]\n",
            " [ 0  0  0  0  0  0  0 29 59 33]\n",
            " [ 0  0  0  0  0  0  0  0  0 60]\n",
            " [ 0  0  0  0  0  0  0  0  0 61]\n",
            " [ 0  0  0  0  0  0  0  0  0 34]\n",
            " [ 0  0  0  0  0  0  0  0  0 62]\n",
            " [ 0  0  0  0  0  0  0  0 63 34]\n",
            " [ 0  0  0  0  0  0  0  0 64 65]\n",
            " [ 0  0  0  0  0  0  0  0 66 67]\n",
            " [ 0  0  0  0  0  0  0  0  0 68]\n",
            " [ 0  0  0  0  0  0  0  0 69 35]\n",
            " [ 0  0  0  0  0  0  0  0  0 70]\n",
            " [ 0  0  0  0  0  0  0  0 71 35]\n",
            " [ 0  0  0  0  0  0  0  0 36 37]\n",
            " [ 0  0  0  0  0  0  0  0  0 72]\n",
            " [ 0  0  0  0  0  0  0 36 37 73]\n",
            " [ 0  0  0  0  0  0  1  6  4  5]\n",
            " [ 0  0  0  0  0  0  1 74  4  5]\n",
            " [ 0  0  0  0  0  1  7  8  4  5]\n",
            " [ 0  0  0  0  0  1  2  3  4  5]\n",
            " [ 0  0  0  0  0  0  3  4  5 75]\n",
            " [ 0  0  0  0  0  0  3  4  5 76]\n",
            " [ 0  0  0  0  0  0  3  4  5 77]\n",
            " [ 0  0  0  0  0  0  0  0 18 19]\n",
            " [ 0  0  0  0  0  0  0  0  0 20]\n",
            " [ 0  0  0  0  0  0  0  0  4 22]\n",
            " [ 0  0  0  0  0  0  0  0  0  9]\n",
            " [ 0  0  0  0  0  0  0 23 24  5]\n",
            " [ 0  0  0  0  0  0  0  0 25 26]\n",
            " [ 0  0  0  0  0  0  0  0  0 27]\n",
            " [ 0  0  0  0  0  0  1  6 18 19]\n",
            " [ 0  0  0  0  0  1  2  7 18 19]\n",
            " [ 0 10 11 12 13 14 15  3 18 19]\n",
            " [ 0  0  0  1  2 16 17  8 18 19]\n",
            " [ 0  0  1  2 38 21 30 31 18 19]\n",
            " [ 0  0  0  0  0  0  1  6 20 28]\n",
            " [ 0  0  0  0  0  1  2  7 20 28]\n",
            " [ 0 10 11 12 13 14 15  3 20 28]\n",
            " [ 0  0  0  1  2 16 17  8 20 28]\n",
            " [ 0  0  1  2 38 21 30 31 20 28]\n",
            " [ 0  0  0  0  0  0  1  6  4 22]\n",
            " [ 0  0  0  0  0  1  2  7  4 22]\n",
            " [ 0 10 11 12 13 14 15  3  4 22]\n",
            " [ 0  0  0  1  2 16 17  8  4 22]\n",
            " [ 0  0  0  0  0  0  0  1  6  9]\n",
            " [ 0  0  0  0  0  0  1  2  7  9]\n",
            " [ 0  0 10 11 12 13 14 15  3  9]\n",
            " [ 0  0  0  0  1  2 16 17  8  9]\n",
            " [ 0  0  1  2 39 21 30 31  3  9]\n",
            " [ 0  0  0  0  0  1  6 23 24  5]\n",
            " [ 0  0  0  0  1  2  7 23 24  5]\n",
            " [10 11 12 13 14 15  3 23 24  5]\n",
            " [ 0  0  1  2 16 17  8 23 24  5]\n",
            " [ 0  0  0  0  0  0  1  6 25 26]\n",
            " [ 0  0  0  0  0  1  2  7 25 26]\n",
            " [ 0 10 11 12 13 14 15  3 25 26]\n",
            " [ 0  0  0  1  2 16 17  8 25 26]\n",
            " [ 0  0  0  0  0  0  0  1  6 27]\n",
            " [ 0  0  0  0  0  0  1  2  7  9]\n",
            " [ 0  0 10 11 12 13 14 15  3 27]\n",
            " [ 0  0  0  0  1  2 16 17  8 27]\n",
            " [ 0  0  1  2 39 21 30 31  3 27]]\n"
          ]
        }
      ]
    },
    {
      "cell_type": "markdown",
      "source": [
        "## Encoding Text"
      ],
      "metadata": {
        "id": "CyIDcDflRvCC"
      }
    },
    {
      "cell_type": "code",
      "source": [
        "le = LabelEncoder()\n",
        "y_train = le.fit_transform(data['tags'])\n",
        "print(y_train)"
      ],
      "metadata": {
        "colab": {
          "base_uri": "https://localhost:8080/"
        },
        "id": "a2XRLq-oDgu-",
        "outputId": "c0a871d8-d71b-4ea0-e05f-20183dda09b8"
      },
      "execution_count": null,
      "outputs": [
        {
          "output_type": "stream",
          "name": "stdout",
          "text": [
            "[ 1  1  1  1  1  1  1  1  1  1  1  1  1  1  1  2  2 14 14 14  0  0  0  0\n",
            "  0  0  0  0  0 38 38 38 38 38 18 39 32 37 37 37 37 37 37 37 37 37 37 37\n",
            " 22 36 29  9 13 19 33 26  6 12 17 31 25  5 15 30 23  3 10 21 35 28  8 20\n",
            " 34 27  7 16 30 24  4 11]\n"
          ]
        }
      ]
    },
    {
      "cell_type": "markdown",
      "source": [
        "## Input Length, Output Length and Vocabulary"
      ],
      "metadata": {
        "id": "499TP3ykRyfM"
      }
    },
    {
      "cell_type": "code",
      "source": [
        "# input length\n",
        "input_shape = x_train.shape[1]\n",
        "print(input_shape)"
      ],
      "metadata": {
        "colab": {
          "base_uri": "https://localhost:8080/"
        },
        "id": "XIMsuUtkD47y",
        "outputId": "61d8c3a2-ad63-4f1d-888d-944959aa056b"
      },
      "execution_count": null,
      "outputs": [
        {
          "output_type": "stream",
          "name": "stdout",
          "text": [
            "10\n"
          ]
        }
      ]
    },
    {
      "cell_type": "code",
      "source": [
        "# define vocabulary\n",
        "vocabulary = len(tokenizer.word_index)\n",
        "print(\"number of unique words : \", vocabulary)\n",
        "\n",
        "# output length\n",
        "output_length = le.classes_.shape[0]\n",
        "print(\"output length: \", output_length)"
      ],
      "metadata": {
        "colab": {
          "base_uri": "https://localhost:8080/"
        },
        "id": "pjLxgCvID653",
        "outputId": "f9a0bbf3-4e94-4532-a491-45213338930d"
      },
      "execution_count": null,
      "outputs": [
        {
          "output_type": "stream",
          "name": "stdout",
          "text": [
            "number of unique words :  77\n",
            "output length:  40\n"
          ]
        }
      ]
    },
    {
      "cell_type": "markdown",
      "source": [
        "## Save Model Words & Classes"
      ],
      "metadata": {
        "id": "8MVDPL_cR5Kh"
      }
    },
    {
      "cell_type": "code",
      "source": [
        "pickle.dump(words, open('/content/drive/MyDrive/msib/words.pkl','wb'))\n",
        "pickle.dump(classes, open('/content/drive/MyDrive/msib/classes.pkl','wb'))"
      ],
      "metadata": {
        "id": "WscHbTkeD62e"
      },
      "execution_count": null,
      "outputs": []
    },
    {
      "cell_type": "markdown",
      "source": [
        "## Save Label Encoder & Tokenizer"
      ],
      "metadata": {
        "id": "qnx9xZOSSCIu"
      }
    },
    {
      "cell_type": "code",
      "source": [
        "pickle.dump(le, open('le.pkl','wb'))\n",
        "pickle.dump(tokenizer, open('tokenizers.pkl','wb'))"
      ],
      "metadata": {
        "id": "cDYAG826GIRE"
      },
      "execution_count": null,
      "outputs": []
    },
    {
      "cell_type": "markdown",
      "source": [
        "## Neural Network Model"
      ],
      "metadata": {
        "id": "QukpODAJSDht"
      }
    },
    {
      "cell_type": "code",
      "source": [
        "# Creating the model (Membuat Modeling)\n",
        "i = Input(shape=(input_shape,))\n",
        "x = Embedding(vocabulary+1,10)(i) # Layer Embedding\n",
        "x = LSTM(10, return_sequences=True)(x) # Layer Long Short Term Memory\n",
        "x = Flatten()(x) # Layer Flatten\n",
        "x = Dense(output_length, activation=\"softmax\")(x) # Layer Dense\n",
        "model  = Model(i,x)\n",
        "\n",
        "# Compiling the model (Kompilasi Model)\n",
        "model.compile(loss=\"sparse_categorical_crossentropy\", optimizer='adam', metrics=['accuracy'])"
      ],
      "metadata": {
        "id": "fwVL9L4KGONI"
      },
      "execution_count": null,
      "outputs": []
    },
    {
      "cell_type": "code",
      "source": [
        "# Visualization Plot Architecture Model (Visualisasi Plot Arsitektur Model)\n",
        "plot_model(model, to_file='model_plot.png', show_shapes=True, show_layer_names=True)"
      ],
      "metadata": {
        "colab": {
          "base_uri": "https://localhost:8080/",
          "height": 533
        },
        "id": "E_YxgQ8oGPxh",
        "outputId": "de4493a7-83de-4d60-b9e6-d05a147500e6"
      },
      "execution_count": null,
      "outputs": [
        {
          "output_type": "execute_result",
          "data": {
            "image/png": "[encoded data removed]",
            "text/plain": [
              "<IPython.core.display.Image object>"
            ]
          },
          "metadata": {},
          "execution_count": 27
        }
      ]
    },
    {
      "cell_type": "code",
      "source": [
        "# Menampilkan Parameter Model\n",
        "model.summary()"
      ],
      "metadata": {
        "colab": {
          "base_uri": "https://localhost:8080/"
        },
        "id": "yFhSTRyVGX-R",
        "outputId": "98cfc160-b4ec-4c94-c793-6214c10a39c5"
      },
      "execution_count": null,
      "outputs": [
        {
          "output_type": "stream",
          "name": "stdout",
          "text": [
            "Model: \"model\"\n",
            "_________________________________________________________________\n",
            " Layer (type)                Output Shape              Param #   \n",
            "=================================================================\n",
            " input_1 (InputLayer)        [(None, 10)]              0         \n",
            "                                                                 \n",
            " embedding (Embedding)       (None, 10, 10)            780       \n",
            "                                                                 \n",
            " lstm (LSTM)                 (None, 10, 10)            840       \n",
            "                                                                 \n",
            " flatten (Flatten)           (None, 100)               0         \n",
            "                                                                 \n",
            " dense (Dense)               (None, 40)                4040      \n",
            "                                                                 \n",
            "=================================================================\n",
            "Total params: 5,660\n",
            "Trainable params: 5,660\n",
            "Non-trainable params: 0\n",
            "_________________________________________________________________\n"
          ]
        }
      ]
    },
    {
      "cell_type": "code",
      "source": [
        "# Training the model (Latih model data sampai 400 kali)\n",
        "train = model.fit(x_train, y_train, epochs=400)"
      ],
      "metadata": {
        "colab": {
          "base_uri": "https://localhost:8080/"
        },
        "id": "D1Uhy6t9GaPB",
        "outputId": "614dbebc-3ab2-47c5-c724-3255e41b188c"
      },
      "execution_count": null,
      "outputs": [
        {
          "output_type": "stream",
          "name": "stdout",
          "text": [
            "Epoch 1/400\n",
            "3/3 [==============================] - 2s 8ms/step - loss: 3.6881 - accuracy: 0.0000e+00\n",
            "Epoch 2/400\n",
            "3/3 [==============================] - 0s 11ms/step - loss: 3.6826 - accuracy: 0.0125\n",
            "Epoch 3/400\n",
            "3/3 [==============================] - 0s 9ms/step - loss: 3.6766 - accuracy: 0.0125\n",
            "Epoch 4/400\n",
            "3/3 [==============================] - 0s 7ms/step - loss: 3.6697 - accuracy: 0.0125\n",
            "Epoch 5/400\n",
            "3/3 [==============================] - 0s 7ms/step - loss: 3.6612 - accuracy: 0.0125\n",
            "Epoch 6/400\n",
            "3/3 [==============================] - 0s 8ms/step - loss: 3.6508 - accuracy: 0.0625\n",
            "Epoch 7/400\n",
            "3/3 [==============================] - 0s 7ms/step - loss: 3.6377 - accuracy: 0.1375\n",
            "Epoch 8/400\n",
            "3/3 [==============================] - 0s 12ms/step - loss: 3.6226 - accuracy: 0.1375\n",
            "Epoch 9/400\n",
            "3/3 [==============================] - 0s 7ms/step - loss: 3.6019 - accuracy: 0.1375\n",
            "Epoch 10/400\n",
            "3/3 [==============================] - 0s 8ms/step - loss: 3.5787 - accuracy: 0.1375\n",
            "Epoch 11/400\n",
            "3/3 [==============================] - 0s 9ms/step - loss: 3.5511 - accuracy: 0.1375\n",
            "Epoch 12/400\n",
            "3/3 [==============================] - 0s 7ms/step - loss: 3.5154 - accuracy: 0.1375\n",
            "Epoch 13/400\n",
            "3/3 [==============================] - 0s 6ms/step - loss: 3.4737 - accuracy: 0.1375\n",
            "Epoch 14/400\n",
            "3/3 [==============================] - 0s 9ms/step - loss: 3.4254 - accuracy: 0.1375\n",
            "Epoch 15/400\n",
            "3/3 [==============================] - 0s 7ms/step - loss: 3.3658 - accuracy: 0.1375\n",
            "Epoch 16/400\n",
            "3/3 [==============================] - 0s 8ms/step - loss: 3.2984 - accuracy: 0.1375\n",
            "Epoch 17/400\n",
            "3/3 [==============================] - 0s 8ms/step - loss: 3.2314 - accuracy: 0.1375\n",
            "Epoch 18/400\n",
            "3/3 [==============================] - 0s 9ms/step - loss: 3.1526 - accuracy: 0.1375\n",
            "Epoch 19/400\n",
            "3/3 [==============================] - 0s 12ms/step - loss: 3.0764 - accuracy: 0.1375\n",
            "Epoch 20/400\n",
            "3/3 [==============================] - 0s 7ms/step - loss: 3.0104 - accuracy: 0.1375\n",
            "Epoch 21/400\n",
            "3/3 [==============================] - 0s 7ms/step - loss: 2.9734 - accuracy: 0.1375\n",
            "Epoch 22/400\n",
            "3/3 [==============================] - 0s 7ms/step - loss: 2.9451 - accuracy: 0.1375\n",
            "Epoch 23/400\n",
            "3/3 [==============================] - 0s 7ms/step - loss: 2.9268 - accuracy: 0.1375\n",
            "Epoch 24/400\n",
            "3/3 [==============================] - 0s 7ms/step - loss: 2.9109 - accuracy: 0.1375\n",
            "Epoch 25/400\n",
            "3/3 [==============================] - 0s 7ms/step - loss: 2.8942 - accuracy: 0.1875\n",
            "Epoch 26/400\n",
            "3/3 [==============================] - 0s 7ms/step - loss: 2.8736 - accuracy: 0.1875\n",
            "Epoch 27/400\n",
            "3/3 [==============================] - 0s 11ms/step - loss: 2.8561 - accuracy: 0.1875\n",
            "Epoch 28/400\n",
            "3/3 [==============================] - 0s 7ms/step - loss: 2.8381 - accuracy: 0.1875\n",
            "Epoch 29/400\n",
            "3/3 [==============================] - 0s 7ms/step - loss: 2.8217 - accuracy: 0.2000\n",
            "Epoch 30/400\n",
            "3/3 [==============================] - 0s 8ms/step - loss: 2.8069 - accuracy: 0.2000\n",
            "Epoch 31/400\n",
            "3/3 [==============================] - 0s 7ms/step - loss: 2.7906 - accuracy: 0.2000\n",
            "Epoch 32/400\n",
            "3/3 [==============================] - 0s 7ms/step - loss: 2.7746 - accuracy: 0.2125\n",
            "Epoch 33/400\n",
            "3/3 [==============================] - 0s 7ms/step - loss: 2.7580 - accuracy: 0.2125\n",
            "Epoch 34/400\n",
            "3/3 [==============================] - 0s 7ms/step - loss: 2.7398 - accuracy: 0.2125\n",
            "Epoch 35/400\n",
            "3/3 [==============================] - 0s 7ms/step - loss: 2.7234 - accuracy: 0.2125\n",
            "Epoch 36/400\n",
            "3/3 [==============================] - 0s 7ms/step - loss: 2.7065 - accuracy: 0.2125\n",
            "Epoch 37/400\n",
            "3/3 [==============================] - 0s 10ms/step - loss: 2.6905 - accuracy: 0.2125\n",
            "Epoch 38/400\n",
            "3/3 [==============================] - 0s 8ms/step - loss: 2.6742 - accuracy: 0.2250\n",
            "Epoch 39/400\n",
            "3/3 [==============================] - 0s 7ms/step - loss: 2.6572 - accuracy: 0.2375\n",
            "Epoch 40/400\n",
            "3/3 [==============================] - 0s 7ms/step - loss: 2.6405 - accuracy: 0.2375\n",
            "Epoch 41/400\n",
            "3/3 [==============================] - 0s 7ms/step - loss: 2.6251 - accuracy: 0.2250\n",
            "Epoch 42/400\n",
            "3/3 [==============================] - 0s 9ms/step - loss: 2.6079 - accuracy: 0.2375\n",
            "Epoch 43/400\n",
            "3/3 [==============================] - 0s 6ms/step - loss: 2.5916 - accuracy: 0.2375\n",
            "Epoch 44/400\n",
            "3/3 [==============================] - 0s 7ms/step - loss: 2.5748 - accuracy: 0.2500\n",
            "Epoch 45/400\n",
            "3/3 [==============================] - 0s 7ms/step - loss: 2.5580 - accuracy: 0.2500\n",
            "Epoch 46/400\n",
            "3/3 [==============================] - 0s 7ms/step - loss: 2.5422 - accuracy: 0.2500\n",
            "Epoch 47/400\n",
            "3/3 [==============================] - 0s 7ms/step - loss: 2.5278 - accuracy: 0.2500\n",
            "Epoch 48/400\n",
            "3/3 [==============================] - 0s 7ms/step - loss: 2.5114 - accuracy: 0.2500\n",
            "Epoch 49/400\n",
            "3/3 [==============================] - 0s 7ms/step - loss: 2.4953 - accuracy: 0.2500\n",
            "Epoch 50/400\n",
            "3/3 [==============================] - 0s 7ms/step - loss: 2.4782 - accuracy: 0.2500\n",
            "Epoch 51/400\n",
            "3/3 [==============================] - 0s 7ms/step - loss: 2.4616 - accuracy: 0.2500\n",
            "Epoch 52/400\n",
            "3/3 [==============================] - 0s 6ms/step - loss: 2.4452 - accuracy: 0.2500\n",
            "Epoch 53/400\n",
            "3/3 [==============================] - 0s 7ms/step - loss: 2.4295 - accuracy: 0.2500\n",
            "Epoch 54/400\n",
            "3/3 [==============================] - 0s 9ms/step - loss: 2.4132 - accuracy: 0.2500\n",
            "Epoch 55/400\n",
            "3/3 [==============================] - 0s 6ms/step - loss: 2.3974 - accuracy: 0.2625\n",
            "Epoch 56/400\n",
            "3/3 [==============================] - 0s 6ms/step - loss: 2.3816 - accuracy: 0.2625\n",
            "Epoch 57/400\n",
            "3/3 [==============================] - 0s 6ms/step - loss: 2.3647 - accuracy: 0.2625\n",
            "Epoch 58/400\n",
            "3/3 [==============================] - 0s 8ms/step - loss: 2.3489 - accuracy: 0.2750\n",
            "Epoch 59/400\n",
            "3/3 [==============================] - 0s 7ms/step - loss: 2.3340 - accuracy: 0.2750\n",
            "Epoch 60/400\n",
            "3/3 [==============================] - 0s 7ms/step - loss: 2.3176 - accuracy: 0.2750\n",
            "Epoch 61/400\n",
            "3/3 [==============================] - 0s 7ms/step - loss: 2.3027 - accuracy: 0.2750\n",
            "Epoch 62/400\n",
            "3/3 [==============================] - 0s 7ms/step - loss: 2.2881 - accuracy: 0.2750\n",
            "Epoch 63/400\n",
            "3/3 [==============================] - 0s 7ms/step - loss: 2.2725 - accuracy: 0.2750\n",
            "Epoch 64/400\n",
            "3/3 [==============================] - 0s 7ms/step - loss: 2.2562 - accuracy: 0.2750\n",
            "Epoch 65/400\n",
            "3/3 [==============================] - 0s 6ms/step - loss: 2.2408 - accuracy: 0.2750\n",
            "Epoch 66/400\n",
            "3/3 [==============================] - 0s 7ms/step - loss: 2.2265 - accuracy: 0.2750\n",
            "Epoch 67/400\n",
            "3/3 [==============================] - 0s 7ms/step - loss: 2.2103 - accuracy: 0.2750\n",
            "Epoch 68/400\n",
            "3/3 [==============================] - 0s 7ms/step - loss: 2.1957 - accuracy: 0.2750\n",
            "Epoch 69/400\n",
            "3/3 [==============================] - 0s 6ms/step - loss: 2.1819 - accuracy: 0.2750\n",
            "Epoch 70/400\n",
            "3/3 [==============================] - 0s 7ms/step - loss: 2.1667 - accuracy: 0.2750\n",
            "Epoch 71/400\n",
            "3/3 [==============================] - 0s 7ms/step - loss: 2.1509 - accuracy: 0.2875\n",
            "Epoch 72/400\n",
            "3/3 [==============================] - 0s 7ms/step - loss: 2.1371 - accuracy: 0.3125\n",
            "Epoch 73/400\n",
            "3/3 [==============================] - 0s 12ms/step - loss: 2.1227 - accuracy: 0.3500\n",
            "Epoch 74/400\n",
            "3/3 [==============================] - 0s 11ms/step - loss: 2.1087 - accuracy: 0.3625\n",
            "Epoch 75/400\n",
            "3/3 [==============================] - 0s 7ms/step - loss: 2.0930 - accuracy: 0.3500\n",
            "Epoch 76/400\n",
            "3/3 [==============================] - 0s 7ms/step - loss: 2.0780 - accuracy: 0.3500\n",
            "Epoch 77/400\n",
            "3/3 [==============================] - 0s 7ms/step - loss: 2.0642 - accuracy: 0.3500\n",
            "Epoch 78/400\n",
            "3/3 [==============================] - 0s 8ms/step - loss: 2.0507 - accuracy: 0.3500\n",
            "Epoch 79/400\n",
            "3/3 [==============================] - 0s 7ms/step - loss: 2.0361 - accuracy: 0.3500\n",
            "Epoch 80/400\n",
            "3/3 [==============================] - 0s 6ms/step - loss: 2.0213 - accuracy: 0.3500\n",
            "Epoch 81/400\n",
            "3/3 [==============================] - 0s 7ms/step - loss: 2.0069 - accuracy: 0.3500\n",
            "Epoch 82/400\n",
            "3/3 [==============================] - 0s 9ms/step - loss: 1.9931 - accuracy: 0.3750\n",
            "Epoch 83/400\n",
            "3/3 [==============================] - 0s 9ms/step - loss: 1.9787 - accuracy: 0.3875\n",
            "Epoch 84/400\n",
            "3/3 [==============================] - 0s 8ms/step - loss: 1.9652 - accuracy: 0.4125\n",
            "Epoch 85/400\n",
            "3/3 [==============================] - 0s 7ms/step - loss: 1.9514 - accuracy: 0.4250\n",
            "Epoch 86/400\n",
            "3/3 [==============================] - 0s 9ms/step - loss: 1.9379 - accuracy: 0.4250\n",
            "Epoch 87/400\n",
            "3/3 [==============================] - 0s 7ms/step - loss: 1.9243 - accuracy: 0.4125\n",
            "Epoch 88/400\n",
            "3/3 [==============================] - 0s 8ms/step - loss: 1.9126 - accuracy: 0.4250\n",
            "Epoch 89/400\n",
            "3/3 [==============================] - 0s 7ms/step - loss: 1.8984 - accuracy: 0.4250\n",
            "Epoch 90/400\n",
            "3/3 [==============================] - 0s 7ms/step - loss: 1.8857 - accuracy: 0.4250\n",
            "Epoch 91/400\n",
            "3/3 [==============================] - 0s 7ms/step - loss: 1.8721 - accuracy: 0.4250\n",
            "Epoch 92/400\n",
            "3/3 [==============================] - 0s 7ms/step - loss: 1.8588 - accuracy: 0.4250\n",
            "Epoch 93/400\n",
            "3/3 [==============================] - 0s 8ms/step - loss: 1.8452 - accuracy: 0.4125\n",
            "Epoch 94/400\n",
            "3/3 [==============================] - 0s 10ms/step - loss: 1.8320 - accuracy: 0.4125\n",
            "Epoch 95/400\n",
            "3/3 [==============================] - 0s 7ms/step - loss: 1.8228 - accuracy: 0.4375\n",
            "Epoch 96/400\n",
            "3/3 [==============================] - 0s 7ms/step - loss: 1.8094 - accuracy: 0.4375\n",
            "Epoch 97/400\n",
            "3/3 [==============================] - 0s 9ms/step - loss: 1.7976 - accuracy: 0.4125\n",
            "Epoch 98/400\n",
            "3/3 [==============================] - 0s 9ms/step - loss: 1.7839 - accuracy: 0.4125\n",
            "Epoch 99/400\n",
            "3/3 [==============================] - 0s 7ms/step - loss: 1.7710 - accuracy: 0.4500\n",
            "Epoch 100/400\n",
            "3/3 [==============================] - 0s 8ms/step - loss: 1.7582 - accuracy: 0.4500\n",
            "Epoch 101/400\n",
            "3/3 [==============================] - 0s 7ms/step - loss: 1.7458 - accuracy: 0.4750\n",
            "Epoch 102/400\n",
            "3/3 [==============================] - 0s 8ms/step - loss: 1.7336 - accuracy: 0.4875\n",
            "Epoch 103/400\n",
            "3/3 [==============================] - 0s 7ms/step - loss: 1.7235 - accuracy: 0.5375\n",
            "Epoch 104/400\n",
            "3/3 [==============================] - 0s 7ms/step - loss: 1.7101 - accuracy: 0.5375\n",
            "Epoch 105/400\n",
            "3/3 [==============================] - 0s 7ms/step - loss: 1.6987 - accuracy: 0.5375\n",
            "Epoch 106/400\n",
            "3/3 [==============================] - 0s 10ms/step - loss: 1.6865 - accuracy: 0.5375\n",
            "Epoch 107/400\n",
            "3/3 [==============================] - 0s 9ms/step - loss: 1.6735 - accuracy: 0.5250\n",
            "Epoch 108/400\n",
            "3/3 [==============================] - 0s 9ms/step - loss: 1.6625 - accuracy: 0.5375\n",
            "Epoch 109/400\n",
            "3/3 [==============================] - 0s 9ms/step - loss: 1.6512 - accuracy: 0.5250\n",
            "Epoch 110/400\n",
            "3/3 [==============================] - 0s 9ms/step - loss: 1.6400 - accuracy: 0.5250\n",
            "Epoch 111/400\n",
            "3/3 [==============================] - 0s 10ms/step - loss: 1.6284 - accuracy: 0.5250\n",
            "Epoch 112/400\n",
            "3/3 [==============================] - 0s 7ms/step - loss: 1.6168 - accuracy: 0.5250\n",
            "Epoch 113/400\n",
            "3/3 [==============================] - 0s 7ms/step - loss: 1.6053 - accuracy: 0.5375\n",
            "Epoch 114/400\n",
            "3/3 [==============================] - 0s 7ms/step - loss: 1.5935 - accuracy: 0.5875\n",
            "Epoch 115/400\n",
            "3/3 [==============================] - 0s 7ms/step - loss: 1.5820 - accuracy: 0.5875\n",
            "Epoch 116/400\n",
            "3/3 [==============================] - 0s 7ms/step - loss: 1.5706 - accuracy: 0.6125\n",
            "Epoch 117/400\n",
            "3/3 [==============================] - 0s 7ms/step - loss: 1.5593 - accuracy: 0.6000\n",
            "Epoch 118/400\n",
            "3/3 [==============================] - 0s 7ms/step - loss: 1.5479 - accuracy: 0.6000\n",
            "Epoch 119/400\n",
            "3/3 [==============================] - 0s 7ms/step - loss: 1.5375 - accuracy: 0.6000\n",
            "Epoch 120/400\n",
            "3/3 [==============================] - 0s 8ms/step - loss: 1.5268 - accuracy: 0.6000\n",
            "Epoch 121/400\n",
            "3/3 [==============================] - 0s 7ms/step - loss: 1.5148 - accuracy: 0.6000\n",
            "Epoch 122/400\n",
            "3/3 [==============================] - 0s 7ms/step - loss: 1.5026 - accuracy: 0.6125\n",
            "Epoch 123/400\n",
            "3/3 [==============================] - 0s 8ms/step - loss: 1.4919 - accuracy: 0.6125\n",
            "Epoch 124/400\n",
            "3/3 [==============================] - 0s 7ms/step - loss: 1.4821 - accuracy: 0.6250\n",
            "Epoch 125/400\n",
            "3/3 [==============================] - 0s 8ms/step - loss: 1.4703 - accuracy: 0.6375\n",
            "Epoch 126/400\n",
            "3/3 [==============================] - 0s 8ms/step - loss: 1.4599 - accuracy: 0.6250\n",
            "Epoch 127/400\n",
            "3/3 [==============================] - 0s 7ms/step - loss: 1.4503 - accuracy: 0.6250\n",
            "Epoch 128/400\n",
            "3/3 [==============================] - 0s 8ms/step - loss: 1.4379 - accuracy: 0.6250\n",
            "Epoch 129/400\n",
            "3/3 [==============================] - 0s 7ms/step - loss: 1.4263 - accuracy: 0.6250\n",
            "Epoch 130/400\n",
            "3/3 [==============================] - 0s 7ms/step - loss: 1.4161 - accuracy: 0.6250\n",
            "Epoch 131/400\n",
            "3/3 [==============================] - 0s 7ms/step - loss: 1.4064 - accuracy: 0.6250\n",
            "Epoch 132/400\n",
            "3/3 [==============================] - 0s 7ms/step - loss: 1.3945 - accuracy: 0.6250\n",
            "Epoch 133/400\n",
            "3/3 [==============================] - 0s 8ms/step - loss: 1.3837 - accuracy: 0.6250\n",
            "Epoch 134/400\n",
            "3/3 [==============================] - 0s 8ms/step - loss: 1.3729 - accuracy: 0.6250\n",
            "Epoch 135/400\n",
            "3/3 [==============================] - 0s 9ms/step - loss: 1.3617 - accuracy: 0.6125\n",
            "Epoch 136/400\n",
            "3/3 [==============================] - 0s 7ms/step - loss: 1.3519 - accuracy: 0.6250\n",
            "Epoch 137/400\n",
            "3/3 [==============================] - 0s 7ms/step - loss: 1.3413 - accuracy: 0.6125\n",
            "Epoch 138/400\n",
            "3/3 [==============================] - 0s 7ms/step - loss: 1.3298 - accuracy: 0.6250\n",
            "Epoch 139/400\n",
            "3/3 [==============================] - 0s 7ms/step - loss: 1.3198 - accuracy: 0.6375\n",
            "Epoch 140/400\n",
            "3/3 [==============================] - 0s 10ms/step - loss: 1.3092 - accuracy: 0.6125\n",
            "Epoch 141/400\n",
            "3/3 [==============================] - 0s 8ms/step - loss: 1.2986 - accuracy: 0.6250\n",
            "Epoch 142/400\n",
            "3/3 [==============================] - 0s 7ms/step - loss: 1.2865 - accuracy: 0.6250\n",
            "Epoch 143/400\n",
            "3/3 [==============================] - 0s 8ms/step - loss: 1.2765 - accuracy: 0.6250\n",
            "Epoch 144/400\n",
            "3/3 [==============================] - 0s 7ms/step - loss: 1.2661 - accuracy: 0.6250\n",
            "Epoch 145/400\n",
            "3/3 [==============================] - 0s 9ms/step - loss: 1.2562 - accuracy: 0.6500\n",
            "Epoch 146/400\n",
            "3/3 [==============================] - 0s 10ms/step - loss: 1.2466 - accuracy: 0.6500\n",
            "Epoch 147/400\n",
            "3/3 [==============================] - 0s 8ms/step - loss: 1.2350 - accuracy: 0.6750\n",
            "Epoch 148/400\n",
            "3/3 [==============================] - 0s 7ms/step - loss: 1.2255 - accuracy: 0.6875\n",
            "Epoch 149/400\n",
            "3/3 [==============================] - 0s 8ms/step - loss: 1.2149 - accuracy: 0.6875\n",
            "Epoch 150/400\n",
            "3/3 [==============================] - 0s 7ms/step - loss: 1.2047 - accuracy: 0.7000\n",
            "Epoch 151/400\n",
            "3/3 [==============================] - 0s 7ms/step - loss: 1.1946 - accuracy: 0.7000\n",
            "Epoch 152/400\n",
            "3/3 [==============================] - 0s 10ms/step - loss: 1.1838 - accuracy: 0.7000\n",
            "Epoch 153/400\n",
            "3/3 [==============================] - 0s 8ms/step - loss: 1.1740 - accuracy: 0.7125\n",
            "Epoch 154/400\n",
            "3/3 [==============================] - 0s 9ms/step - loss: 1.1644 - accuracy: 0.7125\n",
            "Epoch 155/400\n",
            "3/3 [==============================] - 0s 7ms/step - loss: 1.1551 - accuracy: 0.7125\n",
            "Epoch 156/400\n",
            "3/3 [==============================] - 0s 8ms/step - loss: 1.1441 - accuracy: 0.7250\n",
            "Epoch 157/400\n",
            "3/3 [==============================] - 0s 8ms/step - loss: 1.1347 - accuracy: 0.7375\n",
            "Epoch 158/400\n",
            "3/3 [==============================] - 0s 8ms/step - loss: 1.1263 - accuracy: 0.7625\n",
            "Epoch 159/400\n",
            "3/3 [==============================] - 0s 8ms/step - loss: 1.1171 - accuracy: 0.7500\n",
            "Epoch 160/400\n",
            "3/3 [==============================] - 0s 8ms/step - loss: 1.1050 - accuracy: 0.7500\n",
            "Epoch 161/400\n",
            "3/3 [==============================] - 0s 7ms/step - loss: 1.0955 - accuracy: 0.7500\n",
            "Epoch 162/400\n",
            "3/3 [==============================] - 0s 8ms/step - loss: 1.0863 - accuracy: 0.7500\n",
            "Epoch 163/400\n",
            "3/3 [==============================] - 0s 10ms/step - loss: 1.0771 - accuracy: 0.7500\n",
            "Epoch 164/400\n",
            "3/3 [==============================] - 0s 8ms/step - loss: 1.0685 - accuracy: 0.7500\n",
            "Epoch 165/400\n",
            "3/3 [==============================] - 0s 8ms/step - loss: 1.0590 - accuracy: 0.7250\n",
            "Epoch 166/400\n",
            "3/3 [==============================] - 0s 8ms/step - loss: 1.0493 - accuracy: 0.7375\n",
            "Epoch 167/400\n",
            "3/3 [==============================] - 0s 7ms/step - loss: 1.0389 - accuracy: 0.7500\n",
            "Epoch 168/400\n",
            "3/3 [==============================] - 0s 7ms/step - loss: 1.0298 - accuracy: 0.7250\n",
            "Epoch 169/400\n",
            "3/3 [==============================] - 0s 8ms/step - loss: 1.0231 - accuracy: 0.7250\n",
            "Epoch 170/400\n",
            "3/3 [==============================] - 0s 7ms/step - loss: 1.0137 - accuracy: 0.7375\n",
            "Epoch 171/400\n",
            "3/3 [==============================] - 0s 7ms/step - loss: 1.0026 - accuracy: 0.7375\n",
            "Epoch 172/400\n",
            "3/3 [==============================] - 0s 7ms/step - loss: 0.9948 - accuracy: 0.7375\n",
            "Epoch 173/400\n",
            "3/3 [==============================] - 0s 7ms/step - loss: 0.9864 - accuracy: 0.7375\n",
            "Epoch 174/400\n",
            "3/3 [==============================] - 0s 9ms/step - loss: 0.9764 - accuracy: 0.7500\n",
            "Epoch 175/400\n",
            "3/3 [==============================] - 0s 9ms/step - loss: 0.9674 - accuracy: 0.7500\n",
            "Epoch 176/400\n",
            "3/3 [==============================] - 0s 9ms/step - loss: 0.9581 - accuracy: 0.7500\n",
            "Epoch 177/400\n",
            "3/3 [==============================] - 0s 8ms/step - loss: 0.9497 - accuracy: 0.7500\n",
            "Epoch 178/400\n",
            "3/3 [==============================] - 0s 9ms/step - loss: 0.9399 - accuracy: 0.7500\n",
            "Epoch 179/400\n",
            "3/3 [==============================] - 0s 7ms/step - loss: 0.9322 - accuracy: 0.7500\n",
            "Epoch 180/400\n",
            "3/3 [==============================] - 0s 7ms/step - loss: 0.9230 - accuracy: 0.7625\n",
            "Epoch 181/400\n",
            "3/3 [==============================] - 0s 7ms/step - loss: 0.9148 - accuracy: 0.7750\n",
            "Epoch 182/400\n",
            "3/3 [==============================] - 0s 8ms/step - loss: 0.9056 - accuracy: 0.7625\n",
            "Epoch 183/400\n",
            "3/3 [==============================] - 0s 8ms/step - loss: 0.8977 - accuracy: 0.7625\n",
            "Epoch 184/400\n",
            "3/3 [==============================] - 0s 8ms/step - loss: 0.8896 - accuracy: 0.7750\n",
            "Epoch 185/400\n",
            "3/3 [==============================] - 0s 7ms/step - loss: 0.8807 - accuracy: 0.7875\n",
            "Epoch 186/400\n",
            "3/3 [==============================] - 0s 7ms/step - loss: 0.8728 - accuracy: 0.7750\n",
            "Epoch 187/400\n",
            "3/3 [==============================] - 0s 7ms/step - loss: 0.8654 - accuracy: 0.7750\n",
            "Epoch 188/400\n",
            "3/3 [==============================] - 0s 7ms/step - loss: 0.8569 - accuracy: 0.7875\n",
            "Epoch 189/400\n",
            "3/3 [==============================] - 0s 9ms/step - loss: 0.8482 - accuracy: 0.7875\n",
            "Epoch 190/400\n",
            "3/3 [==============================] - 0s 7ms/step - loss: 0.8401 - accuracy: 0.7875\n",
            "Epoch 191/400\n",
            "3/3 [==============================] - 0s 7ms/step - loss: 0.8319 - accuracy: 0.7750\n",
            "Epoch 192/400\n",
            "3/3 [==============================] - 0s 7ms/step - loss: 0.8244 - accuracy: 0.7875\n",
            "Epoch 193/400\n",
            "3/3 [==============================] - 0s 8ms/step - loss: 0.8168 - accuracy: 0.8125\n",
            "Epoch 194/400\n",
            "3/3 [==============================] - 0s 10ms/step - loss: 0.8089 - accuracy: 0.8000\n",
            "Epoch 195/400\n",
            "3/3 [==============================] - 0s 8ms/step - loss: 0.8019 - accuracy: 0.8125\n",
            "Epoch 196/400\n",
            "3/3 [==============================] - 0s 7ms/step - loss: 0.7936 - accuracy: 0.8375\n",
            "Epoch 197/400\n",
            "3/3 [==============================] - 0s 7ms/step - loss: 0.7860 - accuracy: 0.8500\n",
            "Epoch 198/400\n",
            "3/3 [==============================] - 0s 7ms/step - loss: 0.7776 - accuracy: 0.8625\n",
            "Epoch 199/400\n",
            "3/3 [==============================] - 0s 7ms/step - loss: 0.7703 - accuracy: 0.8875\n",
            "Epoch 200/400\n",
            "3/3 [==============================] - 0s 7ms/step - loss: 0.7627 - accuracy: 0.9000\n",
            "Epoch 201/400\n",
            "3/3 [==============================] - 0s 7ms/step - loss: 0.7555 - accuracy: 0.9250\n",
            "Epoch 202/400\n",
            "3/3 [==============================] - 0s 7ms/step - loss: 0.7484 - accuracy: 0.9125\n",
            "Epoch 203/400\n",
            "3/3 [==============================] - 0s 7ms/step - loss: 0.7413 - accuracy: 0.9000\n",
            "Epoch 204/400\n",
            "3/3 [==============================] - 0s 7ms/step - loss: 0.7343 - accuracy: 0.8875\n",
            "Epoch 205/400\n",
            "3/3 [==============================] - 0s 8ms/step - loss: 0.7270 - accuracy: 0.8875\n",
            "Epoch 206/400\n",
            "3/3 [==============================] - 0s 7ms/step - loss: 0.7190 - accuracy: 0.8875\n",
            "Epoch 207/400\n",
            "3/3 [==============================] - 0s 7ms/step - loss: 0.7115 - accuracy: 0.9125\n",
            "Epoch 208/400\n",
            "3/3 [==============================] - 0s 7ms/step - loss: 0.7059 - accuracy: 0.9125\n",
            "Epoch 209/400\n",
            "3/3 [==============================] - 0s 12ms/step - loss: 0.6989 - accuracy: 0.9125\n",
            "Epoch 210/400\n",
            "3/3 [==============================] - 0s 10ms/step - loss: 0.6922 - accuracy: 0.9125\n",
            "Epoch 211/400\n",
            "3/3 [==============================] - 0s 9ms/step - loss: 0.6856 - accuracy: 0.9125\n",
            "Epoch 212/400\n",
            "3/3 [==============================] - 0s 8ms/step - loss: 0.6785 - accuracy: 0.9125\n",
            "Epoch 213/400\n",
            "3/3 [==============================] - 0s 8ms/step - loss: 0.6719 - accuracy: 0.9125\n",
            "Epoch 214/400\n",
            "3/3 [==============================] - 0s 7ms/step - loss: 0.6647 - accuracy: 0.9250\n",
            "Epoch 215/400\n",
            "3/3 [==============================] - 0s 7ms/step - loss: 0.6577 - accuracy: 0.9250\n",
            "Epoch 216/400\n",
            "3/3 [==============================] - 0s 7ms/step - loss: 0.6514 - accuracy: 0.9250\n",
            "Epoch 217/400\n",
            "3/3 [==============================] - 0s 7ms/step - loss: 0.6453 - accuracy: 0.9250\n",
            "Epoch 218/400\n",
            "3/3 [==============================] - 0s 7ms/step - loss: 0.6387 - accuracy: 0.9125\n",
            "Epoch 219/400\n",
            "3/3 [==============================] - 0s 8ms/step - loss: 0.6319 - accuracy: 0.9250\n",
            "Epoch 220/400\n",
            "3/3 [==============================] - 0s 8ms/step - loss: 0.6261 - accuracy: 0.9250\n",
            "Epoch 221/400\n",
            "3/3 [==============================] - 0s 8ms/step - loss: 0.6196 - accuracy: 0.9375\n",
            "Epoch 222/400\n",
            "3/3 [==============================] - 0s 8ms/step - loss: 0.6129 - accuracy: 0.9375\n",
            "Epoch 223/400\n",
            "3/3 [==============================] - 0s 8ms/step - loss: 0.6077 - accuracy: 0.9375\n",
            "Epoch 224/400\n",
            "3/3 [==============================] - 0s 8ms/step - loss: 0.6028 - accuracy: 0.9375\n",
            "Epoch 225/400\n",
            "3/3 [==============================] - 0s 8ms/step - loss: 0.5960 - accuracy: 0.9500\n",
            "Epoch 226/400\n",
            "3/3 [==============================] - 0s 8ms/step - loss: 0.5904 - accuracy: 0.9500\n",
            "Epoch 227/400\n",
            "3/3 [==============================] - 0s 7ms/step - loss: 0.5843 - accuracy: 0.9500\n",
            "Epoch 228/400\n",
            "3/3 [==============================] - 0s 7ms/step - loss: 0.5792 - accuracy: 0.9500\n",
            "Epoch 229/400\n",
            "3/3 [==============================] - 0s 7ms/step - loss: 0.5742 - accuracy: 0.9500\n",
            "Epoch 230/400\n",
            "3/3 [==============================] - 0s 8ms/step - loss: 0.5676 - accuracy: 0.9375\n",
            "Epoch 231/400\n",
            "3/3 [==============================] - 0s 7ms/step - loss: 0.5622 - accuracy: 0.9125\n",
            "Epoch 232/400\n",
            "3/3 [==============================] - 0s 6ms/step - loss: 0.5571 - accuracy: 0.9375\n",
            "Epoch 233/400\n",
            "3/3 [==============================] - 0s 7ms/step - loss: 0.5512 - accuracy: 0.9375\n",
            "Epoch 234/400\n",
            "3/3 [==============================] - 0s 7ms/step - loss: 0.5458 - accuracy: 0.9375\n",
            "Epoch 235/400\n",
            "3/3 [==============================] - 0s 7ms/step - loss: 0.5404 - accuracy: 0.9375\n",
            "Epoch 236/400\n",
            "3/3 [==============================] - 0s 9ms/step - loss: 0.5359 - accuracy: 0.9500\n",
            "Epoch 237/400\n",
            "3/3 [==============================] - 0s 9ms/step - loss: 0.5304 - accuracy: 0.9625\n",
            "Epoch 238/400\n",
            "3/3 [==============================] - 0s 9ms/step - loss: 0.5248 - accuracy: 0.9750\n",
            "Epoch 239/400\n",
            "3/3 [==============================] - 0s 9ms/step - loss: 0.5196 - accuracy: 0.9625\n",
            "Epoch 240/400\n",
            "3/3 [==============================] - 0s 8ms/step - loss: 0.5153 - accuracy: 0.9625\n",
            "Epoch 241/400\n",
            "3/3 [==============================] - 0s 8ms/step - loss: 0.5101 - accuracy: 0.9625\n",
            "Epoch 242/400\n",
            "3/3 [==============================] - 0s 10ms/step - loss: 0.5050 - accuracy: 0.9750\n",
            "Epoch 243/400\n",
            "3/3 [==============================] - 0s 9ms/step - loss: 0.5009 - accuracy: 0.9625\n",
            "Epoch 244/400\n",
            "3/3 [==============================] - 0s 8ms/step - loss: 0.4959 - accuracy: 0.9625\n",
            "Epoch 245/400\n",
            "3/3 [==============================] - 0s 7ms/step - loss: 0.4916 - accuracy: 0.9750\n",
            "Epoch 246/400\n",
            "3/3 [==============================] - 0s 7ms/step - loss: 0.4874 - accuracy: 0.9750\n",
            "Epoch 247/400\n",
            "3/3 [==============================] - 0s 7ms/step - loss: 0.4820 - accuracy: 0.9750\n",
            "Epoch 248/400\n",
            "3/3 [==============================] - 0s 7ms/step - loss: 0.4782 - accuracy: 0.9625\n",
            "Epoch 249/400\n",
            "3/3 [==============================] - 0s 8ms/step - loss: 0.4733 - accuracy: 0.9625\n",
            "Epoch 250/400\n",
            "3/3 [==============================] - 0s 8ms/step - loss: 0.4691 - accuracy: 0.9625\n",
            "Epoch 251/400\n",
            "3/3 [==============================] - 0s 8ms/step - loss: 0.4648 - accuracy: 0.9625\n",
            "Epoch 252/400\n",
            "3/3 [==============================] - 0s 8ms/step - loss: 0.4609 - accuracy: 0.9875\n",
            "Epoch 253/400\n",
            "3/3 [==============================] - 0s 9ms/step - loss: 0.4565 - accuracy: 0.9875\n",
            "Epoch 254/400\n",
            "3/3 [==============================] - 0s 8ms/step - loss: 0.4519 - accuracy: 0.9750\n",
            "Epoch 255/400\n",
            "3/3 [==============================] - 0s 7ms/step - loss: 0.4484 - accuracy: 0.9750\n",
            "Epoch 256/400\n",
            "3/3 [==============================] - 0s 8ms/step - loss: 0.4436 - accuracy: 0.9750\n",
            "Epoch 257/400\n",
            "3/3 [==============================] - 0s 8ms/step - loss: 0.4404 - accuracy: 0.9750\n",
            "Epoch 258/400\n",
            "3/3 [==============================] - 0s 7ms/step - loss: 0.4357 - accuracy: 0.9750\n",
            "Epoch 259/400\n",
            "3/3 [==============================] - 0s 8ms/step - loss: 0.4321 - accuracy: 0.9750\n",
            "Epoch 260/400\n",
            "3/3 [==============================] - 0s 8ms/step - loss: 0.4282 - accuracy: 0.9875\n",
            "Epoch 261/400\n",
            "3/3 [==============================] - 0s 8ms/step - loss: 0.4237 - accuracy: 0.9875\n",
            "Epoch 262/400\n",
            "3/3 [==============================] - 0s 8ms/step - loss: 0.4208 - accuracy: 1.0000\n",
            "Epoch 263/400\n",
            "3/3 [==============================] - 0s 8ms/step - loss: 0.4164 - accuracy: 1.0000\n",
            "Epoch 264/400\n",
            "3/3 [==============================] - 0s 7ms/step - loss: 0.4126 - accuracy: 1.0000\n",
            "Epoch 265/400\n",
            "3/3 [==============================] - 0s 7ms/step - loss: 0.4090 - accuracy: 1.0000\n",
            "Epoch 266/400\n",
            "3/3 [==============================] - 0s 7ms/step - loss: 0.4050 - accuracy: 1.0000\n",
            "Epoch 267/400\n",
            "3/3 [==============================] - 0s 8ms/step - loss: 0.4018 - accuracy: 1.0000\n",
            "Epoch 268/400\n",
            "3/3 [==============================] - 0s 9ms/step - loss: 0.3981 - accuracy: 1.0000\n",
            "Epoch 269/400\n",
            "3/3 [==============================] - 0s 8ms/step - loss: 0.3946 - accuracy: 1.0000\n",
            "Epoch 270/400\n",
            "3/3 [==============================] - 0s 8ms/step - loss: 0.3916 - accuracy: 1.0000\n",
            "Epoch 271/400\n",
            "3/3 [==============================] - 0s 8ms/step - loss: 0.3877 - accuracy: 1.0000\n",
            "Epoch 272/400\n",
            "3/3 [==============================] - 0s 7ms/step - loss: 0.3844 - accuracy: 1.0000\n",
            "Epoch 273/400\n",
            "3/3 [==============================] - 0s 7ms/step - loss: 0.3808 - accuracy: 1.0000\n",
            "Epoch 274/400\n",
            "3/3 [==============================] - 0s 8ms/step - loss: 0.3777 - accuracy: 1.0000\n",
            "Epoch 275/400\n",
            "3/3 [==============================] - 0s 10ms/step - loss: 0.3741 - accuracy: 1.0000\n",
            "Epoch 276/400\n",
            "3/3 [==============================] - 0s 9ms/step - loss: 0.3711 - accuracy: 1.0000\n",
            "Epoch 277/400\n",
            "3/3 [==============================] - 0s 10ms/step - loss: 0.3673 - accuracy: 1.0000\n",
            "Epoch 278/400\n",
            "3/3 [==============================] - 0s 11ms/step - loss: 0.3642 - accuracy: 1.0000\n",
            "Epoch 279/400\n",
            "3/3 [==============================] - 0s 8ms/step - loss: 0.3614 - accuracy: 1.0000\n",
            "Epoch 280/400\n",
            "3/3 [==============================] - 0s 9ms/step - loss: 0.3586 - accuracy: 1.0000\n",
            "Epoch 281/400\n",
            "3/3 [==============================] - 0s 8ms/step - loss: 0.3556 - accuracy: 1.0000\n",
            "Epoch 282/400\n",
            "3/3 [==============================] - 0s 9ms/step - loss: 0.3521 - accuracy: 1.0000\n",
            "Epoch 283/400\n",
            "3/3 [==============================] - 0s 7ms/step - loss: 0.3497 - accuracy: 1.0000\n",
            "Epoch 284/400\n",
            "3/3 [==============================] - 0s 8ms/step - loss: 0.3459 - accuracy: 1.0000\n",
            "Epoch 285/400\n",
            "3/3 [==============================] - 0s 8ms/step - loss: 0.3435 - accuracy: 1.0000\n",
            "Epoch 286/400\n",
            "3/3 [==============================] - 0s 8ms/step - loss: 0.3405 - accuracy: 1.0000\n",
            "Epoch 287/400\n",
            "3/3 [==============================] - 0s 7ms/step - loss: 0.3371 - accuracy: 1.0000\n",
            "Epoch 288/400\n",
            "3/3 [==============================] - 0s 7ms/step - loss: 0.3343 - accuracy: 1.0000\n",
            "Epoch 289/400\n",
            "3/3 [==============================] - 0s 8ms/step - loss: 0.3316 - accuracy: 1.0000\n",
            "Epoch 290/400\n",
            "3/3 [==============================] - 0s 7ms/step - loss: 0.3285 - accuracy: 1.0000\n",
            "Epoch 291/400\n",
            "3/3 [==============================] - 0s 9ms/step - loss: 0.3260 - accuracy: 1.0000\n",
            "Epoch 292/400\n",
            "3/3 [==============================] - 0s 10ms/step - loss: 0.3229 - accuracy: 1.0000\n",
            "Epoch 293/400\n",
            "3/3 [==============================] - 0s 7ms/step - loss: 0.3203 - accuracy: 1.0000\n",
            "Epoch 294/400\n",
            "3/3 [==============================] - 0s 6ms/step - loss: 0.3175 - accuracy: 1.0000\n",
            "Epoch 295/400\n",
            "3/3 [==============================] - 0s 7ms/step - loss: 0.3146 - accuracy: 1.0000\n",
            "Epoch 296/400\n",
            "3/3 [==============================] - 0s 7ms/step - loss: 0.3122 - accuracy: 1.0000\n",
            "Epoch 297/400\n",
            "3/3 [==============================] - 0s 7ms/step - loss: 0.3094 - accuracy: 1.0000\n",
            "Epoch 298/400\n",
            "3/3 [==============================] - 0s 7ms/step - loss: 0.3065 - accuracy: 1.0000\n",
            "Epoch 299/400\n",
            "3/3 [==============================] - 0s 7ms/step - loss: 0.3037 - accuracy: 1.0000\n",
            "Epoch 300/400\n",
            "3/3 [==============================] - 0s 6ms/step - loss: 0.3012 - accuracy: 1.0000\n",
            "Epoch 301/400\n",
            "3/3 [==============================] - 0s 7ms/step - loss: 0.2987 - accuracy: 1.0000\n",
            "Epoch 302/400\n",
            "3/3 [==============================] - 0s 7ms/step - loss: 0.2961 - accuracy: 1.0000\n",
            "Epoch 303/400\n",
            "3/3 [==============================] - 0s 9ms/step - loss: 0.2939 - accuracy: 1.0000\n",
            "Epoch 304/400\n",
            "3/3 [==============================] - 0s 7ms/step - loss: 0.2905 - accuracy: 1.0000\n",
            "Epoch 305/400\n",
            "3/3 [==============================] - 0s 9ms/step - loss: 0.2890 - accuracy: 1.0000\n",
            "Epoch 306/400\n",
            "3/3 [==============================] - 0s 8ms/step - loss: 0.2860 - accuracy: 1.0000\n",
            "Epoch 307/400\n",
            "3/3 [==============================] - 0s 7ms/step - loss: 0.2841 - accuracy: 1.0000\n",
            "Epoch 308/400\n",
            "3/3 [==============================] - 0s 9ms/step - loss: 0.2811 - accuracy: 1.0000\n",
            "Epoch 309/400\n",
            "3/3 [==============================] - 0s 10ms/step - loss: 0.2784 - accuracy: 1.0000\n",
            "Epoch 310/400\n",
            "3/3 [==============================] - 0s 8ms/step - loss: 0.2760 - accuracy: 1.0000\n",
            "Epoch 311/400\n",
            "3/3 [==============================] - 0s 8ms/step - loss: 0.2739 - accuracy: 1.0000\n",
            "Epoch 312/400\n",
            "3/3 [==============================] - 0s 8ms/step - loss: 0.2712 - accuracy: 1.0000\n",
            "Epoch 313/400\n",
            "3/3 [==============================] - 0s 8ms/step - loss: 0.2689 - accuracy: 1.0000\n",
            "Epoch 314/400\n",
            "3/3 [==============================] - 0s 8ms/step - loss: 0.2667 - accuracy: 1.0000\n",
            "Epoch 315/400\n",
            "3/3 [==============================] - 0s 9ms/step - loss: 0.2644 - accuracy: 1.0000\n",
            "Epoch 316/400\n",
            "3/3 [==============================] - 0s 8ms/step - loss: 0.2620 - accuracy: 1.0000\n",
            "Epoch 317/400\n",
            "3/3 [==============================] - 0s 8ms/step - loss: 0.2593 - accuracy: 1.0000\n",
            "Epoch 318/400\n",
            "3/3 [==============================] - 0s 8ms/step - loss: 0.2579 - accuracy: 1.0000\n",
            "Epoch 319/400\n",
            "3/3 [==============================] - 0s 8ms/step - loss: 0.2555 - accuracy: 1.0000\n",
            "Epoch 320/400\n",
            "3/3 [==============================] - 0s 8ms/step - loss: 0.2534 - accuracy: 1.0000\n",
            "Epoch 321/400\n",
            "3/3 [==============================] - 0s 8ms/step - loss: 0.2516 - accuracy: 1.0000\n",
            "Epoch 322/400\n",
            "3/3 [==============================] - 0s 8ms/step - loss: 0.2492 - accuracy: 1.0000\n",
            "Epoch 323/400\n",
            "3/3 [==============================] - 0s 8ms/step - loss: 0.2470 - accuracy: 1.0000\n",
            "Epoch 324/400\n",
            "3/3 [==============================] - 0s 8ms/step - loss: 0.2450 - accuracy: 1.0000\n",
            "Epoch 325/400\n",
            "3/3 [==============================] - 0s 8ms/step - loss: 0.2428 - accuracy: 1.0000\n",
            "Epoch 326/400\n",
            "3/3 [==============================] - 0s 8ms/step - loss: 0.2411 - accuracy: 1.0000\n",
            "Epoch 327/400\n",
            "3/3 [==============================] - 0s 8ms/step - loss: 0.2393 - accuracy: 1.0000\n",
            "Epoch 328/400\n",
            "3/3 [==============================] - 0s 8ms/step - loss: 0.2368 - accuracy: 1.0000\n",
            "Epoch 329/400\n",
            "3/3 [==============================] - 0s 8ms/step - loss: 0.2351 - accuracy: 1.0000\n",
            "Epoch 330/400\n",
            "3/3 [==============================] - 0s 7ms/step - loss: 0.2332 - accuracy: 1.0000\n",
            "Epoch 331/400\n",
            "3/3 [==============================] - 0s 8ms/step - loss: 0.2310 - accuracy: 1.0000\n",
            "Epoch 332/400\n",
            "3/3 [==============================] - 0s 7ms/step - loss: 0.2292 - accuracy: 1.0000\n",
            "Epoch 333/400\n",
            "3/3 [==============================] - 0s 7ms/step - loss: 0.2273 - accuracy: 1.0000\n",
            "Epoch 334/400\n",
            "3/3 [==============================] - 0s 8ms/step - loss: 0.2256 - accuracy: 1.0000\n",
            "Epoch 335/400\n",
            "3/3 [==============================] - 0s 9ms/step - loss: 0.2233 - accuracy: 1.0000\n",
            "Epoch 336/400\n",
            "3/3 [==============================] - 0s 8ms/step - loss: 0.2220 - accuracy: 1.0000\n",
            "Epoch 337/400\n",
            "3/3 [==============================] - 0s 9ms/step - loss: 0.2199 - accuracy: 1.0000\n",
            "Epoch 338/400\n",
            "3/3 [==============================] - 0s 11ms/step - loss: 0.2179 - accuracy: 1.0000\n",
            "Epoch 339/400\n",
            "3/3 [==============================] - 0s 10ms/step - loss: 0.2161 - accuracy: 1.0000\n",
            "Epoch 340/400\n",
            "3/3 [==============================] - 0s 9ms/step - loss: 0.2142 - accuracy: 1.0000\n",
            "Epoch 341/400\n",
            "3/3 [==============================] - 0s 9ms/step - loss: 0.2125 - accuracy: 1.0000\n",
            "Epoch 342/400\n",
            "3/3 [==============================] - 0s 10ms/step - loss: 0.2107 - accuracy: 1.0000\n",
            "Epoch 343/400\n",
            "3/3 [==============================] - 0s 8ms/step - loss: 0.2089 - accuracy: 1.0000\n",
            "Epoch 344/400\n",
            "3/3 [==============================] - 0s 9ms/step - loss: 0.2073 - accuracy: 1.0000\n",
            "Epoch 345/400\n",
            "3/3 [==============================] - 0s 8ms/step - loss: 0.2058 - accuracy: 1.0000\n",
            "Epoch 346/400\n",
            "3/3 [==============================] - 0s 9ms/step - loss: 0.2041 - accuracy: 1.0000\n",
            "Epoch 347/400\n",
            "3/3 [==============================] - 0s 8ms/step - loss: 0.2024 - accuracy: 1.0000\n",
            "Epoch 348/400\n",
            "3/3 [==============================] - 0s 8ms/step - loss: 0.2007 - accuracy: 1.0000\n",
            "Epoch 349/400\n",
            "3/3 [==============================] - 0s 8ms/step - loss: 0.1990 - accuracy: 1.0000\n",
            "Epoch 350/400\n",
            "3/3 [==============================] - 0s 9ms/step - loss: 0.1971 - accuracy: 1.0000\n",
            "Epoch 351/400\n",
            "3/3 [==============================] - 0s 11ms/step - loss: 0.1957 - accuracy: 1.0000\n",
            "Epoch 352/400\n",
            "3/3 [==============================] - 0s 9ms/step - loss: 0.1940 - accuracy: 1.0000\n",
            "Epoch 353/400\n",
            "3/3 [==============================] - 0s 8ms/step - loss: 0.1923 - accuracy: 1.0000\n",
            "Epoch 354/400\n",
            "3/3 [==============================] - 0s 9ms/step - loss: 0.1908 - accuracy: 1.0000\n",
            "Epoch 355/400\n",
            "3/3 [==============================] - 0s 11ms/step - loss: 0.1897 - accuracy: 1.0000\n",
            "Epoch 356/400\n",
            "3/3 [==============================] - 0s 8ms/step - loss: 0.1881 - accuracy: 1.0000\n",
            "Epoch 357/400\n",
            "3/3 [==============================] - 0s 7ms/step - loss: 0.1862 - accuracy: 1.0000\n",
            "Epoch 358/400\n",
            "3/3 [==============================] - 0s 8ms/step - loss: 0.1850 - accuracy: 1.0000\n",
            "Epoch 359/400\n",
            "3/3 [==============================] - 0s 8ms/step - loss: 0.1835 - accuracy: 1.0000\n",
            "Epoch 360/400\n",
            "3/3 [==============================] - 0s 7ms/step - loss: 0.1816 - accuracy: 1.0000\n",
            "Epoch 361/400\n",
            "3/3 [==============================] - 0s 9ms/step - loss: 0.1802 - accuracy: 1.0000\n",
            "Epoch 362/400\n",
            "3/3 [==============================] - 0s 8ms/step - loss: 0.1788 - accuracy: 1.0000\n",
            "Epoch 363/400\n",
            "3/3 [==============================] - 0s 8ms/step - loss: 0.1774 - accuracy: 1.0000\n",
            "Epoch 364/400\n",
            "3/3 [==============================] - 0s 8ms/step - loss: 0.1759 - accuracy: 1.0000\n",
            "Epoch 365/400\n",
            "3/3 [==============================] - 0s 8ms/step - loss: 0.1744 - accuracy: 1.0000\n",
            "Epoch 366/400\n",
            "3/3 [==============================] - 0s 9ms/step - loss: 0.1733 - accuracy: 1.0000\n",
            "Epoch 367/400\n",
            "3/3 [==============================] - 0s 8ms/step - loss: 0.1719 - accuracy: 1.0000\n",
            "Epoch 368/400\n",
            "3/3 [==============================] - 0s 7ms/step - loss: 0.1705 - accuracy: 1.0000\n",
            "Epoch 369/400\n",
            "3/3 [==============================] - 0s 11ms/step - loss: 0.1688 - accuracy: 1.0000\n",
            "Epoch 370/400\n",
            "3/3 [==============================] - 0s 9ms/step - loss: 0.1674 - accuracy: 1.0000\n",
            "Epoch 371/400\n",
            "3/3 [==============================] - 0s 8ms/step - loss: 0.1662 - accuracy: 1.0000\n",
            "Epoch 372/400\n",
            "3/3 [==============================] - 0s 8ms/step - loss: 0.1649 - accuracy: 1.0000\n",
            "Epoch 373/400\n",
            "3/3 [==============================] - 0s 11ms/step - loss: 0.1635 - accuracy: 1.0000\n",
            "Epoch 374/400\n",
            "3/3 [==============================] - 0s 8ms/step - loss: 0.1622 - accuracy: 1.0000\n",
            "Epoch 375/400\n",
            "3/3 [==============================] - 0s 8ms/step - loss: 0.1608 - accuracy: 1.0000\n",
            "Epoch 376/400\n",
            "3/3 [==============================] - 0s 10ms/step - loss: 0.1599 - accuracy: 1.0000\n",
            "Epoch 377/400\n",
            "3/3 [==============================] - 0s 8ms/step - loss: 0.1584 - accuracy: 1.0000\n",
            "Epoch 378/400\n",
            "3/3 [==============================] - 0s 8ms/step - loss: 0.1569 - accuracy: 1.0000\n",
            "Epoch 379/400\n",
            "3/3 [==============================] - 0s 8ms/step - loss: 0.1559 - accuracy: 1.0000\n",
            "Epoch 380/400\n",
            "3/3 [==============================] - 0s 8ms/step - loss: 0.1547 - accuracy: 1.0000\n",
            "Epoch 381/400\n",
            "3/3 [==============================] - 0s 9ms/step - loss: 0.1531 - accuracy: 1.0000\n",
            "Epoch 382/400\n",
            "3/3 [==============================] - 0s 8ms/step - loss: 0.1521 - accuracy: 1.0000\n",
            "Epoch 383/400\n",
            "3/3 [==============================] - 0s 8ms/step - loss: 0.1506 - accuracy: 1.0000\n",
            "Epoch 384/400\n",
            "3/3 [==============================] - 0s 8ms/step - loss: 0.1496 - accuracy: 1.0000\n",
            "Epoch 385/400\n",
            "3/3 [==============================] - 0s 8ms/step - loss: 0.1485 - accuracy: 1.0000\n",
            "Epoch 386/400\n",
            "3/3 [==============================] - 0s 10ms/step - loss: 0.1474 - accuracy: 1.0000\n",
            "Epoch 387/400\n",
            "3/3 [==============================] - 0s 8ms/step - loss: 0.1460 - accuracy: 1.0000\n",
            "Epoch 388/400\n",
            "3/3 [==============================] - 0s 9ms/step - loss: 0.1450 - accuracy: 1.0000\n",
            "Epoch 389/400\n",
            "3/3 [==============================] - 0s 8ms/step - loss: 0.1439 - accuracy: 1.0000\n",
            "Epoch 390/400\n",
            "3/3 [==============================] - 0s 8ms/step - loss: 0.1428 - accuracy: 1.0000\n",
            "Epoch 391/400\n",
            "3/3 [==============================] - 0s 8ms/step - loss: 0.1418 - accuracy: 1.0000\n",
            "Epoch 392/400\n",
            "3/3 [==============================] - 0s 12ms/step - loss: 0.1408 - accuracy: 1.0000\n",
            "Epoch 393/400\n",
            "3/3 [==============================] - 0s 8ms/step - loss: 0.1397 - accuracy: 1.0000\n",
            "Epoch 394/400\n",
            "3/3 [==============================] - 0s 8ms/step - loss: 0.1387 - accuracy: 1.0000\n",
            "Epoch 395/400\n",
            "3/3 [==============================] - 0s 8ms/step - loss: 0.1375 - accuracy: 1.0000\n",
            "Epoch 396/400\n",
            "3/3 [==============================] - 0s 8ms/step - loss: 0.1366 - accuracy: 1.0000\n",
            "Epoch 397/400\n",
            "3/3 [==============================] - 0s 8ms/step - loss: 0.1357 - accuracy: 1.0000\n",
            "Epoch 398/400\n",
            "3/3 [==============================] - 0s 8ms/step - loss: 0.1346 - accuracy: 1.0000\n",
            "Epoch 399/400\n",
            "3/3 [==============================] - 0s 9ms/step - loss: 0.1336 - accuracy: 1.0000\n",
            "Epoch 400/400\n",
            "3/3 [==============================] - 0s 10ms/step - loss: 0.1326 - accuracy: 1.0000\n"
          ]
        }
      ]
    },
    {
      "cell_type": "markdown",
      "source": [
        "## Model Analysis"
      ],
      "metadata": {
        "id": "YazV-UcgSIwb"
      }
    },
    {
      "cell_type": "code",
      "source": [
        "plt.figure(figsize=(14, 5))\n",
        "plt.subplot(1, 2, 1)\n",
        "plt.plot(train.history['accuracy'], label='Training Set Accuracy')\n",
        "plt.legend(loc = 'lower right')\n",
        "plt.title('Accuracy')\n",
        "\n",
        "\n",
        "plt.subplot(1, 2, 2)\n",
        "plt.plot(train.history['loss'], label='Training Set Loss')\n",
        "plt.legend(loc = 'upper right')\n",
        "plt.title('Loss')\n",
        "plt.show()"
      ],
      "metadata": {
        "colab": {
          "base_uri": "https://localhost:8080/",
          "height": 336
        },
        "id": "6AS57iHuG2_4",
        "outputId": "a2cd898d-c76b-435e-abd5-5e6c64b121f4"
      },
      "execution_count": null,
      "outputs": [
        {
          "output_type": "display_data",
          "data": {
            "text/plain": [
              "<Figure size 1008x360 with 2 Axes>"
            ],
            "image/png": "[encoded data removed]"
          },
          "metadata": {
            "needs_background": "light"
          }
        }
      ]
    },
    {
      "cell_type": "markdown",
      "source": [
        "## Testing Chatbot Dan Tambahkan Suara Pada Chatbot"
      ],
      "metadata": {
        "id": "LAmzZVaSSLuy"
      }
    },
    {
      "cell_type": "code",
      "source": [
        "# Membuat Input Chat\n",
        "while True:\n",
        "  texts_p = []\n",
        "  prediction_input = input('👨‍🦰 Kamu : ')\n",
        "  \n",
        "  # Menghapus punktuasi dan konversi ke huruf kecil\n",
        "  prediction_input = [letters.lower() for letters in prediction_input if letters not in string.punctuation]\n",
        "  prediction_input = ''.join(prediction_input)\n",
        "  texts_p.append(prediction_input)\n",
        "\n",
        "  # Tokenisasi dan Padding\n",
        "  prediction_input = tokenizer.texts_to_sequences(texts_p)\n",
        "  prediction_input = np.array(prediction_input).reshape(-1)\n",
        "  prediction_input = pad_sequences([prediction_input],input_shape)\n",
        "\n",
        "\n",
        "  # Mendapatkan hasil keluaran pada model \n",
        "  output = model.predict(prediction_input)\n",
        "  output = output.argmax()\n",
        "\n",
        "  # Menemukan respon sesuai data tag dan memainkan voice bot\n",
        "  response_tag = le.inverse_transform([output])[0]\n",
        "  print(\"🤖 KadekBot : \", random.choice(responses[response_tag]))\n",
        "  tts = gTTS(random.choice(responses[response_tag]), lang='id')\n",
        "  # Simpan model voice bot ke dalam Google Drive\n",
        "  tts.save('/content/drive/MyDrive/msib/KadekBot.wav')\n",
        "  time.sleep(0.08)\n",
        "  # Load model voice bot from Google Drive\n",
        "  ipd.display(ipd.Audio('/content/drive/MyDrive/msib/KadekBot.wav', autoplay=False))\n",
        "  print(\"=\"*60 + \"\\n\")\n",
        "  # Tambahkan respon 'goodbye' agar bot bisa berhenti\n",
        "  if response_tag == \"goodbye\":\n",
        "    break"
      ],
      "metadata": {
        "colab": {
          "base_uri": "https://localhost:8080/",
          "height": 1000
        },
        "id": "gRHCtqQgH8U-",
        "outputId": "1dae5b79-5099-4a37-e862-aadcb9c85a92"
      },
      "execution_count": null,
      "outputs": [
        {
          "output_type": "stream",
          "name": "stdout",
          "text": [
            "👨‍🦰 Kamu : abdullah latif\n",
            "🤖 KadekBot :  Helo! Ini Kadekbot. Lagi kepo tentang kampus merdeka ya?\n"
          ]
        },
        {
          "output_type": "display_data",
          "data": {
            "text/plain": [
              "<IPython.lib.display.Audio object>"
            ],
            "text/html": [
              "\n",
              "                <audio  controls=\"controls\" >\n",
              "                    <source src=\"data:audio/x-wav;base64,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\" type=\"audio/x-wav\" />\n",
              "                    Your browser does not support the audio element.\n",
              "                </audio>\n",
              "              "
            ]
          },
          "metadata": {}
        },
        {
          "output_type": "stream",
          "name": "stdout",
          "text": [
            "============================================================\n",
            "\n",
            "👨‍🦰 Kamu : kampus merdeka\n",
            "🤖 KadekBot :  Mau tau tentang apa nih?\n"
          ]
        },
        {
          "output_type": "display_data",
          "data": {
            "text/plain": [
              "<IPython.lib.display.Audio object>"
            ],
            "text/html": [
              "\n",
              "                <audio  controls=\"controls\" >\n",
              "                    <source src=\"data:audio/x-wav;base64,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\" type=\"audio/x-wav\" />\n",
              "                    Your browser does not support the audio element.\n",
              "                </audio>\n",
              "              "
            ]
          },
          "metadata": {}
        },
        {
          "output_type": "stream",
          "name": "stdout",
          "text": [
            "============================================================\n",
            "\n",
            "👨‍🦰 Kamu : goodbye\n",
            "🤖 KadekBot :  Helo! Ini Kadekbot. Lagi kepo tentang kampus merdeka ya?\n"
          ]
        },
        {
          "output_type": "display_data",
          "data": {
            "text/plain": [
              "<IPython.lib.display.Audio object>"
            ],
            "text/html": [
              "\n",
              "                <audio  controls=\"controls\" >\n",
              "                    <source src=\"data:audio/x-wav;base64,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\" type=\"audio/x-wav\" />\n",
              "                    Your browser does not support the audio element.\n",
              "                </audio>\n",
              "              "
            ]
          },
          "metadata": {}
        },
        {
          "output_type": "stream",
          "name": "stdout",
          "text": [
            "============================================================\n",
            "\n",
            "👨‍🦰 Kamu : goodbye\n",
            "🤖 KadekBot :  Halo! Saya Kadekbot, salam kenal ya! Mau tau tentang kampus merdeka, kan?\n"
          ]
        },
        {
          "output_type": "display_data",
          "data": {
            "text/plain": [
              "<IPython.lib.display.Audio object>"
            ],
            "text/html": [
              "\n",
              "                <audio  controls=\"controls\" >\n",
              "                    <source src=\"data:audio/x-wav;base64,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\" type=\"audio/x-wav\" />\n",
              "                    Your browser does not support the audio element.\n",
              "                </audio>\n",
              "              "
            ]
          },
          "metadata": {}
        },
        {
          "output_type": "stream",
          "name": "stdout",
          "text": [
            "============================================================\n",
            "\n",
            "👨‍🦰 Kamu : goodbye\n",
            "🤖 KadekBot :  Hai! Kadekbot di sini. Mau tau informasi tentang apa nih?\n"
          ]
        },
        {
          "output_type": "display_data",
          "data": {
            "text/plain": [
              "<IPython.lib.display.Audio object>"
            ],
            "text/html": [
              "\n",
              "                <audio  controls=\"controls\" >\n",
              "                    <source src=\"data:audio/x-wav;base64,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\" type=\"audio/x-wav\" />\n",
              "                    Your browser does not support the audio element.\n",
              "                </audio>\n",
              "              "
            ]
          },
          "metadata": {}
        },
        {
          "output_type": "stream",
          "name": "stdout",
          "text": [
            "============================================================\n",
            "\n",
            "👨‍🦰 Kamu : iya\n",
            "🤖 KadekBot :  Halo! Saya Kadekbot, salam kenal ya! Mau tau tentang kampus merdeka, kan?\n"
          ]
        },
        {
          "output_type": "display_data",
          "data": {
            "text/plain": [
              "<IPython.lib.display.Audio object>"
            ],
            "text/html": [
              "\n",
              "                <audio  controls=\"controls\" >\n",
              "                    <source src=\"data:audio/x-wav;base64,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\" type=\"audio/x-wav\" />\n",
              "                    Your browser does not support the audio element.\n",
              "                </audio>\n",
              "              "
            ]
          },
          "metadata": {}
        },
        {
          "output_type": "stream",
          "name": "stdout",
          "text": [
            "============================================================\n",
            "\n",
            "👨‍🦰 Kamu : goodbye\n",
            "🤖 KadekBot :  Hai! Kadekbot di sini. Mau tau informasi tentang apa nih?\n"
          ]
        },
        {
          "output_type": "display_data",
          "data": {
            "text/plain": [
              "<IPython.lib.display.Audio object>"
            ],
            "text/html": [
              "\n",
              "                <audio  controls=\"controls\" >\n",
              "                    <source src=\"data:audio/x-wav;base64,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\" type=\"audio/x-wav\" />\n",
              "                    Your browser does not support the audio element.\n",
              "                </audio>\n",
              "              "
            ]
          },
          "metadata": {}
        },
        {
          "output_type": "stream",
          "name": "stdout",
          "text": [
            "============================================================\n",
            "\n"
          ]
        },
        {
          "output_type": "error",
          "ename": "KeyboardInterrupt",
          "evalue": "ignored",
          "traceback": [
            "\u001b[0;31m---------------------------------------------------------------------------\u001b[0m",
            "\u001b[0;31mKeyboardInterrupt\u001b[0m                         Traceback (most recent call last)",
            "\u001b[0;32m<ipython-input-31-cdb6b3527687>\u001b[0m in \u001b[0;36m<module>\u001b[0;34m\u001b[0m\n\u001b[1;32m      2\u001b[0m \u001b[0;32mwhile\u001b[0m \u001b[0;32mTrue\u001b[0m\u001b[0;34m:\u001b[0m\u001b[0;34m\u001b[0m\u001b[0;34m\u001b[0m\u001b[0m\n\u001b[1;32m      3\u001b[0m   \u001b[0mtexts_p\u001b[0m \u001b[0;34m=\u001b[0m \u001b[0;34m[\u001b[0m\u001b[0;34m]\u001b[0m\u001b[0;34m\u001b[0m\u001b[0;34m\u001b[0m\u001b[0m\n\u001b[0;32m----> 4\u001b[0;31m   \u001b[0mprediction_input\u001b[0m \u001b[0;34m=\u001b[0m \u001b[0minput\u001b[0m\u001b[0;34m(\u001b[0m\u001b[0;34m'👨‍🦰 Kamu : '\u001b[0m\u001b[0;34m)\u001b[0m\u001b[0;34m\u001b[0m\u001b[0;34m\u001b[0m\u001b[0m\n\u001b[0m\u001b[1;32m      5\u001b[0m \u001b[0;34m\u001b[0m\u001b[0m\n\u001b[1;32m      6\u001b[0m   \u001b[0;31m# Menghapus punktuasi dan konversi ke huruf kecil\u001b[0m\u001b[0;34m\u001b[0m\u001b[0;34m\u001b[0m\u001b[0;34m\u001b[0m\u001b[0m\n",
            "\u001b[0;32m/usr/local/lib/python3.7/dist-packages/ipykernel/kernelbase.py\u001b[0m in \u001b[0;36mraw_input\u001b[0;34m(self, prompt)\u001b[0m\n\u001b[1;32m    861\u001b[0m             \u001b[0mself\u001b[0m\u001b[0;34m.\u001b[0m\u001b[0m_parent_ident\u001b[0m\u001b[0;34m,\u001b[0m\u001b[0;34m\u001b[0m\u001b[0;34m\u001b[0m\u001b[0m\n\u001b[1;32m    862\u001b[0m             \u001b[0mself\u001b[0m\u001b[0;34m.\u001b[0m\u001b[0m_parent_header\u001b[0m\u001b[0;34m,\u001b[0m\u001b[0;34m\u001b[0m\u001b[0;34m\u001b[0m\u001b[0m\n\u001b[0;32m--> 863\u001b[0;31m             \u001b[0mpassword\u001b[0m\u001b[0;34m=\u001b[0m\u001b[0;32mFalse\u001b[0m\u001b[0;34m,\u001b[0m\u001b[0;34m\u001b[0m\u001b[0;34m\u001b[0m\u001b[0m\n\u001b[0m\u001b[1;32m    864\u001b[0m         )\n\u001b[1;32m    865\u001b[0m \u001b[0;34m\u001b[0m\u001b[0m\n",
            "\u001b[0;32m/usr/local/lib/python3.7/dist-packages/ipykernel/kernelbase.py\u001b[0m in \u001b[0;36m_input_request\u001b[0;34m(self, prompt, ident, parent, password)\u001b[0m\n\u001b[1;32m    902\u001b[0m             \u001b[0;32mexcept\u001b[0m \u001b[0mKeyboardInterrupt\u001b[0m\u001b[0;34m:\u001b[0m\u001b[0;34m\u001b[0m\u001b[0;34m\u001b[0m\u001b[0m\n\u001b[1;32m    903\u001b[0m                 \u001b[0;31m# re-raise KeyboardInterrupt, to truncate traceback\u001b[0m\u001b[0;34m\u001b[0m\u001b[0;34m\u001b[0m\u001b[0;34m\u001b[0m\u001b[0m\n\u001b[0;32m--> 904\u001b[0;31m                 \u001b[0;32mraise\u001b[0m \u001b[0mKeyboardInterrupt\u001b[0m\u001b[0;34m(\u001b[0m\u001b[0;34m\"Interrupted by user\"\u001b[0m\u001b[0;34m)\u001b[0m \u001b[0;32mfrom\u001b[0m \u001b[0;32mNone\u001b[0m\u001b[0;34m\u001b[0m\u001b[0;34m\u001b[0m\u001b[0m\n\u001b[0m\u001b[1;32m    905\u001b[0m             \u001b[0;32mexcept\u001b[0m \u001b[0mException\u001b[0m \u001b[0;32mas\u001b[0m \u001b[0me\u001b[0m\u001b[0;34m:\u001b[0m\u001b[0;34m\u001b[0m\u001b[0;34m\u001b[0m\u001b[0m\n\u001b[1;32m    906\u001b[0m                 \u001b[0mself\u001b[0m\u001b[0;34m.\u001b[0m\u001b[0mlog\u001b[0m\u001b[0;34m.\u001b[0m\u001b[0mwarning\u001b[0m\u001b[0;34m(\u001b[0m\u001b[0;34m\"Invalid Message:\"\u001b[0m\u001b[0;34m,\u001b[0m \u001b[0mexc_info\u001b[0m\u001b[0;34m=\u001b[0m\u001b[0;32mTrue\u001b[0m\u001b[0;34m)\u001b[0m\u001b[0;34m\u001b[0m\u001b[0;34m\u001b[0m\u001b[0m\n",
            "\u001b[0;31mKeyboardInterrupt\u001b[0m: Interrupted by user"
          ]
        }
      ]
    },
    {
      "cell_type": "markdown",
      "source": [],
      "metadata": {
        "id": "uwMJhQlygyLe"
      }
    },
    {
      "cell_type": "markdown",
      "source": [],
      "metadata": {
        "id": "jvuEqi3DgyxN"
      }
    },
    {
      "cell_type": "code",
      "source": [],
      "metadata": {
        "id": "YZ-EZobagzHI"
      },
      "execution_count": null,
      "outputs": []
    },
    {
      "cell_type": "code",
      "source": [],
      "metadata": {
        "id": "J5lVzznqgztr"
      },
      "execution_count": null,
      "outputs": []
    },
    {
      "cell_type": "markdown",
      "source": [
        "Save The Model"
      ],
      "metadata": {
        "id": "FtUOtUtWSPix"
      }
    },
    {
      "cell_type": "code",
      "source": [
        "# Simpan model dalam bentuk format file .h5 atau .pkl (pickle)\n",
        "model.save('/content/drive/MyDrive/msib/chat_model.h5')\n",
        "\n",
        "print('Model Created Successfully!')"
      ],
      "metadata": {
        "colab": {
          "base_uri": "https://localhost:8080/"
        },
        "id": "6dQTZlvJMWZl",
        "outputId": "9c7eb180-e388-445c-f7f9-b2a788160295"
      },
      "execution_count": null,
      "outputs": [
        {
          "output_type": "stream",
          "name": "stdout",
          "text": [
            "Model Created Successfully!\n"
          ]
        }
      ]
    }
  ]
}