{
  "nbformat": 4,
  "nbformat_minor": 0,
  "metadata": {
    "colab": {
      "provenance": [],
      "collapsed_sections": [],
      "include_colab_link": true
    },
    "kernelspec": {
      "name": "python3",
      "display_name": "Python 3"
    },
    "language_info": {
      "name": "python"
    }
  },
  "cells": [
    {
      "cell_type": "markdown",
      "metadata": {
        "id": "view-in-github",
        "colab_type": "text"
      },
      "source": [
        "<a href=\"https://colab.research.google.com/github/Ayuningtyas65/MSIB/blob/main/Self%20Learning%204.ipynb\" target=\"_parent\"><img src=\"https://colab.research.google.com/assets/colab-badge.svg\" alt=\"Open In Colab\"/></a>"
      ]
    },
    {
      "cell_type": "markdown",
      "source": [
        "# 1. Program untuk menghitung upah bersih karyawan"
      ],
      "metadata": {
        "id": "kjKrYSAFK5TP"
      }
    },
    {
      "cell_type": "markdown",
      "source": [
        "Tri Mulyani Ayuningtyas"
      ],
      "metadata": {
        "id": "myLyK5G_Gs3R"
      }
    },
    {
      "cell_type": "code",
      "execution_count": null,
      "metadata": {
        "colab": {
          "base_uri": "https://localhost:8080/"
        },
        "id": "SepkcipmjF52",
        "outputId": "99aab007-b555-44db-f99b-15a2a02a18ff"
      },
      "outputs": [
        {
          "output_type": "stream",
          "name": "stdout",
          "text": [
            "Perhitungan Upah Bersih : \n",
            "\n",
            "Nama Karyawan\t:  Anna\n",
            "Golongan\t:  2\n",
            "Overtime\t:  1500000\n",
            "Gaji Pokok\t:  7500000\n",
            "Tunjangan\t:  750000.0\n",
            "Overtime\t:  1500000\n",
            "Upah Kotor\t:  9750000.0\n",
            "Potongan\t:  195000.0\n",
            "Gaji Bersih\t:  9555000.0\n",
            "\n",
            "Gaji Bersih Anda adalah Rp. 9555000.0\n",
            "=======================================\n",
            "\n",
            "Perhitungan Upah Bersih : \n",
            "\n",
            "Nama Karyawan\t:  Dimas\n",
            "Golongan\t:  3\n",
            "Overtime\t:  1500000\n",
            "Gaji Pokok\t:  5000000\n",
            "Tunjangan\t:  250000.0\n",
            "Overtime\t:  1500000\n",
            "Upah Kotor\t:  6750000.0\n",
            "Potongan\t:  135000.0\n",
            "Gaji Bersih\t:  6615000.0\n",
            "\n",
            "Gaji Bersih Anda adalah Rp. 6615000.0\n",
            "=======================================\n",
            "\n",
            "Perhitungan Upah Bersih : \n",
            "\n",
            "Nama Karyawan\t:  Sriyono\n",
            "Golongan\t:  1\n",
            "Overtime\t:  0\n",
            "Gaji Pokok\t:  15000000\n",
            "Tunjangan\t:  2250000.0\n",
            "Overtime\t:  0\n",
            "Upah Kotor\t:  17250000.0\n",
            "Potongan\t:  345000.0\n",
            "Gaji Bersih\t:  16905000.0\n",
            "\n",
            "Gaji Bersih Anda adalah Rp. 16905000.0\n",
            "=======================================\n",
            "\n",
            "Perhitungan Upah Bersih : \n",
            "\n",
            "Nama Karyawan\t:  Oky\n",
            "Golongan\t:  2\n",
            "Overtime\t:  1200000\n",
            "Gaji Pokok\t:  7500000\n",
            "Tunjangan\t:  750000.0\n",
            "Overtime\t:  1200000\n",
            "Upah Kotor\t:  9450000.0\n",
            "Potongan\t:  189000.0\n",
            "Gaji Bersih\t:  9261000.0\n",
            "\n",
            "Gaji Bersih Anda adalah Rp. 9261000.0\n",
            "=======================================\n",
            "\n",
            "Perhitungan Upah Bersih : \n",
            "\n",
            "Nama Karyawan\t:  Wati\n",
            "Golongan\t:  1\n",
            "Overtime\t:  0\n",
            "Gaji Pokok\t:  15000000\n",
            "Tunjangan\t:  2250000.0\n",
            "Overtime\t:  0\n",
            "Upah Kotor\t:  17250000.0\n",
            "Potongan\t:  345000.0\n",
            "Gaji Bersih\t:  16905000.0\n",
            "\n",
            "Gaji Bersih Anda adalah Rp. 16905000.0\n",
            "=======================================\n",
            "\n",
            "Perhitungan Upah Bersih : \n",
            "\n",
            "Nama Karyawan\t:  Yayan\n",
            "Golongan\t:  3\n",
            "Overtime\t:  1700000\n",
            "Gaji Pokok\t:  5000000\n",
            "Tunjangan\t:  250000.0\n",
            "Overtime\t:  1700000\n",
            "Upah Kotor\t:  6950000.0\n",
            "Potongan\t:  139000.0\n",
            "Gaji Bersih\t:  6811000.0\n",
            "\n",
            "Gaji Bersih Anda adalah Rp. 6811000.0\n",
            "=======================================\n",
            "\n"
          ]
        }
      ],
      "source": [
        "def upah_bersih(nama, golongan, overtime):\n",
        "  if golongan == 1:\n",
        "    print(\"Perhitungan Upah Bersih : \")\n",
        "    gaji_pokok = 15000000\n",
        "    tunjangan = gaji_pokok * 15/100\n",
        "    overtime = 0 * overtime\n",
        "\n",
        "    upah_kotor = gaji_pokok + tunjangan + overtime\n",
        "    potongan = upah_kotor * 2/100\n",
        "    upah_bersih = upah_kotor - potongan\n",
        "\n",
        "    print(\"\\nNama Karyawan\\t: \", nama)\n",
        "    print(\"Golongan\\t: \", golongan)\n",
        "    print(\"Overtime\\t: \", overtime)\n",
        "    print(\"Gaji Pokok\\t: \", gaji_pokok)\n",
        "    print(\"Tunjangan\\t: \", tunjangan)\n",
        "    print(\"Overtime\\t: \", overtime)\n",
        "    print(\"Upah Kotor\\t: \", upah_kotor)\n",
        "    print(\"Potongan\\t: \", potongan)\n",
        "    print(\"Gaji Bersih\\t: \", upah_bersih)\n",
        "    print(\"\\nGaji Bersih Anda adalah Rp.\", upah_bersih)\n",
        "    print(\"=======================================\\n\")\n",
        "\n",
        "  elif golongan == 2:\n",
        "    print(\"Perhitungan Upah Bersih : \")\n",
        "    gaji_pokok = 7500000\n",
        "    tunjangan = gaji_pokok * 10/100\n",
        "    overtime = 150000 * overtime\n",
        "\n",
        "    upah_kotor = gaji_pokok + tunjangan + overtime\n",
        "    potongan = upah_kotor * 2/100\n",
        "    upah_bersih = upah_kotor - potongan\n",
        "\n",
        "    print(\"\\nNama Karyawan\\t: \", nama)\n",
        "    print(\"Golongan\\t: \", golongan)\n",
        "    print(\"Overtime\\t: \", overtime)\n",
        "    print(\"Gaji Pokok\\t: \", gaji_pokok)\n",
        "    print(\"Tunjangan\\t: \", tunjangan)\n",
        "    print(\"Overtime\\t: \", overtime)\n",
        "    print(\"Upah Kotor\\t: \", upah_kotor)\n",
        "    print(\"Potongan\\t: \", potongan)\n",
        "    print(\"Gaji Bersih\\t: \", upah_bersih)\n",
        "    print(\"\\nGaji Bersih Anda adalah Rp.\", upah_bersih)\n",
        "    print(\"=======================================\\n\")\n",
        "\n",
        "  elif golongan == 3:\n",
        "    print(\"Perhitungan Upah Bersih : \")\n",
        "    gaji_pokok = 5000000\n",
        "    tunjangan = gaji_pokok * 5/100\n",
        "    overtime = 100000 * overtime\n",
        "\n",
        "    upah_kotor = gaji_pokok + tunjangan + overtime\n",
        "    potongan = upah_kotor * 2/100\n",
        "    upah_bersih = upah_kotor - potongan\n",
        "\n",
        "    print(\"\\nNama Karyawan\\t: \", nama)\n",
        "    print(\"Golongan\\t: \", golongan)\n",
        "    print(\"Overtime\\t: \", overtime)\n",
        "    print(\"Gaji Pokok\\t: \", gaji_pokok)\n",
        "    print(\"Tunjangan\\t: \", tunjangan)\n",
        "    print(\"Overtime\\t: \", overtime)\n",
        "    print(\"Upah Kotor\\t: \", upah_kotor)\n",
        "    print(\"Potongan\\t: \", potongan)\n",
        "    print(\"Gaji Bersih\\t: \", upah_bersih)\n",
        "    print(\"\\nGaji Bersih Anda adalah Rp.\", upah_bersih)\n",
        "    print(\"=======================================\\n\")\n",
        "    \n",
        "upah_bersih(\"Anna\", 2, 10)\n",
        "upah_bersih(\"Dimas\", 3, 15)\n",
        "upah_bersih(\"Sriyono\", 1, 3)\n",
        "upah_bersih(\"Oky\", 2, 8)\n",
        "upah_bersih(\"Wati\", 1, 6)\n",
        "upah_bersih(\"Yayan\", 3, 17)"
      ]
    },
    {
      "cell_type": "markdown",
      "source": [
        "# 2. Lambda"
      ],
      "metadata": {
        "id": "ut66QATdLevR"
      }
    },
    {
      "cell_type": "code",
      "source": [
        "mul_2 = [(lambda x: x*2)(x) for x in range(1, 31)]\n",
        "print(mul_2)"
      ],
      "metadata": {
        "colab": {
          "base_uri": "https://localhost:8080/"
        },
        "id": "0tPEapEQnTN8",
        "outputId": "b4808e65-7456-4f30-b5e2-fe53139d29df"
      },
      "execution_count": null,
      "outputs": [
        {
          "output_type": "stream",
          "name": "stdout",
          "text": [
            "[2, 4, 6, 8, 10, 12, 14, 16, 18, 20, 22, 24, 26, 28, 30, 32, 34, 36, 38, 40, 42, 44, 46, 48, 50, 52, 54, 56, 58, 60]\n"
          ]
        }
      ]
    }
  ]
}