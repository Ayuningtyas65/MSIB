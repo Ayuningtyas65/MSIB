{
  "nbformat": 4,
  "nbformat_minor": 0,
  "metadata": {
    "colab": {
      "name": "Self Learning 29/08/2022.ipynb",
      "provenance": [],
      "toc_visible": true,
      "include_colab_link": true
    },
    "kernelspec": {
      "name": "python3",
      "display_name": "Python 3"
    },
    "language_info": {
      "name": "python"
    }
  },
  "cells": [
    {
      "cell_type": "markdown",
      "metadata": {
        "id": "view-in-github",
        "colab_type": "text"
      },
      "source": [
        "<a href=\"https://colab.research.google.com/github/Ayuningtyas65/MSIB/blob/main/Self_Learning%201.ipynb\" target=\"_parent\"><img src=\"https://colab.research.google.com/assets/colab-badge.svg\" alt=\"Open In Colab\"/></a>"
      ]
    },
    {
      "cell_type": "markdown",
      "source": [
        "a. PERSEGI"
      ],
      "metadata": {
        "id": "iPwMTKjknTb1"
      }
    },
    {
      "cell_type": "code",
      "execution_count": null,
      "metadata": {
        "colab": {
          "base_uri": "https://localhost:8080/"
        },
        "id": "N8xEnBmUVI80",
        "outputId": "606cbab1-1b33-405b-c395-974439d3d2f2"
      },
      "outputs": [
        {
          "output_type": "stream",
          "name": "stdout",
          "text": [
            "mencari luas persegi\n",
            "\n",
            "masukan sisi : 10\n",
            "hasil :  100\n"
          ]
        }
      ],
      "source": [
        "#mencari luas persegi\n",
        "#rumus s x s\n",
        "print(\"mencari luas persegi\\n\")\n",
        "\n",
        "s = int(input(\"masukan sisi : \"))\n",
        "\n",
        "\n",
        "persegi = s * s\n",
        "print(\"hasil : \",persegi)\n"
      ]
    },
    {
      "cell_type": "code",
      "source": [
        "#mencari keliling persegi\n",
        "#rumus s x 4\n",
        "print(\"mencari keliling persegi\")\n",
        "\n",
        "s = int(input(\"masukan sisi : \"))\n",
        "\n",
        "keliling = s * 4\n",
        "print(\"hasil : \",keliling)"
      ],
      "metadata": {
        "colab": {
          "base_uri": "https://localhost:8080/"
        },
        "id": "akxK3kAMnI7J",
        "outputId": "c8359ede-0a81-4ced-b83e-9227bdc85365"
      },
      "execution_count": null,
      "outputs": [
        {
          "output_type": "stream",
          "name": "stdout",
          "text": [
            "mencari keliling persegi\n",
            "masukan sisi : 10\n",
            "hasil :  40\n"
          ]
        }
      ]
    },
    {
      "cell_type": "markdown",
      "source": [
        "b. PERSEGI PANJANG"
      ],
      "metadata": {
        "id": "0bj7KKZxofH-"
      }
    },
    {
      "cell_type": "code",
      "source": [
        "#mencari luas persegi panjang\n",
        "#rumus p x l\n",
        "\n",
        "print(\"mencari luas persegi panjang\\n\")\n",
        "\n",
        "p = int(input(\"masukkan panjang : \"))\n",
        "l = int(input(\"masukkan lebar \\t : \"))\n",
        "\n",
        "luas = p * l\n",
        "\n",
        "print(\"hasil : \",luas)\n"
      ],
      "metadata": {
        "colab": {
          "base_uri": "https://localhost:8080/"
        },
        "id": "UFdINJ05of2i",
        "outputId": "3c9bb176-1c7c-4619-d0bc-ad7331a9a421"
      },
      "execution_count": null,
      "outputs": [
        {
          "output_type": "stream",
          "name": "stdout",
          "text": [
            "mencari luas persegi panjang\n",
            "\n",
            "masukkan panjang : 10\n",
            "masukkan lebar \t : 10\n",
            "hasil :  100\n"
          ]
        }
      ]
    },
    {
      "cell_type": "code",
      "source": [
        "#mencari keliling persegi panjang\n",
        "#rumus 2 x (p + l)\n",
        "\n",
        "print(\"mencari keliling persegi panjang\\n\")\n",
        "\n",
        "p = int(input(\"masukkan panjang : \"))\n",
        "l = int(input(\"masukkan lebar : \"))\n",
        "\n",
        "keliling = 2 * (p + l)\n",
        "\n",
        "print(\"hasil : \",keliling)"
      ],
      "metadata": {
        "colab": {
          "base_uri": "https://localhost:8080/"
        },
        "id": "Ae1gQlyVq0jM",
        "outputId": "2d026894-2649-499a-a977-29fdc71802fe"
      },
      "execution_count": null,
      "outputs": [
        {
          "output_type": "stream",
          "name": "stdout",
          "text": [
            "mencari keliling persegi panjang\n",
            "\n",
            "masukkan panjang : 10\n",
            "masukkan lebar : 10\n",
            "hasil :  40\n"
          ]
        }
      ]
    },
    {
      "cell_type": "markdown",
      "source": [
        "c. JAJAR GENJANG"
      ],
      "metadata": {
        "id": "m_BKnt0hr0Ib"
      }
    },
    {
      "cell_type": "code",
      "source": [
        "#mencari luas jajar genjang\n",
        "#rumus a x t\n",
        "\n",
        "print(\"mencari luas jajar genjang\\n\")\n",
        "\n",
        "a = int(input(\"masukkan nilai alas : \"))\n",
        "t = int(input(\"masukkan nilai tinggi : \"))\n",
        "\n",
        "luas = a * t\n",
        "\n",
        "print(\"hasil : \",luas)"
      ],
      "metadata": {
        "colab": {
          "base_uri": "https://localhost:8080/"
        },
        "id": "2buq6zhgr4ji",
        "outputId": "1aaf84ec-94f9-4c88-aeea-45acc3052615"
      },
      "execution_count": null,
      "outputs": [
        {
          "output_type": "stream",
          "name": "stdout",
          "text": [
            "mencari luas jajar genjang\n",
            "\n",
            "masukkan nilai alas : 10\n",
            "masukkan nilai tinggi : 10\n",
            "hasil :  100\n"
          ]
        }
      ]
    },
    {
      "cell_type": "code",
      "source": [
        "#mencari keliling jajar genjang\n",
        "#rumus 2 x (a + b)\n",
        "\n",
        "print(\"mencari keliling jajar genjang\\n\")\n",
        "\n",
        "a = int(input(\"masukkan nilai alas : \"))\n",
        "b = int(input(\"masukkan nilai sisi miring : \"))\n",
        "\n",
        "keliling = 2 * (a + b)\n",
        "\n",
        "print(\"hasil : \",keliling)"
      ],
      "metadata": {
        "colab": {
          "base_uri": "https://localhost:8080/"
        },
        "id": "I1zwPE39tvyv",
        "outputId": "8a23fcf6-35c6-44b1-d2fe-ca54a2c7c9a1"
      },
      "execution_count": null,
      "outputs": [
        {
          "output_type": "stream",
          "name": "stdout",
          "text": [
            "mencari keliling jajar genjang\n",
            "\n",
            "masukkan nilai alas : 10\n",
            "masukkan nilai sisi miring : 10\n",
            "hasil :  40\n"
          ]
        }
      ]
    },
    {
      "cell_type": "markdown",
      "source": [
        "d. Segitiga"
      ],
      "metadata": {
        "id": "cjfs66mKu5WE"
      }
    },
    {
      "cell_type": "code",
      "source": [
        "#mencari luas segitiga\n",
        "#rumus 1/2 x a x t\n",
        "\n",
        "print(\"mencari luas segitiga\\n\")\n",
        "\n",
        "a = int(input(\"masukan nilai sisi : \"))\n",
        "t = int(input(\"masukkan nilai tinggi : \"))\n",
        "\n",
        "luas = 1/2 * a * t\n",
        "\n",
        "print(\"hasil : \",luas)"
      ],
      "metadata": {
        "colab": {
          "base_uri": "https://localhost:8080/"
        },
        "id": "awCwU1UNu94n",
        "outputId": "4047be6d-8f23-4c37-9468-eb302603f518"
      },
      "execution_count": null,
      "outputs": [
        {
          "output_type": "stream",
          "name": "stdout",
          "text": [
            "mencari luas segitiga\n",
            "\n",
            "masukan nilai sisi : 10\n",
            "masukkan nilai tinggi : 10\n",
            "hasil :  50.0\n"
          ]
        }
      ]
    },
    {
      "cell_type": "code",
      "source": [
        "#mencari keliling segitiga\n",
        "#rumus a + b + c\n",
        "\n",
        "print(\"menghitung keliling segitiga\\n\")\n",
        "\n",
        "a = int(input(\"masukan nilai sisi 1 : \"))\n",
        "b = int(input(\"masukkan nilai sisi 2 : \"))\n",
        "c = int(input(\"masukkan nilai sisi 3 : \"))\n",
        "\n",
        "keliling = a + b + c\n",
        "\n",
        "print(\"hasil : \",keliling)"
      ],
      "metadata": {
        "colab": {
          "base_uri": "https://localhost:8080/"
        },
        "id": "ZUs0_6dsvZSa",
        "outputId": "3c47b3e0-3384-4e57-c59d-72a414a7f35f"
      },
      "execution_count": null,
      "outputs": [
        {
          "output_type": "stream",
          "name": "stdout",
          "text": [
            "menghitung keliling segitiga\n",
            "\n",
            "masukan nilai sisi 1 : 10\n",
            "masukkan nilai sisi 2 : 10\n",
            "masukkan nilai sisi 3 : 10\n",
            "hasil :  30\n"
          ]
        }
      ]
    }
  ]
}