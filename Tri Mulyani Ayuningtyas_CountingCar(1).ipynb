{
  "cells": [
    {
      "cell_type": "markdown",
      "source": [
        "Nama : Tri Mulyani Ayuningtyas\n",
        "\n",
        "Kelas : jumatec Class"
      ],
      "metadata": {
        "id": "QVQ_aWCy8aa0"
      }
    },
    {
      "cell_type": "code",
      "source": [
        "# Download Haar Feature\n",
        "!gdown \"1NWoVpB7R9oz6W5pg8fSMkIX81j1iStz1\""
      ],
      "metadata": {
        "id": "XnIuBDaCytCq",
        "colab": {
          "base_uri": "https://localhost:8080/"
        },
        "outputId": "1b7f1645-6505-4023-8611-e9ef62861734"
      },
      "execution_count": null,
      "outputs": [
        {
          "output_type": "stream",
          "name": "stdout",
          "text": [
            "Downloading...\n",
            "From: https://drive.google.com/uc?id=1NWoVpB7R9oz6W5pg8fSMkIX81j1iStz1\n",
            "To: /content/feature_haar.zip\n",
            "\r  0% 0.00/6.52M [00:00<?, ?B/s]\r100% 6.52M/6.52M [00:00<00:00, 287MB/s]\n"
          ]
        }
      ]
    },
    {
      "cell_type": "code",
      "source": [
        "#Extract Zipfile\n",
        "import zipfile\n",
        "\n",
        "with zipfile.ZipFile(\"feature_haar.zip\", 'r') as zip_ref:\n",
        "    zip_ref.extractall(\"/content\")"
      ],
      "metadata": {
        "id": "pmv2W_D5zAol"
      },
      "execution_count": null,
      "outputs": []
    },
    {
      "cell_type": "code",
      "source": [
        "from IPython.display import display, Javascript\n",
        "from google.colab.output import eval_js\n",
        "from base64 import b64encode\n",
        "import cv2\n",
        "\n",
        "def imshow(name, img):\n",
        "  \"\"\"Put frame as <img src=\"data:image/jpg;base64,....\"> \"\"\"\n",
        "\n",
        "  js = Javascript('''\n",
        "  async function showImage(name, image, width, height) {\n",
        "    img = document.getElementById(name);\n",
        "    if(img == null) {\n",
        "      img = document.createElement('img');\n",
        "      img.id = name;\n",
        "      document.body.appendChild(img);\n",
        "    }\n",
        "    img.src = image;\n",
        "    img.width = width;\n",
        "    img.height = height;\n",
        "  }\n",
        "  ''')\n",
        "\n",
        "  height, width = img.shape[:2]\n",
        "\n",
        "  ret, data = cv2.imencode('.jpg', img)   # compress array of pixels ke format JPG\n",
        "  data = b64encode(data)                  # encode base64\n",
        "  data = data.decode()                    # convert bytes to string\n",
        "  data = 'data:image/jpg;base64,' + data  # join header (\"data:image/jpg;base64,\") and base64 data (JPG)\n",
        "\n",
        "  display(js)\n",
        "  eval_js(f'showImage(\"{name}\", \"{data}\", {width}, {height})')  # run JavaScript untuk masukin gambar (JPG as string base64) di tag <img>\n",
        "                                          # `name` and `data` in needs `\" \"` to send it as text, not as name of variabe."
      ],
      "metadata": {
        "id": "nC5zgwFHzpU4"
      },
      "execution_count": null,
      "outputs": []
    },
    {
      "cell_type": "code",
      "execution_count": null,
      "metadata": {
        "id": "mhTd7fnJNid5",
        "colab": {
          "base_uri": "https://localhost:8080/",
          "height": 1000
        },
        "outputId": "369f9c91-522d-4c24-be77-08ad1498c48a"
      },
      "outputs": [
        {
          "output_type": "display_data",
          "data": {
            "text/plain": [
              "<IPython.core.display.Javascript object>"
            ],
            "application/javascript": [
              "\n",
              "  async function showImage(name, image, width, height) {\n",
              "    img = document.getElementById(name);\n",
              "    if(img == null) {\n",
              "      img = document.createElement('img');\n",
              "      img.id = name;\n",
              "      document.body.appendChild(img);\n",
              "    }\n",
              "    img.src = image;\n",
              "    img.width = width;\n",
              "    img.height = height;\n",
              "  }\n",
              "  "
            ]
          },
          "metadata": {}
        },
        {
          "output_type": "display_data",
          "data": {
            "text/plain": [
              "<IPython.core.display.Javascript object>"
            ],
            "application/javascript": [
              "\n",
              "  async function showImage(name, image, width, height) {\n",
              "    img = document.getElementById(name);\n",
              "    if(img == null) {\n",
              "      img = document.createElement('img');\n",
              "      img.id = name;\n",
              "      document.body.appendChild(img);\n",
              "    }\n",
              "    img.src = image;\n",
              "    img.width = width;\n",
              "    img.height = height;\n",
              "  }\n",
              "  "
            ]
          },
          "metadata": {}
        },
        {
          "output_type": "display_data",
          "data": {
            "text/plain": [
              "<IPython.core.display.Javascript object>"
            ],
            "application/javascript": [
              "\n",
              "  async function showImage(name, image, width, height) {\n",
              "    img = document.getElementById(name);\n",
              "    if(img == null) {\n",
              "      img = document.createElement('img');\n",
              "      img.id = name;\n",
              "      document.body.appendChild(img);\n",
              "    }\n",
              "    img.src = image;\n",
              "    img.width = width;\n",
              "    img.height = height;\n",
              "  }\n",
              "  "
            ]
          },
          "metadata": {}
        },
        {
          "output_type": "display_data",
          "data": {
            "text/plain": [
              "<IPython.core.display.Javascript object>"
            ],
            "application/javascript": [
              "\n",
              "  async function showImage(name, image, width, height) {\n",
              "    img = document.getElementById(name);\n",
              "    if(img == null) {\n",
              "      img = document.createElement('img');\n",
              "      img.id = name;\n",
              "      document.body.appendChild(img);\n",
              "    }\n",
              "    img.src = image;\n",
              "    img.width = width;\n",
              "    img.height = height;\n",
              "  }\n",
              "  "
            ]
          },
          "metadata": {}
        },
        {
          "output_type": "display_data",
          "data": {
            "text/plain": [
              "<IPython.core.display.Javascript object>"
            ],
            "application/javascript": [
              "\n",
              "  async function showImage(name, image, width, height) {\n",
              "    img = document.getElementById(name);\n",
              "    if(img == null) {\n",
              "      img = document.createElement('img');\n",
              "      img.id = name;\n",
              "      document.body.appendChild(img);\n",
              "    }\n",
              "    img.src = image;\n",
              "    img.width = width;\n",
              "    img.height = height;\n",
              "  }\n",
              "  "
            ]
          },
          "metadata": {}
        },
        {
          "output_type": "display_data",
          "data": {
            "text/plain": [
              "<IPython.core.display.Javascript object>"
            ],
            "application/javascript": [
              "\n",
              "  async function showImage(name, image, width, height) {\n",
              "    img = document.getElementById(name);\n",
              "    if(img == null) {\n",
              "      img = document.createElement('img');\n",
              "      img.id = name;\n",
              "      document.body.appendChild(img);\n",
              "    }\n",
              "    img.src = image;\n",
              "    img.width = width;\n",
              "    img.height = height;\n",
              "  }\n",
              "  "
            ]
          },
          "metadata": {}
        },
        {
          "output_type": "display_data",
          "data": {
            "text/plain": [
              "<IPython.core.display.Javascript object>"
            ],
            "application/javascript": [
              "\n",
              "  async function showImage(name, image, width, height) {\n",
              "    img = document.getElementById(name);\n",
              "    if(img == null) {\n",
              "      img = document.createElement('img');\n",
              "      img.id = name;\n",
              "      document.body.appendChild(img);\n",
              "    }\n",
              "    img.src = image;\n",
              "    img.width = width;\n",
              "    img.height = height;\n",
              "  }\n",
              "  "
            ]
          },
          "metadata": {}
        },
        {
          "output_type": "display_data",
          "data": {
            "text/plain": [
              "<IPython.core.display.Javascript object>"
            ],
            "application/javascript": [
              "\n",
              "  async function showImage(name, image, width, height) {\n",
              "    img = document.getElementById(name);\n",
              "    if(img == null) {\n",
              "      img = document.createElement('img');\n",
              "      img.id = name;\n",
              "      document.body.appendChild(img);\n",
              "    }\n",
              "    img.src = image;\n",
              "    img.width = width;\n",
              "    img.height = height;\n",
              "  }\n",
              "  "
            ]
          },
          "metadata": {}
        },
        {
          "output_type": "display_data",
          "data": {
            "text/plain": [
              "<IPython.core.display.Javascript object>"
            ],
            "application/javascript": [
              "\n",
              "  async function showImage(name, image, width, height) {\n",
              "    img = document.getElementById(name);\n",
              "    if(img == null) {\n",
              "      img = document.createElement('img');\n",
              "      img.id = name;\n",
              "      document.body.appendChild(img);\n",
              "    }\n",
              "    img.src = image;\n",
              "    img.width = width;\n",
              "    img.height = height;\n",
              "  }\n",
              "  "
            ]
          },
          "metadata": {}
        },
        {
          "output_type": "display_data",
          "data": {
            "text/plain": [
              "<IPython.core.display.Javascript object>"
            ],
            "application/javascript": [
              "\n",
              "  async function showImage(name, image, width, height) {\n",
              "    img = document.getElementById(name);\n",
              "    if(img == null) {\n",
              "      img = document.createElement('img');\n",
              "      img.id = name;\n",
              "      document.body.appendChild(img);\n",
              "    }\n",
              "    img.src = image;\n",
              "    img.width = width;\n",
              "    img.height = height;\n",
              "  }\n",
              "  "
            ]
          },
          "metadata": {}
        },
        {
          "output_type": "display_data",
          "data": {
            "text/plain": [
              "<IPython.core.display.Javascript object>"
            ],
            "application/javascript": [
              "\n",
              "  async function showImage(name, image, width, height) {\n",
              "    img = document.getElementById(name);\n",
              "    if(img == null) {\n",
              "      img = document.createElement('img');\n",
              "      img.id = name;\n",
              "      document.body.appendChild(img);\n",
              "    }\n",
              "    img.src = image;\n",
              "    img.width = width;\n",
              "    img.height = height;\n",
              "  }\n",
              "  "
            ]
          },
          "metadata": {}
        },
        {
          "output_type": "display_data",
          "data": {
            "text/plain": [
              "<IPython.core.display.Javascript object>"
            ],
            "application/javascript": [
              "\n",
              "  async function showImage(name, image, width, height) {\n",
              "    img = document.getElementById(name);\n",
              "    if(img == null) {\n",
              "      img = document.createElement('img');\n",
              "      img.id = name;\n",
              "      document.body.appendChild(img);\n",
              "    }\n",
              "    img.src = image;\n",
              "    img.width = width;\n",
              "    img.height = height;\n",
              "  }\n",
              "  "
            ]
          },
          "metadata": {}
        },
        {
          "output_type": "display_data",
          "data": {
            "text/plain": [
              "<IPython.core.display.Javascript object>"
            ],
            "application/javascript": [
              "\n",
              "  async function showImage(name, image, width, height) {\n",
              "    img = document.getElementById(name);\n",
              "    if(img == null) {\n",
              "      img = document.createElement('img');\n",
              "      img.id = name;\n",
              "      document.body.appendChild(img);\n",
              "    }\n",
              "    img.src = image;\n",
              "    img.width = width;\n",
              "    img.height = height;\n",
              "  }\n",
              "  "
            ]
          },
          "metadata": {}
        },
        {
          "output_type": "display_data",
          "data": {
            "text/plain": [
              "<IPython.core.display.Javascript object>"
            ],
            "application/javascript": [
              "\n",
              "  async function showImage(name, image, width, height) {\n",
              "    img = document.getElementById(name);\n",
              "    if(img == null) {\n",
              "      img = document.createElement('img');\n",
              "      img.id = name;\n",
              "      document.body.appendChild(img);\n",
              "    }\n",
              "    img.src = image;\n",
              "    img.width = width;\n",
              "    img.height = height;\n",
              "  }\n",
              "  "
            ]
          },
          "metadata": {}
        },
        {
          "output_type": "display_data",
          "data": {
            "text/plain": [
              "<IPython.core.display.Javascript object>"
            ],
            "application/javascript": [
              "\n",
              "  async function showImage(name, image, width, height) {\n",
              "    img = document.getElementById(name);\n",
              "    if(img == null) {\n",
              "      img = document.createElement('img');\n",
              "      img.id = name;\n",
              "      document.body.appendChild(img);\n",
              "    }\n",
              "    img.src = image;\n",
              "    img.width = width;\n",
              "    img.height = height;\n",
              "  }\n",
              "  "
            ]
          },
          "metadata": {}
        },
        {
          "output_type": "display_data",
          "data": {
            "text/plain": [
              "<IPython.core.display.Javascript object>"
            ],
            "application/javascript": [
              "\n",
              "  async function showImage(name, image, width, height) {\n",
              "    img = document.getElementById(name);\n",
              "    if(img == null) {\n",
              "      img = document.createElement('img');\n",
              "      img.id = name;\n",
              "      document.body.appendChild(img);\n",
              "    }\n",
              "    img.src = image;\n",
              "    img.width = width;\n",
              "    img.height = height;\n",
              "  }\n",
              "  "
            ]
          },
          "metadata": {}
        },
        {
          "output_type": "display_data",
          "data": {
            "text/plain": [
              "<IPython.core.display.Javascript object>"
            ],
            "application/javascript": [
              "\n",
              "  async function showImage(name, image, width, height) {\n",
              "    img = document.getElementById(name);\n",
              "    if(img == null) {\n",
              "      img = document.createElement('img');\n",
              "      img.id = name;\n",
              "      document.body.appendChild(img);\n",
              "    }\n",
              "    img.src = image;\n",
              "    img.width = width;\n",
              "    img.height = height;\n",
              "  }\n",
              "  "
            ]
          },
          "metadata": {}
        },
        {
          "output_type": "display_data",
          "data": {
            "text/plain": [
              "<IPython.core.display.Javascript object>"
            ],
            "application/javascript": [
              "\n",
              "  async function showImage(name, image, width, height) {\n",
              "    img = document.getElementById(name);\n",
              "    if(img == null) {\n",
              "      img = document.createElement('img');\n",
              "      img.id = name;\n",
              "      document.body.appendChild(img);\n",
              "    }\n",
              "    img.src = image;\n",
              "    img.width = width;\n",
              "    img.height = height;\n",
              "  }\n",
              "  "
            ]
          },
          "metadata": {}
        },
        {
          "output_type": "display_data",
          "data": {
            "text/plain": [
              "<IPython.core.display.Javascript object>"
            ],
            "application/javascript": [
              "\n",
              "  async function showImage(name, image, width, height) {\n",
              "    img = document.getElementById(name);\n",
              "    if(img == null) {\n",
              "      img = document.createElement('img');\n",
              "      img.id = name;\n",
              "      document.body.appendChild(img);\n",
              "    }\n",
              "    img.src = image;\n",
              "    img.width = width;\n",
              "    img.height = height;\n",
              "  }\n",
              "  "
            ]
          },
          "metadata": {}
        },
        {
          "output_type": "display_data",
          "data": {
            "text/plain": [
              "<IPython.core.display.Javascript object>"
            ],
            "application/javascript": [
              "\n",
              "  async function showImage(name, image, width, height) {\n",
              "    img = document.getElementById(name);\n",
              "    if(img == null) {\n",
              "      img = document.createElement('img');\n",
              "      img.id = name;\n",
              "      document.body.appendChild(img);\n",
              "    }\n",
              "    img.src = image;\n",
              "    img.width = width;\n",
              "    img.height = height;\n",
              "  }\n",
              "  "
            ]
          },
          "metadata": {}
        },
        {
          "output_type": "display_data",
          "data": {
            "text/plain": [
              "<IPython.core.display.Javascript object>"
            ],
            "application/javascript": [
              "\n",
              "  async function showImage(name, image, width, height) {\n",
              "    img = document.getElementById(name);\n",
              "    if(img == null) {\n",
              "      img = document.createElement('img');\n",
              "      img.id = name;\n",
              "      document.body.appendChild(img);\n",
              "    }\n",
              "    img.src = image;\n",
              "    img.width = width;\n",
              "    img.height = height;\n",
              "  }\n",
              "  "
            ]
          },
          "metadata": {}
        },
        {
          "output_type": "display_data",
          "data": {
            "text/plain": [
              "<IPython.core.display.Javascript object>"
            ],
            "application/javascript": [
              "\n",
              "  async function showImage(name, image, width, height) {\n",
              "    img = document.getElementById(name);\n",
              "    if(img == null) {\n",
              "      img = document.createElement('img');\n",
              "      img.id = name;\n",
              "      document.body.appendChild(img);\n",
              "    }\n",
              "    img.src = image;\n",
              "    img.width = width;\n",
              "    img.height = height;\n",
              "  }\n",
              "  "
            ]
          },
          "metadata": {}
        },
        {
          "output_type": "display_data",
          "data": {
            "text/plain": [
              "<IPython.core.display.Javascript object>"
            ],
            "application/javascript": [
              "\n",
              "  async function showImage(name, image, width, height) {\n",
              "    img = document.getElementById(name);\n",
              "    if(img == null) {\n",
              "      img = document.createElement('img');\n",
              "      img.id = name;\n",
              "      document.body.appendChild(img);\n",
              "    }\n",
              "    img.src = image;\n",
              "    img.width = width;\n",
              "    img.height = height;\n",
              "  }\n",
              "  "
            ]
          },
          "metadata": {}
        },
        {
          "output_type": "display_data",
          "data": {
            "text/plain": [
              "<IPython.core.display.Javascript object>"
            ],
            "application/javascript": [
              "\n",
              "  async function showImage(name, image, width, height) {\n",
              "    img = document.getElementById(name);\n",
              "    if(img == null) {\n",
              "      img = document.createElement('img');\n",
              "      img.id = name;\n",
              "      document.body.appendChild(img);\n",
              "    }\n",
              "    img.src = image;\n",
              "    img.width = width;\n",
              "    img.height = height;\n",
              "  }\n",
              "  "
            ]
          },
          "metadata": {}
        },
        {
          "output_type": "display_data",
          "data": {
            "text/plain": [
              "<IPython.core.display.Javascript object>"
            ],
            "application/javascript": [
              "\n",
              "  async function showImage(name, image, width, height) {\n",
              "    img = document.getElementById(name);\n",
              "    if(img == null) {\n",
              "      img = document.createElement('img');\n",
              "      img.id = name;\n",
              "      document.body.appendChild(img);\n",
              "    }\n",
              "    img.src = image;\n",
              "    img.width = width;\n",
              "    img.height = height;\n",
              "  }\n",
              "  "
            ]
          },
          "metadata": {}
        },
        {
          "output_type": "display_data",
          "data": {
            "text/plain": [
              "<IPython.core.display.Javascript object>"
            ],
            "application/javascript": [
              "\n",
              "  async function showImage(name, image, width, height) {\n",
              "    img = document.getElementById(name);\n",
              "    if(img == null) {\n",
              "      img = document.createElement('img');\n",
              "      img.id = name;\n",
              "      document.body.appendChild(img);\n",
              "    }\n",
              "    img.src = image;\n",
              "    img.width = width;\n",
              "    img.height = height;\n",
              "  }\n",
              "  "
            ]
          },
          "metadata": {}
        },
        {
          "output_type": "display_data",
          "data": {
            "text/plain": [
              "<IPython.core.display.Javascript object>"
            ],
            "application/javascript": [
              "\n",
              "  async function showImage(name, image, width, height) {\n",
              "    img = document.getElementById(name);\n",
              "    if(img == null) {\n",
              "      img = document.createElement('img');\n",
              "      img.id = name;\n",
              "      document.body.appendChild(img);\n",
              "    }\n",
              "    img.src = image;\n",
              "    img.width = width;\n",
              "    img.height = height;\n",
              "  }\n",
              "  "
            ]
          },
          "metadata": {}
        },
        {
          "output_type": "display_data",
          "data": {
            "text/plain": [
              "<IPython.core.display.Javascript object>"
            ],
            "application/javascript": [
              "\n",
              "  async function showImage(name, image, width, height) {\n",
              "    img = document.getElementById(name);\n",
              "    if(img == null) {\n",
              "      img = document.createElement('img');\n",
              "      img.id = name;\n",
              "      document.body.appendChild(img);\n",
              "    }\n",
              "    img.src = image;\n",
              "    img.width = width;\n",
              "    img.height = height;\n",
              "  }\n",
              "  "
            ]
          },
          "metadata": {}
        },
        {
          "output_type": "display_data",
          "data": {
            "text/plain": [
              "<IPython.core.display.Javascript object>"
            ],
            "application/javascript": [
              "\n",
              "  async function showImage(name, image, width, height) {\n",
              "    img = document.getElementById(name);\n",
              "    if(img == null) {\n",
              "      img = document.createElement('img');\n",
              "      img.id = name;\n",
              "      document.body.appendChild(img);\n",
              "    }\n",
              "    img.src = image;\n",
              "    img.width = width;\n",
              "    img.height = height;\n",
              "  }\n",
              "  "
            ]
          },
          "metadata": {}
        },
        {
          "output_type": "display_data",
          "data": {
            "text/plain": [
              "<IPython.core.display.Javascript object>"
            ],
            "application/javascript": [
              "\n",
              "  async function showImage(name, image, width, height) {\n",
              "    img = document.getElementById(name);\n",
              "    if(img == null) {\n",
              "      img = document.createElement('img');\n",
              "      img.id = name;\n",
              "      document.body.appendChild(img);\n",
              "    }\n",
              "    img.src = image;\n",
              "    img.width = width;\n",
              "    img.height = height;\n",
              "  }\n",
              "  "
            ]
          },
          "metadata": {}
        },
        {
          "output_type": "display_data",
          "data": {
            "text/plain": [
              "<IPython.core.display.Javascript object>"
            ],
            "application/javascript": [
              "\n",
              "  async function showImage(name, image, width, height) {\n",
              "    img = document.getElementById(name);\n",
              "    if(img == null) {\n",
              "      img = document.createElement('img');\n",
              "      img.id = name;\n",
              "      document.body.appendChild(img);\n",
              "    }\n",
              "    img.src = image;\n",
              "    img.width = width;\n",
              "    img.height = height;\n",
              "  }\n",
              "  "
            ]
          },
          "metadata": {}
        },
        {
          "output_type": "display_data",
          "data": {
            "text/plain": [
              "<IPython.core.display.Javascript object>"
            ],
            "application/javascript": [
              "\n",
              "  async function showImage(name, image, width, height) {\n",
              "    img = document.getElementById(name);\n",
              "    if(img == null) {\n",
              "      img = document.createElement('img');\n",
              "      img.id = name;\n",
              "      document.body.appendChild(img);\n",
              "    }\n",
              "    img.src = image;\n",
              "    img.width = width;\n",
              "    img.height = height;\n",
              "  }\n",
              "  "
            ]
          },
          "metadata": {}
        },
        {
          "output_type": "display_data",
          "data": {
            "text/plain": [
              "<IPython.core.display.Javascript object>"
            ],
            "application/javascript": [
              "\n",
              "  async function showImage(name, image, width, height) {\n",
              "    img = document.getElementById(name);\n",
              "    if(img == null) {\n",
              "      img = document.createElement('img');\n",
              "      img.id = name;\n",
              "      document.body.appendChild(img);\n",
              "    }\n",
              "    img.src = image;\n",
              "    img.width = width;\n",
              "    img.height = height;\n",
              "  }\n",
              "  "
            ]
          },
          "metadata": {}
        },
        {
          "output_type": "display_data",
          "data": {
            "text/plain": [
              "<IPython.core.display.Javascript object>"
            ],
            "application/javascript": [
              "\n",
              "  async function showImage(name, image, width, height) {\n",
              "    img = document.getElementById(name);\n",
              "    if(img == null) {\n",
              "      img = document.createElement('img');\n",
              "      img.id = name;\n",
              "      document.body.appendChild(img);\n",
              "    }\n",
              "    img.src = image;\n",
              "    img.width = width;\n",
              "    img.height = height;\n",
              "  }\n",
              "  "
            ]
          },
          "metadata": {}
        },
        {
          "output_type": "display_data",
          "data": {
            "text/plain": [
              "<IPython.core.display.Javascript object>"
            ],
            "application/javascript": [
              "\n",
              "  async function showImage(name, image, width, height) {\n",
              "    img = document.getElementById(name);\n",
              "    if(img == null) {\n",
              "      img = document.createElement('img');\n",
              "      img.id = name;\n",
              "      document.body.appendChild(img);\n",
              "    }\n",
              "    img.src = image;\n",
              "    img.width = width;\n",
              "    img.height = height;\n",
              "  }\n",
              "  "
            ]
          },
          "metadata": {}
        },
        {
          "output_type": "display_data",
          "data": {
            "text/plain": [
              "<IPython.core.display.Javascript object>"
            ],
            "application/javascript": [
              "\n",
              "  async function showImage(name, image, width, height) {\n",
              "    img = document.getElementById(name);\n",
              "    if(img == null) {\n",
              "      img = document.createElement('img');\n",
              "      img.id = name;\n",
              "      document.body.appendChild(img);\n",
              "    }\n",
              "    img.src = image;\n",
              "    img.width = width;\n",
              "    img.height = height;\n",
              "  }\n",
              "  "
            ]
          },
          "metadata": {}
        },
        {
          "output_type": "display_data",
          "data": {
            "text/plain": [
              "<IPython.core.display.Javascript object>"
            ],
            "application/javascript": [
              "\n",
              "  async function showImage(name, image, width, height) {\n",
              "    img = document.getElementById(name);\n",
              "    if(img == null) {\n",
              "      img = document.createElement('img');\n",
              "      img.id = name;\n",
              "      document.body.appendChild(img);\n",
              "    }\n",
              "    img.src = image;\n",
              "    img.width = width;\n",
              "    img.height = height;\n",
              "  }\n",
              "  "
            ]
          },
          "metadata": {}
        },
        {
          "output_type": "display_data",
          "data": {
            "text/plain": [
              "<IPython.core.display.Javascript object>"
            ],
            "application/javascript": [
              "\n",
              "  async function showImage(name, image, width, height) {\n",
              "    img = document.getElementById(name);\n",
              "    if(img == null) {\n",
              "      img = document.createElement('img');\n",
              "      img.id = name;\n",
              "      document.body.appendChild(img);\n",
              "    }\n",
              "    img.src = image;\n",
              "    img.width = width;\n",
              "    img.height = height;\n",
              "  }\n",
              "  "
            ]
          },
          "metadata": {}
        },
        {
          "output_type": "display_data",
          "data": {
            "text/plain": [
              "<IPython.core.display.Javascript object>"
            ],
            "application/javascript": [
              "\n",
              "  async function showImage(name, image, width, height) {\n",
              "    img = document.getElementById(name);\n",
              "    if(img == null) {\n",
              "      img = document.createElement('img');\n",
              "      img.id = name;\n",
              "      document.body.appendChild(img);\n",
              "    }\n",
              "    img.src = image;\n",
              "    img.width = width;\n",
              "    img.height = height;\n",
              "  }\n",
              "  "
            ]
          },
          "metadata": {}
        },
        {
          "output_type": "display_data",
          "data": {
            "text/plain": [
              "<IPython.core.display.Javascript object>"
            ],
            "application/javascript": [
              "\n",
              "  async function showImage(name, image, width, height) {\n",
              "    img = document.getElementById(name);\n",
              "    if(img == null) {\n",
              "      img = document.createElement('img');\n",
              "      img.id = name;\n",
              "      document.body.appendChild(img);\n",
              "    }\n",
              "    img.src = image;\n",
              "    img.width = width;\n",
              "    img.height = height;\n",
              "  }\n",
              "  "
            ]
          },
          "metadata": {}
        },
        {
          "output_type": "display_data",
          "data": {
            "text/plain": [
              "<IPython.core.display.Javascript object>"
            ],
            "application/javascript": [
              "\n",
              "  async function showImage(name, image, width, height) {\n",
              "    img = document.getElementById(name);\n",
              "    if(img == null) {\n",
              "      img = document.createElement('img');\n",
              "      img.id = name;\n",
              "      document.body.appendChild(img);\n",
              "    }\n",
              "    img.src = image;\n",
              "    img.width = width;\n",
              "    img.height = height;\n",
              "  }\n",
              "  "
            ]
          },
          "metadata": {}
        },
        {
          "output_type": "display_data",
          "data": {
            "text/plain": [
              "<IPython.core.display.Javascript object>"
            ],
            "application/javascript": [
              "\n",
              "  async function showImage(name, image, width, height) {\n",
              "    img = document.getElementById(name);\n",
              "    if(img == null) {\n",
              "      img = document.createElement('img');\n",
              "      img.id = name;\n",
              "      document.body.appendChild(img);\n",
              "    }\n",
              "    img.src = image;\n",
              "    img.width = width;\n",
              "    img.height = height;\n",
              "  }\n",
              "  "
            ]
          },
          "metadata": {}
        },
        {
          "output_type": "display_data",
          "data": {
            "text/plain": [
              "<IPython.core.display.Javascript object>"
            ],
            "application/javascript": [
              "\n",
              "  async function showImage(name, image, width, height) {\n",
              "    img = document.getElementById(name);\n",
              "    if(img == null) {\n",
              "      img = document.createElement('img');\n",
              "      img.id = name;\n",
              "      document.body.appendChild(img);\n",
              "    }\n",
              "    img.src = image;\n",
              "    img.width = width;\n",
              "    img.height = height;\n",
              "  }\n",
              "  "
            ]
          },
          "metadata": {}
        },
        {
          "output_type": "display_data",
          "data": {
            "text/plain": [
              "<IPython.core.display.Javascript object>"
            ],
            "application/javascript": [
              "\n",
              "  async function showImage(name, image, width, height) {\n",
              "    img = document.getElementById(name);\n",
              "    if(img == null) {\n",
              "      img = document.createElement('img');\n",
              "      img.id = name;\n",
              "      document.body.appendChild(img);\n",
              "    }\n",
              "    img.src = image;\n",
              "    img.width = width;\n",
              "    img.height = height;\n",
              "  }\n",
              "  "
            ]
          },
          "metadata": {}
        },
        {
          "output_type": "display_data",
          "data": {
            "text/plain": [
              "<IPython.core.display.Javascript object>"
            ],
            "application/javascript": [
              "\n",
              "  async function showImage(name, image, width, height) {\n",
              "    img = document.getElementById(name);\n",
              "    if(img == null) {\n",
              "      img = document.createElement('img');\n",
              "      img.id = name;\n",
              "      document.body.appendChild(img);\n",
              "    }\n",
              "    img.src = image;\n",
              "    img.width = width;\n",
              "    img.height = height;\n",
              "  }\n",
              "  "
            ]
          },
          "metadata": {}
        },
        {
          "output_type": "display_data",
          "data": {
            "text/plain": [
              "<IPython.core.display.Javascript object>"
            ],
            "application/javascript": [
              "\n",
              "  async function showImage(name, image, width, height) {\n",
              "    img = document.getElementById(name);\n",
              "    if(img == null) {\n",
              "      img = document.createElement('img');\n",
              "      img.id = name;\n",
              "      document.body.appendChild(img);\n",
              "    }\n",
              "    img.src = image;\n",
              "    img.width = width;\n",
              "    img.height = height;\n",
              "  }\n",
              "  "
            ]
          },
          "metadata": {}
        },
        {
          "output_type": "display_data",
          "data": {
            "text/plain": [
              "<IPython.core.display.Javascript object>"
            ],
            "application/javascript": [
              "\n",
              "  async function showImage(name, image, width, height) {\n",
              "    img = document.getElementById(name);\n",
              "    if(img == null) {\n",
              "      img = document.createElement('img');\n",
              "      img.id = name;\n",
              "      document.body.appendChild(img);\n",
              "    }\n",
              "    img.src = image;\n",
              "    img.width = width;\n",
              "    img.height = height;\n",
              "  }\n",
              "  "
            ]
          },
          "metadata": {}
        },
        {
          "output_type": "display_data",
          "data": {
            "text/plain": [
              "<IPython.core.display.Javascript object>"
            ],
            "application/javascript": [
              "\n",
              "  async function showImage(name, image, width, height) {\n",
              "    img = document.getElementById(name);\n",
              "    if(img == null) {\n",
              "      img = document.createElement('img');\n",
              "      img.id = name;\n",
              "      document.body.appendChild(img);\n",
              "    }\n",
              "    img.src = image;\n",
              "    img.width = width;\n",
              "    img.height = height;\n",
              "  }\n",
              "  "
            ]
          },
          "metadata": {}
        },
        {
          "output_type": "display_data",
          "data": {
            "text/plain": [
              "<IPython.core.display.Javascript object>"
            ],
            "application/javascript": [
              "\n",
              "  async function showImage(name, image, width, height) {\n",
              "    img = document.getElementById(name);\n",
              "    if(img == null) {\n",
              "      img = document.createElement('img');\n",
              "      img.id = name;\n",
              "      document.body.appendChild(img);\n",
              "    }\n",
              "    img.src = image;\n",
              "    img.width = width;\n",
              "    img.height = height;\n",
              "  }\n",
              "  "
            ]
          },
          "metadata": {}
        },
        {
          "output_type": "display_data",
          "data": {
            "text/plain": [
              "<IPython.core.display.Javascript object>"
            ],
            "application/javascript": [
              "\n",
              "  async function showImage(name, image, width, height) {\n",
              "    img = document.getElementById(name);\n",
              "    if(img == null) {\n",
              "      img = document.createElement('img');\n",
              "      img.id = name;\n",
              "      document.body.appendChild(img);\n",
              "    }\n",
              "    img.src = image;\n",
              "    img.width = width;\n",
              "    img.height = height;\n",
              "  }\n",
              "  "
            ]
          },
          "metadata": {}
        },
        {
          "output_type": "display_data",
          "data": {
            "text/plain": [
              "<IPython.core.display.Javascript object>"
            ],
            "application/javascript": [
              "\n",
              "  async function showImage(name, image, width, height) {\n",
              "    img = document.getElementById(name);\n",
              "    if(img == null) {\n",
              "      img = document.createElement('img');\n",
              "      img.id = name;\n",
              "      document.body.appendChild(img);\n",
              "    }\n",
              "    img.src = image;\n",
              "    img.width = width;\n",
              "    img.height = height;\n",
              "  }\n",
              "  "
            ]
          },
          "metadata": {}
        },
        {
          "output_type": "display_data",
          "data": {
            "text/plain": [
              "<IPython.core.display.Javascript object>"
            ],
            "application/javascript": [
              "\n",
              "  async function showImage(name, image, width, height) {\n",
              "    img = document.getElementById(name);\n",
              "    if(img == null) {\n",
              "      img = document.createElement('img');\n",
              "      img.id = name;\n",
              "      document.body.appendChild(img);\n",
              "    }\n",
              "    img.src = image;\n",
              "    img.width = width;\n",
              "    img.height = height;\n",
              "  }\n",
              "  "
            ]
          },
          "metadata": {}
        },
        {
          "output_type": "display_data",
          "data": {
            "text/plain": [
              "<IPython.core.display.Javascript object>"
            ],
            "application/javascript": [
              "\n",
              "  async function showImage(name, image, width, height) {\n",
              "    img = document.getElementById(name);\n",
              "    if(img == null) {\n",
              "      img = document.createElement('img');\n",
              "      img.id = name;\n",
              "      document.body.appendChild(img);\n",
              "    }\n",
              "    img.src = image;\n",
              "    img.width = width;\n",
              "    img.height = height;\n",
              "  }\n",
              "  "
            ]
          },
          "metadata": {}
        },
        {
          "output_type": "display_data",
          "data": {
            "text/plain": [
              "<IPython.core.display.Javascript object>"
            ],
            "application/javascript": [
              "\n",
              "  async function showImage(name, image, width, height) {\n",
              "    img = document.getElementById(name);\n",
              "    if(img == null) {\n",
              "      img = document.createElement('img');\n",
              "      img.id = name;\n",
              "      document.body.appendChild(img);\n",
              "    }\n",
              "    img.src = image;\n",
              "    img.width = width;\n",
              "    img.height = height;\n",
              "  }\n",
              "  "
            ]
          },
          "metadata": {}
        },
        {
          "output_type": "display_data",
          "data": {
            "text/plain": [
              "<IPython.core.display.Javascript object>"
            ],
            "application/javascript": [
              "\n",
              "  async function showImage(name, image, width, height) {\n",
              "    img = document.getElementById(name);\n",
              "    if(img == null) {\n",
              "      img = document.createElement('img');\n",
              "      img.id = name;\n",
              "      document.body.appendChild(img);\n",
              "    }\n",
              "    img.src = image;\n",
              "    img.width = width;\n",
              "    img.height = height;\n",
              "  }\n",
              "  "
            ]
          },
          "metadata": {}
        },
        {
          "output_type": "display_data",
          "data": {
            "text/plain": [
              "<IPython.core.display.Javascript object>"
            ],
            "application/javascript": [
              "\n",
              "  async function showImage(name, image, width, height) {\n",
              "    img = document.getElementById(name);\n",
              "    if(img == null) {\n",
              "      img = document.createElement('img');\n",
              "      img.id = name;\n",
              "      document.body.appendChild(img);\n",
              "    }\n",
              "    img.src = image;\n",
              "    img.width = width;\n",
              "    img.height = height;\n",
              "  }\n",
              "  "
            ]
          },
          "metadata": {}
        },
        {
          "output_type": "display_data",
          "data": {
            "text/plain": [
              "<IPython.core.display.Javascript object>"
            ],
            "application/javascript": [
              "\n",
              "  async function showImage(name, image, width, height) {\n",
              "    img = document.getElementById(name);\n",
              "    if(img == null) {\n",
              "      img = document.createElement('img');\n",
              "      img.id = name;\n",
              "      document.body.appendChild(img);\n",
              "    }\n",
              "    img.src = image;\n",
              "    img.width = width;\n",
              "    img.height = height;\n",
              "  }\n",
              "  "
            ]
          },
          "metadata": {}
        },
        {
          "output_type": "display_data",
          "data": {
            "text/plain": [
              "<IPython.core.display.Javascript object>"
            ],
            "application/javascript": [
              "\n",
              "  async function showImage(name, image, width, height) {\n",
              "    img = document.getElementById(name);\n",
              "    if(img == null) {\n",
              "      img = document.createElement('img');\n",
              "      img.id = name;\n",
              "      document.body.appendChild(img);\n",
              "    }\n",
              "    img.src = image;\n",
              "    img.width = width;\n",
              "    img.height = height;\n",
              "  }\n",
              "  "
            ]
          },
          "metadata": {}
        },
        {
          "output_type": "display_data",
          "data": {
            "text/plain": [
              "<IPython.core.display.Javascript object>"
            ],
            "application/javascript": [
              "\n",
              "  async function showImage(name, image, width, height) {\n",
              "    img = document.getElementById(name);\n",
              "    if(img == null) {\n",
              "      img = document.createElement('img');\n",
              "      img.id = name;\n",
              "      document.body.appendChild(img);\n",
              "    }\n",
              "    img.src = image;\n",
              "    img.width = width;\n",
              "    img.height = height;\n",
              "  }\n",
              "  "
            ]
          },
          "metadata": {}
        },
        {
          "output_type": "display_data",
          "data": {
            "text/plain": [
              "<IPython.core.display.Javascript object>"
            ],
            "application/javascript": [
              "\n",
              "  async function showImage(name, image, width, height) {\n",
              "    img = document.getElementById(name);\n",
              "    if(img == null) {\n",
              "      img = document.createElement('img');\n",
              "      img.id = name;\n",
              "      document.body.appendChild(img);\n",
              "    }\n",
              "    img.src = image;\n",
              "    img.width = width;\n",
              "    img.height = height;\n",
              "  }\n",
              "  "
            ]
          },
          "metadata": {}
        },
        {
          "output_type": "display_data",
          "data": {
            "text/plain": [
              "<IPython.core.display.Javascript object>"
            ],
            "application/javascript": [
              "\n",
              "  async function showImage(name, image, width, height) {\n",
              "    img = document.getElementById(name);\n",
              "    if(img == null) {\n",
              "      img = document.createElement('img');\n",
              "      img.id = name;\n",
              "      document.body.appendChild(img);\n",
              "    }\n",
              "    img.src = image;\n",
              "    img.width = width;\n",
              "    img.height = height;\n",
              "  }\n",
              "  "
            ]
          },
          "metadata": {}
        },
        {
          "output_type": "display_data",
          "data": {
            "text/plain": [
              "<IPython.core.display.Javascript object>"
            ],
            "application/javascript": [
              "\n",
              "  async function showImage(name, image, width, height) {\n",
              "    img = document.getElementById(name);\n",
              "    if(img == null) {\n",
              "      img = document.createElement('img');\n",
              "      img.id = name;\n",
              "      document.body.appendChild(img);\n",
              "    }\n",
              "    img.src = image;\n",
              "    img.width = width;\n",
              "    img.height = height;\n",
              "  }\n",
              "  "
            ]
          },
          "metadata": {}
        },
        {
          "output_type": "display_data",
          "data": {
            "text/plain": [
              "<IPython.core.display.Javascript object>"
            ],
            "application/javascript": [
              "\n",
              "  async function showImage(name, image, width, height) {\n",
              "    img = document.getElementById(name);\n",
              "    if(img == null) {\n",
              "      img = document.createElement('img');\n",
              "      img.id = name;\n",
              "      document.body.appendChild(img);\n",
              "    }\n",
              "    img.src = image;\n",
              "    img.width = width;\n",
              "    img.height = height;\n",
              "  }\n",
              "  "
            ]
          },
          "metadata": {}
        },
        {
          "output_type": "display_data",
          "data": {
            "text/plain": [
              "<IPython.core.display.Javascript object>"
            ],
            "application/javascript": [
              "\n",
              "  async function showImage(name, image, width, height) {\n",
              "    img = document.getElementById(name);\n",
              "    if(img == null) {\n",
              "      img = document.createElement('img');\n",
              "      img.id = name;\n",
              "      document.body.appendChild(img);\n",
              "    }\n",
              "    img.src = image;\n",
              "    img.width = width;\n",
              "    img.height = height;\n",
              "  }\n",
              "  "
            ]
          },
          "metadata": {}
        },
        {
          "output_type": "display_data",
          "data": {
            "text/plain": [
              "<IPython.core.display.Javascript object>"
            ],
            "application/javascript": [
              "\n",
              "  async function showImage(name, image, width, height) {\n",
              "    img = document.getElementById(name);\n",
              "    if(img == null) {\n",
              "      img = document.createElement('img');\n",
              "      img.id = name;\n",
              "      document.body.appendChild(img);\n",
              "    }\n",
              "    img.src = image;\n",
              "    img.width = width;\n",
              "    img.height = height;\n",
              "  }\n",
              "  "
            ]
          },
          "metadata": {}
        },
        {
          "output_type": "display_data",
          "data": {
            "text/plain": [
              "<IPython.core.display.Javascript object>"
            ],
            "application/javascript": [
              "\n",
              "  async function showImage(name, image, width, height) {\n",
              "    img = document.getElementById(name);\n",
              "    if(img == null) {\n",
              "      img = document.createElement('img');\n",
              "      img.id = name;\n",
              "      document.body.appendChild(img);\n",
              "    }\n",
              "    img.src = image;\n",
              "    img.width = width;\n",
              "    img.height = height;\n",
              "  }\n",
              "  "
            ]
          },
          "metadata": {}
        },
        {
          "output_type": "display_data",
          "data": {
            "text/plain": [
              "<IPython.core.display.Javascript object>"
            ],
            "application/javascript": [
              "\n",
              "  async function showImage(name, image, width, height) {\n",
              "    img = document.getElementById(name);\n",
              "    if(img == null) {\n",
              "      img = document.createElement('img');\n",
              "      img.id = name;\n",
              "      document.body.appendChild(img);\n",
              "    }\n",
              "    img.src = image;\n",
              "    img.width = width;\n",
              "    img.height = height;\n",
              "  }\n",
              "  "
            ]
          },
          "metadata": {}
        },
        {
          "output_type": "display_data",
          "data": {
            "text/plain": [
              "<IPython.core.display.Javascript object>"
            ],
            "application/javascript": [
              "\n",
              "  async function showImage(name, image, width, height) {\n",
              "    img = document.getElementById(name);\n",
              "    if(img == null) {\n",
              "      img = document.createElement('img');\n",
              "      img.id = name;\n",
              "      document.body.appendChild(img);\n",
              "    }\n",
              "    img.src = image;\n",
              "    img.width = width;\n",
              "    img.height = height;\n",
              "  }\n",
              "  "
            ]
          },
          "metadata": {}
        },
        {
          "output_type": "display_data",
          "data": {
            "text/plain": [
              "<IPython.core.display.Javascript object>"
            ],
            "application/javascript": [
              "\n",
              "  async function showImage(name, image, width, height) {\n",
              "    img = document.getElementById(name);\n",
              "    if(img == null) {\n",
              "      img = document.createElement('img');\n",
              "      img.id = name;\n",
              "      document.body.appendChild(img);\n",
              "    }\n",
              "    img.src = image;\n",
              "    img.width = width;\n",
              "    img.height = height;\n",
              "  }\n",
              "  "
            ]
          },
          "metadata": {}
        },
        {
          "output_type": "display_data",
          "data": {
            "text/plain": [
              "<IPython.core.display.Javascript object>"
            ],
            "application/javascript": [
              "\n",
              "  async function showImage(name, image, width, height) {\n",
              "    img = document.getElementById(name);\n",
              "    if(img == null) {\n",
              "      img = document.createElement('img');\n",
              "      img.id = name;\n",
              "      document.body.appendChild(img);\n",
              "    }\n",
              "    img.src = image;\n",
              "    img.width = width;\n",
              "    img.height = height;\n",
              "  }\n",
              "  "
            ]
          },
          "metadata": {}
        },
        {
          "output_type": "display_data",
          "data": {
            "text/plain": [
              "<IPython.core.display.Javascript object>"
            ],
            "application/javascript": [
              "\n",
              "  async function showImage(name, image, width, height) {\n",
              "    img = document.getElementById(name);\n",
              "    if(img == null) {\n",
              "      img = document.createElement('img');\n",
              "      img.id = name;\n",
              "      document.body.appendChild(img);\n",
              "    }\n",
              "    img.src = image;\n",
              "    img.width = width;\n",
              "    img.height = height;\n",
              "  }\n",
              "  "
            ]
          },
          "metadata": {}
        },
        {
          "output_type": "display_data",
          "data": {
            "text/plain": [
              "<IPython.core.display.Javascript object>"
            ],
            "application/javascript": [
              "\n",
              "  async function showImage(name, image, width, height) {\n",
              "    img = document.getElementById(name);\n",
              "    if(img == null) {\n",
              "      img = document.createElement('img');\n",
              "      img.id = name;\n",
              "      document.body.appendChild(img);\n",
              "    }\n",
              "    img.src = image;\n",
              "    img.width = width;\n",
              "    img.height = height;\n",
              "  }\n",
              "  "
            ]
          },
          "metadata": {}
        },
        {
          "output_type": "display_data",
          "data": {
            "text/plain": [
              "<IPython.core.display.Javascript object>"
            ],
            "application/javascript": [
              "\n",
              "  async function showImage(name, image, width, height) {\n",
              "    img = document.getElementById(name);\n",
              "    if(img == null) {\n",
              "      img = document.createElement('img');\n",
              "      img.id = name;\n",
              "      document.body.appendChild(img);\n",
              "    }\n",
              "    img.src = image;\n",
              "    img.width = width;\n",
              "    img.height = height;\n",
              "  }\n",
              "  "
            ]
          },
          "metadata": {}
        },
        {
          "output_type": "display_data",
          "data": {
            "text/plain": [
              "<IPython.core.display.Javascript object>"
            ],
            "application/javascript": [
              "\n",
              "  async function showImage(name, image, width, height) {\n",
              "    img = document.getElementById(name);\n",
              "    if(img == null) {\n",
              "      img = document.createElement('img');\n",
              "      img.id = name;\n",
              "      document.body.appendChild(img);\n",
              "    }\n",
              "    img.src = image;\n",
              "    img.width = width;\n",
              "    img.height = height;\n",
              "  }\n",
              "  "
            ]
          },
          "metadata": {}
        },
        {
          "output_type": "display_data",
          "data": {
            "text/plain": [
              "<IPython.core.display.Javascript object>"
            ],
            "application/javascript": [
              "\n",
              "  async function showImage(name, image, width, height) {\n",
              "    img = document.getElementById(name);\n",
              "    if(img == null) {\n",
              "      img = document.createElement('img');\n",
              "      img.id = name;\n",
              "      document.body.appendChild(img);\n",
              "    }\n",
              "    img.src = image;\n",
              "    img.width = width;\n",
              "    img.height = height;\n",
              "  }\n",
              "  "
            ]
          },
          "metadata": {}
        },
        {
          "output_type": "display_data",
          "data": {
            "text/plain": [
              "<IPython.core.display.Javascript object>"
            ],
            "application/javascript": [
              "\n",
              "  async function showImage(name, image, width, height) {\n",
              "    img = document.getElementById(name);\n",
              "    if(img == null) {\n",
              "      img = document.createElement('img');\n",
              "      img.id = name;\n",
              "      document.body.appendChild(img);\n",
              "    }\n",
              "    img.src = image;\n",
              "    img.width = width;\n",
              "    img.height = height;\n",
              "  }\n",
              "  "
            ]
          },
          "metadata": {}
        },
        {
          "output_type": "display_data",
          "data": {
            "text/plain": [
              "<IPython.core.display.Javascript object>"
            ],
            "application/javascript": [
              "\n",
              "  async function showImage(name, image, width, height) {\n",
              "    img = document.getElementById(name);\n",
              "    if(img == null) {\n",
              "      img = document.createElement('img');\n",
              "      img.id = name;\n",
              "      document.body.appendChild(img);\n",
              "    }\n",
              "    img.src = image;\n",
              "    img.width = width;\n",
              "    img.height = height;\n",
              "  }\n",
              "  "
            ]
          },
          "metadata": {}
        },
        {
          "output_type": "display_data",
          "data": {
            "text/plain": [
              "<IPython.core.display.Javascript object>"
            ],
            "application/javascript": [
              "\n",
              "  async function showImage(name, image, width, height) {\n",
              "    img = document.getElementById(name);\n",
              "    if(img == null) {\n",
              "      img = document.createElement('img');\n",
              "      img.id = name;\n",
              "      document.body.appendChild(img);\n",
              "    }\n",
              "    img.src = image;\n",
              "    img.width = width;\n",
              "    img.height = height;\n",
              "  }\n",
              "  "
            ]
          },
          "metadata": {}
        },
        {
          "output_type": "display_data",
          "data": {
            "text/plain": [
              "<IPython.core.display.Javascript object>"
            ],
            "application/javascript": [
              "\n",
              "  async function showImage(name, image, width, height) {\n",
              "    img = document.getElementById(name);\n",
              "    if(img == null) {\n",
              "      img = document.createElement('img');\n",
              "      img.id = name;\n",
              "      document.body.appendChild(img);\n",
              "    }\n",
              "    img.src = image;\n",
              "    img.width = width;\n",
              "    img.height = height;\n",
              "  }\n",
              "  "
            ]
          },
          "metadata": {}
        },
        {
          "output_type": "display_data",
          "data": {
            "text/plain": [
              "<IPython.core.display.Javascript object>"
            ],
            "application/javascript": [
              "\n",
              "  async function showImage(name, image, width, height) {\n",
              "    img = document.getElementById(name);\n",
              "    if(img == null) {\n",
              "      img = document.createElement('img');\n",
              "      img.id = name;\n",
              "      document.body.appendChild(img);\n",
              "    }\n",
              "    img.src = image;\n",
              "    img.width = width;\n",
              "    img.height = height;\n",
              "  }\n",
              "  "
            ]
          },
          "metadata": {}
        },
        {
          "output_type": "display_data",
          "data": {
            "text/plain": [
              "<IPython.core.display.Javascript object>"
            ],
            "application/javascript": [
              "\n",
              "  async function showImage(name, image, width, height) {\n",
              "    img = document.getElementById(name);\n",
              "    if(img == null) {\n",
              "      img = document.createElement('img');\n",
              "      img.id = name;\n",
              "      document.body.appendChild(img);\n",
              "    }\n",
              "    img.src = image;\n",
              "    img.width = width;\n",
              "    img.height = height;\n",
              "  }\n",
              "  "
            ]
          },
          "metadata": {}
        },
        {
          "output_type": "display_data",
          "data": {
            "text/plain": [
              "<IPython.core.display.Javascript object>"
            ],
            "application/javascript": [
              "\n",
              "  async function showImage(name, image, width, height) {\n",
              "    img = document.getElementById(name);\n",
              "    if(img == null) {\n",
              "      img = document.createElement('img');\n",
              "      img.id = name;\n",
              "      document.body.appendChild(img);\n",
              "    }\n",
              "    img.src = image;\n",
              "    img.width = width;\n",
              "    img.height = height;\n",
              "  }\n",
              "  "
            ]
          },
          "metadata": {}
        },
        {
          "output_type": "display_data",
          "data": {
            "text/plain": [
              "<IPython.core.display.Javascript object>"
            ],
            "application/javascript": [
              "\n",
              "  async function showImage(name, image, width, height) {\n",
              "    img = document.getElementById(name);\n",
              "    if(img == null) {\n",
              "      img = document.createElement('img');\n",
              "      img.id = name;\n",
              "      document.body.appendChild(img);\n",
              "    }\n",
              "    img.src = image;\n",
              "    img.width = width;\n",
              "    img.height = height;\n",
              "  }\n",
              "  "
            ]
          },
          "metadata": {}
        },
        {
          "output_type": "display_data",
          "data": {
            "text/plain": [
              "<IPython.core.display.Javascript object>"
            ],
            "application/javascript": [
              "\n",
              "  async function showImage(name, image, width, height) {\n",
              "    img = document.getElementById(name);\n",
              "    if(img == null) {\n",
              "      img = document.createElement('img');\n",
              "      img.id = name;\n",
              "      document.body.appendChild(img);\n",
              "    }\n",
              "    img.src = image;\n",
              "    img.width = width;\n",
              "    img.height = height;\n",
              "  }\n",
              "  "
            ]
          },
          "metadata": {}
        },
        {
          "output_type": "display_data",
          "data": {
            "text/plain": [
              "<IPython.core.display.Javascript object>"
            ],
            "application/javascript": [
              "\n",
              "  async function showImage(name, image, width, height) {\n",
              "    img = document.getElementById(name);\n",
              "    if(img == null) {\n",
              "      img = document.createElement('img');\n",
              "      img.id = name;\n",
              "      document.body.appendChild(img);\n",
              "    }\n",
              "    img.src = image;\n",
              "    img.width = width;\n",
              "    img.height = height;\n",
              "  }\n",
              "  "
            ]
          },
          "metadata": {}
        },
        {
          "output_type": "display_data",
          "data": {
            "text/plain": [
              "<IPython.core.display.Javascript object>"
            ],
            "application/javascript": [
              "\n",
              "  async function showImage(name, image, width, height) {\n",
              "    img = document.getElementById(name);\n",
              "    if(img == null) {\n",
              "      img = document.createElement('img');\n",
              "      img.id = name;\n",
              "      document.body.appendChild(img);\n",
              "    }\n",
              "    img.src = image;\n",
              "    img.width = width;\n",
              "    img.height = height;\n",
              "  }\n",
              "  "
            ]
          },
          "metadata": {}
        },
        {
          "output_type": "display_data",
          "data": {
            "text/plain": [
              "<IPython.core.display.Javascript object>"
            ],
            "application/javascript": [
              "\n",
              "  async function showImage(name, image, width, height) {\n",
              "    img = document.getElementById(name);\n",
              "    if(img == null) {\n",
              "      img = document.createElement('img');\n",
              "      img.id = name;\n",
              "      document.body.appendChild(img);\n",
              "    }\n",
              "    img.src = image;\n",
              "    img.width = width;\n",
              "    img.height = height;\n",
              "  }\n",
              "  "
            ]
          },
          "metadata": {}
        },
        {
          "output_type": "display_data",
          "data": {
            "text/plain": [
              "<IPython.core.display.Javascript object>"
            ],
            "application/javascript": [
              "\n",
              "  async function showImage(name, image, width, height) {\n",
              "    img = document.getElementById(name);\n",
              "    if(img == null) {\n",
              "      img = document.createElement('img');\n",
              "      img.id = name;\n",
              "      document.body.appendChild(img);\n",
              "    }\n",
              "    img.src = image;\n",
              "    img.width = width;\n",
              "    img.height = height;\n",
              "  }\n",
              "  "
            ]
          },
          "metadata": {}
        },
        {
          "output_type": "display_data",
          "data": {
            "text/plain": [
              "<IPython.core.display.Javascript object>"
            ],
            "application/javascript": [
              "\n",
              "  async function showImage(name, image, width, height) {\n",
              "    img = document.getElementById(name);\n",
              "    if(img == null) {\n",
              "      img = document.createElement('img');\n",
              "      img.id = name;\n",
              "      document.body.appendChild(img);\n",
              "    }\n",
              "    img.src = image;\n",
              "    img.width = width;\n",
              "    img.height = height;\n",
              "  }\n",
              "  "
            ]
          },
          "metadata": {}
        },
        {
          "output_type": "display_data",
          "data": {
            "text/plain": [
              "<IPython.core.display.Javascript object>"
            ],
            "application/javascript": [
              "\n",
              "  async function showImage(name, image, width, height) {\n",
              "    img = document.getElementById(name);\n",
              "    if(img == null) {\n",
              "      img = document.createElement('img');\n",
              "      img.id = name;\n",
              "      document.body.appendChild(img);\n",
              "    }\n",
              "    img.src = image;\n",
              "    img.width = width;\n",
              "    img.height = height;\n",
              "  }\n",
              "  "
            ]
          },
          "metadata": {}
        },
        {
          "output_type": "display_data",
          "data": {
            "text/plain": [
              "<IPython.core.display.Javascript object>"
            ],
            "application/javascript": [
              "\n",
              "  async function showImage(name, image, width, height) {\n",
              "    img = document.getElementById(name);\n",
              "    if(img == null) {\n",
              "      img = document.createElement('img');\n",
              "      img.id = name;\n",
              "      document.body.appendChild(img);\n",
              "    }\n",
              "    img.src = image;\n",
              "    img.width = width;\n",
              "    img.height = height;\n",
              "  }\n",
              "  "
            ]
          },
          "metadata": {}
        },
        {
          "output_type": "display_data",
          "data": {
            "text/plain": [
              "<IPython.core.display.Javascript object>"
            ],
            "application/javascript": [
              "\n",
              "  async function showImage(name, image, width, height) {\n",
              "    img = document.getElementById(name);\n",
              "    if(img == null) {\n",
              "      img = document.createElement('img');\n",
              "      img.id = name;\n",
              "      document.body.appendChild(img);\n",
              "    }\n",
              "    img.src = image;\n",
              "    img.width = width;\n",
              "    img.height = height;\n",
              "  }\n",
              "  "
            ]
          },
          "metadata": {}
        },
        {
          "output_type": "display_data",
          "data": {
            "text/plain": [
              "<IPython.core.display.Javascript object>"
            ],
            "application/javascript": [
              "\n",
              "  async function showImage(name, image, width, height) {\n",
              "    img = document.getElementById(name);\n",
              "    if(img == null) {\n",
              "      img = document.createElement('img');\n",
              "      img.id = name;\n",
              "      document.body.appendChild(img);\n",
              "    }\n",
              "    img.src = image;\n",
              "    img.width = width;\n",
              "    img.height = height;\n",
              "  }\n",
              "  "
            ]
          },
          "metadata": {}
        },
        {
          "output_type": "display_data",
          "data": {
            "text/plain": [
              "<IPython.core.display.Javascript object>"
            ],
            "application/javascript": [
              "\n",
              "  async function showImage(name, image, width, height) {\n",
              "    img = document.getElementById(name);\n",
              "    if(img == null) {\n",
              "      img = document.createElement('img');\n",
              "      img.id = name;\n",
              "      document.body.appendChild(img);\n",
              "    }\n",
              "    img.src = image;\n",
              "    img.width = width;\n",
              "    img.height = height;\n",
              "  }\n",
              "  "
            ]
          },
          "metadata": {}
        },
        {
          "output_type": "display_data",
          "data": {
            "text/plain": [
              "<IPython.core.display.Javascript object>"
            ],
            "application/javascript": [
              "\n",
              "  async function showImage(name, image, width, height) {\n",
              "    img = document.getElementById(name);\n",
              "    if(img == null) {\n",
              "      img = document.createElement('img');\n",
              "      img.id = name;\n",
              "      document.body.appendChild(img);\n",
              "    }\n",
              "    img.src = image;\n",
              "    img.width = width;\n",
              "    img.height = height;\n",
              "  }\n",
              "  "
            ]
          },
          "metadata": {}
        },
        {
          "output_type": "display_data",
          "data": {
            "text/plain": [
              "<IPython.core.display.Javascript object>"
            ],
            "application/javascript": [
              "\n",
              "  async function showImage(name, image, width, height) {\n",
              "    img = document.getElementById(name);\n",
              "    if(img == null) {\n",
              "      img = document.createElement('img');\n",
              "      img.id = name;\n",
              "      document.body.appendChild(img);\n",
              "    }\n",
              "    img.src = image;\n",
              "    img.width = width;\n",
              "    img.height = height;\n",
              "  }\n",
              "  "
            ]
          },
          "metadata": {}
        },
        {
          "output_type": "display_data",
          "data": {
            "text/plain": [
              "<IPython.core.display.Javascript object>"
            ],
            "application/javascript": [
              "\n",
              "  async function showImage(name, image, width, height) {\n",
              "    img = document.getElementById(name);\n",
              "    if(img == null) {\n",
              "      img = document.createElement('img');\n",
              "      img.id = name;\n",
              "      document.body.appendChild(img);\n",
              "    }\n",
              "    img.src = image;\n",
              "    img.width = width;\n",
              "    img.height = height;\n",
              "  }\n",
              "  "
            ]
          },
          "metadata": {}
        },
        {
          "output_type": "display_data",
          "data": {
            "text/plain": [
              "<IPython.core.display.Javascript object>"
            ],
            "application/javascript": [
              "\n",
              "  async function showImage(name, image, width, height) {\n",
              "    img = document.getElementById(name);\n",
              "    if(img == null) {\n",
              "      img = document.createElement('img');\n",
              "      img.id = name;\n",
              "      document.body.appendChild(img);\n",
              "    }\n",
              "    img.src = image;\n",
              "    img.width = width;\n",
              "    img.height = height;\n",
              "  }\n",
              "  "
            ]
          },
          "metadata": {}
        },
        {
          "output_type": "display_data",
          "data": {
            "text/plain": [
              "<IPython.core.display.Javascript object>"
            ],
            "application/javascript": [
              "\n",
              "  async function showImage(name, image, width, height) {\n",
              "    img = document.getElementById(name);\n",
              "    if(img == null) {\n",
              "      img = document.createElement('img');\n",
              "      img.id = name;\n",
              "      document.body.appendChild(img);\n",
              "    }\n",
              "    img.src = image;\n",
              "    img.width = width;\n",
              "    img.height = height;\n",
              "  }\n",
              "  "
            ]
          },
          "metadata": {}
        },
        {
          "output_type": "display_data",
          "data": {
            "text/plain": [
              "<IPython.core.display.Javascript object>"
            ],
            "application/javascript": [
              "\n",
              "  async function showImage(name, image, width, height) {\n",
              "    img = document.getElementById(name);\n",
              "    if(img == null) {\n",
              "      img = document.createElement('img');\n",
              "      img.id = name;\n",
              "      document.body.appendChild(img);\n",
              "    }\n",
              "    img.src = image;\n",
              "    img.width = width;\n",
              "    img.height = height;\n",
              "  }\n",
              "  "
            ]
          },
          "metadata": {}
        },
        {
          "output_type": "display_data",
          "data": {
            "text/plain": [
              "<IPython.core.display.Javascript object>"
            ],
            "application/javascript": [
              "\n",
              "  async function showImage(name, image, width, height) {\n",
              "    img = document.getElementById(name);\n",
              "    if(img == null) {\n",
              "      img = document.createElement('img');\n",
              "      img.id = name;\n",
              "      document.body.appendChild(img);\n",
              "    }\n",
              "    img.src = image;\n",
              "    img.width = width;\n",
              "    img.height = height;\n",
              "  }\n",
              "  "
            ]
          },
          "metadata": {}
        },
        {
          "output_type": "display_data",
          "data": {
            "text/plain": [
              "<IPython.core.display.Javascript object>"
            ],
            "application/javascript": [
              "\n",
              "  async function showImage(name, image, width, height) {\n",
              "    img = document.getElementById(name);\n",
              "    if(img == null) {\n",
              "      img = document.createElement('img');\n",
              "      img.id = name;\n",
              "      document.body.appendChild(img);\n",
              "    }\n",
              "    img.src = image;\n",
              "    img.width = width;\n",
              "    img.height = height;\n",
              "  }\n",
              "  "
            ]
          },
          "metadata": {}
        },
        {
          "output_type": "display_data",
          "data": {
            "text/plain": [
              "<IPython.core.display.Javascript object>"
            ],
            "application/javascript": [
              "\n",
              "  async function showImage(name, image, width, height) {\n",
              "    img = document.getElementById(name);\n",
              "    if(img == null) {\n",
              "      img = document.createElement('img');\n",
              "      img.id = name;\n",
              "      document.body.appendChild(img);\n",
              "    }\n",
              "    img.src = image;\n",
              "    img.width = width;\n",
              "    img.height = height;\n",
              "  }\n",
              "  "
            ]
          },
          "metadata": {}
        },
        {
          "output_type": "display_data",
          "data": {
            "text/plain": [
              "<IPython.core.display.Javascript object>"
            ],
            "application/javascript": [
              "\n",
              "  async function showImage(name, image, width, height) {\n",
              "    img = document.getElementById(name);\n",
              "    if(img == null) {\n",
              "      img = document.createElement('img');\n",
              "      img.id = name;\n",
              "      document.body.appendChild(img);\n",
              "    }\n",
              "    img.src = image;\n",
              "    img.width = width;\n",
              "    img.height = height;\n",
              "  }\n",
              "  "
            ]
          },
          "metadata": {}
        },
        {
          "output_type": "display_data",
          "data": {
            "text/plain": [
              "<IPython.core.display.Javascript object>"
            ],
            "application/javascript": [
              "\n",
              "  async function showImage(name, image, width, height) {\n",
              "    img = document.getElementById(name);\n",
              "    if(img == null) {\n",
              "      img = document.createElement('img');\n",
              "      img.id = name;\n",
              "      document.body.appendChild(img);\n",
              "    }\n",
              "    img.src = image;\n",
              "    img.width = width;\n",
              "    img.height = height;\n",
              "  }\n",
              "  "
            ]
          },
          "metadata": {}
        },
        {
          "output_type": "display_data",
          "data": {
            "text/plain": [
              "<IPython.core.display.Javascript object>"
            ],
            "application/javascript": [
              "\n",
              "  async function showImage(name, image, width, height) {\n",
              "    img = document.getElementById(name);\n",
              "    if(img == null) {\n",
              "      img = document.createElement('img');\n",
              "      img.id = name;\n",
              "      document.body.appendChild(img);\n",
              "    }\n",
              "    img.src = image;\n",
              "    img.width = width;\n",
              "    img.height = height;\n",
              "  }\n",
              "  "
            ]
          },
          "metadata": {}
        },
        {
          "output_type": "display_data",
          "data": {
            "text/plain": [
              "<IPython.core.display.Javascript object>"
            ],
            "application/javascript": [
              "\n",
              "  async function showImage(name, image, width, height) {\n",
              "    img = document.getElementById(name);\n",
              "    if(img == null) {\n",
              "      img = document.createElement('img');\n",
              "      img.id = name;\n",
              "      document.body.appendChild(img);\n",
              "    }\n",
              "    img.src = image;\n",
              "    img.width = width;\n",
              "    img.height = height;\n",
              "  }\n",
              "  "
            ]
          },
          "metadata": {}
        },
        {
          "output_type": "display_data",
          "data": {
            "text/plain": [
              "<IPython.core.display.Javascript object>"
            ],
            "application/javascript": [
              "\n",
              "  async function showImage(name, image, width, height) {\n",
              "    img = document.getElementById(name);\n",
              "    if(img == null) {\n",
              "      img = document.createElement('img');\n",
              "      img.id = name;\n",
              "      document.body.appendChild(img);\n",
              "    }\n",
              "    img.src = image;\n",
              "    img.width = width;\n",
              "    img.height = height;\n",
              "  }\n",
              "  "
            ]
          },
          "metadata": {}
        },
        {
          "output_type": "display_data",
          "data": {
            "text/plain": [
              "<IPython.core.display.Javascript object>"
            ],
            "application/javascript": [
              "\n",
              "  async function showImage(name, image, width, height) {\n",
              "    img = document.getElementById(name);\n",
              "    if(img == null) {\n",
              "      img = document.createElement('img');\n",
              "      img.id = name;\n",
              "      document.body.appendChild(img);\n",
              "    }\n",
              "    img.src = image;\n",
              "    img.width = width;\n",
              "    img.height = height;\n",
              "  }\n",
              "  "
            ]
          },
          "metadata": {}
        },
        {
          "output_type": "display_data",
          "data": {
            "text/plain": [
              "<IPython.core.display.Javascript object>"
            ],
            "application/javascript": [
              "\n",
              "  async function showImage(name, image, width, height) {\n",
              "    img = document.getElementById(name);\n",
              "    if(img == null) {\n",
              "      img = document.createElement('img');\n",
              "      img.id = name;\n",
              "      document.body.appendChild(img);\n",
              "    }\n",
              "    img.src = image;\n",
              "    img.width = width;\n",
              "    img.height = height;\n",
              "  }\n",
              "  "
            ]
          },
          "metadata": {}
        },
        {
          "output_type": "display_data",
          "data": {
            "text/plain": [
              "<IPython.core.display.Javascript object>"
            ],
            "application/javascript": [
              "\n",
              "  async function showImage(name, image, width, height) {\n",
              "    img = document.getElementById(name);\n",
              "    if(img == null) {\n",
              "      img = document.createElement('img');\n",
              "      img.id = name;\n",
              "      document.body.appendChild(img);\n",
              "    }\n",
              "    img.src = image;\n",
              "    img.width = width;\n",
              "    img.height = height;\n",
              "  }\n",
              "  "
            ]
          },
          "metadata": {}
        },
        {
          "output_type": "display_data",
          "data": {
            "text/plain": [
              "<IPython.core.display.Javascript object>"
            ],
            "application/javascript": [
              "\n",
              "  async function showImage(name, image, width, height) {\n",
              "    img = document.getElementById(name);\n",
              "    if(img == null) {\n",
              "      img = document.createElement('img');\n",
              "      img.id = name;\n",
              "      document.body.appendChild(img);\n",
              "    }\n",
              "    img.src = image;\n",
              "    img.width = width;\n",
              "    img.height = height;\n",
              "  }\n",
              "  "
            ]
          },
          "metadata": {}
        },
        {
          "output_type": "display_data",
          "data": {
            "text/plain": [
              "<IPython.core.display.Javascript object>"
            ],
            "application/javascript": [
              "\n",
              "  async function showImage(name, image, width, height) {\n",
              "    img = document.getElementById(name);\n",
              "    if(img == null) {\n",
              "      img = document.createElement('img');\n",
              "      img.id = name;\n",
              "      document.body.appendChild(img);\n",
              "    }\n",
              "    img.src = image;\n",
              "    img.width = width;\n",
              "    img.height = height;\n",
              "  }\n",
              "  "
            ]
          },
          "metadata": {}
        },
        {
          "output_type": "display_data",
          "data": {
            "text/plain": [
              "<IPython.core.display.Javascript object>"
            ],
            "application/javascript": [
              "\n",
              "  async function showImage(name, image, width, height) {\n",
              "    img = document.getElementById(name);\n",
              "    if(img == null) {\n",
              "      img = document.createElement('img');\n",
              "      img.id = name;\n",
              "      document.body.appendChild(img);\n",
              "    }\n",
              "    img.src = image;\n",
              "    img.width = width;\n",
              "    img.height = height;\n",
              "  }\n",
              "  "
            ]
          },
          "metadata": {}
        },
        {
          "output_type": "display_data",
          "data": {
            "text/plain": [
              "<IPython.core.display.Javascript object>"
            ],
            "application/javascript": [
              "\n",
              "  async function showImage(name, image, width, height) {\n",
              "    img = document.getElementById(name);\n",
              "    if(img == null) {\n",
              "      img = document.createElement('img');\n",
              "      img.id = name;\n",
              "      document.body.appendChild(img);\n",
              "    }\n",
              "    img.src = image;\n",
              "    img.width = width;\n",
              "    img.height = height;\n",
              "  }\n",
              "  "
            ]
          },
          "metadata": {}
        },
        {
          "output_type": "display_data",
          "data": {
            "text/plain": [
              "<IPython.core.display.Javascript object>"
            ],
            "application/javascript": [
              "\n",
              "  async function showImage(name, image, width, height) {\n",
              "    img = document.getElementById(name);\n",
              "    if(img == null) {\n",
              "      img = document.createElement('img');\n",
              "      img.id = name;\n",
              "      document.body.appendChild(img);\n",
              "    }\n",
              "    img.src = image;\n",
              "    img.width = width;\n",
              "    img.height = height;\n",
              "  }\n",
              "  "
            ]
          },
          "metadata": {}
        },
        {
          "output_type": "display_data",
          "data": {
            "text/plain": [
              "<IPython.core.display.Javascript object>"
            ],
            "application/javascript": [
              "\n",
              "  async function showImage(name, image, width, height) {\n",
              "    img = document.getElementById(name);\n",
              "    if(img == null) {\n",
              "      img = document.createElement('img');\n",
              "      img.id = name;\n",
              "      document.body.appendChild(img);\n",
              "    }\n",
              "    img.src = image;\n",
              "    img.width = width;\n",
              "    img.height = height;\n",
              "  }\n",
              "  "
            ]
          },
          "metadata": {}
        },
        {
          "output_type": "display_data",
          "data": {
            "text/plain": [
              "<IPython.core.display.Javascript object>"
            ],
            "application/javascript": [
              "\n",
              "  async function showImage(name, image, width, height) {\n",
              "    img = document.getElementById(name);\n",
              "    if(img == null) {\n",
              "      img = document.createElement('img');\n",
              "      img.id = name;\n",
              "      document.body.appendChild(img);\n",
              "    }\n",
              "    img.src = image;\n",
              "    img.width = width;\n",
              "    img.height = height;\n",
              "  }\n",
              "  "
            ]
          },
          "metadata": {}
        },
        {
          "output_type": "display_data",
          "data": {
            "text/plain": [
              "<IPython.core.display.Javascript object>"
            ],
            "application/javascript": [
              "\n",
              "  async function showImage(name, image, width, height) {\n",
              "    img = document.getElementById(name);\n",
              "    if(img == null) {\n",
              "      img = document.createElement('img');\n",
              "      img.id = name;\n",
              "      document.body.appendChild(img);\n",
              "    }\n",
              "    img.src = image;\n",
              "    img.width = width;\n",
              "    img.height = height;\n",
              "  }\n",
              "  "
            ]
          },
          "metadata": {}
        },
        {
          "output_type": "display_data",
          "data": {
            "text/plain": [
              "<IPython.core.display.Javascript object>"
            ],
            "application/javascript": [
              "\n",
              "  async function showImage(name, image, width, height) {\n",
              "    img = document.getElementById(name);\n",
              "    if(img == null) {\n",
              "      img = document.createElement('img');\n",
              "      img.id = name;\n",
              "      document.body.appendChild(img);\n",
              "    }\n",
              "    img.src = image;\n",
              "    img.width = width;\n",
              "    img.height = height;\n",
              "  }\n",
              "  "
            ]
          },
          "metadata": {}
        },
        {
          "output_type": "display_data",
          "data": {
            "text/plain": [
              "<IPython.core.display.Javascript object>"
            ],
            "application/javascript": [
              "\n",
              "  async function showImage(name, image, width, height) {\n",
              "    img = document.getElementById(name);\n",
              "    if(img == null) {\n",
              "      img = document.createElement('img');\n",
              "      img.id = name;\n",
              "      document.body.appendChild(img);\n",
              "    }\n",
              "    img.src = image;\n",
              "    img.width = width;\n",
              "    img.height = height;\n",
              "  }\n",
              "  "
            ]
          },
          "metadata": {}
        },
        {
          "output_type": "display_data",
          "data": {
            "text/plain": [
              "<IPython.core.display.Javascript object>"
            ],
            "application/javascript": [
              "\n",
              "  async function showImage(name, image, width, height) {\n",
              "    img = document.getElementById(name);\n",
              "    if(img == null) {\n",
              "      img = document.createElement('img');\n",
              "      img.id = name;\n",
              "      document.body.appendChild(img);\n",
              "    }\n",
              "    img.src = image;\n",
              "    img.width = width;\n",
              "    img.height = height;\n",
              "  }\n",
              "  "
            ]
          },
          "metadata": {}
        },
        {
          "output_type": "display_data",
          "data": {
            "text/plain": [
              "<IPython.core.display.Javascript object>"
            ],
            "application/javascript": [
              "\n",
              "  async function showImage(name, image, width, height) {\n",
              "    img = document.getElementById(name);\n",
              "    if(img == null) {\n",
              "      img = document.createElement('img');\n",
              "      img.id = name;\n",
              "      document.body.appendChild(img);\n",
              "    }\n",
              "    img.src = image;\n",
              "    img.width = width;\n",
              "    img.height = height;\n",
              "  }\n",
              "  "
            ]
          },
          "metadata": {}
        },
        {
          "output_type": "display_data",
          "data": {
            "text/plain": [
              "<IPython.core.display.Javascript object>"
            ],
            "application/javascript": [
              "\n",
              "  async function showImage(name, image, width, height) {\n",
              "    img = document.getElementById(name);\n",
              "    if(img == null) {\n",
              "      img = document.createElement('img');\n",
              "      img.id = name;\n",
              "      document.body.appendChild(img);\n",
              "    }\n",
              "    img.src = image;\n",
              "    img.width = width;\n",
              "    img.height = height;\n",
              "  }\n",
              "  "
            ]
          },
          "metadata": {}
        },
        {
          "output_type": "display_data",
          "data": {
            "text/plain": [
              "<IPython.core.display.Javascript object>"
            ],
            "application/javascript": [
              "\n",
              "  async function showImage(name, image, width, height) {\n",
              "    img = document.getElementById(name);\n",
              "    if(img == null) {\n",
              "      img = document.createElement('img');\n",
              "      img.id = name;\n",
              "      document.body.appendChild(img);\n",
              "    }\n",
              "    img.src = image;\n",
              "    img.width = width;\n",
              "    img.height = height;\n",
              "  }\n",
              "  "
            ]
          },
          "metadata": {}
        },
        {
          "output_type": "display_data",
          "data": {
            "text/plain": [
              "<IPython.core.display.Javascript object>"
            ],
            "application/javascript": [
              "\n",
              "  async function showImage(name, image, width, height) {\n",
              "    img = document.getElementById(name);\n",
              "    if(img == null) {\n",
              "      img = document.createElement('img');\n",
              "      img.id = name;\n",
              "      document.body.appendChild(img);\n",
              "    }\n",
              "    img.src = image;\n",
              "    img.width = width;\n",
              "    img.height = height;\n",
              "  }\n",
              "  "
            ]
          },
          "metadata": {}
        },
        {
          "output_type": "display_data",
          "data": {
            "text/plain": [
              "<IPython.core.display.Javascript object>"
            ],
            "application/javascript": [
              "\n",
              "  async function showImage(name, image, width, height) {\n",
              "    img = document.getElementById(name);\n",
              "    if(img == null) {\n",
              "      img = document.createElement('img');\n",
              "      img.id = name;\n",
              "      document.body.appendChild(img);\n",
              "    }\n",
              "    img.src = image;\n",
              "    img.width = width;\n",
              "    img.height = height;\n",
              "  }\n",
              "  "
            ]
          },
          "metadata": {}
        },
        {
          "output_type": "display_data",
          "data": {
            "text/plain": [
              "<IPython.core.display.Javascript object>"
            ],
            "application/javascript": [
              "\n",
              "  async function showImage(name, image, width, height) {\n",
              "    img = document.getElementById(name);\n",
              "    if(img == null) {\n",
              "      img = document.createElement('img');\n",
              "      img.id = name;\n",
              "      document.body.appendChild(img);\n",
              "    }\n",
              "    img.src = image;\n",
              "    img.width = width;\n",
              "    img.height = height;\n",
              "  }\n",
              "  "
            ]
          },
          "metadata": {}
        },
        {
          "output_type": "display_data",
          "data": {
            "text/plain": [
              "<IPython.core.display.Javascript object>"
            ],
            "application/javascript": [
              "\n",
              "  async function showImage(name, image, width, height) {\n",
              "    img = document.getElementById(name);\n",
              "    if(img == null) {\n",
              "      img = document.createElement('img');\n",
              "      img.id = name;\n",
              "      document.body.appendChild(img);\n",
              "    }\n",
              "    img.src = image;\n",
              "    img.width = width;\n",
              "    img.height = height;\n",
              "  }\n",
              "  "
            ]
          },
          "metadata": {}
        },
        {
          "output_type": "display_data",
          "data": {
            "text/plain": [
              "<IPython.core.display.Javascript object>"
            ],
            "application/javascript": [
              "\n",
              "  async function showImage(name, image, width, height) {\n",
              "    img = document.getElementById(name);\n",
              "    if(img == null) {\n",
              "      img = document.createElement('img');\n",
              "      img.id = name;\n",
              "      document.body.appendChild(img);\n",
              "    }\n",
              "    img.src = image;\n",
              "    img.width = width;\n",
              "    img.height = height;\n",
              "  }\n",
              "  "
            ]
          },
          "metadata": {}
        },
        {
          "output_type": "display_data",
          "data": {
            "text/plain": [
              "<IPython.core.display.Javascript object>"
            ],
            "application/javascript": [
              "\n",
              "  async function showImage(name, image, width, height) {\n",
              "    img = document.getElementById(name);\n",
              "    if(img == null) {\n",
              "      img = document.createElement('img');\n",
              "      img.id = name;\n",
              "      document.body.appendChild(img);\n",
              "    }\n",
              "    img.src = image;\n",
              "    img.width = width;\n",
              "    img.height = height;\n",
              "  }\n",
              "  "
            ]
          },
          "metadata": {}
        },
        {
          "output_type": "display_data",
          "data": {
            "text/plain": [
              "<IPython.core.display.Javascript object>"
            ],
            "application/javascript": [
              "\n",
              "  async function showImage(name, image, width, height) {\n",
              "    img = document.getElementById(name);\n",
              "    if(img == null) {\n",
              "      img = document.createElement('img');\n",
              "      img.id = name;\n",
              "      document.body.appendChild(img);\n",
              "    }\n",
              "    img.src = image;\n",
              "    img.width = width;\n",
              "    img.height = height;\n",
              "  }\n",
              "  "
            ]
          },
          "metadata": {}
        },
        {
          "output_type": "display_data",
          "data": {
            "text/plain": [
              "<IPython.core.display.Javascript object>"
            ],
            "application/javascript": [
              "\n",
              "  async function showImage(name, image, width, height) {\n",
              "    img = document.getElementById(name);\n",
              "    if(img == null) {\n",
              "      img = document.createElement('img');\n",
              "      img.id = name;\n",
              "      document.body.appendChild(img);\n",
              "    }\n",
              "    img.src = image;\n",
              "    img.width = width;\n",
              "    img.height = height;\n",
              "  }\n",
              "  "
            ]
          },
          "metadata": {}
        },
        {
          "output_type": "display_data",
          "data": {
            "text/plain": [
              "<IPython.core.display.Javascript object>"
            ],
            "application/javascript": [
              "\n",
              "  async function showImage(name, image, width, height) {\n",
              "    img = document.getElementById(name);\n",
              "    if(img == null) {\n",
              "      img = document.createElement('img');\n",
              "      img.id = name;\n",
              "      document.body.appendChild(img);\n",
              "    }\n",
              "    img.src = image;\n",
              "    img.width = width;\n",
              "    img.height = height;\n",
              "  }\n",
              "  "
            ]
          },
          "metadata": {}
        },
        {
          "output_type": "display_data",
          "data": {
            "text/plain": [
              "<IPython.core.display.Javascript object>"
            ],
            "application/javascript": [
              "\n",
              "  async function showImage(name, image, width, height) {\n",
              "    img = document.getElementById(name);\n",
              "    if(img == null) {\n",
              "      img = document.createElement('img');\n",
              "      img.id = name;\n",
              "      document.body.appendChild(img);\n",
              "    }\n",
              "    img.src = image;\n",
              "    img.width = width;\n",
              "    img.height = height;\n",
              "  }\n",
              "  "
            ]
          },
          "metadata": {}
        },
        {
          "output_type": "display_data",
          "data": {
            "text/plain": [
              "<IPython.core.display.Javascript object>"
            ],
            "application/javascript": [
              "\n",
              "  async function showImage(name, image, width, height) {\n",
              "    img = document.getElementById(name);\n",
              "    if(img == null) {\n",
              "      img = document.createElement('img');\n",
              "      img.id = name;\n",
              "      document.body.appendChild(img);\n",
              "    }\n",
              "    img.src = image;\n",
              "    img.width = width;\n",
              "    img.height = height;\n",
              "  }\n",
              "  "
            ]
          },
          "metadata": {}
        },
        {
          "output_type": "display_data",
          "data": {
            "text/plain": [
              "<IPython.core.display.Javascript object>"
            ],
            "application/javascript": [
              "\n",
              "  async function showImage(name, image, width, height) {\n",
              "    img = document.getElementById(name);\n",
              "    if(img == null) {\n",
              "      img = document.createElement('img');\n",
              "      img.id = name;\n",
              "      document.body.appendChild(img);\n",
              "    }\n",
              "    img.src = image;\n",
              "    img.width = width;\n",
              "    img.height = height;\n",
              "  }\n",
              "  "
            ]
          },
          "metadata": {}
        },
        {
          "output_type": "display_data",
          "data": {
            "text/plain": [
              "<IPython.core.display.Javascript object>"
            ],
            "application/javascript": [
              "\n",
              "  async function showImage(name, image, width, height) {\n",
              "    img = document.getElementById(name);\n",
              "    if(img == null) {\n",
              "      img = document.createElement('img');\n",
              "      img.id = name;\n",
              "      document.body.appendChild(img);\n",
              "    }\n",
              "    img.src = image;\n",
              "    img.width = width;\n",
              "    img.height = height;\n",
              "  }\n",
              "  "
            ]
          },
          "metadata": {}
        },
        {
          "output_type": "display_data",
          "data": {
            "text/plain": [
              "<IPython.core.display.Javascript object>"
            ],
            "application/javascript": [
              "\n",
              "  async function showImage(name, image, width, height) {\n",
              "    img = document.getElementById(name);\n",
              "    if(img == null) {\n",
              "      img = document.createElement('img');\n",
              "      img.id = name;\n",
              "      document.body.appendChild(img);\n",
              "    }\n",
              "    img.src = image;\n",
              "    img.width = width;\n",
              "    img.height = height;\n",
              "  }\n",
              "  "
            ]
          },
          "metadata": {}
        },
        {
          "output_type": "display_data",
          "data": {
            "text/plain": [
              "<IPython.core.display.Javascript object>"
            ],
            "application/javascript": [
              "\n",
              "  async function showImage(name, image, width, height) {\n",
              "    img = document.getElementById(name);\n",
              "    if(img == null) {\n",
              "      img = document.createElement('img');\n",
              "      img.id = name;\n",
              "      document.body.appendChild(img);\n",
              "    }\n",
              "    img.src = image;\n",
              "    img.width = width;\n",
              "    img.height = height;\n",
              "  }\n",
              "  "
            ]
          },
          "metadata": {}
        },
        {
          "output_type": "display_data",
          "data": {
            "text/plain": [
              "<IPython.core.display.Javascript object>"
            ],
            "application/javascript": [
              "\n",
              "  async function showImage(name, image, width, height) {\n",
              "    img = document.getElementById(name);\n",
              "    if(img == null) {\n",
              "      img = document.createElement('img');\n",
              "      img.id = name;\n",
              "      document.body.appendChild(img);\n",
              "    }\n",
              "    img.src = image;\n",
              "    img.width = width;\n",
              "    img.height = height;\n",
              "  }\n",
              "  "
            ]
          },
          "metadata": {}
        },
        {
          "output_type": "display_data",
          "data": {
            "text/plain": [
              "<IPython.core.display.Javascript object>"
            ],
            "application/javascript": [
              "\n",
              "  async function showImage(name, image, width, height) {\n",
              "    img = document.getElementById(name);\n",
              "    if(img == null) {\n",
              "      img = document.createElement('img');\n",
              "      img.id = name;\n",
              "      document.body.appendChild(img);\n",
              "    }\n",
              "    img.src = image;\n",
              "    img.width = width;\n",
              "    img.height = height;\n",
              "  }\n",
              "  "
            ]
          },
          "metadata": {}
        },
        {
          "output_type": "display_data",
          "data": {
            "text/plain": [
              "<IPython.core.display.Javascript object>"
            ],
            "application/javascript": [
              "\n",
              "  async function showImage(name, image, width, height) {\n",
              "    img = document.getElementById(name);\n",
              "    if(img == null) {\n",
              "      img = document.createElement('img');\n",
              "      img.id = name;\n",
              "      document.body.appendChild(img);\n",
              "    }\n",
              "    img.src = image;\n",
              "    img.width = width;\n",
              "    img.height = height;\n",
              "  }\n",
              "  "
            ]
          },
          "metadata": {}
        },
        {
          "output_type": "display_data",
          "data": {
            "text/plain": [
              "<IPython.core.display.Javascript object>"
            ],
            "application/javascript": [
              "\n",
              "  async function showImage(name, image, width, height) {\n",
              "    img = document.getElementById(name);\n",
              "    if(img == null) {\n",
              "      img = document.createElement('img');\n",
              "      img.id = name;\n",
              "      document.body.appendChild(img);\n",
              "    }\n",
              "    img.src = image;\n",
              "    img.width = width;\n",
              "    img.height = height;\n",
              "  }\n",
              "  "
            ]
          },
          "metadata": {}
        },
        {
          "output_type": "display_data",
          "data": {
            "text/plain": [
              "<IPython.core.display.Javascript object>"
            ],
            "application/javascript": [
              "\n",
              "  async function showImage(name, image, width, height) {\n",
              "    img = document.getElementById(name);\n",
              "    if(img == null) {\n",
              "      img = document.createElement('img');\n",
              "      img.id = name;\n",
              "      document.body.appendChild(img);\n",
              "    }\n",
              "    img.src = image;\n",
              "    img.width = width;\n",
              "    img.height = height;\n",
              "  }\n",
              "  "
            ]
          },
          "metadata": {}
        },
        {
          "output_type": "display_data",
          "data": {
            "text/plain": [
              "<IPython.core.display.Javascript object>"
            ],
            "application/javascript": [
              "\n",
              "  async function showImage(name, image, width, height) {\n",
              "    img = document.getElementById(name);\n",
              "    if(img == null) {\n",
              "      img = document.createElement('img');\n",
              "      img.id = name;\n",
              "      document.body.appendChild(img);\n",
              "    }\n",
              "    img.src = image;\n",
              "    img.width = width;\n",
              "    img.height = height;\n",
              "  }\n",
              "  "
            ]
          },
          "metadata": {}
        },
        {
          "output_type": "display_data",
          "data": {
            "text/plain": [
              "<IPython.core.display.Javascript object>"
            ],
            "application/javascript": [
              "\n",
              "  async function showImage(name, image, width, height) {\n",
              "    img = document.getElementById(name);\n",
              "    if(img == null) {\n",
              "      img = document.createElement('img');\n",
              "      img.id = name;\n",
              "      document.body.appendChild(img);\n",
              "    }\n",
              "    img.src = image;\n",
              "    img.width = width;\n",
              "    img.height = height;\n",
              "  }\n",
              "  "
            ]
          },
          "metadata": {}
        },
        {
          "output_type": "display_data",
          "data": {
            "text/plain": [
              "<IPython.core.display.Javascript object>"
            ],
            "application/javascript": [
              "\n",
              "  async function showImage(name, image, width, height) {\n",
              "    img = document.getElementById(name);\n",
              "    if(img == null) {\n",
              "      img = document.createElement('img');\n",
              "      img.id = name;\n",
              "      document.body.appendChild(img);\n",
              "    }\n",
              "    img.src = image;\n",
              "    img.width = width;\n",
              "    img.height = height;\n",
              "  }\n",
              "  "
            ]
          },
          "metadata": {}
        },
        {
          "output_type": "display_data",
          "data": {
            "text/plain": [
              "<IPython.core.display.Javascript object>"
            ],
            "application/javascript": [
              "\n",
              "  async function showImage(name, image, width, height) {\n",
              "    img = document.getElementById(name);\n",
              "    if(img == null) {\n",
              "      img = document.createElement('img');\n",
              "      img.id = name;\n",
              "      document.body.appendChild(img);\n",
              "    }\n",
              "    img.src = image;\n",
              "    img.width = width;\n",
              "    img.height = height;\n",
              "  }\n",
              "  "
            ]
          },
          "metadata": {}
        },
        {
          "output_type": "display_data",
          "data": {
            "text/plain": [
              "<IPython.core.display.Javascript object>"
            ],
            "application/javascript": [
              "\n",
              "  async function showImage(name, image, width, height) {\n",
              "    img = document.getElementById(name);\n",
              "    if(img == null) {\n",
              "      img = document.createElement('img');\n",
              "      img.id = name;\n",
              "      document.body.appendChild(img);\n",
              "    }\n",
              "    img.src = image;\n",
              "    img.width = width;\n",
              "    img.height = height;\n",
              "  }\n",
              "  "
            ]
          },
          "metadata": {}
        },
        {
          "output_type": "display_data",
          "data": {
            "text/plain": [
              "<IPython.core.display.Javascript object>"
            ],
            "application/javascript": [
              "\n",
              "  async function showImage(name, image, width, height) {\n",
              "    img = document.getElementById(name);\n",
              "    if(img == null) {\n",
              "      img = document.createElement('img');\n",
              "      img.id = name;\n",
              "      document.body.appendChild(img);\n",
              "    }\n",
              "    img.src = image;\n",
              "    img.width = width;\n",
              "    img.height = height;\n",
              "  }\n",
              "  "
            ]
          },
          "metadata": {}
        },
        {
          "output_type": "display_data",
          "data": {
            "text/plain": [
              "<IPython.core.display.Javascript object>"
            ],
            "application/javascript": [
              "\n",
              "  async function showImage(name, image, width, height) {\n",
              "    img = document.getElementById(name);\n",
              "    if(img == null) {\n",
              "      img = document.createElement('img');\n",
              "      img.id = name;\n",
              "      document.body.appendChild(img);\n",
              "    }\n",
              "    img.src = image;\n",
              "    img.width = width;\n",
              "    img.height = height;\n",
              "  }\n",
              "  "
            ]
          },
          "metadata": {}
        },
        {
          "output_type": "display_data",
          "data": {
            "text/plain": [
              "<IPython.core.display.Javascript object>"
            ],
            "application/javascript": [
              "\n",
              "  async function showImage(name, image, width, height) {\n",
              "    img = document.getElementById(name);\n",
              "    if(img == null) {\n",
              "      img = document.createElement('img');\n",
              "      img.id = name;\n",
              "      document.body.appendChild(img);\n",
              "    }\n",
              "    img.src = image;\n",
              "    img.width = width;\n",
              "    img.height = height;\n",
              "  }\n",
              "  "
            ]
          },
          "metadata": {}
        },
        {
          "output_type": "display_data",
          "data": {
            "text/plain": [
              "<IPython.core.display.Javascript object>"
            ],
            "application/javascript": [
              "\n",
              "  async function showImage(name, image, width, height) {\n",
              "    img = document.getElementById(name);\n",
              "    if(img == null) {\n",
              "      img = document.createElement('img');\n",
              "      img.id = name;\n",
              "      document.body.appendChild(img);\n",
              "    }\n",
              "    img.src = image;\n",
              "    img.width = width;\n",
              "    img.height = height;\n",
              "  }\n",
              "  "
            ]
          },
          "metadata": {}
        },
        {
          "output_type": "display_data",
          "data": {
            "text/plain": [
              "<IPython.core.display.Javascript object>"
            ],
            "application/javascript": [
              "\n",
              "  async function showImage(name, image, width, height) {\n",
              "    img = document.getElementById(name);\n",
              "    if(img == null) {\n",
              "      img = document.createElement('img');\n",
              "      img.id = name;\n",
              "      document.body.appendChild(img);\n",
              "    }\n",
              "    img.src = image;\n",
              "    img.width = width;\n",
              "    img.height = height;\n",
              "  }\n",
              "  "
            ]
          },
          "metadata": {}
        },
        {
          "output_type": "display_data",
          "data": {
            "text/plain": [
              "<IPython.core.display.Javascript object>"
            ],
            "application/javascript": [
              "\n",
              "  async function showImage(name, image, width, height) {\n",
              "    img = document.getElementById(name);\n",
              "    if(img == null) {\n",
              "      img = document.createElement('img');\n",
              "      img.id = name;\n",
              "      document.body.appendChild(img);\n",
              "    }\n",
              "    img.src = image;\n",
              "    img.width = width;\n",
              "    img.height = height;\n",
              "  }\n",
              "  "
            ]
          },
          "metadata": {}
        },
        {
          "output_type": "display_data",
          "data": {
            "text/plain": [
              "<IPython.core.display.Javascript object>"
            ],
            "application/javascript": [
              "\n",
              "  async function showImage(name, image, width, height) {\n",
              "    img = document.getElementById(name);\n",
              "    if(img == null) {\n",
              "      img = document.createElement('img');\n",
              "      img.id = name;\n",
              "      document.body.appendChild(img);\n",
              "    }\n",
              "    img.src = image;\n",
              "    img.width = width;\n",
              "    img.height = height;\n",
              "  }\n",
              "  "
            ]
          },
          "metadata": {}
        },
        {
          "output_type": "display_data",
          "data": {
            "text/plain": [
              "<IPython.core.display.Javascript object>"
            ],
            "application/javascript": [
              "\n",
              "  async function showImage(name, image, width, height) {\n",
              "    img = document.getElementById(name);\n",
              "    if(img == null) {\n",
              "      img = document.createElement('img');\n",
              "      img.id = name;\n",
              "      document.body.appendChild(img);\n",
              "    }\n",
              "    img.src = image;\n",
              "    img.width = width;\n",
              "    img.height = height;\n",
              "  }\n",
              "  "
            ]
          },
          "metadata": {}
        },
        {
          "output_type": "display_data",
          "data": {
            "text/plain": [
              "<IPython.core.display.Javascript object>"
            ],
            "application/javascript": [
              "\n",
              "  async function showImage(name, image, width, height) {\n",
              "    img = document.getElementById(name);\n",
              "    if(img == null) {\n",
              "      img = document.createElement('img');\n",
              "      img.id = name;\n",
              "      document.body.appendChild(img);\n",
              "    }\n",
              "    img.src = image;\n",
              "    img.width = width;\n",
              "    img.height = height;\n",
              "  }\n",
              "  "
            ]
          },
          "metadata": {}
        },
        {
          "output_type": "display_data",
          "data": {
            "text/plain": [
              "<IPython.core.display.Javascript object>"
            ],
            "application/javascript": [
              "\n",
              "  async function showImage(name, image, width, height) {\n",
              "    img = document.getElementById(name);\n",
              "    if(img == null) {\n",
              "      img = document.createElement('img');\n",
              "      img.id = name;\n",
              "      document.body.appendChild(img);\n",
              "    }\n",
              "    img.src = image;\n",
              "    img.width = width;\n",
              "    img.height = height;\n",
              "  }\n",
              "  "
            ]
          },
          "metadata": {}
        },
        {
          "output_type": "display_data",
          "data": {
            "text/plain": [
              "<IPython.core.display.Javascript object>"
            ],
            "application/javascript": [
              "\n",
              "  async function showImage(name, image, width, height) {\n",
              "    img = document.getElementById(name);\n",
              "    if(img == null) {\n",
              "      img = document.createElement('img');\n",
              "      img.id = name;\n",
              "      document.body.appendChild(img);\n",
              "    }\n",
              "    img.src = image;\n",
              "    img.width = width;\n",
              "    img.height = height;\n",
              "  }\n",
              "  "
            ]
          },
          "metadata": {}
        },
        {
          "output_type": "display_data",
          "data": {
            "text/plain": [
              "<IPython.core.display.Javascript object>"
            ],
            "application/javascript": [
              "\n",
              "  async function showImage(name, image, width, height) {\n",
              "    img = document.getElementById(name);\n",
              "    if(img == null) {\n",
              "      img = document.createElement('img');\n",
              "      img.id = name;\n",
              "      document.body.appendChild(img);\n",
              "    }\n",
              "    img.src = image;\n",
              "    img.width = width;\n",
              "    img.height = height;\n",
              "  }\n",
              "  "
            ]
          },
          "metadata": {}
        },
        {
          "output_type": "display_data",
          "data": {
            "text/plain": [
              "<IPython.core.display.Javascript object>"
            ],
            "application/javascript": [
              "\n",
              "  async function showImage(name, image, width, height) {\n",
              "    img = document.getElementById(name);\n",
              "    if(img == null) {\n",
              "      img = document.createElement('img');\n",
              "      img.id = name;\n",
              "      document.body.appendChild(img);\n",
              "    }\n",
              "    img.src = image;\n",
              "    img.width = width;\n",
              "    img.height = height;\n",
              "  }\n",
              "  "
            ]
          },
          "metadata": {}
        },
        {
          "output_type": "display_data",
          "data": {
            "text/plain": [
              "<IPython.core.display.Javascript object>"
            ],
            "application/javascript": [
              "\n",
              "  async function showImage(name, image, width, height) {\n",
              "    img = document.getElementById(name);\n",
              "    if(img == null) {\n",
              "      img = document.createElement('img');\n",
              "      img.id = name;\n",
              "      document.body.appendChild(img);\n",
              "    }\n",
              "    img.src = image;\n",
              "    img.width = width;\n",
              "    img.height = height;\n",
              "  }\n",
              "  "
            ]
          },
          "metadata": {}
        },
        {
          "output_type": "display_data",
          "data": {
            "text/plain": [
              "<IPython.core.display.Javascript object>"
            ],
            "application/javascript": [
              "\n",
              "  async function showImage(name, image, width, height) {\n",
              "    img = document.getElementById(name);\n",
              "    if(img == null) {\n",
              "      img = document.createElement('img');\n",
              "      img.id = name;\n",
              "      document.body.appendChild(img);\n",
              "    }\n",
              "    img.src = image;\n",
              "    img.width = width;\n",
              "    img.height = height;\n",
              "  }\n",
              "  "
            ]
          },
          "metadata": {}
        },
        {
          "output_type": "display_data",
          "data": {
            "text/plain": [
              "<IPython.core.display.Javascript object>"
            ],
            "application/javascript": [
              "\n",
              "  async function showImage(name, image, width, height) {\n",
              "    img = document.getElementById(name);\n",
              "    if(img == null) {\n",
              "      img = document.createElement('img');\n",
              "      img.id = name;\n",
              "      document.body.appendChild(img);\n",
              "    }\n",
              "    img.src = image;\n",
              "    img.width = width;\n",
              "    img.height = height;\n",
              "  }\n",
              "  "
            ]
          },
          "metadata": {}
        },
        {
          "output_type": "display_data",
          "data": {
            "text/plain": [
              "<IPython.core.display.Javascript object>"
            ],
            "application/javascript": [
              "\n",
              "  async function showImage(name, image, width, height) {\n",
              "    img = document.getElementById(name);\n",
              "    if(img == null) {\n",
              "      img = document.createElement('img');\n",
              "      img.id = name;\n",
              "      document.body.appendChild(img);\n",
              "    }\n",
              "    img.src = image;\n",
              "    img.width = width;\n",
              "    img.height = height;\n",
              "  }\n",
              "  "
            ]
          },
          "metadata": {}
        },
        {
          "output_type": "display_data",
          "data": {
            "text/plain": [
              "<IPython.core.display.Javascript object>"
            ],
            "application/javascript": [
              "\n",
              "  async function showImage(name, image, width, height) {\n",
              "    img = document.getElementById(name);\n",
              "    if(img == null) {\n",
              "      img = document.createElement('img');\n",
              "      img.id = name;\n",
              "      document.body.appendChild(img);\n",
              "    }\n",
              "    img.src = image;\n",
              "    img.width = width;\n",
              "    img.height = height;\n",
              "  }\n",
              "  "
            ]
          },
          "metadata": {}
        },
        {
          "output_type": "display_data",
          "data": {
            "text/plain": [
              "<IPython.core.display.Javascript object>"
            ],
            "application/javascript": [
              "\n",
              "  async function showImage(name, image, width, height) {\n",
              "    img = document.getElementById(name);\n",
              "    if(img == null) {\n",
              "      img = document.createElement('img');\n",
              "      img.id = name;\n",
              "      document.body.appendChild(img);\n",
              "    }\n",
              "    img.src = image;\n",
              "    img.width = width;\n",
              "    img.height = height;\n",
              "  }\n",
              "  "
            ]
          },
          "metadata": {}
        },
        {
          "output_type": "display_data",
          "data": {
            "text/plain": [
              "<IPython.core.display.Javascript object>"
            ],
            "application/javascript": [
              "\n",
              "  async function showImage(name, image, width, height) {\n",
              "    img = document.getElementById(name);\n",
              "    if(img == null) {\n",
              "      img = document.createElement('img');\n",
              "      img.id = name;\n",
              "      document.body.appendChild(img);\n",
              "    }\n",
              "    img.src = image;\n",
              "    img.width = width;\n",
              "    img.height = height;\n",
              "  }\n",
              "  "
            ]
          },
          "metadata": {}
        },
        {
          "output_type": "display_data",
          "data": {
            "text/plain": [
              "<IPython.core.display.Javascript object>"
            ],
            "application/javascript": [
              "\n",
              "  async function showImage(name, image, width, height) {\n",
              "    img = document.getElementById(name);\n",
              "    if(img == null) {\n",
              "      img = document.createElement('img');\n",
              "      img.id = name;\n",
              "      document.body.appendChild(img);\n",
              "    }\n",
              "    img.src = image;\n",
              "    img.width = width;\n",
              "    img.height = height;\n",
              "  }\n",
              "  "
            ]
          },
          "metadata": {}
        },
        {
          "output_type": "display_data",
          "data": {
            "text/plain": [
              "<IPython.core.display.Javascript object>"
            ],
            "application/javascript": [
              "\n",
              "  async function showImage(name, image, width, height) {\n",
              "    img = document.getElementById(name);\n",
              "    if(img == null) {\n",
              "      img = document.createElement('img');\n",
              "      img.id = name;\n",
              "      document.body.appendChild(img);\n",
              "    }\n",
              "    img.src = image;\n",
              "    img.width = width;\n",
              "    img.height = height;\n",
              "  }\n",
              "  "
            ]
          },
          "metadata": {}
        },
        {
          "output_type": "display_data",
          "data": {
            "text/plain": [
              "<IPython.core.display.Javascript object>"
            ],
            "application/javascript": [
              "\n",
              "  async function showImage(name, image, width, height) {\n",
              "    img = document.getElementById(name);\n",
              "    if(img == null) {\n",
              "      img = document.createElement('img');\n",
              "      img.id = name;\n",
              "      document.body.appendChild(img);\n",
              "    }\n",
              "    img.src = image;\n",
              "    img.width = width;\n",
              "    img.height = height;\n",
              "  }\n",
              "  "
            ]
          },
          "metadata": {}
        },
        {
          "output_type": "display_data",
          "data": {
            "text/plain": [
              "<IPython.core.display.Javascript object>"
            ],
            "application/javascript": [
              "\n",
              "  async function showImage(name, image, width, height) {\n",
              "    img = document.getElementById(name);\n",
              "    if(img == null) {\n",
              "      img = document.createElement('img');\n",
              "      img.id = name;\n",
              "      document.body.appendChild(img);\n",
              "    }\n",
              "    img.src = image;\n",
              "    img.width = width;\n",
              "    img.height = height;\n",
              "  }\n",
              "  "
            ]
          },
          "metadata": {}
        },
        {
          "output_type": "display_data",
          "data": {
            "text/plain": [
              "<IPython.core.display.Javascript object>"
            ],
            "application/javascript": [
              "\n",
              "  async function showImage(name, image, width, height) {\n",
              "    img = document.getElementById(name);\n",
              "    if(img == null) {\n",
              "      img = document.createElement('img');\n",
              "      img.id = name;\n",
              "      document.body.appendChild(img);\n",
              "    }\n",
              "    img.src = image;\n",
              "    img.width = width;\n",
              "    img.height = height;\n",
              "  }\n",
              "  "
            ]
          },
          "metadata": {}
        },
        {
          "output_type": "display_data",
          "data": {
            "text/plain": [
              "<IPython.core.display.Javascript object>"
            ],
            "application/javascript": [
              "\n",
              "  async function showImage(name, image, width, height) {\n",
              "    img = document.getElementById(name);\n",
              "    if(img == null) {\n",
              "      img = document.createElement('img');\n",
              "      img.id = name;\n",
              "      document.body.appendChild(img);\n",
              "    }\n",
              "    img.src = image;\n",
              "    img.width = width;\n",
              "    img.height = height;\n",
              "  }\n",
              "  "
            ]
          },
          "metadata": {}
        },
        {
          "output_type": "display_data",
          "data": {
            "text/plain": [
              "<IPython.core.display.Javascript object>"
            ],
            "application/javascript": [
              "\n",
              "  async function showImage(name, image, width, height) {\n",
              "    img = document.getElementById(name);\n",
              "    if(img == null) {\n",
              "      img = document.createElement('img');\n",
              "      img.id = name;\n",
              "      document.body.appendChild(img);\n",
              "    }\n",
              "    img.src = image;\n",
              "    img.width = width;\n",
              "    img.height = height;\n",
              "  }\n",
              "  "
            ]
          },
          "metadata": {}
        },
        {
          "output_type": "display_data",
          "data": {
            "text/plain": [
              "<IPython.core.display.Javascript object>"
            ],
            "application/javascript": [
              "\n",
              "  async function showImage(name, image, width, height) {\n",
              "    img = document.getElementById(name);\n",
              "    if(img == null) {\n",
              "      img = document.createElement('img');\n",
              "      img.id = name;\n",
              "      document.body.appendChild(img);\n",
              "    }\n",
              "    img.src = image;\n",
              "    img.width = width;\n",
              "    img.height = height;\n",
              "  }\n",
              "  "
            ]
          },
          "metadata": {}
        },
        {
          "output_type": "display_data",
          "data": {
            "text/plain": [
              "<IPython.core.display.Javascript object>"
            ],
            "application/javascript": [
              "\n",
              "  async function showImage(name, image, width, height) {\n",
              "    img = document.getElementById(name);\n",
              "    if(img == null) {\n",
              "      img = document.createElement('img');\n",
              "      img.id = name;\n",
              "      document.body.appendChild(img);\n",
              "    }\n",
              "    img.src = image;\n",
              "    img.width = width;\n",
              "    img.height = height;\n",
              "  }\n",
              "  "
            ]
          },
          "metadata": {}
        },
        {
          "output_type": "display_data",
          "data": {
            "text/plain": [
              "<IPython.core.display.Javascript object>"
            ],
            "application/javascript": [
              "\n",
              "  async function showImage(name, image, width, height) {\n",
              "    img = document.getElementById(name);\n",
              "    if(img == null) {\n",
              "      img = document.createElement('img');\n",
              "      img.id = name;\n",
              "      document.body.appendChild(img);\n",
              "    }\n",
              "    img.src = image;\n",
              "    img.width = width;\n",
              "    img.height = height;\n",
              "  }\n",
              "  "
            ]
          },
          "metadata": {}
        },
        {
          "output_type": "display_data",
          "data": {
            "text/plain": [
              "<IPython.core.display.Javascript object>"
            ],
            "application/javascript": [
              "\n",
              "  async function showImage(name, image, width, height) {\n",
              "    img = document.getElementById(name);\n",
              "    if(img == null) {\n",
              "      img = document.createElement('img');\n",
              "      img.id = name;\n",
              "      document.body.appendChild(img);\n",
              "    }\n",
              "    img.src = image;\n",
              "    img.width = width;\n",
              "    img.height = height;\n",
              "  }\n",
              "  "
            ]
          },
          "metadata": {}
        },
        {
          "output_type": "display_data",
          "data": {
            "text/plain": [
              "<IPython.core.display.Javascript object>"
            ],
            "application/javascript": [
              "\n",
              "  async function showImage(name, image, width, height) {\n",
              "    img = document.getElementById(name);\n",
              "    if(img == null) {\n",
              "      img = document.createElement('img');\n",
              "      img.id = name;\n",
              "      document.body.appendChild(img);\n",
              "    }\n",
              "    img.src = image;\n",
              "    img.width = width;\n",
              "    img.height = height;\n",
              "  }\n",
              "  "
            ]
          },
          "metadata": {}
        },
        {
          "output_type": "display_data",
          "data": {
            "text/plain": [
              "<IPython.core.display.Javascript object>"
            ],
            "application/javascript": [
              "\n",
              "  async function showImage(name, image, width, height) {\n",
              "    img = document.getElementById(name);\n",
              "    if(img == null) {\n",
              "      img = document.createElement('img');\n",
              "      img.id = name;\n",
              "      document.body.appendChild(img);\n",
              "    }\n",
              "    img.src = image;\n",
              "    img.width = width;\n",
              "    img.height = height;\n",
              "  }\n",
              "  "
            ]
          },
          "metadata": {}
        },
        {
          "output_type": "display_data",
          "data": {
            "text/plain": [
              "<IPython.core.display.Javascript object>"
            ],
            "application/javascript": [
              "\n",
              "  async function showImage(name, image, width, height) {\n",
              "    img = document.getElementById(name);\n",
              "    if(img == null) {\n",
              "      img = document.createElement('img');\n",
              "      img.id = name;\n",
              "      document.body.appendChild(img);\n",
              "    }\n",
              "    img.src = image;\n",
              "    img.width = width;\n",
              "    img.height = height;\n",
              "  }\n",
              "  "
            ]
          },
          "metadata": {}
        },
        {
          "output_type": "display_data",
          "data": {
            "text/plain": [
              "<IPython.core.display.Javascript object>"
            ],
            "application/javascript": [
              "\n",
              "  async function showImage(name, image, width, height) {\n",
              "    img = document.getElementById(name);\n",
              "    if(img == null) {\n",
              "      img = document.createElement('img');\n",
              "      img.id = name;\n",
              "      document.body.appendChild(img);\n",
              "    }\n",
              "    img.src = image;\n",
              "    img.width = width;\n",
              "    img.height = height;\n",
              "  }\n",
              "  "
            ]
          },
          "metadata": {}
        },
        {
          "output_type": "display_data",
          "data": {
            "text/plain": [
              "<IPython.core.display.Javascript object>"
            ],
            "application/javascript": [
              "\n",
              "  async function showImage(name, image, width, height) {\n",
              "    img = document.getElementById(name);\n",
              "    if(img == null) {\n",
              "      img = document.createElement('img');\n",
              "      img.id = name;\n",
              "      document.body.appendChild(img);\n",
              "    }\n",
              "    img.src = image;\n",
              "    img.width = width;\n",
              "    img.height = height;\n",
              "  }\n",
              "  "
            ]
          },
          "metadata": {}
        },
        {
          "output_type": "display_data",
          "data": {
            "text/plain": [
              "<IPython.core.display.Javascript object>"
            ],
            "application/javascript": [
              "\n",
              "  async function showImage(name, image, width, height) {\n",
              "    img = document.getElementById(name);\n",
              "    if(img == null) {\n",
              "      img = document.createElement('img');\n",
              "      img.id = name;\n",
              "      document.body.appendChild(img);\n",
              "    }\n",
              "    img.src = image;\n",
              "    img.width = width;\n",
              "    img.height = height;\n",
              "  }\n",
              "  "
            ]
          },
          "metadata": {}
        },
        {
          "output_type": "display_data",
          "data": {
            "text/plain": [
              "<IPython.core.display.Javascript object>"
            ],
            "application/javascript": [
              "\n",
              "  async function showImage(name, image, width, height) {\n",
              "    img = document.getElementById(name);\n",
              "    if(img == null) {\n",
              "      img = document.createElement('img');\n",
              "      img.id = name;\n",
              "      document.body.appendChild(img);\n",
              "    }\n",
              "    img.src = image;\n",
              "    img.width = width;\n",
              "    img.height = height;\n",
              "  }\n",
              "  "
            ]
          },
          "metadata": {}
        },
        {
          "output_type": "display_data",
          "data": {
            "text/plain": [
              "<IPython.core.display.Javascript object>"
            ],
            "application/javascript": [
              "\n",
              "  async function showImage(name, image, width, height) {\n",
              "    img = document.getElementById(name);\n",
              "    if(img == null) {\n",
              "      img = document.createElement('img');\n",
              "      img.id = name;\n",
              "      document.body.appendChild(img);\n",
              "    }\n",
              "    img.src = image;\n",
              "    img.width = width;\n",
              "    img.height = height;\n",
              "  }\n",
              "  "
            ]
          },
          "metadata": {}
        },
        {
          "output_type": "display_data",
          "data": {
            "text/plain": [
              "<IPython.core.display.Javascript object>"
            ],
            "application/javascript": [
              "\n",
              "  async function showImage(name, image, width, height) {\n",
              "    img = document.getElementById(name);\n",
              "    if(img == null) {\n",
              "      img = document.createElement('img');\n",
              "      img.id = name;\n",
              "      document.body.appendChild(img);\n",
              "    }\n",
              "    img.src = image;\n",
              "    img.width = width;\n",
              "    img.height = height;\n",
              "  }\n",
              "  "
            ]
          },
          "metadata": {}
        },
        {
          "output_type": "display_data",
          "data": {
            "text/plain": [
              "<IPython.core.display.Javascript object>"
            ],
            "application/javascript": [
              "\n",
              "  async function showImage(name, image, width, height) {\n",
              "    img = document.getElementById(name);\n",
              "    if(img == null) {\n",
              "      img = document.createElement('img');\n",
              "      img.id = name;\n",
              "      document.body.appendChild(img);\n",
              "    }\n",
              "    img.src = image;\n",
              "    img.width = width;\n",
              "    img.height = height;\n",
              "  }\n",
              "  "
            ]
          },
          "metadata": {}
        },
        {
          "output_type": "display_data",
          "data": {
            "text/plain": [
              "<IPython.core.display.Javascript object>"
            ],
            "application/javascript": [
              "\n",
              "  async function showImage(name, image, width, height) {\n",
              "    img = document.getElementById(name);\n",
              "    if(img == null) {\n",
              "      img = document.createElement('img');\n",
              "      img.id = name;\n",
              "      document.body.appendChild(img);\n",
              "    }\n",
              "    img.src = image;\n",
              "    img.width = width;\n",
              "    img.height = height;\n",
              "  }\n",
              "  "
            ]
          },
          "metadata": {}
        },
        {
          "output_type": "display_data",
          "data": {
            "text/plain": [
              "<IPython.core.display.Javascript object>"
            ],
            "application/javascript": [
              "\n",
              "  async function showImage(name, image, width, height) {\n",
              "    img = document.getElementById(name);\n",
              "    if(img == null) {\n",
              "      img = document.createElement('img');\n",
              "      img.id = name;\n",
              "      document.body.appendChild(img);\n",
              "    }\n",
              "    img.src = image;\n",
              "    img.width = width;\n",
              "    img.height = height;\n",
              "  }\n",
              "  "
            ]
          },
          "metadata": {}
        },
        {
          "output_type": "display_data",
          "data": {
            "text/plain": [
              "<IPython.core.display.Javascript object>"
            ],
            "application/javascript": [
              "\n",
              "  async function showImage(name, image, width, height) {\n",
              "    img = document.getElementById(name);\n",
              "    if(img == null) {\n",
              "      img = document.createElement('img');\n",
              "      img.id = name;\n",
              "      document.body.appendChild(img);\n",
              "    }\n",
              "    img.src = image;\n",
              "    img.width = width;\n",
              "    img.height = height;\n",
              "  }\n",
              "  "
            ]
          },
          "metadata": {}
        },
        {
          "output_type": "display_data",
          "data": {
            "text/plain": [
              "<IPython.core.display.Javascript object>"
            ],
            "application/javascript": [
              "\n",
              "  async function showImage(name, image, width, height) {\n",
              "    img = document.getElementById(name);\n",
              "    if(img == null) {\n",
              "      img = document.createElement('img');\n",
              "      img.id = name;\n",
              "      document.body.appendChild(img);\n",
              "    }\n",
              "    img.src = image;\n",
              "    img.width = width;\n",
              "    img.height = height;\n",
              "  }\n",
              "  "
            ]
          },
          "metadata": {}
        },
        {
          "output_type": "display_data",
          "data": {
            "text/plain": [
              "<IPython.core.display.Javascript object>"
            ],
            "application/javascript": [
              "\n",
              "  async function showImage(name, image, width, height) {\n",
              "    img = document.getElementById(name);\n",
              "    if(img == null) {\n",
              "      img = document.createElement('img');\n",
              "      img.id = name;\n",
              "      document.body.appendChild(img);\n",
              "    }\n",
              "    img.src = image;\n",
              "    img.width = width;\n",
              "    img.height = height;\n",
              "  }\n",
              "  "
            ]
          },
          "metadata": {}
        },
        {
          "output_type": "display_data",
          "data": {
            "text/plain": [
              "<IPython.core.display.Javascript object>"
            ],
            "application/javascript": [
              "\n",
              "  async function showImage(name, image, width, height) {\n",
              "    img = document.getElementById(name);\n",
              "    if(img == null) {\n",
              "      img = document.createElement('img');\n",
              "      img.id = name;\n",
              "      document.body.appendChild(img);\n",
              "    }\n",
              "    img.src = image;\n",
              "    img.width = width;\n",
              "    img.height = height;\n",
              "  }\n",
              "  "
            ]
          },
          "metadata": {}
        },
        {
          "output_type": "display_data",
          "data": {
            "text/plain": [
              "<IPython.core.display.Javascript object>"
            ],
            "application/javascript": [
              "\n",
              "  async function showImage(name, image, width, height) {\n",
              "    img = document.getElementById(name);\n",
              "    if(img == null) {\n",
              "      img = document.createElement('img');\n",
              "      img.id = name;\n",
              "      document.body.appendChild(img);\n",
              "    }\n",
              "    img.src = image;\n",
              "    img.width = width;\n",
              "    img.height = height;\n",
              "  }\n",
              "  "
            ]
          },
          "metadata": {}
        },
        {
          "output_type": "display_data",
          "data": {
            "text/plain": [
              "<IPython.core.display.Javascript object>"
            ],
            "application/javascript": [
              "\n",
              "  async function showImage(name, image, width, height) {\n",
              "    img = document.getElementById(name);\n",
              "    if(img == null) {\n",
              "      img = document.createElement('img');\n",
              "      img.id = name;\n",
              "      document.body.appendChild(img);\n",
              "    }\n",
              "    img.src = image;\n",
              "    img.width = width;\n",
              "    img.height = height;\n",
              "  }\n",
              "  "
            ]
          },
          "metadata": {}
        },
        {
          "output_type": "display_data",
          "data": {
            "text/plain": [
              "<IPython.core.display.Javascript object>"
            ],
            "application/javascript": [
              "\n",
              "  async function showImage(name, image, width, height) {\n",
              "    img = document.getElementById(name);\n",
              "    if(img == null) {\n",
              "      img = document.createElement('img');\n",
              "      img.id = name;\n",
              "      document.body.appendChild(img);\n",
              "    }\n",
              "    img.src = image;\n",
              "    img.width = width;\n",
              "    img.height = height;\n",
              "  }\n",
              "  "
            ]
          },
          "metadata": {}
        },
        {
          "output_type": "display_data",
          "data": {
            "text/plain": [
              "<IPython.core.display.Javascript object>"
            ],
            "application/javascript": [
              "\n",
              "  async function showImage(name, image, width, height) {\n",
              "    img = document.getElementById(name);\n",
              "    if(img == null) {\n",
              "      img = document.createElement('img');\n",
              "      img.id = name;\n",
              "      document.body.appendChild(img);\n",
              "    }\n",
              "    img.src = image;\n",
              "    img.width = width;\n",
              "    img.height = height;\n",
              "  }\n",
              "  "
            ]
          },
          "metadata": {}
        },
        {
          "output_type": "display_data",
          "data": {
            "text/plain": [
              "<IPython.core.display.Javascript object>"
            ],
            "application/javascript": [
              "\n",
              "  async function showImage(name, image, width, height) {\n",
              "    img = document.getElementById(name);\n",
              "    if(img == null) {\n",
              "      img = document.createElement('img');\n",
              "      img.id = name;\n",
              "      document.body.appendChild(img);\n",
              "    }\n",
              "    img.src = image;\n",
              "    img.width = width;\n",
              "    img.height = height;\n",
              "  }\n",
              "  "
            ]
          },
          "metadata": {}
        },
        {
          "output_type": "display_data",
          "data": {
            "text/plain": [
              "<IPython.core.display.Javascript object>"
            ],
            "application/javascript": [
              "\n",
              "  async function showImage(name, image, width, height) {\n",
              "    img = document.getElementById(name);\n",
              "    if(img == null) {\n",
              "      img = document.createElement('img');\n",
              "      img.id = name;\n",
              "      document.body.appendChild(img);\n",
              "    }\n",
              "    img.src = image;\n",
              "    img.width = width;\n",
              "    img.height = height;\n",
              "  }\n",
              "  "
            ]
          },
          "metadata": {}
        },
        {
          "output_type": "display_data",
          "data": {
            "text/plain": [
              "<IPython.core.display.Javascript object>"
            ],
            "application/javascript": [
              "\n",
              "  async function showImage(name, image, width, height) {\n",
              "    img = document.getElementById(name);\n",
              "    if(img == null) {\n",
              "      img = document.createElement('img');\n",
              "      img.id = name;\n",
              "      document.body.appendChild(img);\n",
              "    }\n",
              "    img.src = image;\n",
              "    img.width = width;\n",
              "    img.height = height;\n",
              "  }\n",
              "  "
            ]
          },
          "metadata": {}
        },
        {
          "output_type": "display_data",
          "data": {
            "text/plain": [
              "<IPython.core.display.Javascript object>"
            ],
            "application/javascript": [
              "\n",
              "  async function showImage(name, image, width, height) {\n",
              "    img = document.getElementById(name);\n",
              "    if(img == null) {\n",
              "      img = document.createElement('img');\n",
              "      img.id = name;\n",
              "      document.body.appendChild(img);\n",
              "    }\n",
              "    img.src = image;\n",
              "    img.width = width;\n",
              "    img.height = height;\n",
              "  }\n",
              "  "
            ]
          },
          "metadata": {}
        },
        {
          "output_type": "display_data",
          "data": {
            "text/plain": [
              "<IPython.core.display.Javascript object>"
            ],
            "application/javascript": [
              "\n",
              "  async function showImage(name, image, width, height) {\n",
              "    img = document.getElementById(name);\n",
              "    if(img == null) {\n",
              "      img = document.createElement('img');\n",
              "      img.id = name;\n",
              "      document.body.appendChild(img);\n",
              "    }\n",
              "    img.src = image;\n",
              "    img.width = width;\n",
              "    img.height = height;\n",
              "  }\n",
              "  "
            ]
          },
          "metadata": {}
        },
        {
          "output_type": "display_data",
          "data": {
            "text/plain": [
              "<IPython.core.display.Javascript object>"
            ],
            "application/javascript": [
              "\n",
              "  async function showImage(name, image, width, height) {\n",
              "    img = document.getElementById(name);\n",
              "    if(img == null) {\n",
              "      img = document.createElement('img');\n",
              "      img.id = name;\n",
              "      document.body.appendChild(img);\n",
              "    }\n",
              "    img.src = image;\n",
              "    img.width = width;\n",
              "    img.height = height;\n",
              "  }\n",
              "  "
            ]
          },
          "metadata": {}
        },
        {
          "output_type": "display_data",
          "data": {
            "text/plain": [
              "<IPython.core.display.Javascript object>"
            ],
            "application/javascript": [
              "\n",
              "  async function showImage(name, image, width, height) {\n",
              "    img = document.getElementById(name);\n",
              "    if(img == null) {\n",
              "      img = document.createElement('img');\n",
              "      img.id = name;\n",
              "      document.body.appendChild(img);\n",
              "    }\n",
              "    img.src = image;\n",
              "    img.width = width;\n",
              "    img.height = height;\n",
              "  }\n",
              "  "
            ]
          },
          "metadata": {}
        },
        {
          "output_type": "display_data",
          "data": {
            "text/plain": [
              "<IPython.core.display.Javascript object>"
            ],
            "application/javascript": [
              "\n",
              "  async function showImage(name, image, width, height) {\n",
              "    img = document.getElementById(name);\n",
              "    if(img == null) {\n",
              "      img = document.createElement('img');\n",
              "      img.id = name;\n",
              "      document.body.appendChild(img);\n",
              "    }\n",
              "    img.src = image;\n",
              "    img.width = width;\n",
              "    img.height = height;\n",
              "  }\n",
              "  "
            ]
          },
          "metadata": {}
        },
        {
          "output_type": "display_data",
          "data": {
            "text/plain": [
              "<IPython.core.display.Javascript object>"
            ],
            "application/javascript": [
              "\n",
              "  async function showImage(name, image, width, height) {\n",
              "    img = document.getElementById(name);\n",
              "    if(img == null) {\n",
              "      img = document.createElement('img');\n",
              "      img.id = name;\n",
              "      document.body.appendChild(img);\n",
              "    }\n",
              "    img.src = image;\n",
              "    img.width = width;\n",
              "    img.height = height;\n",
              "  }\n",
              "  "
            ]
          },
          "metadata": {}
        },
        {
          "output_type": "display_data",
          "data": {
            "text/plain": [
              "<IPython.core.display.Javascript object>"
            ],
            "application/javascript": [
              "\n",
              "  async function showImage(name, image, width, height) {\n",
              "    img = document.getElementById(name);\n",
              "    if(img == null) {\n",
              "      img = document.createElement('img');\n",
              "      img.id = name;\n",
              "      document.body.appendChild(img);\n",
              "    }\n",
              "    img.src = image;\n",
              "    img.width = width;\n",
              "    img.height = height;\n",
              "  }\n",
              "  "
            ]
          },
          "metadata": {}
        },
        {
          "output_type": "display_data",
          "data": {
            "text/plain": [
              "<IPython.core.display.Javascript object>"
            ],
            "application/javascript": [
              "\n",
              "  async function showImage(name, image, width, height) {\n",
              "    img = document.getElementById(name);\n",
              "    if(img == null) {\n",
              "      img = document.createElement('img');\n",
              "      img.id = name;\n",
              "      document.body.appendChild(img);\n",
              "    }\n",
              "    img.src = image;\n",
              "    img.width = width;\n",
              "    img.height = height;\n",
              "  }\n",
              "  "
            ]
          },
          "metadata": {}
        },
        {
          "output_type": "display_data",
          "data": {
            "text/plain": [
              "<IPython.core.display.Javascript object>"
            ],
            "application/javascript": [
              "\n",
              "  async function showImage(name, image, width, height) {\n",
              "    img = document.getElementById(name);\n",
              "    if(img == null) {\n",
              "      img = document.createElement('img');\n",
              "      img.id = name;\n",
              "      document.body.appendChild(img);\n",
              "    }\n",
              "    img.src = image;\n",
              "    img.width = width;\n",
              "    img.height = height;\n",
              "  }\n",
              "  "
            ]
          },
          "metadata": {}
        },
        {
          "output_type": "display_data",
          "data": {
            "text/plain": [
              "<IPython.core.display.Javascript object>"
            ],
            "application/javascript": [
              "\n",
              "  async function showImage(name, image, width, height) {\n",
              "    img = document.getElementById(name);\n",
              "    if(img == null) {\n",
              "      img = document.createElement('img');\n",
              "      img.id = name;\n",
              "      document.body.appendChild(img);\n",
              "    }\n",
              "    img.src = image;\n",
              "    img.width = width;\n",
              "    img.height = height;\n",
              "  }\n",
              "  "
            ]
          },
          "metadata": {}
        },
        {
          "output_type": "display_data",
          "data": {
            "text/plain": [
              "<IPython.core.display.Javascript object>"
            ],
            "application/javascript": [
              "\n",
              "  async function showImage(name, image, width, height) {\n",
              "    img = document.getElementById(name);\n",
              "    if(img == null) {\n",
              "      img = document.createElement('img');\n",
              "      img.id = name;\n",
              "      document.body.appendChild(img);\n",
              "    }\n",
              "    img.src = image;\n",
              "    img.width = width;\n",
              "    img.height = height;\n",
              "  }\n",
              "  "
            ]
          },
          "metadata": {}
        },
        {
          "output_type": "display_data",
          "data": {
            "text/plain": [
              "<IPython.core.display.Javascript object>"
            ],
            "application/javascript": [
              "\n",
              "  async function showImage(name, image, width, height) {\n",
              "    img = document.getElementById(name);\n",
              "    if(img == null) {\n",
              "      img = document.createElement('img');\n",
              "      img.id = name;\n",
              "      document.body.appendChild(img);\n",
              "    }\n",
              "    img.src = image;\n",
              "    img.width = width;\n",
              "    img.height = height;\n",
              "  }\n",
              "  "
            ]
          },
          "metadata": {}
        },
        {
          "output_type": "display_data",
          "data": {
            "text/plain": [
              "<IPython.core.display.Javascript object>"
            ],
            "application/javascript": [
              "\n",
              "  async function showImage(name, image, width, height) {\n",
              "    img = document.getElementById(name);\n",
              "    if(img == null) {\n",
              "      img = document.createElement('img');\n",
              "      img.id = name;\n",
              "      document.body.appendChild(img);\n",
              "    }\n",
              "    img.src = image;\n",
              "    img.width = width;\n",
              "    img.height = height;\n",
              "  }\n",
              "  "
            ]
          },
          "metadata": {}
        },
        {
          "output_type": "display_data",
          "data": {
            "text/plain": [
              "<IPython.core.display.Javascript object>"
            ],
            "application/javascript": [
              "\n",
              "  async function showImage(name, image, width, height) {\n",
              "    img = document.getElementById(name);\n",
              "    if(img == null) {\n",
              "      img = document.createElement('img');\n",
              "      img.id = name;\n",
              "      document.body.appendChild(img);\n",
              "    }\n",
              "    img.src = image;\n",
              "    img.width = width;\n",
              "    img.height = height;\n",
              "  }\n",
              "  "
            ]
          },
          "metadata": {}
        },
        {
          "output_type": "display_data",
          "data": {
            "text/plain": [
              "<IPython.core.display.Javascript object>"
            ],
            "application/javascript": [
              "\n",
              "  async function showImage(name, image, width, height) {\n",
              "    img = document.getElementById(name);\n",
              "    if(img == null) {\n",
              "      img = document.createElement('img');\n",
              "      img.id = name;\n",
              "      document.body.appendChild(img);\n",
              "    }\n",
              "    img.src = image;\n",
              "    img.width = width;\n",
              "    img.height = height;\n",
              "  }\n",
              "  "
            ]
          },
          "metadata": {}
        },
        {
          "output_type": "display_data",
          "data": {
            "text/plain": [
              "<IPython.core.display.Javascript object>"
            ],
            "application/javascript": [
              "\n",
              "  async function showImage(name, image, width, height) {\n",
              "    img = document.getElementById(name);\n",
              "    if(img == null) {\n",
              "      img = document.createElement('img');\n",
              "      img.id = name;\n",
              "      document.body.appendChild(img);\n",
              "    }\n",
              "    img.src = image;\n",
              "    img.width = width;\n",
              "    img.height = height;\n",
              "  }\n",
              "  "
            ]
          },
          "metadata": {}
        },
        {
          "output_type": "display_data",
          "data": {
            "text/plain": [
              "<IPython.core.display.Javascript object>"
            ],
            "application/javascript": [
              "\n",
              "  async function showImage(name, image, width, height) {\n",
              "    img = document.getElementById(name);\n",
              "    if(img == null) {\n",
              "      img = document.createElement('img');\n",
              "      img.id = name;\n",
              "      document.body.appendChild(img);\n",
              "    }\n",
              "    img.src = image;\n",
              "    img.width = width;\n",
              "    img.height = height;\n",
              "  }\n",
              "  "
            ]
          },
          "metadata": {}
        },
        {
          "output_type": "display_data",
          "data": {
            "text/plain": [
              "<IPython.core.display.Javascript object>"
            ],
            "application/javascript": [
              "\n",
              "  async function showImage(name, image, width, height) {\n",
              "    img = document.getElementById(name);\n",
              "    if(img == null) {\n",
              "      img = document.createElement('img');\n",
              "      img.id = name;\n",
              "      document.body.appendChild(img);\n",
              "    }\n",
              "    img.src = image;\n",
              "    img.width = width;\n",
              "    img.height = height;\n",
              "  }\n",
              "  "
            ]
          },
          "metadata": {}
        },
        {
          "output_type": "display_data",
          "data": {
            "text/plain": [
              "<IPython.core.display.Javascript object>"
            ],
            "application/javascript": [
              "\n",
              "  async function showImage(name, image, width, height) {\n",
              "    img = document.getElementById(name);\n",
              "    if(img == null) {\n",
              "      img = document.createElement('img');\n",
              "      img.id = name;\n",
              "      document.body.appendChild(img);\n",
              "    }\n",
              "    img.src = image;\n",
              "    img.width = width;\n",
              "    img.height = height;\n",
              "  }\n",
              "  "
            ]
          },
          "metadata": {}
        },
        {
          "output_type": "display_data",
          "data": {
            "text/plain": [
              "<IPython.core.display.Javascript object>"
            ],
            "application/javascript": [
              "\n",
              "  async function showImage(name, image, width, height) {\n",
              "    img = document.getElementById(name);\n",
              "    if(img == null) {\n",
              "      img = document.createElement('img');\n",
              "      img.id = name;\n",
              "      document.body.appendChild(img);\n",
              "    }\n",
              "    img.src = image;\n",
              "    img.width = width;\n",
              "    img.height = height;\n",
              "  }\n",
              "  "
            ]
          },
          "metadata": {}
        },
        {
          "output_type": "display_data",
          "data": {
            "text/plain": [
              "<IPython.core.display.Javascript object>"
            ],
            "application/javascript": [
              "\n",
              "  async function showImage(name, image, width, height) {\n",
              "    img = document.getElementById(name);\n",
              "    if(img == null) {\n",
              "      img = document.createElement('img');\n",
              "      img.id = name;\n",
              "      document.body.appendChild(img);\n",
              "    }\n",
              "    img.src = image;\n",
              "    img.width = width;\n",
              "    img.height = height;\n",
              "  }\n",
              "  "
            ]
          },
          "metadata": {}
        },
        {
          "output_type": "display_data",
          "data": {
            "text/plain": [
              "<IPython.core.display.Javascript object>"
            ],
            "application/javascript": [
              "\n",
              "  async function showImage(name, image, width, height) {\n",
              "    img = document.getElementById(name);\n",
              "    if(img == null) {\n",
              "      img = document.createElement('img');\n",
              "      img.id = name;\n",
              "      document.body.appendChild(img);\n",
              "    }\n",
              "    img.src = image;\n",
              "    img.width = width;\n",
              "    img.height = height;\n",
              "  }\n",
              "  "
            ]
          },
          "metadata": {}
        },
        {
          "output_type": "display_data",
          "data": {
            "text/plain": [
              "<IPython.core.display.Javascript object>"
            ],
            "application/javascript": [
              "\n",
              "  async function showImage(name, image, width, height) {\n",
              "    img = document.getElementById(name);\n",
              "    if(img == null) {\n",
              "      img = document.createElement('img');\n",
              "      img.id = name;\n",
              "      document.body.appendChild(img);\n",
              "    }\n",
              "    img.src = image;\n",
              "    img.width = width;\n",
              "    img.height = height;\n",
              "  }\n",
              "  "
            ]
          },
          "metadata": {}
        },
        {
          "output_type": "display_data",
          "data": {
            "text/plain": [
              "<IPython.core.display.Javascript object>"
            ],
            "application/javascript": [
              "\n",
              "  async function showImage(name, image, width, height) {\n",
              "    img = document.getElementById(name);\n",
              "    if(img == null) {\n",
              "      img = document.createElement('img');\n",
              "      img.id = name;\n",
              "      document.body.appendChild(img);\n",
              "    }\n",
              "    img.src = image;\n",
              "    img.width = width;\n",
              "    img.height = height;\n",
              "  }\n",
              "  "
            ]
          },
          "metadata": {}
        },
        {
          "output_type": "display_data",
          "data": {
            "text/plain": [
              "<IPython.core.display.Javascript object>"
            ],
            "application/javascript": [
              "\n",
              "  async function showImage(name, image, width, height) {\n",
              "    img = document.getElementById(name);\n",
              "    if(img == null) {\n",
              "      img = document.createElement('img');\n",
              "      img.id = name;\n",
              "      document.body.appendChild(img);\n",
              "    }\n",
              "    img.src = image;\n",
              "    img.width = width;\n",
              "    img.height = height;\n",
              "  }\n",
              "  "
            ]
          },
          "metadata": {}
        },
        {
          "output_type": "display_data",
          "data": {
            "text/plain": [
              "<IPython.core.display.Javascript object>"
            ],
            "application/javascript": [
              "\n",
              "  async function showImage(name, image, width, height) {\n",
              "    img = document.getElementById(name);\n",
              "    if(img == null) {\n",
              "      img = document.createElement('img');\n",
              "      img.id = name;\n",
              "      document.body.appendChild(img);\n",
              "    }\n",
              "    img.src = image;\n",
              "    img.width = width;\n",
              "    img.height = height;\n",
              "  }\n",
              "  "
            ]
          },
          "metadata": {}
        },
        {
          "output_type": "display_data",
          "data": {
            "text/plain": [
              "<IPython.core.display.Javascript object>"
            ],
            "application/javascript": [
              "\n",
              "  async function showImage(name, image, width, height) {\n",
              "    img = document.getElementById(name);\n",
              "    if(img == null) {\n",
              "      img = document.createElement('img');\n",
              "      img.id = name;\n",
              "      document.body.appendChild(img);\n",
              "    }\n",
              "    img.src = image;\n",
              "    img.width = width;\n",
              "    img.height = height;\n",
              "  }\n",
              "  "
            ]
          },
          "metadata": {}
        },
        {
          "output_type": "display_data",
          "data": {
            "text/plain": [
              "<IPython.core.display.Javascript object>"
            ],
            "application/javascript": [
              "\n",
              "  async function showImage(name, image, width, height) {\n",
              "    img = document.getElementById(name);\n",
              "    if(img == null) {\n",
              "      img = document.createElement('img');\n",
              "      img.id = name;\n",
              "      document.body.appendChild(img);\n",
              "    }\n",
              "    img.src = image;\n",
              "    img.width = width;\n",
              "    img.height = height;\n",
              "  }\n",
              "  "
            ]
          },
          "metadata": {}
        },
        {
          "output_type": "display_data",
          "data": {
            "text/plain": [
              "<IPython.core.display.Javascript object>"
            ],
            "application/javascript": [
              "\n",
              "  async function showImage(name, image, width, height) {\n",
              "    img = document.getElementById(name);\n",
              "    if(img == null) {\n",
              "      img = document.createElement('img');\n",
              "      img.id = name;\n",
              "      document.body.appendChild(img);\n",
              "    }\n",
              "    img.src = image;\n",
              "    img.width = width;\n",
              "    img.height = height;\n",
              "  }\n",
              "  "
            ]
          },
          "metadata": {}
        },
        {
          "output_type": "display_data",
          "data": {
            "text/plain": [
              "<IPython.core.display.Javascript object>"
            ],
            "application/javascript": [
              "\n",
              "  async function showImage(name, image, width, height) {\n",
              "    img = document.getElementById(name);\n",
              "    if(img == null) {\n",
              "      img = document.createElement('img');\n",
              "      img.id = name;\n",
              "      document.body.appendChild(img);\n",
              "    }\n",
              "    img.src = image;\n",
              "    img.width = width;\n",
              "    img.height = height;\n",
              "  }\n",
              "  "
            ]
          },
          "metadata": {}
        },
        {
          "output_type": "display_data",
          "data": {
            "text/plain": [
              "<IPython.core.display.Javascript object>"
            ],
            "application/javascript": [
              "\n",
              "  async function showImage(name, image, width, height) {\n",
              "    img = document.getElementById(name);\n",
              "    if(img == null) {\n",
              "      img = document.createElement('img');\n",
              "      img.id = name;\n",
              "      document.body.appendChild(img);\n",
              "    }\n",
              "    img.src = image;\n",
              "    img.width = width;\n",
              "    img.height = height;\n",
              "  }\n",
              "  "
            ]
          },
          "metadata": {}
        },
        {
          "output_type": "display_data",
          "data": {
            "text/plain": [
              "<IPython.core.display.Javascript object>"
            ],
            "application/javascript": [
              "\n",
              "  async function showImage(name, image, width, height) {\n",
              "    img = document.getElementById(name);\n",
              "    if(img == null) {\n",
              "      img = document.createElement('img');\n",
              "      img.id = name;\n",
              "      document.body.appendChild(img);\n",
              "    }\n",
              "    img.src = image;\n",
              "    img.width = width;\n",
              "    img.height = height;\n",
              "  }\n",
              "  "
            ]
          },
          "metadata": {}
        },
        {
          "output_type": "display_data",
          "data": {
            "text/plain": [
              "<IPython.core.display.Javascript object>"
            ],
            "application/javascript": [
              "\n",
              "  async function showImage(name, image, width, height) {\n",
              "    img = document.getElementById(name);\n",
              "    if(img == null) {\n",
              "      img = document.createElement('img');\n",
              "      img.id = name;\n",
              "      document.body.appendChild(img);\n",
              "    }\n",
              "    img.src = image;\n",
              "    img.width = width;\n",
              "    img.height = height;\n",
              "  }\n",
              "  "
            ]
          },
          "metadata": {}
        },
        {
          "output_type": "display_data",
          "data": {
            "text/plain": [
              "<IPython.core.display.Javascript object>"
            ],
            "application/javascript": [
              "\n",
              "  async function showImage(name, image, width, height) {\n",
              "    img = document.getElementById(name);\n",
              "    if(img == null) {\n",
              "      img = document.createElement('img');\n",
              "      img.id = name;\n",
              "      document.body.appendChild(img);\n",
              "    }\n",
              "    img.src = image;\n",
              "    img.width = width;\n",
              "    img.height = height;\n",
              "  }\n",
              "  "
            ]
          },
          "metadata": {}
        },
        {
          "output_type": "display_data",
          "data": {
            "text/plain": [
              "<IPython.core.display.Javascript object>"
            ],
            "application/javascript": [
              "\n",
              "  async function showImage(name, image, width, height) {\n",
              "    img = document.getElementById(name);\n",
              "    if(img == null) {\n",
              "      img = document.createElement('img');\n",
              "      img.id = name;\n",
              "      document.body.appendChild(img);\n",
              "    }\n",
              "    img.src = image;\n",
              "    img.width = width;\n",
              "    img.height = height;\n",
              "  }\n",
              "  "
            ]
          },
          "metadata": {}
        },
        {
          "output_type": "display_data",
          "data": {
            "text/plain": [
              "<IPython.core.display.Javascript object>"
            ],
            "application/javascript": [
              "\n",
              "  async function showImage(name, image, width, height) {\n",
              "    img = document.getElementById(name);\n",
              "    if(img == null) {\n",
              "      img = document.createElement('img');\n",
              "      img.id = name;\n",
              "      document.body.appendChild(img);\n",
              "    }\n",
              "    img.src = image;\n",
              "    img.width = width;\n",
              "    img.height = height;\n",
              "  }\n",
              "  "
            ]
          },
          "metadata": {}
        },
        {
          "output_type": "display_data",
          "data": {
            "text/plain": [
              "<IPython.core.display.Javascript object>"
            ],
            "application/javascript": [
              "\n",
              "  async function showImage(name, image, width, height) {\n",
              "    img = document.getElementById(name);\n",
              "    if(img == null) {\n",
              "      img = document.createElement('img');\n",
              "      img.id = name;\n",
              "      document.body.appendChild(img);\n",
              "    }\n",
              "    img.src = image;\n",
              "    img.width = width;\n",
              "    img.height = height;\n",
              "  }\n",
              "  "
            ]
          },
          "metadata": {}
        },
        {
          "output_type": "display_data",
          "data": {
            "text/plain": [
              "<IPython.core.display.Javascript object>"
            ],
            "application/javascript": [
              "\n",
              "  async function showImage(name, image, width, height) {\n",
              "    img = document.getElementById(name);\n",
              "    if(img == null) {\n",
              "      img = document.createElement('img');\n",
              "      img.id = name;\n",
              "      document.body.appendChild(img);\n",
              "    }\n",
              "    img.src = image;\n",
              "    img.width = width;\n",
              "    img.height = height;\n",
              "  }\n",
              "  "
            ]
          },
          "metadata": {}
        },
        {
          "output_type": "display_data",
          "data": {
            "text/plain": [
              "<IPython.core.display.Javascript object>"
            ],
            "application/javascript": [
              "\n",
              "  async function showImage(name, image, width, height) {\n",
              "    img = document.getElementById(name);\n",
              "    if(img == null) {\n",
              "      img = document.createElement('img');\n",
              "      img.id = name;\n",
              "      document.body.appendChild(img);\n",
              "    }\n",
              "    img.src = image;\n",
              "    img.width = width;\n",
              "    img.height = height;\n",
              "  }\n",
              "  "
            ]
          },
          "metadata": {}
        },
        {
          "output_type": "display_data",
          "data": {
            "text/plain": [
              "<IPython.core.display.Javascript object>"
            ],
            "application/javascript": [
              "\n",
              "  async function showImage(name, image, width, height) {\n",
              "    img = document.getElementById(name);\n",
              "    if(img == null) {\n",
              "      img = document.createElement('img');\n",
              "      img.id = name;\n",
              "      document.body.appendChild(img);\n",
              "    }\n",
              "    img.src = image;\n",
              "    img.width = width;\n",
              "    img.height = height;\n",
              "  }\n",
              "  "
            ]
          },
          "metadata": {}
        },
        {
          "output_type": "display_data",
          "data": {
            "text/plain": [
              "<IPython.core.display.Javascript object>"
            ],
            "application/javascript": [
              "\n",
              "  async function showImage(name, image, width, height) {\n",
              "    img = document.getElementById(name);\n",
              "    if(img == null) {\n",
              "      img = document.createElement('img');\n",
              "      img.id = name;\n",
              "      document.body.appendChild(img);\n",
              "    }\n",
              "    img.src = image;\n",
              "    img.width = width;\n",
              "    img.height = height;\n",
              "  }\n",
              "  "
            ]
          },
          "metadata": {}
        },
        {
          "output_type": "display_data",
          "data": {
            "text/plain": [
              "<IPython.core.display.Javascript object>"
            ],
            "application/javascript": [
              "\n",
              "  async function showImage(name, image, width, height) {\n",
              "    img = document.getElementById(name);\n",
              "    if(img == null) {\n",
              "      img = document.createElement('img');\n",
              "      img.id = name;\n",
              "      document.body.appendChild(img);\n",
              "    }\n",
              "    img.src = image;\n",
              "    img.width = width;\n",
              "    img.height = height;\n",
              "  }\n",
              "  "
            ]
          },
          "metadata": {}
        },
        {
          "output_type": "display_data",
          "data": {
            "text/plain": [
              "<IPython.core.display.Javascript object>"
            ],
            "application/javascript": [
              "\n",
              "  async function showImage(name, image, width, height) {\n",
              "    img = document.getElementById(name);\n",
              "    if(img == null) {\n",
              "      img = document.createElement('img');\n",
              "      img.id = name;\n",
              "      document.body.appendChild(img);\n",
              "    }\n",
              "    img.src = image;\n",
              "    img.width = width;\n",
              "    img.height = height;\n",
              "  }\n",
              "  "
            ]
          },
          "metadata": {}
        },
        {
          "output_type": "display_data",
          "data": {
            "text/plain": [
              "<IPython.core.display.Javascript object>"
            ],
            "application/javascript": [
              "\n",
              "  async function showImage(name, image, width, height) {\n",
              "    img = document.getElementById(name);\n",
              "    if(img == null) {\n",
              "      img = document.createElement('img');\n",
              "      img.id = name;\n",
              "      document.body.appendChild(img);\n",
              "    }\n",
              "    img.src = image;\n",
              "    img.width = width;\n",
              "    img.height = height;\n",
              "  }\n",
              "  "
            ]
          },
          "metadata": {}
        },
        {
          "output_type": "display_data",
          "data": {
            "text/plain": [
              "<IPython.core.display.Javascript object>"
            ],
            "application/javascript": [
              "\n",
              "  async function showImage(name, image, width, height) {\n",
              "    img = document.getElementById(name);\n",
              "    if(img == null) {\n",
              "      img = document.createElement('img');\n",
              "      img.id = name;\n",
              "      document.body.appendChild(img);\n",
              "    }\n",
              "    img.src = image;\n",
              "    img.width = width;\n",
              "    img.height = height;\n",
              "  }\n",
              "  "
            ]
          },
          "metadata": {}
        },
        {
          "output_type": "display_data",
          "data": {
            "text/plain": [
              "<IPython.core.display.Javascript object>"
            ],
            "application/javascript": [
              "\n",
              "  async function showImage(name, image, width, height) {\n",
              "    img = document.getElementById(name);\n",
              "    if(img == null) {\n",
              "      img = document.createElement('img');\n",
              "      img.id = name;\n",
              "      document.body.appendChild(img);\n",
              "    }\n",
              "    img.src = image;\n",
              "    img.width = width;\n",
              "    img.height = height;\n",
              "  }\n",
              "  "
            ]
          },
          "metadata": {}
        },
        {
          "output_type": "display_data",
          "data": {
            "text/plain": [
              "<IPython.core.display.Javascript object>"
            ],
            "application/javascript": [
              "\n",
              "  async function showImage(name, image, width, height) {\n",
              "    img = document.getElementById(name);\n",
              "    if(img == null) {\n",
              "      img = document.createElement('img');\n",
              "      img.id = name;\n",
              "      document.body.appendChild(img);\n",
              "    }\n",
              "    img.src = image;\n",
              "    img.width = width;\n",
              "    img.height = height;\n",
              "  }\n",
              "  "
            ]
          },
          "metadata": {}
        },
        {
          "output_type": "display_data",
          "data": {
            "text/plain": [
              "<IPython.core.display.Javascript object>"
            ],
            "application/javascript": [
              "\n",
              "  async function showImage(name, image, width, height) {\n",
              "    img = document.getElementById(name);\n",
              "    if(img == null) {\n",
              "      img = document.createElement('img');\n",
              "      img.id = name;\n",
              "      document.body.appendChild(img);\n",
              "    }\n",
              "    img.src = image;\n",
              "    img.width = width;\n",
              "    img.height = height;\n",
              "  }\n",
              "  "
            ]
          },
          "metadata": {}
        },
        {
          "output_type": "display_data",
          "data": {
            "text/plain": [
              "<IPython.core.display.Javascript object>"
            ],
            "application/javascript": [
              "\n",
              "  async function showImage(name, image, width, height) {\n",
              "    img = document.getElementById(name);\n",
              "    if(img == null) {\n",
              "      img = document.createElement('img');\n",
              "      img.id = name;\n",
              "      document.body.appendChild(img);\n",
              "    }\n",
              "    img.src = image;\n",
              "    img.width = width;\n",
              "    img.height = height;\n",
              "  }\n",
              "  "
            ]
          },
          "metadata": {}
        },
        {
          "output_type": "display_data",
          "data": {
            "text/plain": [
              "<IPython.core.display.Javascript object>"
            ],
            "application/javascript": [
              "\n",
              "  async function showImage(name, image, width, height) {\n",
              "    img = document.getElementById(name);\n",
              "    if(img == null) {\n",
              "      img = document.createElement('img');\n",
              "      img.id = name;\n",
              "      document.body.appendChild(img);\n",
              "    }\n",
              "    img.src = image;\n",
              "    img.width = width;\n",
              "    img.height = height;\n",
              "  }\n",
              "  "
            ]
          },
          "metadata": {}
        },
        {
          "output_type": "display_data",
          "data": {
            "text/plain": [
              "<IPython.core.display.Javascript object>"
            ],
            "application/javascript": [
              "\n",
              "  async function showImage(name, image, width, height) {\n",
              "    img = document.getElementById(name);\n",
              "    if(img == null) {\n",
              "      img = document.createElement('img');\n",
              "      img.id = name;\n",
              "      document.body.appendChild(img);\n",
              "    }\n",
              "    img.src = image;\n",
              "    img.width = width;\n",
              "    img.height = height;\n",
              "  }\n",
              "  "
            ]
          },
          "metadata": {}
        },
        {
          "output_type": "display_data",
          "data": {
            "text/plain": [
              "<IPython.core.display.Javascript object>"
            ],
            "application/javascript": [
              "\n",
              "  async function showImage(name, image, width, height) {\n",
              "    img = document.getElementById(name);\n",
              "    if(img == null) {\n",
              "      img = document.createElement('img');\n",
              "      img.id = name;\n",
              "      document.body.appendChild(img);\n",
              "    }\n",
              "    img.src = image;\n",
              "    img.width = width;\n",
              "    img.height = height;\n",
              "  }\n",
              "  "
            ]
          },
          "metadata": {}
        },
        {
          "output_type": "display_data",
          "data": {
            "text/plain": [
              "<IPython.core.display.Javascript object>"
            ],
            "application/javascript": [
              "\n",
              "  async function showImage(name, image, width, height) {\n",
              "    img = document.getElementById(name);\n",
              "    if(img == null) {\n",
              "      img = document.createElement('img');\n",
              "      img.id = name;\n",
              "      document.body.appendChild(img);\n",
              "    }\n",
              "    img.src = image;\n",
              "    img.width = width;\n",
              "    img.height = height;\n",
              "  }\n",
              "  "
            ]
          },
          "metadata": {}
        },
        {
          "output_type": "display_data",
          "data": {
            "text/plain": [
              "<IPython.core.display.Javascript object>"
            ],
            "application/javascript": [
              "\n",
              "  async function showImage(name, image, width, height) {\n",
              "    img = document.getElementById(name);\n",
              "    if(img == null) {\n",
              "      img = document.createElement('img');\n",
              "      img.id = name;\n",
              "      document.body.appendChild(img);\n",
              "    }\n",
              "    img.src = image;\n",
              "    img.width = width;\n",
              "    img.height = height;\n",
              "  }\n",
              "  "
            ]
          },
          "metadata": {}
        },
        {
          "output_type": "display_data",
          "data": {
            "text/plain": [
              "<IPython.core.display.Javascript object>"
            ],
            "application/javascript": [
              "\n",
              "  async function showImage(name, image, width, height) {\n",
              "    img = document.getElementById(name);\n",
              "    if(img == null) {\n",
              "      img = document.createElement('img');\n",
              "      img.id = name;\n",
              "      document.body.appendChild(img);\n",
              "    }\n",
              "    img.src = image;\n",
              "    img.width = width;\n",
              "    img.height = height;\n",
              "  }\n",
              "  "
            ]
          },
          "metadata": {}
        },
        {
          "output_type": "display_data",
          "data": {
            "text/plain": [
              "<IPython.core.display.Javascript object>"
            ],
            "application/javascript": [
              "\n",
              "  async function showImage(name, image, width, height) {\n",
              "    img = document.getElementById(name);\n",
              "    if(img == null) {\n",
              "      img = document.createElement('img');\n",
              "      img.id = name;\n",
              "      document.body.appendChild(img);\n",
              "    }\n",
              "    img.src = image;\n",
              "    img.width = width;\n",
              "    img.height = height;\n",
              "  }\n",
              "  "
            ]
          },
          "metadata": {}
        },
        {
          "output_type": "display_data",
          "data": {
            "text/plain": [
              "<IPython.core.display.Javascript object>"
            ],
            "application/javascript": [
              "\n",
              "  async function showImage(name, image, width, height) {\n",
              "    img = document.getElementById(name);\n",
              "    if(img == null) {\n",
              "      img = document.createElement('img');\n",
              "      img.id = name;\n",
              "      document.body.appendChild(img);\n",
              "    }\n",
              "    img.src = image;\n",
              "    img.width = width;\n",
              "    img.height = height;\n",
              "  }\n",
              "  "
            ]
          },
          "metadata": {}
        },
        {
          "output_type": "display_data",
          "data": {
            "text/plain": [
              "<IPython.core.display.Javascript object>"
            ],
            "application/javascript": [
              "\n",
              "  async function showImage(name, image, width, height) {\n",
              "    img = document.getElementById(name);\n",
              "    if(img == null) {\n",
              "      img = document.createElement('img');\n",
              "      img.id = name;\n",
              "      document.body.appendChild(img);\n",
              "    }\n",
              "    img.src = image;\n",
              "    img.width = width;\n",
              "    img.height = height;\n",
              "  }\n",
              "  "
            ]
          },
          "metadata": {}
        },
        {
          "output_type": "display_data",
          "data": {
            "text/plain": [
              "<IPython.core.display.Javascript object>"
            ],
            "application/javascript": [
              "\n",
              "  async function showImage(name, image, width, height) {\n",
              "    img = document.getElementById(name);\n",
              "    if(img == null) {\n",
              "      img = document.createElement('img');\n",
              "      img.id = name;\n",
              "      document.body.appendChild(img);\n",
              "    }\n",
              "    img.src = image;\n",
              "    img.width = width;\n",
              "    img.height = height;\n",
              "  }\n",
              "  "
            ]
          },
          "metadata": {}
        },
        {
          "output_type": "display_data",
          "data": {
            "text/plain": [
              "<IPython.core.display.Javascript object>"
            ],
            "application/javascript": [
              "\n",
              "  async function showImage(name, image, width, height) {\n",
              "    img = document.getElementById(name);\n",
              "    if(img == null) {\n",
              "      img = document.createElement('img');\n",
              "      img.id = name;\n",
              "      document.body.appendChild(img);\n",
              "    }\n",
              "    img.src = image;\n",
              "    img.width = width;\n",
              "    img.height = height;\n",
              "  }\n",
              "  "
            ]
          },
          "metadata": {}
        },
        {
          "output_type": "display_data",
          "data": {
            "text/plain": [
              "<IPython.core.display.Javascript object>"
            ],
            "application/javascript": [
              "\n",
              "  async function showImage(name, image, width, height) {\n",
              "    img = document.getElementById(name);\n",
              "    if(img == null) {\n",
              "      img = document.createElement('img');\n",
              "      img.id = name;\n",
              "      document.body.appendChild(img);\n",
              "    }\n",
              "    img.src = image;\n",
              "    img.width = width;\n",
              "    img.height = height;\n",
              "  }\n",
              "  "
            ]
          },
          "metadata": {}
        },
        {
          "output_type": "display_data",
          "data": {
            "text/plain": [
              "<IPython.core.display.Javascript object>"
            ],
            "application/javascript": [
              "\n",
              "  async function showImage(name, image, width, height) {\n",
              "    img = document.getElementById(name);\n",
              "    if(img == null) {\n",
              "      img = document.createElement('img');\n",
              "      img.id = name;\n",
              "      document.body.appendChild(img);\n",
              "    }\n",
              "    img.src = image;\n",
              "    img.width = width;\n",
              "    img.height = height;\n",
              "  }\n",
              "  "
            ]
          },
          "metadata": {}
        },
        {
          "output_type": "display_data",
          "data": {
            "text/plain": [
              "<IPython.core.display.Javascript object>"
            ],
            "application/javascript": [
              "\n",
              "  async function showImage(name, image, width, height) {\n",
              "    img = document.getElementById(name);\n",
              "    if(img == null) {\n",
              "      img = document.createElement('img');\n",
              "      img.id = name;\n",
              "      document.body.appendChild(img);\n",
              "    }\n",
              "    img.src = image;\n",
              "    img.width = width;\n",
              "    img.height = height;\n",
              "  }\n",
              "  "
            ]
          },
          "metadata": {}
        },
        {
          "output_type": "display_data",
          "data": {
            "text/plain": [
              "<IPython.core.display.Javascript object>"
            ],
            "application/javascript": [
              "\n",
              "  async function showImage(name, image, width, height) {\n",
              "    img = document.getElementById(name);\n",
              "    if(img == null) {\n",
              "      img = document.createElement('img');\n",
              "      img.id = name;\n",
              "      document.body.appendChild(img);\n",
              "    }\n",
              "    img.src = image;\n",
              "    img.width = width;\n",
              "    img.height = height;\n",
              "  }\n",
              "  "
            ]
          },
          "metadata": {}
        },
        {
          "output_type": "display_data",
          "data": {
            "text/plain": [
              "<IPython.core.display.Javascript object>"
            ],
            "application/javascript": [
              "\n",
              "  async function showImage(name, image, width, height) {\n",
              "    img = document.getElementById(name);\n",
              "    if(img == null) {\n",
              "      img = document.createElement('img');\n",
              "      img.id = name;\n",
              "      document.body.appendChild(img);\n",
              "    }\n",
              "    img.src = image;\n",
              "    img.width = width;\n",
              "    img.height = height;\n",
              "  }\n",
              "  "
            ]
          },
          "metadata": {}
        },
        {
          "output_type": "display_data",
          "data": {
            "text/plain": [
              "<IPython.core.display.Javascript object>"
            ],
            "application/javascript": [
              "\n",
              "  async function showImage(name, image, width, height) {\n",
              "    img = document.getElementById(name);\n",
              "    if(img == null) {\n",
              "      img = document.createElement('img');\n",
              "      img.id = name;\n",
              "      document.body.appendChild(img);\n",
              "    }\n",
              "    img.src = image;\n",
              "    img.width = width;\n",
              "    img.height = height;\n",
              "  }\n",
              "  "
            ]
          },
          "metadata": {}
        },
        {
          "output_type": "display_data",
          "data": {
            "text/plain": [
              "<IPython.core.display.Javascript object>"
            ],
            "application/javascript": [
              "\n",
              "  async function showImage(name, image, width, height) {\n",
              "    img = document.getElementById(name);\n",
              "    if(img == null) {\n",
              "      img = document.createElement('img');\n",
              "      img.id = name;\n",
              "      document.body.appendChild(img);\n",
              "    }\n",
              "    img.src = image;\n",
              "    img.width = width;\n",
              "    img.height = height;\n",
              "  }\n",
              "  "
            ]
          },
          "metadata": {}
        },
        {
          "output_type": "display_data",
          "data": {
            "text/plain": [
              "<IPython.core.display.Javascript object>"
            ],
            "application/javascript": [
              "\n",
              "  async function showImage(name, image, width, height) {\n",
              "    img = document.getElementById(name);\n",
              "    if(img == null) {\n",
              "      img = document.createElement('img');\n",
              "      img.id = name;\n",
              "      document.body.appendChild(img);\n",
              "    }\n",
              "    img.src = image;\n",
              "    img.width = width;\n",
              "    img.height = height;\n",
              "  }\n",
              "  "
            ]
          },
          "metadata": {}
        },
        {
          "output_type": "display_data",
          "data": {
            "text/plain": [
              "<IPython.core.display.Javascript object>"
            ],
            "application/javascript": [
              "\n",
              "  async function showImage(name, image, width, height) {\n",
              "    img = document.getElementById(name);\n",
              "    if(img == null) {\n",
              "      img = document.createElement('img');\n",
              "      img.id = name;\n",
              "      document.body.appendChild(img);\n",
              "    }\n",
              "    img.src = image;\n",
              "    img.width = width;\n",
              "    img.height = height;\n",
              "  }\n",
              "  "
            ]
          },
          "metadata": {}
        },
        {
          "output_type": "display_data",
          "data": {
            "text/plain": [
              "<IPython.core.display.Javascript object>"
            ],
            "application/javascript": [
              "\n",
              "  async function showImage(name, image, width, height) {\n",
              "    img = document.getElementById(name);\n",
              "    if(img == null) {\n",
              "      img = document.createElement('img');\n",
              "      img.id = name;\n",
              "      document.body.appendChild(img);\n",
              "    }\n",
              "    img.src = image;\n",
              "    img.width = width;\n",
              "    img.height = height;\n",
              "  }\n",
              "  "
            ]
          },
          "metadata": {}
        },
        {
          "output_type": "display_data",
          "data": {
            "text/plain": [
              "<IPython.core.display.Javascript object>"
            ],
            "application/javascript": [
              "\n",
              "  async function showImage(name, image, width, height) {\n",
              "    img = document.getElementById(name);\n",
              "    if(img == null) {\n",
              "      img = document.createElement('img');\n",
              "      img.id = name;\n",
              "      document.body.appendChild(img);\n",
              "    }\n",
              "    img.src = image;\n",
              "    img.width = width;\n",
              "    img.height = height;\n",
              "  }\n",
              "  "
            ]
          },
          "metadata": {}
        },
        {
          "output_type": "display_data",
          "data": {
            "text/plain": [
              "<IPython.core.display.Javascript object>"
            ],
            "application/javascript": [
              "\n",
              "  async function showImage(name, image, width, height) {\n",
              "    img = document.getElementById(name);\n",
              "    if(img == null) {\n",
              "      img = document.createElement('img');\n",
              "      img.id = name;\n",
              "      document.body.appendChild(img);\n",
              "    }\n",
              "    img.src = image;\n",
              "    img.width = width;\n",
              "    img.height = height;\n",
              "  }\n",
              "  "
            ]
          },
          "metadata": {}
        },
        {
          "output_type": "display_data",
          "data": {
            "text/plain": [
              "<IPython.core.display.Javascript object>"
            ],
            "application/javascript": [
              "\n",
              "  async function showImage(name, image, width, height) {\n",
              "    img = document.getElementById(name);\n",
              "    if(img == null) {\n",
              "      img = document.createElement('img');\n",
              "      img.id = name;\n",
              "      document.body.appendChild(img);\n",
              "    }\n",
              "    img.src = image;\n",
              "    img.width = width;\n",
              "    img.height = height;\n",
              "  }\n",
              "  "
            ]
          },
          "metadata": {}
        },
        {
          "output_type": "display_data",
          "data": {
            "text/plain": [
              "<IPython.core.display.Javascript object>"
            ],
            "application/javascript": [
              "\n",
              "  async function showImage(name, image, width, height) {\n",
              "    img = document.getElementById(name);\n",
              "    if(img == null) {\n",
              "      img = document.createElement('img');\n",
              "      img.id = name;\n",
              "      document.body.appendChild(img);\n",
              "    }\n",
              "    img.src = image;\n",
              "    img.width = width;\n",
              "    img.height = height;\n",
              "  }\n",
              "  "
            ]
          },
          "metadata": {}
        },
        {
          "output_type": "display_data",
          "data": {
            "text/plain": [
              "<IPython.core.display.Javascript object>"
            ],
            "application/javascript": [
              "\n",
              "  async function showImage(name, image, width, height) {\n",
              "    img = document.getElementById(name);\n",
              "    if(img == null) {\n",
              "      img = document.createElement('img');\n",
              "      img.id = name;\n",
              "      document.body.appendChild(img);\n",
              "    }\n",
              "    img.src = image;\n",
              "    img.width = width;\n",
              "    img.height = height;\n",
              "  }\n",
              "  "
            ]
          },
          "metadata": {}
        },
        {
          "output_type": "display_data",
          "data": {
            "text/plain": [
              "<IPython.core.display.Javascript object>"
            ],
            "application/javascript": [
              "\n",
              "  async function showImage(name, image, width, height) {\n",
              "    img = document.getElementById(name);\n",
              "    if(img == null) {\n",
              "      img = document.createElement('img');\n",
              "      img.id = name;\n",
              "      document.body.appendChild(img);\n",
              "    }\n",
              "    img.src = image;\n",
              "    img.width = width;\n",
              "    img.height = height;\n",
              "  }\n",
              "  "
            ]
          },
          "metadata": {}
        },
        {
          "output_type": "display_data",
          "data": {
            "text/plain": [
              "<IPython.core.display.Javascript object>"
            ],
            "application/javascript": [
              "\n",
              "  async function showImage(name, image, width, height) {\n",
              "    img = document.getElementById(name);\n",
              "    if(img == null) {\n",
              "      img = document.createElement('img');\n",
              "      img.id = name;\n",
              "      document.body.appendChild(img);\n",
              "    }\n",
              "    img.src = image;\n",
              "    img.width = width;\n",
              "    img.height = height;\n",
              "  }\n",
              "  "
            ]
          },
          "metadata": {}
        },
        {
          "output_type": "display_data",
          "data": {
            "text/plain": [
              "<IPython.core.display.Javascript object>"
            ],
            "application/javascript": [
              "\n",
              "  async function showImage(name, image, width, height) {\n",
              "    img = document.getElementById(name);\n",
              "    if(img == null) {\n",
              "      img = document.createElement('img');\n",
              "      img.id = name;\n",
              "      document.body.appendChild(img);\n",
              "    }\n",
              "    img.src = image;\n",
              "    img.width = width;\n",
              "    img.height = height;\n",
              "  }\n",
              "  "
            ]
          },
          "metadata": {}
        },
        {
          "output_type": "display_data",
          "data": {
            "text/plain": [
              "<IPython.core.display.Javascript object>"
            ],
            "application/javascript": [
              "\n",
              "  async function showImage(name, image, width, height) {\n",
              "    img = document.getElementById(name);\n",
              "    if(img == null) {\n",
              "      img = document.createElement('img');\n",
              "      img.id = name;\n",
              "      document.body.appendChild(img);\n",
              "    }\n",
              "    img.src = image;\n",
              "    img.width = width;\n",
              "    img.height = height;\n",
              "  }\n",
              "  "
            ]
          },
          "metadata": {}
        },
        {
          "output_type": "display_data",
          "data": {
            "text/plain": [
              "<IPython.core.display.Javascript object>"
            ],
            "application/javascript": [
              "\n",
              "  async function showImage(name, image, width, height) {\n",
              "    img = document.getElementById(name);\n",
              "    if(img == null) {\n",
              "      img = document.createElement('img');\n",
              "      img.id = name;\n",
              "      document.body.appendChild(img);\n",
              "    }\n",
              "    img.src = image;\n",
              "    img.width = width;\n",
              "    img.height = height;\n",
              "  }\n",
              "  "
            ]
          },
          "metadata": {}
        },
        {
          "output_type": "display_data",
          "data": {
            "text/plain": [
              "<IPython.core.display.Javascript object>"
            ],
            "application/javascript": [
              "\n",
              "  async function showImage(name, image, width, height) {\n",
              "    img = document.getElementById(name);\n",
              "    if(img == null) {\n",
              "      img = document.createElement('img');\n",
              "      img.id = name;\n",
              "      document.body.appendChild(img);\n",
              "    }\n",
              "    img.src = image;\n",
              "    img.width = width;\n",
              "    img.height = height;\n",
              "  }\n",
              "  "
            ]
          },
          "metadata": {}
        },
        {
          "output_type": "display_data",
          "data": {
            "text/plain": [
              "<IPython.core.display.Javascript object>"
            ],
            "application/javascript": [
              "\n",
              "  async function showImage(name, image, width, height) {\n",
              "    img = document.getElementById(name);\n",
              "    if(img == null) {\n",
              "      img = document.createElement('img');\n",
              "      img.id = name;\n",
              "      document.body.appendChild(img);\n",
              "    }\n",
              "    img.src = image;\n",
              "    img.width = width;\n",
              "    img.height = height;\n",
              "  }\n",
              "  "
            ]
          },
          "metadata": {}
        },
        {
          "output_type": "display_data",
          "data": {
            "text/plain": [
              "<IPython.core.display.Javascript object>"
            ],
            "application/javascript": [
              "\n",
              "  async function showImage(name, image, width, height) {\n",
              "    img = document.getElementById(name);\n",
              "    if(img == null) {\n",
              "      img = document.createElement('img');\n",
              "      img.id = name;\n",
              "      document.body.appendChild(img);\n",
              "    }\n",
              "    img.src = image;\n",
              "    img.width = width;\n",
              "    img.height = height;\n",
              "  }\n",
              "  "
            ]
          },
          "metadata": {}
        },
        {
          "output_type": "display_data",
          "data": {
            "text/plain": [
              "<IPython.core.display.Javascript object>"
            ],
            "application/javascript": [
              "\n",
              "  async function showImage(name, image, width, height) {\n",
              "    img = document.getElementById(name);\n",
              "    if(img == null) {\n",
              "      img = document.createElement('img');\n",
              "      img.id = name;\n",
              "      document.body.appendChild(img);\n",
              "    }\n",
              "    img.src = image;\n",
              "    img.width = width;\n",
              "    img.height = height;\n",
              "  }\n",
              "  "
            ]
          },
          "metadata": {}
        },
        {
          "output_type": "display_data",
          "data": {
            "text/plain": [
              "<IPython.core.display.Javascript object>"
            ],
            "application/javascript": [
              "\n",
              "  async function showImage(name, image, width, height) {\n",
              "    img = document.getElementById(name);\n",
              "    if(img == null) {\n",
              "      img = document.createElement('img');\n",
              "      img.id = name;\n",
              "      document.body.appendChild(img);\n",
              "    }\n",
              "    img.src = image;\n",
              "    img.width = width;\n",
              "    img.height = height;\n",
              "  }\n",
              "  "
            ]
          },
          "metadata": {}
        },
        {
          "output_type": "display_data",
          "data": {
            "text/plain": [
              "<IPython.core.display.Javascript object>"
            ],
            "application/javascript": [
              "\n",
              "  async function showImage(name, image, width, height) {\n",
              "    img = document.getElementById(name);\n",
              "    if(img == null) {\n",
              "      img = document.createElement('img');\n",
              "      img.id = name;\n",
              "      document.body.appendChild(img);\n",
              "    }\n",
              "    img.src = image;\n",
              "    img.width = width;\n",
              "    img.height = height;\n",
              "  }\n",
              "  "
            ]
          },
          "metadata": {}
        },
        {
          "output_type": "display_data",
          "data": {
            "text/plain": [
              "<IPython.core.display.Javascript object>"
            ],
            "application/javascript": [
              "\n",
              "  async function showImage(name, image, width, height) {\n",
              "    img = document.getElementById(name);\n",
              "    if(img == null) {\n",
              "      img = document.createElement('img');\n",
              "      img.id = name;\n",
              "      document.body.appendChild(img);\n",
              "    }\n",
              "    img.src = image;\n",
              "    img.width = width;\n",
              "    img.height = height;\n",
              "  }\n",
              "  "
            ]
          },
          "metadata": {}
        },
        {
          "output_type": "display_data",
          "data": {
            "text/plain": [
              "<IPython.core.display.Javascript object>"
            ],
            "application/javascript": [
              "\n",
              "  async function showImage(name, image, width, height) {\n",
              "    img = document.getElementById(name);\n",
              "    if(img == null) {\n",
              "      img = document.createElement('img');\n",
              "      img.id = name;\n",
              "      document.body.appendChild(img);\n",
              "    }\n",
              "    img.src = image;\n",
              "    img.width = width;\n",
              "    img.height = height;\n",
              "  }\n",
              "  "
            ]
          },
          "metadata": {}
        },
        {
          "output_type": "display_data",
          "data": {
            "text/plain": [
              "<IPython.core.display.Javascript object>"
            ],
            "application/javascript": [
              "\n",
              "  async function showImage(name, image, width, height) {\n",
              "    img = document.getElementById(name);\n",
              "    if(img == null) {\n",
              "      img = document.createElement('img');\n",
              "      img.id = name;\n",
              "      document.body.appendChild(img);\n",
              "    }\n",
              "    img.src = image;\n",
              "    img.width = width;\n",
              "    img.height = height;\n",
              "  }\n",
              "  "
            ]
          },
          "metadata": {}
        },
        {
          "output_type": "display_data",
          "data": {
            "text/plain": [
              "<IPython.core.display.Javascript object>"
            ],
            "application/javascript": [
              "\n",
              "  async function showImage(name, image, width, height) {\n",
              "    img = document.getElementById(name);\n",
              "    if(img == null) {\n",
              "      img = document.createElement('img');\n",
              "      img.id = name;\n",
              "      document.body.appendChild(img);\n",
              "    }\n",
              "    img.src = image;\n",
              "    img.width = width;\n",
              "    img.height = height;\n",
              "  }\n",
              "  "
            ]
          },
          "metadata": {}
        },
        {
          "output_type": "display_data",
          "data": {
            "text/plain": [
              "<IPython.core.display.Javascript object>"
            ],
            "application/javascript": [
              "\n",
              "  async function showImage(name, image, width, height) {\n",
              "    img = document.getElementById(name);\n",
              "    if(img == null) {\n",
              "      img = document.createElement('img');\n",
              "      img.id = name;\n",
              "      document.body.appendChild(img);\n",
              "    }\n",
              "    img.src = image;\n",
              "    img.width = width;\n",
              "    img.height = height;\n",
              "  }\n",
              "  "
            ]
          },
          "metadata": {}
        },
        {
          "output_type": "display_data",
          "data": {
            "text/plain": [
              "<IPython.core.display.Javascript object>"
            ],
            "application/javascript": [
              "\n",
              "  async function showImage(name, image, width, height) {\n",
              "    img = document.getElementById(name);\n",
              "    if(img == null) {\n",
              "      img = document.createElement('img');\n",
              "      img.id = name;\n",
              "      document.body.appendChild(img);\n",
              "    }\n",
              "    img.src = image;\n",
              "    img.width = width;\n",
              "    img.height = height;\n",
              "  }\n",
              "  "
            ]
          },
          "metadata": {}
        },
        {
          "output_type": "display_data",
          "data": {
            "text/plain": [
              "<IPython.core.display.Javascript object>"
            ],
            "application/javascript": [
              "\n",
              "  async function showImage(name, image, width, height) {\n",
              "    img = document.getElementById(name);\n",
              "    if(img == null) {\n",
              "      img = document.createElement('img');\n",
              "      img.id = name;\n",
              "      document.body.appendChild(img);\n",
              "    }\n",
              "    img.src = image;\n",
              "    img.width = width;\n",
              "    img.height = height;\n",
              "  }\n",
              "  "
            ]
          },
          "metadata": {}
        },
        {
          "output_type": "display_data",
          "data": {
            "text/plain": [
              "<IPython.core.display.Javascript object>"
            ],
            "application/javascript": [
              "\n",
              "  async function showImage(name, image, width, height) {\n",
              "    img = document.getElementById(name);\n",
              "    if(img == null) {\n",
              "      img = document.createElement('img');\n",
              "      img.id = name;\n",
              "      document.body.appendChild(img);\n",
              "    }\n",
              "    img.src = image;\n",
              "    img.width = width;\n",
              "    img.height = height;\n",
              "  }\n",
              "  "
            ]
          },
          "metadata": {}
        },
        {
          "output_type": "display_data",
          "data": {
            "text/plain": [
              "<IPython.core.display.Javascript object>"
            ],
            "application/javascript": [
              "\n",
              "  async function showImage(name, image, width, height) {\n",
              "    img = document.getElementById(name);\n",
              "    if(img == null) {\n",
              "      img = document.createElement('img');\n",
              "      img.id = name;\n",
              "      document.body.appendChild(img);\n",
              "    }\n",
              "    img.src = image;\n",
              "    img.width = width;\n",
              "    img.height = height;\n",
              "  }\n",
              "  "
            ]
          },
          "metadata": {}
        },
        {
          "output_type": "display_data",
          "data": {
            "text/plain": [
              "<IPython.core.display.Javascript object>"
            ],
            "application/javascript": [
              "\n",
              "  async function showImage(name, image, width, height) {\n",
              "    img = document.getElementById(name);\n",
              "    if(img == null) {\n",
              "      img = document.createElement('img');\n",
              "      img.id = name;\n",
              "      document.body.appendChild(img);\n",
              "    }\n",
              "    img.src = image;\n",
              "    img.width = width;\n",
              "    img.height = height;\n",
              "  }\n",
              "  "
            ]
          },
          "metadata": {}
        },
        {
          "output_type": "display_data",
          "data": {
            "text/plain": [
              "<IPython.core.display.Javascript object>"
            ],
            "application/javascript": [
              "\n",
              "  async function showImage(name, image, width, height) {\n",
              "    img = document.getElementById(name);\n",
              "    if(img == null) {\n",
              "      img = document.createElement('img');\n",
              "      img.id = name;\n",
              "      document.body.appendChild(img);\n",
              "    }\n",
              "    img.src = image;\n",
              "    img.width = width;\n",
              "    img.height = height;\n",
              "  }\n",
              "  "
            ]
          },
          "metadata": {}
        },
        {
          "output_type": "display_data",
          "data": {
            "text/plain": [
              "<IPython.core.display.Javascript object>"
            ],
            "application/javascript": [
              "\n",
              "  async function showImage(name, image, width, height) {\n",
              "    img = document.getElementById(name);\n",
              "    if(img == null) {\n",
              "      img = document.createElement('img');\n",
              "      img.id = name;\n",
              "      document.body.appendChild(img);\n",
              "    }\n",
              "    img.src = image;\n",
              "    img.width = width;\n",
              "    img.height = height;\n",
              "  }\n",
              "  "
            ]
          },
          "metadata": {}
        },
        {
          "output_type": "display_data",
          "data": {
            "text/plain": [
              "<IPython.core.display.Javascript object>"
            ],
            "application/javascript": [
              "\n",
              "  async function showImage(name, image, width, height) {\n",
              "    img = document.getElementById(name);\n",
              "    if(img == null) {\n",
              "      img = document.createElement('img');\n",
              "      img.id = name;\n",
              "      document.body.appendChild(img);\n",
              "    }\n",
              "    img.src = image;\n",
              "    img.width = width;\n",
              "    img.height = height;\n",
              "  }\n",
              "  "
            ]
          },
          "metadata": {}
        },
        {
          "output_type": "display_data",
          "data": {
            "text/plain": [
              "<IPython.core.display.Javascript object>"
            ],
            "application/javascript": [
              "\n",
              "  async function showImage(name, image, width, height) {\n",
              "    img = document.getElementById(name);\n",
              "    if(img == null) {\n",
              "      img = document.createElement('img');\n",
              "      img.id = name;\n",
              "      document.body.appendChild(img);\n",
              "    }\n",
              "    img.src = image;\n",
              "    img.width = width;\n",
              "    img.height = height;\n",
              "  }\n",
              "  "
            ]
          },
          "metadata": {}
        },
        {
          "output_type": "display_data",
          "data": {
            "text/plain": [
              "<IPython.core.display.Javascript object>"
            ],
            "application/javascript": [
              "\n",
              "  async function showImage(name, image, width, height) {\n",
              "    img = document.getElementById(name);\n",
              "    if(img == null) {\n",
              "      img = document.createElement('img');\n",
              "      img.id = name;\n",
              "      document.body.appendChild(img);\n",
              "    }\n",
              "    img.src = image;\n",
              "    img.width = width;\n",
              "    img.height = height;\n",
              "  }\n",
              "  "
            ]
          },
          "metadata": {}
        },
        {
          "output_type": "display_data",
          "data": {
            "text/plain": [
              "<IPython.core.display.Javascript object>"
            ],
            "application/javascript": [
              "\n",
              "  async function showImage(name, image, width, height) {\n",
              "    img = document.getElementById(name);\n",
              "    if(img == null) {\n",
              "      img = document.createElement('img');\n",
              "      img.id = name;\n",
              "      document.body.appendChild(img);\n",
              "    }\n",
              "    img.src = image;\n",
              "    img.width = width;\n",
              "    img.height = height;\n",
              "  }\n",
              "  "
            ]
          },
          "metadata": {}
        },
        {
          "output_type": "display_data",
          "data": {
            "text/plain": [
              "<IPython.core.display.Javascript object>"
            ],
            "application/javascript": [
              "\n",
              "  async function showImage(name, image, width, height) {\n",
              "    img = document.getElementById(name);\n",
              "    if(img == null) {\n",
              "      img = document.createElement('img');\n",
              "      img.id = name;\n",
              "      document.body.appendChild(img);\n",
              "    }\n",
              "    img.src = image;\n",
              "    img.width = width;\n",
              "    img.height = height;\n",
              "  }\n",
              "  "
            ]
          },
          "metadata": {}
        },
        {
          "output_type": "display_data",
          "data": {
            "text/plain": [
              "<IPython.core.display.Javascript object>"
            ],
            "application/javascript": [
              "\n",
              "  async function showImage(name, image, width, height) {\n",
              "    img = document.getElementById(name);\n",
              "    if(img == null) {\n",
              "      img = document.createElement('img');\n",
              "      img.id = name;\n",
              "      document.body.appendChild(img);\n",
              "    }\n",
              "    img.src = image;\n",
              "    img.width = width;\n",
              "    img.height = height;\n",
              "  }\n",
              "  "
            ]
          },
          "metadata": {}
        },
        {
          "output_type": "display_data",
          "data": {
            "text/plain": [
              "<IPython.core.display.Javascript object>"
            ],
            "application/javascript": [
              "\n",
              "  async function showImage(name, image, width, height) {\n",
              "    img = document.getElementById(name);\n",
              "    if(img == null) {\n",
              "      img = document.createElement('img');\n",
              "      img.id = name;\n",
              "      document.body.appendChild(img);\n",
              "    }\n",
              "    img.src = image;\n",
              "    img.width = width;\n",
              "    img.height = height;\n",
              "  }\n",
              "  "
            ]
          },
          "metadata": {}
        },
        {
          "output_type": "display_data",
          "data": {
            "text/plain": [
              "<IPython.core.display.Javascript object>"
            ],
            "application/javascript": [
              "\n",
              "  async function showImage(name, image, width, height) {\n",
              "    img = document.getElementById(name);\n",
              "    if(img == null) {\n",
              "      img = document.createElement('img');\n",
              "      img.id = name;\n",
              "      document.body.appendChild(img);\n",
              "    }\n",
              "    img.src = image;\n",
              "    img.width = width;\n",
              "    img.height = height;\n",
              "  }\n",
              "  "
            ]
          },
          "metadata": {}
        },
        {
          "output_type": "display_data",
          "data": {
            "text/plain": [
              "<IPython.core.display.Javascript object>"
            ],
            "application/javascript": [
              "\n",
              "  async function showImage(name, image, width, height) {\n",
              "    img = document.getElementById(name);\n",
              "    if(img == null) {\n",
              "      img = document.createElement('img');\n",
              "      img.id = name;\n",
              "      document.body.appendChild(img);\n",
              "    }\n",
              "    img.src = image;\n",
              "    img.width = width;\n",
              "    img.height = height;\n",
              "  }\n",
              "  "
            ]
          },
          "metadata": {}
        },
        {
          "output_type": "display_data",
          "data": {
            "text/plain": [
              "<IPython.core.display.Javascript object>"
            ],
            "application/javascript": [
              "\n",
              "  async function showImage(name, image, width, height) {\n",
              "    img = document.getElementById(name);\n",
              "    if(img == null) {\n",
              "      img = document.createElement('img');\n",
              "      img.id = name;\n",
              "      document.body.appendChild(img);\n",
              "    }\n",
              "    img.src = image;\n",
              "    img.width = width;\n",
              "    img.height = height;\n",
              "  }\n",
              "  "
            ]
          },
          "metadata": {}
        },
        {
          "output_type": "display_data",
          "data": {
            "text/plain": [
              "<IPython.core.display.Javascript object>"
            ],
            "application/javascript": [
              "\n",
              "  async function showImage(name, image, width, height) {\n",
              "    img = document.getElementById(name);\n",
              "    if(img == null) {\n",
              "      img = document.createElement('img');\n",
              "      img.id = name;\n",
              "      document.body.appendChild(img);\n",
              "    }\n",
              "    img.src = image;\n",
              "    img.width = width;\n",
              "    img.height = height;\n",
              "  }\n",
              "  "
            ]
          },
          "metadata": {}
        },
        {
          "output_type": "display_data",
          "data": {
            "text/plain": [
              "<IPython.core.display.Javascript object>"
            ],
            "application/javascript": [
              "\n",
              "  async function showImage(name, image, width, height) {\n",
              "    img = document.getElementById(name);\n",
              "    if(img == null) {\n",
              "      img = document.createElement('img');\n",
              "      img.id = name;\n",
              "      document.body.appendChild(img);\n",
              "    }\n",
              "    img.src = image;\n",
              "    img.width = width;\n",
              "    img.height = height;\n",
              "  }\n",
              "  "
            ]
          },
          "metadata": {}
        },
        {
          "output_type": "display_data",
          "data": {
            "text/plain": [
              "<IPython.core.display.Javascript object>"
            ],
            "application/javascript": [
              "\n",
              "  async function showImage(name, image, width, height) {\n",
              "    img = document.getElementById(name);\n",
              "    if(img == null) {\n",
              "      img = document.createElement('img');\n",
              "      img.id = name;\n",
              "      document.body.appendChild(img);\n",
              "    }\n",
              "    img.src = image;\n",
              "    img.width = width;\n",
              "    img.height = height;\n",
              "  }\n",
              "  "
            ]
          },
          "metadata": {}
        },
        {
          "output_type": "display_data",
          "data": {
            "text/plain": [
              "<IPython.core.display.Javascript object>"
            ],
            "application/javascript": [
              "\n",
              "  async function showImage(name, image, width, height) {\n",
              "    img = document.getElementById(name);\n",
              "    if(img == null) {\n",
              "      img = document.createElement('img');\n",
              "      img.id = name;\n",
              "      document.body.appendChild(img);\n",
              "    }\n",
              "    img.src = image;\n",
              "    img.width = width;\n",
              "    img.height = height;\n",
              "  }\n",
              "  "
            ]
          },
          "metadata": {}
        },
        {
          "output_type": "display_data",
          "data": {
            "text/plain": [
              "<IPython.core.display.Javascript object>"
            ],
            "application/javascript": [
              "\n",
              "  async function showImage(name, image, width, height) {\n",
              "    img = document.getElementById(name);\n",
              "    if(img == null) {\n",
              "      img = document.createElement('img');\n",
              "      img.id = name;\n",
              "      document.body.appendChild(img);\n",
              "    }\n",
              "    img.src = image;\n",
              "    img.width = width;\n",
              "    img.height = height;\n",
              "  }\n",
              "  "
            ]
          },
          "metadata": {}
        },
        {
          "output_type": "display_data",
          "data": {
            "text/plain": [
              "<IPython.core.display.Javascript object>"
            ],
            "application/javascript": [
              "\n",
              "  async function showImage(name, image, width, height) {\n",
              "    img = document.getElementById(name);\n",
              "    if(img == null) {\n",
              "      img = document.createElement('img');\n",
              "      img.id = name;\n",
              "      document.body.appendChild(img);\n",
              "    }\n",
              "    img.src = image;\n",
              "    img.width = width;\n",
              "    img.height = height;\n",
              "  }\n",
              "  "
            ]
          },
          "metadata": {}
        },
        {
          "output_type": "display_data",
          "data": {
            "text/plain": [
              "<IPython.core.display.Javascript object>"
            ],
            "application/javascript": [
              "\n",
              "  async function showImage(name, image, width, height) {\n",
              "    img = document.getElementById(name);\n",
              "    if(img == null) {\n",
              "      img = document.createElement('img');\n",
              "      img.id = name;\n",
              "      document.body.appendChild(img);\n",
              "    }\n",
              "    img.src = image;\n",
              "    img.width = width;\n",
              "    img.height = height;\n",
              "  }\n",
              "  "
            ]
          },
          "metadata": {}
        },
        {
          "output_type": "display_data",
          "data": {
            "text/plain": [
              "<IPython.core.display.Javascript object>"
            ],
            "application/javascript": [
              "\n",
              "  async function showImage(name, image, width, height) {\n",
              "    img = document.getElementById(name);\n",
              "    if(img == null) {\n",
              "      img = document.createElement('img');\n",
              "      img.id = name;\n",
              "      document.body.appendChild(img);\n",
              "    }\n",
              "    img.src = image;\n",
              "    img.width = width;\n",
              "    img.height = height;\n",
              "  }\n",
              "  "
            ]
          },
          "metadata": {}
        },
        {
          "output_type": "display_data",
          "data": {
            "text/plain": [
              "<IPython.core.display.Javascript object>"
            ],
            "application/javascript": [
              "\n",
              "  async function showImage(name, image, width, height) {\n",
              "    img = document.getElementById(name);\n",
              "    if(img == null) {\n",
              "      img = document.createElement('img');\n",
              "      img.id = name;\n",
              "      document.body.appendChild(img);\n",
              "    }\n",
              "    img.src = image;\n",
              "    img.width = width;\n",
              "    img.height = height;\n",
              "  }\n",
              "  "
            ]
          },
          "metadata": {}
        },
        {
          "output_type": "display_data",
          "data": {
            "text/plain": [
              "<IPython.core.display.Javascript object>"
            ],
            "application/javascript": [
              "\n",
              "  async function showImage(name, image, width, height) {\n",
              "    img = document.getElementById(name);\n",
              "    if(img == null) {\n",
              "      img = document.createElement('img');\n",
              "      img.id = name;\n",
              "      document.body.appendChild(img);\n",
              "    }\n",
              "    img.src = image;\n",
              "    img.width = width;\n",
              "    img.height = height;\n",
              "  }\n",
              "  "
            ]
          },
          "metadata": {}
        },
        {
          "output_type": "display_data",
          "data": {
            "text/plain": [
              "<IPython.core.display.Javascript object>"
            ],
            "application/javascript": [
              "\n",
              "  async function showImage(name, image, width, height) {\n",
              "    img = document.getElementById(name);\n",
              "    if(img == null) {\n",
              "      img = document.createElement('img');\n",
              "      img.id = name;\n",
              "      document.body.appendChild(img);\n",
              "    }\n",
              "    img.src = image;\n",
              "    img.width = width;\n",
              "    img.height = height;\n",
              "  }\n",
              "  "
            ]
          },
          "metadata": {}
        },
        {
          "output_type": "display_data",
          "data": {
            "text/plain": [
              "<IPython.core.display.Javascript object>"
            ],
            "application/javascript": [
              "\n",
              "  async function showImage(name, image, width, height) {\n",
              "    img = document.getElementById(name);\n",
              "    if(img == null) {\n",
              "      img = document.createElement('img');\n",
              "      img.id = name;\n",
              "      document.body.appendChild(img);\n",
              "    }\n",
              "    img.src = image;\n",
              "    img.width = width;\n",
              "    img.height = height;\n",
              "  }\n",
              "  "
            ]
          },
          "metadata": {}
        },
        {
          "output_type": "display_data",
          "data": {
            "text/plain": [
              "<IPython.core.display.Javascript object>"
            ],
            "application/javascript": [
              "\n",
              "  async function showImage(name, image, width, height) {\n",
              "    img = document.getElementById(name);\n",
              "    if(img == null) {\n",
              "      img = document.createElement('img');\n",
              "      img.id = name;\n",
              "      document.body.appendChild(img);\n",
              "    }\n",
              "    img.src = image;\n",
              "    img.width = width;\n",
              "    img.height = height;\n",
              "  }\n",
              "  "
            ]
          },
          "metadata": {}
        },
        {
          "output_type": "display_data",
          "data": {
            "text/plain": [
              "<IPython.core.display.Javascript object>"
            ],
            "application/javascript": [
              "\n",
              "  async function showImage(name, image, width, height) {\n",
              "    img = document.getElementById(name);\n",
              "    if(img == null) {\n",
              "      img = document.createElement('img');\n",
              "      img.id = name;\n",
              "      document.body.appendChild(img);\n",
              "    }\n",
              "    img.src = image;\n",
              "    img.width = width;\n",
              "    img.height = height;\n",
              "  }\n",
              "  "
            ]
          },
          "metadata": {}
        },
        {
          "output_type": "display_data",
          "data": {
            "text/plain": [
              "<IPython.core.display.Javascript object>"
            ],
            "application/javascript": [
              "\n",
              "  async function showImage(name, image, width, height) {\n",
              "    img = document.getElementById(name);\n",
              "    if(img == null) {\n",
              "      img = document.createElement('img');\n",
              "      img.id = name;\n",
              "      document.body.appendChild(img);\n",
              "    }\n",
              "    img.src = image;\n",
              "    img.width = width;\n",
              "    img.height = height;\n",
              "  }\n",
              "  "
            ]
          },
          "metadata": {}
        },
        {
          "output_type": "display_data",
          "data": {
            "text/plain": [
              "<IPython.core.display.Javascript object>"
            ],
            "application/javascript": [
              "\n",
              "  async function showImage(name, image, width, height) {\n",
              "    img = document.getElementById(name);\n",
              "    if(img == null) {\n",
              "      img = document.createElement('img');\n",
              "      img.id = name;\n",
              "      document.body.appendChild(img);\n",
              "    }\n",
              "    img.src = image;\n",
              "    img.width = width;\n",
              "    img.height = height;\n",
              "  }\n",
              "  "
            ]
          },
          "metadata": {}
        },
        {
          "output_type": "display_data",
          "data": {
            "text/plain": [
              "<IPython.core.display.Javascript object>"
            ],
            "application/javascript": [
              "\n",
              "  async function showImage(name, image, width, height) {\n",
              "    img = document.getElementById(name);\n",
              "    if(img == null) {\n",
              "      img = document.createElement('img');\n",
              "      img.id = name;\n",
              "      document.body.appendChild(img);\n",
              "    }\n",
              "    img.src = image;\n",
              "    img.width = width;\n",
              "    img.height = height;\n",
              "  }\n",
              "  "
            ]
          },
          "metadata": {}
        },
        {
          "output_type": "display_data",
          "data": {
            "text/plain": [
              "<IPython.core.display.Javascript object>"
            ],
            "application/javascript": [
              "\n",
              "  async function showImage(name, image, width, height) {\n",
              "    img = document.getElementById(name);\n",
              "    if(img == null) {\n",
              "      img = document.createElement('img');\n",
              "      img.id = name;\n",
              "      document.body.appendChild(img);\n",
              "    }\n",
              "    img.src = image;\n",
              "    img.width = width;\n",
              "    img.height = height;\n",
              "  }\n",
              "  "
            ]
          },
          "metadata": {}
        },
        {
          "output_type": "display_data",
          "data": {
            "text/plain": [
              "<IPython.core.display.Javascript object>"
            ],
            "application/javascript": [
              "\n",
              "  async function showImage(name, image, width, height) {\n",
              "    img = document.getElementById(name);\n",
              "    if(img == null) {\n",
              "      img = document.createElement('img');\n",
              "      img.id = name;\n",
              "      document.body.appendChild(img);\n",
              "    }\n",
              "    img.src = image;\n",
              "    img.width = width;\n",
              "    img.height = height;\n",
              "  }\n",
              "  "
            ]
          },
          "metadata": {}
        },
        {
          "output_type": "display_data",
          "data": {
            "text/plain": [
              "<IPython.core.display.Javascript object>"
            ],
            "application/javascript": [
              "\n",
              "  async function showImage(name, image, width, height) {\n",
              "    img = document.getElementById(name);\n",
              "    if(img == null) {\n",
              "      img = document.createElement('img');\n",
              "      img.id = name;\n",
              "      document.body.appendChild(img);\n",
              "    }\n",
              "    img.src = image;\n",
              "    img.width = width;\n",
              "    img.height = height;\n",
              "  }\n",
              "  "
            ]
          },
          "metadata": {}
        },
        {
          "output_type": "display_data",
          "data": {
            "text/plain": [
              "<IPython.core.display.Javascript object>"
            ],
            "application/javascript": [
              "\n",
              "  async function showImage(name, image, width, height) {\n",
              "    img = document.getElementById(name);\n",
              "    if(img == null) {\n",
              "      img = document.createElement('img');\n",
              "      img.id = name;\n",
              "      document.body.appendChild(img);\n",
              "    }\n",
              "    img.src = image;\n",
              "    img.width = width;\n",
              "    img.height = height;\n",
              "  }\n",
              "  "
            ]
          },
          "metadata": {}
        },
        {
          "output_type": "display_data",
          "data": {
            "text/plain": [
              "<IPython.core.display.Javascript object>"
            ],
            "application/javascript": [
              "\n",
              "  async function showImage(name, image, width, height) {\n",
              "    img = document.getElementById(name);\n",
              "    if(img == null) {\n",
              "      img = document.createElement('img');\n",
              "      img.id = name;\n",
              "      document.body.appendChild(img);\n",
              "    }\n",
              "    img.src = image;\n",
              "    img.width = width;\n",
              "    img.height = height;\n",
              "  }\n",
              "  "
            ]
          },
          "metadata": {}
        },
        {
          "output_type": "display_data",
          "data": {
            "text/plain": [
              "<IPython.core.display.Javascript object>"
            ],
            "application/javascript": [
              "\n",
              "  async function showImage(name, image, width, height) {\n",
              "    img = document.getElementById(name);\n",
              "    if(img == null) {\n",
              "      img = document.createElement('img');\n",
              "      img.id = name;\n",
              "      document.body.appendChild(img);\n",
              "    }\n",
              "    img.src = image;\n",
              "    img.width = width;\n",
              "    img.height = height;\n",
              "  }\n",
              "  "
            ]
          },
          "metadata": {}
        },
        {
          "output_type": "display_data",
          "data": {
            "text/plain": [
              "<IPython.core.display.Javascript object>"
            ],
            "application/javascript": [
              "\n",
              "  async function showImage(name, image, width, height) {\n",
              "    img = document.getElementById(name);\n",
              "    if(img == null) {\n",
              "      img = document.createElement('img');\n",
              "      img.id = name;\n",
              "      document.body.appendChild(img);\n",
              "    }\n",
              "    img.src = image;\n",
              "    img.width = width;\n",
              "    img.height = height;\n",
              "  }\n",
              "  "
            ]
          },
          "metadata": {}
        },
        {
          "output_type": "display_data",
          "data": {
            "text/plain": [
              "<IPython.core.display.Javascript object>"
            ],
            "application/javascript": [
              "\n",
              "  async function showImage(name, image, width, height) {\n",
              "    img = document.getElementById(name);\n",
              "    if(img == null) {\n",
              "      img = document.createElement('img');\n",
              "      img.id = name;\n",
              "      document.body.appendChild(img);\n",
              "    }\n",
              "    img.src = image;\n",
              "    img.width = width;\n",
              "    img.height = height;\n",
              "  }\n",
              "  "
            ]
          },
          "metadata": {}
        },
        {
          "output_type": "display_data",
          "data": {
            "text/plain": [
              "<IPython.core.display.Javascript object>"
            ],
            "application/javascript": [
              "\n",
              "  async function showImage(name, image, width, height) {\n",
              "    img = document.getElementById(name);\n",
              "    if(img == null) {\n",
              "      img = document.createElement('img');\n",
              "      img.id = name;\n",
              "      document.body.appendChild(img);\n",
              "    }\n",
              "    img.src = image;\n",
              "    img.width = width;\n",
              "    img.height = height;\n",
              "  }\n",
              "  "
            ]
          },
          "metadata": {}
        },
        {
          "output_type": "display_data",
          "data": {
            "text/plain": [
              "<IPython.core.display.Javascript object>"
            ],
            "application/javascript": [
              "\n",
              "  async function showImage(name, image, width, height) {\n",
              "    img = document.getElementById(name);\n",
              "    if(img == null) {\n",
              "      img = document.createElement('img');\n",
              "      img.id = name;\n",
              "      document.body.appendChild(img);\n",
              "    }\n",
              "    img.src = image;\n",
              "    img.width = width;\n",
              "    img.height = height;\n",
              "  }\n",
              "  "
            ]
          },
          "metadata": {}
        },
        {
          "output_type": "display_data",
          "data": {
            "text/plain": [
              "<IPython.core.display.Javascript object>"
            ],
            "application/javascript": [
              "\n",
              "  async function showImage(name, image, width, height) {\n",
              "    img = document.getElementById(name);\n",
              "    if(img == null) {\n",
              "      img = document.createElement('img');\n",
              "      img.id = name;\n",
              "      document.body.appendChild(img);\n",
              "    }\n",
              "    img.src = image;\n",
              "    img.width = width;\n",
              "    img.height = height;\n",
              "  }\n",
              "  "
            ]
          },
          "metadata": {}
        },
        {
          "output_type": "display_data",
          "data": {
            "text/plain": [
              "<IPython.core.display.Javascript object>"
            ],
            "application/javascript": [
              "\n",
              "  async function showImage(name, image, width, height) {\n",
              "    img = document.getElementById(name);\n",
              "    if(img == null) {\n",
              "      img = document.createElement('img');\n",
              "      img.id = name;\n",
              "      document.body.appendChild(img);\n",
              "    }\n",
              "    img.src = image;\n",
              "    img.width = width;\n",
              "    img.height = height;\n",
              "  }\n",
              "  "
            ]
          },
          "metadata": {}
        },
        {
          "output_type": "display_data",
          "data": {
            "text/plain": [
              "<IPython.core.display.Javascript object>"
            ],
            "application/javascript": [
              "\n",
              "  async function showImage(name, image, width, height) {\n",
              "    img = document.getElementById(name);\n",
              "    if(img == null) {\n",
              "      img = document.createElement('img');\n",
              "      img.id = name;\n",
              "      document.body.appendChild(img);\n",
              "    }\n",
              "    img.src = image;\n",
              "    img.width = width;\n",
              "    img.height = height;\n",
              "  }\n",
              "  "
            ]
          },
          "metadata": {}
        },
        {
          "output_type": "display_data",
          "data": {
            "text/plain": [
              "<IPython.core.display.Javascript object>"
            ],
            "application/javascript": [
              "\n",
              "  async function showImage(name, image, width, height) {\n",
              "    img = document.getElementById(name);\n",
              "    if(img == null) {\n",
              "      img = document.createElement('img');\n",
              "      img.id = name;\n",
              "      document.body.appendChild(img);\n",
              "    }\n",
              "    img.src = image;\n",
              "    img.width = width;\n",
              "    img.height = height;\n",
              "  }\n",
              "  "
            ]
          },
          "metadata": {}
        },
        {
          "output_type": "display_data",
          "data": {
            "text/plain": [
              "<IPython.core.display.Javascript object>"
            ],
            "application/javascript": [
              "\n",
              "  async function showImage(name, image, width, height) {\n",
              "    img = document.getElementById(name);\n",
              "    if(img == null) {\n",
              "      img = document.createElement('img');\n",
              "      img.id = name;\n",
              "      document.body.appendChild(img);\n",
              "    }\n",
              "    img.src = image;\n",
              "    img.width = width;\n",
              "    img.height = height;\n",
              "  }\n",
              "  "
            ]
          },
          "metadata": {}
        },
        {
          "output_type": "display_data",
          "data": {
            "text/plain": [
              "<IPython.core.display.Javascript object>"
            ],
            "application/javascript": [
              "\n",
              "  async function showImage(name, image, width, height) {\n",
              "    img = document.getElementById(name);\n",
              "    if(img == null) {\n",
              "      img = document.createElement('img');\n",
              "      img.id = name;\n",
              "      document.body.appendChild(img);\n",
              "    }\n",
              "    img.src = image;\n",
              "    img.width = width;\n",
              "    img.height = height;\n",
              "  }\n",
              "  "
            ]
          },
          "metadata": {}
        },
        {
          "output_type": "display_data",
          "data": {
            "text/plain": [
              "<IPython.core.display.Javascript object>"
            ],
            "application/javascript": [
              "\n",
              "  async function showImage(name, image, width, height) {\n",
              "    img = document.getElementById(name);\n",
              "    if(img == null) {\n",
              "      img = document.createElement('img');\n",
              "      img.id = name;\n",
              "      document.body.appendChild(img);\n",
              "    }\n",
              "    img.src = image;\n",
              "    img.width = width;\n",
              "    img.height = height;\n",
              "  }\n",
              "  "
            ]
          },
          "metadata": {}
        },
        {
          "output_type": "display_data",
          "data": {
            "text/plain": [
              "<IPython.core.display.Javascript object>"
            ],
            "application/javascript": [
              "\n",
              "  async function showImage(name, image, width, height) {\n",
              "    img = document.getElementById(name);\n",
              "    if(img == null) {\n",
              "      img = document.createElement('img');\n",
              "      img.id = name;\n",
              "      document.body.appendChild(img);\n",
              "    }\n",
              "    img.src = image;\n",
              "    img.width = width;\n",
              "    img.height = height;\n",
              "  }\n",
              "  "
            ]
          },
          "metadata": {}
        },
        {
          "output_type": "display_data",
          "data": {
            "text/plain": [
              "<IPython.core.display.Javascript object>"
            ],
            "application/javascript": [
              "\n",
              "  async function showImage(name, image, width, height) {\n",
              "    img = document.getElementById(name);\n",
              "    if(img == null) {\n",
              "      img = document.createElement('img');\n",
              "      img.id = name;\n",
              "      document.body.appendChild(img);\n",
              "    }\n",
              "    img.src = image;\n",
              "    img.width = width;\n",
              "    img.height = height;\n",
              "  }\n",
              "  "
            ]
          },
          "metadata": {}
        },
        {
          "output_type": "display_data",
          "data": {
            "text/plain": [
              "<IPython.core.display.Javascript object>"
            ],
            "application/javascript": [
              "\n",
              "  async function showImage(name, image, width, height) {\n",
              "    img = document.getElementById(name);\n",
              "    if(img == null) {\n",
              "      img = document.createElement('img');\n",
              "      img.id = name;\n",
              "      document.body.appendChild(img);\n",
              "    }\n",
              "    img.src = image;\n",
              "    img.width = width;\n",
              "    img.height = height;\n",
              "  }\n",
              "  "
            ]
          },
          "metadata": {}
        },
        {
          "output_type": "display_data",
          "data": {
            "text/plain": [
              "<IPython.core.display.Javascript object>"
            ],
            "application/javascript": [
              "\n",
              "  async function showImage(name, image, width, height) {\n",
              "    img = document.getElementById(name);\n",
              "    if(img == null) {\n",
              "      img = document.createElement('img');\n",
              "      img.id = name;\n",
              "      document.body.appendChild(img);\n",
              "    }\n",
              "    img.src = image;\n",
              "    img.width = width;\n",
              "    img.height = height;\n",
              "  }\n",
              "  "
            ]
          },
          "metadata": {}
        },
        {
          "output_type": "display_data",
          "data": {
            "text/plain": [
              "<IPython.core.display.Javascript object>"
            ],
            "application/javascript": [
              "\n",
              "  async function showImage(name, image, width, height) {\n",
              "    img = document.getElementById(name);\n",
              "    if(img == null) {\n",
              "      img = document.createElement('img');\n",
              "      img.id = name;\n",
              "      document.body.appendChild(img);\n",
              "    }\n",
              "    img.src = image;\n",
              "    img.width = width;\n",
              "    img.height = height;\n",
              "  }\n",
              "  "
            ]
          },
          "metadata": {}
        },
        {
          "output_type": "display_data",
          "data": {
            "text/plain": [
              "<IPython.core.display.Javascript object>"
            ],
            "application/javascript": [
              "\n",
              "  async function showImage(name, image, width, height) {\n",
              "    img = document.getElementById(name);\n",
              "    if(img == null) {\n",
              "      img = document.createElement('img');\n",
              "      img.id = name;\n",
              "      document.body.appendChild(img);\n",
              "    }\n",
              "    img.src = image;\n",
              "    img.width = width;\n",
              "    img.height = height;\n",
              "  }\n",
              "  "
            ]
          },
          "metadata": {}
        },
        {
          "output_type": "display_data",
          "data": {
            "text/plain": [
              "<IPython.core.display.Javascript object>"
            ],
            "application/javascript": [
              "\n",
              "  async function showImage(name, image, width, height) {\n",
              "    img = document.getElementById(name);\n",
              "    if(img == null) {\n",
              "      img = document.createElement('img');\n",
              "      img.id = name;\n",
              "      document.body.appendChild(img);\n",
              "    }\n",
              "    img.src = image;\n",
              "    img.width = width;\n",
              "    img.height = height;\n",
              "  }\n",
              "  "
            ]
          },
          "metadata": {}
        },
        {
          "output_type": "display_data",
          "data": {
            "text/plain": [
              "<IPython.core.display.Javascript object>"
            ],
            "application/javascript": [
              "\n",
              "  async function showImage(name, image, width, height) {\n",
              "    img = document.getElementById(name);\n",
              "    if(img == null) {\n",
              "      img = document.createElement('img');\n",
              "      img.id = name;\n",
              "      document.body.appendChild(img);\n",
              "    }\n",
              "    img.src = image;\n",
              "    img.width = width;\n",
              "    img.height = height;\n",
              "  }\n",
              "  "
            ]
          },
          "metadata": {}
        },
        {
          "output_type": "display_data",
          "data": {
            "text/plain": [
              "<IPython.core.display.Javascript object>"
            ],
            "application/javascript": [
              "\n",
              "  async function showImage(name, image, width, height) {\n",
              "    img = document.getElementById(name);\n",
              "    if(img == null) {\n",
              "      img = document.createElement('img');\n",
              "      img.id = name;\n",
              "      document.body.appendChild(img);\n",
              "    }\n",
              "    img.src = image;\n",
              "    img.width = width;\n",
              "    img.height = height;\n",
              "  }\n",
              "  "
            ]
          },
          "metadata": {}
        },
        {
          "output_type": "display_data",
          "data": {
            "text/plain": [
              "<IPython.core.display.Javascript object>"
            ],
            "application/javascript": [
              "\n",
              "  async function showImage(name, image, width, height) {\n",
              "    img = document.getElementById(name);\n",
              "    if(img == null) {\n",
              "      img = document.createElement('img');\n",
              "      img.id = name;\n",
              "      document.body.appendChild(img);\n",
              "    }\n",
              "    img.src = image;\n",
              "    img.width = width;\n",
              "    img.height = height;\n",
              "  }\n",
              "  "
            ]
          },
          "metadata": {}
        },
        {
          "output_type": "display_data",
          "data": {
            "text/plain": [
              "<IPython.core.display.Javascript object>"
            ],
            "application/javascript": [
              "\n",
              "  async function showImage(name, image, width, height) {\n",
              "    img = document.getElementById(name);\n",
              "    if(img == null) {\n",
              "      img = document.createElement('img');\n",
              "      img.id = name;\n",
              "      document.body.appendChild(img);\n",
              "    }\n",
              "    img.src = image;\n",
              "    img.width = width;\n",
              "    img.height = height;\n",
              "  }\n",
              "  "
            ]
          },
          "metadata": {}
        },
        {
          "output_type": "display_data",
          "data": {
            "text/plain": [
              "<IPython.core.display.Javascript object>"
            ],
            "application/javascript": [
              "\n",
              "  async function showImage(name, image, width, height) {\n",
              "    img = document.getElementById(name);\n",
              "    if(img == null) {\n",
              "      img = document.createElement('img');\n",
              "      img.id = name;\n",
              "      document.body.appendChild(img);\n",
              "    }\n",
              "    img.src = image;\n",
              "    img.width = width;\n",
              "    img.height = height;\n",
              "  }\n",
              "  "
            ]
          },
          "metadata": {}
        },
        {
          "output_type": "display_data",
          "data": {
            "text/plain": [
              "<IPython.core.display.Javascript object>"
            ],
            "application/javascript": [
              "\n",
              "  async function showImage(name, image, width, height) {\n",
              "    img = document.getElementById(name);\n",
              "    if(img == null) {\n",
              "      img = document.createElement('img');\n",
              "      img.id = name;\n",
              "      document.body.appendChild(img);\n",
              "    }\n",
              "    img.src = image;\n",
              "    img.width = width;\n",
              "    img.height = height;\n",
              "  }\n",
              "  "
            ]
          },
          "metadata": {}
        },
        {
          "output_type": "display_data",
          "data": {
            "text/plain": [
              "<IPython.core.display.Javascript object>"
            ],
            "application/javascript": [
              "\n",
              "  async function showImage(name, image, width, height) {\n",
              "    img = document.getElementById(name);\n",
              "    if(img == null) {\n",
              "      img = document.createElement('img');\n",
              "      img.id = name;\n",
              "      document.body.appendChild(img);\n",
              "    }\n",
              "    img.src = image;\n",
              "    img.width = width;\n",
              "    img.height = height;\n",
              "  }\n",
              "  "
            ]
          },
          "metadata": {}
        },
        {
          "output_type": "display_data",
          "data": {
            "text/plain": [
              "<IPython.core.display.Javascript object>"
            ],
            "application/javascript": [
              "\n",
              "  async function showImage(name, image, width, height) {\n",
              "    img = document.getElementById(name);\n",
              "    if(img == null) {\n",
              "      img = document.createElement('img');\n",
              "      img.id = name;\n",
              "      document.body.appendChild(img);\n",
              "    }\n",
              "    img.src = image;\n",
              "    img.width = width;\n",
              "    img.height = height;\n",
              "  }\n",
              "  "
            ]
          },
          "metadata": {}
        },
        {
          "output_type": "display_data",
          "data": {
            "text/plain": [
              "<IPython.core.display.Javascript object>"
            ],
            "application/javascript": [
              "\n",
              "  async function showImage(name, image, width, height) {\n",
              "    img = document.getElementById(name);\n",
              "    if(img == null) {\n",
              "      img = document.createElement('img');\n",
              "      img.id = name;\n",
              "      document.body.appendChild(img);\n",
              "    }\n",
              "    img.src = image;\n",
              "    img.width = width;\n",
              "    img.height = height;\n",
              "  }\n",
              "  "
            ]
          },
          "metadata": {}
        },
        {
          "output_type": "display_data",
          "data": {
            "text/plain": [
              "<IPython.core.display.Javascript object>"
            ],
            "application/javascript": [
              "\n",
              "  async function showImage(name, image, width, height) {\n",
              "    img = document.getElementById(name);\n",
              "    if(img == null) {\n",
              "      img = document.createElement('img');\n",
              "      img.id = name;\n",
              "      document.body.appendChild(img);\n",
              "    }\n",
              "    img.src = image;\n",
              "    img.width = width;\n",
              "    img.height = height;\n",
              "  }\n",
              "  "
            ]
          },
          "metadata": {}
        },
        {
          "output_type": "display_data",
          "data": {
            "text/plain": [
              "<IPython.core.display.Javascript object>"
            ],
            "application/javascript": [
              "\n",
              "  async function showImage(name, image, width, height) {\n",
              "    img = document.getElementById(name);\n",
              "    if(img == null) {\n",
              "      img = document.createElement('img');\n",
              "      img.id = name;\n",
              "      document.body.appendChild(img);\n",
              "    }\n",
              "    img.src = image;\n",
              "    img.width = width;\n",
              "    img.height = height;\n",
              "  }\n",
              "  "
            ]
          },
          "metadata": {}
        },
        {
          "output_type": "display_data",
          "data": {
            "text/plain": [
              "<IPython.core.display.Javascript object>"
            ],
            "application/javascript": [
              "\n",
              "  async function showImage(name, image, width, height) {\n",
              "    img = document.getElementById(name);\n",
              "    if(img == null) {\n",
              "      img = document.createElement('img');\n",
              "      img.id = name;\n",
              "      document.body.appendChild(img);\n",
              "    }\n",
              "    img.src = image;\n",
              "    img.width = width;\n",
              "    img.height = height;\n",
              "  }\n",
              "  "
            ]
          },
          "metadata": {}
        },
        {
          "output_type": "display_data",
          "data": {
            "text/plain": [
              "<IPython.core.display.Javascript object>"
            ],
            "application/javascript": [
              "\n",
              "  async function showImage(name, image, width, height) {\n",
              "    img = document.getElementById(name);\n",
              "    if(img == null) {\n",
              "      img = document.createElement('img');\n",
              "      img.id = name;\n",
              "      document.body.appendChild(img);\n",
              "    }\n",
              "    img.src = image;\n",
              "    img.width = width;\n",
              "    img.height = height;\n",
              "  }\n",
              "  "
            ]
          },
          "metadata": {}
        },
        {
          "output_type": "display_data",
          "data": {
            "text/plain": [
              "<IPython.core.display.Javascript object>"
            ],
            "application/javascript": [
              "\n",
              "  async function showImage(name, image, width, height) {\n",
              "    img = document.getElementById(name);\n",
              "    if(img == null) {\n",
              "      img = document.createElement('img');\n",
              "      img.id = name;\n",
              "      document.body.appendChild(img);\n",
              "    }\n",
              "    img.src = image;\n",
              "    img.width = width;\n",
              "    img.height = height;\n",
              "  }\n",
              "  "
            ]
          },
          "metadata": {}
        },
        {
          "output_type": "display_data",
          "data": {
            "text/plain": [
              "<IPython.core.display.Javascript object>"
            ],
            "application/javascript": [
              "\n",
              "  async function showImage(name, image, width, height) {\n",
              "    img = document.getElementById(name);\n",
              "    if(img == null) {\n",
              "      img = document.createElement('img');\n",
              "      img.id = name;\n",
              "      document.body.appendChild(img);\n",
              "    }\n",
              "    img.src = image;\n",
              "    img.width = width;\n",
              "    img.height = height;\n",
              "  }\n",
              "  "
            ]
          },
          "metadata": {}
        },
        {
          "output_type": "display_data",
          "data": {
            "text/plain": [
              "<IPython.core.display.Javascript object>"
            ],
            "application/javascript": [
              "\n",
              "  async function showImage(name, image, width, height) {\n",
              "    img = document.getElementById(name);\n",
              "    if(img == null) {\n",
              "      img = document.createElement('img');\n",
              "      img.id = name;\n",
              "      document.body.appendChild(img);\n",
              "    }\n",
              "    img.src = image;\n",
              "    img.width = width;\n",
              "    img.height = height;\n",
              "  }\n",
              "  "
            ]
          },
          "metadata": {}
        },
        {
          "output_type": "display_data",
          "data": {
            "text/plain": [
              "<IPython.core.display.Javascript object>"
            ],
            "application/javascript": [
              "\n",
              "  async function showImage(name, image, width, height) {\n",
              "    img = document.getElementById(name);\n",
              "    if(img == null) {\n",
              "      img = document.createElement('img');\n",
              "      img.id = name;\n",
              "      document.body.appendChild(img);\n",
              "    }\n",
              "    img.src = image;\n",
              "    img.width = width;\n",
              "    img.height = height;\n",
              "  }\n",
              "  "
            ]
          },
          "metadata": {}
        },
        {
          "output_type": "display_data",
          "data": {
            "text/plain": [
              "<IPython.core.display.Javascript object>"
            ],
            "application/javascript": [
              "\n",
              "  async function showImage(name, image, width, height) {\n",
              "    img = document.getElementById(name);\n",
              "    if(img == null) {\n",
              "      img = document.createElement('img');\n",
              "      img.id = name;\n",
              "      document.body.appendChild(img);\n",
              "    }\n",
              "    img.src = image;\n",
              "    img.width = width;\n",
              "    img.height = height;\n",
              "  }\n",
              "  "
            ]
          },
          "metadata": {}
        },
        {
          "output_type": "display_data",
          "data": {
            "text/plain": [
              "<IPython.core.display.Javascript object>"
            ],
            "application/javascript": [
              "\n",
              "  async function showImage(name, image, width, height) {\n",
              "    img = document.getElementById(name);\n",
              "    if(img == null) {\n",
              "      img = document.createElement('img');\n",
              "      img.id = name;\n",
              "      document.body.appendChild(img);\n",
              "    }\n",
              "    img.src = image;\n",
              "    img.width = width;\n",
              "    img.height = height;\n",
              "  }\n",
              "  "
            ]
          },
          "metadata": {}
        },
        {
          "output_type": "display_data",
          "data": {
            "text/plain": [
              "<IPython.core.display.Javascript object>"
            ],
            "application/javascript": [
              "\n",
              "  async function showImage(name, image, width, height) {\n",
              "    img = document.getElementById(name);\n",
              "    if(img == null) {\n",
              "      img = document.createElement('img');\n",
              "      img.id = name;\n",
              "      document.body.appendChild(img);\n",
              "    }\n",
              "    img.src = image;\n",
              "    img.width = width;\n",
              "    img.height = height;\n",
              "  }\n",
              "  "
            ]
          },
          "metadata": {}
        },
        {
          "output_type": "display_data",
          "data": {
            "text/plain": [
              "<IPython.core.display.Javascript object>"
            ],
            "application/javascript": [
              "\n",
              "  async function showImage(name, image, width, height) {\n",
              "    img = document.getElementById(name);\n",
              "    if(img == null) {\n",
              "      img = document.createElement('img');\n",
              "      img.id = name;\n",
              "      document.body.appendChild(img);\n",
              "    }\n",
              "    img.src = image;\n",
              "    img.width = width;\n",
              "    img.height = height;\n",
              "  }\n",
              "  "
            ]
          },
          "metadata": {}
        },
        {
          "output_type": "display_data",
          "data": {
            "text/plain": [
              "<IPython.core.display.Javascript object>"
            ],
            "application/javascript": [
              "\n",
              "  async function showImage(name, image, width, height) {\n",
              "    img = document.getElementById(name);\n",
              "    if(img == null) {\n",
              "      img = document.createElement('img');\n",
              "      img.id = name;\n",
              "      document.body.appendChild(img);\n",
              "    }\n",
              "    img.src = image;\n",
              "    img.width = width;\n",
              "    img.height = height;\n",
              "  }\n",
              "  "
            ]
          },
          "metadata": {}
        },
        {
          "output_type": "display_data",
          "data": {
            "text/plain": [
              "<IPython.core.display.Javascript object>"
            ],
            "application/javascript": [
              "\n",
              "  async function showImage(name, image, width, height) {\n",
              "    img = document.getElementById(name);\n",
              "    if(img == null) {\n",
              "      img = document.createElement('img');\n",
              "      img.id = name;\n",
              "      document.body.appendChild(img);\n",
              "    }\n",
              "    img.src = image;\n",
              "    img.width = width;\n",
              "    img.height = height;\n",
              "  }\n",
              "  "
            ]
          },
          "metadata": {}
        },
        {
          "output_type": "display_data",
          "data": {
            "text/plain": [
              "<IPython.core.display.Javascript object>"
            ],
            "application/javascript": [
              "\n",
              "  async function showImage(name, image, width, height) {\n",
              "    img = document.getElementById(name);\n",
              "    if(img == null) {\n",
              "      img = document.createElement('img');\n",
              "      img.id = name;\n",
              "      document.body.appendChild(img);\n",
              "    }\n",
              "    img.src = image;\n",
              "    img.width = width;\n",
              "    img.height = height;\n",
              "  }\n",
              "  "
            ]
          },
          "metadata": {}
        },
        {
          "output_type": "display_data",
          "data": {
            "text/plain": [
              "<IPython.core.display.Javascript object>"
            ],
            "application/javascript": [
              "\n",
              "  async function showImage(name, image, width, height) {\n",
              "    img = document.getElementById(name);\n",
              "    if(img == null) {\n",
              "      img = document.createElement('img');\n",
              "      img.id = name;\n",
              "      document.body.appendChild(img);\n",
              "    }\n",
              "    img.src = image;\n",
              "    img.width = width;\n",
              "    img.height = height;\n",
              "  }\n",
              "  "
            ]
          },
          "metadata": {}
        },
        {
          "output_type": "display_data",
          "data": {
            "text/plain": [
              "<IPython.core.display.Javascript object>"
            ],
            "application/javascript": [
              "\n",
              "  async function showImage(name, image, width, height) {\n",
              "    img = document.getElementById(name);\n",
              "    if(img == null) {\n",
              "      img = document.createElement('img');\n",
              "      img.id = name;\n",
              "      document.body.appendChild(img);\n",
              "    }\n",
              "    img.src = image;\n",
              "    img.width = width;\n",
              "    img.height = height;\n",
              "  }\n",
              "  "
            ]
          },
          "metadata": {}
        },
        {
          "output_type": "display_data",
          "data": {
            "text/plain": [
              "<IPython.core.display.Javascript object>"
            ],
            "application/javascript": [
              "\n",
              "  async function showImage(name, image, width, height) {\n",
              "    img = document.getElementById(name);\n",
              "    if(img == null) {\n",
              "      img = document.createElement('img');\n",
              "      img.id = name;\n",
              "      document.body.appendChild(img);\n",
              "    }\n",
              "    img.src = image;\n",
              "    img.width = width;\n",
              "    img.height = height;\n",
              "  }\n",
              "  "
            ]
          },
          "metadata": {}
        },
        {
          "output_type": "display_data",
          "data": {
            "text/plain": [
              "<IPython.core.display.Javascript object>"
            ],
            "application/javascript": [
              "\n",
              "  async function showImage(name, image, width, height) {\n",
              "    img = document.getElementById(name);\n",
              "    if(img == null) {\n",
              "      img = document.createElement('img');\n",
              "      img.id = name;\n",
              "      document.body.appendChild(img);\n",
              "    }\n",
              "    img.src = image;\n",
              "    img.width = width;\n",
              "    img.height = height;\n",
              "  }\n",
              "  "
            ]
          },
          "metadata": {}
        },
        {
          "output_type": "display_data",
          "data": {
            "text/plain": [
              "<IPython.core.display.Javascript object>"
            ],
            "application/javascript": [
              "\n",
              "  async function showImage(name, image, width, height) {\n",
              "    img = document.getElementById(name);\n",
              "    if(img == null) {\n",
              "      img = document.createElement('img');\n",
              "      img.id = name;\n",
              "      document.body.appendChild(img);\n",
              "    }\n",
              "    img.src = image;\n",
              "    img.width = width;\n",
              "    img.height = height;\n",
              "  }\n",
              "  "
            ]
          },
          "metadata": {}
        },
        {
          "output_type": "display_data",
          "data": {
            "text/plain": [
              "<IPython.core.display.Javascript object>"
            ],
            "application/javascript": [
              "\n",
              "  async function showImage(name, image, width, height) {\n",
              "    img = document.getElementById(name);\n",
              "    if(img == null) {\n",
              "      img = document.createElement('img');\n",
              "      img.id = name;\n",
              "      document.body.appendChild(img);\n",
              "    }\n",
              "    img.src = image;\n",
              "    img.width = width;\n",
              "    img.height = height;\n",
              "  }\n",
              "  "
            ]
          },
          "metadata": {}
        },
        {
          "output_type": "display_data",
          "data": {
            "text/plain": [
              "<IPython.core.display.Javascript object>"
            ],
            "application/javascript": [
              "\n",
              "  async function showImage(name, image, width, height) {\n",
              "    img = document.getElementById(name);\n",
              "    if(img == null) {\n",
              "      img = document.createElement('img');\n",
              "      img.id = name;\n",
              "      document.body.appendChild(img);\n",
              "    }\n",
              "    img.src = image;\n",
              "    img.width = width;\n",
              "    img.height = height;\n",
              "  }\n",
              "  "
            ]
          },
          "metadata": {}
        },
        {
          "output_type": "display_data",
          "data": {
            "text/plain": [
              "<IPython.core.display.Javascript object>"
            ],
            "application/javascript": [
              "\n",
              "  async function showImage(name, image, width, height) {\n",
              "    img = document.getElementById(name);\n",
              "    if(img == null) {\n",
              "      img = document.createElement('img');\n",
              "      img.id = name;\n",
              "      document.body.appendChild(img);\n",
              "    }\n",
              "    img.src = image;\n",
              "    img.width = width;\n",
              "    img.height = height;\n",
              "  }\n",
              "  "
            ]
          },
          "metadata": {}
        },
        {
          "output_type": "display_data",
          "data": {
            "text/plain": [
              "<IPython.core.display.Javascript object>"
            ],
            "application/javascript": [
              "\n",
              "  async function showImage(name, image, width, height) {\n",
              "    img = document.getElementById(name);\n",
              "    if(img == null) {\n",
              "      img = document.createElement('img');\n",
              "      img.id = name;\n",
              "      document.body.appendChild(img);\n",
              "    }\n",
              "    img.src = image;\n",
              "    img.width = width;\n",
              "    img.height = height;\n",
              "  }\n",
              "  "
            ]
          },
          "metadata": {}
        },
        {
          "output_type": "display_data",
          "data": {
            "text/plain": [
              "<IPython.core.display.Javascript object>"
            ],
            "application/javascript": [
              "\n",
              "  async function showImage(name, image, width, height) {\n",
              "    img = document.getElementById(name);\n",
              "    if(img == null) {\n",
              "      img = document.createElement('img');\n",
              "      img.id = name;\n",
              "      document.body.appendChild(img);\n",
              "    }\n",
              "    img.src = image;\n",
              "    img.width = width;\n",
              "    img.height = height;\n",
              "  }\n",
              "  "
            ]
          },
          "metadata": {}
        },
        {
          "output_type": "display_data",
          "data": {
            "text/plain": [
              "<IPython.core.display.Javascript object>"
            ],
            "application/javascript": [
              "\n",
              "  async function showImage(name, image, width, height) {\n",
              "    img = document.getElementById(name);\n",
              "    if(img == null) {\n",
              "      img = document.createElement('img');\n",
              "      img.id = name;\n",
              "      document.body.appendChild(img);\n",
              "    }\n",
              "    img.src = image;\n",
              "    img.width = width;\n",
              "    img.height = height;\n",
              "  }\n",
              "  "
            ]
          },
          "metadata": {}
        },
        {
          "output_type": "display_data",
          "data": {
            "text/plain": [
              "<IPython.core.display.Javascript object>"
            ],
            "application/javascript": [
              "\n",
              "  async function showImage(name, image, width, height) {\n",
              "    img = document.getElementById(name);\n",
              "    if(img == null) {\n",
              "      img = document.createElement('img');\n",
              "      img.id = name;\n",
              "      document.body.appendChild(img);\n",
              "    }\n",
              "    img.src = image;\n",
              "    img.width = width;\n",
              "    img.height = height;\n",
              "  }\n",
              "  "
            ]
          },
          "metadata": {}
        },
        {
          "output_type": "display_data",
          "data": {
            "text/plain": [
              "<IPython.core.display.Javascript object>"
            ],
            "application/javascript": [
              "\n",
              "  async function showImage(name, image, width, height) {\n",
              "    img = document.getElementById(name);\n",
              "    if(img == null) {\n",
              "      img = document.createElement('img');\n",
              "      img.id = name;\n",
              "      document.body.appendChild(img);\n",
              "    }\n",
              "    img.src = image;\n",
              "    img.width = width;\n",
              "    img.height = height;\n",
              "  }\n",
              "  "
            ]
          },
          "metadata": {}
        },
        {
          "output_type": "display_data",
          "data": {
            "text/plain": [
              "<IPython.core.display.Javascript object>"
            ],
            "application/javascript": [
              "\n",
              "  async function showImage(name, image, width, height) {\n",
              "    img = document.getElementById(name);\n",
              "    if(img == null) {\n",
              "      img = document.createElement('img');\n",
              "      img.id = name;\n",
              "      document.body.appendChild(img);\n",
              "    }\n",
              "    img.src = image;\n",
              "    img.width = width;\n",
              "    img.height = height;\n",
              "  }\n",
              "  "
            ]
          },
          "metadata": {}
        },
        {
          "output_type": "display_data",
          "data": {
            "text/plain": [
              "<IPython.core.display.Javascript object>"
            ],
            "application/javascript": [
              "\n",
              "  async function showImage(name, image, width, height) {\n",
              "    img = document.getElementById(name);\n",
              "    if(img == null) {\n",
              "      img = document.createElement('img');\n",
              "      img.id = name;\n",
              "      document.body.appendChild(img);\n",
              "    }\n",
              "    img.src = image;\n",
              "    img.width = width;\n",
              "    img.height = height;\n",
              "  }\n",
              "  "
            ]
          },
          "metadata": {}
        },
        {
          "output_type": "display_data",
          "data": {
            "text/plain": [
              "<IPython.core.display.Javascript object>"
            ],
            "application/javascript": [
              "\n",
              "  async function showImage(name, image, width, height) {\n",
              "    img = document.getElementById(name);\n",
              "    if(img == null) {\n",
              "      img = document.createElement('img');\n",
              "      img.id = name;\n",
              "      document.body.appendChild(img);\n",
              "    }\n",
              "    img.src = image;\n",
              "    img.width = width;\n",
              "    img.height = height;\n",
              "  }\n",
              "  "
            ]
          },
          "metadata": {}
        },
        {
          "output_type": "display_data",
          "data": {
            "text/plain": [
              "<IPython.core.display.Javascript object>"
            ],
            "application/javascript": [
              "\n",
              "  async function showImage(name, image, width, height) {\n",
              "    img = document.getElementById(name);\n",
              "    if(img == null) {\n",
              "      img = document.createElement('img');\n",
              "      img.id = name;\n",
              "      document.body.appendChild(img);\n",
              "    }\n",
              "    img.src = image;\n",
              "    img.width = width;\n",
              "    img.height = height;\n",
              "  }\n",
              "  "
            ]
          },
          "metadata": {}
        },
        {
          "output_type": "display_data",
          "data": {
            "text/plain": [
              "<IPython.core.display.Javascript object>"
            ],
            "application/javascript": [
              "\n",
              "  async function showImage(name, image, width, height) {\n",
              "    img = document.getElementById(name);\n",
              "    if(img == null) {\n",
              "      img = document.createElement('img');\n",
              "      img.id = name;\n",
              "      document.body.appendChild(img);\n",
              "    }\n",
              "    img.src = image;\n",
              "    img.width = width;\n",
              "    img.height = height;\n",
              "  }\n",
              "  "
            ]
          },
          "metadata": {}
        },
        {
          "output_type": "display_data",
          "data": {
            "text/plain": [
              "<IPython.core.display.Javascript object>"
            ],
            "application/javascript": [
              "\n",
              "  async function showImage(name, image, width, height) {\n",
              "    img = document.getElementById(name);\n",
              "    if(img == null) {\n",
              "      img = document.createElement('img');\n",
              "      img.id = name;\n",
              "      document.body.appendChild(img);\n",
              "    }\n",
              "    img.src = image;\n",
              "    img.width = width;\n",
              "    img.height = height;\n",
              "  }\n",
              "  "
            ]
          },
          "metadata": {}
        },
        {
          "output_type": "display_data",
          "data": {
            "text/plain": [
              "<IPython.core.display.Javascript object>"
            ],
            "application/javascript": [
              "\n",
              "  async function showImage(name, image, width, height) {\n",
              "    img = document.getElementById(name);\n",
              "    if(img == null) {\n",
              "      img = document.createElement('img');\n",
              "      img.id = name;\n",
              "      document.body.appendChild(img);\n",
              "    }\n",
              "    img.src = image;\n",
              "    img.width = width;\n",
              "    img.height = height;\n",
              "  }\n",
              "  "
            ]
          },
          "metadata": {}
        },
        {
          "output_type": "display_data",
          "data": {
            "text/plain": [
              "<IPython.core.display.Javascript object>"
            ],
            "application/javascript": [
              "\n",
              "  async function showImage(name, image, width, height) {\n",
              "    img = document.getElementById(name);\n",
              "    if(img == null) {\n",
              "      img = document.createElement('img');\n",
              "      img.id = name;\n",
              "      document.body.appendChild(img);\n",
              "    }\n",
              "    img.src = image;\n",
              "    img.width = width;\n",
              "    img.height = height;\n",
              "  }\n",
              "  "
            ]
          },
          "metadata": {}
        },
        {
          "output_type": "display_data",
          "data": {
            "text/plain": [
              "<IPython.core.display.Javascript object>"
            ],
            "application/javascript": [
              "\n",
              "  async function showImage(name, image, width, height) {\n",
              "    img = document.getElementById(name);\n",
              "    if(img == null) {\n",
              "      img = document.createElement('img');\n",
              "      img.id = name;\n",
              "      document.body.appendChild(img);\n",
              "    }\n",
              "    img.src = image;\n",
              "    img.width = width;\n",
              "    img.height = height;\n",
              "  }\n",
              "  "
            ]
          },
          "metadata": {}
        },
        {
          "output_type": "display_data",
          "data": {
            "text/plain": [
              "<IPython.core.display.Javascript object>"
            ],
            "application/javascript": [
              "\n",
              "  async function showImage(name, image, width, height) {\n",
              "    img = document.getElementById(name);\n",
              "    if(img == null) {\n",
              "      img = document.createElement('img');\n",
              "      img.id = name;\n",
              "      document.body.appendChild(img);\n",
              "    }\n",
              "    img.src = image;\n",
              "    img.width = width;\n",
              "    img.height = height;\n",
              "  }\n",
              "  "
            ]
          },
          "metadata": {}
        },
        {
          "output_type": "display_data",
          "data": {
            "text/plain": [
              "<IPython.core.display.Javascript object>"
            ],
            "application/javascript": [
              "\n",
              "  async function showImage(name, image, width, height) {\n",
              "    img = document.getElementById(name);\n",
              "    if(img == null) {\n",
              "      img = document.createElement('img');\n",
              "      img.id = name;\n",
              "      document.body.appendChild(img);\n",
              "    }\n",
              "    img.src = image;\n",
              "    img.width = width;\n",
              "    img.height = height;\n",
              "  }\n",
              "  "
            ]
          },
          "metadata": {}
        },
        {
          "output_type": "display_data",
          "data": {
            "text/plain": [
              "<IPython.core.display.Javascript object>"
            ],
            "application/javascript": [
              "\n",
              "  async function showImage(name, image, width, height) {\n",
              "    img = document.getElementById(name);\n",
              "    if(img == null) {\n",
              "      img = document.createElement('img');\n",
              "      img.id = name;\n",
              "      document.body.appendChild(img);\n",
              "    }\n",
              "    img.src = image;\n",
              "    img.width = width;\n",
              "    img.height = height;\n",
              "  }\n",
              "  "
            ]
          },
          "metadata": {}
        },
        {
          "output_type": "display_data",
          "data": {
            "text/plain": [
              "<IPython.core.display.Javascript object>"
            ],
            "application/javascript": [
              "\n",
              "  async function showImage(name, image, width, height) {\n",
              "    img = document.getElementById(name);\n",
              "    if(img == null) {\n",
              "      img = document.createElement('img');\n",
              "      img.id = name;\n",
              "      document.body.appendChild(img);\n",
              "    }\n",
              "    img.src = image;\n",
              "    img.width = width;\n",
              "    img.height = height;\n",
              "  }\n",
              "  "
            ]
          },
          "metadata": {}
        },
        {
          "output_type": "display_data",
          "data": {
            "text/plain": [
              "<IPython.core.display.Javascript object>"
            ],
            "application/javascript": [
              "\n",
              "  async function showImage(name, image, width, height) {\n",
              "    img = document.getElementById(name);\n",
              "    if(img == null) {\n",
              "      img = document.createElement('img');\n",
              "      img.id = name;\n",
              "      document.body.appendChild(img);\n",
              "    }\n",
              "    img.src = image;\n",
              "    img.width = width;\n",
              "    img.height = height;\n",
              "  }\n",
              "  "
            ]
          },
          "metadata": {}
        },
        {
          "output_type": "display_data",
          "data": {
            "text/plain": [
              "<IPython.core.display.Javascript object>"
            ],
            "application/javascript": [
              "\n",
              "  async function showImage(name, image, width, height) {\n",
              "    img = document.getElementById(name);\n",
              "    if(img == null) {\n",
              "      img = document.createElement('img');\n",
              "      img.id = name;\n",
              "      document.body.appendChild(img);\n",
              "    }\n",
              "    img.src = image;\n",
              "    img.width = width;\n",
              "    img.height = height;\n",
              "  }\n",
              "  "
            ]
          },
          "metadata": {}
        },
        {
          "output_type": "display_data",
          "data": {
            "text/plain": [
              "<IPython.core.display.Javascript object>"
            ],
            "application/javascript": [
              "\n",
              "  async function showImage(name, image, width, height) {\n",
              "    img = document.getElementById(name);\n",
              "    if(img == null) {\n",
              "      img = document.createElement('img');\n",
              "      img.id = name;\n",
              "      document.body.appendChild(img);\n",
              "    }\n",
              "    img.src = image;\n",
              "    img.width = width;\n",
              "    img.height = height;\n",
              "  }\n",
              "  "
            ]
          },
          "metadata": {}
        },
        {
          "output_type": "display_data",
          "data": {
            "text/plain": [
              "<IPython.core.display.Javascript object>"
            ],
            "application/javascript": [
              "\n",
              "  async function showImage(name, image, width, height) {\n",
              "    img = document.getElementById(name);\n",
              "    if(img == null) {\n",
              "      img = document.createElement('img');\n",
              "      img.id = name;\n",
              "      document.body.appendChild(img);\n",
              "    }\n",
              "    img.src = image;\n",
              "    img.width = width;\n",
              "    img.height = height;\n",
              "  }\n",
              "  "
            ]
          },
          "metadata": {}
        },
        {
          "output_type": "display_data",
          "data": {
            "text/plain": [
              "<IPython.core.display.Javascript object>"
            ],
            "application/javascript": [
              "\n",
              "  async function showImage(name, image, width, height) {\n",
              "    img = document.getElementById(name);\n",
              "    if(img == null) {\n",
              "      img = document.createElement('img');\n",
              "      img.id = name;\n",
              "      document.body.appendChild(img);\n",
              "    }\n",
              "    img.src = image;\n",
              "    img.width = width;\n",
              "    img.height = height;\n",
              "  }\n",
              "  "
            ]
          },
          "metadata": {}
        },
        {
          "output_type": "display_data",
          "data": {
            "text/plain": [
              "<IPython.core.display.Javascript object>"
            ],
            "application/javascript": [
              "\n",
              "  async function showImage(name, image, width, height) {\n",
              "    img = document.getElementById(name);\n",
              "    if(img == null) {\n",
              "      img = document.createElement('img');\n",
              "      img.id = name;\n",
              "      document.body.appendChild(img);\n",
              "    }\n",
              "    img.src = image;\n",
              "    img.width = width;\n",
              "    img.height = height;\n",
              "  }\n",
              "  "
            ]
          },
          "metadata": {}
        },
        {
          "output_type": "display_data",
          "data": {
            "text/plain": [
              "<IPython.core.display.Javascript object>"
            ],
            "application/javascript": [
              "\n",
              "  async function showImage(name, image, width, height) {\n",
              "    img = document.getElementById(name);\n",
              "    if(img == null) {\n",
              "      img = document.createElement('img');\n",
              "      img.id = name;\n",
              "      document.body.appendChild(img);\n",
              "    }\n",
              "    img.src = image;\n",
              "    img.width = width;\n",
              "    img.height = height;\n",
              "  }\n",
              "  "
            ]
          },
          "metadata": {}
        },
        {
          "output_type": "display_data",
          "data": {
            "text/plain": [
              "<IPython.core.display.Javascript object>"
            ],
            "application/javascript": [
              "\n",
              "  async function showImage(name, image, width, height) {\n",
              "    img = document.getElementById(name);\n",
              "    if(img == null) {\n",
              "      img = document.createElement('img');\n",
              "      img.id = name;\n",
              "      document.body.appendChild(img);\n",
              "    }\n",
              "    img.src = image;\n",
              "    img.width = width;\n",
              "    img.height = height;\n",
              "  }\n",
              "  "
            ]
          },
          "metadata": {}
        },
        {
          "output_type": "display_data",
          "data": {
            "text/plain": [
              "<IPython.core.display.Javascript object>"
            ],
            "application/javascript": [
              "\n",
              "  async function showImage(name, image, width, height) {\n",
              "    img = document.getElementById(name);\n",
              "    if(img == null) {\n",
              "      img = document.createElement('img');\n",
              "      img.id = name;\n",
              "      document.body.appendChild(img);\n",
              "    }\n",
              "    img.src = image;\n",
              "    img.width = width;\n",
              "    img.height = height;\n",
              "  }\n",
              "  "
            ]
          },
          "metadata": {}
        },
        {
          "output_type": "display_data",
          "data": {
            "text/plain": [
              "<IPython.core.display.Javascript object>"
            ],
            "application/javascript": [
              "\n",
              "  async function showImage(name, image, width, height) {\n",
              "    img = document.getElementById(name);\n",
              "    if(img == null) {\n",
              "      img = document.createElement('img');\n",
              "      img.id = name;\n",
              "      document.body.appendChild(img);\n",
              "    }\n",
              "    img.src = image;\n",
              "    img.width = width;\n",
              "    img.height = height;\n",
              "  }\n",
              "  "
            ]
          },
          "metadata": {}
        },
        {
          "output_type": "display_data",
          "data": {
            "text/plain": [
              "<IPython.core.display.Javascript object>"
            ],
            "application/javascript": [
              "\n",
              "  async function showImage(name, image, width, height) {\n",
              "    img = document.getElementById(name);\n",
              "    if(img == null) {\n",
              "      img = document.createElement('img');\n",
              "      img.id = name;\n",
              "      document.body.appendChild(img);\n",
              "    }\n",
              "    img.src = image;\n",
              "    img.width = width;\n",
              "    img.height = height;\n",
              "  }\n",
              "  "
            ]
          },
          "metadata": {}
        },
        {
          "output_type": "display_data",
          "data": {
            "text/plain": [
              "<IPython.core.display.Javascript object>"
            ],
            "application/javascript": [
              "\n",
              "  async function showImage(name, image, width, height) {\n",
              "    img = document.getElementById(name);\n",
              "    if(img == null) {\n",
              "      img = document.createElement('img');\n",
              "      img.id = name;\n",
              "      document.body.appendChild(img);\n",
              "    }\n",
              "    img.src = image;\n",
              "    img.width = width;\n",
              "    img.height = height;\n",
              "  }\n",
              "  "
            ]
          },
          "metadata": {}
        },
        {
          "output_type": "display_data",
          "data": {
            "text/plain": [
              "<IPython.core.display.Javascript object>"
            ],
            "application/javascript": [
              "\n",
              "  async function showImage(name, image, width, height) {\n",
              "    img = document.getElementById(name);\n",
              "    if(img == null) {\n",
              "      img = document.createElement('img');\n",
              "      img.id = name;\n",
              "      document.body.appendChild(img);\n",
              "    }\n",
              "    img.src = image;\n",
              "    img.width = width;\n",
              "    img.height = height;\n",
              "  }\n",
              "  "
            ]
          },
          "metadata": {}
        },
        {
          "output_type": "display_data",
          "data": {
            "text/plain": [
              "<IPython.core.display.Javascript object>"
            ],
            "application/javascript": [
              "\n",
              "  async function showImage(name, image, width, height) {\n",
              "    img = document.getElementById(name);\n",
              "    if(img == null) {\n",
              "      img = document.createElement('img');\n",
              "      img.id = name;\n",
              "      document.body.appendChild(img);\n",
              "    }\n",
              "    img.src = image;\n",
              "    img.width = width;\n",
              "    img.height = height;\n",
              "  }\n",
              "  "
            ]
          },
          "metadata": {}
        },
        {
          "output_type": "display_data",
          "data": {
            "text/plain": [
              "<IPython.core.display.Javascript object>"
            ],
            "application/javascript": [
              "\n",
              "  async function showImage(name, image, width, height) {\n",
              "    img = document.getElementById(name);\n",
              "    if(img == null) {\n",
              "      img = document.createElement('img');\n",
              "      img.id = name;\n",
              "      document.body.appendChild(img);\n",
              "    }\n",
              "    img.src = image;\n",
              "    img.width = width;\n",
              "    img.height = height;\n",
              "  }\n",
              "  "
            ]
          },
          "metadata": {}
        },
        {
          "output_type": "display_data",
          "data": {
            "text/plain": [
              "<IPython.core.display.Javascript object>"
            ],
            "application/javascript": [
              "\n",
              "  async function showImage(name, image, width, height) {\n",
              "    img = document.getElementById(name);\n",
              "    if(img == null) {\n",
              "      img = document.createElement('img');\n",
              "      img.id = name;\n",
              "      document.body.appendChild(img);\n",
              "    }\n",
              "    img.src = image;\n",
              "    img.width = width;\n",
              "    img.height = height;\n",
              "  }\n",
              "  "
            ]
          },
          "metadata": {}
        },
        {
          "output_type": "display_data",
          "data": {
            "text/plain": [
              "<IPython.core.display.Javascript object>"
            ],
            "application/javascript": [
              "\n",
              "  async function showImage(name, image, width, height) {\n",
              "    img = document.getElementById(name);\n",
              "    if(img == null) {\n",
              "      img = document.createElement('img');\n",
              "      img.id = name;\n",
              "      document.body.appendChild(img);\n",
              "    }\n",
              "    img.src = image;\n",
              "    img.width = width;\n",
              "    img.height = height;\n",
              "  }\n",
              "  "
            ]
          },
          "metadata": {}
        },
        {
          "output_type": "display_data",
          "data": {
            "text/plain": [
              "<IPython.core.display.Javascript object>"
            ],
            "application/javascript": [
              "\n",
              "  async function showImage(name, image, width, height) {\n",
              "    img = document.getElementById(name);\n",
              "    if(img == null) {\n",
              "      img = document.createElement('img');\n",
              "      img.id = name;\n",
              "      document.body.appendChild(img);\n",
              "    }\n",
              "    img.src = image;\n",
              "    img.width = width;\n",
              "    img.height = height;\n",
              "  }\n",
              "  "
            ]
          },
          "metadata": {}
        },
        {
          "output_type": "display_data",
          "data": {
            "text/plain": [
              "<IPython.core.display.Javascript object>"
            ],
            "application/javascript": [
              "\n",
              "  async function showImage(name, image, width, height) {\n",
              "    img = document.getElementById(name);\n",
              "    if(img == null) {\n",
              "      img = document.createElement('img');\n",
              "      img.id = name;\n",
              "      document.body.appendChild(img);\n",
              "    }\n",
              "    img.src = image;\n",
              "    img.width = width;\n",
              "    img.height = height;\n",
              "  }\n",
              "  "
            ]
          },
          "metadata": {}
        },
        {
          "output_type": "display_data",
          "data": {
            "text/plain": [
              "<IPython.core.display.Javascript object>"
            ],
            "application/javascript": [
              "\n",
              "  async function showImage(name, image, width, height) {\n",
              "    img = document.getElementById(name);\n",
              "    if(img == null) {\n",
              "      img = document.createElement('img');\n",
              "      img.id = name;\n",
              "      document.body.appendChild(img);\n",
              "    }\n",
              "    img.src = image;\n",
              "    img.width = width;\n",
              "    img.height = height;\n",
              "  }\n",
              "  "
            ]
          },
          "metadata": {}
        },
        {
          "output_type": "display_data",
          "data": {
            "text/plain": [
              "<IPython.core.display.Javascript object>"
            ],
            "application/javascript": [
              "\n",
              "  async function showImage(name, image, width, height) {\n",
              "    img = document.getElementById(name);\n",
              "    if(img == null) {\n",
              "      img = document.createElement('img');\n",
              "      img.id = name;\n",
              "      document.body.appendChild(img);\n",
              "    }\n",
              "    img.src = image;\n",
              "    img.width = width;\n",
              "    img.height = height;\n",
              "  }\n",
              "  "
            ]
          },
          "metadata": {}
        },
        {
          "output_type": "display_data",
          "data": {
            "text/plain": [
              "<IPython.core.display.Javascript object>"
            ],
            "application/javascript": [
              "\n",
              "  async function showImage(name, image, width, height) {\n",
              "    img = document.getElementById(name);\n",
              "    if(img == null) {\n",
              "      img = document.createElement('img');\n",
              "      img.id = name;\n",
              "      document.body.appendChild(img);\n",
              "    }\n",
              "    img.src = image;\n",
              "    img.width = width;\n",
              "    img.height = height;\n",
              "  }\n",
              "  "
            ]
          },
          "metadata": {}
        },
        {
          "output_type": "display_data",
          "data": {
            "text/plain": [
              "<IPython.core.display.Javascript object>"
            ],
            "application/javascript": [
              "\n",
              "  async function showImage(name, image, width, height) {\n",
              "    img = document.getElementById(name);\n",
              "    if(img == null) {\n",
              "      img = document.createElement('img');\n",
              "      img.id = name;\n",
              "      document.body.appendChild(img);\n",
              "    }\n",
              "    img.src = image;\n",
              "    img.width = width;\n",
              "    img.height = height;\n",
              "  }\n",
              "  "
            ]
          },
          "metadata": {}
        },
        {
          "output_type": "display_data",
          "data": {
            "text/plain": [
              "<IPython.core.display.Javascript object>"
            ],
            "application/javascript": [
              "\n",
              "  async function showImage(name, image, width, height) {\n",
              "    img = document.getElementById(name);\n",
              "    if(img == null) {\n",
              "      img = document.createElement('img');\n",
              "      img.id = name;\n",
              "      document.body.appendChild(img);\n",
              "    }\n",
              "    img.src = image;\n",
              "    img.width = width;\n",
              "    img.height = height;\n",
              "  }\n",
              "  "
            ]
          },
          "metadata": {}
        },
        {
          "output_type": "display_data",
          "data": {
            "text/plain": [
              "<IPython.core.display.Javascript object>"
            ],
            "application/javascript": [
              "\n",
              "  async function showImage(name, image, width, height) {\n",
              "    img = document.getElementById(name);\n",
              "    if(img == null) {\n",
              "      img = document.createElement('img');\n",
              "      img.id = name;\n",
              "      document.body.appendChild(img);\n",
              "    }\n",
              "    img.src = image;\n",
              "    img.width = width;\n",
              "    img.height = height;\n",
              "  }\n",
              "  "
            ]
          },
          "metadata": {}
        },
        {
          "output_type": "display_data",
          "data": {
            "text/plain": [
              "<IPython.core.display.Javascript object>"
            ],
            "application/javascript": [
              "\n",
              "  async function showImage(name, image, width, height) {\n",
              "    img = document.getElementById(name);\n",
              "    if(img == null) {\n",
              "      img = document.createElement('img');\n",
              "      img.id = name;\n",
              "      document.body.appendChild(img);\n",
              "    }\n",
              "    img.src = image;\n",
              "    img.width = width;\n",
              "    img.height = height;\n",
              "  }\n",
              "  "
            ]
          },
          "metadata": {}
        },
        {
          "output_type": "display_data",
          "data": {
            "text/plain": [
              "<IPython.core.display.Javascript object>"
            ],
            "application/javascript": [
              "\n",
              "  async function showImage(name, image, width, height) {\n",
              "    img = document.getElementById(name);\n",
              "    if(img == null) {\n",
              "      img = document.createElement('img');\n",
              "      img.id = name;\n",
              "      document.body.appendChild(img);\n",
              "    }\n",
              "    img.src = image;\n",
              "    img.width = width;\n",
              "    img.height = height;\n",
              "  }\n",
              "  "
            ]
          },
          "metadata": {}
        },
        {
          "output_type": "display_data",
          "data": {
            "text/plain": [
              "<IPython.core.display.Javascript object>"
            ],
            "application/javascript": [
              "\n",
              "  async function showImage(name, image, width, height) {\n",
              "    img = document.getElementById(name);\n",
              "    if(img == null) {\n",
              "      img = document.createElement('img');\n",
              "      img.id = name;\n",
              "      document.body.appendChild(img);\n",
              "    }\n",
              "    img.src = image;\n",
              "    img.width = width;\n",
              "    img.height = height;\n",
              "  }\n",
              "  "
            ]
          },
          "metadata": {}
        },
        {
          "output_type": "display_data",
          "data": {
            "text/plain": [
              "<IPython.core.display.Javascript object>"
            ],
            "application/javascript": [
              "\n",
              "  async function showImage(name, image, width, height) {\n",
              "    img = document.getElementById(name);\n",
              "    if(img == null) {\n",
              "      img = document.createElement('img');\n",
              "      img.id = name;\n",
              "      document.body.appendChild(img);\n",
              "    }\n",
              "    img.src = image;\n",
              "    img.width = width;\n",
              "    img.height = height;\n",
              "  }\n",
              "  "
            ]
          },
          "metadata": {}
        },
        {
          "output_type": "display_data",
          "data": {
            "text/plain": [
              "<IPython.core.display.Javascript object>"
            ],
            "application/javascript": [
              "\n",
              "  async function showImage(name, image, width, height) {\n",
              "    img = document.getElementById(name);\n",
              "    if(img == null) {\n",
              "      img = document.createElement('img');\n",
              "      img.id = name;\n",
              "      document.body.appendChild(img);\n",
              "    }\n",
              "    img.src = image;\n",
              "    img.width = width;\n",
              "    img.height = height;\n",
              "  }\n",
              "  "
            ]
          },
          "metadata": {}
        },
        {
          "output_type": "display_data",
          "data": {
            "text/plain": [
              "<IPython.core.display.Javascript object>"
            ],
            "application/javascript": [
              "\n",
              "  async function showImage(name, image, width, height) {\n",
              "    img = document.getElementById(name);\n",
              "    if(img == null) {\n",
              "      img = document.createElement('img');\n",
              "      img.id = name;\n",
              "      document.body.appendChild(img);\n",
              "    }\n",
              "    img.src = image;\n",
              "    img.width = width;\n",
              "    img.height = height;\n",
              "  }\n",
              "  "
            ]
          },
          "metadata": {}
        },
        {
          "output_type": "display_data",
          "data": {
            "text/plain": [
              "<IPython.core.display.Javascript object>"
            ],
            "application/javascript": [
              "\n",
              "  async function showImage(name, image, width, height) {\n",
              "    img = document.getElementById(name);\n",
              "    if(img == null) {\n",
              "      img = document.createElement('img');\n",
              "      img.id = name;\n",
              "      document.body.appendChild(img);\n",
              "    }\n",
              "    img.src = image;\n",
              "    img.width = width;\n",
              "    img.height = height;\n",
              "  }\n",
              "  "
            ]
          },
          "metadata": {}
        },
        {
          "output_type": "display_data",
          "data": {
            "text/plain": [
              "<IPython.core.display.Javascript object>"
            ],
            "application/javascript": [
              "\n",
              "  async function showImage(name, image, width, height) {\n",
              "    img = document.getElementById(name);\n",
              "    if(img == null) {\n",
              "      img = document.createElement('img');\n",
              "      img.id = name;\n",
              "      document.body.appendChild(img);\n",
              "    }\n",
              "    img.src = image;\n",
              "    img.width = width;\n",
              "    img.height = height;\n",
              "  }\n",
              "  "
            ]
          },
          "metadata": {}
        },
        {
          "output_type": "display_data",
          "data": {
            "text/plain": [
              "<IPython.core.display.Javascript object>"
            ],
            "application/javascript": [
              "\n",
              "  async function showImage(name, image, width, height) {\n",
              "    img = document.getElementById(name);\n",
              "    if(img == null) {\n",
              "      img = document.createElement('img');\n",
              "      img.id = name;\n",
              "      document.body.appendChild(img);\n",
              "    }\n",
              "    img.src = image;\n",
              "    img.width = width;\n",
              "    img.height = height;\n",
              "  }\n",
              "  "
            ]
          },
          "metadata": {}
        },
        {
          "output_type": "display_data",
          "data": {
            "text/plain": [
              "<IPython.core.display.Javascript object>"
            ],
            "application/javascript": [
              "\n",
              "  async function showImage(name, image, width, height) {\n",
              "    img = document.getElementById(name);\n",
              "    if(img == null) {\n",
              "      img = document.createElement('img');\n",
              "      img.id = name;\n",
              "      document.body.appendChild(img);\n",
              "    }\n",
              "    img.src = image;\n",
              "    img.width = width;\n",
              "    img.height = height;\n",
              "  }\n",
              "  "
            ]
          },
          "metadata": {}
        },
        {
          "output_type": "display_data",
          "data": {
            "text/plain": [
              "<IPython.core.display.Javascript object>"
            ],
            "application/javascript": [
              "\n",
              "  async function showImage(name, image, width, height) {\n",
              "    img = document.getElementById(name);\n",
              "    if(img == null) {\n",
              "      img = document.createElement('img');\n",
              "      img.id = name;\n",
              "      document.body.appendChild(img);\n",
              "    }\n",
              "    img.src = image;\n",
              "    img.width = width;\n",
              "    img.height = height;\n",
              "  }\n",
              "  "
            ]
          },
          "metadata": {}
        },
        {
          "output_type": "display_data",
          "data": {
            "text/plain": [
              "<IPython.core.display.Javascript object>"
            ],
            "application/javascript": [
              "\n",
              "  async function showImage(name, image, width, height) {\n",
              "    img = document.getElementById(name);\n",
              "    if(img == null) {\n",
              "      img = document.createElement('img');\n",
              "      img.id = name;\n",
              "      document.body.appendChild(img);\n",
              "    }\n",
              "    img.src = image;\n",
              "    img.width = width;\n",
              "    img.height = height;\n",
              "  }\n",
              "  "
            ]
          },
          "metadata": {}
        },
        {
          "output_type": "display_data",
          "data": {
            "text/plain": [
              "<IPython.core.display.Javascript object>"
            ],
            "application/javascript": [
              "\n",
              "  async function showImage(name, image, width, height) {\n",
              "    img = document.getElementById(name);\n",
              "    if(img == null) {\n",
              "      img = document.createElement('img');\n",
              "      img.id = name;\n",
              "      document.body.appendChild(img);\n",
              "    }\n",
              "    img.src = image;\n",
              "    img.width = width;\n",
              "    img.height = height;\n",
              "  }\n",
              "  "
            ]
          },
          "metadata": {}
        },
        {
          "output_type": "display_data",
          "data": {
            "text/plain": [
              "<IPython.core.display.Javascript object>"
            ],
            "application/javascript": [
              "\n",
              "  async function showImage(name, image, width, height) {\n",
              "    img = document.getElementById(name);\n",
              "    if(img == null) {\n",
              "      img = document.createElement('img');\n",
              "      img.id = name;\n",
              "      document.body.appendChild(img);\n",
              "    }\n",
              "    img.src = image;\n",
              "    img.width = width;\n",
              "    img.height = height;\n",
              "  }\n",
              "  "
            ]
          },
          "metadata": {}
        },
        {
          "output_type": "display_data",
          "data": {
            "text/plain": [
              "<IPython.core.display.Javascript object>"
            ],
            "application/javascript": [
              "\n",
              "  async function showImage(name, image, width, height) {\n",
              "    img = document.getElementById(name);\n",
              "    if(img == null) {\n",
              "      img = document.createElement('img');\n",
              "      img.id = name;\n",
              "      document.body.appendChild(img);\n",
              "    }\n",
              "    img.src = image;\n",
              "    img.width = width;\n",
              "    img.height = height;\n",
              "  }\n",
              "  "
            ]
          },
          "metadata": {}
        },
        {
          "output_type": "display_data",
          "data": {
            "text/plain": [
              "<IPython.core.display.Javascript object>"
            ],
            "application/javascript": [
              "\n",
              "  async function showImage(name, image, width, height) {\n",
              "    img = document.getElementById(name);\n",
              "    if(img == null) {\n",
              "      img = document.createElement('img');\n",
              "      img.id = name;\n",
              "      document.body.appendChild(img);\n",
              "    }\n",
              "    img.src = image;\n",
              "    img.width = width;\n",
              "    img.height = height;\n",
              "  }\n",
              "  "
            ]
          },
          "metadata": {}
        },
        {
          "output_type": "display_data",
          "data": {
            "text/plain": [
              "<IPython.core.display.Javascript object>"
            ],
            "application/javascript": [
              "\n",
              "  async function showImage(name, image, width, height) {\n",
              "    img = document.getElementById(name);\n",
              "    if(img == null) {\n",
              "      img = document.createElement('img');\n",
              "      img.id = name;\n",
              "      document.body.appendChild(img);\n",
              "    }\n",
              "    img.src = image;\n",
              "    img.width = width;\n",
              "    img.height = height;\n",
              "  }\n",
              "  "
            ]
          },
          "metadata": {}
        },
        {
          "output_type": "display_data",
          "data": {
            "text/plain": [
              "<IPython.core.display.Javascript object>"
            ],
            "application/javascript": [
              "\n",
              "  async function showImage(name, image, width, height) {\n",
              "    img = document.getElementById(name);\n",
              "    if(img == null) {\n",
              "      img = document.createElement('img');\n",
              "      img.id = name;\n",
              "      document.body.appendChild(img);\n",
              "    }\n",
              "    img.src = image;\n",
              "    img.width = width;\n",
              "    img.height = height;\n",
              "  }\n",
              "  "
            ]
          },
          "metadata": {}
        },
        {
          "output_type": "display_data",
          "data": {
            "text/plain": [
              "<IPython.core.display.Javascript object>"
            ],
            "application/javascript": [
              "\n",
              "  async function showImage(name, image, width, height) {\n",
              "    img = document.getElementById(name);\n",
              "    if(img == null) {\n",
              "      img = document.createElement('img');\n",
              "      img.id = name;\n",
              "      document.body.appendChild(img);\n",
              "    }\n",
              "    img.src = image;\n",
              "    img.width = width;\n",
              "    img.height = height;\n",
              "  }\n",
              "  "
            ]
          },
          "metadata": {}
        },
        {
          "output_type": "display_data",
          "data": {
            "text/plain": [
              "<IPython.core.display.Javascript object>"
            ],
            "application/javascript": [
              "\n",
              "  async function showImage(name, image, width, height) {\n",
              "    img = document.getElementById(name);\n",
              "    if(img == null) {\n",
              "      img = document.createElement('img');\n",
              "      img.id = name;\n",
              "      document.body.appendChild(img);\n",
              "    }\n",
              "    img.src = image;\n",
              "    img.width = width;\n",
              "    img.height = height;\n",
              "  }\n",
              "  "
            ]
          },
          "metadata": {}
        },
        {
          "output_type": "display_data",
          "data": {
            "text/plain": [
              "<IPython.core.display.Javascript object>"
            ],
            "application/javascript": [
              "\n",
              "  async function showImage(name, image, width, height) {\n",
              "    img = document.getElementById(name);\n",
              "    if(img == null) {\n",
              "      img = document.createElement('img');\n",
              "      img.id = name;\n",
              "      document.body.appendChild(img);\n",
              "    }\n",
              "    img.src = image;\n",
              "    img.width = width;\n",
              "    img.height = height;\n",
              "  }\n",
              "  "
            ]
          },
          "metadata": {}
        },
        {
          "output_type": "display_data",
          "data": {
            "text/plain": [
              "<IPython.core.display.Javascript object>"
            ],
            "application/javascript": [
              "\n",
              "  async function showImage(name, image, width, height) {\n",
              "    img = document.getElementById(name);\n",
              "    if(img == null) {\n",
              "      img = document.createElement('img');\n",
              "      img.id = name;\n",
              "      document.body.appendChild(img);\n",
              "    }\n",
              "    img.src = image;\n",
              "    img.width = width;\n",
              "    img.height = height;\n",
              "  }\n",
              "  "
            ]
          },
          "metadata": {}
        },
        {
          "output_type": "display_data",
          "data": {
            "text/plain": [
              "<IPython.core.display.Javascript object>"
            ],
            "application/javascript": [
              "\n",
              "  async function showImage(name, image, width, height) {\n",
              "    img = document.getElementById(name);\n",
              "    if(img == null) {\n",
              "      img = document.createElement('img');\n",
              "      img.id = name;\n",
              "      document.body.appendChild(img);\n",
              "    }\n",
              "    img.src = image;\n",
              "    img.width = width;\n",
              "    img.height = height;\n",
              "  }\n",
              "  "
            ]
          },
          "metadata": {}
        },
        {
          "output_type": "display_data",
          "data": {
            "text/plain": [
              "<IPython.core.display.Javascript object>"
            ],
            "application/javascript": [
              "\n",
              "  async function showImage(name, image, width, height) {\n",
              "    img = document.getElementById(name);\n",
              "    if(img == null) {\n",
              "      img = document.createElement('img');\n",
              "      img.id = name;\n",
              "      document.body.appendChild(img);\n",
              "    }\n",
              "    img.src = image;\n",
              "    img.width = width;\n",
              "    img.height = height;\n",
              "  }\n",
              "  "
            ]
          },
          "metadata": {}
        },
        {
          "output_type": "display_data",
          "data": {
            "text/plain": [
              "<IPython.core.display.Javascript object>"
            ],
            "application/javascript": [
              "\n",
              "  async function showImage(name, image, width, height) {\n",
              "    img = document.getElementById(name);\n",
              "    if(img == null) {\n",
              "      img = document.createElement('img');\n",
              "      img.id = name;\n",
              "      document.body.appendChild(img);\n",
              "    }\n",
              "    img.src = image;\n",
              "    img.width = width;\n",
              "    img.height = height;\n",
              "  }\n",
              "  "
            ]
          },
          "metadata": {}
        },
        {
          "output_type": "display_data",
          "data": {
            "text/plain": [
              "<IPython.core.display.Javascript object>"
            ],
            "application/javascript": [
              "\n",
              "  async function showImage(name, image, width, height) {\n",
              "    img = document.getElementById(name);\n",
              "    if(img == null) {\n",
              "      img = document.createElement('img');\n",
              "      img.id = name;\n",
              "      document.body.appendChild(img);\n",
              "    }\n",
              "    img.src = image;\n",
              "    img.width = width;\n",
              "    img.height = height;\n",
              "  }\n",
              "  "
            ]
          },
          "metadata": {}
        },
        {
          "output_type": "display_data",
          "data": {
            "text/plain": [
              "<IPython.core.display.Javascript object>"
            ],
            "application/javascript": [
              "\n",
              "  async function showImage(name, image, width, height) {\n",
              "    img = document.getElementById(name);\n",
              "    if(img == null) {\n",
              "      img = document.createElement('img');\n",
              "      img.id = name;\n",
              "      document.body.appendChild(img);\n",
              "    }\n",
              "    img.src = image;\n",
              "    img.width = width;\n",
              "    img.height = height;\n",
              "  }\n",
              "  "
            ]
          },
          "metadata": {}
        },
        {
          "output_type": "display_data",
          "data": {
            "text/plain": [
              "<IPython.core.display.Javascript object>"
            ],
            "application/javascript": [
              "\n",
              "  async function showImage(name, image, width, height) {\n",
              "    img = document.getElementById(name);\n",
              "    if(img == null) {\n",
              "      img = document.createElement('img');\n",
              "      img.id = name;\n",
              "      document.body.appendChild(img);\n",
              "    }\n",
              "    img.src = image;\n",
              "    img.width = width;\n",
              "    img.height = height;\n",
              "  }\n",
              "  "
            ]
          },
          "metadata": {}
        },
        {
          "output_type": "display_data",
          "data": {
            "text/plain": [
              "<IPython.core.display.Javascript object>"
            ],
            "application/javascript": [
              "\n",
              "  async function showImage(name, image, width, height) {\n",
              "    img = document.getElementById(name);\n",
              "    if(img == null) {\n",
              "      img = document.createElement('img');\n",
              "      img.id = name;\n",
              "      document.body.appendChild(img);\n",
              "    }\n",
              "    img.src = image;\n",
              "    img.width = width;\n",
              "    img.height = height;\n",
              "  }\n",
              "  "
            ]
          },
          "metadata": {}
        },
        {
          "output_type": "display_data",
          "data": {
            "text/plain": [
              "<IPython.core.display.Javascript object>"
            ],
            "application/javascript": [
              "\n",
              "  async function showImage(name, image, width, height) {\n",
              "    img = document.getElementById(name);\n",
              "    if(img == null) {\n",
              "      img = document.createElement('img');\n",
              "      img.id = name;\n",
              "      document.body.appendChild(img);\n",
              "    }\n",
              "    img.src = image;\n",
              "    img.width = width;\n",
              "    img.height = height;\n",
              "  }\n",
              "  "
            ]
          },
          "metadata": {}
        },
        {
          "output_type": "display_data",
          "data": {
            "text/plain": [
              "<IPython.core.display.Javascript object>"
            ],
            "application/javascript": [
              "\n",
              "  async function showImage(name, image, width, height) {\n",
              "    img = document.getElementById(name);\n",
              "    if(img == null) {\n",
              "      img = document.createElement('img');\n",
              "      img.id = name;\n",
              "      document.body.appendChild(img);\n",
              "    }\n",
              "    img.src = image;\n",
              "    img.width = width;\n",
              "    img.height = height;\n",
              "  }\n",
              "  "
            ]
          },
          "metadata": {}
        },
        {
          "output_type": "display_data",
          "data": {
            "text/plain": [
              "<IPython.core.display.Javascript object>"
            ],
            "application/javascript": [
              "\n",
              "  async function showImage(name, image, width, height) {\n",
              "    img = document.getElementById(name);\n",
              "    if(img == null) {\n",
              "      img = document.createElement('img');\n",
              "      img.id = name;\n",
              "      document.body.appendChild(img);\n",
              "    }\n",
              "    img.src = image;\n",
              "    img.width = width;\n",
              "    img.height = height;\n",
              "  }\n",
              "  "
            ]
          },
          "metadata": {}
        },
        {
          "output_type": "display_data",
          "data": {
            "text/plain": [
              "<IPython.core.display.Javascript object>"
            ],
            "application/javascript": [
              "\n",
              "  async function showImage(name, image, width, height) {\n",
              "    img = document.getElementById(name);\n",
              "    if(img == null) {\n",
              "      img = document.createElement('img');\n",
              "      img.id = name;\n",
              "      document.body.appendChild(img);\n",
              "    }\n",
              "    img.src = image;\n",
              "    img.width = width;\n",
              "    img.height = height;\n",
              "  }\n",
              "  "
            ]
          },
          "metadata": {}
        },
        {
          "output_type": "display_data",
          "data": {
            "text/plain": [
              "<IPython.core.display.Javascript object>"
            ],
            "application/javascript": [
              "\n",
              "  async function showImage(name, image, width, height) {\n",
              "    img = document.getElementById(name);\n",
              "    if(img == null) {\n",
              "      img = document.createElement('img');\n",
              "      img.id = name;\n",
              "      document.body.appendChild(img);\n",
              "    }\n",
              "    img.src = image;\n",
              "    img.width = width;\n",
              "    img.height = height;\n",
              "  }\n",
              "  "
            ]
          },
          "metadata": {}
        },
        {
          "output_type": "display_data",
          "data": {
            "text/plain": [
              "<IPython.core.display.Javascript object>"
            ],
            "application/javascript": [
              "\n",
              "  async function showImage(name, image, width, height) {\n",
              "    img = document.getElementById(name);\n",
              "    if(img == null) {\n",
              "      img = document.createElement('img');\n",
              "      img.id = name;\n",
              "      document.body.appendChild(img);\n",
              "    }\n",
              "    img.src = image;\n",
              "    img.width = width;\n",
              "    img.height = height;\n",
              "  }\n",
              "  "
            ]
          },
          "metadata": {}
        },
        {
          "output_type": "display_data",
          "data": {
            "text/plain": [
              "<IPython.core.display.Javascript object>"
            ],
            "application/javascript": [
              "\n",
              "  async function showImage(name, image, width, height) {\n",
              "    img = document.getElementById(name);\n",
              "    if(img == null) {\n",
              "      img = document.createElement('img');\n",
              "      img.id = name;\n",
              "      document.body.appendChild(img);\n",
              "    }\n",
              "    img.src = image;\n",
              "    img.width = width;\n",
              "    img.height = height;\n",
              "  }\n",
              "  "
            ]
          },
          "metadata": {}
        },
        {
          "output_type": "display_data",
          "data": {
            "text/plain": [
              "<IPython.core.display.Javascript object>"
            ],
            "application/javascript": [
              "\n",
              "  async function showImage(name, image, width, height) {\n",
              "    img = document.getElementById(name);\n",
              "    if(img == null) {\n",
              "      img = document.createElement('img');\n",
              "      img.id = name;\n",
              "      document.body.appendChild(img);\n",
              "    }\n",
              "    img.src = image;\n",
              "    img.width = width;\n",
              "    img.height = height;\n",
              "  }\n",
              "  "
            ]
          },
          "metadata": {}
        },
        {
          "output_type": "display_data",
          "data": {
            "text/plain": [
              "<IPython.core.display.Javascript object>"
            ],
            "application/javascript": [
              "\n",
              "  async function showImage(name, image, width, height) {\n",
              "    img = document.getElementById(name);\n",
              "    if(img == null) {\n",
              "      img = document.createElement('img');\n",
              "      img.id = name;\n",
              "      document.body.appendChild(img);\n",
              "    }\n",
              "    img.src = image;\n",
              "    img.width = width;\n",
              "    img.height = height;\n",
              "  }\n",
              "  "
            ]
          },
          "metadata": {}
        },
        {
          "output_type": "display_data",
          "data": {
            "text/plain": [
              "<IPython.core.display.Javascript object>"
            ],
            "application/javascript": [
              "\n",
              "  async function showImage(name, image, width, height) {\n",
              "    img = document.getElementById(name);\n",
              "    if(img == null) {\n",
              "      img = document.createElement('img');\n",
              "      img.id = name;\n",
              "      document.body.appendChild(img);\n",
              "    }\n",
              "    img.src = image;\n",
              "    img.width = width;\n",
              "    img.height = height;\n",
              "  }\n",
              "  "
            ]
          },
          "metadata": {}
        },
        {
          "output_type": "display_data",
          "data": {
            "text/plain": [
              "<IPython.core.display.Javascript object>"
            ],
            "application/javascript": [
              "\n",
              "  async function showImage(name, image, width, height) {\n",
              "    img = document.getElementById(name);\n",
              "    if(img == null) {\n",
              "      img = document.createElement('img');\n",
              "      img.id = name;\n",
              "      document.body.appendChild(img);\n",
              "    }\n",
              "    img.src = image;\n",
              "    img.width = width;\n",
              "    img.height = height;\n",
              "  }\n",
              "  "
            ]
          },
          "metadata": {}
        },
        {
          "output_type": "display_data",
          "data": {
            "text/plain": [
              "<IPython.core.display.Javascript object>"
            ],
            "application/javascript": [
              "\n",
              "  async function showImage(name, image, width, height) {\n",
              "    img = document.getElementById(name);\n",
              "    if(img == null) {\n",
              "      img = document.createElement('img');\n",
              "      img.id = name;\n",
              "      document.body.appendChild(img);\n",
              "    }\n",
              "    img.src = image;\n",
              "    img.width = width;\n",
              "    img.height = height;\n",
              "  }\n",
              "  "
            ]
          },
          "metadata": {}
        },
        {
          "output_type": "display_data",
          "data": {
            "text/plain": [
              "<IPython.core.display.Javascript object>"
            ],
            "application/javascript": [
              "\n",
              "  async function showImage(name, image, width, height) {\n",
              "    img = document.getElementById(name);\n",
              "    if(img == null) {\n",
              "      img = document.createElement('img');\n",
              "      img.id = name;\n",
              "      document.body.appendChild(img);\n",
              "    }\n",
              "    img.src = image;\n",
              "    img.width = width;\n",
              "    img.height = height;\n",
              "  }\n",
              "  "
            ]
          },
          "metadata": {}
        },
        {
          "output_type": "display_data",
          "data": {
            "text/plain": [
              "<IPython.core.display.Javascript object>"
            ],
            "application/javascript": [
              "\n",
              "  async function showImage(name, image, width, height) {\n",
              "    img = document.getElementById(name);\n",
              "    if(img == null) {\n",
              "      img = document.createElement('img');\n",
              "      img.id = name;\n",
              "      document.body.appendChild(img);\n",
              "    }\n",
              "    img.src = image;\n",
              "    img.width = width;\n",
              "    img.height = height;\n",
              "  }\n",
              "  "
            ]
          },
          "metadata": {}
        },
        {
          "output_type": "display_data",
          "data": {
            "text/plain": [
              "<IPython.core.display.Javascript object>"
            ],
            "application/javascript": [
              "\n",
              "  async function showImage(name, image, width, height) {\n",
              "    img = document.getElementById(name);\n",
              "    if(img == null) {\n",
              "      img = document.createElement('img');\n",
              "      img.id = name;\n",
              "      document.body.appendChild(img);\n",
              "    }\n",
              "    img.src = image;\n",
              "    img.width = width;\n",
              "    img.height = height;\n",
              "  }\n",
              "  "
            ]
          },
          "metadata": {}
        },
        {
          "output_type": "display_data",
          "data": {
            "text/plain": [
              "<IPython.core.display.Javascript object>"
            ],
            "application/javascript": [
              "\n",
              "  async function showImage(name, image, width, height) {\n",
              "    img = document.getElementById(name);\n",
              "    if(img == null) {\n",
              "      img = document.createElement('img');\n",
              "      img.id = name;\n",
              "      document.body.appendChild(img);\n",
              "    }\n",
              "    img.src = image;\n",
              "    img.width = width;\n",
              "    img.height = height;\n",
              "  }\n",
              "  "
            ]
          },
          "metadata": {}
        },
        {
          "output_type": "display_data",
          "data": {
            "text/plain": [
              "<IPython.core.display.Javascript object>"
            ],
            "application/javascript": [
              "\n",
              "  async function showImage(name, image, width, height) {\n",
              "    img = document.getElementById(name);\n",
              "    if(img == null) {\n",
              "      img = document.createElement('img');\n",
              "      img.id = name;\n",
              "      document.body.appendChild(img);\n",
              "    }\n",
              "    img.src = image;\n",
              "    img.width = width;\n",
              "    img.height = height;\n",
              "  }\n",
              "  "
            ]
          },
          "metadata": {}
        },
        {
          "output_type": "display_data",
          "data": {
            "text/plain": [
              "<IPython.core.display.Javascript object>"
            ],
            "application/javascript": [
              "\n",
              "  async function showImage(name, image, width, height) {\n",
              "    img = document.getElementById(name);\n",
              "    if(img == null) {\n",
              "      img = document.createElement('img');\n",
              "      img.id = name;\n",
              "      document.body.appendChild(img);\n",
              "    }\n",
              "    img.src = image;\n",
              "    img.width = width;\n",
              "    img.height = height;\n",
              "  }\n",
              "  "
            ]
          },
          "metadata": {}
        },
        {
          "output_type": "display_data",
          "data": {
            "text/plain": [
              "<IPython.core.display.Javascript object>"
            ],
            "application/javascript": [
              "\n",
              "  async function showImage(name, image, width, height) {\n",
              "    img = document.getElementById(name);\n",
              "    if(img == null) {\n",
              "      img = document.createElement('img');\n",
              "      img.id = name;\n",
              "      document.body.appendChild(img);\n",
              "    }\n",
              "    img.src = image;\n",
              "    img.width = width;\n",
              "    img.height = height;\n",
              "  }\n",
              "  "
            ]
          },
          "metadata": {}
        },
        {
          "output_type": "display_data",
          "data": {
            "text/plain": [
              "<IPython.core.display.Javascript object>"
            ],
            "application/javascript": [
              "\n",
              "  async function showImage(name, image, width, height) {\n",
              "    img = document.getElementById(name);\n",
              "    if(img == null) {\n",
              "      img = document.createElement('img');\n",
              "      img.id = name;\n",
              "      document.body.appendChild(img);\n",
              "    }\n",
              "    img.src = image;\n",
              "    img.width = width;\n",
              "    img.height = height;\n",
              "  }\n",
              "  "
            ]
          },
          "metadata": {}
        },
        {
          "output_type": "display_data",
          "data": {
            "text/plain": [
              "<IPython.core.display.Javascript object>"
            ],
            "application/javascript": [
              "\n",
              "  async function showImage(name, image, width, height) {\n",
              "    img = document.getElementById(name);\n",
              "    if(img == null) {\n",
              "      img = document.createElement('img');\n",
              "      img.id = name;\n",
              "      document.body.appendChild(img);\n",
              "    }\n",
              "    img.src = image;\n",
              "    img.width = width;\n",
              "    img.height = height;\n",
              "  }\n",
              "  "
            ]
          },
          "metadata": {}
        },
        {
          "output_type": "display_data",
          "data": {
            "text/plain": [
              "<IPython.core.display.Javascript object>"
            ],
            "application/javascript": [
              "\n",
              "  async function showImage(name, image, width, height) {\n",
              "    img = document.getElementById(name);\n",
              "    if(img == null) {\n",
              "      img = document.createElement('img');\n",
              "      img.id = name;\n",
              "      document.body.appendChild(img);\n",
              "    }\n",
              "    img.src = image;\n",
              "    img.width = width;\n",
              "    img.height = height;\n",
              "  }\n",
              "  "
            ]
          },
          "metadata": {}
        },
        {
          "output_type": "display_data",
          "data": {
            "text/plain": [
              "<IPython.core.display.Javascript object>"
            ],
            "application/javascript": [
              "\n",
              "  async function showImage(name, image, width, height) {\n",
              "    img = document.getElementById(name);\n",
              "    if(img == null) {\n",
              "      img = document.createElement('img');\n",
              "      img.id = name;\n",
              "      document.body.appendChild(img);\n",
              "    }\n",
              "    img.src = image;\n",
              "    img.width = width;\n",
              "    img.height = height;\n",
              "  }\n",
              "  "
            ]
          },
          "metadata": {}
        },
        {
          "output_type": "display_data",
          "data": {
            "text/plain": [
              "<IPython.core.display.Javascript object>"
            ],
            "application/javascript": [
              "\n",
              "  async function showImage(name, image, width, height) {\n",
              "    img = document.getElementById(name);\n",
              "    if(img == null) {\n",
              "      img = document.createElement('img');\n",
              "      img.id = name;\n",
              "      document.body.appendChild(img);\n",
              "    }\n",
              "    img.src = image;\n",
              "    img.width = width;\n",
              "    img.height = height;\n",
              "  }\n",
              "  "
            ]
          },
          "metadata": {}
        },
        {
          "output_type": "display_data",
          "data": {
            "text/plain": [
              "<IPython.core.display.Javascript object>"
            ],
            "application/javascript": [
              "\n",
              "  async function showImage(name, image, width, height) {\n",
              "    img = document.getElementById(name);\n",
              "    if(img == null) {\n",
              "      img = document.createElement('img');\n",
              "      img.id = name;\n",
              "      document.body.appendChild(img);\n",
              "    }\n",
              "    img.src = image;\n",
              "    img.width = width;\n",
              "    img.height = height;\n",
              "  }\n",
              "  "
            ]
          },
          "metadata": {}
        },
        {
          "output_type": "display_data",
          "data": {
            "text/plain": [
              "<IPython.core.display.Javascript object>"
            ],
            "application/javascript": [
              "\n",
              "  async function showImage(name, image, width, height) {\n",
              "    img = document.getElementById(name);\n",
              "    if(img == null) {\n",
              "      img = document.createElement('img');\n",
              "      img.id = name;\n",
              "      document.body.appendChild(img);\n",
              "    }\n",
              "    img.src = image;\n",
              "    img.width = width;\n",
              "    img.height = height;\n",
              "  }\n",
              "  "
            ]
          },
          "metadata": {}
        },
        {
          "output_type": "display_data",
          "data": {
            "text/plain": [
              "<IPython.core.display.Javascript object>"
            ],
            "application/javascript": [
              "\n",
              "  async function showImage(name, image, width, height) {\n",
              "    img = document.getElementById(name);\n",
              "    if(img == null) {\n",
              "      img = document.createElement('img');\n",
              "      img.id = name;\n",
              "      document.body.appendChild(img);\n",
              "    }\n",
              "    img.src = image;\n",
              "    img.width = width;\n",
              "    img.height = height;\n",
              "  }\n",
              "  "
            ]
          },
          "metadata": {}
        },
        {
          "output_type": "display_data",
          "data": {
            "text/plain": [
              "<IPython.core.display.Javascript object>"
            ],
            "application/javascript": [
              "\n",
              "  async function showImage(name, image, width, height) {\n",
              "    img = document.getElementById(name);\n",
              "    if(img == null) {\n",
              "      img = document.createElement('img');\n",
              "      img.id = name;\n",
              "      document.body.appendChild(img);\n",
              "    }\n",
              "    img.src = image;\n",
              "    img.width = width;\n",
              "    img.height = height;\n",
              "  }\n",
              "  "
            ]
          },
          "metadata": {}
        },
        {
          "output_type": "display_data",
          "data": {
            "text/plain": [
              "<IPython.core.display.Javascript object>"
            ],
            "application/javascript": [
              "\n",
              "  async function showImage(name, image, width, height) {\n",
              "    img = document.getElementById(name);\n",
              "    if(img == null) {\n",
              "      img = document.createElement('img');\n",
              "      img.id = name;\n",
              "      document.body.appendChild(img);\n",
              "    }\n",
              "    img.src = image;\n",
              "    img.width = width;\n",
              "    img.height = height;\n",
              "  }\n",
              "  "
            ]
          },
          "metadata": {}
        },
        {
          "output_type": "display_data",
          "data": {
            "text/plain": [
              "<IPython.core.display.Javascript object>"
            ],
            "application/javascript": [
              "\n",
              "  async function showImage(name, image, width, height) {\n",
              "    img = document.getElementById(name);\n",
              "    if(img == null) {\n",
              "      img = document.createElement('img');\n",
              "      img.id = name;\n",
              "      document.body.appendChild(img);\n",
              "    }\n",
              "    img.src = image;\n",
              "    img.width = width;\n",
              "    img.height = height;\n",
              "  }\n",
              "  "
            ]
          },
          "metadata": {}
        },
        {
          "output_type": "display_data",
          "data": {
            "text/plain": [
              "<IPython.core.display.Javascript object>"
            ],
            "application/javascript": [
              "\n",
              "  async function showImage(name, image, width, height) {\n",
              "    img = document.getElementById(name);\n",
              "    if(img == null) {\n",
              "      img = document.createElement('img');\n",
              "      img.id = name;\n",
              "      document.body.appendChild(img);\n",
              "    }\n",
              "    img.src = image;\n",
              "    img.width = width;\n",
              "    img.height = height;\n",
              "  }\n",
              "  "
            ]
          },
          "metadata": {}
        },
        {
          "output_type": "display_data",
          "data": {
            "text/plain": [
              "<IPython.core.display.Javascript object>"
            ],
            "application/javascript": [
              "\n",
              "  async function showImage(name, image, width, height) {\n",
              "    img = document.getElementById(name);\n",
              "    if(img == null) {\n",
              "      img = document.createElement('img');\n",
              "      img.id = name;\n",
              "      document.body.appendChild(img);\n",
              "    }\n",
              "    img.src = image;\n",
              "    img.width = width;\n",
              "    img.height = height;\n",
              "  }\n",
              "  "
            ]
          },
          "metadata": {}
        },
        {
          "output_type": "display_data",
          "data": {
            "text/plain": [
              "<IPython.core.display.Javascript object>"
            ],
            "application/javascript": [
              "\n",
              "  async function showImage(name, image, width, height) {\n",
              "    img = document.getElementById(name);\n",
              "    if(img == null) {\n",
              "      img = document.createElement('img');\n",
              "      img.id = name;\n",
              "      document.body.appendChild(img);\n",
              "    }\n",
              "    img.src = image;\n",
              "    img.width = width;\n",
              "    img.height = height;\n",
              "  }\n",
              "  "
            ]
          },
          "metadata": {}
        },
        {
          "output_type": "display_data",
          "data": {
            "text/plain": [
              "<IPython.core.display.Javascript object>"
            ],
            "application/javascript": [
              "\n",
              "  async function showImage(name, image, width, height) {\n",
              "    img = document.getElementById(name);\n",
              "    if(img == null) {\n",
              "      img = document.createElement('img');\n",
              "      img.id = name;\n",
              "      document.body.appendChild(img);\n",
              "    }\n",
              "    img.src = image;\n",
              "    img.width = width;\n",
              "    img.height = height;\n",
              "  }\n",
              "  "
            ]
          },
          "metadata": {}
        },
        {
          "output_type": "display_data",
          "data": {
            "text/plain": [
              "<IPython.core.display.Javascript object>"
            ],
            "application/javascript": [
              "\n",
              "  async function showImage(name, image, width, height) {\n",
              "    img = document.getElementById(name);\n",
              "    if(img == null) {\n",
              "      img = document.createElement('img');\n",
              "      img.id = name;\n",
              "      document.body.appendChild(img);\n",
              "    }\n",
              "    img.src = image;\n",
              "    img.width = width;\n",
              "    img.height = height;\n",
              "  }\n",
              "  "
            ]
          },
          "metadata": {}
        },
        {
          "output_type": "display_data",
          "data": {
            "text/plain": [
              "<IPython.core.display.Javascript object>"
            ],
            "application/javascript": [
              "\n",
              "  async function showImage(name, image, width, height) {\n",
              "    img = document.getElementById(name);\n",
              "    if(img == null) {\n",
              "      img = document.createElement('img');\n",
              "      img.id = name;\n",
              "      document.body.appendChild(img);\n",
              "    }\n",
              "    img.src = image;\n",
              "    img.width = width;\n",
              "    img.height = height;\n",
              "  }\n",
              "  "
            ]
          },
          "metadata": {}
        },
        {
          "output_type": "display_data",
          "data": {
            "text/plain": [
              "<IPython.core.display.Javascript object>"
            ],
            "application/javascript": [
              "\n",
              "  async function showImage(name, image, width, height) {\n",
              "    img = document.getElementById(name);\n",
              "    if(img == null) {\n",
              "      img = document.createElement('img');\n",
              "      img.id = name;\n",
              "      document.body.appendChild(img);\n",
              "    }\n",
              "    img.src = image;\n",
              "    img.width = width;\n",
              "    img.height = height;\n",
              "  }\n",
              "  "
            ]
          },
          "metadata": {}
        },
        {
          "output_type": "display_data",
          "data": {
            "text/plain": [
              "<IPython.core.display.Javascript object>"
            ],
            "application/javascript": [
              "\n",
              "  async function showImage(name, image, width, height) {\n",
              "    img = document.getElementById(name);\n",
              "    if(img == null) {\n",
              "      img = document.createElement('img');\n",
              "      img.id = name;\n",
              "      document.body.appendChild(img);\n",
              "    }\n",
              "    img.src = image;\n",
              "    img.width = width;\n",
              "    img.height = height;\n",
              "  }\n",
              "  "
            ]
          },
          "metadata": {}
        },
        {
          "output_type": "display_data",
          "data": {
            "text/plain": [
              "<IPython.core.display.Javascript object>"
            ],
            "application/javascript": [
              "\n",
              "  async function showImage(name, image, width, height) {\n",
              "    img = document.getElementById(name);\n",
              "    if(img == null) {\n",
              "      img = document.createElement('img');\n",
              "      img.id = name;\n",
              "      document.body.appendChild(img);\n",
              "    }\n",
              "    img.src = image;\n",
              "    img.width = width;\n",
              "    img.height = height;\n",
              "  }\n",
              "  "
            ]
          },
          "metadata": {}
        },
        {
          "output_type": "display_data",
          "data": {
            "text/plain": [
              "<IPython.core.display.Javascript object>"
            ],
            "application/javascript": [
              "\n",
              "  async function showImage(name, image, width, height) {\n",
              "    img = document.getElementById(name);\n",
              "    if(img == null) {\n",
              "      img = document.createElement('img');\n",
              "      img.id = name;\n",
              "      document.body.appendChild(img);\n",
              "    }\n",
              "    img.src = image;\n",
              "    img.width = width;\n",
              "    img.height = height;\n",
              "  }\n",
              "  "
            ]
          },
          "metadata": {}
        },
        {
          "output_type": "display_data",
          "data": {
            "text/plain": [
              "<IPython.core.display.Javascript object>"
            ],
            "application/javascript": [
              "\n",
              "  async function showImage(name, image, width, height) {\n",
              "    img = document.getElementById(name);\n",
              "    if(img == null) {\n",
              "      img = document.createElement('img');\n",
              "      img.id = name;\n",
              "      document.body.appendChild(img);\n",
              "    }\n",
              "    img.src = image;\n",
              "    img.width = width;\n",
              "    img.height = height;\n",
              "  }\n",
              "  "
            ]
          },
          "metadata": {}
        },
        {
          "output_type": "display_data",
          "data": {
            "text/plain": [
              "<IPython.core.display.Javascript object>"
            ],
            "application/javascript": [
              "\n",
              "  async function showImage(name, image, width, height) {\n",
              "    img = document.getElementById(name);\n",
              "    if(img == null) {\n",
              "      img = document.createElement('img');\n",
              "      img.id = name;\n",
              "      document.body.appendChild(img);\n",
              "    }\n",
              "    img.src = image;\n",
              "    img.width = width;\n",
              "    img.height = height;\n",
              "  }\n",
              "  "
            ]
          },
          "metadata": {}
        },
        {
          "output_type": "display_data",
          "data": {
            "text/plain": [
              "<IPython.core.display.Javascript object>"
            ],
            "application/javascript": [
              "\n",
              "  async function showImage(name, image, width, height) {\n",
              "    img = document.getElementById(name);\n",
              "    if(img == null) {\n",
              "      img = document.createElement('img');\n",
              "      img.id = name;\n",
              "      document.body.appendChild(img);\n",
              "    }\n",
              "    img.src = image;\n",
              "    img.width = width;\n",
              "    img.height = height;\n",
              "  }\n",
              "  "
            ]
          },
          "metadata": {}
        },
        {
          "output_type": "display_data",
          "data": {
            "text/plain": [
              "<IPython.core.display.Javascript object>"
            ],
            "application/javascript": [
              "\n",
              "  async function showImage(name, image, width, height) {\n",
              "    img = document.getElementById(name);\n",
              "    if(img == null) {\n",
              "      img = document.createElement('img');\n",
              "      img.id = name;\n",
              "      document.body.appendChild(img);\n",
              "    }\n",
              "    img.src = image;\n",
              "    img.width = width;\n",
              "    img.height = height;\n",
              "  }\n",
              "  "
            ]
          },
          "metadata": {}
        },
        {
          "output_type": "display_data",
          "data": {
            "text/plain": [
              "<IPython.core.display.Javascript object>"
            ],
            "application/javascript": [
              "\n",
              "  async function showImage(name, image, width, height) {\n",
              "    img = document.getElementById(name);\n",
              "    if(img == null) {\n",
              "      img = document.createElement('img');\n",
              "      img.id = name;\n",
              "      document.body.appendChild(img);\n",
              "    }\n",
              "    img.src = image;\n",
              "    img.width = width;\n",
              "    img.height = height;\n",
              "  }\n",
              "  "
            ]
          },
          "metadata": {}
        },
        {
          "output_type": "display_data",
          "data": {
            "text/plain": [
              "<IPython.core.display.Javascript object>"
            ],
            "application/javascript": [
              "\n",
              "  async function showImage(name, image, width, height) {\n",
              "    img = document.getElementById(name);\n",
              "    if(img == null) {\n",
              "      img = document.createElement('img');\n",
              "      img.id = name;\n",
              "      document.body.appendChild(img);\n",
              "    }\n",
              "    img.src = image;\n",
              "    img.width = width;\n",
              "    img.height = height;\n",
              "  }\n",
              "  "
            ]
          },
          "metadata": {}
        },
        {
          "output_type": "display_data",
          "data": {
            "text/plain": [
              "<IPython.core.display.Javascript object>"
            ],
            "application/javascript": [
              "\n",
              "  async function showImage(name, image, width, height) {\n",
              "    img = document.getElementById(name);\n",
              "    if(img == null) {\n",
              "      img = document.createElement('img');\n",
              "      img.id = name;\n",
              "      document.body.appendChild(img);\n",
              "    }\n",
              "    img.src = image;\n",
              "    img.width = width;\n",
              "    img.height = height;\n",
              "  }\n",
              "  "
            ]
          },
          "metadata": {}
        },
        {
          "output_type": "display_data",
          "data": {
            "text/plain": [
              "<IPython.core.display.Javascript object>"
            ],
            "application/javascript": [
              "\n",
              "  async function showImage(name, image, width, height) {\n",
              "    img = document.getElementById(name);\n",
              "    if(img == null) {\n",
              "      img = document.createElement('img');\n",
              "      img.id = name;\n",
              "      document.body.appendChild(img);\n",
              "    }\n",
              "    img.src = image;\n",
              "    img.width = width;\n",
              "    img.height = height;\n",
              "  }\n",
              "  "
            ]
          },
          "metadata": {}
        },
        {
          "output_type": "display_data",
          "data": {
            "text/plain": [
              "<IPython.core.display.Javascript object>"
            ],
            "application/javascript": [
              "\n",
              "  async function showImage(name, image, width, height) {\n",
              "    img = document.getElementById(name);\n",
              "    if(img == null) {\n",
              "      img = document.createElement('img');\n",
              "      img.id = name;\n",
              "      document.body.appendChild(img);\n",
              "    }\n",
              "    img.src = image;\n",
              "    img.width = width;\n",
              "    img.height = height;\n",
              "  }\n",
              "  "
            ]
          },
          "metadata": {}
        },
        {
          "output_type": "display_data",
          "data": {
            "text/plain": [
              "<IPython.core.display.Javascript object>"
            ],
            "application/javascript": [
              "\n",
              "  async function showImage(name, image, width, height) {\n",
              "    img = document.getElementById(name);\n",
              "    if(img == null) {\n",
              "      img = document.createElement('img');\n",
              "      img.id = name;\n",
              "      document.body.appendChild(img);\n",
              "    }\n",
              "    img.src = image;\n",
              "    img.width = width;\n",
              "    img.height = height;\n",
              "  }\n",
              "  "
            ]
          },
          "metadata": {}
        },
        {
          "output_type": "display_data",
          "data": {
            "text/plain": [
              "<IPython.core.display.Javascript object>"
            ],
            "application/javascript": [
              "\n",
              "  async function showImage(name, image, width, height) {\n",
              "    img = document.getElementById(name);\n",
              "    if(img == null) {\n",
              "      img = document.createElement('img');\n",
              "      img.id = name;\n",
              "      document.body.appendChild(img);\n",
              "    }\n",
              "    img.src = image;\n",
              "    img.width = width;\n",
              "    img.height = height;\n",
              "  }\n",
              "  "
            ]
          },
          "metadata": {}
        },
        {
          "output_type": "display_data",
          "data": {
            "text/plain": [
              "<IPython.core.display.Javascript object>"
            ],
            "application/javascript": [
              "\n",
              "  async function showImage(name, image, width, height) {\n",
              "    img = document.getElementById(name);\n",
              "    if(img == null) {\n",
              "      img = document.createElement('img');\n",
              "      img.id = name;\n",
              "      document.body.appendChild(img);\n",
              "    }\n",
              "    img.src = image;\n",
              "    img.width = width;\n",
              "    img.height = height;\n",
              "  }\n",
              "  "
            ]
          },
          "metadata": {}
        },
        {
          "output_type": "display_data",
          "data": {
            "text/plain": [
              "<IPython.core.display.Javascript object>"
            ],
            "application/javascript": [
              "\n",
              "  async function showImage(name, image, width, height) {\n",
              "    img = document.getElementById(name);\n",
              "    if(img == null) {\n",
              "      img = document.createElement('img');\n",
              "      img.id = name;\n",
              "      document.body.appendChild(img);\n",
              "    }\n",
              "    img.src = image;\n",
              "    img.width = width;\n",
              "    img.height = height;\n",
              "  }\n",
              "  "
            ]
          },
          "metadata": {}
        },
        {
          "output_type": "display_data",
          "data": {
            "text/plain": [
              "<IPython.core.display.Javascript object>"
            ],
            "application/javascript": [
              "\n",
              "  async function showImage(name, image, width, height) {\n",
              "    img = document.getElementById(name);\n",
              "    if(img == null) {\n",
              "      img = document.createElement('img');\n",
              "      img.id = name;\n",
              "      document.body.appendChild(img);\n",
              "    }\n",
              "    img.src = image;\n",
              "    img.width = width;\n",
              "    img.height = height;\n",
              "  }\n",
              "  "
            ]
          },
          "metadata": {}
        },
        {
          "output_type": "display_data",
          "data": {
            "text/plain": [
              "<IPython.core.display.Javascript object>"
            ],
            "application/javascript": [
              "\n",
              "  async function showImage(name, image, width, height) {\n",
              "    img = document.getElementById(name);\n",
              "    if(img == null) {\n",
              "      img = document.createElement('img');\n",
              "      img.id = name;\n",
              "      document.body.appendChild(img);\n",
              "    }\n",
              "    img.src = image;\n",
              "    img.width = width;\n",
              "    img.height = height;\n",
              "  }\n",
              "  "
            ]
          },
          "metadata": {}
        },
        {
          "output_type": "display_data",
          "data": {
            "text/plain": [
              "<IPython.core.display.Javascript object>"
            ],
            "application/javascript": [
              "\n",
              "  async function showImage(name, image, width, height) {\n",
              "    img = document.getElementById(name);\n",
              "    if(img == null) {\n",
              "      img = document.createElement('img');\n",
              "      img.id = name;\n",
              "      document.body.appendChild(img);\n",
              "    }\n",
              "    img.src = image;\n",
              "    img.width = width;\n",
              "    img.height = height;\n",
              "  }\n",
              "  "
            ]
          },
          "metadata": {}
        },
        {
          "output_type": "display_data",
          "data": {
            "text/plain": [
              "<IPython.core.display.Javascript object>"
            ],
            "application/javascript": [
              "\n",
              "  async function showImage(name, image, width, height) {\n",
              "    img = document.getElementById(name);\n",
              "    if(img == null) {\n",
              "      img = document.createElement('img');\n",
              "      img.id = name;\n",
              "      document.body.appendChild(img);\n",
              "    }\n",
              "    img.src = image;\n",
              "    img.width = width;\n",
              "    img.height = height;\n",
              "  }\n",
              "  "
            ]
          },
          "metadata": {}
        },
        {
          "output_type": "display_data",
          "data": {
            "text/plain": [
              "<IPython.core.display.Javascript object>"
            ],
            "application/javascript": [
              "\n",
              "  async function showImage(name, image, width, height) {\n",
              "    img = document.getElementById(name);\n",
              "    if(img == null) {\n",
              "      img = document.createElement('img');\n",
              "      img.id = name;\n",
              "      document.body.appendChild(img);\n",
              "    }\n",
              "    img.src = image;\n",
              "    img.width = width;\n",
              "    img.height = height;\n",
              "  }\n",
              "  "
            ]
          },
          "metadata": {}
        },
        {
          "output_type": "display_data",
          "data": {
            "text/plain": [
              "<IPython.core.display.Javascript object>"
            ],
            "application/javascript": [
              "\n",
              "  async function showImage(name, image, width, height) {\n",
              "    img = document.getElementById(name);\n",
              "    if(img == null) {\n",
              "      img = document.createElement('img');\n",
              "      img.id = name;\n",
              "      document.body.appendChild(img);\n",
              "    }\n",
              "    img.src = image;\n",
              "    img.width = width;\n",
              "    img.height = height;\n",
              "  }\n",
              "  "
            ]
          },
          "metadata": {}
        },
        {
          "output_type": "display_data",
          "data": {
            "text/plain": [
              "<IPython.core.display.Javascript object>"
            ],
            "application/javascript": [
              "\n",
              "  async function showImage(name, image, width, height) {\n",
              "    img = document.getElementById(name);\n",
              "    if(img == null) {\n",
              "      img = document.createElement('img');\n",
              "      img.id = name;\n",
              "      document.body.appendChild(img);\n",
              "    }\n",
              "    img.src = image;\n",
              "    img.width = width;\n",
              "    img.height = height;\n",
              "  }\n",
              "  "
            ]
          },
          "metadata": {}
        },
        {
          "output_type": "display_data",
          "data": {
            "text/plain": [
              "<IPython.core.display.Javascript object>"
            ],
            "application/javascript": [
              "\n",
              "  async function showImage(name, image, width, height) {\n",
              "    img = document.getElementById(name);\n",
              "    if(img == null) {\n",
              "      img = document.createElement('img');\n",
              "      img.id = name;\n",
              "      document.body.appendChild(img);\n",
              "    }\n",
              "    img.src = image;\n",
              "    img.width = width;\n",
              "    img.height = height;\n",
              "  }\n",
              "  "
            ]
          },
          "metadata": {}
        },
        {
          "output_type": "display_data",
          "data": {
            "text/plain": [
              "<IPython.core.display.Javascript object>"
            ],
            "application/javascript": [
              "\n",
              "  async function showImage(name, image, width, height) {\n",
              "    img = document.getElementById(name);\n",
              "    if(img == null) {\n",
              "      img = document.createElement('img');\n",
              "      img.id = name;\n",
              "      document.body.appendChild(img);\n",
              "    }\n",
              "    img.src = image;\n",
              "    img.width = width;\n",
              "    img.height = height;\n",
              "  }\n",
              "  "
            ]
          },
          "metadata": {}
        },
        {
          "output_type": "display_data",
          "data": {
            "text/plain": [
              "<IPython.core.display.Javascript object>"
            ],
            "application/javascript": [
              "\n",
              "  async function showImage(name, image, width, height) {\n",
              "    img = document.getElementById(name);\n",
              "    if(img == null) {\n",
              "      img = document.createElement('img');\n",
              "      img.id = name;\n",
              "      document.body.appendChild(img);\n",
              "    }\n",
              "    img.src = image;\n",
              "    img.width = width;\n",
              "    img.height = height;\n",
              "  }\n",
              "  "
            ]
          },
          "metadata": {}
        },
        {
          "output_type": "display_data",
          "data": {
            "text/plain": [
              "<IPython.core.display.Javascript object>"
            ],
            "application/javascript": [
              "\n",
              "  async function showImage(name, image, width, height) {\n",
              "    img = document.getElementById(name);\n",
              "    if(img == null) {\n",
              "      img = document.createElement('img');\n",
              "      img.id = name;\n",
              "      document.body.appendChild(img);\n",
              "    }\n",
              "    img.src = image;\n",
              "    img.width = width;\n",
              "    img.height = height;\n",
              "  }\n",
              "  "
            ]
          },
          "metadata": {}
        },
        {
          "output_type": "display_data",
          "data": {
            "text/plain": [
              "<IPython.core.display.Javascript object>"
            ],
            "application/javascript": [
              "\n",
              "  async function showImage(name, image, width, height) {\n",
              "    img = document.getElementById(name);\n",
              "    if(img == null) {\n",
              "      img = document.createElement('img');\n",
              "      img.id = name;\n",
              "      document.body.appendChild(img);\n",
              "    }\n",
              "    img.src = image;\n",
              "    img.width = width;\n",
              "    img.height = height;\n",
              "  }\n",
              "  "
            ]
          },
          "metadata": {}
        },
        {
          "output_type": "display_data",
          "data": {
            "text/plain": [
              "<IPython.core.display.Javascript object>"
            ],
            "application/javascript": [
              "\n",
              "  async function showImage(name, image, width, height) {\n",
              "    img = document.getElementById(name);\n",
              "    if(img == null) {\n",
              "      img = document.createElement('img');\n",
              "      img.id = name;\n",
              "      document.body.appendChild(img);\n",
              "    }\n",
              "    img.src = image;\n",
              "    img.width = width;\n",
              "    img.height = height;\n",
              "  }\n",
              "  "
            ]
          },
          "metadata": {}
        },
        {
          "output_type": "display_data",
          "data": {
            "text/plain": [
              "<IPython.core.display.Javascript object>"
            ],
            "application/javascript": [
              "\n",
              "  async function showImage(name, image, width, height) {\n",
              "    img = document.getElementById(name);\n",
              "    if(img == null) {\n",
              "      img = document.createElement('img');\n",
              "      img.id = name;\n",
              "      document.body.appendChild(img);\n",
              "    }\n",
              "    img.src = image;\n",
              "    img.width = width;\n",
              "    img.height = height;\n",
              "  }\n",
              "  "
            ]
          },
          "metadata": {}
        },
        {
          "output_type": "display_data",
          "data": {
            "text/plain": [
              "<IPython.core.display.Javascript object>"
            ],
            "application/javascript": [
              "\n",
              "  async function showImage(name, image, width, height) {\n",
              "    img = document.getElementById(name);\n",
              "    if(img == null) {\n",
              "      img = document.createElement('img');\n",
              "      img.id = name;\n",
              "      document.body.appendChild(img);\n",
              "    }\n",
              "    img.src = image;\n",
              "    img.width = width;\n",
              "    img.height = height;\n",
              "  }\n",
              "  "
            ]
          },
          "metadata": {}
        },
        {
          "output_type": "display_data",
          "data": {
            "text/plain": [
              "<IPython.core.display.Javascript object>"
            ],
            "application/javascript": [
              "\n",
              "  async function showImage(name, image, width, height) {\n",
              "    img = document.getElementById(name);\n",
              "    if(img == null) {\n",
              "      img = document.createElement('img');\n",
              "      img.id = name;\n",
              "      document.body.appendChild(img);\n",
              "    }\n",
              "    img.src = image;\n",
              "    img.width = width;\n",
              "    img.height = height;\n",
              "  }\n",
              "  "
            ]
          },
          "metadata": {}
        },
        {
          "output_type": "display_data",
          "data": {
            "text/plain": [
              "<IPython.core.display.Javascript object>"
            ],
            "application/javascript": [
              "\n",
              "  async function showImage(name, image, width, height) {\n",
              "    img = document.getElementById(name);\n",
              "    if(img == null) {\n",
              "      img = document.createElement('img');\n",
              "      img.id = name;\n",
              "      document.body.appendChild(img);\n",
              "    }\n",
              "    img.src = image;\n",
              "    img.width = width;\n",
              "    img.height = height;\n",
              "  }\n",
              "  "
            ]
          },
          "metadata": {}
        },
        {
          "output_type": "display_data",
          "data": {
            "text/plain": [
              "<IPython.core.display.Javascript object>"
            ],
            "application/javascript": [
              "\n",
              "  async function showImage(name, image, width, height) {\n",
              "    img = document.getElementById(name);\n",
              "    if(img == null) {\n",
              "      img = document.createElement('img');\n",
              "      img.id = name;\n",
              "      document.body.appendChild(img);\n",
              "    }\n",
              "    img.src = image;\n",
              "    img.width = width;\n",
              "    img.height = height;\n",
              "  }\n",
              "  "
            ]
          },
          "metadata": {}
        },
        {
          "output_type": "display_data",
          "data": {
            "text/plain": [
              "<IPython.core.display.Javascript object>"
            ],
            "application/javascript": [
              "\n",
              "  async function showImage(name, image, width, height) {\n",
              "    img = document.getElementById(name);\n",
              "    if(img == null) {\n",
              "      img = document.createElement('img');\n",
              "      img.id = name;\n",
              "      document.body.appendChild(img);\n",
              "    }\n",
              "    img.src = image;\n",
              "    img.width = width;\n",
              "    img.height = height;\n",
              "  }\n",
              "  "
            ]
          },
          "metadata": {}
        },
        {
          "output_type": "display_data",
          "data": {
            "text/plain": [
              "<IPython.core.display.Javascript object>"
            ],
            "application/javascript": [
              "\n",
              "  async function showImage(name, image, width, height) {\n",
              "    img = document.getElementById(name);\n",
              "    if(img == null) {\n",
              "      img = document.createElement('img');\n",
              "      img.id = name;\n",
              "      document.body.appendChild(img);\n",
              "    }\n",
              "    img.src = image;\n",
              "    img.width = width;\n",
              "    img.height = height;\n",
              "  }\n",
              "  "
            ]
          },
          "metadata": {}
        },
        {
          "output_type": "display_data",
          "data": {
            "text/plain": [
              "<IPython.core.display.Javascript object>"
            ],
            "application/javascript": [
              "\n",
              "  async function showImage(name, image, width, height) {\n",
              "    img = document.getElementById(name);\n",
              "    if(img == null) {\n",
              "      img = document.createElement('img');\n",
              "      img.id = name;\n",
              "      document.body.appendChild(img);\n",
              "    }\n",
              "    img.src = image;\n",
              "    img.width = width;\n",
              "    img.height = height;\n",
              "  }\n",
              "  "
            ]
          },
          "metadata": {}
        },
        {
          "output_type": "display_data",
          "data": {
            "text/plain": [
              "<IPython.core.display.Javascript object>"
            ],
            "application/javascript": [
              "\n",
              "  async function showImage(name, image, width, height) {\n",
              "    img = document.getElementById(name);\n",
              "    if(img == null) {\n",
              "      img = document.createElement('img');\n",
              "      img.id = name;\n",
              "      document.body.appendChild(img);\n",
              "    }\n",
              "    img.src = image;\n",
              "    img.width = width;\n",
              "    img.height = height;\n",
              "  }\n",
              "  "
            ]
          },
          "metadata": {}
        },
        {
          "output_type": "display_data",
          "data": {
            "text/plain": [
              "<IPython.core.display.Javascript object>"
            ],
            "application/javascript": [
              "\n",
              "  async function showImage(name, image, width, height) {\n",
              "    img = document.getElementById(name);\n",
              "    if(img == null) {\n",
              "      img = document.createElement('img');\n",
              "      img.id = name;\n",
              "      document.body.appendChild(img);\n",
              "    }\n",
              "    img.src = image;\n",
              "    img.width = width;\n",
              "    img.height = height;\n",
              "  }\n",
              "  "
            ]
          },
          "metadata": {}
        },
        {
          "output_type": "display_data",
          "data": {
            "text/plain": [
              "<IPython.core.display.Javascript object>"
            ],
            "application/javascript": [
              "\n",
              "  async function showImage(name, image, width, height) {\n",
              "    img = document.getElementById(name);\n",
              "    if(img == null) {\n",
              "      img = document.createElement('img');\n",
              "      img.id = name;\n",
              "      document.body.appendChild(img);\n",
              "    }\n",
              "    img.src = image;\n",
              "    img.width = width;\n",
              "    img.height = height;\n",
              "  }\n",
              "  "
            ]
          },
          "metadata": {}
        },
        {
          "output_type": "display_data",
          "data": {
            "text/plain": [
              "<IPython.core.display.Javascript object>"
            ],
            "application/javascript": [
              "\n",
              "  async function showImage(name, image, width, height) {\n",
              "    img = document.getElementById(name);\n",
              "    if(img == null) {\n",
              "      img = document.createElement('img');\n",
              "      img.id = name;\n",
              "      document.body.appendChild(img);\n",
              "    }\n",
              "    img.src = image;\n",
              "    img.width = width;\n",
              "    img.height = height;\n",
              "  }\n",
              "  "
            ]
          },
          "metadata": {}
        },
        {
          "output_type": "display_data",
          "data": {
            "text/plain": [
              "<IPython.core.display.Javascript object>"
            ],
            "application/javascript": [
              "\n",
              "  async function showImage(name, image, width, height) {\n",
              "    img = document.getElementById(name);\n",
              "    if(img == null) {\n",
              "      img = document.createElement('img');\n",
              "      img.id = name;\n",
              "      document.body.appendChild(img);\n",
              "    }\n",
              "    img.src = image;\n",
              "    img.width = width;\n",
              "    img.height = height;\n",
              "  }\n",
              "  "
            ]
          },
          "metadata": {}
        },
        {
          "output_type": "display_data",
          "data": {
            "text/plain": [
              "<IPython.core.display.Javascript object>"
            ],
            "application/javascript": [
              "\n",
              "  async function showImage(name, image, width, height) {\n",
              "    img = document.getElementById(name);\n",
              "    if(img == null) {\n",
              "      img = document.createElement('img');\n",
              "      img.id = name;\n",
              "      document.body.appendChild(img);\n",
              "    }\n",
              "    img.src = image;\n",
              "    img.width = width;\n",
              "    img.height = height;\n",
              "  }\n",
              "  "
            ]
          },
          "metadata": {}
        },
        {
          "output_type": "display_data",
          "data": {
            "text/plain": [
              "<IPython.core.display.Javascript object>"
            ],
            "application/javascript": [
              "\n",
              "  async function showImage(name, image, width, height) {\n",
              "    img = document.getElementById(name);\n",
              "    if(img == null) {\n",
              "      img = document.createElement('img');\n",
              "      img.id = name;\n",
              "      document.body.appendChild(img);\n",
              "    }\n",
              "    img.src = image;\n",
              "    img.width = width;\n",
              "    img.height = height;\n",
              "  }\n",
              "  "
            ]
          },
          "metadata": {}
        },
        {
          "output_type": "display_data",
          "data": {
            "text/plain": [
              "<IPython.core.display.Javascript object>"
            ],
            "application/javascript": [
              "\n",
              "  async function showImage(name, image, width, height) {\n",
              "    img = document.getElementById(name);\n",
              "    if(img == null) {\n",
              "      img = document.createElement('img');\n",
              "      img.id = name;\n",
              "      document.body.appendChild(img);\n",
              "    }\n",
              "    img.src = image;\n",
              "    img.width = width;\n",
              "    img.height = height;\n",
              "  }\n",
              "  "
            ]
          },
          "metadata": {}
        },
        {
          "output_type": "display_data",
          "data": {
            "text/plain": [
              "<IPython.core.display.Javascript object>"
            ],
            "application/javascript": [
              "\n",
              "  async function showImage(name, image, width, height) {\n",
              "    img = document.getElementById(name);\n",
              "    if(img == null) {\n",
              "      img = document.createElement('img');\n",
              "      img.id = name;\n",
              "      document.body.appendChild(img);\n",
              "    }\n",
              "    img.src = image;\n",
              "    img.width = width;\n",
              "    img.height = height;\n",
              "  }\n",
              "  "
            ]
          },
          "metadata": {}
        },
        {
          "output_type": "display_data",
          "data": {
            "text/plain": [
              "<IPython.core.display.Javascript object>"
            ],
            "application/javascript": [
              "\n",
              "  async function showImage(name, image, width, height) {\n",
              "    img = document.getElementById(name);\n",
              "    if(img == null) {\n",
              "      img = document.createElement('img');\n",
              "      img.id = name;\n",
              "      document.body.appendChild(img);\n",
              "    }\n",
              "    img.src = image;\n",
              "    img.width = width;\n",
              "    img.height = height;\n",
              "  }\n",
              "  "
            ]
          },
          "metadata": {}
        },
        {
          "output_type": "display_data",
          "data": {
            "text/plain": [
              "<IPython.core.display.Javascript object>"
            ],
            "application/javascript": [
              "\n",
              "  async function showImage(name, image, width, height) {\n",
              "    img = document.getElementById(name);\n",
              "    if(img == null) {\n",
              "      img = document.createElement('img');\n",
              "      img.id = name;\n",
              "      document.body.appendChild(img);\n",
              "    }\n",
              "    img.src = image;\n",
              "    img.width = width;\n",
              "    img.height = height;\n",
              "  }\n",
              "  "
            ]
          },
          "metadata": {}
        },
        {
          "output_type": "display_data",
          "data": {
            "text/plain": [
              "<IPython.core.display.Javascript object>"
            ],
            "application/javascript": [
              "\n",
              "  async function showImage(name, image, width, height) {\n",
              "    img = document.getElementById(name);\n",
              "    if(img == null) {\n",
              "      img = document.createElement('img');\n",
              "      img.id = name;\n",
              "      document.body.appendChild(img);\n",
              "    }\n",
              "    img.src = image;\n",
              "    img.width = width;\n",
              "    img.height = height;\n",
              "  }\n",
              "  "
            ]
          },
          "metadata": {}
        },
        {
          "output_type": "display_data",
          "data": {
            "text/plain": [
              "<IPython.core.display.Javascript object>"
            ],
            "application/javascript": [
              "\n",
              "  async function showImage(name, image, width, height) {\n",
              "    img = document.getElementById(name);\n",
              "    if(img == null) {\n",
              "      img = document.createElement('img');\n",
              "      img.id = name;\n",
              "      document.body.appendChild(img);\n",
              "    }\n",
              "    img.src = image;\n",
              "    img.width = width;\n",
              "    img.height = height;\n",
              "  }\n",
              "  "
            ]
          },
          "metadata": {}
        },
        {
          "output_type": "display_data",
          "data": {
            "text/plain": [
              "<IPython.core.display.Javascript object>"
            ],
            "application/javascript": [
              "\n",
              "  async function showImage(name, image, width, height) {\n",
              "    img = document.getElementById(name);\n",
              "    if(img == null) {\n",
              "      img = document.createElement('img');\n",
              "      img.id = name;\n",
              "      document.body.appendChild(img);\n",
              "    }\n",
              "    img.src = image;\n",
              "    img.width = width;\n",
              "    img.height = height;\n",
              "  }\n",
              "  "
            ]
          },
          "metadata": {}
        },
        {
          "output_type": "display_data",
          "data": {
            "text/plain": [
              "<IPython.core.display.Javascript object>"
            ],
            "application/javascript": [
              "\n",
              "  async function showImage(name, image, width, height) {\n",
              "    img = document.getElementById(name);\n",
              "    if(img == null) {\n",
              "      img = document.createElement('img');\n",
              "      img.id = name;\n",
              "      document.body.appendChild(img);\n",
              "    }\n",
              "    img.src = image;\n",
              "    img.width = width;\n",
              "    img.height = height;\n",
              "  }\n",
              "  "
            ]
          },
          "metadata": {}
        },
        {
          "output_type": "display_data",
          "data": {
            "text/plain": [
              "<IPython.core.display.Javascript object>"
            ],
            "application/javascript": [
              "\n",
              "  async function showImage(name, image, width, height) {\n",
              "    img = document.getElementById(name);\n",
              "    if(img == null) {\n",
              "      img = document.createElement('img');\n",
              "      img.id = name;\n",
              "      document.body.appendChild(img);\n",
              "    }\n",
              "    img.src = image;\n",
              "    img.width = width;\n",
              "    img.height = height;\n",
              "  }\n",
              "  "
            ]
          },
          "metadata": {}
        },
        {
          "output_type": "display_data",
          "data": {
            "text/plain": [
              "<IPython.core.display.Javascript object>"
            ],
            "application/javascript": [
              "\n",
              "  async function showImage(name, image, width, height) {\n",
              "    img = document.getElementById(name);\n",
              "    if(img == null) {\n",
              "      img = document.createElement('img');\n",
              "      img.id = name;\n",
              "      document.body.appendChild(img);\n",
              "    }\n",
              "    img.src = image;\n",
              "    img.width = width;\n",
              "    img.height = height;\n",
              "  }\n",
              "  "
            ]
          },
          "metadata": {}
        },
        {
          "output_type": "display_data",
          "data": {
            "text/plain": [
              "<IPython.core.display.Javascript object>"
            ],
            "application/javascript": [
              "\n",
              "  async function showImage(name, image, width, height) {\n",
              "    img = document.getElementById(name);\n",
              "    if(img == null) {\n",
              "      img = document.createElement('img');\n",
              "      img.id = name;\n",
              "      document.body.appendChild(img);\n",
              "    }\n",
              "    img.src = image;\n",
              "    img.width = width;\n",
              "    img.height = height;\n",
              "  }\n",
              "  "
            ]
          },
          "metadata": {}
        },
        {
          "output_type": "display_data",
          "data": {
            "text/plain": [
              "<IPython.core.display.Javascript object>"
            ],
            "application/javascript": [
              "\n",
              "  async function showImage(name, image, width, height) {\n",
              "    img = document.getElementById(name);\n",
              "    if(img == null) {\n",
              "      img = document.createElement('img');\n",
              "      img.id = name;\n",
              "      document.body.appendChild(img);\n",
              "    }\n",
              "    img.src = image;\n",
              "    img.width = width;\n",
              "    img.height = height;\n",
              "  }\n",
              "  "
            ]
          },
          "metadata": {}
        },
        {
          "output_type": "display_data",
          "data": {
            "text/plain": [
              "<IPython.core.display.Javascript object>"
            ],
            "application/javascript": [
              "\n",
              "  async function showImage(name, image, width, height) {\n",
              "    img = document.getElementById(name);\n",
              "    if(img == null) {\n",
              "      img = document.createElement('img');\n",
              "      img.id = name;\n",
              "      document.body.appendChild(img);\n",
              "    }\n",
              "    img.src = image;\n",
              "    img.width = width;\n",
              "    img.height = height;\n",
              "  }\n",
              "  "
            ]
          },
          "metadata": {}
        },
        {
          "output_type": "display_data",
          "data": {
            "text/plain": [
              "<IPython.core.display.Javascript object>"
            ],
            "application/javascript": [
              "\n",
              "  async function showImage(name, image, width, height) {\n",
              "    img = document.getElementById(name);\n",
              "    if(img == null) {\n",
              "      img = document.createElement('img');\n",
              "      img.id = name;\n",
              "      document.body.appendChild(img);\n",
              "    }\n",
              "    img.src = image;\n",
              "    img.width = width;\n",
              "    img.height = height;\n",
              "  }\n",
              "  "
            ]
          },
          "metadata": {}
        },
        {
          "output_type": "display_data",
          "data": {
            "text/plain": [
              "<IPython.core.display.Javascript object>"
            ],
            "application/javascript": [
              "\n",
              "  async function showImage(name, image, width, height) {\n",
              "    img = document.getElementById(name);\n",
              "    if(img == null) {\n",
              "      img = document.createElement('img');\n",
              "      img.id = name;\n",
              "      document.body.appendChild(img);\n",
              "    }\n",
              "    img.src = image;\n",
              "    img.width = width;\n",
              "    img.height = height;\n",
              "  }\n",
              "  "
            ]
          },
          "metadata": {}
        },
        {
          "output_type": "display_data",
          "data": {
            "text/plain": [
              "<IPython.core.display.Javascript object>"
            ],
            "application/javascript": [
              "\n",
              "  async function showImage(name, image, width, height) {\n",
              "    img = document.getElementById(name);\n",
              "    if(img == null) {\n",
              "      img = document.createElement('img');\n",
              "      img.id = name;\n",
              "      document.body.appendChild(img);\n",
              "    }\n",
              "    img.src = image;\n",
              "    img.width = width;\n",
              "    img.height = height;\n",
              "  }\n",
              "  "
            ]
          },
          "metadata": {}
        },
        {
          "output_type": "display_data",
          "data": {
            "text/plain": [
              "<IPython.core.display.Javascript object>"
            ],
            "application/javascript": [
              "\n",
              "  async function showImage(name, image, width, height) {\n",
              "    img = document.getElementById(name);\n",
              "    if(img == null) {\n",
              "      img = document.createElement('img');\n",
              "      img.id = name;\n",
              "      document.body.appendChild(img);\n",
              "    }\n",
              "    img.src = image;\n",
              "    img.width = width;\n",
              "    img.height = height;\n",
              "  }\n",
              "  "
            ]
          },
          "metadata": {}
        },
        {
          "output_type": "display_data",
          "data": {
            "text/plain": [
              "<IPython.core.display.Javascript object>"
            ],
            "application/javascript": [
              "\n",
              "  async function showImage(name, image, width, height) {\n",
              "    img = document.getElementById(name);\n",
              "    if(img == null) {\n",
              "      img = document.createElement('img');\n",
              "      img.id = name;\n",
              "      document.body.appendChild(img);\n",
              "    }\n",
              "    img.src = image;\n",
              "    img.width = width;\n",
              "    img.height = height;\n",
              "  }\n",
              "  "
            ]
          },
          "metadata": {}
        },
        {
          "output_type": "display_data",
          "data": {
            "text/plain": [
              "<IPython.core.display.Javascript object>"
            ],
            "application/javascript": [
              "\n",
              "  async function showImage(name, image, width, height) {\n",
              "    img = document.getElementById(name);\n",
              "    if(img == null) {\n",
              "      img = document.createElement('img');\n",
              "      img.id = name;\n",
              "      document.body.appendChild(img);\n",
              "    }\n",
              "    img.src = image;\n",
              "    img.width = width;\n",
              "    img.height = height;\n",
              "  }\n",
              "  "
            ]
          },
          "metadata": {}
        },
        {
          "output_type": "display_data",
          "data": {
            "text/plain": [
              "<IPython.core.display.Javascript object>"
            ],
            "application/javascript": [
              "\n",
              "  async function showImage(name, image, width, height) {\n",
              "    img = document.getElementById(name);\n",
              "    if(img == null) {\n",
              "      img = document.createElement('img');\n",
              "      img.id = name;\n",
              "      document.body.appendChild(img);\n",
              "    }\n",
              "    img.src = image;\n",
              "    img.width = width;\n",
              "    img.height = height;\n",
              "  }\n",
              "  "
            ]
          },
          "metadata": {}
        },
        {
          "output_type": "display_data",
          "data": {
            "text/plain": [
              "<IPython.core.display.Javascript object>"
            ],
            "application/javascript": [
              "\n",
              "  async function showImage(name, image, width, height) {\n",
              "    img = document.getElementById(name);\n",
              "    if(img == null) {\n",
              "      img = document.createElement('img');\n",
              "      img.id = name;\n",
              "      document.body.appendChild(img);\n",
              "    }\n",
              "    img.src = image;\n",
              "    img.width = width;\n",
              "    img.height = height;\n",
              "  }\n",
              "  "
            ]
          },
          "metadata": {}
        },
        {
          "output_type": "display_data",
          "data": {
            "text/plain": [
              "<IPython.core.display.Javascript object>"
            ],
            "application/javascript": [
              "\n",
              "  async function showImage(name, image, width, height) {\n",
              "    img = document.getElementById(name);\n",
              "    if(img == null) {\n",
              "      img = document.createElement('img');\n",
              "      img.id = name;\n",
              "      document.body.appendChild(img);\n",
              "    }\n",
              "    img.src = image;\n",
              "    img.width = width;\n",
              "    img.height = height;\n",
              "  }\n",
              "  "
            ]
          },
          "metadata": {}
        },
        {
          "output_type": "display_data",
          "data": {
            "text/plain": [
              "<IPython.core.display.Javascript object>"
            ],
            "application/javascript": [
              "\n",
              "  async function showImage(name, image, width, height) {\n",
              "    img = document.getElementById(name);\n",
              "    if(img == null) {\n",
              "      img = document.createElement('img');\n",
              "      img.id = name;\n",
              "      document.body.appendChild(img);\n",
              "    }\n",
              "    img.src = image;\n",
              "    img.width = width;\n",
              "    img.height = height;\n",
              "  }\n",
              "  "
            ]
          },
          "metadata": {}
        },
        {
          "output_type": "display_data",
          "data": {
            "text/plain": [
              "<IPython.core.display.Javascript object>"
            ],
            "application/javascript": [
              "\n",
              "  async function showImage(name, image, width, height) {\n",
              "    img = document.getElementById(name);\n",
              "    if(img == null) {\n",
              "      img = document.createElement('img');\n",
              "      img.id = name;\n",
              "      document.body.appendChild(img);\n",
              "    }\n",
              "    img.src = image;\n",
              "    img.width = width;\n",
              "    img.height = height;\n",
              "  }\n",
              "  "
            ]
          },
          "metadata": {}
        },
        {
          "output_type": "display_data",
          "data": {
            "text/plain": [
              "<IPython.core.display.Javascript object>"
            ],
            "application/javascript": [
              "\n",
              "  async function showImage(name, image, width, height) {\n",
              "    img = document.getElementById(name);\n",
              "    if(img == null) {\n",
              "      img = document.createElement('img');\n",
              "      img.id = name;\n",
              "      document.body.appendChild(img);\n",
              "    }\n",
              "    img.src = image;\n",
              "    img.width = width;\n",
              "    img.height = height;\n",
              "  }\n",
              "  "
            ]
          },
          "metadata": {}
        },
        {
          "output_type": "display_data",
          "data": {
            "text/plain": [
              "<IPython.core.display.Javascript object>"
            ],
            "application/javascript": [
              "\n",
              "  async function showImage(name, image, width, height) {\n",
              "    img = document.getElementById(name);\n",
              "    if(img == null) {\n",
              "      img = document.createElement('img');\n",
              "      img.id = name;\n",
              "      document.body.appendChild(img);\n",
              "    }\n",
              "    img.src = image;\n",
              "    img.width = width;\n",
              "    img.height = height;\n",
              "  }\n",
              "  "
            ]
          },
          "metadata": {}
        },
        {
          "output_type": "display_data",
          "data": {
            "text/plain": [
              "<IPython.core.display.Javascript object>"
            ],
            "application/javascript": [
              "\n",
              "  async function showImage(name, image, width, height) {\n",
              "    img = document.getElementById(name);\n",
              "    if(img == null) {\n",
              "      img = document.createElement('img');\n",
              "      img.id = name;\n",
              "      document.body.appendChild(img);\n",
              "    }\n",
              "    img.src = image;\n",
              "    img.width = width;\n",
              "    img.height = height;\n",
              "  }\n",
              "  "
            ]
          },
          "metadata": {}
        },
        {
          "output_type": "display_data",
          "data": {
            "text/plain": [
              "<IPython.core.display.Javascript object>"
            ],
            "application/javascript": [
              "\n",
              "  async function showImage(name, image, width, height) {\n",
              "    img = document.getElementById(name);\n",
              "    if(img == null) {\n",
              "      img = document.createElement('img');\n",
              "      img.id = name;\n",
              "      document.body.appendChild(img);\n",
              "    }\n",
              "    img.src = image;\n",
              "    img.width = width;\n",
              "    img.height = height;\n",
              "  }\n",
              "  "
            ]
          },
          "metadata": {}
        },
        {
          "output_type": "display_data",
          "data": {
            "text/plain": [
              "<IPython.core.display.Javascript object>"
            ],
            "application/javascript": [
              "\n",
              "  async function showImage(name, image, width, height) {\n",
              "    img = document.getElementById(name);\n",
              "    if(img == null) {\n",
              "      img = document.createElement('img');\n",
              "      img.id = name;\n",
              "      document.body.appendChild(img);\n",
              "    }\n",
              "    img.src = image;\n",
              "    img.width = width;\n",
              "    img.height = height;\n",
              "  }\n",
              "  "
            ]
          },
          "metadata": {}
        },
        {
          "output_type": "display_data",
          "data": {
            "text/plain": [
              "<IPython.core.display.Javascript object>"
            ],
            "application/javascript": [
              "\n",
              "  async function showImage(name, image, width, height) {\n",
              "    img = document.getElementById(name);\n",
              "    if(img == null) {\n",
              "      img = document.createElement('img');\n",
              "      img.id = name;\n",
              "      document.body.appendChild(img);\n",
              "    }\n",
              "    img.src = image;\n",
              "    img.width = width;\n",
              "    img.height = height;\n",
              "  }\n",
              "  "
            ]
          },
          "metadata": {}
        },
        {
          "output_type": "display_data",
          "data": {
            "text/plain": [
              "<IPython.core.display.Javascript object>"
            ],
            "application/javascript": [
              "\n",
              "  async function showImage(name, image, width, height) {\n",
              "    img = document.getElementById(name);\n",
              "    if(img == null) {\n",
              "      img = document.createElement('img');\n",
              "      img.id = name;\n",
              "      document.body.appendChild(img);\n",
              "    }\n",
              "    img.src = image;\n",
              "    img.width = width;\n",
              "    img.height = height;\n",
              "  }\n",
              "  "
            ]
          },
          "metadata": {}
        },
        {
          "output_type": "display_data",
          "data": {
            "text/plain": [
              "<IPython.core.display.Javascript object>"
            ],
            "application/javascript": [
              "\n",
              "  async function showImage(name, image, width, height) {\n",
              "    img = document.getElementById(name);\n",
              "    if(img == null) {\n",
              "      img = document.createElement('img');\n",
              "      img.id = name;\n",
              "      document.body.appendChild(img);\n",
              "    }\n",
              "    img.src = image;\n",
              "    img.width = width;\n",
              "    img.height = height;\n",
              "  }\n",
              "  "
            ]
          },
          "metadata": {}
        },
        {
          "output_type": "display_data",
          "data": {
            "text/plain": [
              "<IPython.core.display.Javascript object>"
            ],
            "application/javascript": [
              "\n",
              "  async function showImage(name, image, width, height) {\n",
              "    img = document.getElementById(name);\n",
              "    if(img == null) {\n",
              "      img = document.createElement('img');\n",
              "      img.id = name;\n",
              "      document.body.appendChild(img);\n",
              "    }\n",
              "    img.src = image;\n",
              "    img.width = width;\n",
              "    img.height = height;\n",
              "  }\n",
              "  "
            ]
          },
          "metadata": {}
        },
        {
          "output_type": "display_data",
          "data": {
            "text/plain": [
              "<IPython.core.display.Javascript object>"
            ],
            "application/javascript": [
              "\n",
              "  async function showImage(name, image, width, height) {\n",
              "    img = document.getElementById(name);\n",
              "    if(img == null) {\n",
              "      img = document.createElement('img');\n",
              "      img.id = name;\n",
              "      document.body.appendChild(img);\n",
              "    }\n",
              "    img.src = image;\n",
              "    img.width = width;\n",
              "    img.height = height;\n",
              "  }\n",
              "  "
            ]
          },
          "metadata": {}
        },
        {
          "output_type": "display_data",
          "data": {
            "text/plain": [
              "<IPython.core.display.Javascript object>"
            ],
            "application/javascript": [
              "\n",
              "  async function showImage(name, image, width, height) {\n",
              "    img = document.getElementById(name);\n",
              "    if(img == null) {\n",
              "      img = document.createElement('img');\n",
              "      img.id = name;\n",
              "      document.body.appendChild(img);\n",
              "    }\n",
              "    img.src = image;\n",
              "    img.width = width;\n",
              "    img.height = height;\n",
              "  }\n",
              "  "
            ]
          },
          "metadata": {}
        },
        {
          "output_type": "display_data",
          "data": {
            "text/plain": [
              "<IPython.core.display.Javascript object>"
            ],
            "application/javascript": [
              "\n",
              "  async function showImage(name, image, width, height) {\n",
              "    img = document.getElementById(name);\n",
              "    if(img == null) {\n",
              "      img = document.createElement('img');\n",
              "      img.id = name;\n",
              "      document.body.appendChild(img);\n",
              "    }\n",
              "    img.src = image;\n",
              "    img.width = width;\n",
              "    img.height = height;\n",
              "  }\n",
              "  "
            ]
          },
          "metadata": {}
        },
        {
          "output_type": "display_data",
          "data": {
            "text/plain": [
              "<IPython.core.display.Javascript object>"
            ],
            "application/javascript": [
              "\n",
              "  async function showImage(name, image, width, height) {\n",
              "    img = document.getElementById(name);\n",
              "    if(img == null) {\n",
              "      img = document.createElement('img');\n",
              "      img.id = name;\n",
              "      document.body.appendChild(img);\n",
              "    }\n",
              "    img.src = image;\n",
              "    img.width = width;\n",
              "    img.height = height;\n",
              "  }\n",
              "  "
            ]
          },
          "metadata": {}
        },
        {
          "output_type": "display_data",
          "data": {
            "text/plain": [
              "<IPython.core.display.Javascript object>"
            ],
            "application/javascript": [
              "\n",
              "  async function showImage(name, image, width, height) {\n",
              "    img = document.getElementById(name);\n",
              "    if(img == null) {\n",
              "      img = document.createElement('img');\n",
              "      img.id = name;\n",
              "      document.body.appendChild(img);\n",
              "    }\n",
              "    img.src = image;\n",
              "    img.width = width;\n",
              "    img.height = height;\n",
              "  }\n",
              "  "
            ]
          },
          "metadata": {}
        },
        {
          "output_type": "display_data",
          "data": {
            "text/plain": [
              "<IPython.core.display.Javascript object>"
            ],
            "application/javascript": [
              "\n",
              "  async function showImage(name, image, width, height) {\n",
              "    img = document.getElementById(name);\n",
              "    if(img == null) {\n",
              "      img = document.createElement('img');\n",
              "      img.id = name;\n",
              "      document.body.appendChild(img);\n",
              "    }\n",
              "    img.src = image;\n",
              "    img.width = width;\n",
              "    img.height = height;\n",
              "  }\n",
              "  "
            ]
          },
          "metadata": {}
        },
        {
          "output_type": "display_data",
          "data": {
            "text/plain": [
              "<IPython.core.display.Javascript object>"
            ],
            "application/javascript": [
              "\n",
              "  async function showImage(name, image, width, height) {\n",
              "    img = document.getElementById(name);\n",
              "    if(img == null) {\n",
              "      img = document.createElement('img');\n",
              "      img.id = name;\n",
              "      document.body.appendChild(img);\n",
              "    }\n",
              "    img.src = image;\n",
              "    img.width = width;\n",
              "    img.height = height;\n",
              "  }\n",
              "  "
            ]
          },
          "metadata": {}
        },
        {
          "output_type": "display_data",
          "data": {
            "text/plain": [
              "<IPython.core.display.Javascript object>"
            ],
            "application/javascript": [
              "\n",
              "  async function showImage(name, image, width, height) {\n",
              "    img = document.getElementById(name);\n",
              "    if(img == null) {\n",
              "      img = document.createElement('img');\n",
              "      img.id = name;\n",
              "      document.body.appendChild(img);\n",
              "    }\n",
              "    img.src = image;\n",
              "    img.width = width;\n",
              "    img.height = height;\n",
              "  }\n",
              "  "
            ]
          },
          "metadata": {}
        },
        {
          "output_type": "display_data",
          "data": {
            "text/plain": [
              "<IPython.core.display.Javascript object>"
            ],
            "application/javascript": [
              "\n",
              "  async function showImage(name, image, width, height) {\n",
              "    img = document.getElementById(name);\n",
              "    if(img == null) {\n",
              "      img = document.createElement('img');\n",
              "      img.id = name;\n",
              "      document.body.appendChild(img);\n",
              "    }\n",
              "    img.src = image;\n",
              "    img.width = width;\n",
              "    img.height = height;\n",
              "  }\n",
              "  "
            ]
          },
          "metadata": {}
        },
        {
          "output_type": "display_data",
          "data": {
            "text/plain": [
              "<IPython.core.display.Javascript object>"
            ],
            "application/javascript": [
              "\n",
              "  async function showImage(name, image, width, height) {\n",
              "    img = document.getElementById(name);\n",
              "    if(img == null) {\n",
              "      img = document.createElement('img');\n",
              "      img.id = name;\n",
              "      document.body.appendChild(img);\n",
              "    }\n",
              "    img.src = image;\n",
              "    img.width = width;\n",
              "    img.height = height;\n",
              "  }\n",
              "  "
            ]
          },
          "metadata": {}
        },
        {
          "output_type": "display_data",
          "data": {
            "text/plain": [
              "<IPython.core.display.Javascript object>"
            ],
            "application/javascript": [
              "\n",
              "  async function showImage(name, image, width, height) {\n",
              "    img = document.getElementById(name);\n",
              "    if(img == null) {\n",
              "      img = document.createElement('img');\n",
              "      img.id = name;\n",
              "      document.body.appendChild(img);\n",
              "    }\n",
              "    img.src = image;\n",
              "    img.width = width;\n",
              "    img.height = height;\n",
              "  }\n",
              "  "
            ]
          },
          "metadata": {}
        },
        {
          "output_type": "display_data",
          "data": {
            "text/plain": [
              "<IPython.core.display.Javascript object>"
            ],
            "application/javascript": [
              "\n",
              "  async function showImage(name, image, width, height) {\n",
              "    img = document.getElementById(name);\n",
              "    if(img == null) {\n",
              "      img = document.createElement('img');\n",
              "      img.id = name;\n",
              "      document.body.appendChild(img);\n",
              "    }\n",
              "    img.src = image;\n",
              "    img.width = width;\n",
              "    img.height = height;\n",
              "  }\n",
              "  "
            ]
          },
          "metadata": {}
        },
        {
          "output_type": "display_data",
          "data": {
            "text/plain": [
              "<IPython.core.display.Javascript object>"
            ],
            "application/javascript": [
              "\n",
              "  async function showImage(name, image, width, height) {\n",
              "    img = document.getElementById(name);\n",
              "    if(img == null) {\n",
              "      img = document.createElement('img');\n",
              "      img.id = name;\n",
              "      document.body.appendChild(img);\n",
              "    }\n",
              "    img.src = image;\n",
              "    img.width = width;\n",
              "    img.height = height;\n",
              "  }\n",
              "  "
            ]
          },
          "metadata": {}
        },
        {
          "output_type": "display_data",
          "data": {
            "text/plain": [
              "<IPython.core.display.Javascript object>"
            ],
            "application/javascript": [
              "\n",
              "  async function showImage(name, image, width, height) {\n",
              "    img = document.getElementById(name);\n",
              "    if(img == null) {\n",
              "      img = document.createElement('img');\n",
              "      img.id = name;\n",
              "      document.body.appendChild(img);\n",
              "    }\n",
              "    img.src = image;\n",
              "    img.width = width;\n",
              "    img.height = height;\n",
              "  }\n",
              "  "
            ]
          },
          "metadata": {}
        },
        {
          "output_type": "display_data",
          "data": {
            "text/plain": [
              "<IPython.core.display.Javascript object>"
            ],
            "application/javascript": [
              "\n",
              "  async function showImage(name, image, width, height) {\n",
              "    img = document.getElementById(name);\n",
              "    if(img == null) {\n",
              "      img = document.createElement('img');\n",
              "      img.id = name;\n",
              "      document.body.appendChild(img);\n",
              "    }\n",
              "    img.src = image;\n",
              "    img.width = width;\n",
              "    img.height = height;\n",
              "  }\n",
              "  "
            ]
          },
          "metadata": {}
        },
        {
          "output_type": "display_data",
          "data": {
            "text/plain": [
              "<IPython.core.display.Javascript object>"
            ],
            "application/javascript": [
              "\n",
              "  async function showImage(name, image, width, height) {\n",
              "    img = document.getElementById(name);\n",
              "    if(img == null) {\n",
              "      img = document.createElement('img');\n",
              "      img.id = name;\n",
              "      document.body.appendChild(img);\n",
              "    }\n",
              "    img.src = image;\n",
              "    img.width = width;\n",
              "    img.height = height;\n",
              "  }\n",
              "  "
            ]
          },
          "metadata": {}
        },
        {
          "output_type": "display_data",
          "data": {
            "text/plain": [
              "<IPython.core.display.Javascript object>"
            ],
            "application/javascript": [
              "\n",
              "  async function showImage(name, image, width, height) {\n",
              "    img = document.getElementById(name);\n",
              "    if(img == null) {\n",
              "      img = document.createElement('img');\n",
              "      img.id = name;\n",
              "      document.body.appendChild(img);\n",
              "    }\n",
              "    img.src = image;\n",
              "    img.width = width;\n",
              "    img.height = height;\n",
              "  }\n",
              "  "
            ]
          },
          "metadata": {}
        },
        {
          "output_type": "display_data",
          "data": {
            "text/plain": [
              "<IPython.core.display.Javascript object>"
            ],
            "application/javascript": [
              "\n",
              "  async function showImage(name, image, width, height) {\n",
              "    img = document.getElementById(name);\n",
              "    if(img == null) {\n",
              "      img = document.createElement('img');\n",
              "      img.id = name;\n",
              "      document.body.appendChild(img);\n",
              "    }\n",
              "    img.src = image;\n",
              "    img.width = width;\n",
              "    img.height = height;\n",
              "  }\n",
              "  "
            ]
          },
          "metadata": {}
        },
        {
          "output_type": "display_data",
          "data": {
            "text/plain": [
              "<IPython.core.display.Javascript object>"
            ],
            "application/javascript": [
              "\n",
              "  async function showImage(name, image, width, height) {\n",
              "    img = document.getElementById(name);\n",
              "    if(img == null) {\n",
              "      img = document.createElement('img');\n",
              "      img.id = name;\n",
              "      document.body.appendChild(img);\n",
              "    }\n",
              "    img.src = image;\n",
              "    img.width = width;\n",
              "    img.height = height;\n",
              "  }\n",
              "  "
            ]
          },
          "metadata": {}
        },
        {
          "output_type": "display_data",
          "data": {
            "text/plain": [
              "<IPython.core.display.Javascript object>"
            ],
            "application/javascript": [
              "\n",
              "  async function showImage(name, image, width, height) {\n",
              "    img = document.getElementById(name);\n",
              "    if(img == null) {\n",
              "      img = document.createElement('img');\n",
              "      img.id = name;\n",
              "      document.body.appendChild(img);\n",
              "    }\n",
              "    img.src = image;\n",
              "    img.width = width;\n",
              "    img.height = height;\n",
              "  }\n",
              "  "
            ]
          },
          "metadata": {}
        },
        {
          "output_type": "display_data",
          "data": {
            "text/plain": [
              "<IPython.core.display.Javascript object>"
            ],
            "application/javascript": [
              "\n",
              "  async function showImage(name, image, width, height) {\n",
              "    img = document.getElementById(name);\n",
              "    if(img == null) {\n",
              "      img = document.createElement('img');\n",
              "      img.id = name;\n",
              "      document.body.appendChild(img);\n",
              "    }\n",
              "    img.src = image;\n",
              "    img.width = width;\n",
              "    img.height = height;\n",
              "  }\n",
              "  "
            ]
          },
          "metadata": {}
        },
        {
          "output_type": "display_data",
          "data": {
            "text/plain": [
              "<IPython.core.display.Javascript object>"
            ],
            "application/javascript": [
              "\n",
              "  async function showImage(name, image, width, height) {\n",
              "    img = document.getElementById(name);\n",
              "    if(img == null) {\n",
              "      img = document.createElement('img');\n",
              "      img.id = name;\n",
              "      document.body.appendChild(img);\n",
              "    }\n",
              "    img.src = image;\n",
              "    img.width = width;\n",
              "    img.height = height;\n",
              "  }\n",
              "  "
            ]
          },
          "metadata": {}
        },
        {
          "output_type": "display_data",
          "data": {
            "text/plain": [
              "<IPython.core.display.Javascript object>"
            ],
            "application/javascript": [
              "\n",
              "  async function showImage(name, image, width, height) {\n",
              "    img = document.getElementById(name);\n",
              "    if(img == null) {\n",
              "      img = document.createElement('img');\n",
              "      img.id = name;\n",
              "      document.body.appendChild(img);\n",
              "    }\n",
              "    img.src = image;\n",
              "    img.width = width;\n",
              "    img.height = height;\n",
              "  }\n",
              "  "
            ]
          },
          "metadata": {}
        },
        {
          "output_type": "display_data",
          "data": {
            "text/plain": [
              "<IPython.core.display.Javascript object>"
            ],
            "application/javascript": [
              "\n",
              "  async function showImage(name, image, width, height) {\n",
              "    img = document.getElementById(name);\n",
              "    if(img == null) {\n",
              "      img = document.createElement('img');\n",
              "      img.id = name;\n",
              "      document.body.appendChild(img);\n",
              "    }\n",
              "    img.src = image;\n",
              "    img.width = width;\n",
              "    img.height = height;\n",
              "  }\n",
              "  "
            ]
          },
          "metadata": {}
        },
        {
          "output_type": "display_data",
          "data": {
            "text/plain": [
              "<IPython.core.display.Javascript object>"
            ],
            "application/javascript": [
              "\n",
              "  async function showImage(name, image, width, height) {\n",
              "    img = document.getElementById(name);\n",
              "    if(img == null) {\n",
              "      img = document.createElement('img');\n",
              "      img.id = name;\n",
              "      document.body.appendChild(img);\n",
              "    }\n",
              "    img.src = image;\n",
              "    img.width = width;\n",
              "    img.height = height;\n",
              "  }\n",
              "  "
            ]
          },
          "metadata": {}
        },
        {
          "output_type": "display_data",
          "data": {
            "text/plain": [
              "<IPython.core.display.Javascript object>"
            ],
            "application/javascript": [
              "\n",
              "  async function showImage(name, image, width, height) {\n",
              "    img = document.getElementById(name);\n",
              "    if(img == null) {\n",
              "      img = document.createElement('img');\n",
              "      img.id = name;\n",
              "      document.body.appendChild(img);\n",
              "    }\n",
              "    img.src = image;\n",
              "    img.width = width;\n",
              "    img.height = height;\n",
              "  }\n",
              "  "
            ]
          },
          "metadata": {}
        },
        {
          "output_type": "display_data",
          "data": {
            "text/plain": [
              "<IPython.core.display.Javascript object>"
            ],
            "application/javascript": [
              "\n",
              "  async function showImage(name, image, width, height) {\n",
              "    img = document.getElementById(name);\n",
              "    if(img == null) {\n",
              "      img = document.createElement('img');\n",
              "      img.id = name;\n",
              "      document.body.appendChild(img);\n",
              "    }\n",
              "    img.src = image;\n",
              "    img.width = width;\n",
              "    img.height = height;\n",
              "  }\n",
              "  "
            ]
          },
          "metadata": {}
        },
        {
          "output_type": "display_data",
          "data": {
            "text/plain": [
              "<IPython.core.display.Javascript object>"
            ],
            "application/javascript": [
              "\n",
              "  async function showImage(name, image, width, height) {\n",
              "    img = document.getElementById(name);\n",
              "    if(img == null) {\n",
              "      img = document.createElement('img');\n",
              "      img.id = name;\n",
              "      document.body.appendChild(img);\n",
              "    }\n",
              "    img.src = image;\n",
              "    img.width = width;\n",
              "    img.height = height;\n",
              "  }\n",
              "  "
            ]
          },
          "metadata": {}
        },
        {
          "output_type": "display_data",
          "data": {
            "text/plain": [
              "<IPython.core.display.Javascript object>"
            ],
            "application/javascript": [
              "\n",
              "  async function showImage(name, image, width, height) {\n",
              "    img = document.getElementById(name);\n",
              "    if(img == null) {\n",
              "      img = document.createElement('img');\n",
              "      img.id = name;\n",
              "      document.body.appendChild(img);\n",
              "    }\n",
              "    img.src = image;\n",
              "    img.width = width;\n",
              "    img.height = height;\n",
              "  }\n",
              "  "
            ]
          },
          "metadata": {}
        },
        {
          "output_type": "display_data",
          "data": {
            "text/plain": [
              "<IPython.core.display.Javascript object>"
            ],
            "application/javascript": [
              "\n",
              "  async function showImage(name, image, width, height) {\n",
              "    img = document.getElementById(name);\n",
              "    if(img == null) {\n",
              "      img = document.createElement('img');\n",
              "      img.id = name;\n",
              "      document.body.appendChild(img);\n",
              "    }\n",
              "    img.src = image;\n",
              "    img.width = width;\n",
              "    img.height = height;\n",
              "  }\n",
              "  "
            ]
          },
          "metadata": {}
        },
        {
          "output_type": "display_data",
          "data": {
            "text/plain": [
              "<IPython.core.display.Javascript object>"
            ],
            "application/javascript": [
              "\n",
              "  async function showImage(name, image, width, height) {\n",
              "    img = document.getElementById(name);\n",
              "    if(img == null) {\n",
              "      img = document.createElement('img');\n",
              "      img.id = name;\n",
              "      document.body.appendChild(img);\n",
              "    }\n",
              "    img.src = image;\n",
              "    img.width = width;\n",
              "    img.height = height;\n",
              "  }\n",
              "  "
            ]
          },
          "metadata": {}
        },
        {
          "output_type": "display_data",
          "data": {
            "text/plain": [
              "<IPython.core.display.Javascript object>"
            ],
            "application/javascript": [
              "\n",
              "  async function showImage(name, image, width, height) {\n",
              "    img = document.getElementById(name);\n",
              "    if(img == null) {\n",
              "      img = document.createElement('img');\n",
              "      img.id = name;\n",
              "      document.body.appendChild(img);\n",
              "    }\n",
              "    img.src = image;\n",
              "    img.width = width;\n",
              "    img.height = height;\n",
              "  }\n",
              "  "
            ]
          },
          "metadata": {}
        },
        {
          "output_type": "display_data",
          "data": {
            "text/plain": [
              "<IPython.core.display.Javascript object>"
            ],
            "application/javascript": [
              "\n",
              "  async function showImage(name, image, width, height) {\n",
              "    img = document.getElementById(name);\n",
              "    if(img == null) {\n",
              "      img = document.createElement('img');\n",
              "      img.id = name;\n",
              "      document.body.appendChild(img);\n",
              "    }\n",
              "    img.src = image;\n",
              "    img.width = width;\n",
              "    img.height = height;\n",
              "  }\n",
              "  "
            ]
          },
          "metadata": {}
        },
        {
          "output_type": "display_data",
          "data": {
            "text/plain": [
              "<IPython.core.display.Javascript object>"
            ],
            "application/javascript": [
              "\n",
              "  async function showImage(name, image, width, height) {\n",
              "    img = document.getElementById(name);\n",
              "    if(img == null) {\n",
              "      img = document.createElement('img');\n",
              "      img.id = name;\n",
              "      document.body.appendChild(img);\n",
              "    }\n",
              "    img.src = image;\n",
              "    img.width = width;\n",
              "    img.height = height;\n",
              "  }\n",
              "  "
            ]
          },
          "metadata": {}
        },
        {
          "output_type": "display_data",
          "data": {
            "text/plain": [
              "<IPython.core.display.Javascript object>"
            ],
            "application/javascript": [
              "\n",
              "  async function showImage(name, image, width, height) {\n",
              "    img = document.getElementById(name);\n",
              "    if(img == null) {\n",
              "      img = document.createElement('img');\n",
              "      img.id = name;\n",
              "      document.body.appendChild(img);\n",
              "    }\n",
              "    img.src = image;\n",
              "    img.width = width;\n",
              "    img.height = height;\n",
              "  }\n",
              "  "
            ]
          },
          "metadata": {}
        },
        {
          "output_type": "display_data",
          "data": {
            "text/plain": [
              "<IPython.core.display.Javascript object>"
            ],
            "application/javascript": [
              "\n",
              "  async function showImage(name, image, width, height) {\n",
              "    img = document.getElementById(name);\n",
              "    if(img == null) {\n",
              "      img = document.createElement('img');\n",
              "      img.id = name;\n",
              "      document.body.appendChild(img);\n",
              "    }\n",
              "    img.src = image;\n",
              "    img.width = width;\n",
              "    img.height = height;\n",
              "  }\n",
              "  "
            ]
          },
          "metadata": {}
        },
        {
          "output_type": "display_data",
          "data": {
            "text/plain": [
              "<IPython.core.display.Javascript object>"
            ],
            "application/javascript": [
              "\n",
              "  async function showImage(name, image, width, height) {\n",
              "    img = document.getElementById(name);\n",
              "    if(img == null) {\n",
              "      img = document.createElement('img');\n",
              "      img.id = name;\n",
              "      document.body.appendChild(img);\n",
              "    }\n",
              "    img.src = image;\n",
              "    img.width = width;\n",
              "    img.height = height;\n",
              "  }\n",
              "  "
            ]
          },
          "metadata": {}
        },
        {
          "output_type": "display_data",
          "data": {
            "text/plain": [
              "<IPython.core.display.Javascript object>"
            ],
            "application/javascript": [
              "\n",
              "  async function showImage(name, image, width, height) {\n",
              "    img = document.getElementById(name);\n",
              "    if(img == null) {\n",
              "      img = document.createElement('img');\n",
              "      img.id = name;\n",
              "      document.body.appendChild(img);\n",
              "    }\n",
              "    img.src = image;\n",
              "    img.width = width;\n",
              "    img.height = height;\n",
              "  }\n",
              "  "
            ]
          },
          "metadata": {}
        },
        {
          "output_type": "display_data",
          "data": {
            "text/plain": [
              "<IPython.core.display.Javascript object>"
            ],
            "application/javascript": [
              "\n",
              "  async function showImage(name, image, width, height) {\n",
              "    img = document.getElementById(name);\n",
              "    if(img == null) {\n",
              "      img = document.createElement('img');\n",
              "      img.id = name;\n",
              "      document.body.appendChild(img);\n",
              "    }\n",
              "    img.src = image;\n",
              "    img.width = width;\n",
              "    img.height = height;\n",
              "  }\n",
              "  "
            ]
          },
          "metadata": {}
        },
        {
          "output_type": "display_data",
          "data": {
            "text/plain": [
              "<IPython.core.display.Javascript object>"
            ],
            "application/javascript": [
              "\n",
              "  async function showImage(name, image, width, height) {\n",
              "    img = document.getElementById(name);\n",
              "    if(img == null) {\n",
              "      img = document.createElement('img');\n",
              "      img.id = name;\n",
              "      document.body.appendChild(img);\n",
              "    }\n",
              "    img.src = image;\n",
              "    img.width = width;\n",
              "    img.height = height;\n",
              "  }\n",
              "  "
            ]
          },
          "metadata": {}
        },
        {
          "output_type": "display_data",
          "data": {
            "text/plain": [
              "<IPython.core.display.Javascript object>"
            ],
            "application/javascript": [
              "\n",
              "  async function showImage(name, image, width, height) {\n",
              "    img = document.getElementById(name);\n",
              "    if(img == null) {\n",
              "      img = document.createElement('img');\n",
              "      img.id = name;\n",
              "      document.body.appendChild(img);\n",
              "    }\n",
              "    img.src = image;\n",
              "    img.width = width;\n",
              "    img.height = height;\n",
              "  }\n",
              "  "
            ]
          },
          "metadata": {}
        },
        {
          "output_type": "display_data",
          "data": {
            "text/plain": [
              "<IPython.core.display.Javascript object>"
            ],
            "application/javascript": [
              "\n",
              "  async function showImage(name, image, width, height) {\n",
              "    img = document.getElementById(name);\n",
              "    if(img == null) {\n",
              "      img = document.createElement('img');\n",
              "      img.id = name;\n",
              "      document.body.appendChild(img);\n",
              "    }\n",
              "    img.src = image;\n",
              "    img.width = width;\n",
              "    img.height = height;\n",
              "  }\n",
              "  "
            ]
          },
          "metadata": {}
        },
        {
          "output_type": "display_data",
          "data": {
            "text/plain": [
              "<IPython.core.display.Javascript object>"
            ],
            "application/javascript": [
              "\n",
              "  async function showImage(name, image, width, height) {\n",
              "    img = document.getElementById(name);\n",
              "    if(img == null) {\n",
              "      img = document.createElement('img');\n",
              "      img.id = name;\n",
              "      document.body.appendChild(img);\n",
              "    }\n",
              "    img.src = image;\n",
              "    img.width = width;\n",
              "    img.height = height;\n",
              "  }\n",
              "  "
            ]
          },
          "metadata": {}
        },
        {
          "output_type": "display_data",
          "data": {
            "text/plain": [
              "<IPython.core.display.Javascript object>"
            ],
            "application/javascript": [
              "\n",
              "  async function showImage(name, image, width, height) {\n",
              "    img = document.getElementById(name);\n",
              "    if(img == null) {\n",
              "      img = document.createElement('img');\n",
              "      img.id = name;\n",
              "      document.body.appendChild(img);\n",
              "    }\n",
              "    img.src = image;\n",
              "    img.width = width;\n",
              "    img.height = height;\n",
              "  }\n",
              "  "
            ]
          },
          "metadata": {}
        },
        {
          "output_type": "display_data",
          "data": {
            "text/plain": [
              "<IPython.core.display.Javascript object>"
            ],
            "application/javascript": [
              "\n",
              "  async function showImage(name, image, width, height) {\n",
              "    img = document.getElementById(name);\n",
              "    if(img == null) {\n",
              "      img = document.createElement('img');\n",
              "      img.id = name;\n",
              "      document.body.appendChild(img);\n",
              "    }\n",
              "    img.src = image;\n",
              "    img.width = width;\n",
              "    img.height = height;\n",
              "  }\n",
              "  "
            ]
          },
          "metadata": {}
        },
        {
          "output_type": "display_data",
          "data": {
            "text/plain": [
              "<IPython.core.display.Javascript object>"
            ],
            "application/javascript": [
              "\n",
              "  async function showImage(name, image, width, height) {\n",
              "    img = document.getElementById(name);\n",
              "    if(img == null) {\n",
              "      img = document.createElement('img');\n",
              "      img.id = name;\n",
              "      document.body.appendChild(img);\n",
              "    }\n",
              "    img.src = image;\n",
              "    img.width = width;\n",
              "    img.height = height;\n",
              "  }\n",
              "  "
            ]
          },
          "metadata": {}
        },
        {
          "output_type": "display_data",
          "data": {
            "text/plain": [
              "<IPython.core.display.Javascript object>"
            ],
            "application/javascript": [
              "\n",
              "  async function showImage(name, image, width, height) {\n",
              "    img = document.getElementById(name);\n",
              "    if(img == null) {\n",
              "      img = document.createElement('img');\n",
              "      img.id = name;\n",
              "      document.body.appendChild(img);\n",
              "    }\n",
              "    img.src = image;\n",
              "    img.width = width;\n",
              "    img.height = height;\n",
              "  }\n",
              "  "
            ]
          },
          "metadata": {}
        },
        {
          "output_type": "display_data",
          "data": {
            "text/plain": [
              "<IPython.core.display.Javascript object>"
            ],
            "application/javascript": [
              "\n",
              "  async function showImage(name, image, width, height) {\n",
              "    img = document.getElementById(name);\n",
              "    if(img == null) {\n",
              "      img = document.createElement('img');\n",
              "      img.id = name;\n",
              "      document.body.appendChild(img);\n",
              "    }\n",
              "    img.src = image;\n",
              "    img.width = width;\n",
              "    img.height = height;\n",
              "  }\n",
              "  "
            ]
          },
          "metadata": {}
        },
        {
          "output_type": "display_data",
          "data": {
            "text/plain": [
              "<IPython.core.display.Javascript object>"
            ],
            "application/javascript": [
              "\n",
              "  async function showImage(name, image, width, height) {\n",
              "    img = document.getElementById(name);\n",
              "    if(img == null) {\n",
              "      img = document.createElement('img');\n",
              "      img.id = name;\n",
              "      document.body.appendChild(img);\n",
              "    }\n",
              "    img.src = image;\n",
              "    img.width = width;\n",
              "    img.height = height;\n",
              "  }\n",
              "  "
            ]
          },
          "metadata": {}
        },
        {
          "output_type": "display_data",
          "data": {
            "text/plain": [
              "<IPython.core.display.Javascript object>"
            ],
            "application/javascript": [
              "\n",
              "  async function showImage(name, image, width, height) {\n",
              "    img = document.getElementById(name);\n",
              "    if(img == null) {\n",
              "      img = document.createElement('img');\n",
              "      img.id = name;\n",
              "      document.body.appendChild(img);\n",
              "    }\n",
              "    img.src = image;\n",
              "    img.width = width;\n",
              "    img.height = height;\n",
              "  }\n",
              "  "
            ]
          },
          "metadata": {}
        },
        {
          "output_type": "display_data",
          "data": {
            "text/plain": [
              "<IPython.core.display.Javascript object>"
            ],
            "application/javascript": [
              "\n",
              "  async function showImage(name, image, width, height) {\n",
              "    img = document.getElementById(name);\n",
              "    if(img == null) {\n",
              "      img = document.createElement('img');\n",
              "      img.id = name;\n",
              "      document.body.appendChild(img);\n",
              "    }\n",
              "    img.src = image;\n",
              "    img.width = width;\n",
              "    img.height = height;\n",
              "  }\n",
              "  "
            ]
          },
          "metadata": {}
        },
        {
          "output_type": "display_data",
          "data": {
            "text/plain": [
              "<IPython.core.display.Javascript object>"
            ],
            "application/javascript": [
              "\n",
              "  async function showImage(name, image, width, height) {\n",
              "    img = document.getElementById(name);\n",
              "    if(img == null) {\n",
              "      img = document.createElement('img');\n",
              "      img.id = name;\n",
              "      document.body.appendChild(img);\n",
              "    }\n",
              "    img.src = image;\n",
              "    img.width = width;\n",
              "    img.height = height;\n",
              "  }\n",
              "  "
            ]
          },
          "metadata": {}
        },
        {
          "output_type": "display_data",
          "data": {
            "text/plain": [
              "<IPython.core.display.Javascript object>"
            ],
            "application/javascript": [
              "\n",
              "  async function showImage(name, image, width, height) {\n",
              "    img = document.getElementById(name);\n",
              "    if(img == null) {\n",
              "      img = document.createElement('img');\n",
              "      img.id = name;\n",
              "      document.body.appendChild(img);\n",
              "    }\n",
              "    img.src = image;\n",
              "    img.width = width;\n",
              "    img.height = height;\n",
              "  }\n",
              "  "
            ]
          },
          "metadata": {}
        },
        {
          "output_type": "display_data",
          "data": {
            "text/plain": [
              "<IPython.core.display.Javascript object>"
            ],
            "application/javascript": [
              "\n",
              "  async function showImage(name, image, width, height) {\n",
              "    img = document.getElementById(name);\n",
              "    if(img == null) {\n",
              "      img = document.createElement('img');\n",
              "      img.id = name;\n",
              "      document.body.appendChild(img);\n",
              "    }\n",
              "    img.src = image;\n",
              "    img.width = width;\n",
              "    img.height = height;\n",
              "  }\n",
              "  "
            ]
          },
          "metadata": {}
        },
        {
          "output_type": "display_data",
          "data": {
            "text/plain": [
              "<IPython.core.display.Javascript object>"
            ],
            "application/javascript": [
              "\n",
              "  async function showImage(name, image, width, height) {\n",
              "    img = document.getElementById(name);\n",
              "    if(img == null) {\n",
              "      img = document.createElement('img');\n",
              "      img.id = name;\n",
              "      document.body.appendChild(img);\n",
              "    }\n",
              "    img.src = image;\n",
              "    img.width = width;\n",
              "    img.height = height;\n",
              "  }\n",
              "  "
            ]
          },
          "metadata": {}
        },
        {
          "output_type": "display_data",
          "data": {
            "text/plain": [
              "<IPython.core.display.Javascript object>"
            ],
            "application/javascript": [
              "\n",
              "  async function showImage(name, image, width, height) {\n",
              "    img = document.getElementById(name);\n",
              "    if(img == null) {\n",
              "      img = document.createElement('img');\n",
              "      img.id = name;\n",
              "      document.body.appendChild(img);\n",
              "    }\n",
              "    img.src = image;\n",
              "    img.width = width;\n",
              "    img.height = height;\n",
              "  }\n",
              "  "
            ]
          },
          "metadata": {}
        },
        {
          "output_type": "display_data",
          "data": {
            "text/plain": [
              "<IPython.core.display.Javascript object>"
            ],
            "application/javascript": [
              "\n",
              "  async function showImage(name, image, width, height) {\n",
              "    img = document.getElementById(name);\n",
              "    if(img == null) {\n",
              "      img = document.createElement('img');\n",
              "      img.id = name;\n",
              "      document.body.appendChild(img);\n",
              "    }\n",
              "    img.src = image;\n",
              "    img.width = width;\n",
              "    img.height = height;\n",
              "  }\n",
              "  "
            ]
          },
          "metadata": {}
        },
        {
          "output_type": "display_data",
          "data": {
            "text/plain": [
              "<IPython.core.display.Javascript object>"
            ],
            "application/javascript": [
              "\n",
              "  async function showImage(name, image, width, height) {\n",
              "    img = document.getElementById(name);\n",
              "    if(img == null) {\n",
              "      img = document.createElement('img');\n",
              "      img.id = name;\n",
              "      document.body.appendChild(img);\n",
              "    }\n",
              "    img.src = image;\n",
              "    img.width = width;\n",
              "    img.height = height;\n",
              "  }\n",
              "  "
            ]
          },
          "metadata": {}
        },
        {
          "output_type": "display_data",
          "data": {
            "text/plain": [
              "<IPython.core.display.Javascript object>"
            ],
            "application/javascript": [
              "\n",
              "  async function showImage(name, image, width, height) {\n",
              "    img = document.getElementById(name);\n",
              "    if(img == null) {\n",
              "      img = document.createElement('img');\n",
              "      img.id = name;\n",
              "      document.body.appendChild(img);\n",
              "    }\n",
              "    img.src = image;\n",
              "    img.width = width;\n",
              "    img.height = height;\n",
              "  }\n",
              "  "
            ]
          },
          "metadata": {}
        },
        {
          "output_type": "display_data",
          "data": {
            "text/plain": [
              "<IPython.core.display.Javascript object>"
            ],
            "application/javascript": [
              "\n",
              "  async function showImage(name, image, width, height) {\n",
              "    img = document.getElementById(name);\n",
              "    if(img == null) {\n",
              "      img = document.createElement('img');\n",
              "      img.id = name;\n",
              "      document.body.appendChild(img);\n",
              "    }\n",
              "    img.src = image;\n",
              "    img.width = width;\n",
              "    img.height = height;\n",
              "  }\n",
              "  "
            ]
          },
          "metadata": {}
        },
        {
          "output_type": "display_data",
          "data": {
            "text/plain": [
              "<IPython.core.display.Javascript object>"
            ],
            "application/javascript": [
              "\n",
              "  async function showImage(name, image, width, height) {\n",
              "    img = document.getElementById(name);\n",
              "    if(img == null) {\n",
              "      img = document.createElement('img');\n",
              "      img.id = name;\n",
              "      document.body.appendChild(img);\n",
              "    }\n",
              "    img.src = image;\n",
              "    img.width = width;\n",
              "    img.height = height;\n",
              "  }\n",
              "  "
            ]
          },
          "metadata": {}
        },
        {
          "output_type": "display_data",
          "data": {
            "text/plain": [
              "<IPython.core.display.Javascript object>"
            ],
            "application/javascript": [
              "\n",
              "  async function showImage(name, image, width, height) {\n",
              "    img = document.getElementById(name);\n",
              "    if(img == null) {\n",
              "      img = document.createElement('img');\n",
              "      img.id = name;\n",
              "      document.body.appendChild(img);\n",
              "    }\n",
              "    img.src = image;\n",
              "    img.width = width;\n",
              "    img.height = height;\n",
              "  }\n",
              "  "
            ]
          },
          "metadata": {}
        },
        {
          "output_type": "display_data",
          "data": {
            "text/plain": [
              "<IPython.core.display.Javascript object>"
            ],
            "application/javascript": [
              "\n",
              "  async function showImage(name, image, width, height) {\n",
              "    img = document.getElementById(name);\n",
              "    if(img == null) {\n",
              "      img = document.createElement('img');\n",
              "      img.id = name;\n",
              "      document.body.appendChild(img);\n",
              "    }\n",
              "    img.src = image;\n",
              "    img.width = width;\n",
              "    img.height = height;\n",
              "  }\n",
              "  "
            ]
          },
          "metadata": {}
        },
        {
          "output_type": "display_data",
          "data": {
            "text/plain": [
              "<IPython.core.display.Javascript object>"
            ],
            "application/javascript": [
              "\n",
              "  async function showImage(name, image, width, height) {\n",
              "    img = document.getElementById(name);\n",
              "    if(img == null) {\n",
              "      img = document.createElement('img');\n",
              "      img.id = name;\n",
              "      document.body.appendChild(img);\n",
              "    }\n",
              "    img.src = image;\n",
              "    img.width = width;\n",
              "    img.height = height;\n",
              "  }\n",
              "  "
            ]
          },
          "metadata": {}
        },
        {
          "output_type": "display_data",
          "data": {
            "text/plain": [
              "<IPython.core.display.Javascript object>"
            ],
            "application/javascript": [
              "\n",
              "  async function showImage(name, image, width, height) {\n",
              "    img = document.getElementById(name);\n",
              "    if(img == null) {\n",
              "      img = document.createElement('img');\n",
              "      img.id = name;\n",
              "      document.body.appendChild(img);\n",
              "    }\n",
              "    img.src = image;\n",
              "    img.width = width;\n",
              "    img.height = height;\n",
              "  }\n",
              "  "
            ]
          },
          "metadata": {}
        },
        {
          "output_type": "display_data",
          "data": {
            "text/plain": [
              "<IPython.core.display.Javascript object>"
            ],
            "application/javascript": [
              "\n",
              "  async function showImage(name, image, width, height) {\n",
              "    img = document.getElementById(name);\n",
              "    if(img == null) {\n",
              "      img = document.createElement('img');\n",
              "      img.id = name;\n",
              "      document.body.appendChild(img);\n",
              "    }\n",
              "    img.src = image;\n",
              "    img.width = width;\n",
              "    img.height = height;\n",
              "  }\n",
              "  "
            ]
          },
          "metadata": {}
        },
        {
          "output_type": "display_data",
          "data": {
            "text/plain": [
              "<IPython.core.display.Javascript object>"
            ],
            "application/javascript": [
              "\n",
              "  async function showImage(name, image, width, height) {\n",
              "    img = document.getElementById(name);\n",
              "    if(img == null) {\n",
              "      img = document.createElement('img');\n",
              "      img.id = name;\n",
              "      document.body.appendChild(img);\n",
              "    }\n",
              "    img.src = image;\n",
              "    img.width = width;\n",
              "    img.height = height;\n",
              "  }\n",
              "  "
            ]
          },
          "metadata": {}
        },
        {
          "output_type": "display_data",
          "data": {
            "text/plain": [
              "<IPython.core.display.Javascript object>"
            ],
            "application/javascript": [
              "\n",
              "  async function showImage(name, image, width, height) {\n",
              "    img = document.getElementById(name);\n",
              "    if(img == null) {\n",
              "      img = document.createElement('img');\n",
              "      img.id = name;\n",
              "      document.body.appendChild(img);\n",
              "    }\n",
              "    img.src = image;\n",
              "    img.width = width;\n",
              "    img.height = height;\n",
              "  }\n",
              "  "
            ]
          },
          "metadata": {}
        },
        {
          "output_type": "display_data",
          "data": {
            "text/plain": [
              "<IPython.core.display.Javascript object>"
            ],
            "application/javascript": [
              "\n",
              "  async function showImage(name, image, width, height) {\n",
              "    img = document.getElementById(name);\n",
              "    if(img == null) {\n",
              "      img = document.createElement('img');\n",
              "      img.id = name;\n",
              "      document.body.appendChild(img);\n",
              "    }\n",
              "    img.src = image;\n",
              "    img.width = width;\n",
              "    img.height = height;\n",
              "  }\n",
              "  "
            ]
          },
          "metadata": {}
        },
        {
          "output_type": "display_data",
          "data": {
            "text/plain": [
              "<IPython.core.display.Javascript object>"
            ],
            "application/javascript": [
              "\n",
              "  async function showImage(name, image, width, height) {\n",
              "    img = document.getElementById(name);\n",
              "    if(img == null) {\n",
              "      img = document.createElement('img');\n",
              "      img.id = name;\n",
              "      document.body.appendChild(img);\n",
              "    }\n",
              "    img.src = image;\n",
              "    img.width = width;\n",
              "    img.height = height;\n",
              "  }\n",
              "  "
            ]
          },
          "metadata": {}
        },
        {
          "output_type": "display_data",
          "data": {
            "text/plain": [
              "<IPython.core.display.Javascript object>"
            ],
            "application/javascript": [
              "\n",
              "  async function showImage(name, image, width, height) {\n",
              "    img = document.getElementById(name);\n",
              "    if(img == null) {\n",
              "      img = document.createElement('img');\n",
              "      img.id = name;\n",
              "      document.body.appendChild(img);\n",
              "    }\n",
              "    img.src = image;\n",
              "    img.width = width;\n",
              "    img.height = height;\n",
              "  }\n",
              "  "
            ]
          },
          "metadata": {}
        },
        {
          "output_type": "display_data",
          "data": {
            "text/plain": [
              "<IPython.core.display.Javascript object>"
            ],
            "application/javascript": [
              "\n",
              "  async function showImage(name, image, width, height) {\n",
              "    img = document.getElementById(name);\n",
              "    if(img == null) {\n",
              "      img = document.createElement('img');\n",
              "      img.id = name;\n",
              "      document.body.appendChild(img);\n",
              "    }\n",
              "    img.src = image;\n",
              "    img.width = width;\n",
              "    img.height = height;\n",
              "  }\n",
              "  "
            ]
          },
          "metadata": {}
        },
        {
          "output_type": "display_data",
          "data": {
            "text/plain": [
              "<IPython.core.display.Javascript object>"
            ],
            "application/javascript": [
              "\n",
              "  async function showImage(name, image, width, height) {\n",
              "    img = document.getElementById(name);\n",
              "    if(img == null) {\n",
              "      img = document.createElement('img');\n",
              "      img.id = name;\n",
              "      document.body.appendChild(img);\n",
              "    }\n",
              "    img.src = image;\n",
              "    img.width = width;\n",
              "    img.height = height;\n",
              "  }\n",
              "  "
            ]
          },
          "metadata": {}
        },
        {
          "output_type": "display_data",
          "data": {
            "text/plain": [
              "<IPython.core.display.Javascript object>"
            ],
            "application/javascript": [
              "\n",
              "  async function showImage(name, image, width, height) {\n",
              "    img = document.getElementById(name);\n",
              "    if(img == null) {\n",
              "      img = document.createElement('img');\n",
              "      img.id = name;\n",
              "      document.body.appendChild(img);\n",
              "    }\n",
              "    img.src = image;\n",
              "    img.width = width;\n",
              "    img.height = height;\n",
              "  }\n",
              "  "
            ]
          },
          "metadata": {}
        },
        {
          "output_type": "display_data",
          "data": {
            "text/plain": [
              "<IPython.core.display.Javascript object>"
            ],
            "application/javascript": [
              "\n",
              "  async function showImage(name, image, width, height) {\n",
              "    img = document.getElementById(name);\n",
              "    if(img == null) {\n",
              "      img = document.createElement('img');\n",
              "      img.id = name;\n",
              "      document.body.appendChild(img);\n",
              "    }\n",
              "    img.src = image;\n",
              "    img.width = width;\n",
              "    img.height = height;\n",
              "  }\n",
              "  "
            ]
          },
          "metadata": {}
        },
        {
          "output_type": "display_data",
          "data": {
            "text/plain": [
              "<IPython.core.display.Javascript object>"
            ],
            "application/javascript": [
              "\n",
              "  async function showImage(name, image, width, height) {\n",
              "    img = document.getElementById(name);\n",
              "    if(img == null) {\n",
              "      img = document.createElement('img');\n",
              "      img.id = name;\n",
              "      document.body.appendChild(img);\n",
              "    }\n",
              "    img.src = image;\n",
              "    img.width = width;\n",
              "    img.height = height;\n",
              "  }\n",
              "  "
            ]
          },
          "metadata": {}
        },
        {
          "output_type": "display_data",
          "data": {
            "text/plain": [
              "<IPython.core.display.Javascript object>"
            ],
            "application/javascript": [
              "\n",
              "  async function showImage(name, image, width, height) {\n",
              "    img = document.getElementById(name);\n",
              "    if(img == null) {\n",
              "      img = document.createElement('img');\n",
              "      img.id = name;\n",
              "      document.body.appendChild(img);\n",
              "    }\n",
              "    img.src = image;\n",
              "    img.width = width;\n",
              "    img.height = height;\n",
              "  }\n",
              "  "
            ]
          },
          "metadata": {}
        },
        {
          "output_type": "display_data",
          "data": {
            "text/plain": [
              "<IPython.core.display.Javascript object>"
            ],
            "application/javascript": [
              "\n",
              "  async function showImage(name, image, width, height) {\n",
              "    img = document.getElementById(name);\n",
              "    if(img == null) {\n",
              "      img = document.createElement('img');\n",
              "      img.id = name;\n",
              "      document.body.appendChild(img);\n",
              "    }\n",
              "    img.src = image;\n",
              "    img.width = width;\n",
              "    img.height = height;\n",
              "  }\n",
              "  "
            ]
          },
          "metadata": {}
        },
        {
          "output_type": "display_data",
          "data": {
            "text/plain": [
              "<IPython.core.display.Javascript object>"
            ],
            "application/javascript": [
              "\n",
              "  async function showImage(name, image, width, height) {\n",
              "    img = document.getElementById(name);\n",
              "    if(img == null) {\n",
              "      img = document.createElement('img');\n",
              "      img.id = name;\n",
              "      document.body.appendChild(img);\n",
              "    }\n",
              "    img.src = image;\n",
              "    img.width = width;\n",
              "    img.height = height;\n",
              "  }\n",
              "  "
            ]
          },
          "metadata": {}
        },
        {
          "output_type": "display_data",
          "data": {
            "text/plain": [
              "<IPython.core.display.Javascript object>"
            ],
            "application/javascript": [
              "\n",
              "  async function showImage(name, image, width, height) {\n",
              "    img = document.getElementById(name);\n",
              "    if(img == null) {\n",
              "      img = document.createElement('img');\n",
              "      img.id = name;\n",
              "      document.body.appendChild(img);\n",
              "    }\n",
              "    img.src = image;\n",
              "    img.width = width;\n",
              "    img.height = height;\n",
              "  }\n",
              "  "
            ]
          },
          "metadata": {}
        },
        {
          "output_type": "display_data",
          "data": {
            "text/plain": [
              "<IPython.core.display.Javascript object>"
            ],
            "application/javascript": [
              "\n",
              "  async function showImage(name, image, width, height) {\n",
              "    img = document.getElementById(name);\n",
              "    if(img == null) {\n",
              "      img = document.createElement('img');\n",
              "      img.id = name;\n",
              "      document.body.appendChild(img);\n",
              "    }\n",
              "    img.src = image;\n",
              "    img.width = width;\n",
              "    img.height = height;\n",
              "  }\n",
              "  "
            ]
          },
          "metadata": {}
        },
        {
          "output_type": "display_data",
          "data": {
            "text/plain": [
              "<IPython.core.display.Javascript object>"
            ],
            "application/javascript": [
              "\n",
              "  async function showImage(name, image, width, height) {\n",
              "    img = document.getElementById(name);\n",
              "    if(img == null) {\n",
              "      img = document.createElement('img');\n",
              "      img.id = name;\n",
              "      document.body.appendChild(img);\n",
              "    }\n",
              "    img.src = image;\n",
              "    img.width = width;\n",
              "    img.height = height;\n",
              "  }\n",
              "  "
            ]
          },
          "metadata": {}
        },
        {
          "output_type": "display_data",
          "data": {
            "text/plain": [
              "<IPython.core.display.Javascript object>"
            ],
            "application/javascript": [
              "\n",
              "  async function showImage(name, image, width, height) {\n",
              "    img = document.getElementById(name);\n",
              "    if(img == null) {\n",
              "      img = document.createElement('img');\n",
              "      img.id = name;\n",
              "      document.body.appendChild(img);\n",
              "    }\n",
              "    img.src = image;\n",
              "    img.width = width;\n",
              "    img.height = height;\n",
              "  }\n",
              "  "
            ]
          },
          "metadata": {}
        },
        {
          "output_type": "display_data",
          "data": {
            "text/plain": [
              "<IPython.core.display.Javascript object>"
            ],
            "application/javascript": [
              "\n",
              "  async function showImage(name, image, width, height) {\n",
              "    img = document.getElementById(name);\n",
              "    if(img == null) {\n",
              "      img = document.createElement('img');\n",
              "      img.id = name;\n",
              "      document.body.appendChild(img);\n",
              "    }\n",
              "    img.src = image;\n",
              "    img.width = width;\n",
              "    img.height = height;\n",
              "  }\n",
              "  "
            ]
          },
          "metadata": {}
        },
        {
          "output_type": "display_data",
          "data": {
            "text/plain": [
              "<IPython.core.display.Javascript object>"
            ],
            "application/javascript": [
              "\n",
              "  async function showImage(name, image, width, height) {\n",
              "    img = document.getElementById(name);\n",
              "    if(img == null) {\n",
              "      img = document.createElement('img');\n",
              "      img.id = name;\n",
              "      document.body.appendChild(img);\n",
              "    }\n",
              "    img.src = image;\n",
              "    img.width = width;\n",
              "    img.height = height;\n",
              "  }\n",
              "  "
            ]
          },
          "metadata": {}
        },
        {
          "output_type": "display_data",
          "data": {
            "text/plain": [
              "<IPython.core.display.Javascript object>"
            ],
            "application/javascript": [
              "\n",
              "  async function showImage(name, image, width, height) {\n",
              "    img = document.getElementById(name);\n",
              "    if(img == null) {\n",
              "      img = document.createElement('img');\n",
              "      img.id = name;\n",
              "      document.body.appendChild(img);\n",
              "    }\n",
              "    img.src = image;\n",
              "    img.width = width;\n",
              "    img.height = height;\n",
              "  }\n",
              "  "
            ]
          },
          "metadata": {}
        },
        {
          "output_type": "display_data",
          "data": {
            "text/plain": [
              "<IPython.core.display.Javascript object>"
            ],
            "application/javascript": [
              "\n",
              "  async function showImage(name, image, width, height) {\n",
              "    img = document.getElementById(name);\n",
              "    if(img == null) {\n",
              "      img = document.createElement('img');\n",
              "      img.id = name;\n",
              "      document.body.appendChild(img);\n",
              "    }\n",
              "    img.src = image;\n",
              "    img.width = width;\n",
              "    img.height = height;\n",
              "  }\n",
              "  "
            ]
          },
          "metadata": {}
        },
        {
          "output_type": "display_data",
          "data": {
            "text/plain": [
              "<IPython.core.display.Javascript object>"
            ],
            "application/javascript": [
              "\n",
              "  async function showImage(name, image, width, height) {\n",
              "    img = document.getElementById(name);\n",
              "    if(img == null) {\n",
              "      img = document.createElement('img');\n",
              "      img.id = name;\n",
              "      document.body.appendChild(img);\n",
              "    }\n",
              "    img.src = image;\n",
              "    img.width = width;\n",
              "    img.height = height;\n",
              "  }\n",
              "  "
            ]
          },
          "metadata": {}
        },
        {
          "output_type": "display_data",
          "data": {
            "text/plain": [
              "<IPython.core.display.Javascript object>"
            ],
            "application/javascript": [
              "\n",
              "  async function showImage(name, image, width, height) {\n",
              "    img = document.getElementById(name);\n",
              "    if(img == null) {\n",
              "      img = document.createElement('img');\n",
              "      img.id = name;\n",
              "      document.body.appendChild(img);\n",
              "    }\n",
              "    img.src = image;\n",
              "    img.width = width;\n",
              "    img.height = height;\n",
              "  }\n",
              "  "
            ]
          },
          "metadata": {}
        },
        {
          "output_type": "display_data",
          "data": {
            "text/plain": [
              "<IPython.core.display.Javascript object>"
            ],
            "application/javascript": [
              "\n",
              "  async function showImage(name, image, width, height) {\n",
              "    img = document.getElementById(name);\n",
              "    if(img == null) {\n",
              "      img = document.createElement('img');\n",
              "      img.id = name;\n",
              "      document.body.appendChild(img);\n",
              "    }\n",
              "    img.src = image;\n",
              "    img.width = width;\n",
              "    img.height = height;\n",
              "  }\n",
              "  "
            ]
          },
          "metadata": {}
        },
        {
          "output_type": "display_data",
          "data": {
            "text/plain": [
              "<IPython.core.display.Javascript object>"
            ],
            "application/javascript": [
              "\n",
              "  async function showImage(name, image, width, height) {\n",
              "    img = document.getElementById(name);\n",
              "    if(img == null) {\n",
              "      img = document.createElement('img');\n",
              "      img.id = name;\n",
              "      document.body.appendChild(img);\n",
              "    }\n",
              "    img.src = image;\n",
              "    img.width = width;\n",
              "    img.height = height;\n",
              "  }\n",
              "  "
            ]
          },
          "metadata": {}
        },
        {
          "output_type": "display_data",
          "data": {
            "text/plain": [
              "<IPython.core.display.Javascript object>"
            ],
            "application/javascript": [
              "\n",
              "  async function showImage(name, image, width, height) {\n",
              "    img = document.getElementById(name);\n",
              "    if(img == null) {\n",
              "      img = document.createElement('img');\n",
              "      img.id = name;\n",
              "      document.body.appendChild(img);\n",
              "    }\n",
              "    img.src = image;\n",
              "    img.width = width;\n",
              "    img.height = height;\n",
              "  }\n",
              "  "
            ]
          },
          "metadata": {}
        },
        {
          "output_type": "display_data",
          "data": {
            "text/plain": [
              "<IPython.core.display.Javascript object>"
            ],
            "application/javascript": [
              "\n",
              "  async function showImage(name, image, width, height) {\n",
              "    img = document.getElementById(name);\n",
              "    if(img == null) {\n",
              "      img = document.createElement('img');\n",
              "      img.id = name;\n",
              "      document.body.appendChild(img);\n",
              "    }\n",
              "    img.src = image;\n",
              "    img.width = width;\n",
              "    img.height = height;\n",
              "  }\n",
              "  "
            ]
          },
          "metadata": {}
        },
        {
          "output_type": "display_data",
          "data": {
            "text/plain": [
              "<IPython.core.display.Javascript object>"
            ],
            "application/javascript": [
              "\n",
              "  async function showImage(name, image, width, height) {\n",
              "    img = document.getElementById(name);\n",
              "    if(img == null) {\n",
              "      img = document.createElement('img');\n",
              "      img.id = name;\n",
              "      document.body.appendChild(img);\n",
              "    }\n",
              "    img.src = image;\n",
              "    img.width = width;\n",
              "    img.height = height;\n",
              "  }\n",
              "  "
            ]
          },
          "metadata": {}
        },
        {
          "output_type": "display_data",
          "data": {
            "text/plain": [
              "<IPython.core.display.Javascript object>"
            ],
            "application/javascript": [
              "\n",
              "  async function showImage(name, image, width, height) {\n",
              "    img = document.getElementById(name);\n",
              "    if(img == null) {\n",
              "      img = document.createElement('img');\n",
              "      img.id = name;\n",
              "      document.body.appendChild(img);\n",
              "    }\n",
              "    img.src = image;\n",
              "    img.width = width;\n",
              "    img.height = height;\n",
              "  }\n",
              "  "
            ]
          },
          "metadata": {}
        },
        {
          "output_type": "display_data",
          "data": {
            "text/plain": [
              "<IPython.core.display.Javascript object>"
            ],
            "application/javascript": [
              "\n",
              "  async function showImage(name, image, width, height) {\n",
              "    img = document.getElementById(name);\n",
              "    if(img == null) {\n",
              "      img = document.createElement('img');\n",
              "      img.id = name;\n",
              "      document.body.appendChild(img);\n",
              "    }\n",
              "    img.src = image;\n",
              "    img.width = width;\n",
              "    img.height = height;\n",
              "  }\n",
              "  "
            ]
          },
          "metadata": {}
        },
        {
          "output_type": "display_data",
          "data": {
            "text/plain": [
              "<IPython.core.display.Javascript object>"
            ],
            "application/javascript": [
              "\n",
              "  async function showImage(name, image, width, height) {\n",
              "    img = document.getElementById(name);\n",
              "    if(img == null) {\n",
              "      img = document.createElement('img');\n",
              "      img.id = name;\n",
              "      document.body.appendChild(img);\n",
              "    }\n",
              "    img.src = image;\n",
              "    img.width = width;\n",
              "    img.height = height;\n",
              "  }\n",
              "  "
            ]
          },
          "metadata": {}
        },
        {
          "output_type": "display_data",
          "data": {
            "text/plain": [
              "<IPython.core.display.Javascript object>"
            ],
            "application/javascript": [
              "\n",
              "  async function showImage(name, image, width, height) {\n",
              "    img = document.getElementById(name);\n",
              "    if(img == null) {\n",
              "      img = document.createElement('img');\n",
              "      img.id = name;\n",
              "      document.body.appendChild(img);\n",
              "    }\n",
              "    img.src = image;\n",
              "    img.width = width;\n",
              "    img.height = height;\n",
              "  }\n",
              "  "
            ]
          },
          "metadata": {}
        },
        {
          "output_type": "display_data",
          "data": {
            "text/plain": [
              "<IPython.core.display.Javascript object>"
            ],
            "application/javascript": [
              "\n",
              "  async function showImage(name, image, width, height) {\n",
              "    img = document.getElementById(name);\n",
              "    if(img == null) {\n",
              "      img = document.createElement('img');\n",
              "      img.id = name;\n",
              "      document.body.appendChild(img);\n",
              "    }\n",
              "    img.src = image;\n",
              "    img.width = width;\n",
              "    img.height = height;\n",
              "  }\n",
              "  "
            ]
          },
          "metadata": {}
        },
        {
          "output_type": "display_data",
          "data": {
            "text/plain": [
              "<IPython.core.display.Javascript object>"
            ],
            "application/javascript": [
              "\n",
              "  async function showImage(name, image, width, height) {\n",
              "    img = document.getElementById(name);\n",
              "    if(img == null) {\n",
              "      img = document.createElement('img');\n",
              "      img.id = name;\n",
              "      document.body.appendChild(img);\n",
              "    }\n",
              "    img.src = image;\n",
              "    img.width = width;\n",
              "    img.height = height;\n",
              "  }\n",
              "  "
            ]
          },
          "metadata": {}
        },
        {
          "output_type": "display_data",
          "data": {
            "text/plain": [
              "<IPython.core.display.Javascript object>"
            ],
            "application/javascript": [
              "\n",
              "  async function showImage(name, image, width, height) {\n",
              "    img = document.getElementById(name);\n",
              "    if(img == null) {\n",
              "      img = document.createElement('img');\n",
              "      img.id = name;\n",
              "      document.body.appendChild(img);\n",
              "    }\n",
              "    img.src = image;\n",
              "    img.width = width;\n",
              "    img.height = height;\n",
              "  }\n",
              "  "
            ]
          },
          "metadata": {}
        },
        {
          "output_type": "display_data",
          "data": {
            "text/plain": [
              "<IPython.core.display.Javascript object>"
            ],
            "application/javascript": [
              "\n",
              "  async function showImage(name, image, width, height) {\n",
              "    img = document.getElementById(name);\n",
              "    if(img == null) {\n",
              "      img = document.createElement('img');\n",
              "      img.id = name;\n",
              "      document.body.appendChild(img);\n",
              "    }\n",
              "    img.src = image;\n",
              "    img.width = width;\n",
              "    img.height = height;\n",
              "  }\n",
              "  "
            ]
          },
          "metadata": {}
        },
        {
          "output_type": "display_data",
          "data": {
            "text/plain": [
              "<IPython.core.display.Javascript object>"
            ],
            "application/javascript": [
              "\n",
              "  async function showImage(name, image, width, height) {\n",
              "    img = document.getElementById(name);\n",
              "    if(img == null) {\n",
              "      img = document.createElement('img');\n",
              "      img.id = name;\n",
              "      document.body.appendChild(img);\n",
              "    }\n",
              "    img.src = image;\n",
              "    img.width = width;\n",
              "    img.height = height;\n",
              "  }\n",
              "  "
            ]
          },
          "metadata": {}
        },
        {
          "output_type": "display_data",
          "data": {
            "text/plain": [
              "<IPython.core.display.Javascript object>"
            ],
            "application/javascript": [
              "\n",
              "  async function showImage(name, image, width, height) {\n",
              "    img = document.getElementById(name);\n",
              "    if(img == null) {\n",
              "      img = document.createElement('img');\n",
              "      img.id = name;\n",
              "      document.body.appendChild(img);\n",
              "    }\n",
              "    img.src = image;\n",
              "    img.width = width;\n",
              "    img.height = height;\n",
              "  }\n",
              "  "
            ]
          },
          "metadata": {}
        },
        {
          "output_type": "display_data",
          "data": {
            "text/plain": [
              "<IPython.core.display.Javascript object>"
            ],
            "application/javascript": [
              "\n",
              "  async function showImage(name, image, width, height) {\n",
              "    img = document.getElementById(name);\n",
              "    if(img == null) {\n",
              "      img = document.createElement('img');\n",
              "      img.id = name;\n",
              "      document.body.appendChild(img);\n",
              "    }\n",
              "    img.src = image;\n",
              "    img.width = width;\n",
              "    img.height = height;\n",
              "  }\n",
              "  "
            ]
          },
          "metadata": {}
        },
        {
          "output_type": "display_data",
          "data": {
            "text/plain": [
              "<IPython.core.display.Javascript object>"
            ],
            "application/javascript": [
              "\n",
              "  async function showImage(name, image, width, height) {\n",
              "    img = document.getElementById(name);\n",
              "    if(img == null) {\n",
              "      img = document.createElement('img');\n",
              "      img.id = name;\n",
              "      document.body.appendChild(img);\n",
              "    }\n",
              "    img.src = image;\n",
              "    img.width = width;\n",
              "    img.height = height;\n",
              "  }\n",
              "  "
            ]
          },
          "metadata": {}
        },
        {
          "output_type": "display_data",
          "data": {
            "text/plain": [
              "<IPython.core.display.Javascript object>"
            ],
            "application/javascript": [
              "\n",
              "  async function showImage(name, image, width, height) {\n",
              "    img = document.getElementById(name);\n",
              "    if(img == null) {\n",
              "      img = document.createElement('img');\n",
              "      img.id = name;\n",
              "      document.body.appendChild(img);\n",
              "    }\n",
              "    img.src = image;\n",
              "    img.width = width;\n",
              "    img.height = height;\n",
              "  }\n",
              "  "
            ]
          },
          "metadata": {}
        },
        {
          "output_type": "display_data",
          "data": {
            "text/plain": [
              "<IPython.core.display.Javascript object>"
            ],
            "application/javascript": [
              "\n",
              "  async function showImage(name, image, width, height) {\n",
              "    img = document.getElementById(name);\n",
              "    if(img == null) {\n",
              "      img = document.createElement('img');\n",
              "      img.id = name;\n",
              "      document.body.appendChild(img);\n",
              "    }\n",
              "    img.src = image;\n",
              "    img.width = width;\n",
              "    img.height = height;\n",
              "  }\n",
              "  "
            ]
          },
          "metadata": {}
        },
        {
          "output_type": "display_data",
          "data": {
            "text/plain": [
              "<IPython.core.display.Javascript object>"
            ],
            "application/javascript": [
              "\n",
              "  async function showImage(name, image, width, height) {\n",
              "    img = document.getElementById(name);\n",
              "    if(img == null) {\n",
              "      img = document.createElement('img');\n",
              "      img.id = name;\n",
              "      document.body.appendChild(img);\n",
              "    }\n",
              "    img.src = image;\n",
              "    img.width = width;\n",
              "    img.height = height;\n",
              "  }\n",
              "  "
            ]
          },
          "metadata": {}
        },
        {
          "output_type": "display_data",
          "data": {
            "text/plain": [
              "<IPython.core.display.Javascript object>"
            ],
            "application/javascript": [
              "\n",
              "  async function showImage(name, image, width, height) {\n",
              "    img = document.getElementById(name);\n",
              "    if(img == null) {\n",
              "      img = document.createElement('img');\n",
              "      img.id = name;\n",
              "      document.body.appendChild(img);\n",
              "    }\n",
              "    img.src = image;\n",
              "    img.width = width;\n",
              "    img.height = height;\n",
              "  }\n",
              "  "
            ]
          },
          "metadata": {}
        },
        {
          "output_type": "display_data",
          "data": {
            "text/plain": [
              "<IPython.core.display.Javascript object>"
            ],
            "application/javascript": [
              "\n",
              "  async function showImage(name, image, width, height) {\n",
              "    img = document.getElementById(name);\n",
              "    if(img == null) {\n",
              "      img = document.createElement('img');\n",
              "      img.id = name;\n",
              "      document.body.appendChild(img);\n",
              "    }\n",
              "    img.src = image;\n",
              "    img.width = width;\n",
              "    img.height = height;\n",
              "  }\n",
              "  "
            ]
          },
          "metadata": {}
        },
        {
          "output_type": "display_data",
          "data": {
            "text/plain": [
              "<IPython.core.display.Javascript object>"
            ],
            "application/javascript": [
              "\n",
              "  async function showImage(name, image, width, height) {\n",
              "    img = document.getElementById(name);\n",
              "    if(img == null) {\n",
              "      img = document.createElement('img');\n",
              "      img.id = name;\n",
              "      document.body.appendChild(img);\n",
              "    }\n",
              "    img.src = image;\n",
              "    img.width = width;\n",
              "    img.height = height;\n",
              "  }\n",
              "  "
            ]
          },
          "metadata": {}
        },
        {
          "output_type": "display_data",
          "data": {
            "text/plain": [
              "<IPython.core.display.Javascript object>"
            ],
            "application/javascript": [
              "\n",
              "  async function showImage(name, image, width, height) {\n",
              "    img = document.getElementById(name);\n",
              "    if(img == null) {\n",
              "      img = document.createElement('img');\n",
              "      img.id = name;\n",
              "      document.body.appendChild(img);\n",
              "    }\n",
              "    img.src = image;\n",
              "    img.width = width;\n",
              "    img.height = height;\n",
              "  }\n",
              "  "
            ]
          },
          "metadata": {}
        },
        {
          "output_type": "display_data",
          "data": {
            "text/plain": [
              "<IPython.core.display.Javascript object>"
            ],
            "application/javascript": [
              "\n",
              "  async function showImage(name, image, width, height) {\n",
              "    img = document.getElementById(name);\n",
              "    if(img == null) {\n",
              "      img = document.createElement('img');\n",
              "      img.id = name;\n",
              "      document.body.appendChild(img);\n",
              "    }\n",
              "    img.src = image;\n",
              "    img.width = width;\n",
              "    img.height = height;\n",
              "  }\n",
              "  "
            ]
          },
          "metadata": {}
        },
        {
          "output_type": "display_data",
          "data": {
            "text/plain": [
              "<IPython.core.display.Javascript object>"
            ],
            "application/javascript": [
              "\n",
              "  async function showImage(name, image, width, height) {\n",
              "    img = document.getElementById(name);\n",
              "    if(img == null) {\n",
              "      img = document.createElement('img');\n",
              "      img.id = name;\n",
              "      document.body.appendChild(img);\n",
              "    }\n",
              "    img.src = image;\n",
              "    img.width = width;\n",
              "    img.height = height;\n",
              "  }\n",
              "  "
            ]
          },
          "metadata": {}
        },
        {
          "output_type": "display_data",
          "data": {
            "text/plain": [
              "<IPython.core.display.Javascript object>"
            ],
            "application/javascript": [
              "\n",
              "  async function showImage(name, image, width, height) {\n",
              "    img = document.getElementById(name);\n",
              "    if(img == null) {\n",
              "      img = document.createElement('img');\n",
              "      img.id = name;\n",
              "      document.body.appendChild(img);\n",
              "    }\n",
              "    img.src = image;\n",
              "    img.width = width;\n",
              "    img.height = height;\n",
              "  }\n",
              "  "
            ]
          },
          "metadata": {}
        },
        {
          "output_type": "display_data",
          "data": {
            "text/plain": [
              "<IPython.core.display.Javascript object>"
            ],
            "application/javascript": [
              "\n",
              "  async function showImage(name, image, width, height) {\n",
              "    img = document.getElementById(name);\n",
              "    if(img == null) {\n",
              "      img = document.createElement('img');\n",
              "      img.id = name;\n",
              "      document.body.appendChild(img);\n",
              "    }\n",
              "    img.src = image;\n",
              "    img.width = width;\n",
              "    img.height = height;\n",
              "  }\n",
              "  "
            ]
          },
          "metadata": {}
        },
        {
          "output_type": "display_data",
          "data": {
            "text/plain": [
              "<IPython.core.display.Javascript object>"
            ],
            "application/javascript": [
              "\n",
              "  async function showImage(name, image, width, height) {\n",
              "    img = document.getElementById(name);\n",
              "    if(img == null) {\n",
              "      img = document.createElement('img');\n",
              "      img.id = name;\n",
              "      document.body.appendChild(img);\n",
              "    }\n",
              "    img.src = image;\n",
              "    img.width = width;\n",
              "    img.height = height;\n",
              "  }\n",
              "  "
            ]
          },
          "metadata": {}
        },
        {
          "output_type": "display_data",
          "data": {
            "text/plain": [
              "<IPython.core.display.Javascript object>"
            ],
            "application/javascript": [
              "\n",
              "  async function showImage(name, image, width, height) {\n",
              "    img = document.getElementById(name);\n",
              "    if(img == null) {\n",
              "      img = document.createElement('img');\n",
              "      img.id = name;\n",
              "      document.body.appendChild(img);\n",
              "    }\n",
              "    img.src = image;\n",
              "    img.width = width;\n",
              "    img.height = height;\n",
              "  }\n",
              "  "
            ]
          },
          "metadata": {}
        },
        {
          "output_type": "display_data",
          "data": {
            "text/plain": [
              "<IPython.core.display.Javascript object>"
            ],
            "application/javascript": [
              "\n",
              "  async function showImage(name, image, width, height) {\n",
              "    img = document.getElementById(name);\n",
              "    if(img == null) {\n",
              "      img = document.createElement('img');\n",
              "      img.id = name;\n",
              "      document.body.appendChild(img);\n",
              "    }\n",
              "    img.src = image;\n",
              "    img.width = width;\n",
              "    img.height = height;\n",
              "  }\n",
              "  "
            ]
          },
          "metadata": {}
        },
        {
          "output_type": "display_data",
          "data": {
            "text/plain": [
              "<IPython.core.display.Javascript object>"
            ],
            "application/javascript": [
              "\n",
              "  async function showImage(name, image, width, height) {\n",
              "    img = document.getElementById(name);\n",
              "    if(img == null) {\n",
              "      img = document.createElement('img');\n",
              "      img.id = name;\n",
              "      document.body.appendChild(img);\n",
              "    }\n",
              "    img.src = image;\n",
              "    img.width = width;\n",
              "    img.height = height;\n",
              "  }\n",
              "  "
            ]
          },
          "metadata": {}
        },
        {
          "output_type": "display_data",
          "data": {
            "text/plain": [
              "<IPython.core.display.Javascript object>"
            ],
            "application/javascript": [
              "\n",
              "  async function showImage(name, image, width, height) {\n",
              "    img = document.getElementById(name);\n",
              "    if(img == null) {\n",
              "      img = document.createElement('img');\n",
              "      img.id = name;\n",
              "      document.body.appendChild(img);\n",
              "    }\n",
              "    img.src = image;\n",
              "    img.width = width;\n",
              "    img.height = height;\n",
              "  }\n",
              "  "
            ]
          },
          "metadata": {}
        },
        {
          "output_type": "display_data",
          "data": {
            "text/plain": [
              "<IPython.core.display.Javascript object>"
            ],
            "application/javascript": [
              "\n",
              "  async function showImage(name, image, width, height) {\n",
              "    img = document.getElementById(name);\n",
              "    if(img == null) {\n",
              "      img = document.createElement('img');\n",
              "      img.id = name;\n",
              "      document.body.appendChild(img);\n",
              "    }\n",
              "    img.src = image;\n",
              "    img.width = width;\n",
              "    img.height = height;\n",
              "  }\n",
              "  "
            ]
          },
          "metadata": {}
        },
        {
          "output_type": "display_data",
          "data": {
            "text/plain": [
              "<IPython.core.display.Javascript object>"
            ],
            "application/javascript": [
              "\n",
              "  async function showImage(name, image, width, height) {\n",
              "    img = document.getElementById(name);\n",
              "    if(img == null) {\n",
              "      img = document.createElement('img');\n",
              "      img.id = name;\n",
              "      document.body.appendChild(img);\n",
              "    }\n",
              "    img.src = image;\n",
              "    img.width = width;\n",
              "    img.height = height;\n",
              "  }\n",
              "  "
            ]
          },
          "metadata": {}
        },
        {
          "output_type": "display_data",
          "data": {
            "text/plain": [
              "<IPython.core.display.Javascript object>"
            ],
            "application/javascript": [
              "\n",
              "  async function showImage(name, image, width, height) {\n",
              "    img = document.getElementById(name);\n",
              "    if(img == null) {\n",
              "      img = document.createElement('img');\n",
              "      img.id = name;\n",
              "      document.body.appendChild(img);\n",
              "    }\n",
              "    img.src = image;\n",
              "    img.width = width;\n",
              "    img.height = height;\n",
              "  }\n",
              "  "
            ]
          },
          "metadata": {}
        },
        {
          "output_type": "display_data",
          "data": {
            "text/plain": [
              "<IPython.core.display.Javascript object>"
            ],
            "application/javascript": [
              "\n",
              "  async function showImage(name, image, width, height) {\n",
              "    img = document.getElementById(name);\n",
              "    if(img == null) {\n",
              "      img = document.createElement('img');\n",
              "      img.id = name;\n",
              "      document.body.appendChild(img);\n",
              "    }\n",
              "    img.src = image;\n",
              "    img.width = width;\n",
              "    img.height = height;\n",
              "  }\n",
              "  "
            ]
          },
          "metadata": {}
        },
        {
          "output_type": "display_data",
          "data": {
            "text/plain": [
              "<IPython.core.display.Javascript object>"
            ],
            "application/javascript": [
              "\n",
              "  async function showImage(name, image, width, height) {\n",
              "    img = document.getElementById(name);\n",
              "    if(img == null) {\n",
              "      img = document.createElement('img');\n",
              "      img.id = name;\n",
              "      document.body.appendChild(img);\n",
              "    }\n",
              "    img.src = image;\n",
              "    img.width = width;\n",
              "    img.height = height;\n",
              "  }\n",
              "  "
            ]
          },
          "metadata": {}
        },
        {
          "output_type": "display_data",
          "data": {
            "text/plain": [
              "<IPython.core.display.Javascript object>"
            ],
            "application/javascript": [
              "\n",
              "  async function showImage(name, image, width, height) {\n",
              "    img = document.getElementById(name);\n",
              "    if(img == null) {\n",
              "      img = document.createElement('img');\n",
              "      img.id = name;\n",
              "      document.body.appendChild(img);\n",
              "    }\n",
              "    img.src = image;\n",
              "    img.width = width;\n",
              "    img.height = height;\n",
              "  }\n",
              "  "
            ]
          },
          "metadata": {}
        },
        {
          "output_type": "display_data",
          "data": {
            "text/plain": [
              "<IPython.core.display.Javascript object>"
            ],
            "application/javascript": [
              "\n",
              "  async function showImage(name, image, width, height) {\n",
              "    img = document.getElementById(name);\n",
              "    if(img == null) {\n",
              "      img = document.createElement('img');\n",
              "      img.id = name;\n",
              "      document.body.appendChild(img);\n",
              "    }\n",
              "    img.src = image;\n",
              "    img.width = width;\n",
              "    img.height = height;\n",
              "  }\n",
              "  "
            ]
          },
          "metadata": {}
        },
        {
          "output_type": "display_data",
          "data": {
            "text/plain": [
              "<IPython.core.display.Javascript object>"
            ],
            "application/javascript": [
              "\n",
              "  async function showImage(name, image, width, height) {\n",
              "    img = document.getElementById(name);\n",
              "    if(img == null) {\n",
              "      img = document.createElement('img');\n",
              "      img.id = name;\n",
              "      document.body.appendChild(img);\n",
              "    }\n",
              "    img.src = image;\n",
              "    img.width = width;\n",
              "    img.height = height;\n",
              "  }\n",
              "  "
            ]
          },
          "metadata": {}
        },
        {
          "output_type": "display_data",
          "data": {
            "text/plain": [
              "<IPython.core.display.Javascript object>"
            ],
            "application/javascript": [
              "\n",
              "  async function showImage(name, image, width, height) {\n",
              "    img = document.getElementById(name);\n",
              "    if(img == null) {\n",
              "      img = document.createElement('img');\n",
              "      img.id = name;\n",
              "      document.body.appendChild(img);\n",
              "    }\n",
              "    img.src = image;\n",
              "    img.width = width;\n",
              "    img.height = height;\n",
              "  }\n",
              "  "
            ]
          },
          "metadata": {}
        },
        {
          "output_type": "display_data",
          "data": {
            "text/plain": [
              "<IPython.core.display.Javascript object>"
            ],
            "application/javascript": [
              "\n",
              "  async function showImage(name, image, width, height) {\n",
              "    img = document.getElementById(name);\n",
              "    if(img == null) {\n",
              "      img = document.createElement('img');\n",
              "      img.id = name;\n",
              "      document.body.appendChild(img);\n",
              "    }\n",
              "    img.src = image;\n",
              "    img.width = width;\n",
              "    img.height = height;\n",
              "  }\n",
              "  "
            ]
          },
          "metadata": {}
        },
        {
          "output_type": "display_data",
          "data": {
            "text/plain": [
              "<IPython.core.display.Javascript object>"
            ],
            "application/javascript": [
              "\n",
              "  async function showImage(name, image, width, height) {\n",
              "    img = document.getElementById(name);\n",
              "    if(img == null) {\n",
              "      img = document.createElement('img');\n",
              "      img.id = name;\n",
              "      document.body.appendChild(img);\n",
              "    }\n",
              "    img.src = image;\n",
              "    img.width = width;\n",
              "    img.height = height;\n",
              "  }\n",
              "  "
            ]
          },
          "metadata": {}
        },
        {
          "output_type": "display_data",
          "data": {
            "text/plain": [
              "<IPython.core.display.Javascript object>"
            ],
            "application/javascript": [
              "\n",
              "  async function showImage(name, image, width, height) {\n",
              "    img = document.getElementById(name);\n",
              "    if(img == null) {\n",
              "      img = document.createElement('img');\n",
              "      img.id = name;\n",
              "      document.body.appendChild(img);\n",
              "    }\n",
              "    img.src = image;\n",
              "    img.width = width;\n",
              "    img.height = height;\n",
              "  }\n",
              "  "
            ]
          },
          "metadata": {}
        },
        {
          "output_type": "display_data",
          "data": {
            "text/plain": [
              "<IPython.core.display.Javascript object>"
            ],
            "application/javascript": [
              "\n",
              "  async function showImage(name, image, width, height) {\n",
              "    img = document.getElementById(name);\n",
              "    if(img == null) {\n",
              "      img = document.createElement('img');\n",
              "      img.id = name;\n",
              "      document.body.appendChild(img);\n",
              "    }\n",
              "    img.src = image;\n",
              "    img.width = width;\n",
              "    img.height = height;\n",
              "  }\n",
              "  "
            ]
          },
          "metadata": {}
        },
        {
          "output_type": "display_data",
          "data": {
            "text/plain": [
              "<IPython.core.display.Javascript object>"
            ],
            "application/javascript": [
              "\n",
              "  async function showImage(name, image, width, height) {\n",
              "    img = document.getElementById(name);\n",
              "    if(img == null) {\n",
              "      img = document.createElement('img');\n",
              "      img.id = name;\n",
              "      document.body.appendChild(img);\n",
              "    }\n",
              "    img.src = image;\n",
              "    img.width = width;\n",
              "    img.height = height;\n",
              "  }\n",
              "  "
            ]
          },
          "metadata": {}
        },
        {
          "output_type": "display_data",
          "data": {
            "text/plain": [
              "<IPython.core.display.Javascript object>"
            ],
            "application/javascript": [
              "\n",
              "  async function showImage(name, image, width, height) {\n",
              "    img = document.getElementById(name);\n",
              "    if(img == null) {\n",
              "      img = document.createElement('img');\n",
              "      img.id = name;\n",
              "      document.body.appendChild(img);\n",
              "    }\n",
              "    img.src = image;\n",
              "    img.width = width;\n",
              "    img.height = height;\n",
              "  }\n",
              "  "
            ]
          },
          "metadata": {}
        },
        {
          "output_type": "display_data",
          "data": {
            "text/plain": [
              "<IPython.core.display.Javascript object>"
            ],
            "application/javascript": [
              "\n",
              "  async function showImage(name, image, width, height) {\n",
              "    img = document.getElementById(name);\n",
              "    if(img == null) {\n",
              "      img = document.createElement('img');\n",
              "      img.id = name;\n",
              "      document.body.appendChild(img);\n",
              "    }\n",
              "    img.src = image;\n",
              "    img.width = width;\n",
              "    img.height = height;\n",
              "  }\n",
              "  "
            ]
          },
          "metadata": {}
        },
        {
          "output_type": "display_data",
          "data": {
            "text/plain": [
              "<IPython.core.display.Javascript object>"
            ],
            "application/javascript": [
              "\n",
              "  async function showImage(name, image, width, height) {\n",
              "    img = document.getElementById(name);\n",
              "    if(img == null) {\n",
              "      img = document.createElement('img');\n",
              "      img.id = name;\n",
              "      document.body.appendChild(img);\n",
              "    }\n",
              "    img.src = image;\n",
              "    img.width = width;\n",
              "    img.height = height;\n",
              "  }\n",
              "  "
            ]
          },
          "metadata": {}
        },
        {
          "output_type": "display_data",
          "data": {
            "text/plain": [
              "<IPython.core.display.Javascript object>"
            ],
            "application/javascript": [
              "\n",
              "  async function showImage(name, image, width, height) {\n",
              "    img = document.getElementById(name);\n",
              "    if(img == null) {\n",
              "      img = document.createElement('img');\n",
              "      img.id = name;\n",
              "      document.body.appendChild(img);\n",
              "    }\n",
              "    img.src = image;\n",
              "    img.width = width;\n",
              "    img.height = height;\n",
              "  }\n",
              "  "
            ]
          },
          "metadata": {}
        },
        {
          "output_type": "display_data",
          "data": {
            "text/plain": [
              "<IPython.core.display.Javascript object>"
            ],
            "application/javascript": [
              "\n",
              "  async function showImage(name, image, width, height) {\n",
              "    img = document.getElementById(name);\n",
              "    if(img == null) {\n",
              "      img = document.createElement('img');\n",
              "      img.id = name;\n",
              "      document.body.appendChild(img);\n",
              "    }\n",
              "    img.src = image;\n",
              "    img.width = width;\n",
              "    img.height = height;\n",
              "  }\n",
              "  "
            ]
          },
          "metadata": {}
        },
        {
          "output_type": "display_data",
          "data": {
            "text/plain": [
              "<IPython.core.display.Javascript object>"
            ],
            "application/javascript": [
              "\n",
              "  async function showImage(name, image, width, height) {\n",
              "    img = document.getElementById(name);\n",
              "    if(img == null) {\n",
              "      img = document.createElement('img');\n",
              "      img.id = name;\n",
              "      document.body.appendChild(img);\n",
              "    }\n",
              "    img.src = image;\n",
              "    img.width = width;\n",
              "    img.height = height;\n",
              "  }\n",
              "  "
            ]
          },
          "metadata": {}
        },
        {
          "output_type": "display_data",
          "data": {
            "text/plain": [
              "<IPython.core.display.Javascript object>"
            ],
            "application/javascript": [
              "\n",
              "  async function showImage(name, image, width, height) {\n",
              "    img = document.getElementById(name);\n",
              "    if(img == null) {\n",
              "      img = document.createElement('img');\n",
              "      img.id = name;\n",
              "      document.body.appendChild(img);\n",
              "    }\n",
              "    img.src = image;\n",
              "    img.width = width;\n",
              "    img.height = height;\n",
              "  }\n",
              "  "
            ]
          },
          "metadata": {}
        },
        {
          "output_type": "display_data",
          "data": {
            "text/plain": [
              "<IPython.core.display.Javascript object>"
            ],
            "application/javascript": [
              "\n",
              "  async function showImage(name, image, width, height) {\n",
              "    img = document.getElementById(name);\n",
              "    if(img == null) {\n",
              "      img = document.createElement('img');\n",
              "      img.id = name;\n",
              "      document.body.appendChild(img);\n",
              "    }\n",
              "    img.src = image;\n",
              "    img.width = width;\n",
              "    img.height = height;\n",
              "  }\n",
              "  "
            ]
          },
          "metadata": {}
        },
        {
          "output_type": "display_data",
          "data": {
            "text/plain": [
              "<IPython.core.display.Javascript object>"
            ],
            "application/javascript": [
              "\n",
              "  async function showImage(name, image, width, height) {\n",
              "    img = document.getElementById(name);\n",
              "    if(img == null) {\n",
              "      img = document.createElement('img');\n",
              "      img.id = name;\n",
              "      document.body.appendChild(img);\n",
              "    }\n",
              "    img.src = image;\n",
              "    img.width = width;\n",
              "    img.height = height;\n",
              "  }\n",
              "  "
            ]
          },
          "metadata": {}
        },
        {
          "output_type": "display_data",
          "data": {
            "text/plain": [
              "<IPython.core.display.Javascript object>"
            ],
            "application/javascript": [
              "\n",
              "  async function showImage(name, image, width, height) {\n",
              "    img = document.getElementById(name);\n",
              "    if(img == null) {\n",
              "      img = document.createElement('img');\n",
              "      img.id = name;\n",
              "      document.body.appendChild(img);\n",
              "    }\n",
              "    img.src = image;\n",
              "    img.width = width;\n",
              "    img.height = height;\n",
              "  }\n",
              "  "
            ]
          },
          "metadata": {}
        },
        {
          "output_type": "display_data",
          "data": {
            "text/plain": [
              "<IPython.core.display.Javascript object>"
            ],
            "application/javascript": [
              "\n",
              "  async function showImage(name, image, width, height) {\n",
              "    img = document.getElementById(name);\n",
              "    if(img == null) {\n",
              "      img = document.createElement('img');\n",
              "      img.id = name;\n",
              "      document.body.appendChild(img);\n",
              "    }\n",
              "    img.src = image;\n",
              "    img.width = width;\n",
              "    img.height = height;\n",
              "  }\n",
              "  "
            ]
          },
          "metadata": {}
        },
        {
          "output_type": "display_data",
          "data": {
            "text/plain": [
              "<IPython.core.display.Javascript object>"
            ],
            "application/javascript": [
              "\n",
              "  async function showImage(name, image, width, height) {\n",
              "    img = document.getElementById(name);\n",
              "    if(img == null) {\n",
              "      img = document.createElement('img');\n",
              "      img.id = name;\n",
              "      document.body.appendChild(img);\n",
              "    }\n",
              "    img.src = image;\n",
              "    img.width = width;\n",
              "    img.height = height;\n",
              "  }\n",
              "  "
            ]
          },
          "metadata": {}
        },
        {
          "output_type": "display_data",
          "data": {
            "text/plain": [
              "<IPython.core.display.Javascript object>"
            ],
            "application/javascript": [
              "\n",
              "  async function showImage(name, image, width, height) {\n",
              "    img = document.getElementById(name);\n",
              "    if(img == null) {\n",
              "      img = document.createElement('img');\n",
              "      img.id = name;\n",
              "      document.body.appendChild(img);\n",
              "    }\n",
              "    img.src = image;\n",
              "    img.width = width;\n",
              "    img.height = height;\n",
              "  }\n",
              "  "
            ]
          },
          "metadata": {}
        },
        {
          "output_type": "display_data",
          "data": {
            "text/plain": [
              "<IPython.core.display.Javascript object>"
            ],
            "application/javascript": [
              "\n",
              "  async function showImage(name, image, width, height) {\n",
              "    img = document.getElementById(name);\n",
              "    if(img == null) {\n",
              "      img = document.createElement('img');\n",
              "      img.id = name;\n",
              "      document.body.appendChild(img);\n",
              "    }\n",
              "    img.src = image;\n",
              "    img.width = width;\n",
              "    img.height = height;\n",
              "  }\n",
              "  "
            ]
          },
          "metadata": {}
        },
        {
          "output_type": "display_data",
          "data": {
            "text/plain": [
              "<IPython.core.display.Javascript object>"
            ],
            "application/javascript": [
              "\n",
              "  async function showImage(name, image, width, height) {\n",
              "    img = document.getElementById(name);\n",
              "    if(img == null) {\n",
              "      img = document.createElement('img');\n",
              "      img.id = name;\n",
              "      document.body.appendChild(img);\n",
              "    }\n",
              "    img.src = image;\n",
              "    img.width = width;\n",
              "    img.height = height;\n",
              "  }\n",
              "  "
            ]
          },
          "metadata": {}
        },
        {
          "output_type": "display_data",
          "data": {
            "text/plain": [
              "<IPython.core.display.Javascript object>"
            ],
            "application/javascript": [
              "\n",
              "  async function showImage(name, image, width, height) {\n",
              "    img = document.getElementById(name);\n",
              "    if(img == null) {\n",
              "      img = document.createElement('img');\n",
              "      img.id = name;\n",
              "      document.body.appendChild(img);\n",
              "    }\n",
              "    img.src = image;\n",
              "    img.width = width;\n",
              "    img.height = height;\n",
              "  }\n",
              "  "
            ]
          },
          "metadata": {}
        },
        {
          "output_type": "display_data",
          "data": {
            "text/plain": [
              "<IPython.core.display.Javascript object>"
            ],
            "application/javascript": [
              "\n",
              "  async function showImage(name, image, width, height) {\n",
              "    img = document.getElementById(name);\n",
              "    if(img == null) {\n",
              "      img = document.createElement('img');\n",
              "      img.id = name;\n",
              "      document.body.appendChild(img);\n",
              "    }\n",
              "    img.src = image;\n",
              "    img.width = width;\n",
              "    img.height = height;\n",
              "  }\n",
              "  "
            ]
          },
          "metadata": {}
        },
        {
          "output_type": "display_data",
          "data": {
            "text/plain": [
              "<IPython.core.display.Javascript object>"
            ],
            "application/javascript": [
              "\n",
              "  async function showImage(name, image, width, height) {\n",
              "    img = document.getElementById(name);\n",
              "    if(img == null) {\n",
              "      img = document.createElement('img');\n",
              "      img.id = name;\n",
              "      document.body.appendChild(img);\n",
              "    }\n",
              "    img.src = image;\n",
              "    img.width = width;\n",
              "    img.height = height;\n",
              "  }\n",
              "  "
            ]
          },
          "metadata": {}
        },
        {
          "output_type": "display_data",
          "data": {
            "text/plain": [
              "<IPython.core.display.Javascript object>"
            ],
            "application/javascript": [
              "\n",
              "  async function showImage(name, image, width, height) {\n",
              "    img = document.getElementById(name);\n",
              "    if(img == null) {\n",
              "      img = document.createElement('img');\n",
              "      img.id = name;\n",
              "      document.body.appendChild(img);\n",
              "    }\n",
              "    img.src = image;\n",
              "    img.width = width;\n",
              "    img.height = height;\n",
              "  }\n",
              "  "
            ]
          },
          "metadata": {}
        },
        {
          "output_type": "display_data",
          "data": {
            "text/plain": [
              "<IPython.core.display.Javascript object>"
            ],
            "application/javascript": [
              "\n",
              "  async function showImage(name, image, width, height) {\n",
              "    img = document.getElementById(name);\n",
              "    if(img == null) {\n",
              "      img = document.createElement('img');\n",
              "      img.id = name;\n",
              "      document.body.appendChild(img);\n",
              "    }\n",
              "    img.src = image;\n",
              "    img.width = width;\n",
              "    img.height = height;\n",
              "  }\n",
              "  "
            ]
          },
          "metadata": {}
        },
        {
          "output_type": "display_data",
          "data": {
            "text/plain": [
              "<IPython.core.display.Javascript object>"
            ],
            "application/javascript": [
              "\n",
              "  async function showImage(name, image, width, height) {\n",
              "    img = document.getElementById(name);\n",
              "    if(img == null) {\n",
              "      img = document.createElement('img');\n",
              "      img.id = name;\n",
              "      document.body.appendChild(img);\n",
              "    }\n",
              "    img.src = image;\n",
              "    img.width = width;\n",
              "    img.height = height;\n",
              "  }\n",
              "  "
            ]
          },
          "metadata": {}
        },
        {
          "output_type": "display_data",
          "data": {
            "text/plain": [
              "<IPython.core.display.Javascript object>"
            ],
            "application/javascript": [
              "\n",
              "  async function showImage(name, image, width, height) {\n",
              "    img = document.getElementById(name);\n",
              "    if(img == null) {\n",
              "      img = document.createElement('img');\n",
              "      img.id = name;\n",
              "      document.body.appendChild(img);\n",
              "    }\n",
              "    img.src = image;\n",
              "    img.width = width;\n",
              "    img.height = height;\n",
              "  }\n",
              "  "
            ]
          },
          "metadata": {}
        },
        {
          "output_type": "display_data",
          "data": {
            "text/plain": [
              "<IPython.core.display.Javascript object>"
            ],
            "application/javascript": [
              "\n",
              "  async function showImage(name, image, width, height) {\n",
              "    img = document.getElementById(name);\n",
              "    if(img == null) {\n",
              "      img = document.createElement('img');\n",
              "      img.id = name;\n",
              "      document.body.appendChild(img);\n",
              "    }\n",
              "    img.src = image;\n",
              "    img.width = width;\n",
              "    img.height = height;\n",
              "  }\n",
              "  "
            ]
          },
          "metadata": {}
        },
        {
          "output_type": "display_data",
          "data": {
            "text/plain": [
              "<IPython.core.display.Javascript object>"
            ],
            "application/javascript": [
              "\n",
              "  async function showImage(name, image, width, height) {\n",
              "    img = document.getElementById(name);\n",
              "    if(img == null) {\n",
              "      img = document.createElement('img');\n",
              "      img.id = name;\n",
              "      document.body.appendChild(img);\n",
              "    }\n",
              "    img.src = image;\n",
              "    img.width = width;\n",
              "    img.height = height;\n",
              "  }\n",
              "  "
            ]
          },
          "metadata": {}
        },
        {
          "output_type": "display_data",
          "data": {
            "text/plain": [
              "<IPython.core.display.Javascript object>"
            ],
            "application/javascript": [
              "\n",
              "  async function showImage(name, image, width, height) {\n",
              "    img = document.getElementById(name);\n",
              "    if(img == null) {\n",
              "      img = document.createElement('img');\n",
              "      img.id = name;\n",
              "      document.body.appendChild(img);\n",
              "    }\n",
              "    img.src = image;\n",
              "    img.width = width;\n",
              "    img.height = height;\n",
              "  }\n",
              "  "
            ]
          },
          "metadata": {}
        },
        {
          "output_type": "display_data",
          "data": {
            "text/plain": [
              "<IPython.core.display.Javascript object>"
            ],
            "application/javascript": [
              "\n",
              "  async function showImage(name, image, width, height) {\n",
              "    img = document.getElementById(name);\n",
              "    if(img == null) {\n",
              "      img = document.createElement('img');\n",
              "      img.id = name;\n",
              "      document.body.appendChild(img);\n",
              "    }\n",
              "    img.src = image;\n",
              "    img.width = width;\n",
              "    img.height = height;\n",
              "  }\n",
              "  "
            ]
          },
          "metadata": {}
        },
        {
          "output_type": "display_data",
          "data": {
            "text/plain": [
              "<IPython.core.display.Javascript object>"
            ],
            "application/javascript": [
              "\n",
              "  async function showImage(name, image, width, height) {\n",
              "    img = document.getElementById(name);\n",
              "    if(img == null) {\n",
              "      img = document.createElement('img');\n",
              "      img.id = name;\n",
              "      document.body.appendChild(img);\n",
              "    }\n",
              "    img.src = image;\n",
              "    img.width = width;\n",
              "    img.height = height;\n",
              "  }\n",
              "  "
            ]
          },
          "metadata": {}
        },
        {
          "output_type": "display_data",
          "data": {
            "text/plain": [
              "<IPython.core.display.Javascript object>"
            ],
            "application/javascript": [
              "\n",
              "  async function showImage(name, image, width, height) {\n",
              "    img = document.getElementById(name);\n",
              "    if(img == null) {\n",
              "      img = document.createElement('img');\n",
              "      img.id = name;\n",
              "      document.body.appendChild(img);\n",
              "    }\n",
              "    img.src = image;\n",
              "    img.width = width;\n",
              "    img.height = height;\n",
              "  }\n",
              "  "
            ]
          },
          "metadata": {}
        },
        {
          "output_type": "display_data",
          "data": {
            "text/plain": [
              "<IPython.core.display.Javascript object>"
            ],
            "application/javascript": [
              "\n",
              "  async function showImage(name, image, width, height) {\n",
              "    img = document.getElementById(name);\n",
              "    if(img == null) {\n",
              "      img = document.createElement('img');\n",
              "      img.id = name;\n",
              "      document.body.appendChild(img);\n",
              "    }\n",
              "    img.src = image;\n",
              "    img.width = width;\n",
              "    img.height = height;\n",
              "  }\n",
              "  "
            ]
          },
          "metadata": {}
        },
        {
          "output_type": "display_data",
          "data": {
            "text/plain": [
              "<IPython.core.display.Javascript object>"
            ],
            "application/javascript": [
              "\n",
              "  async function showImage(name, image, width, height) {\n",
              "    img = document.getElementById(name);\n",
              "    if(img == null) {\n",
              "      img = document.createElement('img');\n",
              "      img.id = name;\n",
              "      document.body.appendChild(img);\n",
              "    }\n",
              "    img.src = image;\n",
              "    img.width = width;\n",
              "    img.height = height;\n",
              "  }\n",
              "  "
            ]
          },
          "metadata": {}
        },
        {
          "output_type": "display_data",
          "data": {
            "text/plain": [
              "<IPython.core.display.Javascript object>"
            ],
            "application/javascript": [
              "\n",
              "  async function showImage(name, image, width, height) {\n",
              "    img = document.getElementById(name);\n",
              "    if(img == null) {\n",
              "      img = document.createElement('img');\n",
              "      img.id = name;\n",
              "      document.body.appendChild(img);\n",
              "    }\n",
              "    img.src = image;\n",
              "    img.width = width;\n",
              "    img.height = height;\n",
              "  }\n",
              "  "
            ]
          },
          "metadata": {}
        },
        {
          "output_type": "display_data",
          "data": {
            "text/plain": [
              "<IPython.core.display.Javascript object>"
            ],
            "application/javascript": [
              "\n",
              "  async function showImage(name, image, width, height) {\n",
              "    img = document.getElementById(name);\n",
              "    if(img == null) {\n",
              "      img = document.createElement('img');\n",
              "      img.id = name;\n",
              "      document.body.appendChild(img);\n",
              "    }\n",
              "    img.src = image;\n",
              "    img.width = width;\n",
              "    img.height = height;\n",
              "  }\n",
              "  "
            ]
          },
          "metadata": {}
        },
        {
          "output_type": "display_data",
          "data": {
            "text/plain": [
              "<IPython.core.display.Javascript object>"
            ],
            "application/javascript": [
              "\n",
              "  async function showImage(name, image, width, height) {\n",
              "    img = document.getElementById(name);\n",
              "    if(img == null) {\n",
              "      img = document.createElement('img');\n",
              "      img.id = name;\n",
              "      document.body.appendChild(img);\n",
              "    }\n",
              "    img.src = image;\n",
              "    img.width = width;\n",
              "    img.height = height;\n",
              "  }\n",
              "  "
            ]
          },
          "metadata": {}
        },
        {
          "output_type": "display_data",
          "data": {
            "text/plain": [
              "<IPython.core.display.Javascript object>"
            ],
            "application/javascript": [
              "\n",
              "  async function showImage(name, image, width, height) {\n",
              "    img = document.getElementById(name);\n",
              "    if(img == null) {\n",
              "      img = document.createElement('img');\n",
              "      img.id = name;\n",
              "      document.body.appendChild(img);\n",
              "    }\n",
              "    img.src = image;\n",
              "    img.width = width;\n",
              "    img.height = height;\n",
              "  }\n",
              "  "
            ]
          },
          "metadata": {}
        },
        {
          "output_type": "display_data",
          "data": {
            "text/plain": [
              "<IPython.core.display.Javascript object>"
            ],
            "application/javascript": [
              "\n",
              "  async function showImage(name, image, width, height) {\n",
              "    img = document.getElementById(name);\n",
              "    if(img == null) {\n",
              "      img = document.createElement('img');\n",
              "      img.id = name;\n",
              "      document.body.appendChild(img);\n",
              "    }\n",
              "    img.src = image;\n",
              "    img.width = width;\n",
              "    img.height = height;\n",
              "  }\n",
              "  "
            ]
          },
          "metadata": {}
        },
        {
          "output_type": "display_data",
          "data": {
            "text/plain": [
              "<IPython.core.display.Javascript object>"
            ],
            "application/javascript": [
              "\n",
              "  async function showImage(name, image, width, height) {\n",
              "    img = document.getElementById(name);\n",
              "    if(img == null) {\n",
              "      img = document.createElement('img');\n",
              "      img.id = name;\n",
              "      document.body.appendChild(img);\n",
              "    }\n",
              "    img.src = image;\n",
              "    img.width = width;\n",
              "    img.height = height;\n",
              "  }\n",
              "  "
            ]
          },
          "metadata": {}
        },
        {
          "output_type": "display_data",
          "data": {
            "text/plain": [
              "<IPython.core.display.Javascript object>"
            ],
            "application/javascript": [
              "\n",
              "  async function showImage(name, image, width, height) {\n",
              "    img = document.getElementById(name);\n",
              "    if(img == null) {\n",
              "      img = document.createElement('img');\n",
              "      img.id = name;\n",
              "      document.body.appendChild(img);\n",
              "    }\n",
              "    img.src = image;\n",
              "    img.width = width;\n",
              "    img.height = height;\n",
              "  }\n",
              "  "
            ]
          },
          "metadata": {}
        },
        {
          "output_type": "display_data",
          "data": {
            "text/plain": [
              "<IPython.core.display.Javascript object>"
            ],
            "application/javascript": [
              "\n",
              "  async function showImage(name, image, width, height) {\n",
              "    img = document.getElementById(name);\n",
              "    if(img == null) {\n",
              "      img = document.createElement('img');\n",
              "      img.id = name;\n",
              "      document.body.appendChild(img);\n",
              "    }\n",
              "    img.src = image;\n",
              "    img.width = width;\n",
              "    img.height = height;\n",
              "  }\n",
              "  "
            ]
          },
          "metadata": {}
        },
        {
          "output_type": "display_data",
          "data": {
            "text/plain": [
              "<IPython.core.display.Javascript object>"
            ],
            "application/javascript": [
              "\n",
              "  async function showImage(name, image, width, height) {\n",
              "    img = document.getElementById(name);\n",
              "    if(img == null) {\n",
              "      img = document.createElement('img');\n",
              "      img.id = name;\n",
              "      document.body.appendChild(img);\n",
              "    }\n",
              "    img.src = image;\n",
              "    img.width = width;\n",
              "    img.height = height;\n",
              "  }\n",
              "  "
            ]
          },
          "metadata": {}
        },
        {
          "output_type": "display_data",
          "data": {
            "text/plain": [
              "<IPython.core.display.Javascript object>"
            ],
            "application/javascript": [
              "\n",
              "  async function showImage(name, image, width, height) {\n",
              "    img = document.getElementById(name);\n",
              "    if(img == null) {\n",
              "      img = document.createElement('img');\n",
              "      img.id = name;\n",
              "      document.body.appendChild(img);\n",
              "    }\n",
              "    img.src = image;\n",
              "    img.width = width;\n",
              "    img.height = height;\n",
              "  }\n",
              "  "
            ]
          },
          "metadata": {}
        },
        {
          "output_type": "display_data",
          "data": {
            "text/plain": [
              "<IPython.core.display.Javascript object>"
            ],
            "application/javascript": [
              "\n",
              "  async function showImage(name, image, width, height) {\n",
              "    img = document.getElementById(name);\n",
              "    if(img == null) {\n",
              "      img = document.createElement('img');\n",
              "      img.id = name;\n",
              "      document.body.appendChild(img);\n",
              "    }\n",
              "    img.src = image;\n",
              "    img.width = width;\n",
              "    img.height = height;\n",
              "  }\n",
              "  "
            ]
          },
          "metadata": {}
        },
        {
          "output_type": "display_data",
          "data": {
            "text/plain": [
              "<IPython.core.display.Javascript object>"
            ],
            "application/javascript": [
              "\n",
              "  async function showImage(name, image, width, height) {\n",
              "    img = document.getElementById(name);\n",
              "    if(img == null) {\n",
              "      img = document.createElement('img');\n",
              "      img.id = name;\n",
              "      document.body.appendChild(img);\n",
              "    }\n",
              "    img.src = image;\n",
              "    img.width = width;\n",
              "    img.height = height;\n",
              "  }\n",
              "  "
            ]
          },
          "metadata": {}
        },
        {
          "output_type": "display_data",
          "data": {
            "text/plain": [
              "<IPython.core.display.Javascript object>"
            ],
            "application/javascript": [
              "\n",
              "  async function showImage(name, image, width, height) {\n",
              "    img = document.getElementById(name);\n",
              "    if(img == null) {\n",
              "      img = document.createElement('img');\n",
              "      img.id = name;\n",
              "      document.body.appendChild(img);\n",
              "    }\n",
              "    img.src = image;\n",
              "    img.width = width;\n",
              "    img.height = height;\n",
              "  }\n",
              "  "
            ]
          },
          "metadata": {}
        },
        {
          "output_type": "display_data",
          "data": {
            "text/plain": [
              "<IPython.core.display.Javascript object>"
            ],
            "application/javascript": [
              "\n",
              "  async function showImage(name, image, width, height) {\n",
              "    img = document.getElementById(name);\n",
              "    if(img == null) {\n",
              "      img = document.createElement('img');\n",
              "      img.id = name;\n",
              "      document.body.appendChild(img);\n",
              "    }\n",
              "    img.src = image;\n",
              "    img.width = width;\n",
              "    img.height = height;\n",
              "  }\n",
              "  "
            ]
          },
          "metadata": {}
        },
        {
          "output_type": "display_data",
          "data": {
            "text/plain": [
              "<IPython.core.display.Javascript object>"
            ],
            "application/javascript": [
              "\n",
              "  async function showImage(name, image, width, height) {\n",
              "    img = document.getElementById(name);\n",
              "    if(img == null) {\n",
              "      img = document.createElement('img');\n",
              "      img.id = name;\n",
              "      document.body.appendChild(img);\n",
              "    }\n",
              "    img.src = image;\n",
              "    img.width = width;\n",
              "    img.height = height;\n",
              "  }\n",
              "  "
            ]
          },
          "metadata": {}
        },
        {
          "output_type": "display_data",
          "data": {
            "text/plain": [
              "<IPython.core.display.Javascript object>"
            ],
            "application/javascript": [
              "\n",
              "  async function showImage(name, image, width, height) {\n",
              "    img = document.getElementById(name);\n",
              "    if(img == null) {\n",
              "      img = document.createElement('img');\n",
              "      img.id = name;\n",
              "      document.body.appendChild(img);\n",
              "    }\n",
              "    img.src = image;\n",
              "    img.width = width;\n",
              "    img.height = height;\n",
              "  }\n",
              "  "
            ]
          },
          "metadata": {}
        },
        {
          "output_type": "display_data",
          "data": {
            "text/plain": [
              "<IPython.core.display.Javascript object>"
            ],
            "application/javascript": [
              "\n",
              "  async function showImage(name, image, width, height) {\n",
              "    img = document.getElementById(name);\n",
              "    if(img == null) {\n",
              "      img = document.createElement('img');\n",
              "      img.id = name;\n",
              "      document.body.appendChild(img);\n",
              "    }\n",
              "    img.src = image;\n",
              "    img.width = width;\n",
              "    img.height = height;\n",
              "  }\n",
              "  "
            ]
          },
          "metadata": {}
        },
        {
          "output_type": "display_data",
          "data": {
            "text/plain": [
              "<IPython.core.display.Javascript object>"
            ],
            "application/javascript": [
              "\n",
              "  async function showImage(name, image, width, height) {\n",
              "    img = document.getElementById(name);\n",
              "    if(img == null) {\n",
              "      img = document.createElement('img');\n",
              "      img.id = name;\n",
              "      document.body.appendChild(img);\n",
              "    }\n",
              "    img.src = image;\n",
              "    img.width = width;\n",
              "    img.height = height;\n",
              "  }\n",
              "  "
            ]
          },
          "metadata": {}
        },
        {
          "output_type": "display_data",
          "data": {
            "text/plain": [
              "<IPython.core.display.Javascript object>"
            ],
            "application/javascript": [
              "\n",
              "  async function showImage(name, image, width, height) {\n",
              "    img = document.getElementById(name);\n",
              "    if(img == null) {\n",
              "      img = document.createElement('img');\n",
              "      img.id = name;\n",
              "      document.body.appendChild(img);\n",
              "    }\n",
              "    img.src = image;\n",
              "    img.width = width;\n",
              "    img.height = height;\n",
              "  }\n",
              "  "
            ]
          },
          "metadata": {}
        },
        {
          "output_type": "display_data",
          "data": {
            "text/plain": [
              "<IPython.core.display.Javascript object>"
            ],
            "application/javascript": [
              "\n",
              "  async function showImage(name, image, width, height) {\n",
              "    img = document.getElementById(name);\n",
              "    if(img == null) {\n",
              "      img = document.createElement('img');\n",
              "      img.id = name;\n",
              "      document.body.appendChild(img);\n",
              "    }\n",
              "    img.src = image;\n",
              "    img.width = width;\n",
              "    img.height = height;\n",
              "  }\n",
              "  "
            ]
          },
          "metadata": {}
        },
        {
          "output_type": "display_data",
          "data": {
            "text/plain": [
              "<IPython.core.display.Javascript object>"
            ],
            "application/javascript": [
              "\n",
              "  async function showImage(name, image, width, height) {\n",
              "    img = document.getElementById(name);\n",
              "    if(img == null) {\n",
              "      img = document.createElement('img');\n",
              "      img.id = name;\n",
              "      document.body.appendChild(img);\n",
              "    }\n",
              "    img.src = image;\n",
              "    img.width = width;\n",
              "    img.height = height;\n",
              "  }\n",
              "  "
            ]
          },
          "metadata": {}
        },
        {
          "output_type": "display_data",
          "data": {
            "text/plain": [
              "<IPython.core.display.Javascript object>"
            ],
            "application/javascript": [
              "\n",
              "  async function showImage(name, image, width, height) {\n",
              "    img = document.getElementById(name);\n",
              "    if(img == null) {\n",
              "      img = document.createElement('img');\n",
              "      img.id = name;\n",
              "      document.body.appendChild(img);\n",
              "    }\n",
              "    img.src = image;\n",
              "    img.width = width;\n",
              "    img.height = height;\n",
              "  }\n",
              "  "
            ]
          },
          "metadata": {}
        },
        {
          "output_type": "display_data",
          "data": {
            "text/plain": [
              "<IPython.core.display.Javascript object>"
            ],
            "application/javascript": [
              "\n",
              "  async function showImage(name, image, width, height) {\n",
              "    img = document.getElementById(name);\n",
              "    if(img == null) {\n",
              "      img = document.createElement('img');\n",
              "      img.id = name;\n",
              "      document.body.appendChild(img);\n",
              "    }\n",
              "    img.src = image;\n",
              "    img.width = width;\n",
              "    img.height = height;\n",
              "  }\n",
              "  "
            ]
          },
          "metadata": {}
        },
        {
          "output_type": "display_data",
          "data": {
            "text/plain": [
              "<IPython.core.display.Javascript object>"
            ],
            "application/javascript": [
              "\n",
              "  async function showImage(name, image, width, height) {\n",
              "    img = document.getElementById(name);\n",
              "    if(img == null) {\n",
              "      img = document.createElement('img');\n",
              "      img.id = name;\n",
              "      document.body.appendChild(img);\n",
              "    }\n",
              "    img.src = image;\n",
              "    img.width = width;\n",
              "    img.height = height;\n",
              "  }\n",
              "  "
            ]
          },
          "metadata": {}
        },
        {
          "output_type": "display_data",
          "data": {
            "text/plain": [
              "<IPython.core.display.Javascript object>"
            ],
            "application/javascript": [
              "\n",
              "  async function showImage(name, image, width, height) {\n",
              "    img = document.getElementById(name);\n",
              "    if(img == null) {\n",
              "      img = document.createElement('img');\n",
              "      img.id = name;\n",
              "      document.body.appendChild(img);\n",
              "    }\n",
              "    img.src = image;\n",
              "    img.width = width;\n",
              "    img.height = height;\n",
              "  }\n",
              "  "
            ]
          },
          "metadata": {}
        },
        {
          "output_type": "display_data",
          "data": {
            "text/plain": [
              "<IPython.core.display.Javascript object>"
            ],
            "application/javascript": [
              "\n",
              "  async function showImage(name, image, width, height) {\n",
              "    img = document.getElementById(name);\n",
              "    if(img == null) {\n",
              "      img = document.createElement('img');\n",
              "      img.id = name;\n",
              "      document.body.appendChild(img);\n",
              "    }\n",
              "    img.src = image;\n",
              "    img.width = width;\n",
              "    img.height = height;\n",
              "  }\n",
              "  "
            ]
          },
          "metadata": {}
        },
        {
          "output_type": "display_data",
          "data": {
            "text/plain": [
              "<IPython.core.display.Javascript object>"
            ],
            "application/javascript": [
              "\n",
              "  async function showImage(name, image, width, height) {\n",
              "    img = document.getElementById(name);\n",
              "    if(img == null) {\n",
              "      img = document.createElement('img');\n",
              "      img.id = name;\n",
              "      document.body.appendChild(img);\n",
              "    }\n",
              "    img.src = image;\n",
              "    img.width = width;\n",
              "    img.height = height;\n",
              "  }\n",
              "  "
            ]
          },
          "metadata": {}
        },
        {
          "output_type": "display_data",
          "data": {
            "text/plain": [
              "<IPython.core.display.Javascript object>"
            ],
            "application/javascript": [
              "\n",
              "  async function showImage(name, image, width, height) {\n",
              "    img = document.getElementById(name);\n",
              "    if(img == null) {\n",
              "      img = document.createElement('img');\n",
              "      img.id = name;\n",
              "      document.body.appendChild(img);\n",
              "    }\n",
              "    img.src = image;\n",
              "    img.width = width;\n",
              "    img.height = height;\n",
              "  }\n",
              "  "
            ]
          },
          "metadata": {}
        },
        {
          "output_type": "display_data",
          "data": {
            "text/plain": [
              "<IPython.core.display.Javascript object>"
            ],
            "application/javascript": [
              "\n",
              "  async function showImage(name, image, width, height) {\n",
              "    img = document.getElementById(name);\n",
              "    if(img == null) {\n",
              "      img = document.createElement('img');\n",
              "      img.id = name;\n",
              "      document.body.appendChild(img);\n",
              "    }\n",
              "    img.src = image;\n",
              "    img.width = width;\n",
              "    img.height = height;\n",
              "  }\n",
              "  "
            ]
          },
          "metadata": {}
        },
        {
          "output_type": "display_data",
          "data": {
            "text/plain": [
              "<IPython.core.display.Javascript object>"
            ],
            "application/javascript": [
              "\n",
              "  async function showImage(name, image, width, height) {\n",
              "    img = document.getElementById(name);\n",
              "    if(img == null) {\n",
              "      img = document.createElement('img');\n",
              "      img.id = name;\n",
              "      document.body.appendChild(img);\n",
              "    }\n",
              "    img.src = image;\n",
              "    img.width = width;\n",
              "    img.height = height;\n",
              "  }\n",
              "  "
            ]
          },
          "metadata": {}
        },
        {
          "output_type": "display_data",
          "data": {
            "text/plain": [
              "<IPython.core.display.Javascript object>"
            ],
            "application/javascript": [
              "\n",
              "  async function showImage(name, image, width, height) {\n",
              "    img = document.getElementById(name);\n",
              "    if(img == null) {\n",
              "      img = document.createElement('img');\n",
              "      img.id = name;\n",
              "      document.body.appendChild(img);\n",
              "    }\n",
              "    img.src = image;\n",
              "    img.width = width;\n",
              "    img.height = height;\n",
              "  }\n",
              "  "
            ]
          },
          "metadata": {}
        },
        {
          "output_type": "display_data",
          "data": {
            "text/plain": [
              "<IPython.core.display.Javascript object>"
            ],
            "application/javascript": [
              "\n",
              "  async function showImage(name, image, width, height) {\n",
              "    img = document.getElementById(name);\n",
              "    if(img == null) {\n",
              "      img = document.createElement('img');\n",
              "      img.id = name;\n",
              "      document.body.appendChild(img);\n",
              "    }\n",
              "    img.src = image;\n",
              "    img.width = width;\n",
              "    img.height = height;\n",
              "  }\n",
              "  "
            ]
          },
          "metadata": {}
        },
        {
          "output_type": "display_data",
          "data": {
            "text/plain": [
              "<IPython.core.display.Javascript object>"
            ],
            "application/javascript": [
              "\n",
              "  async function showImage(name, image, width, height) {\n",
              "    img = document.getElementById(name);\n",
              "    if(img == null) {\n",
              "      img = document.createElement('img');\n",
              "      img.id = name;\n",
              "      document.body.appendChild(img);\n",
              "    }\n",
              "    img.src = image;\n",
              "    img.width = width;\n",
              "    img.height = height;\n",
              "  }\n",
              "  "
            ]
          },
          "metadata": {}
        },
        {
          "output_type": "display_data",
          "data": {
            "text/plain": [
              "<IPython.core.display.Javascript object>"
            ],
            "application/javascript": [
              "\n",
              "  async function showImage(name, image, width, height) {\n",
              "    img = document.getElementById(name);\n",
              "    if(img == null) {\n",
              "      img = document.createElement('img');\n",
              "      img.id = name;\n",
              "      document.body.appendChild(img);\n",
              "    }\n",
              "    img.src = image;\n",
              "    img.width = width;\n",
              "    img.height = height;\n",
              "  }\n",
              "  "
            ]
          },
          "metadata": {}
        },
        {
          "output_type": "display_data",
          "data": {
            "text/plain": [
              "<IPython.core.display.Javascript object>"
            ],
            "application/javascript": [
              "\n",
              "  async function showImage(name, image, width, height) {\n",
              "    img = document.getElementById(name);\n",
              "    if(img == null) {\n",
              "      img = document.createElement('img');\n",
              "      img.id = name;\n",
              "      document.body.appendChild(img);\n",
              "    }\n",
              "    img.src = image;\n",
              "    img.width = width;\n",
              "    img.height = height;\n",
              "  }\n",
              "  "
            ]
          },
          "metadata": {}
        },
        {
          "output_type": "display_data",
          "data": {
            "text/plain": [
              "<IPython.core.display.Javascript object>"
            ],
            "application/javascript": [
              "\n",
              "  async function showImage(name, image, width, height) {\n",
              "    img = document.getElementById(name);\n",
              "    if(img == null) {\n",
              "      img = document.createElement('img');\n",
              "      img.id = name;\n",
              "      document.body.appendChild(img);\n",
              "    }\n",
              "    img.src = image;\n",
              "    img.width = width;\n",
              "    img.height = height;\n",
              "  }\n",
              "  "
            ]
          },
          "metadata": {}
        },
        {
          "output_type": "display_data",
          "data": {
            "text/plain": [
              "<IPython.core.display.Javascript object>"
            ],
            "application/javascript": [
              "\n",
              "  async function showImage(name, image, width, height) {\n",
              "    img = document.getElementById(name);\n",
              "    if(img == null) {\n",
              "      img = document.createElement('img');\n",
              "      img.id = name;\n",
              "      document.body.appendChild(img);\n",
              "    }\n",
              "    img.src = image;\n",
              "    img.width = width;\n",
              "    img.height = height;\n",
              "  }\n",
              "  "
            ]
          },
          "metadata": {}
        },
        {
          "output_type": "display_data",
          "data": {
            "text/plain": [
              "<IPython.core.display.Javascript object>"
            ],
            "application/javascript": [
              "\n",
              "  async function showImage(name, image, width, height) {\n",
              "    img = document.getElementById(name);\n",
              "    if(img == null) {\n",
              "      img = document.createElement('img');\n",
              "      img.id = name;\n",
              "      document.body.appendChild(img);\n",
              "    }\n",
              "    img.src = image;\n",
              "    img.width = width;\n",
              "    img.height = height;\n",
              "  }\n",
              "  "
            ]
          },
          "metadata": {}
        },
        {
          "output_type": "display_data",
          "data": {
            "text/plain": [
              "<IPython.core.display.Javascript object>"
            ],
            "application/javascript": [
              "\n",
              "  async function showImage(name, image, width, height) {\n",
              "    img = document.getElementById(name);\n",
              "    if(img == null) {\n",
              "      img = document.createElement('img');\n",
              "      img.id = name;\n",
              "      document.body.appendChild(img);\n",
              "    }\n",
              "    img.src = image;\n",
              "    img.width = width;\n",
              "    img.height = height;\n",
              "  }\n",
              "  "
            ]
          },
          "metadata": {}
        },
        {
          "output_type": "display_data",
          "data": {
            "text/plain": [
              "<IPython.core.display.Javascript object>"
            ],
            "application/javascript": [
              "\n",
              "  async function showImage(name, image, width, height) {\n",
              "    img = document.getElementById(name);\n",
              "    if(img == null) {\n",
              "      img = document.createElement('img');\n",
              "      img.id = name;\n",
              "      document.body.appendChild(img);\n",
              "    }\n",
              "    img.src = image;\n",
              "    img.width = width;\n",
              "    img.height = height;\n",
              "  }\n",
              "  "
            ]
          },
          "metadata": {}
        },
        {
          "output_type": "display_data",
          "data": {
            "text/plain": [
              "<IPython.core.display.Javascript object>"
            ],
            "application/javascript": [
              "\n",
              "  async function showImage(name, image, width, height) {\n",
              "    img = document.getElementById(name);\n",
              "    if(img == null) {\n",
              "      img = document.createElement('img');\n",
              "      img.id = name;\n",
              "      document.body.appendChild(img);\n",
              "    }\n",
              "    img.src = image;\n",
              "    img.width = width;\n",
              "    img.height = height;\n",
              "  }\n",
              "  "
            ]
          },
          "metadata": {}
        },
        {
          "output_type": "display_data",
          "data": {
            "text/plain": [
              "<IPython.core.display.Javascript object>"
            ],
            "application/javascript": [
              "\n",
              "  async function showImage(name, image, width, height) {\n",
              "    img = document.getElementById(name);\n",
              "    if(img == null) {\n",
              "      img = document.createElement('img');\n",
              "      img.id = name;\n",
              "      document.body.appendChild(img);\n",
              "    }\n",
              "    img.src = image;\n",
              "    img.width = width;\n",
              "    img.height = height;\n",
              "  }\n",
              "  "
            ]
          },
          "metadata": {}
        },
        {
          "output_type": "display_data",
          "data": {
            "text/plain": [
              "<IPython.core.display.Javascript object>"
            ],
            "application/javascript": [
              "\n",
              "  async function showImage(name, image, width, height) {\n",
              "    img = document.getElementById(name);\n",
              "    if(img == null) {\n",
              "      img = document.createElement('img');\n",
              "      img.id = name;\n",
              "      document.body.appendChild(img);\n",
              "    }\n",
              "    img.src = image;\n",
              "    img.width = width;\n",
              "    img.height = height;\n",
              "  }\n",
              "  "
            ]
          },
          "metadata": {}
        },
        {
          "output_type": "display_data",
          "data": {
            "text/plain": [
              "<IPython.core.display.Javascript object>"
            ],
            "application/javascript": [
              "\n",
              "  async function showImage(name, image, width, height) {\n",
              "    img = document.getElementById(name);\n",
              "    if(img == null) {\n",
              "      img = document.createElement('img');\n",
              "      img.id = name;\n",
              "      document.body.appendChild(img);\n",
              "    }\n",
              "    img.src = image;\n",
              "    img.width = width;\n",
              "    img.height = height;\n",
              "  }\n",
              "  "
            ]
          },
          "metadata": {}
        },
        {
          "output_type": "display_data",
          "data": {
            "text/plain": [
              "<IPython.core.display.Javascript object>"
            ],
            "application/javascript": [
              "\n",
              "  async function showImage(name, image, width, height) {\n",
              "    img = document.getElementById(name);\n",
              "    if(img == null) {\n",
              "      img = document.createElement('img');\n",
              "      img.id = name;\n",
              "      document.body.appendChild(img);\n",
              "    }\n",
              "    img.src = image;\n",
              "    img.width = width;\n",
              "    img.height = height;\n",
              "  }\n",
              "  "
            ]
          },
          "metadata": {}
        },
        {
          "output_type": "display_data",
          "data": {
            "text/plain": [
              "<IPython.core.display.Javascript object>"
            ],
            "application/javascript": [
              "\n",
              "  async function showImage(name, image, width, height) {\n",
              "    img = document.getElementById(name);\n",
              "    if(img == null) {\n",
              "      img = document.createElement('img');\n",
              "      img.id = name;\n",
              "      document.body.appendChild(img);\n",
              "    }\n",
              "    img.src = image;\n",
              "    img.width = width;\n",
              "    img.height = height;\n",
              "  }\n",
              "  "
            ]
          },
          "metadata": {}
        },
        {
          "output_type": "display_data",
          "data": {
            "text/plain": [
              "<IPython.core.display.Javascript object>"
            ],
            "application/javascript": [
              "\n",
              "  async function showImage(name, image, width, height) {\n",
              "    img = document.getElementById(name);\n",
              "    if(img == null) {\n",
              "      img = document.createElement('img');\n",
              "      img.id = name;\n",
              "      document.body.appendChild(img);\n",
              "    }\n",
              "    img.src = image;\n",
              "    img.width = width;\n",
              "    img.height = height;\n",
              "  }\n",
              "  "
            ]
          },
          "metadata": {}
        },
        {
          "output_type": "display_data",
          "data": {
            "text/plain": [
              "<IPython.core.display.Javascript object>"
            ],
            "application/javascript": [
              "\n",
              "  async function showImage(name, image, width, height) {\n",
              "    img = document.getElementById(name);\n",
              "    if(img == null) {\n",
              "      img = document.createElement('img');\n",
              "      img.id = name;\n",
              "      document.body.appendChild(img);\n",
              "    }\n",
              "    img.src = image;\n",
              "    img.width = width;\n",
              "    img.height = height;\n",
              "  }\n",
              "  "
            ]
          },
          "metadata": {}
        },
        {
          "output_type": "display_data",
          "data": {
            "text/plain": [
              "<IPython.core.display.Javascript object>"
            ],
            "application/javascript": [
              "\n",
              "  async function showImage(name, image, width, height) {\n",
              "    img = document.getElementById(name);\n",
              "    if(img == null) {\n",
              "      img = document.createElement('img');\n",
              "      img.id = name;\n",
              "      document.body.appendChild(img);\n",
              "    }\n",
              "    img.src = image;\n",
              "    img.width = width;\n",
              "    img.height = height;\n",
              "  }\n",
              "  "
            ]
          },
          "metadata": {}
        },
        {
          "output_type": "display_data",
          "data": {
            "text/plain": [
              "<IPython.core.display.Javascript object>"
            ],
            "application/javascript": [
              "\n",
              "  async function showImage(name, image, width, height) {\n",
              "    img = document.getElementById(name);\n",
              "    if(img == null) {\n",
              "      img = document.createElement('img');\n",
              "      img.id = name;\n",
              "      document.body.appendChild(img);\n",
              "    }\n",
              "    img.src = image;\n",
              "    img.width = width;\n",
              "    img.height = height;\n",
              "  }\n",
              "  "
            ]
          },
          "metadata": {}
        },
        {
          "output_type": "display_data",
          "data": {
            "text/plain": [
              "<IPython.core.display.Javascript object>"
            ],
            "application/javascript": [
              "\n",
              "  async function showImage(name, image, width, height) {\n",
              "    img = document.getElementById(name);\n",
              "    if(img == null) {\n",
              "      img = document.createElement('img');\n",
              "      img.id = name;\n",
              "      document.body.appendChild(img);\n",
              "    }\n",
              "    img.src = image;\n",
              "    img.width = width;\n",
              "    img.height = height;\n",
              "  }\n",
              "  "
            ]
          },
          "metadata": {}
        },
        {
          "output_type": "display_data",
          "data": {
            "text/plain": [
              "<IPython.core.display.Javascript object>"
            ],
            "application/javascript": [
              "\n",
              "  async function showImage(name, image, width, height) {\n",
              "    img = document.getElementById(name);\n",
              "    if(img == null) {\n",
              "      img = document.createElement('img');\n",
              "      img.id = name;\n",
              "      document.body.appendChild(img);\n",
              "    }\n",
              "    img.src = image;\n",
              "    img.width = width;\n",
              "    img.height = height;\n",
              "  }\n",
              "  "
            ]
          },
          "metadata": {}
        },
        {
          "output_type": "display_data",
          "data": {
            "text/plain": [
              "<IPython.core.display.Javascript object>"
            ],
            "application/javascript": [
              "\n",
              "  async function showImage(name, image, width, height) {\n",
              "    img = document.getElementById(name);\n",
              "    if(img == null) {\n",
              "      img = document.createElement('img');\n",
              "      img.id = name;\n",
              "      document.body.appendChild(img);\n",
              "    }\n",
              "    img.src = image;\n",
              "    img.width = width;\n",
              "    img.height = height;\n",
              "  }\n",
              "  "
            ]
          },
          "metadata": {}
        },
        {
          "output_type": "display_data",
          "data": {
            "text/plain": [
              "<IPython.core.display.Javascript object>"
            ],
            "application/javascript": [
              "\n",
              "  async function showImage(name, image, width, height) {\n",
              "    img = document.getElementById(name);\n",
              "    if(img == null) {\n",
              "      img = document.createElement('img');\n",
              "      img.id = name;\n",
              "      document.body.appendChild(img);\n",
              "    }\n",
              "    img.src = image;\n",
              "    img.width = width;\n",
              "    img.height = height;\n",
              "  }\n",
              "  "
            ]
          },
          "metadata": {}
        },
        {
          "output_type": "display_data",
          "data": {
            "text/plain": [
              "<IPython.core.display.Javascript object>"
            ],
            "application/javascript": [
              "\n",
              "  async function showImage(name, image, width, height) {\n",
              "    img = document.getElementById(name);\n",
              "    if(img == null) {\n",
              "      img = document.createElement('img');\n",
              "      img.id = name;\n",
              "      document.body.appendChild(img);\n",
              "    }\n",
              "    img.src = image;\n",
              "    img.width = width;\n",
              "    img.height = height;\n",
              "  }\n",
              "  "
            ]
          },
          "metadata": {}
        },
        {
          "output_type": "display_data",
          "data": {
            "text/plain": [
              "<IPython.core.display.Javascript object>"
            ],
            "application/javascript": [
              "\n",
              "  async function showImage(name, image, width, height) {\n",
              "    img = document.getElementById(name);\n",
              "    if(img == null) {\n",
              "      img = document.createElement('img');\n",
              "      img.id = name;\n",
              "      document.body.appendChild(img);\n",
              "    }\n",
              "    img.src = image;\n",
              "    img.width = width;\n",
              "    img.height = height;\n",
              "  }\n",
              "  "
            ]
          },
          "metadata": {}
        },
        {
          "output_type": "display_data",
          "data": {
            "text/plain": [
              "<IPython.core.display.Javascript object>"
            ],
            "application/javascript": [
              "\n",
              "  async function showImage(name, image, width, height) {\n",
              "    img = document.getElementById(name);\n",
              "    if(img == null) {\n",
              "      img = document.createElement('img');\n",
              "      img.id = name;\n",
              "      document.body.appendChild(img);\n",
              "    }\n",
              "    img.src = image;\n",
              "    img.width = width;\n",
              "    img.height = height;\n",
              "  }\n",
              "  "
            ]
          },
          "metadata": {}
        },
        {
          "output_type": "display_data",
          "data": {
            "text/plain": [
              "<IPython.core.display.Javascript object>"
            ],
            "application/javascript": [
              "\n",
              "  async function showImage(name, image, width, height) {\n",
              "    img = document.getElementById(name);\n",
              "    if(img == null) {\n",
              "      img = document.createElement('img');\n",
              "      img.id = name;\n",
              "      document.body.appendChild(img);\n",
              "    }\n",
              "    img.src = image;\n",
              "    img.width = width;\n",
              "    img.height = height;\n",
              "  }\n",
              "  "
            ]
          },
          "metadata": {}
        },
        {
          "output_type": "display_data",
          "data": {
            "text/plain": [
              "<IPython.core.display.Javascript object>"
            ],
            "application/javascript": [
              "\n",
              "  async function showImage(name, image, width, height) {\n",
              "    img = document.getElementById(name);\n",
              "    if(img == null) {\n",
              "      img = document.createElement('img');\n",
              "      img.id = name;\n",
              "      document.body.appendChild(img);\n",
              "    }\n",
              "    img.src = image;\n",
              "    img.width = width;\n",
              "    img.height = height;\n",
              "  }\n",
              "  "
            ]
          },
          "metadata": {}
        },
        {
          "output_type": "display_data",
          "data": {
            "text/plain": [
              "<IPython.core.display.Javascript object>"
            ],
            "application/javascript": [
              "\n",
              "  async function showImage(name, image, width, height) {\n",
              "    img = document.getElementById(name);\n",
              "    if(img == null) {\n",
              "      img = document.createElement('img');\n",
              "      img.id = name;\n",
              "      document.body.appendChild(img);\n",
              "    }\n",
              "    img.src = image;\n",
              "    img.width = width;\n",
              "    img.height = height;\n",
              "  }\n",
              "  "
            ]
          },
          "metadata": {}
        },
        {
          "output_type": "display_data",
          "data": {
            "text/plain": [
              "<IPython.core.display.Javascript object>"
            ],
            "application/javascript": [
              "\n",
              "  async function showImage(name, image, width, height) {\n",
              "    img = document.getElementById(name);\n",
              "    if(img == null) {\n",
              "      img = document.createElement('img');\n",
              "      img.id = name;\n",
              "      document.body.appendChild(img);\n",
              "    }\n",
              "    img.src = image;\n",
              "    img.width = width;\n",
              "    img.height = height;\n",
              "  }\n",
              "  "
            ]
          },
          "metadata": {}
        },
        {
          "output_type": "display_data",
          "data": {
            "text/plain": [
              "<IPython.core.display.Javascript object>"
            ],
            "application/javascript": [
              "\n",
              "  async function showImage(name, image, width, height) {\n",
              "    img = document.getElementById(name);\n",
              "    if(img == null) {\n",
              "      img = document.createElement('img');\n",
              "      img.id = name;\n",
              "      document.body.appendChild(img);\n",
              "    }\n",
              "    img.src = image;\n",
              "    img.width = width;\n",
              "    img.height = height;\n",
              "  }\n",
              "  "
            ]
          },
          "metadata": {}
        },
        {
          "output_type": "display_data",
          "data": {
            "text/plain": [
              "<IPython.core.display.Javascript object>"
            ],
            "application/javascript": [
              "\n",
              "  async function showImage(name, image, width, height) {\n",
              "    img = document.getElementById(name);\n",
              "    if(img == null) {\n",
              "      img = document.createElement('img');\n",
              "      img.id = name;\n",
              "      document.body.appendChild(img);\n",
              "    }\n",
              "    img.src = image;\n",
              "    img.width = width;\n",
              "    img.height = height;\n",
              "  }\n",
              "  "
            ]
          },
          "metadata": {}
        },
        {
          "output_type": "display_data",
          "data": {
            "text/plain": [
              "<IPython.core.display.Javascript object>"
            ],
            "application/javascript": [
              "\n",
              "  async function showImage(name, image, width, height) {\n",
              "    img = document.getElementById(name);\n",
              "    if(img == null) {\n",
              "      img = document.createElement('img');\n",
              "      img.id = name;\n",
              "      document.body.appendChild(img);\n",
              "    }\n",
              "    img.src = image;\n",
              "    img.width = width;\n",
              "    img.height = height;\n",
              "  }\n",
              "  "
            ]
          },
          "metadata": {}
        },
        {
          "output_type": "display_data",
          "data": {
            "text/plain": [
              "<IPython.core.display.Javascript object>"
            ],
            "application/javascript": [
              "\n",
              "  async function showImage(name, image, width, height) {\n",
              "    img = document.getElementById(name);\n",
              "    if(img == null) {\n",
              "      img = document.createElement('img');\n",
              "      img.id = name;\n",
              "      document.body.appendChild(img);\n",
              "    }\n",
              "    img.src = image;\n",
              "    img.width = width;\n",
              "    img.height = height;\n",
              "  }\n",
              "  "
            ]
          },
          "metadata": {}
        },
        {
          "output_type": "display_data",
          "data": {
            "text/plain": [
              "<IPython.core.display.Javascript object>"
            ],
            "application/javascript": [
              "\n",
              "  async function showImage(name, image, width, height) {\n",
              "    img = document.getElementById(name);\n",
              "    if(img == null) {\n",
              "      img = document.createElement('img');\n",
              "      img.id = name;\n",
              "      document.body.appendChild(img);\n",
              "    }\n",
              "    img.src = image;\n",
              "    img.width = width;\n",
              "    img.height = height;\n",
              "  }\n",
              "  "
            ]
          },
          "metadata": {}
        },
        {
          "output_type": "display_data",
          "data": {
            "text/plain": [
              "<IPython.core.display.Javascript object>"
            ],
            "application/javascript": [
              "\n",
              "  async function showImage(name, image, width, height) {\n",
              "    img = document.getElementById(name);\n",
              "    if(img == null) {\n",
              "      img = document.createElement('img');\n",
              "      img.id = name;\n",
              "      document.body.appendChild(img);\n",
              "    }\n",
              "    img.src = image;\n",
              "    img.width = width;\n",
              "    img.height = height;\n",
              "  }\n",
              "  "
            ]
          },
          "metadata": {}
        },
        {
          "output_type": "display_data",
          "data": {
            "text/plain": [
              "<IPython.core.display.Javascript object>"
            ],
            "application/javascript": [
              "\n",
              "  async function showImage(name, image, width, height) {\n",
              "    img = document.getElementById(name);\n",
              "    if(img == null) {\n",
              "      img = document.createElement('img');\n",
              "      img.id = name;\n",
              "      document.body.appendChild(img);\n",
              "    }\n",
              "    img.src = image;\n",
              "    img.width = width;\n",
              "    img.height = height;\n",
              "  }\n",
              "  "
            ]
          },
          "metadata": {}
        },
        {
          "output_type": "display_data",
          "data": {
            "text/plain": [
              "<IPython.core.display.Javascript object>"
            ],
            "application/javascript": [
              "\n",
              "  async function showImage(name, image, width, height) {\n",
              "    img = document.getElementById(name);\n",
              "    if(img == null) {\n",
              "      img = document.createElement('img');\n",
              "      img.id = name;\n",
              "      document.body.appendChild(img);\n",
              "    }\n",
              "    img.src = image;\n",
              "    img.width = width;\n",
              "    img.height = height;\n",
              "  }\n",
              "  "
            ]
          },
          "metadata": {}
        },
        {
          "output_type": "display_data",
          "data": {
            "text/plain": [
              "<IPython.core.display.Javascript object>"
            ],
            "application/javascript": [
              "\n",
              "  async function showImage(name, image, width, height) {\n",
              "    img = document.getElementById(name);\n",
              "    if(img == null) {\n",
              "      img = document.createElement('img');\n",
              "      img.id = name;\n",
              "      document.body.appendChild(img);\n",
              "    }\n",
              "    img.src = image;\n",
              "    img.width = width;\n",
              "    img.height = height;\n",
              "  }\n",
              "  "
            ]
          },
          "metadata": {}
        },
        {
          "output_type": "display_data",
          "data": {
            "text/plain": [
              "<IPython.core.display.Javascript object>"
            ],
            "application/javascript": [
              "\n",
              "  async function showImage(name, image, width, height) {\n",
              "    img = document.getElementById(name);\n",
              "    if(img == null) {\n",
              "      img = document.createElement('img');\n",
              "      img.id = name;\n",
              "      document.body.appendChild(img);\n",
              "    }\n",
              "    img.src = image;\n",
              "    img.width = width;\n",
              "    img.height = height;\n",
              "  }\n",
              "  "
            ]
          },
          "metadata": {}
        },
        {
          "output_type": "display_data",
          "data": {
            "text/plain": [
              "<IPython.core.display.Javascript object>"
            ],
            "application/javascript": [
              "\n",
              "  async function showImage(name, image, width, height) {\n",
              "    img = document.getElementById(name);\n",
              "    if(img == null) {\n",
              "      img = document.createElement('img');\n",
              "      img.id = name;\n",
              "      document.body.appendChild(img);\n",
              "    }\n",
              "    img.src = image;\n",
              "    img.width = width;\n",
              "    img.height = height;\n",
              "  }\n",
              "  "
            ]
          },
          "metadata": {}
        },
        {
          "output_type": "display_data",
          "data": {
            "text/plain": [
              "<IPython.core.display.Javascript object>"
            ],
            "application/javascript": [
              "\n",
              "  async function showImage(name, image, width, height) {\n",
              "    img = document.getElementById(name);\n",
              "    if(img == null) {\n",
              "      img = document.createElement('img');\n",
              "      img.id = name;\n",
              "      document.body.appendChild(img);\n",
              "    }\n",
              "    img.src = image;\n",
              "    img.width = width;\n",
              "    img.height = height;\n",
              "  }\n",
              "  "
            ]
          },
          "metadata": {}
        },
        {
          "output_type": "display_data",
          "data": {
            "text/plain": [
              "<IPython.core.display.Javascript object>"
            ],
            "application/javascript": [
              "\n",
              "  async function showImage(name, image, width, height) {\n",
              "    img = document.getElementById(name);\n",
              "    if(img == null) {\n",
              "      img = document.createElement('img');\n",
              "      img.id = name;\n",
              "      document.body.appendChild(img);\n",
              "    }\n",
              "    img.src = image;\n",
              "    img.width = width;\n",
              "    img.height = height;\n",
              "  }\n",
              "  "
            ]
          },
          "metadata": {}
        },
        {
          "output_type": "display_data",
          "data": {
            "text/plain": [
              "<IPython.core.display.Javascript object>"
            ],
            "application/javascript": [
              "\n",
              "  async function showImage(name, image, width, height) {\n",
              "    img = document.getElementById(name);\n",
              "    if(img == null) {\n",
              "      img = document.createElement('img');\n",
              "      img.id = name;\n",
              "      document.body.appendChild(img);\n",
              "    }\n",
              "    img.src = image;\n",
              "    img.width = width;\n",
              "    img.height = height;\n",
              "  }\n",
              "  "
            ]
          },
          "metadata": {}
        },
        {
          "output_type": "display_data",
          "data": {
            "text/plain": [
              "<IPython.core.display.Javascript object>"
            ],
            "application/javascript": [
              "\n",
              "  async function showImage(name, image, width, height) {\n",
              "    img = document.getElementById(name);\n",
              "    if(img == null) {\n",
              "      img = document.createElement('img');\n",
              "      img.id = name;\n",
              "      document.body.appendChild(img);\n",
              "    }\n",
              "    img.src = image;\n",
              "    img.width = width;\n",
              "    img.height = height;\n",
              "  }\n",
              "  "
            ]
          },
          "metadata": {}
        },
        {
          "output_type": "display_data",
          "data": {
            "text/plain": [
              "<IPython.core.display.Javascript object>"
            ],
            "application/javascript": [
              "\n",
              "  async function showImage(name, image, width, height) {\n",
              "    img = document.getElementById(name);\n",
              "    if(img == null) {\n",
              "      img = document.createElement('img');\n",
              "      img.id = name;\n",
              "      document.body.appendChild(img);\n",
              "    }\n",
              "    img.src = image;\n",
              "    img.width = width;\n",
              "    img.height = height;\n",
              "  }\n",
              "  "
            ]
          },
          "metadata": {}
        },
        {
          "output_type": "display_data",
          "data": {
            "text/plain": [
              "<IPython.core.display.Javascript object>"
            ],
            "application/javascript": [
              "\n",
              "  async function showImage(name, image, width, height) {\n",
              "    img = document.getElementById(name);\n",
              "    if(img == null) {\n",
              "      img = document.createElement('img');\n",
              "      img.id = name;\n",
              "      document.body.appendChild(img);\n",
              "    }\n",
              "    img.src = image;\n",
              "    img.width = width;\n",
              "    img.height = height;\n",
              "  }\n",
              "  "
            ]
          },
          "metadata": {}
        },
        {
          "output_type": "display_data",
          "data": {
            "text/plain": [
              "<IPython.core.display.Javascript object>"
            ],
            "application/javascript": [
              "\n",
              "  async function showImage(name, image, width, height) {\n",
              "    img = document.getElementById(name);\n",
              "    if(img == null) {\n",
              "      img = document.createElement('img');\n",
              "      img.id = name;\n",
              "      document.body.appendChild(img);\n",
              "    }\n",
              "    img.src = image;\n",
              "    img.width = width;\n",
              "    img.height = height;\n",
              "  }\n",
              "  "
            ]
          },
          "metadata": {}
        },
        {
          "output_type": "display_data",
          "data": {
            "text/plain": [
              "<IPython.core.display.Javascript object>"
            ],
            "application/javascript": [
              "\n",
              "  async function showImage(name, image, width, height) {\n",
              "    img = document.getElementById(name);\n",
              "    if(img == null) {\n",
              "      img = document.createElement('img');\n",
              "      img.id = name;\n",
              "      document.body.appendChild(img);\n",
              "    }\n",
              "    img.src = image;\n",
              "    img.width = width;\n",
              "    img.height = height;\n",
              "  }\n",
              "  "
            ]
          },
          "metadata": {}
        },
        {
          "output_type": "display_data",
          "data": {
            "text/plain": [
              "<IPython.core.display.Javascript object>"
            ],
            "application/javascript": [
              "\n",
              "  async function showImage(name, image, width, height) {\n",
              "    img = document.getElementById(name);\n",
              "    if(img == null) {\n",
              "      img = document.createElement('img');\n",
              "      img.id = name;\n",
              "      document.body.appendChild(img);\n",
              "    }\n",
              "    img.src = image;\n",
              "    img.width = width;\n",
              "    img.height = height;\n",
              "  }\n",
              "  "
            ]
          },
          "metadata": {}
        },
        {
          "output_type": "display_data",
          "data": {
            "text/plain": [
              "<IPython.core.display.Javascript object>"
            ],
            "application/javascript": [
              "\n",
              "  async function showImage(name, image, width, height) {\n",
              "    img = document.getElementById(name);\n",
              "    if(img == null) {\n",
              "      img = document.createElement('img');\n",
              "      img.id = name;\n",
              "      document.body.appendChild(img);\n",
              "    }\n",
              "    img.src = image;\n",
              "    img.width = width;\n",
              "    img.height = height;\n",
              "  }\n",
              "  "
            ]
          },
          "metadata": {}
        },
        {
          "output_type": "display_data",
          "data": {
            "text/plain": [
              "<IPython.core.display.Javascript object>"
            ],
            "application/javascript": [
              "\n",
              "  async function showImage(name, image, width, height) {\n",
              "    img = document.getElementById(name);\n",
              "    if(img == null) {\n",
              "      img = document.createElement('img');\n",
              "      img.id = name;\n",
              "      document.body.appendChild(img);\n",
              "    }\n",
              "    img.src = image;\n",
              "    img.width = width;\n",
              "    img.height = height;\n",
              "  }\n",
              "  "
            ]
          },
          "metadata": {}
        },
        {
          "output_type": "display_data",
          "data": {
            "text/plain": [
              "<IPython.core.display.Javascript object>"
            ],
            "application/javascript": [
              "\n",
              "  async function showImage(name, image, width, height) {\n",
              "    img = document.getElementById(name);\n",
              "    if(img == null) {\n",
              "      img = document.createElement('img');\n",
              "      img.id = name;\n",
              "      document.body.appendChild(img);\n",
              "    }\n",
              "    img.src = image;\n",
              "    img.width = width;\n",
              "    img.height = height;\n",
              "  }\n",
              "  "
            ]
          },
          "metadata": {}
        },
        {
          "output_type": "display_data",
          "data": {
            "text/plain": [
              "<IPython.core.display.Javascript object>"
            ],
            "application/javascript": [
              "\n",
              "  async function showImage(name, image, width, height) {\n",
              "    img = document.getElementById(name);\n",
              "    if(img == null) {\n",
              "      img = document.createElement('img');\n",
              "      img.id = name;\n",
              "      document.body.appendChild(img);\n",
              "    }\n",
              "    img.src = image;\n",
              "    img.width = width;\n",
              "    img.height = height;\n",
              "  }\n",
              "  "
            ]
          },
          "metadata": {}
        },
        {
          "output_type": "display_data",
          "data": {
            "text/plain": [
              "<IPython.core.display.Javascript object>"
            ],
            "application/javascript": [
              "\n",
              "  async function showImage(name, image, width, height) {\n",
              "    img = document.getElementById(name);\n",
              "    if(img == null) {\n",
              "      img = document.createElement('img');\n",
              "      img.id = name;\n",
              "      document.body.appendChild(img);\n",
              "    }\n",
              "    img.src = image;\n",
              "    img.width = width;\n",
              "    img.height = height;\n",
              "  }\n",
              "  "
            ]
          },
          "metadata": {}
        },
        {
          "output_type": "display_data",
          "data": {
            "text/plain": [
              "<IPython.core.display.Javascript object>"
            ],
            "application/javascript": [
              "\n",
              "  async function showImage(name, image, width, height) {\n",
              "    img = document.getElementById(name);\n",
              "    if(img == null) {\n",
              "      img = document.createElement('img');\n",
              "      img.id = name;\n",
              "      document.body.appendChild(img);\n",
              "    }\n",
              "    img.src = image;\n",
              "    img.width = width;\n",
              "    img.height = height;\n",
              "  }\n",
              "  "
            ]
          },
          "metadata": {}
        },
        {
          "output_type": "display_data",
          "data": {
            "text/plain": [
              "<IPython.core.display.Javascript object>"
            ],
            "application/javascript": [
              "\n",
              "  async function showImage(name, image, width, height) {\n",
              "    img = document.getElementById(name);\n",
              "    if(img == null) {\n",
              "      img = document.createElement('img');\n",
              "      img.id = name;\n",
              "      document.body.appendChild(img);\n",
              "    }\n",
              "    img.src = image;\n",
              "    img.width = width;\n",
              "    img.height = height;\n",
              "  }\n",
              "  "
            ]
          },
          "metadata": {}
        },
        {
          "output_type": "display_data",
          "data": {
            "text/plain": [
              "<IPython.core.display.Javascript object>"
            ],
            "application/javascript": [
              "\n",
              "  async function showImage(name, image, width, height) {\n",
              "    img = document.getElementById(name);\n",
              "    if(img == null) {\n",
              "      img = document.createElement('img');\n",
              "      img.id = name;\n",
              "      document.body.appendChild(img);\n",
              "    }\n",
              "    img.src = image;\n",
              "    img.width = width;\n",
              "    img.height = height;\n",
              "  }\n",
              "  "
            ]
          },
          "metadata": {}
        },
        {
          "output_type": "display_data",
          "data": {
            "text/plain": [
              "<IPython.core.display.Javascript object>"
            ],
            "application/javascript": [
              "\n",
              "  async function showImage(name, image, width, height) {\n",
              "    img = document.getElementById(name);\n",
              "    if(img == null) {\n",
              "      img = document.createElement('img');\n",
              "      img.id = name;\n",
              "      document.body.appendChild(img);\n",
              "    }\n",
              "    img.src = image;\n",
              "    img.width = width;\n",
              "    img.height = height;\n",
              "  }\n",
              "  "
            ]
          },
          "metadata": {}
        },
        {
          "output_type": "display_data",
          "data": {
            "text/plain": [
              "<IPython.core.display.Javascript object>"
            ],
            "application/javascript": [
              "\n",
              "  async function showImage(name, image, width, height) {\n",
              "    img = document.getElementById(name);\n",
              "    if(img == null) {\n",
              "      img = document.createElement('img');\n",
              "      img.id = name;\n",
              "      document.body.appendChild(img);\n",
              "    }\n",
              "    img.src = image;\n",
              "    img.width = width;\n",
              "    img.height = height;\n",
              "  }\n",
              "  "
            ]
          },
          "metadata": {}
        },
        {
          "output_type": "display_data",
          "data": {
            "text/plain": [
              "<IPython.core.display.Javascript object>"
            ],
            "application/javascript": [
              "\n",
              "  async function showImage(name, image, width, height) {\n",
              "    img = document.getElementById(name);\n",
              "    if(img == null) {\n",
              "      img = document.createElement('img');\n",
              "      img.id = name;\n",
              "      document.body.appendChild(img);\n",
              "    }\n",
              "    img.src = image;\n",
              "    img.width = width;\n",
              "    img.height = height;\n",
              "  }\n",
              "  "
            ]
          },
          "metadata": {}
        },
        {
          "output_type": "display_data",
          "data": {
            "text/plain": [
              "<IPython.core.display.Javascript object>"
            ],
            "application/javascript": [
              "\n",
              "  async function showImage(name, image, width, height) {\n",
              "    img = document.getElementById(name);\n",
              "    if(img == null) {\n",
              "      img = document.createElement('img');\n",
              "      img.id = name;\n",
              "      document.body.appendChild(img);\n",
              "    }\n",
              "    img.src = image;\n",
              "    img.width = width;\n",
              "    img.height = height;\n",
              "  }\n",
              "  "
            ]
          },
          "metadata": {}
        },
        {
          "output_type": "display_data",
          "data": {
            "text/plain": [
              "<IPython.core.display.Javascript object>"
            ],
            "application/javascript": [
              "\n",
              "  async function showImage(name, image, width, height) {\n",
              "    img = document.getElementById(name);\n",
              "    if(img == null) {\n",
              "      img = document.createElement('img');\n",
              "      img.id = name;\n",
              "      document.body.appendChild(img);\n",
              "    }\n",
              "    img.src = image;\n",
              "    img.width = width;\n",
              "    img.height = height;\n",
              "  }\n",
              "  "
            ]
          },
          "metadata": {}
        },
        {
          "output_type": "display_data",
          "data": {
            "text/plain": [
              "<IPython.core.display.Javascript object>"
            ],
            "application/javascript": [
              "\n",
              "  async function showImage(name, image, width, height) {\n",
              "    img = document.getElementById(name);\n",
              "    if(img == null) {\n",
              "      img = document.createElement('img');\n",
              "      img.id = name;\n",
              "      document.body.appendChild(img);\n",
              "    }\n",
              "    img.src = image;\n",
              "    img.width = width;\n",
              "    img.height = height;\n",
              "  }\n",
              "  "
            ]
          },
          "metadata": {}
        },
        {
          "output_type": "display_data",
          "data": {
            "text/plain": [
              "<IPython.core.display.Javascript object>"
            ],
            "application/javascript": [
              "\n",
              "  async function showImage(name, image, width, height) {\n",
              "    img = document.getElementById(name);\n",
              "    if(img == null) {\n",
              "      img = document.createElement('img');\n",
              "      img.id = name;\n",
              "      document.body.appendChild(img);\n",
              "    }\n",
              "    img.src = image;\n",
              "    img.width = width;\n",
              "    img.height = height;\n",
              "  }\n",
              "  "
            ]
          },
          "metadata": {}
        },
        {
          "output_type": "display_data",
          "data": {
            "text/plain": [
              "<IPython.core.display.Javascript object>"
            ],
            "application/javascript": [
              "\n",
              "  async function showImage(name, image, width, height) {\n",
              "    img = document.getElementById(name);\n",
              "    if(img == null) {\n",
              "      img = document.createElement('img');\n",
              "      img.id = name;\n",
              "      document.body.appendChild(img);\n",
              "    }\n",
              "    img.src = image;\n",
              "    img.width = width;\n",
              "    img.height = height;\n",
              "  }\n",
              "  "
            ]
          },
          "metadata": {}
        },
        {
          "output_type": "display_data",
          "data": {
            "text/plain": [
              "<IPython.core.display.Javascript object>"
            ],
            "application/javascript": [
              "\n",
              "  async function showImage(name, image, width, height) {\n",
              "    img = document.getElementById(name);\n",
              "    if(img == null) {\n",
              "      img = document.createElement('img');\n",
              "      img.id = name;\n",
              "      document.body.appendChild(img);\n",
              "    }\n",
              "    img.src = image;\n",
              "    img.width = width;\n",
              "    img.height = height;\n",
              "  }\n",
              "  "
            ]
          },
          "metadata": {}
        },
        {
          "output_type": "display_data",
          "data": {
            "text/plain": [
              "<IPython.core.display.Javascript object>"
            ],
            "application/javascript": [
              "\n",
              "  async function showImage(name, image, width, height) {\n",
              "    img = document.getElementById(name);\n",
              "    if(img == null) {\n",
              "      img = document.createElement('img');\n",
              "      img.id = name;\n",
              "      document.body.appendChild(img);\n",
              "    }\n",
              "    img.src = image;\n",
              "    img.width = width;\n",
              "    img.height = height;\n",
              "  }\n",
              "  "
            ]
          },
          "metadata": {}
        },
        {
          "output_type": "display_data",
          "data": {
            "text/plain": [
              "<IPython.core.display.Javascript object>"
            ],
            "application/javascript": [
              "\n",
              "  async function showImage(name, image, width, height) {\n",
              "    img = document.getElementById(name);\n",
              "    if(img == null) {\n",
              "      img = document.createElement('img');\n",
              "      img.id = name;\n",
              "      document.body.appendChild(img);\n",
              "    }\n",
              "    img.src = image;\n",
              "    img.width = width;\n",
              "    img.height = height;\n",
              "  }\n",
              "  "
            ]
          },
          "metadata": {}
        },
        {
          "output_type": "display_data",
          "data": {
            "text/plain": [
              "<IPython.core.display.Javascript object>"
            ],
            "application/javascript": [
              "\n",
              "  async function showImage(name, image, width, height) {\n",
              "    img = document.getElementById(name);\n",
              "    if(img == null) {\n",
              "      img = document.createElement('img');\n",
              "      img.id = name;\n",
              "      document.body.appendChild(img);\n",
              "    }\n",
              "    img.src = image;\n",
              "    img.width = width;\n",
              "    img.height = height;\n",
              "  }\n",
              "  "
            ]
          },
          "metadata": {}
        },
        {
          "output_type": "display_data",
          "data": {
            "text/plain": [
              "<IPython.core.display.Javascript object>"
            ],
            "application/javascript": [
              "\n",
              "  async function showImage(name, image, width, height) {\n",
              "    img = document.getElementById(name);\n",
              "    if(img == null) {\n",
              "      img = document.createElement('img');\n",
              "      img.id = name;\n",
              "      document.body.appendChild(img);\n",
              "    }\n",
              "    img.src = image;\n",
              "    img.width = width;\n",
              "    img.height = height;\n",
              "  }\n",
              "  "
            ]
          },
          "metadata": {}
        },
        {
          "output_type": "display_data",
          "data": {
            "text/plain": [
              "<IPython.core.display.Javascript object>"
            ],
            "application/javascript": [
              "\n",
              "  async function showImage(name, image, width, height) {\n",
              "    img = document.getElementById(name);\n",
              "    if(img == null) {\n",
              "      img = document.createElement('img');\n",
              "      img.id = name;\n",
              "      document.body.appendChild(img);\n",
              "    }\n",
              "    img.src = image;\n",
              "    img.width = width;\n",
              "    img.height = height;\n",
              "  }\n",
              "  "
            ]
          },
          "metadata": {}
        },
        {
          "output_type": "display_data",
          "data": {
            "text/plain": [
              "<IPython.core.display.Javascript object>"
            ],
            "application/javascript": [
              "\n",
              "  async function showImage(name, image, width, height) {\n",
              "    img = document.getElementById(name);\n",
              "    if(img == null) {\n",
              "      img = document.createElement('img');\n",
              "      img.id = name;\n",
              "      document.body.appendChild(img);\n",
              "    }\n",
              "    img.src = image;\n",
              "    img.width = width;\n",
              "    img.height = height;\n",
              "  }\n",
              "  "
            ]
          },
          "metadata": {}
        },
        {
          "output_type": "display_data",
          "data": {
            "text/plain": [
              "<IPython.core.display.Javascript object>"
            ],
            "application/javascript": [
              "\n",
              "  async function showImage(name, image, width, height) {\n",
              "    img = document.getElementById(name);\n",
              "    if(img == null) {\n",
              "      img = document.createElement('img');\n",
              "      img.id = name;\n",
              "      document.body.appendChild(img);\n",
              "    }\n",
              "    img.src = image;\n",
              "    img.width = width;\n",
              "    img.height = height;\n",
              "  }\n",
              "  "
            ]
          },
          "metadata": {}
        },
        {
          "output_type": "display_data",
          "data": {
            "text/plain": [
              "<IPython.core.display.Javascript object>"
            ],
            "application/javascript": [
              "\n",
              "  async function showImage(name, image, width, height) {\n",
              "    img = document.getElementById(name);\n",
              "    if(img == null) {\n",
              "      img = document.createElement('img');\n",
              "      img.id = name;\n",
              "      document.body.appendChild(img);\n",
              "    }\n",
              "    img.src = image;\n",
              "    img.width = width;\n",
              "    img.height = height;\n",
              "  }\n",
              "  "
            ]
          },
          "metadata": {}
        },
        {
          "output_type": "display_data",
          "data": {
            "text/plain": [
              "<IPython.core.display.Javascript object>"
            ],
            "application/javascript": [
              "\n",
              "  async function showImage(name, image, width, height) {\n",
              "    img = document.getElementById(name);\n",
              "    if(img == null) {\n",
              "      img = document.createElement('img');\n",
              "      img.id = name;\n",
              "      document.body.appendChild(img);\n",
              "    }\n",
              "    img.src = image;\n",
              "    img.width = width;\n",
              "    img.height = height;\n",
              "  }\n",
              "  "
            ]
          },
          "metadata": {}
        },
        {
          "output_type": "display_data",
          "data": {
            "text/plain": [
              "<IPython.core.display.Javascript object>"
            ],
            "application/javascript": [
              "\n",
              "  async function showImage(name, image, width, height) {\n",
              "    img = document.getElementById(name);\n",
              "    if(img == null) {\n",
              "      img = document.createElement('img');\n",
              "      img.id = name;\n",
              "      document.body.appendChild(img);\n",
              "    }\n",
              "    img.src = image;\n",
              "    img.width = width;\n",
              "    img.height = height;\n",
              "  }\n",
              "  "
            ]
          },
          "metadata": {}
        },
        {
          "output_type": "display_data",
          "data": {
            "text/plain": [
              "<IPython.core.display.Javascript object>"
            ],
            "application/javascript": [
              "\n",
              "  async function showImage(name, image, width, height) {\n",
              "    img = document.getElementById(name);\n",
              "    if(img == null) {\n",
              "      img = document.createElement('img');\n",
              "      img.id = name;\n",
              "      document.body.appendChild(img);\n",
              "    }\n",
              "    img.src = image;\n",
              "    img.width = width;\n",
              "    img.height = height;\n",
              "  }\n",
              "  "
            ]
          },
          "metadata": {}
        },
        {
          "output_type": "display_data",
          "data": {
            "text/plain": [
              "<IPython.core.display.Javascript object>"
            ],
            "application/javascript": [
              "\n",
              "  async function showImage(name, image, width, height) {\n",
              "    img = document.getElementById(name);\n",
              "    if(img == null) {\n",
              "      img = document.createElement('img');\n",
              "      img.id = name;\n",
              "      document.body.appendChild(img);\n",
              "    }\n",
              "    img.src = image;\n",
              "    img.width = width;\n",
              "    img.height = height;\n",
              "  }\n",
              "  "
            ]
          },
          "metadata": {}
        },
        {
          "output_type": "display_data",
          "data": {
            "text/plain": [
              "<IPython.core.display.Javascript object>"
            ],
            "application/javascript": [
              "\n",
              "  async function showImage(name, image, width, height) {\n",
              "    img = document.getElementById(name);\n",
              "    if(img == null) {\n",
              "      img = document.createElement('img');\n",
              "      img.id = name;\n",
              "      document.body.appendChild(img);\n",
              "    }\n",
              "    img.src = image;\n",
              "    img.width = width;\n",
              "    img.height = height;\n",
              "  }\n",
              "  "
            ]
          },
          "metadata": {}
        },
        {
          "output_type": "display_data",
          "data": {
            "text/plain": [
              "<IPython.core.display.Javascript object>"
            ],
            "application/javascript": [
              "\n",
              "  async function showImage(name, image, width, height) {\n",
              "    img = document.getElementById(name);\n",
              "    if(img == null) {\n",
              "      img = document.createElement('img');\n",
              "      img.id = name;\n",
              "      document.body.appendChild(img);\n",
              "    }\n",
              "    img.src = image;\n",
              "    img.width = width;\n",
              "    img.height = height;\n",
              "  }\n",
              "  "
            ]
          },
          "metadata": {}
        },
        {
          "output_type": "display_data",
          "data": {
            "text/plain": [
              "<IPython.core.display.Javascript object>"
            ],
            "application/javascript": [
              "\n",
              "  async function showImage(name, image, width, height) {\n",
              "    img = document.getElementById(name);\n",
              "    if(img == null) {\n",
              "      img = document.createElement('img');\n",
              "      img.id = name;\n",
              "      document.body.appendChild(img);\n",
              "    }\n",
              "    img.src = image;\n",
              "    img.width = width;\n",
              "    img.height = height;\n",
              "  }\n",
              "  "
            ]
          },
          "metadata": {}
        },
        {
          "output_type": "display_data",
          "data": {
            "text/plain": [
              "<IPython.core.display.Javascript object>"
            ],
            "application/javascript": [
              "\n",
              "  async function showImage(name, image, width, height) {\n",
              "    img = document.getElementById(name);\n",
              "    if(img == null) {\n",
              "      img = document.createElement('img');\n",
              "      img.id = name;\n",
              "      document.body.appendChild(img);\n",
              "    }\n",
              "    img.src = image;\n",
              "    img.width = width;\n",
              "    img.height = height;\n",
              "  }\n",
              "  "
            ]
          },
          "metadata": {}
        },
        {
          "output_type": "display_data",
          "data": {
            "text/plain": [
              "<IPython.core.display.Javascript object>"
            ],
            "application/javascript": [
              "\n",
              "  async function showImage(name, image, width, height) {\n",
              "    img = document.getElementById(name);\n",
              "    if(img == null) {\n",
              "      img = document.createElement('img');\n",
              "      img.id = name;\n",
              "      document.body.appendChild(img);\n",
              "    }\n",
              "    img.src = image;\n",
              "    img.width = width;\n",
              "    img.height = height;\n",
              "  }\n",
              "  "
            ]
          },
          "metadata": {}
        },
        {
          "output_type": "display_data",
          "data": {
            "text/plain": [
              "<IPython.core.display.Javascript object>"
            ],
            "application/javascript": [
              "\n",
              "  async function showImage(name, image, width, height) {\n",
              "    img = document.getElementById(name);\n",
              "    if(img == null) {\n",
              "      img = document.createElement('img');\n",
              "      img.id = name;\n",
              "      document.body.appendChild(img);\n",
              "    }\n",
              "    img.src = image;\n",
              "    img.width = width;\n",
              "    img.height = height;\n",
              "  }\n",
              "  "
            ]
          },
          "metadata": {}
        },
        {
          "output_type": "display_data",
          "data": {
            "text/plain": [
              "<IPython.core.display.Javascript object>"
            ],
            "application/javascript": [
              "\n",
              "  async function showImage(name, image, width, height) {\n",
              "    img = document.getElementById(name);\n",
              "    if(img == null) {\n",
              "      img = document.createElement('img');\n",
              "      img.id = name;\n",
              "      document.body.appendChild(img);\n",
              "    }\n",
              "    img.src = image;\n",
              "    img.width = width;\n",
              "    img.height = height;\n",
              "  }\n",
              "  "
            ]
          },
          "metadata": {}
        },
        {
          "output_type": "display_data",
          "data": {
            "text/plain": [
              "<IPython.core.display.Javascript object>"
            ],
            "application/javascript": [
              "\n",
              "  async function showImage(name, image, width, height) {\n",
              "    img = document.getElementById(name);\n",
              "    if(img == null) {\n",
              "      img = document.createElement('img');\n",
              "      img.id = name;\n",
              "      document.body.appendChild(img);\n",
              "    }\n",
              "    img.src = image;\n",
              "    img.width = width;\n",
              "    img.height = height;\n",
              "  }\n",
              "  "
            ]
          },
          "metadata": {}
        },
        {
          "output_type": "display_data",
          "data": {
            "text/plain": [
              "<IPython.core.display.Javascript object>"
            ],
            "application/javascript": [
              "\n",
              "  async function showImage(name, image, width, height) {\n",
              "    img = document.getElementById(name);\n",
              "    if(img == null) {\n",
              "      img = document.createElement('img');\n",
              "      img.id = name;\n",
              "      document.body.appendChild(img);\n",
              "    }\n",
              "    img.src = image;\n",
              "    img.width = width;\n",
              "    img.height = height;\n",
              "  }\n",
              "  "
            ]
          },
          "metadata": {}
        },
        {
          "output_type": "display_data",
          "data": {
            "text/plain": [
              "<IPython.core.display.Javascript object>"
            ],
            "application/javascript": [
              "\n",
              "  async function showImage(name, image, width, height) {\n",
              "    img = document.getElementById(name);\n",
              "    if(img == null) {\n",
              "      img = document.createElement('img');\n",
              "      img.id = name;\n",
              "      document.body.appendChild(img);\n",
              "    }\n",
              "    img.src = image;\n",
              "    img.width = width;\n",
              "    img.height = height;\n",
              "  }\n",
              "  "
            ]
          },
          "metadata": {}
        },
        {
          "output_type": "display_data",
          "data": {
            "text/plain": [
              "<IPython.core.display.Javascript object>"
            ],
            "application/javascript": [
              "\n",
              "  async function showImage(name, image, width, height) {\n",
              "    img = document.getElementById(name);\n",
              "    if(img == null) {\n",
              "      img = document.createElement('img');\n",
              "      img.id = name;\n",
              "      document.body.appendChild(img);\n",
              "    }\n",
              "    img.src = image;\n",
              "    img.width = width;\n",
              "    img.height = height;\n",
              "  }\n",
              "  "
            ]
          },
          "metadata": {}
        },
        {
          "output_type": "display_data",
          "data": {
            "text/plain": [
              "<IPython.core.display.Javascript object>"
            ],
            "application/javascript": [
              "\n",
              "  async function showImage(name, image, width, height) {\n",
              "    img = document.getElementById(name);\n",
              "    if(img == null) {\n",
              "      img = document.createElement('img');\n",
              "      img.id = name;\n",
              "      document.body.appendChild(img);\n",
              "    }\n",
              "    img.src = image;\n",
              "    img.width = width;\n",
              "    img.height = height;\n",
              "  }\n",
              "  "
            ]
          },
          "metadata": {}
        },
        {
          "output_type": "display_data",
          "data": {
            "text/plain": [
              "<IPython.core.display.Javascript object>"
            ],
            "application/javascript": [
              "\n",
              "  async function showImage(name, image, width, height) {\n",
              "    img = document.getElementById(name);\n",
              "    if(img == null) {\n",
              "      img = document.createElement('img');\n",
              "      img.id = name;\n",
              "      document.body.appendChild(img);\n",
              "    }\n",
              "    img.src = image;\n",
              "    img.width = width;\n",
              "    img.height = height;\n",
              "  }\n",
              "  "
            ]
          },
          "metadata": {}
        },
        {
          "output_type": "display_data",
          "data": {
            "text/plain": [
              "<IPython.core.display.Javascript object>"
            ],
            "application/javascript": [
              "\n",
              "  async function showImage(name, image, width, height) {\n",
              "    img = document.getElementById(name);\n",
              "    if(img == null) {\n",
              "      img = document.createElement('img');\n",
              "      img.id = name;\n",
              "      document.body.appendChild(img);\n",
              "    }\n",
              "    img.src = image;\n",
              "    img.width = width;\n",
              "    img.height = height;\n",
              "  }\n",
              "  "
            ]
          },
          "metadata": {}
        },
        {
          "output_type": "display_data",
          "data": {
            "text/plain": [
              "<IPython.core.display.Javascript object>"
            ],
            "application/javascript": [
              "\n",
              "  async function showImage(name, image, width, height) {\n",
              "    img = document.getElementById(name);\n",
              "    if(img == null) {\n",
              "      img = document.createElement('img');\n",
              "      img.id = name;\n",
              "      document.body.appendChild(img);\n",
              "    }\n",
              "    img.src = image;\n",
              "    img.width = width;\n",
              "    img.height = height;\n",
              "  }\n",
              "  "
            ]
          },
          "metadata": {}
        },
        {
          "output_type": "display_data",
          "data": {
            "text/plain": [
              "<IPython.core.display.Javascript object>"
            ],
            "application/javascript": [
              "\n",
              "  async function showImage(name, image, width, height) {\n",
              "    img = document.getElementById(name);\n",
              "    if(img == null) {\n",
              "      img = document.createElement('img');\n",
              "      img.id = name;\n",
              "      document.body.appendChild(img);\n",
              "    }\n",
              "    img.src = image;\n",
              "    img.width = width;\n",
              "    img.height = height;\n",
              "  }\n",
              "  "
            ]
          },
          "metadata": {}
        },
        {
          "output_type": "display_data",
          "data": {
            "text/plain": [
              "<IPython.core.display.Javascript object>"
            ],
            "application/javascript": [
              "\n",
              "  async function showImage(name, image, width, height) {\n",
              "    img = document.getElementById(name);\n",
              "    if(img == null) {\n",
              "      img = document.createElement('img');\n",
              "      img.id = name;\n",
              "      document.body.appendChild(img);\n",
              "    }\n",
              "    img.src = image;\n",
              "    img.width = width;\n",
              "    img.height = height;\n",
              "  }\n",
              "  "
            ]
          },
          "metadata": {}
        },
        {
          "output_type": "display_data",
          "data": {
            "text/plain": [
              "<IPython.core.display.Javascript object>"
            ],
            "application/javascript": [
              "\n",
              "  async function showImage(name, image, width, height) {\n",
              "    img = document.getElementById(name);\n",
              "    if(img == null) {\n",
              "      img = document.createElement('img');\n",
              "      img.id = name;\n",
              "      document.body.appendChild(img);\n",
              "    }\n",
              "    img.src = image;\n",
              "    img.width = width;\n",
              "    img.height = height;\n",
              "  }\n",
              "  "
            ]
          },
          "metadata": {}
        },
        {
          "output_type": "display_data",
          "data": {
            "text/plain": [
              "<IPython.core.display.Javascript object>"
            ],
            "application/javascript": [
              "\n",
              "  async function showImage(name, image, width, height) {\n",
              "    img = document.getElementById(name);\n",
              "    if(img == null) {\n",
              "      img = document.createElement('img');\n",
              "      img.id = name;\n",
              "      document.body.appendChild(img);\n",
              "    }\n",
              "    img.src = image;\n",
              "    img.width = width;\n",
              "    img.height = height;\n",
              "  }\n",
              "  "
            ]
          },
          "metadata": {}
        },
        {
          "output_type": "display_data",
          "data": {
            "text/plain": [
              "<IPython.core.display.Javascript object>"
            ],
            "application/javascript": [
              "\n",
              "  async function showImage(name, image, width, height) {\n",
              "    img = document.getElementById(name);\n",
              "    if(img == null) {\n",
              "      img = document.createElement('img');\n",
              "      img.id = name;\n",
              "      document.body.appendChild(img);\n",
              "    }\n",
              "    img.src = image;\n",
              "    img.width = width;\n",
              "    img.height = height;\n",
              "  }\n",
              "  "
            ]
          },
          "metadata": {}
        },
        {
          "output_type": "display_data",
          "data": {
            "text/plain": [
              "<IPython.core.display.Javascript object>"
            ],
            "application/javascript": [
              "\n",
              "  async function showImage(name, image, width, height) {\n",
              "    img = document.getElementById(name);\n",
              "    if(img == null) {\n",
              "      img = document.createElement('img');\n",
              "      img.id = name;\n",
              "      document.body.appendChild(img);\n",
              "    }\n",
              "    img.src = image;\n",
              "    img.width = width;\n",
              "    img.height = height;\n",
              "  }\n",
              "  "
            ]
          },
          "metadata": {}
        },
        {
          "output_type": "display_data",
          "data": {
            "text/plain": [
              "<IPython.core.display.Javascript object>"
            ],
            "application/javascript": [
              "\n",
              "  async function showImage(name, image, width, height) {\n",
              "    img = document.getElementById(name);\n",
              "    if(img == null) {\n",
              "      img = document.createElement('img');\n",
              "      img.id = name;\n",
              "      document.body.appendChild(img);\n",
              "    }\n",
              "    img.src = image;\n",
              "    img.width = width;\n",
              "    img.height = height;\n",
              "  }\n",
              "  "
            ]
          },
          "metadata": {}
        },
        {
          "output_type": "display_data",
          "data": {
            "text/plain": [
              "<IPython.core.display.Javascript object>"
            ],
            "application/javascript": [
              "\n",
              "  async function showImage(name, image, width, height) {\n",
              "    img = document.getElementById(name);\n",
              "    if(img == null) {\n",
              "      img = document.createElement('img');\n",
              "      img.id = name;\n",
              "      document.body.appendChild(img);\n",
              "    }\n",
              "    img.src = image;\n",
              "    img.width = width;\n",
              "    img.height = height;\n",
              "  }\n",
              "  "
            ]
          },
          "metadata": {}
        },
        {
          "output_type": "display_data",
          "data": {
            "text/plain": [
              "<IPython.core.display.Javascript object>"
            ],
            "application/javascript": [
              "\n",
              "  async function showImage(name, image, width, height) {\n",
              "    img = document.getElementById(name);\n",
              "    if(img == null) {\n",
              "      img = document.createElement('img');\n",
              "      img.id = name;\n",
              "      document.body.appendChild(img);\n",
              "    }\n",
              "    img.src = image;\n",
              "    img.width = width;\n",
              "    img.height = height;\n",
              "  }\n",
              "  "
            ]
          },
          "metadata": {}
        },
        {
          "output_type": "display_data",
          "data": {
            "text/plain": [
              "<IPython.core.display.Javascript object>"
            ],
            "application/javascript": [
              "\n",
              "  async function showImage(name, image, width, height) {\n",
              "    img = document.getElementById(name);\n",
              "    if(img == null) {\n",
              "      img = document.createElement('img');\n",
              "      img.id = name;\n",
              "      document.body.appendChild(img);\n",
              "    }\n",
              "    img.src = image;\n",
              "    img.width = width;\n",
              "    img.height = height;\n",
              "  }\n",
              "  "
            ]
          },
          "metadata": {}
        },
        {
          "output_type": "display_data",
          "data": {
            "text/plain": [
              "<IPython.core.display.Javascript object>"
            ],
            "application/javascript": [
              "\n",
              "  async function showImage(name, image, width, height) {\n",
              "    img = document.getElementById(name);\n",
              "    if(img == null) {\n",
              "      img = document.createElement('img');\n",
              "      img.id = name;\n",
              "      document.body.appendChild(img);\n",
              "    }\n",
              "    img.src = image;\n",
              "    img.width = width;\n",
              "    img.height = height;\n",
              "  }\n",
              "  "
            ]
          },
          "metadata": {}
        },
        {
          "output_type": "display_data",
          "data": {
            "text/plain": [
              "<IPython.core.display.Javascript object>"
            ],
            "application/javascript": [
              "\n",
              "  async function showImage(name, image, width, height) {\n",
              "    img = document.getElementById(name);\n",
              "    if(img == null) {\n",
              "      img = document.createElement('img');\n",
              "      img.id = name;\n",
              "      document.body.appendChild(img);\n",
              "    }\n",
              "    img.src = image;\n",
              "    img.width = width;\n",
              "    img.height = height;\n",
              "  }\n",
              "  "
            ]
          },
          "metadata": {}
        },
        {
          "output_type": "display_data",
          "data": {
            "text/plain": [
              "<IPython.core.display.Javascript object>"
            ],
            "application/javascript": [
              "\n",
              "  async function showImage(name, image, width, height) {\n",
              "    img = document.getElementById(name);\n",
              "    if(img == null) {\n",
              "      img = document.createElement('img');\n",
              "      img.id = name;\n",
              "      document.body.appendChild(img);\n",
              "    }\n",
              "    img.src = image;\n",
              "    img.width = width;\n",
              "    img.height = height;\n",
              "  }\n",
              "  "
            ]
          },
          "metadata": {}
        },
        {
          "output_type": "display_data",
          "data": {
            "text/plain": [
              "<IPython.core.display.Javascript object>"
            ],
            "application/javascript": [
              "\n",
              "  async function showImage(name, image, width, height) {\n",
              "    img = document.getElementById(name);\n",
              "    if(img == null) {\n",
              "      img = document.createElement('img');\n",
              "      img.id = name;\n",
              "      document.body.appendChild(img);\n",
              "    }\n",
              "    img.src = image;\n",
              "    img.width = width;\n",
              "    img.height = height;\n",
              "  }\n",
              "  "
            ]
          },
          "metadata": {}
        },
        {
          "output_type": "display_data",
          "data": {
            "text/plain": [
              "<IPython.core.display.Javascript object>"
            ],
            "application/javascript": [
              "\n",
              "  async function showImage(name, image, width, height) {\n",
              "    img = document.getElementById(name);\n",
              "    if(img == null) {\n",
              "      img = document.createElement('img');\n",
              "      img.id = name;\n",
              "      document.body.appendChild(img);\n",
              "    }\n",
              "    img.src = image;\n",
              "    img.width = width;\n",
              "    img.height = height;\n",
              "  }\n",
              "  "
            ]
          },
          "metadata": {}
        },
        {
          "output_type": "display_data",
          "data": {
            "text/plain": [
              "<IPython.core.display.Javascript object>"
            ],
            "application/javascript": [
              "\n",
              "  async function showImage(name, image, width, height) {\n",
              "    img = document.getElementById(name);\n",
              "    if(img == null) {\n",
              "      img = document.createElement('img');\n",
              "      img.id = name;\n",
              "      document.body.appendChild(img);\n",
              "    }\n",
              "    img.src = image;\n",
              "    img.width = width;\n",
              "    img.height = height;\n",
              "  }\n",
              "  "
            ]
          },
          "metadata": {}
        },
        {
          "output_type": "display_data",
          "data": {
            "text/plain": [
              "<IPython.core.display.Javascript object>"
            ],
            "application/javascript": [
              "\n",
              "  async function showImage(name, image, width, height) {\n",
              "    img = document.getElementById(name);\n",
              "    if(img == null) {\n",
              "      img = document.createElement('img');\n",
              "      img.id = name;\n",
              "      document.body.appendChild(img);\n",
              "    }\n",
              "    img.src = image;\n",
              "    img.width = width;\n",
              "    img.height = height;\n",
              "  }\n",
              "  "
            ]
          },
          "metadata": {}
        },
        {
          "output_type": "display_data",
          "data": {
            "text/plain": [
              "<IPython.core.display.Javascript object>"
            ],
            "application/javascript": [
              "\n",
              "  async function showImage(name, image, width, height) {\n",
              "    img = document.getElementById(name);\n",
              "    if(img == null) {\n",
              "      img = document.createElement('img');\n",
              "      img.id = name;\n",
              "      document.body.appendChild(img);\n",
              "    }\n",
              "    img.src = image;\n",
              "    img.width = width;\n",
              "    img.height = height;\n",
              "  }\n",
              "  "
            ]
          },
          "metadata": {}
        },
        {
          "output_type": "display_data",
          "data": {
            "text/plain": [
              "<IPython.core.display.Javascript object>"
            ],
            "application/javascript": [
              "\n",
              "  async function showImage(name, image, width, height) {\n",
              "    img = document.getElementById(name);\n",
              "    if(img == null) {\n",
              "      img = document.createElement('img');\n",
              "      img.id = name;\n",
              "      document.body.appendChild(img);\n",
              "    }\n",
              "    img.src = image;\n",
              "    img.width = width;\n",
              "    img.height = height;\n",
              "  }\n",
              "  "
            ]
          },
          "metadata": {}
        },
        {
          "output_type": "display_data",
          "data": {
            "text/plain": [
              "<IPython.core.display.Javascript object>"
            ],
            "application/javascript": [
              "\n",
              "  async function showImage(name, image, width, height) {\n",
              "    img = document.getElementById(name);\n",
              "    if(img == null) {\n",
              "      img = document.createElement('img');\n",
              "      img.id = name;\n",
              "      document.body.appendChild(img);\n",
              "    }\n",
              "    img.src = image;\n",
              "    img.width = width;\n",
              "    img.height = height;\n",
              "  }\n",
              "  "
            ]
          },
          "metadata": {}
        },
        {
          "output_type": "display_data",
          "data": {
            "text/plain": [
              "<IPython.core.display.Javascript object>"
            ],
            "application/javascript": [
              "\n",
              "  async function showImage(name, image, width, height) {\n",
              "    img = document.getElementById(name);\n",
              "    if(img == null) {\n",
              "      img = document.createElement('img');\n",
              "      img.id = name;\n",
              "      document.body.appendChild(img);\n",
              "    }\n",
              "    img.src = image;\n",
              "    img.width = width;\n",
              "    img.height = height;\n",
              "  }\n",
              "  "
            ]
          },
          "metadata": {}
        },
        {
          "output_type": "display_data",
          "data": {
            "text/plain": [
              "<IPython.core.display.Javascript object>"
            ],
            "application/javascript": [
              "\n",
              "  async function showImage(name, image, width, height) {\n",
              "    img = document.getElementById(name);\n",
              "    if(img == null) {\n",
              "      img = document.createElement('img');\n",
              "      img.id = name;\n",
              "      document.body.appendChild(img);\n",
              "    }\n",
              "    img.src = image;\n",
              "    img.width = width;\n",
              "    img.height = height;\n",
              "  }\n",
              "  "
            ]
          },
          "metadata": {}
        },
        {
          "output_type": "display_data",
          "data": {
            "text/plain": [
              "<IPython.core.display.Javascript object>"
            ],
            "application/javascript": [
              "\n",
              "  async function showImage(name, image, width, height) {\n",
              "    img = document.getElementById(name);\n",
              "    if(img == null) {\n",
              "      img = document.createElement('img');\n",
              "      img.id = name;\n",
              "      document.body.appendChild(img);\n",
              "    }\n",
              "    img.src = image;\n",
              "    img.width = width;\n",
              "    img.height = height;\n",
              "  }\n",
              "  "
            ]
          },
          "metadata": {}
        },
        {
          "output_type": "display_data",
          "data": {
            "text/plain": [
              "<IPython.core.display.Javascript object>"
            ],
            "application/javascript": [
              "\n",
              "  async function showImage(name, image, width, height) {\n",
              "    img = document.getElementById(name);\n",
              "    if(img == null) {\n",
              "      img = document.createElement('img');\n",
              "      img.id = name;\n",
              "      document.body.appendChild(img);\n",
              "    }\n",
              "    img.src = image;\n",
              "    img.width = width;\n",
              "    img.height = height;\n",
              "  }\n",
              "  "
            ]
          },
          "metadata": {}
        },
        {
          "output_type": "display_data",
          "data": {
            "text/plain": [
              "<IPython.core.display.Javascript object>"
            ],
            "application/javascript": [
              "\n",
              "  async function showImage(name, image, width, height) {\n",
              "    img = document.getElementById(name);\n",
              "    if(img == null) {\n",
              "      img = document.createElement('img');\n",
              "      img.id = name;\n",
              "      document.body.appendChild(img);\n",
              "    }\n",
              "    img.src = image;\n",
              "    img.width = width;\n",
              "    img.height = height;\n",
              "  }\n",
              "  "
            ]
          },
          "metadata": {}
        },
        {
          "output_type": "display_data",
          "data": {
            "text/plain": [
              "<IPython.core.display.Javascript object>"
            ],
            "application/javascript": [
              "\n",
              "  async function showImage(name, image, width, height) {\n",
              "    img = document.getElementById(name);\n",
              "    if(img == null) {\n",
              "      img = document.createElement('img');\n",
              "      img.id = name;\n",
              "      document.body.appendChild(img);\n",
              "    }\n",
              "    img.src = image;\n",
              "    img.width = width;\n",
              "    img.height = height;\n",
              "  }\n",
              "  "
            ]
          },
          "metadata": {}
        },
        {
          "output_type": "display_data",
          "data": {
            "text/plain": [
              "<IPython.core.display.Javascript object>"
            ],
            "application/javascript": [
              "\n",
              "  async function showImage(name, image, width, height) {\n",
              "    img = document.getElementById(name);\n",
              "    if(img == null) {\n",
              "      img = document.createElement('img');\n",
              "      img.id = name;\n",
              "      document.body.appendChild(img);\n",
              "    }\n",
              "    img.src = image;\n",
              "    img.width = width;\n",
              "    img.height = height;\n",
              "  }\n",
              "  "
            ]
          },
          "metadata": {}
        },
        {
          "output_type": "display_data",
          "data": {
            "text/plain": [
              "<IPython.core.display.Javascript object>"
            ],
            "application/javascript": [
              "\n",
              "  async function showImage(name, image, width, height) {\n",
              "    img = document.getElementById(name);\n",
              "    if(img == null) {\n",
              "      img = document.createElement('img');\n",
              "      img.id = name;\n",
              "      document.body.appendChild(img);\n",
              "    }\n",
              "    img.src = image;\n",
              "    img.width = width;\n",
              "    img.height = height;\n",
              "  }\n",
              "  "
            ]
          },
          "metadata": {}
        },
        {
          "output_type": "display_data",
          "data": {
            "text/plain": [
              "<IPython.core.display.Javascript object>"
            ],
            "application/javascript": [
              "\n",
              "  async function showImage(name, image, width, height) {\n",
              "    img = document.getElementById(name);\n",
              "    if(img == null) {\n",
              "      img = document.createElement('img');\n",
              "      img.id = name;\n",
              "      document.body.appendChild(img);\n",
              "    }\n",
              "    img.src = image;\n",
              "    img.width = width;\n",
              "    img.height = height;\n",
              "  }\n",
              "  "
            ]
          },
          "metadata": {}
        },
        {
          "output_type": "display_data",
          "data": {
            "text/plain": [
              "<IPython.core.display.Javascript object>"
            ],
            "application/javascript": [
              "\n",
              "  async function showImage(name, image, width, height) {\n",
              "    img = document.getElementById(name);\n",
              "    if(img == null) {\n",
              "      img = document.createElement('img');\n",
              "      img.id = name;\n",
              "      document.body.appendChild(img);\n",
              "    }\n",
              "    img.src = image;\n",
              "    img.width = width;\n",
              "    img.height = height;\n",
              "  }\n",
              "  "
            ]
          },
          "metadata": {}
        },
        {
          "output_type": "display_data",
          "data": {
            "text/plain": [
              "<IPython.core.display.Javascript object>"
            ],
            "application/javascript": [
              "\n",
              "  async function showImage(name, image, width, height) {\n",
              "    img = document.getElementById(name);\n",
              "    if(img == null) {\n",
              "      img = document.createElement('img');\n",
              "      img.id = name;\n",
              "      document.body.appendChild(img);\n",
              "    }\n",
              "    img.src = image;\n",
              "    img.width = width;\n",
              "    img.height = height;\n",
              "  }\n",
              "  "
            ]
          },
          "metadata": {}
        },
        {
          "output_type": "display_data",
          "data": {
            "text/plain": [
              "<IPython.core.display.Javascript object>"
            ],
            "application/javascript": [
              "\n",
              "  async function showImage(name, image, width, height) {\n",
              "    img = document.getElementById(name);\n",
              "    if(img == null) {\n",
              "      img = document.createElement('img');\n",
              "      img.id = name;\n",
              "      document.body.appendChild(img);\n",
              "    }\n",
              "    img.src = image;\n",
              "    img.width = width;\n",
              "    img.height = height;\n",
              "  }\n",
              "  "
            ]
          },
          "metadata": {}
        },
        {
          "output_type": "display_data",
          "data": {
            "text/plain": [
              "<IPython.core.display.Javascript object>"
            ],
            "application/javascript": [
              "\n",
              "  async function showImage(name, image, width, height) {\n",
              "    img = document.getElementById(name);\n",
              "    if(img == null) {\n",
              "      img = document.createElement('img');\n",
              "      img.id = name;\n",
              "      document.body.appendChild(img);\n",
              "    }\n",
              "    img.src = image;\n",
              "    img.width = width;\n",
              "    img.height = height;\n",
              "  }\n",
              "  "
            ]
          },
          "metadata": {}
        },
        {
          "output_type": "display_data",
          "data": {
            "text/plain": [
              "<IPython.core.display.Javascript object>"
            ],
            "application/javascript": [
              "\n",
              "  async function showImage(name, image, width, height) {\n",
              "    img = document.getElementById(name);\n",
              "    if(img == null) {\n",
              "      img = document.createElement('img');\n",
              "      img.id = name;\n",
              "      document.body.appendChild(img);\n",
              "    }\n",
              "    img.src = image;\n",
              "    img.width = width;\n",
              "    img.height = height;\n",
              "  }\n",
              "  "
            ]
          },
          "metadata": {}
        },
        {
          "output_type": "display_data",
          "data": {
            "text/plain": [
              "<IPython.core.display.Javascript object>"
            ],
            "application/javascript": [
              "\n",
              "  async function showImage(name, image, width, height) {\n",
              "    img = document.getElementById(name);\n",
              "    if(img == null) {\n",
              "      img = document.createElement('img');\n",
              "      img.id = name;\n",
              "      document.body.appendChild(img);\n",
              "    }\n",
              "    img.src = image;\n",
              "    img.width = width;\n",
              "    img.height = height;\n",
              "  }\n",
              "  "
            ]
          },
          "metadata": {}
        },
        {
          "output_type": "display_data",
          "data": {
            "text/plain": [
              "<IPython.core.display.Javascript object>"
            ],
            "application/javascript": [
              "\n",
              "  async function showImage(name, image, width, height) {\n",
              "    img = document.getElementById(name);\n",
              "    if(img == null) {\n",
              "      img = document.createElement('img');\n",
              "      img.id = name;\n",
              "      document.body.appendChild(img);\n",
              "    }\n",
              "    img.src = image;\n",
              "    img.width = width;\n",
              "    img.height = height;\n",
              "  }\n",
              "  "
            ]
          },
          "metadata": {}
        },
        {
          "output_type": "display_data",
          "data": {
            "text/plain": [
              "<IPython.core.display.Javascript object>"
            ],
            "application/javascript": [
              "\n",
              "  async function showImage(name, image, width, height) {\n",
              "    img = document.getElementById(name);\n",
              "    if(img == null) {\n",
              "      img = document.createElement('img');\n",
              "      img.id = name;\n",
              "      document.body.appendChild(img);\n",
              "    }\n",
              "    img.src = image;\n",
              "    img.width = width;\n",
              "    img.height = height;\n",
              "  }\n",
              "  "
            ]
          },
          "metadata": {}
        },
        {
          "output_type": "display_data",
          "data": {
            "text/plain": [
              "<IPython.core.display.Javascript object>"
            ],
            "application/javascript": [
              "\n",
              "  async function showImage(name, image, width, height) {\n",
              "    img = document.getElementById(name);\n",
              "    if(img == null) {\n",
              "      img = document.createElement('img');\n",
              "      img.id = name;\n",
              "      document.body.appendChild(img);\n",
              "    }\n",
              "    img.src = image;\n",
              "    img.width = width;\n",
              "    img.height = height;\n",
              "  }\n",
              "  "
            ]
          },
          "metadata": {}
        },
        {
          "output_type": "display_data",
          "data": {
            "text/plain": [
              "<IPython.core.display.Javascript object>"
            ],
            "application/javascript": [
              "\n",
              "  async function showImage(name, image, width, height) {\n",
              "    img = document.getElementById(name);\n",
              "    if(img == null) {\n",
              "      img = document.createElement('img');\n",
              "      img.id = name;\n",
              "      document.body.appendChild(img);\n",
              "    }\n",
              "    img.src = image;\n",
              "    img.width = width;\n",
              "    img.height = height;\n",
              "  }\n",
              "  "
            ]
          },
          "metadata": {}
        },
        {
          "output_type": "display_data",
          "data": {
            "text/plain": [
              "<IPython.core.display.Javascript object>"
            ],
            "application/javascript": [
              "\n",
              "  async function showImage(name, image, width, height) {\n",
              "    img = document.getElementById(name);\n",
              "    if(img == null) {\n",
              "      img = document.createElement('img');\n",
              "      img.id = name;\n",
              "      document.body.appendChild(img);\n",
              "    }\n",
              "    img.src = image;\n",
              "    img.width = width;\n",
              "    img.height = height;\n",
              "  }\n",
              "  "
            ]
          },
          "metadata": {}
        },
        {
          "output_type": "display_data",
          "data": {
            "text/plain": [
              "<IPython.core.display.Javascript object>"
            ],
            "application/javascript": [
              "\n",
              "  async function showImage(name, image, width, height) {\n",
              "    img = document.getElementById(name);\n",
              "    if(img == null) {\n",
              "      img = document.createElement('img');\n",
              "      img.id = name;\n",
              "      document.body.appendChild(img);\n",
              "    }\n",
              "    img.src = image;\n",
              "    img.width = width;\n",
              "    img.height = height;\n",
              "  }\n",
              "  "
            ]
          },
          "metadata": {}
        },
        {
          "output_type": "display_data",
          "data": {
            "text/plain": [
              "<IPython.core.display.Javascript object>"
            ],
            "application/javascript": [
              "\n",
              "  async function showImage(name, image, width, height) {\n",
              "    img = document.getElementById(name);\n",
              "    if(img == null) {\n",
              "      img = document.createElement('img');\n",
              "      img.id = name;\n",
              "      document.body.appendChild(img);\n",
              "    }\n",
              "    img.src = image;\n",
              "    img.width = width;\n",
              "    img.height = height;\n",
              "  }\n",
              "  "
            ]
          },
          "metadata": {}
        },
        {
          "output_type": "display_data",
          "data": {
            "text/plain": [
              "<IPython.core.display.Javascript object>"
            ],
            "application/javascript": [
              "\n",
              "  async function showImage(name, image, width, height) {\n",
              "    img = document.getElementById(name);\n",
              "    if(img == null) {\n",
              "      img = document.createElement('img');\n",
              "      img.id = name;\n",
              "      document.body.appendChild(img);\n",
              "    }\n",
              "    img.src = image;\n",
              "    img.width = width;\n",
              "    img.height = height;\n",
              "  }\n",
              "  "
            ]
          },
          "metadata": {}
        },
        {
          "output_type": "display_data",
          "data": {
            "text/plain": [
              "<IPython.core.display.Javascript object>"
            ],
            "application/javascript": [
              "\n",
              "  async function showImage(name, image, width, height) {\n",
              "    img = document.getElementById(name);\n",
              "    if(img == null) {\n",
              "      img = document.createElement('img');\n",
              "      img.id = name;\n",
              "      document.body.appendChild(img);\n",
              "    }\n",
              "    img.src = image;\n",
              "    img.width = width;\n",
              "    img.height = height;\n",
              "  }\n",
              "  "
            ]
          },
          "metadata": {}
        },
        {
          "output_type": "display_data",
          "data": {
            "text/plain": [
              "<IPython.core.display.Javascript object>"
            ],
            "application/javascript": [
              "\n",
              "  async function showImage(name, image, width, height) {\n",
              "    img = document.getElementById(name);\n",
              "    if(img == null) {\n",
              "      img = document.createElement('img');\n",
              "      img.id = name;\n",
              "      document.body.appendChild(img);\n",
              "    }\n",
              "    img.src = image;\n",
              "    img.width = width;\n",
              "    img.height = height;\n",
              "  }\n",
              "  "
            ]
          },
          "metadata": {}
        },
        {
          "output_type": "display_data",
          "data": {
            "text/plain": [
              "<IPython.core.display.Javascript object>"
            ],
            "application/javascript": [
              "\n",
              "  async function showImage(name, image, width, height) {\n",
              "    img = document.getElementById(name);\n",
              "    if(img == null) {\n",
              "      img = document.createElement('img');\n",
              "      img.id = name;\n",
              "      document.body.appendChild(img);\n",
              "    }\n",
              "    img.src = image;\n",
              "    img.width = width;\n",
              "    img.height = height;\n",
              "  }\n",
              "  "
            ]
          },
          "metadata": {}
        },
        {
          "output_type": "display_data",
          "data": {
            "text/plain": [
              "<IPython.core.display.Javascript object>"
            ],
            "application/javascript": [
              "\n",
              "  async function showImage(name, image, width, height) {\n",
              "    img = document.getElementById(name);\n",
              "    if(img == null) {\n",
              "      img = document.createElement('img');\n",
              "      img.id = name;\n",
              "      document.body.appendChild(img);\n",
              "    }\n",
              "    img.src = image;\n",
              "    img.width = width;\n",
              "    img.height = height;\n",
              "  }\n",
              "  "
            ]
          },
          "metadata": {}
        },
        {
          "output_type": "display_data",
          "data": {
            "text/plain": [
              "<IPython.core.display.Javascript object>"
            ],
            "application/javascript": [
              "\n",
              "  async function showImage(name, image, width, height) {\n",
              "    img = document.getElementById(name);\n",
              "    if(img == null) {\n",
              "      img = document.createElement('img');\n",
              "      img.id = name;\n",
              "      document.body.appendChild(img);\n",
              "    }\n",
              "    img.src = image;\n",
              "    img.width = width;\n",
              "    img.height = height;\n",
              "  }\n",
              "  "
            ]
          },
          "metadata": {}
        },
        {
          "output_type": "display_data",
          "data": {
            "text/plain": [
              "<IPython.core.display.Javascript object>"
            ],
            "application/javascript": [
              "\n",
              "  async function showImage(name, image, width, height) {\n",
              "    img = document.getElementById(name);\n",
              "    if(img == null) {\n",
              "      img = document.createElement('img');\n",
              "      img.id = name;\n",
              "      document.body.appendChild(img);\n",
              "    }\n",
              "    img.src = image;\n",
              "    img.width = width;\n",
              "    img.height = height;\n",
              "  }\n",
              "  "
            ]
          },
          "metadata": {}
        },
        {
          "output_type": "display_data",
          "data": {
            "text/plain": [
              "<IPython.core.display.Javascript object>"
            ],
            "application/javascript": [
              "\n",
              "  async function showImage(name, image, width, height) {\n",
              "    img = document.getElementById(name);\n",
              "    if(img == null) {\n",
              "      img = document.createElement('img');\n",
              "      img.id = name;\n",
              "      document.body.appendChild(img);\n",
              "    }\n",
              "    img.src = image;\n",
              "    img.width = width;\n",
              "    img.height = height;\n",
              "  }\n",
              "  "
            ]
          },
          "metadata": {}
        },
        {
          "output_type": "display_data",
          "data": {
            "text/plain": [
              "<IPython.core.display.Javascript object>"
            ],
            "application/javascript": [
              "\n",
              "  async function showImage(name, image, width, height) {\n",
              "    img = document.getElementById(name);\n",
              "    if(img == null) {\n",
              "      img = document.createElement('img');\n",
              "      img.id = name;\n",
              "      document.body.appendChild(img);\n",
              "    }\n",
              "    img.src = image;\n",
              "    img.width = width;\n",
              "    img.height = height;\n",
              "  }\n",
              "  "
            ]
          },
          "metadata": {}
        },
        {
          "output_type": "display_data",
          "data": {
            "text/plain": [
              "<IPython.core.display.Javascript object>"
            ],
            "application/javascript": [
              "\n",
              "  async function showImage(name, image, width, height) {\n",
              "    img = document.getElementById(name);\n",
              "    if(img == null) {\n",
              "      img = document.createElement('img');\n",
              "      img.id = name;\n",
              "      document.body.appendChild(img);\n",
              "    }\n",
              "    img.src = image;\n",
              "    img.width = width;\n",
              "    img.height = height;\n",
              "  }\n",
              "  "
            ]
          },
          "metadata": {}
        },
        {
          "output_type": "display_data",
          "data": {
            "text/plain": [
              "<IPython.core.display.Javascript object>"
            ],
            "application/javascript": [
              "\n",
              "  async function showImage(name, image, width, height) {\n",
              "    img = document.getElementById(name);\n",
              "    if(img == null) {\n",
              "      img = document.createElement('img');\n",
              "      img.id = name;\n",
              "      document.body.appendChild(img);\n",
              "    }\n",
              "    img.src = image;\n",
              "    img.width = width;\n",
              "    img.height = height;\n",
              "  }\n",
              "  "
            ]
          },
          "metadata": {}
        },
        {
          "output_type": "display_data",
          "data": {
            "text/plain": [
              "<IPython.core.display.Javascript object>"
            ],
            "application/javascript": [
              "\n",
              "  async function showImage(name, image, width, height) {\n",
              "    img = document.getElementById(name);\n",
              "    if(img == null) {\n",
              "      img = document.createElement('img');\n",
              "      img.id = name;\n",
              "      document.body.appendChild(img);\n",
              "    }\n",
              "    img.src = image;\n",
              "    img.width = width;\n",
              "    img.height = height;\n",
              "  }\n",
              "  "
            ]
          },
          "metadata": {}
        },
        {
          "output_type": "display_data",
          "data": {
            "text/plain": [
              "<IPython.core.display.Javascript object>"
            ],
            "application/javascript": [
              "\n",
              "  async function showImage(name, image, width, height) {\n",
              "    img = document.getElementById(name);\n",
              "    if(img == null) {\n",
              "      img = document.createElement('img');\n",
              "      img.id = name;\n",
              "      document.body.appendChild(img);\n",
              "    }\n",
              "    img.src = image;\n",
              "    img.width = width;\n",
              "    img.height = height;\n",
              "  }\n",
              "  "
            ]
          },
          "metadata": {}
        },
        {
          "output_type": "display_data",
          "data": {
            "text/plain": [
              "<IPython.core.display.Javascript object>"
            ],
            "application/javascript": [
              "\n",
              "  async function showImage(name, image, width, height) {\n",
              "    img = document.getElementById(name);\n",
              "    if(img == null) {\n",
              "      img = document.createElement('img');\n",
              "      img.id = name;\n",
              "      document.body.appendChild(img);\n",
              "    }\n",
              "    img.src = image;\n",
              "    img.width = width;\n",
              "    img.height = height;\n",
              "  }\n",
              "  "
            ]
          },
          "metadata": {}
        },
        {
          "output_type": "display_data",
          "data": {
            "text/plain": [
              "<IPython.core.display.Javascript object>"
            ],
            "application/javascript": [
              "\n",
              "  async function showImage(name, image, width, height) {\n",
              "    img = document.getElementById(name);\n",
              "    if(img == null) {\n",
              "      img = document.createElement('img');\n",
              "      img.id = name;\n",
              "      document.body.appendChild(img);\n",
              "    }\n",
              "    img.src = image;\n",
              "    img.width = width;\n",
              "    img.height = height;\n",
              "  }\n",
              "  "
            ]
          },
          "metadata": {}
        },
        {
          "output_type": "display_data",
          "data": {
            "text/plain": [
              "<IPython.core.display.Javascript object>"
            ],
            "application/javascript": [
              "\n",
              "  async function showImage(name, image, width, height) {\n",
              "    img = document.getElementById(name);\n",
              "    if(img == null) {\n",
              "      img = document.createElement('img');\n",
              "      img.id = name;\n",
              "      document.body.appendChild(img);\n",
              "    }\n",
              "    img.src = image;\n",
              "    img.width = width;\n",
              "    img.height = height;\n",
              "  }\n",
              "  "
            ]
          },
          "metadata": {}
        },
        {
          "output_type": "display_data",
          "data": {
            "text/plain": [
              "<IPython.core.display.Javascript object>"
            ],
            "application/javascript": [
              "\n",
              "  async function showImage(name, image, width, height) {\n",
              "    img = document.getElementById(name);\n",
              "    if(img == null) {\n",
              "      img = document.createElement('img');\n",
              "      img.id = name;\n",
              "      document.body.appendChild(img);\n",
              "    }\n",
              "    img.src = image;\n",
              "    img.width = width;\n",
              "    img.height = height;\n",
              "  }\n",
              "  "
            ]
          },
          "metadata": {}
        },
        {
          "output_type": "display_data",
          "data": {
            "text/plain": [
              "<IPython.core.display.Javascript object>"
            ],
            "application/javascript": [
              "\n",
              "  async function showImage(name, image, width, height) {\n",
              "    img = document.getElementById(name);\n",
              "    if(img == null) {\n",
              "      img = document.createElement('img');\n",
              "      img.id = name;\n",
              "      document.body.appendChild(img);\n",
              "    }\n",
              "    img.src = image;\n",
              "    img.width = width;\n",
              "    img.height = height;\n",
              "  }\n",
              "  "
            ]
          },
          "metadata": {}
        },
        {
          "output_type": "display_data",
          "data": {
            "text/plain": [
              "<IPython.core.display.Javascript object>"
            ],
            "application/javascript": [
              "\n",
              "  async function showImage(name, image, width, height) {\n",
              "    img = document.getElementById(name);\n",
              "    if(img == null) {\n",
              "      img = document.createElement('img');\n",
              "      img.id = name;\n",
              "      document.body.appendChild(img);\n",
              "    }\n",
              "    img.src = image;\n",
              "    img.width = width;\n",
              "    img.height = height;\n",
              "  }\n",
              "  "
            ]
          },
          "metadata": {}
        },
        {
          "output_type": "display_data",
          "data": {
            "text/plain": [
              "<IPython.core.display.Javascript object>"
            ],
            "application/javascript": [
              "\n",
              "  async function showImage(name, image, width, height) {\n",
              "    img = document.getElementById(name);\n",
              "    if(img == null) {\n",
              "      img = document.createElement('img');\n",
              "      img.id = name;\n",
              "      document.body.appendChild(img);\n",
              "    }\n",
              "    img.src = image;\n",
              "    img.width = width;\n",
              "    img.height = height;\n",
              "  }\n",
              "  "
            ]
          },
          "metadata": {}
        },
        {
          "output_type": "display_data",
          "data": {
            "text/plain": [
              "<IPython.core.display.Javascript object>"
            ],
            "application/javascript": [
              "\n",
              "  async function showImage(name, image, width, height) {\n",
              "    img = document.getElementById(name);\n",
              "    if(img == null) {\n",
              "      img = document.createElement('img');\n",
              "      img.id = name;\n",
              "      document.body.appendChild(img);\n",
              "    }\n",
              "    img.src = image;\n",
              "    img.width = width;\n",
              "    img.height = height;\n",
              "  }\n",
              "  "
            ]
          },
          "metadata": {}
        },
        {
          "output_type": "display_data",
          "data": {
            "text/plain": [
              "<IPython.core.display.Javascript object>"
            ],
            "application/javascript": [
              "\n",
              "  async function showImage(name, image, width, height) {\n",
              "    img = document.getElementById(name);\n",
              "    if(img == null) {\n",
              "      img = document.createElement('img');\n",
              "      img.id = name;\n",
              "      document.body.appendChild(img);\n",
              "    }\n",
              "    img.src = image;\n",
              "    img.width = width;\n",
              "    img.height = height;\n",
              "  }\n",
              "  "
            ]
          },
          "metadata": {}
        },
        {
          "output_type": "display_data",
          "data": {
            "text/plain": [
              "<IPython.core.display.Javascript object>"
            ],
            "application/javascript": [
              "\n",
              "  async function showImage(name, image, width, height) {\n",
              "    img = document.getElementById(name);\n",
              "    if(img == null) {\n",
              "      img = document.createElement('img');\n",
              "      img.id = name;\n",
              "      document.body.appendChild(img);\n",
              "    }\n",
              "    img.src = image;\n",
              "    img.width = width;\n",
              "    img.height = height;\n",
              "  }\n",
              "  "
            ]
          },
          "metadata": {}
        },
        {
          "output_type": "display_data",
          "data": {
            "text/plain": [
              "<IPython.core.display.Javascript object>"
            ],
            "application/javascript": [
              "\n",
              "  async function showImage(name, image, width, height) {\n",
              "    img = document.getElementById(name);\n",
              "    if(img == null) {\n",
              "      img = document.createElement('img');\n",
              "      img.id = name;\n",
              "      document.body.appendChild(img);\n",
              "    }\n",
              "    img.src = image;\n",
              "    img.width = width;\n",
              "    img.height = height;\n",
              "  }\n",
              "  "
            ]
          },
          "metadata": {}
        },
        {
          "output_type": "display_data",
          "data": {
            "text/plain": [
              "<IPython.core.display.Javascript object>"
            ],
            "application/javascript": [
              "\n",
              "  async function showImage(name, image, width, height) {\n",
              "    img = document.getElementById(name);\n",
              "    if(img == null) {\n",
              "      img = document.createElement('img');\n",
              "      img.id = name;\n",
              "      document.body.appendChild(img);\n",
              "    }\n",
              "    img.src = image;\n",
              "    img.width = width;\n",
              "    img.height = height;\n",
              "  }\n",
              "  "
            ]
          },
          "metadata": {}
        },
        {
          "output_type": "display_data",
          "data": {
            "text/plain": [
              "<IPython.core.display.Javascript object>"
            ],
            "application/javascript": [
              "\n",
              "  async function showImage(name, image, width, height) {\n",
              "    img = document.getElementById(name);\n",
              "    if(img == null) {\n",
              "      img = document.createElement('img');\n",
              "      img.id = name;\n",
              "      document.body.appendChild(img);\n",
              "    }\n",
              "    img.src = image;\n",
              "    img.width = width;\n",
              "    img.height = height;\n",
              "  }\n",
              "  "
            ]
          },
          "metadata": {}
        },
        {
          "output_type": "display_data",
          "data": {
            "text/plain": [
              "<IPython.core.display.Javascript object>"
            ],
            "application/javascript": [
              "\n",
              "  async function showImage(name, image, width, height) {\n",
              "    img = document.getElementById(name);\n",
              "    if(img == null) {\n",
              "      img = document.createElement('img');\n",
              "      img.id = name;\n",
              "      document.body.appendChild(img);\n",
              "    }\n",
              "    img.src = image;\n",
              "    img.width = width;\n",
              "    img.height = height;\n",
              "  }\n",
              "  "
            ]
          },
          "metadata": {}
        },
        {
          "output_type": "display_data",
          "data": {
            "text/plain": [
              "<IPython.core.display.Javascript object>"
            ],
            "application/javascript": [
              "\n",
              "  async function showImage(name, image, width, height) {\n",
              "    img = document.getElementById(name);\n",
              "    if(img == null) {\n",
              "      img = document.createElement('img');\n",
              "      img.id = name;\n",
              "      document.body.appendChild(img);\n",
              "    }\n",
              "    img.src = image;\n",
              "    img.width = width;\n",
              "    img.height = height;\n",
              "  }\n",
              "  "
            ]
          },
          "metadata": {}
        },
        {
          "output_type": "display_data",
          "data": {
            "text/plain": [
              "<IPython.core.display.Javascript object>"
            ],
            "application/javascript": [
              "\n",
              "  async function showImage(name, image, width, height) {\n",
              "    img = document.getElementById(name);\n",
              "    if(img == null) {\n",
              "      img = document.createElement('img');\n",
              "      img.id = name;\n",
              "      document.body.appendChild(img);\n",
              "    }\n",
              "    img.src = image;\n",
              "    img.width = width;\n",
              "    img.height = height;\n",
              "  }\n",
              "  "
            ]
          },
          "metadata": {}
        },
        {
          "output_type": "display_data",
          "data": {
            "text/plain": [
              "<IPython.core.display.Javascript object>"
            ],
            "application/javascript": [
              "\n",
              "  async function showImage(name, image, width, height) {\n",
              "    img = document.getElementById(name);\n",
              "    if(img == null) {\n",
              "      img = document.createElement('img');\n",
              "      img.id = name;\n",
              "      document.body.appendChild(img);\n",
              "    }\n",
              "    img.src = image;\n",
              "    img.width = width;\n",
              "    img.height = height;\n",
              "  }\n",
              "  "
            ]
          },
          "metadata": {}
        },
        {
          "output_type": "display_data",
          "data": {
            "text/plain": [
              "<IPython.core.display.Javascript object>"
            ],
            "application/javascript": [
              "\n",
              "  async function showImage(name, image, width, height) {\n",
              "    img = document.getElementById(name);\n",
              "    if(img == null) {\n",
              "      img = document.createElement('img');\n",
              "      img.id = name;\n",
              "      document.body.appendChild(img);\n",
              "    }\n",
              "    img.src = image;\n",
              "    img.width = width;\n",
              "    img.height = height;\n",
              "  }\n",
              "  "
            ]
          },
          "metadata": {}
        },
        {
          "output_type": "display_data",
          "data": {
            "text/plain": [
              "<IPython.core.display.Javascript object>"
            ],
            "application/javascript": [
              "\n",
              "  async function showImage(name, image, width, height) {\n",
              "    img = document.getElementById(name);\n",
              "    if(img == null) {\n",
              "      img = document.createElement('img');\n",
              "      img.id = name;\n",
              "      document.body.appendChild(img);\n",
              "    }\n",
              "    img.src = image;\n",
              "    img.width = width;\n",
              "    img.height = height;\n",
              "  }\n",
              "  "
            ]
          },
          "metadata": {}
        },
        {
          "output_type": "display_data",
          "data": {
            "text/plain": [
              "<IPython.core.display.Javascript object>"
            ],
            "application/javascript": [
              "\n",
              "  async function showImage(name, image, width, height) {\n",
              "    img = document.getElementById(name);\n",
              "    if(img == null) {\n",
              "      img = document.createElement('img');\n",
              "      img.id = name;\n",
              "      document.body.appendChild(img);\n",
              "    }\n",
              "    img.src = image;\n",
              "    img.width = width;\n",
              "    img.height = height;\n",
              "  }\n",
              "  "
            ]
          },
          "metadata": {}
        },
        {
          "output_type": "display_data",
          "data": {
            "text/plain": [
              "<IPython.core.display.Javascript object>"
            ],
            "application/javascript": [
              "\n",
              "  async function showImage(name, image, width, height) {\n",
              "    img = document.getElementById(name);\n",
              "    if(img == null) {\n",
              "      img = document.createElement('img');\n",
              "      img.id = name;\n",
              "      document.body.appendChild(img);\n",
              "    }\n",
              "    img.src = image;\n",
              "    img.width = width;\n",
              "    img.height = height;\n",
              "  }\n",
              "  "
            ]
          },
          "metadata": {}
        },
        {
          "output_type": "display_data",
          "data": {
            "text/plain": [
              "<IPython.core.display.Javascript object>"
            ],
            "application/javascript": [
              "\n",
              "  async function showImage(name, image, width, height) {\n",
              "    img = document.getElementById(name);\n",
              "    if(img == null) {\n",
              "      img = document.createElement('img');\n",
              "      img.id = name;\n",
              "      document.body.appendChild(img);\n",
              "    }\n",
              "    img.src = image;\n",
              "    img.width = width;\n",
              "    img.height = height;\n",
              "  }\n",
              "  "
            ]
          },
          "metadata": {}
        },
        {
          "output_type": "display_data",
          "data": {
            "text/plain": [
              "<IPython.core.display.Javascript object>"
            ],
            "application/javascript": [
              "\n",
              "  async function showImage(name, image, width, height) {\n",
              "    img = document.getElementById(name);\n",
              "    if(img == null) {\n",
              "      img = document.createElement('img');\n",
              "      img.id = name;\n",
              "      document.body.appendChild(img);\n",
              "    }\n",
              "    img.src = image;\n",
              "    img.width = width;\n",
              "    img.height = height;\n",
              "  }\n",
              "  "
            ]
          },
          "metadata": {}
        },
        {
          "output_type": "display_data",
          "data": {
            "text/plain": [
              "<IPython.core.display.Javascript object>"
            ],
            "application/javascript": [
              "\n",
              "  async function showImage(name, image, width, height) {\n",
              "    img = document.getElementById(name);\n",
              "    if(img == null) {\n",
              "      img = document.createElement('img');\n",
              "      img.id = name;\n",
              "      document.body.appendChild(img);\n",
              "    }\n",
              "    img.src = image;\n",
              "    img.width = width;\n",
              "    img.height = height;\n",
              "  }\n",
              "  "
            ]
          },
          "metadata": {}
        },
        {
          "output_type": "display_data",
          "data": {
            "text/plain": [
              "<IPython.core.display.Javascript object>"
            ],
            "application/javascript": [
              "\n",
              "  async function showImage(name, image, width, height) {\n",
              "    img = document.getElementById(name);\n",
              "    if(img == null) {\n",
              "      img = document.createElement('img');\n",
              "      img.id = name;\n",
              "      document.body.appendChild(img);\n",
              "    }\n",
              "    img.src = image;\n",
              "    img.width = width;\n",
              "    img.height = height;\n",
              "  }\n",
              "  "
            ]
          },
          "metadata": {}
        },
        {
          "output_type": "display_data",
          "data": {
            "text/plain": [
              "<IPython.core.display.Javascript object>"
            ],
            "application/javascript": [
              "\n",
              "  async function showImage(name, image, width, height) {\n",
              "    img = document.getElementById(name);\n",
              "    if(img == null) {\n",
              "      img = document.createElement('img');\n",
              "      img.id = name;\n",
              "      document.body.appendChild(img);\n",
              "    }\n",
              "    img.src = image;\n",
              "    img.width = width;\n",
              "    img.height = height;\n",
              "  }\n",
              "  "
            ]
          },
          "metadata": {}
        },
        {
          "output_type": "display_data",
          "data": {
            "text/plain": [
              "<IPython.core.display.Javascript object>"
            ],
            "application/javascript": [
              "\n",
              "  async function showImage(name, image, width, height) {\n",
              "    img = document.getElementById(name);\n",
              "    if(img == null) {\n",
              "      img = document.createElement('img');\n",
              "      img.id = name;\n",
              "      document.body.appendChild(img);\n",
              "    }\n",
              "    img.src = image;\n",
              "    img.width = width;\n",
              "    img.height = height;\n",
              "  }\n",
              "  "
            ]
          },
          "metadata": {}
        },
        {
          "output_type": "display_data",
          "data": {
            "text/plain": [
              "<IPython.core.display.Javascript object>"
            ],
            "application/javascript": [
              "\n",
              "  async function showImage(name, image, width, height) {\n",
              "    img = document.getElementById(name);\n",
              "    if(img == null) {\n",
              "      img = document.createElement('img');\n",
              "      img.id = name;\n",
              "      document.body.appendChild(img);\n",
              "    }\n",
              "    img.src = image;\n",
              "    img.width = width;\n",
              "    img.height = height;\n",
              "  }\n",
              "  "
            ]
          },
          "metadata": {}
        },
        {
          "output_type": "display_data",
          "data": {
            "text/plain": [
              "<IPython.core.display.Javascript object>"
            ],
            "application/javascript": [
              "\n",
              "  async function showImage(name, image, width, height) {\n",
              "    img = document.getElementById(name);\n",
              "    if(img == null) {\n",
              "      img = document.createElement('img');\n",
              "      img.id = name;\n",
              "      document.body.appendChild(img);\n",
              "    }\n",
              "    img.src = image;\n",
              "    img.width = width;\n",
              "    img.height = height;\n",
              "  }\n",
              "  "
            ]
          },
          "metadata": {}
        },
        {
          "output_type": "display_data",
          "data": {
            "text/plain": [
              "<IPython.core.display.Javascript object>"
            ],
            "application/javascript": [
              "\n",
              "  async function showImage(name, image, width, height) {\n",
              "    img = document.getElementById(name);\n",
              "    if(img == null) {\n",
              "      img = document.createElement('img');\n",
              "      img.id = name;\n",
              "      document.body.appendChild(img);\n",
              "    }\n",
              "    img.src = image;\n",
              "    img.width = width;\n",
              "    img.height = height;\n",
              "  }\n",
              "  "
            ]
          },
          "metadata": {}
        },
        {
          "output_type": "display_data",
          "data": {
            "text/plain": [
              "<IPython.core.display.Javascript object>"
            ],
            "application/javascript": [
              "\n",
              "  async function showImage(name, image, width, height) {\n",
              "    img = document.getElementById(name);\n",
              "    if(img == null) {\n",
              "      img = document.createElement('img');\n",
              "      img.id = name;\n",
              "      document.body.appendChild(img);\n",
              "    }\n",
              "    img.src = image;\n",
              "    img.width = width;\n",
              "    img.height = height;\n",
              "  }\n",
              "  "
            ]
          },
          "metadata": {}
        },
        {
          "output_type": "display_data",
          "data": {
            "text/plain": [
              "<IPython.core.display.Javascript object>"
            ],
            "application/javascript": [
              "\n",
              "  async function showImage(name, image, width, height) {\n",
              "    img = document.getElementById(name);\n",
              "    if(img == null) {\n",
              "      img = document.createElement('img');\n",
              "      img.id = name;\n",
              "      document.body.appendChild(img);\n",
              "    }\n",
              "    img.src = image;\n",
              "    img.width = width;\n",
              "    img.height = height;\n",
              "  }\n",
              "  "
            ]
          },
          "metadata": {}
        },
        {
          "output_type": "display_data",
          "data": {
            "text/plain": [
              "<IPython.core.display.Javascript object>"
            ],
            "application/javascript": [
              "\n",
              "  async function showImage(name, image, width, height) {\n",
              "    img = document.getElementById(name);\n",
              "    if(img == null) {\n",
              "      img = document.createElement('img');\n",
              "      img.id = name;\n",
              "      document.body.appendChild(img);\n",
              "    }\n",
              "    img.src = image;\n",
              "    img.width = width;\n",
              "    img.height = height;\n",
              "  }\n",
              "  "
            ]
          },
          "metadata": {}
        },
        {
          "output_type": "display_data",
          "data": {
            "text/plain": [
              "<IPython.core.display.Javascript object>"
            ],
            "application/javascript": [
              "\n",
              "  async function showImage(name, image, width, height) {\n",
              "    img = document.getElementById(name);\n",
              "    if(img == null) {\n",
              "      img = document.createElement('img');\n",
              "      img.id = name;\n",
              "      document.body.appendChild(img);\n",
              "    }\n",
              "    img.src = image;\n",
              "    img.width = width;\n",
              "    img.height = height;\n",
              "  }\n",
              "  "
            ]
          },
          "metadata": {}
        },
        {
          "output_type": "display_data",
          "data": {
            "text/plain": [
              "<IPython.core.display.Javascript object>"
            ],
            "application/javascript": [
              "\n",
              "  async function showImage(name, image, width, height) {\n",
              "    img = document.getElementById(name);\n",
              "    if(img == null) {\n",
              "      img = document.createElement('img');\n",
              "      img.id = name;\n",
              "      document.body.appendChild(img);\n",
              "    }\n",
              "    img.src = image;\n",
              "    img.width = width;\n",
              "    img.height = height;\n",
              "  }\n",
              "  "
            ]
          },
          "metadata": {}
        },
        {
          "output_type": "display_data",
          "data": {
            "text/plain": [
              "<IPython.core.display.Javascript object>"
            ],
            "application/javascript": [
              "\n",
              "  async function showImage(name, image, width, height) {\n",
              "    img = document.getElementById(name);\n",
              "    if(img == null) {\n",
              "      img = document.createElement('img');\n",
              "      img.id = name;\n",
              "      document.body.appendChild(img);\n",
              "    }\n",
              "    img.src = image;\n",
              "    img.width = width;\n",
              "    img.height = height;\n",
              "  }\n",
              "  "
            ]
          },
          "metadata": {}
        },
        {
          "output_type": "display_data",
          "data": {
            "text/plain": [
              "<IPython.core.display.Javascript object>"
            ],
            "application/javascript": [
              "\n",
              "  async function showImage(name, image, width, height) {\n",
              "    img = document.getElementById(name);\n",
              "    if(img == null) {\n",
              "      img = document.createElement('img');\n",
              "      img.id = name;\n",
              "      document.body.appendChild(img);\n",
              "    }\n",
              "    img.src = image;\n",
              "    img.width = width;\n",
              "    img.height = height;\n",
              "  }\n",
              "  "
            ]
          },
          "metadata": {}
        },
        {
          "output_type": "display_data",
          "data": {
            "text/plain": [
              "<IPython.core.display.Javascript object>"
            ],
            "application/javascript": [
              "\n",
              "  async function showImage(name, image, width, height) {\n",
              "    img = document.getElementById(name);\n",
              "    if(img == null) {\n",
              "      img = document.createElement('img');\n",
              "      img.id = name;\n",
              "      document.body.appendChild(img);\n",
              "    }\n",
              "    img.src = image;\n",
              "    img.width = width;\n",
              "    img.height = height;\n",
              "  }\n",
              "  "
            ]
          },
          "metadata": {}
        },
        {
          "output_type": "display_data",
          "data": {
            "text/plain": [
              "<IPython.core.display.Javascript object>"
            ],
            "application/javascript": [
              "\n",
              "  async function showImage(name, image, width, height) {\n",
              "    img = document.getElementById(name);\n",
              "    if(img == null) {\n",
              "      img = document.createElement('img');\n",
              "      img.id = name;\n",
              "      document.body.appendChild(img);\n",
              "    }\n",
              "    img.src = image;\n",
              "    img.width = width;\n",
              "    img.height = height;\n",
              "  }\n",
              "  "
            ]
          },
          "metadata": {}
        },
        {
          "output_type": "display_data",
          "data": {
            "text/plain": [
              "<IPython.core.display.Javascript object>"
            ],
            "application/javascript": [
              "\n",
              "  async function showImage(name, image, width, height) {\n",
              "    img = document.getElementById(name);\n",
              "    if(img == null) {\n",
              "      img = document.createElement('img');\n",
              "      img.id = name;\n",
              "      document.body.appendChild(img);\n",
              "    }\n",
              "    img.src = image;\n",
              "    img.width = width;\n",
              "    img.height = height;\n",
              "  }\n",
              "  "
            ]
          },
          "metadata": {}
        },
        {
          "output_type": "display_data",
          "data": {
            "text/plain": [
              "<IPython.core.display.Javascript object>"
            ],
            "application/javascript": [
              "\n",
              "  async function showImage(name, image, width, height) {\n",
              "    img = document.getElementById(name);\n",
              "    if(img == null) {\n",
              "      img = document.createElement('img');\n",
              "      img.id = name;\n",
              "      document.body.appendChild(img);\n",
              "    }\n",
              "    img.src = image;\n",
              "    img.width = width;\n",
              "    img.height = height;\n",
              "  }\n",
              "  "
            ]
          },
          "metadata": {}
        },
        {
          "output_type": "display_data",
          "data": {
            "text/plain": [
              "<IPython.core.display.Javascript object>"
            ],
            "application/javascript": [
              "\n",
              "  async function showImage(name, image, width, height) {\n",
              "    img = document.getElementById(name);\n",
              "    if(img == null) {\n",
              "      img = document.createElement('img');\n",
              "      img.id = name;\n",
              "      document.body.appendChild(img);\n",
              "    }\n",
              "    img.src = image;\n",
              "    img.width = width;\n",
              "    img.height = height;\n",
              "  }\n",
              "  "
            ]
          },
          "metadata": {}
        },
        {
          "output_type": "display_data",
          "data": {
            "text/plain": [
              "<IPython.core.display.Javascript object>"
            ],
            "application/javascript": [
              "\n",
              "  async function showImage(name, image, width, height) {\n",
              "    img = document.getElementById(name);\n",
              "    if(img == null) {\n",
              "      img = document.createElement('img');\n",
              "      img.id = name;\n",
              "      document.body.appendChild(img);\n",
              "    }\n",
              "    img.src = image;\n",
              "    img.width = width;\n",
              "    img.height = height;\n",
              "  }\n",
              "  "
            ]
          },
          "metadata": {}
        },
        {
          "output_type": "display_data",
          "data": {
            "text/plain": [
              "<IPython.core.display.Javascript object>"
            ],
            "application/javascript": [
              "\n",
              "  async function showImage(name, image, width, height) {\n",
              "    img = document.getElementById(name);\n",
              "    if(img == null) {\n",
              "      img = document.createElement('img');\n",
              "      img.id = name;\n",
              "      document.body.appendChild(img);\n",
              "    }\n",
              "    img.src = image;\n",
              "    img.width = width;\n",
              "    img.height = height;\n",
              "  }\n",
              "  "
            ]
          },
          "metadata": {}
        },
        {
          "output_type": "display_data",
          "data": {
            "text/plain": [
              "<IPython.core.display.Javascript object>"
            ],
            "application/javascript": [
              "\n",
              "  async function showImage(name, image, width, height) {\n",
              "    img = document.getElementById(name);\n",
              "    if(img == null) {\n",
              "      img = document.createElement('img');\n",
              "      img.id = name;\n",
              "      document.body.appendChild(img);\n",
              "    }\n",
              "    img.src = image;\n",
              "    img.width = width;\n",
              "    img.height = height;\n",
              "  }\n",
              "  "
            ]
          },
          "metadata": {}
        },
        {
          "output_type": "display_data",
          "data": {
            "text/plain": [
              "<IPython.core.display.Javascript object>"
            ],
            "application/javascript": [
              "\n",
              "  async function showImage(name, image, width, height) {\n",
              "    img = document.getElementById(name);\n",
              "    if(img == null) {\n",
              "      img = document.createElement('img');\n",
              "      img.id = name;\n",
              "      document.body.appendChild(img);\n",
              "    }\n",
              "    img.src = image;\n",
              "    img.width = width;\n",
              "    img.height = height;\n",
              "  }\n",
              "  "
            ]
          },
          "metadata": {}
        },
        {
          "output_type": "display_data",
          "data": {
            "text/plain": [
              "<IPython.core.display.Javascript object>"
            ],
            "application/javascript": [
              "\n",
              "  async function showImage(name, image, width, height) {\n",
              "    img = document.getElementById(name);\n",
              "    if(img == null) {\n",
              "      img = document.createElement('img');\n",
              "      img.id = name;\n",
              "      document.body.appendChild(img);\n",
              "    }\n",
              "    img.src = image;\n",
              "    img.width = width;\n",
              "    img.height = height;\n",
              "  }\n",
              "  "
            ]
          },
          "metadata": {}
        },
        {
          "output_type": "display_data",
          "data": {
            "text/plain": [
              "<IPython.core.display.Javascript object>"
            ],
            "application/javascript": [
              "\n",
              "  async function showImage(name, image, width, height) {\n",
              "    img = document.getElementById(name);\n",
              "    if(img == null) {\n",
              "      img = document.createElement('img');\n",
              "      img.id = name;\n",
              "      document.body.appendChild(img);\n",
              "    }\n",
              "    img.src = image;\n",
              "    img.width = width;\n",
              "    img.height = height;\n",
              "  }\n",
              "  "
            ]
          },
          "metadata": {}
        },
        {
          "output_type": "display_data",
          "data": {
            "text/plain": [
              "<IPython.core.display.Javascript object>"
            ],
            "application/javascript": [
              "\n",
              "  async function showImage(name, image, width, height) {\n",
              "    img = document.getElementById(name);\n",
              "    if(img == null) {\n",
              "      img = document.createElement('img');\n",
              "      img.id = name;\n",
              "      document.body.appendChild(img);\n",
              "    }\n",
              "    img.src = image;\n",
              "    img.width = width;\n",
              "    img.height = height;\n",
              "  }\n",
              "  "
            ]
          },
          "metadata": {}
        },
        {
          "output_type": "display_data",
          "data": {
            "text/plain": [
              "<IPython.core.display.Javascript object>"
            ],
            "application/javascript": [
              "\n",
              "  async function showImage(name, image, width, height) {\n",
              "    img = document.getElementById(name);\n",
              "    if(img == null) {\n",
              "      img = document.createElement('img');\n",
              "      img.id = name;\n",
              "      document.body.appendChild(img);\n",
              "    }\n",
              "    img.src = image;\n",
              "    img.width = width;\n",
              "    img.height = height;\n",
              "  }\n",
              "  "
            ]
          },
          "metadata": {}
        },
        {
          "output_type": "display_data",
          "data": {
            "text/plain": [
              "<IPython.core.display.Javascript object>"
            ],
            "application/javascript": [
              "\n",
              "  async function showImage(name, image, width, height) {\n",
              "    img = document.getElementById(name);\n",
              "    if(img == null) {\n",
              "      img = document.createElement('img');\n",
              "      img.id = name;\n",
              "      document.body.appendChild(img);\n",
              "    }\n",
              "    img.src = image;\n",
              "    img.width = width;\n",
              "    img.height = height;\n",
              "  }\n",
              "  "
            ]
          },
          "metadata": {}
        },
        {
          "output_type": "display_data",
          "data": {
            "text/plain": [
              "<IPython.core.display.Javascript object>"
            ],
            "application/javascript": [
              "\n",
              "  async function showImage(name, image, width, height) {\n",
              "    img = document.getElementById(name);\n",
              "    if(img == null) {\n",
              "      img = document.createElement('img');\n",
              "      img.id = name;\n",
              "      document.body.appendChild(img);\n",
              "    }\n",
              "    img.src = image;\n",
              "    img.width = width;\n",
              "    img.height = height;\n",
              "  }\n",
              "  "
            ]
          },
          "metadata": {}
        },
        {
          "output_type": "display_data",
          "data": {
            "text/plain": [
              "<IPython.core.display.Javascript object>"
            ],
            "application/javascript": [
              "\n",
              "  async function showImage(name, image, width, height) {\n",
              "    img = document.getElementById(name);\n",
              "    if(img == null) {\n",
              "      img = document.createElement('img');\n",
              "      img.id = name;\n",
              "      document.body.appendChild(img);\n",
              "    }\n",
              "    img.src = image;\n",
              "    img.width = width;\n",
              "    img.height = height;\n",
              "  }\n",
              "  "
            ]
          },
          "metadata": {}
        },
        {
          "output_type": "display_data",
          "data": {
            "text/plain": [
              "<IPython.core.display.Javascript object>"
            ],
            "application/javascript": [
              "\n",
              "  async function showImage(name, image, width, height) {\n",
              "    img = document.getElementById(name);\n",
              "    if(img == null) {\n",
              "      img = document.createElement('img');\n",
              "      img.id = name;\n",
              "      document.body.appendChild(img);\n",
              "    }\n",
              "    img.src = image;\n",
              "    img.width = width;\n",
              "    img.height = height;\n",
              "  }\n",
              "  "
            ]
          },
          "metadata": {}
        },
        {
          "output_type": "display_data",
          "data": {
            "text/plain": [
              "<IPython.core.display.Javascript object>"
            ],
            "application/javascript": [
              "\n",
              "  async function showImage(name, image, width, height) {\n",
              "    img = document.getElementById(name);\n",
              "    if(img == null) {\n",
              "      img = document.createElement('img');\n",
              "      img.id = name;\n",
              "      document.body.appendChild(img);\n",
              "    }\n",
              "    img.src = image;\n",
              "    img.width = width;\n",
              "    img.height = height;\n",
              "  }\n",
              "  "
            ]
          },
          "metadata": {}
        },
        {
          "output_type": "display_data",
          "data": {
            "text/plain": [
              "<IPython.core.display.Javascript object>"
            ],
            "application/javascript": [
              "\n",
              "  async function showImage(name, image, width, height) {\n",
              "    img = document.getElementById(name);\n",
              "    if(img == null) {\n",
              "      img = document.createElement('img');\n",
              "      img.id = name;\n",
              "      document.body.appendChild(img);\n",
              "    }\n",
              "    img.src = image;\n",
              "    img.width = width;\n",
              "    img.height = height;\n",
              "  }\n",
              "  "
            ]
          },
          "metadata": {}
        },
        {
          "output_type": "display_data",
          "data": {
            "text/plain": [
              "<IPython.core.display.Javascript object>"
            ],
            "application/javascript": [
              "\n",
              "  async function showImage(name, image, width, height) {\n",
              "    img = document.getElementById(name);\n",
              "    if(img == null) {\n",
              "      img = document.createElement('img');\n",
              "      img.id = name;\n",
              "      document.body.appendChild(img);\n",
              "    }\n",
              "    img.src = image;\n",
              "    img.width = width;\n",
              "    img.height = height;\n",
              "  }\n",
              "  "
            ]
          },
          "metadata": {}
        },
        {
          "output_type": "display_data",
          "data": {
            "text/plain": [
              "<IPython.core.display.Javascript object>"
            ],
            "application/javascript": [
              "\n",
              "  async function showImage(name, image, width, height) {\n",
              "    img = document.getElementById(name);\n",
              "    if(img == null) {\n",
              "      img = document.createElement('img');\n",
              "      img.id = name;\n",
              "      document.body.appendChild(img);\n",
              "    }\n",
              "    img.src = image;\n",
              "    img.width = width;\n",
              "    img.height = height;\n",
              "  }\n",
              "  "
            ]
          },
          "metadata": {}
        },
        {
          "output_type": "display_data",
          "data": {
            "text/plain": [
              "<IPython.core.display.Javascript object>"
            ],
            "application/javascript": [
              "\n",
              "  async function showImage(name, image, width, height) {\n",
              "    img = document.getElementById(name);\n",
              "    if(img == null) {\n",
              "      img = document.createElement('img');\n",
              "      img.id = name;\n",
              "      document.body.appendChild(img);\n",
              "    }\n",
              "    img.src = image;\n",
              "    img.width = width;\n",
              "    img.height = height;\n",
              "  }\n",
              "  "
            ]
          },
          "metadata": {}
        },
        {
          "output_type": "display_data",
          "data": {
            "text/plain": [
              "<IPython.core.display.Javascript object>"
            ],
            "application/javascript": [
              "\n",
              "  async function showImage(name, image, width, height) {\n",
              "    img = document.getElementById(name);\n",
              "    if(img == null) {\n",
              "      img = document.createElement('img');\n",
              "      img.id = name;\n",
              "      document.body.appendChild(img);\n",
              "    }\n",
              "    img.src = image;\n",
              "    img.width = width;\n",
              "    img.height = height;\n",
              "  }\n",
              "  "
            ]
          },
          "metadata": {}
        },
        {
          "output_type": "display_data",
          "data": {
            "text/plain": [
              "<IPython.core.display.Javascript object>"
            ],
            "application/javascript": [
              "\n",
              "  async function showImage(name, image, width, height) {\n",
              "    img = document.getElementById(name);\n",
              "    if(img == null) {\n",
              "      img = document.createElement('img');\n",
              "      img.id = name;\n",
              "      document.body.appendChild(img);\n",
              "    }\n",
              "    img.src = image;\n",
              "    img.width = width;\n",
              "    img.height = height;\n",
              "  }\n",
              "  "
            ]
          },
          "metadata": {}
        },
        {
          "output_type": "display_data",
          "data": {
            "text/plain": [
              "<IPython.core.display.Javascript object>"
            ],
            "application/javascript": [
              "\n",
              "  async function showImage(name, image, width, height) {\n",
              "    img = document.getElementById(name);\n",
              "    if(img == null) {\n",
              "      img = document.createElement('img');\n",
              "      img.id = name;\n",
              "      document.body.appendChild(img);\n",
              "    }\n",
              "    img.src = image;\n",
              "    img.width = width;\n",
              "    img.height = height;\n",
              "  }\n",
              "  "
            ]
          },
          "metadata": {}
        },
        {
          "output_type": "display_data",
          "data": {
            "text/plain": [
              "<IPython.core.display.Javascript object>"
            ],
            "application/javascript": [
              "\n",
              "  async function showImage(name, image, width, height) {\n",
              "    img = document.getElementById(name);\n",
              "    if(img == null) {\n",
              "      img = document.createElement('img');\n",
              "      img.id = name;\n",
              "      document.body.appendChild(img);\n",
              "    }\n",
              "    img.src = image;\n",
              "    img.width = width;\n",
              "    img.height = height;\n",
              "  }\n",
              "  "
            ]
          },
          "metadata": {}
        },
        {
          "output_type": "display_data",
          "data": {
            "text/plain": [
              "<IPython.core.display.Javascript object>"
            ],
            "application/javascript": [
              "\n",
              "  async function showImage(name, image, width, height) {\n",
              "    img = document.getElementById(name);\n",
              "    if(img == null) {\n",
              "      img = document.createElement('img');\n",
              "      img.id = name;\n",
              "      document.body.appendChild(img);\n",
              "    }\n",
              "    img.src = image;\n",
              "    img.width = width;\n",
              "    img.height = height;\n",
              "  }\n",
              "  "
            ]
          },
          "metadata": {}
        },
        {
          "output_type": "display_data",
          "data": {
            "text/plain": [
              "<IPython.core.display.Javascript object>"
            ],
            "application/javascript": [
              "\n",
              "  async function showImage(name, image, width, height) {\n",
              "    img = document.getElementById(name);\n",
              "    if(img == null) {\n",
              "      img = document.createElement('img');\n",
              "      img.id = name;\n",
              "      document.body.appendChild(img);\n",
              "    }\n",
              "    img.src = image;\n",
              "    img.width = width;\n",
              "    img.height = height;\n",
              "  }\n",
              "  "
            ]
          },
          "metadata": {}
        },
        {
          "output_type": "display_data",
          "data": {
            "text/plain": [
              "<IPython.core.display.Javascript object>"
            ],
            "application/javascript": [
              "\n",
              "  async function showImage(name, image, width, height) {\n",
              "    img = document.getElementById(name);\n",
              "    if(img == null) {\n",
              "      img = document.createElement('img');\n",
              "      img.id = name;\n",
              "      document.body.appendChild(img);\n",
              "    }\n",
              "    img.src = image;\n",
              "    img.width = width;\n",
              "    img.height = height;\n",
              "  }\n",
              "  "
            ]
          },
          "metadata": {}
        },
        {
          "output_type": "display_data",
          "data": {
            "text/plain": [
              "<IPython.core.display.Javascript object>"
            ],
            "application/javascript": [
              "\n",
              "  async function showImage(name, image, width, height) {\n",
              "    img = document.getElementById(name);\n",
              "    if(img == null) {\n",
              "      img = document.createElement('img');\n",
              "      img.id = name;\n",
              "      document.body.appendChild(img);\n",
              "    }\n",
              "    img.src = image;\n",
              "    img.width = width;\n",
              "    img.height = height;\n",
              "  }\n",
              "  "
            ]
          },
          "metadata": {}
        },
        {
          "output_type": "display_data",
          "data": {
            "text/plain": [
              "<IPython.core.display.Javascript object>"
            ],
            "application/javascript": [
              "\n",
              "  async function showImage(name, image, width, height) {\n",
              "    img = document.getElementById(name);\n",
              "    if(img == null) {\n",
              "      img = document.createElement('img');\n",
              "      img.id = name;\n",
              "      document.body.appendChild(img);\n",
              "    }\n",
              "    img.src = image;\n",
              "    img.width = width;\n",
              "    img.height = height;\n",
              "  }\n",
              "  "
            ]
          },
          "metadata": {}
        },
        {
          "output_type": "display_data",
          "data": {
            "text/plain": [
              "<IPython.core.display.Javascript object>"
            ],
            "application/javascript": [
              "\n",
              "  async function showImage(name, image, width, height) {\n",
              "    img = document.getElementById(name);\n",
              "    if(img == null) {\n",
              "      img = document.createElement('img');\n",
              "      img.id = name;\n",
              "      document.body.appendChild(img);\n",
              "    }\n",
              "    img.src = image;\n",
              "    img.width = width;\n",
              "    img.height = height;\n",
              "  }\n",
              "  "
            ]
          },
          "metadata": {}
        },
        {
          "output_type": "display_data",
          "data": {
            "text/plain": [
              "<IPython.core.display.Javascript object>"
            ],
            "application/javascript": [
              "\n",
              "  async function showImage(name, image, width, height) {\n",
              "    img = document.getElementById(name);\n",
              "    if(img == null) {\n",
              "      img = document.createElement('img');\n",
              "      img.id = name;\n",
              "      document.body.appendChild(img);\n",
              "    }\n",
              "    img.src = image;\n",
              "    img.width = width;\n",
              "    img.height = height;\n",
              "  }\n",
              "  "
            ]
          },
          "metadata": {}
        },
        {
          "output_type": "error",
          "ename": "KeyboardInterrupt",
          "evalue": "ignored",
          "traceback": [
            "\u001b[0;31m---------------------------------------------------------------------------\u001b[0m",
            "\u001b[0;31mKeyboardInterrupt\u001b[0m                         Traceback (most recent call last)",
            "\u001b[0;32m<ipython-input-24-6a35676367d7>\u001b[0m in \u001b[0;36m<module>\u001b[0;34m\u001b[0m\n\u001b[1;32m     49\u001b[0m \u001b[0;34m\u001b[0m\u001b[0m\n\u001b[1;32m     50\u001b[0m     \u001b[0mcv2\u001b[0m\u001b[0;34m.\u001b[0m\u001b[0mputText\u001b[0m\u001b[0;34m(\u001b[0m\u001b[0mimg\u001b[0m\u001b[0;34m,\u001b[0m \u001b[0;34m\"Jumlah Kendaraan : \"\u001b[0m\u001b[0;34m+\u001b[0m\u001b[0mstr\u001b[0m\u001b[0;34m(\u001b[0m\u001b[0mcar\u001b[0m\u001b[0;34m)\u001b[0m\u001b[0;34m,\u001b[0m \u001b[0;34m(\u001b[0m\u001b[0;36m450\u001b[0m\u001b[0;34m,\u001b[0m \u001b[0;36m70\u001b[0m\u001b[0;34m)\u001b[0m\u001b[0;34m,\u001b[0m \u001b[0mcv2\u001b[0m\u001b[0;34m.\u001b[0m\u001b[0mFONT_HERSHEY_SIMPLEX\u001b[0m\u001b[0;34m,\u001b[0m \u001b[0;36m1\u001b[0m\u001b[0;34m,\u001b[0m \u001b[0;34m(\u001b[0m\u001b[0;36m0\u001b[0m\u001b[0;34m,\u001b[0m \u001b[0;36m0\u001b[0m\u001b[0;34m,\u001b[0m \u001b[0;36m255\u001b[0m\u001b[0;34m)\u001b[0m\u001b[0;34m,\u001b[0m\u001b[0;36m5\u001b[0m\u001b[0;34m)\u001b[0m\u001b[0;34m\u001b[0m\u001b[0;34m\u001b[0m\u001b[0m\n\u001b[0;32m---> 51\u001b[0;31m     \u001b[0mimshow\u001b[0m\u001b[0;34m(\u001b[0m\u001b[0;34m\"Counting Cars\"\u001b[0m\u001b[0;34m,\u001b[0m \u001b[0mimg\u001b[0m\u001b[0;34m)\u001b[0m\u001b[0;34m\u001b[0m\u001b[0;34m\u001b[0m\u001b[0m\n\u001b[0m\u001b[1;32m     52\u001b[0m \u001b[0;34m\u001b[0m\u001b[0m\n\u001b[1;32m     53\u001b[0m     \u001b[0;32mif\u001b[0m \u001b[0mcv2\u001b[0m\u001b[0;34m.\u001b[0m\u001b[0mwaitKey\u001b[0m\u001b[0;34m(\u001b[0m\u001b[0;36m1\u001b[0m\u001b[0;34m)\u001b[0m  \u001b[0;34m&\u001b[0m \u001b[0;36m0xFF\u001b[0m \u001b[0;34m==\u001b[0m \u001b[0mord\u001b[0m\u001b[0;34m(\u001b[0m\u001b[0;34m'q'\u001b[0m\u001b[0;34m)\u001b[0m\u001b[0;34m:\u001b[0m\u001b[0;34m\u001b[0m\u001b[0;34m\u001b[0m\u001b[0m\n",
            "\u001b[0;32m<ipython-input-19-e82444839dda>\u001b[0m in \u001b[0;36mimshow\u001b[0;34m(name, img)\u001b[0m\n\u001b[1;32m     29\u001b[0m \u001b[0;34m\u001b[0m\u001b[0m\n\u001b[1;32m     30\u001b[0m   \u001b[0mdisplay\u001b[0m\u001b[0;34m(\u001b[0m\u001b[0mjs\u001b[0m\u001b[0;34m)\u001b[0m\u001b[0;34m\u001b[0m\u001b[0;34m\u001b[0m\u001b[0m\n\u001b[0;32m---> 31\u001b[0;31m   \u001b[0meval_js\u001b[0m\u001b[0;34m(\u001b[0m\u001b[0;34mf'showImage(\"{name}\", \"{data}\", {width}, {height})'\u001b[0m\u001b[0;34m)\u001b[0m  \u001b[0;31m# run JavaScript untuk masukin gambar (JPG as string base64) di tag <img>\u001b[0m\u001b[0;34m\u001b[0m\u001b[0;34m\u001b[0m\u001b[0m\n\u001b[0m\u001b[1;32m     32\u001b[0m                                           \u001b[0;31m# `name` and `data` in needs `\" \"` to send it as text, not as name of variabe.\u001b[0m\u001b[0;34m\u001b[0m\u001b[0;34m\u001b[0m\u001b[0;34m\u001b[0m\u001b[0m\n",
            "\u001b[0;32m/usr/local/lib/python3.7/dist-packages/google/colab/output/_js.py\u001b[0m in \u001b[0;36meval_js\u001b[0;34m(script, ignore_result, timeout_sec)\u001b[0m\n\u001b[1;32m     38\u001b[0m   \u001b[0;32mif\u001b[0m \u001b[0mignore_result\u001b[0m\u001b[0;34m:\u001b[0m\u001b[0;34m\u001b[0m\u001b[0;34m\u001b[0m\u001b[0m\n\u001b[1;32m     39\u001b[0m     \u001b[0;32mreturn\u001b[0m\u001b[0;34m\u001b[0m\u001b[0;34m\u001b[0m\u001b[0m\n\u001b[0;32m---> 40\u001b[0;31m   \u001b[0;32mreturn\u001b[0m \u001b[0m_message\u001b[0m\u001b[0;34m.\u001b[0m\u001b[0mread_reply_from_input\u001b[0m\u001b[0;34m(\u001b[0m\u001b[0mrequest_id\u001b[0m\u001b[0;34m,\u001b[0m \u001b[0mtimeout_sec\u001b[0m\u001b[0;34m)\u001b[0m\u001b[0;34m\u001b[0m\u001b[0;34m\u001b[0m\u001b[0m\n\u001b[0m\u001b[1;32m     41\u001b[0m \u001b[0;34m\u001b[0m\u001b[0m\n\u001b[1;32m     42\u001b[0m \u001b[0;34m\u001b[0m\u001b[0m\n",
            "\u001b[0;32m/usr/local/lib/python3.7/dist-packages/google/colab/_message.py\u001b[0m in \u001b[0;36mread_reply_from_input\u001b[0;34m(message_id, timeout_sec)\u001b[0m\n\u001b[1;32m     95\u001b[0m     \u001b[0mreply\u001b[0m \u001b[0;34m=\u001b[0m \u001b[0m_read_next_input_message\u001b[0m\u001b[0;34m(\u001b[0m\u001b[0;34m)\u001b[0m\u001b[0;34m\u001b[0m\u001b[0;34m\u001b[0m\u001b[0m\n\u001b[1;32m     96\u001b[0m     \u001b[0;32mif\u001b[0m \u001b[0mreply\u001b[0m \u001b[0;34m==\u001b[0m \u001b[0m_NOT_READY\u001b[0m \u001b[0;32mor\u001b[0m \u001b[0;32mnot\u001b[0m \u001b[0misinstance\u001b[0m\u001b[0;34m(\u001b[0m\u001b[0mreply\u001b[0m\u001b[0;34m,\u001b[0m \u001b[0mdict\u001b[0m\u001b[0;34m)\u001b[0m\u001b[0;34m:\u001b[0m\u001b[0;34m\u001b[0m\u001b[0;34m\u001b[0m\u001b[0m\n\u001b[0;32m---> 97\u001b[0;31m       \u001b[0mtime\u001b[0m\u001b[0;34m.\u001b[0m\u001b[0msleep\u001b[0m\u001b[0;34m(\u001b[0m\u001b[0;36m0.025\u001b[0m\u001b[0;34m)\u001b[0m\u001b[0;34m\u001b[0m\u001b[0;34m\u001b[0m\u001b[0m\n\u001b[0m\u001b[1;32m     98\u001b[0m       \u001b[0;32mcontinue\u001b[0m\u001b[0;34m\u001b[0m\u001b[0;34m\u001b[0m\u001b[0m\n\u001b[1;32m     99\u001b[0m     if (reply.get('type') == 'colab_reply' and\n",
            "\u001b[0;31mKeyboardInterrupt\u001b[0m: "
          ]
        }
      ],
      "source": [
        "import cv2\n",
        "from time import sleep\n",
        "from google.colab.patches import cv2_imshow as show\n",
        "\n",
        "cascade_src = '/content/cars.xml'\n",
        "video_src = '/content/video.mp4'\n",
        "\n",
        "cap = cv2.VideoCapture(video_src)\n",
        "car_cascade = cv2.CascadeClassifier(cascade_src)\n",
        "\n",
        "delay= 350\n",
        "detec = []\n",
        "pos_line=550 \n",
        "offset=10\n",
        "car= 0\n",
        "\n",
        "#bikin titik tengah di object mobil\n",
        "def center_object(x, y, w, h):\n",
        "    x1 = int(w / 2)\n",
        "    y1 = int(h / 2)\n",
        "    cx = x + x1\n",
        "    cy = y + y1\n",
        "    return cx,cy\n",
        "\n",
        "#load data stream\n",
        "while True:\n",
        "    ret, img = cap.read()\n",
        "    time = float(1/delay)\n",
        "    sleep(time)\n",
        "    \n",
        "    if (type(img) == type(None)):\n",
        "        break\n",
        "    \n",
        "    gray = cv2.cvtColor(img, cv2.COLOR_BGR2GRAY)\n",
        "    \n",
        "    cars = car_cascade.detectMultiScale(gray, 1.1, 1)\n",
        "    cv2.line(img, (25, pos_line), (1200, pos_line), (255,127,0), 3) \n",
        "    \n",
        "    #loop dan cek melewati batas line, apabila lewat maka akan di count\n",
        "    for (x,y,w,h) in cars:\n",
        "        cv2.rectangle(img,(x,y),(x+w,y+h),(0,255,0),2)\n",
        "        center = center_object(x, y, w, h)\n",
        "        detec.append(center)\n",
        "        cv2.circle(img, center, 4, (0, 0,255), -1)\n",
        "        \n",
        "        if center[1]<(pos_line+offset) and center[1]>(pos_line-offset):\n",
        "            car+=1\n",
        "            cv2.line(img, (25, pos_line), (1200, pos_line), (0,127,255), 3) \n",
        "    \n",
        "    cv2.putText(img, \"Jumlah Kendaraan : \"+str(car), (450, 70), cv2.FONT_HERSHEY_SIMPLEX, 1, (0, 0, 255),5)\n",
        "    imshow(\"Counting Cars\", img)\n",
        "    \n",
        "    if cv2.waitKey(1)  & 0xFF == ord('q'):\n",
        "        break\n",
        "\n",
        "cv2.destroyAllWindows()"
      ]
    },
    {
      "cell_type": "markdown",
      "source": [
        "Dari hasil ujicoba menggunakan\n",
        "\n",
        "delay= 350\n",
        "\n",
        "detec = []\n",
        "\n",
        "pos_line=550 \n",
        "\n",
        "offset=10\n",
        "\n",
        "car= 0\n",
        "\n",
        "dan dirunning selama 35 menit, dapat memperoleh hasil 43 jumlah kendaraan"
      ],
      "metadata": {
        "id": "jAfwW1Ni8Cfa"
      }
    }
  ],
  "metadata": {
    "accelerator": "GPU",
    "colab": {
      "provenance": []
    },
    "gpuClass": "standard",
    "kernelspec": {
      "display_name": "Python 3",
      "language": "python",
      "name": "python3"
    },
    "language_info": {
      "codemirror_mode": {
        "name": "ipython",
        "version": 3
      },
      "file_extension": ".py",
      "mimetype": "text/x-python",
      "name": "python",
      "nbconvert_exporter": "python",
      "pygments_lexer": "ipython3",
      "version": "3.7.4"
    }
  },
  "nbformat": 4,
  "nbformat_minor": 0
}