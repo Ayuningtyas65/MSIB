{
  "nbformat": 4,
  "nbformat_minor": 0,
  "metadata": {
    "colab": {
      "provenance": []
    },
    "kernelspec": {
      "display_name": "Python 3",
      "language": "python",
      "name": "python3"
    },
    "language_info": {
      "codemirror_mode": {
        "name": "ipython",
        "version": 3
      },
      "file_extension": ".py",
      "mimetype": "text/x-python",
      "name": "python",
      "nbconvert_exporter": "python",
      "pygments_lexer": "ipython3",
      "version": "3.7.6"
    }
  },
  "cells": [
    {
      "cell_type": "markdown",
      "source": [
        "Tri Mulyani Ayuningtyas _ JumaTec"
      ],
      "metadata": {
        "id": "eftfsSzbWvPi"
      }
    },
    {
      "cell_type": "markdown",
      "source": [
        "# Activity ML-6\n",
        "\n",
        "Boleh pilih salah satu activity atau lakukan keduanya."
      ],
      "metadata": {
        "id": "nQszP68VSCk3"
      }
    },
    {
      "cell_type": "markdown",
      "source": [
        "## Activity 1"
      ],
      "metadata": {
        "id": "GCAdn_8bSMZX"
      }
    },
    {
      "cell_type": "markdown",
      "source": [
        "- Gunakan dataset Mall_Customers.csv\n",
        "- Gunakan variable Age, AnnualIncome, dan SpendingScore\n",
        "- Lakukan clustering menggunakan model AHC dan K-Means\n",
        "- Tentukan nilai K terbaik untuk setiap model\n",
        "- Bandingkan SC model K-Means dengan AHC\n",
        "- Tarik kesimpulan activity dan paparkan mana model terbaik"
      ],
      "metadata": {
        "id": "H9t5YafySaLX"
      }
    },
    {
      "cell_type": "code",
      "source": [
        "import pandas as pd\n",
        "import numpy as np\n",
        "from matplotlib import pyplot as plt\n",
        "from sklearn.preprocessing import StandardScaler\n",
        "from sklearn.cluster import KMeans\n",
        "from sklearn.metrics import silhouette_score"
      ],
      "metadata": {
        "id": "DiqK01P3Hgi_"
      },
      "execution_count": null,
      "outputs": []
    },
    {
      "cell_type": "code",
      "source": [
        "#Menginstal library machine learning visualization yellowbrick\n",
        "!pip install -U yellowbrick"
      ],
      "metadata": {
        "colab": {
          "base_uri": "https://localhost:8080/"
        },
        "id": "uBbp3YOfObcg",
        "outputId": "053579ab-d57f-439b-f304-08b1c715e724"
      },
      "execution_count": null,
      "outputs": [
        {
          "output_type": "stream",
          "name": "stdout",
          "text": [
            "Looking in indexes: https://pypi.org/simple, https://us-python.pkg.dev/colab-wheels/public/simple/\n",
            "Requirement already satisfied: yellowbrick in /usr/local/lib/python3.7/dist-packages (1.5)\n",
            "Requirement already satisfied: matplotlib!=3.0.0,>=2.0.2 in /usr/local/lib/python3.7/dist-packages (from yellowbrick) (3.2.2)\n",
            "Requirement already satisfied: scipy>=1.0.0 in /usr/local/lib/python3.7/dist-packages (from yellowbrick) (1.7.3)\n",
            "Requirement already satisfied: cycler>=0.10.0 in /usr/local/lib/python3.7/dist-packages (from yellowbrick) (0.11.0)\n",
            "Requirement already satisfied: numpy>=1.16.0 in /usr/local/lib/python3.7/dist-packages (from yellowbrick) (1.21.6)\n",
            "Requirement already satisfied: scikit-learn>=1.0.0 in /usr/local/lib/python3.7/dist-packages (from yellowbrick) (1.0.2)\n",
            "Requirement already satisfied: python-dateutil>=2.1 in /usr/local/lib/python3.7/dist-packages (from matplotlib!=3.0.0,>=2.0.2->yellowbrick) (2.8.2)\n",
            "Requirement already satisfied: kiwisolver>=1.0.1 in /usr/local/lib/python3.7/dist-packages (from matplotlib!=3.0.0,>=2.0.2->yellowbrick) (1.4.4)\n",
            "Requirement already satisfied: pyparsing!=2.0.4,!=2.1.2,!=2.1.6,>=2.0.1 in /usr/local/lib/python3.7/dist-packages (from matplotlib!=3.0.0,>=2.0.2->yellowbrick) (3.0.9)\n",
            "Requirement already satisfied: typing-extensions in /usr/local/lib/python3.7/dist-packages (from kiwisolver>=1.0.1->matplotlib!=3.0.0,>=2.0.2->yellowbrick) (4.1.1)\n",
            "Requirement already satisfied: six>=1.5 in /usr/local/lib/python3.7/dist-packages (from python-dateutil>=2.1->matplotlib!=3.0.0,>=2.0.2->yellowbrick) (1.15.0)\n",
            "Requirement already satisfied: joblib>=0.11 in /usr/local/lib/python3.7/dist-packages (from scikit-learn>=1.0.0->yellowbrick) (1.1.0)\n",
            "Requirement already satisfied: threadpoolctl>=2.0.0 in /usr/local/lib/python3.7/dist-packages (from scikit-learn>=1.0.0->yellowbrick) (3.1.0)\n"
          ]
        }
      ]
    },
    {
      "cell_type": "code",
      "source": [
        "#Import library KElbowVisualizer\n",
        "from yellowbrick.cluster import KElbowVisualizer"
      ],
      "metadata": {
        "id": "0PLALCe1OuzB"
      },
      "execution_count": null,
      "outputs": []
    },
    {
      "cell_type": "code",
      "source": [
        "#Load Dataset\n",
        "data = pd.read_csv('Mall_Customers.csv', index_col='CustomerID')\n",
        "data"
      ],
      "metadata": {
        "colab": {
          "base_uri": "https://localhost:8080/",
          "height": 455
        },
        "id": "tnp3DkVfO-K3",
        "outputId": "935c937c-402c-4fc8-ae67-fd1a6d9d0058"
      },
      "execution_count": null,
      "outputs": [
        {
          "output_type": "execute_result",
          "data": {
            "text/plain": [
              "            Gender  Age  AnnualIncome  SpendingScore\n",
              "CustomerID                                          \n",
              "1             Male   19            15             39\n",
              "2             Male   21            15             81\n",
              "3           Female   20            16              6\n",
              "4           Female   23            16             77\n",
              "5           Female   31            17             40\n",
              "...            ...  ...           ...            ...\n",
              "209         Female   35          1207             79\n",
              "210         Female   45           126            182\n",
              "211           Male   32           126            174\n",
              "212           Male   32           137            192\n",
              "213           Male   30           137            183\n",
              "\n",
              "[240 rows x 4 columns]"
            ],
            "text/html": [
              "\n",
              "  <div id=\"df-41513ec3-6535-4fff-a303-a922e49a51ec\">\n",
              "    <div class=\"colab-df-container\">\n",
              "      <div>\n",
              "<style scoped>\n",
              "    .dataframe tbody tr th:only-of-type {\n",
              "        vertical-align: middle;\n",
              "    }\n",
              "\n",
              "    .dataframe tbody tr th {\n",
              "        vertical-align: top;\n",
              "    }\n",
              "\n",
              "    .dataframe thead th {\n",
              "        text-align: right;\n",
              "    }\n",
              "</style>\n",
              "<table border=\"1\" class=\"dataframe\">\n",
              "  <thead>\n",
              "    <tr style=\"text-align: right;\">\n",
              "      <th></th>\n",
              "      <th>Gender</th>\n",
              "      <th>Age</th>\n",
              "      <th>AnnualIncome</th>\n",
              "      <th>SpendingScore</th>\n",
              "    </tr>\n",
              "    <tr>\n",
              "      <th>CustomerID</th>\n",
              "      <th></th>\n",
              "      <th></th>\n",
              "      <th></th>\n",
              "      <th></th>\n",
              "    </tr>\n",
              "  </thead>\n",
              "  <tbody>\n",
              "    <tr>\n",
              "      <th>1</th>\n",
              "      <td>Male</td>\n",
              "      <td>19</td>\n",
              "      <td>15</td>\n",
              "      <td>39</td>\n",
              "    </tr>\n",
              "    <tr>\n",
              "      <th>2</th>\n",
              "      <td>Male</td>\n",
              "      <td>21</td>\n",
              "      <td>15</td>\n",
              "      <td>81</td>\n",
              "    </tr>\n",
              "    <tr>\n",
              "      <th>3</th>\n",
              "      <td>Female</td>\n",
              "      <td>20</td>\n",
              "      <td>16</td>\n",
              "      <td>6</td>\n",
              "    </tr>\n",
              "    <tr>\n",
              "      <th>4</th>\n",
              "      <td>Female</td>\n",
              "      <td>23</td>\n",
              "      <td>16</td>\n",
              "      <td>77</td>\n",
              "    </tr>\n",
              "    <tr>\n",
              "      <th>5</th>\n",
              "      <td>Female</td>\n",
              "      <td>31</td>\n",
              "      <td>17</td>\n",
              "      <td>40</td>\n",
              "    </tr>\n",
              "    <tr>\n",
              "      <th>...</th>\n",
              "      <td>...</td>\n",
              "      <td>...</td>\n",
              "      <td>...</td>\n",
              "      <td>...</td>\n",
              "    </tr>\n",
              "    <tr>\n",
              "      <th>209</th>\n",
              "      <td>Female</td>\n",
              "      <td>35</td>\n",
              "      <td>1207</td>\n",
              "      <td>79</td>\n",
              "    </tr>\n",
              "    <tr>\n",
              "      <th>210</th>\n",
              "      <td>Female</td>\n",
              "      <td>45</td>\n",
              "      <td>126</td>\n",
              "      <td>182</td>\n",
              "    </tr>\n",
              "    <tr>\n",
              "      <th>211</th>\n",
              "      <td>Male</td>\n",
              "      <td>32</td>\n",
              "      <td>126</td>\n",
              "      <td>174</td>\n",
              "    </tr>\n",
              "    <tr>\n",
              "      <th>212</th>\n",
              "      <td>Male</td>\n",
              "      <td>32</td>\n",
              "      <td>137</td>\n",
              "      <td>192</td>\n",
              "    </tr>\n",
              "    <tr>\n",
              "      <th>213</th>\n",
              "      <td>Male</td>\n",
              "      <td>30</td>\n",
              "      <td>137</td>\n",
              "      <td>183</td>\n",
              "    </tr>\n",
              "  </tbody>\n",
              "</table>\n",
              "<p>240 rows × 4 columns</p>\n",
              "</div>\n",
              "      <button class=\"colab-df-convert\" onclick=\"convertToInteractive('df-41513ec3-6535-4fff-a303-a922e49a51ec')\"\n",
              "              title=\"Convert this dataframe to an interactive table.\"\n",
              "              style=\"display:none;\">\n",
              "        \n",
              "  <svg xmlns=\"http://www.w3.org/2000/svg\" height=\"24px\"viewBox=\"0 0 24 24\"\n",
              "       width=\"24px\">\n",
              "    <path d=\"M0 0h24v24H0V0z\" fill=\"none\"/>\n",
              "    <path d=\"M18.56 5.44l.94 2.06.94-2.06 2.06-.94-2.06-.94-.94-2.06-.94 2.06-2.06.94zm-11 1L8.5 8.5l.94-2.06 2.06-.94-2.06-.94L8.5 2.5l-.94 2.06-2.06.94zm10 10l.94 2.06.94-2.06 2.06-.94-2.06-.94-.94-2.06-.94 2.06-2.06.94z\"/><path d=\"M17.41 7.96l-1.37-1.37c-.4-.4-.92-.59-1.43-.59-.52 0-1.04.2-1.43.59L10.3 9.45l-7.72 7.72c-.78.78-.78 2.05 0 2.83L4 21.41c.39.39.9.59 1.41.59.51 0 1.02-.2 1.41-.59l7.78-7.78 2.81-2.81c.8-.78.8-2.07 0-2.86zM5.41 20L4 18.59l7.72-7.72 1.47 1.35L5.41 20z\"/>\n",
              "  </svg>\n",
              "      </button>\n",
              "      \n",
              "  <style>\n",
              "    .colab-df-container {\n",
              "      display:flex;\n",
              "      flex-wrap:wrap;\n",
              "      gap: 12px;\n",
              "    }\n",
              "\n",
              "    .colab-df-convert {\n",
              "      background-color: #E8F0FE;\n",
              "      border: none;\n",
              "      border-radius: 50%;\n",
              "      cursor: pointer;\n",
              "      display: none;\n",
              "      fill: #1967D2;\n",
              "      height: 32px;\n",
              "      padding: 0 0 0 0;\n",
              "      width: 32px;\n",
              "    }\n",
              "\n",
              "    .colab-df-convert:hover {\n",
              "      background-color: #E2EBFA;\n",
              "      box-shadow: 0px 1px 2px rgba(60, 64, 67, 0.3), 0px 1px 3px 1px rgba(60, 64, 67, 0.15);\n",
              "      fill: #174EA6;\n",
              "    }\n",
              "\n",
              "    [theme=dark] .colab-df-convert {\n",
              "      background-color: #3B4455;\n",
              "      fill: #D2E3FC;\n",
              "    }\n",
              "\n",
              "    [theme=dark] .colab-df-convert:hover {\n",
              "      background-color: #434B5C;\n",
              "      box-shadow: 0px 1px 3px 1px rgba(0, 0, 0, 0.15);\n",
              "      filter: drop-shadow(0px 1px 2px rgba(0, 0, 0, 0.3));\n",
              "      fill: #FFFFFF;\n",
              "    }\n",
              "  </style>\n",
              "\n",
              "      <script>\n",
              "        const buttonEl =\n",
              "          document.querySelector('#df-41513ec3-6535-4fff-a303-a922e49a51ec button.colab-df-convert');\n",
              "        buttonEl.style.display =\n",
              "          google.colab.kernel.accessAllowed ? 'block' : 'none';\n",
              "\n",
              "        async function convertToInteractive(key) {\n",
              "          const element = document.querySelector('#df-41513ec3-6535-4fff-a303-a922e49a51ec');\n",
              "          const dataTable =\n",
              "            await google.colab.kernel.invokeFunction('convertToInteractive',\n",
              "                                                     [key], {});\n",
              "          if (!dataTable) return;\n",
              "\n",
              "          const docLinkHtml = 'Like what you see? Visit the ' +\n",
              "            '<a target=\"_blank\" href=https://colab.research.google.com/notebooks/data_table.ipynb>data table notebook</a>'\n",
              "            + ' to learn more about interactive tables.';\n",
              "          element.innerHTML = '';\n",
              "          dataTable['output_type'] = 'display_data';\n",
              "          await google.colab.output.renderOutput(dataTable, element);\n",
              "          const docLink = document.createElement('div');\n",
              "          docLink.innerHTML = docLinkHtml;\n",
              "          element.appendChild(docLink);\n",
              "        }\n",
              "      </script>\n",
              "    </div>\n",
              "  </div>\n",
              "  "
            ]
          },
          "metadata": {},
          "execution_count": 4
        }
      ]
    },
    {
      "cell_type": "code",
      "source": [
        "#Memeriksa kelengkapan data\n",
        "data.info()"
      ],
      "metadata": {
        "colab": {
          "base_uri": "https://localhost:8080/"
        },
        "id": "JPqig6nEPKlG",
        "outputId": "d39871e4-1f2b-4774-d7bf-2319d2d9c95a"
      },
      "execution_count": null,
      "outputs": [
        {
          "output_type": "stream",
          "name": "stdout",
          "text": [
            "<class 'pandas.core.frame.DataFrame'>\n",
            "Int64Index: 240 entries, 1 to 213\n",
            "Data columns (total 4 columns):\n",
            " #   Column         Non-Null Count  Dtype \n",
            "---  ------         --------------  ----- \n",
            " 0   Gender         240 non-null    object\n",
            " 1   Age            240 non-null    int64 \n",
            " 2   AnnualIncome   240 non-null    int64 \n",
            " 3   SpendingScore  240 non-null    int64 \n",
            "dtypes: int64(3), object(1)\n",
            "memory usage: 9.4+ KB\n"
          ]
        }
      ]
    },
    {
      "cell_type": "code",
      "source": [
        "# Kita memilih 3 variabel Age, AnnualIncome dan SpendingScore\n",
        "X = data[['Age', 'AnnualIncome', 'SpendingScore']].values\n",
        "X"
      ],
      "metadata": {
        "colab": {
          "base_uri": "https://localhost:8080/"
        },
        "id": "mjbecaMCPeal",
        "outputId": "61d7fd73-5525-4954-e137-2b06fe67f6e6"
      },
      "execution_count": null,
      "outputs": [
        {
          "output_type": "execute_result",
          "data": {
            "text/plain": [
              "array([[  19,   15,   39],\n",
              "       [  21,   15,   81],\n",
              "       [  20,   16,    6],\n",
              "       [  23,   16,   77],\n",
              "       [  31,   17,   40],\n",
              "       [  22,   17,   76],\n",
              "       [  35,   18,    6],\n",
              "       [  23,   18,   94],\n",
              "       [  64,   19,    3],\n",
              "       [  30,   19,   72],\n",
              "       [  67,   19,   14],\n",
              "       [  35,   19,   99],\n",
              "       [  58,   20,   15],\n",
              "       [  24,   20,   77],\n",
              "       [  37,   20,   13],\n",
              "       [  22,   20,   79],\n",
              "       [  35,   21,   35],\n",
              "       [  20,   21,   66],\n",
              "       [  52,   23,   29],\n",
              "       [  35,   23,   98],\n",
              "       [  35,   24,   35],\n",
              "       [  25,   24,   73],\n",
              "       [  46,   25,    5],\n",
              "       [  31,   25,   73],\n",
              "       [  54,   28,   14],\n",
              "       [  29,   28,   82],\n",
              "       [  45,   28,   32],\n",
              "       [  35,   28,   61],\n",
              "       [  40,   29,   31],\n",
              "       [  23,   29,   87],\n",
              "       [  60,   30,    4],\n",
              "       [  21,   30,   73],\n",
              "       [  53,   33,    4],\n",
              "       [  18,   33,   92],\n",
              "       [  49,   33,   14],\n",
              "       [  21,   33,   81],\n",
              "       [  42,   34,   17],\n",
              "       [  30,   34,   73],\n",
              "       [  36,   37,   26],\n",
              "       [  20,   37,   75],\n",
              "       [  65,   38,   35],\n",
              "       [  24,   38,   92],\n",
              "       [  48,   39,   36],\n",
              "       [  31,   39,   61],\n",
              "       [  49,   39,   28],\n",
              "       [  24,   39,   65],\n",
              "       [  50,   40,   55],\n",
              "       [  27,   40,   47],\n",
              "       [  29,   40,   42],\n",
              "       [  31,   40,   42],\n",
              "       [  49,   42,   52],\n",
              "       [  33,   42,   60],\n",
              "       [  31,   43,   54],\n",
              "       [  59,   43,   60],\n",
              "       [  50,   43,   45],\n",
              "       [  47,   43,   41],\n",
              "       [  51,   44,   50],\n",
              "       [  69,   44,   46],\n",
              "       [  27,   46,   51],\n",
              "       [  53,   46,   46],\n",
              "       [  70,   46,   56],\n",
              "       [  19,   46,   55],\n",
              "       [  67,   47,   52],\n",
              "       [  54,   47,   59],\n",
              "       [  63,   48,   51],\n",
              "       [  18,   48,   59],\n",
              "       [  43,   48,   50],\n",
              "       [  68,   48,   48],\n",
              "       [  19,   48,   59],\n",
              "       [  32,   48,   47],\n",
              "       [  70,   49,   55],\n",
              "       [  47,   49,   42],\n",
              "       [  60,   50,   49],\n",
              "       [  60,   50,   56],\n",
              "       [  59,   54,   47],\n",
              "       [  26,   54,   54],\n",
              "       [  45,   54,   53],\n",
              "       [  40,   54,   48],\n",
              "       [  23,   54,   52],\n",
              "       [  49,   54,   42],\n",
              "       [  57,   54,   51],\n",
              "       [  38,   54,   55],\n",
              "       [  67,   54,   41],\n",
              "       [  46,   54,   44],\n",
              "       [  21,   54,   57],\n",
              "       [  48,   54,   46],\n",
              "       [  55,   57,   58],\n",
              "       [  22,   57,   55],\n",
              "       [  34,   58,   60],\n",
              "       [  50,   58,   46],\n",
              "       [  68,   59,   55],\n",
              "       [  18,   59,   41],\n",
              "       [  48,   60,   49],\n",
              "       [  40,   60,   40],\n",
              "       [  32,   60,   42],\n",
              "       [  24,   60,   52],\n",
              "       [  47,   60,   47],\n",
              "       [  27,   60,   50],\n",
              "       [  48,   61,   42],\n",
              "       [  20,   61,   49],\n",
              "       [  23,   62,   41],\n",
              "       [  49,   62,   48],\n",
              "       [  67,   62,   59],\n",
              "       [  26,   62,   55],\n",
              "       [  49,   62,   56],\n",
              "       [  21,   62,   42],\n",
              "       [  66,   63,   50],\n",
              "       [  54,   63,   46],\n",
              "       [  68,   63,   43],\n",
              "       [  66,   63,   48],\n",
              "       [  65,   63,   52],\n",
              "       [  19,   63,   54],\n",
              "       [  38,   64,   42],\n",
              "       [  19,   64,   46],\n",
              "       [  18,   65,   48],\n",
              "       [  19,   65,   50],\n",
              "       [  63,   65,   43],\n",
              "       [  49,   65,   59],\n",
              "       [  51,   67,   43],\n",
              "       [  50,   67,   57],\n",
              "       [  27,   67,   56],\n",
              "       [  38,   67,   40],\n",
              "       [  40,   69,   58],\n",
              "       [  39,   69,   91],\n",
              "       [  23,   70,   29],\n",
              "       [  31,   70,   77],\n",
              "       [  43,   71,   35],\n",
              "       [  40,   71,   95],\n",
              "       [  59,   71,   11],\n",
              "       [  38,   71,   75],\n",
              "       [  47,   71,    9],\n",
              "       [  39,   71,   75],\n",
              "       [  25,   72,   34],\n",
              "       [  31,   72,   71],\n",
              "       [  20,   73,    5],\n",
              "       [  29,   73,   88],\n",
              "       [  44,   73,    7],\n",
              "       [  32,   73,   73],\n",
              "       [  19,   74,   10],\n",
              "       [  35,   74,   72],\n",
              "       [  57,   75,    5],\n",
              "       [  32,   75,   93],\n",
              "       [  28,   76,   40],\n",
              "       [  32,   76,   87],\n",
              "       [  25,   77,   12],\n",
              "       [  28,   77,   97],\n",
              "       [  48,   77,   36],\n",
              "       [  32,   77,   74],\n",
              "       [  34,   78,   22],\n",
              "       [  34,   78,   90],\n",
              "       [  43,   78,   17],\n",
              "       [  39,   78,   88],\n",
              "       [  44,   78,   20],\n",
              "       [  38,   78,   76],\n",
              "       [  47,   78,   16],\n",
              "       [  27,   78,   89],\n",
              "       [  37,   78,    1],\n",
              "       [  30,   78,   78],\n",
              "       [  34,   78,    1],\n",
              "       [  30,   78,   73],\n",
              "       [  56,   79,   35],\n",
              "       [  29,   79,   83],\n",
              "       [  19,   81,    5],\n",
              "       [  31,   81,   93],\n",
              "       [  50,   85,   26],\n",
              "       [  36,   85,   75],\n",
              "       [  42,   86,   20],\n",
              "       [  33,   86,   95],\n",
              "       [  36,   87,   27],\n",
              "       [  32,   87,   63],\n",
              "       [  40,   87,   13],\n",
              "       [  28,   87,   75],\n",
              "       [  36,   87,   10],\n",
              "       [  36,   87,   92],\n",
              "       [  52,   88,   13],\n",
              "       [  30,   88,   86],\n",
              "       [  58,   88,   15],\n",
              "       [  27,   88,   69],\n",
              "       [  59,   93,   14],\n",
              "       [  35,   93,   90],\n",
              "       [  37,   97,   32],\n",
              "       [  32,   97,   86],\n",
              "       [  46,   98,   15],\n",
              "       [  29,   98,   88],\n",
              "       [  41,   99,   39],\n",
              "       [  30,   99,   97],\n",
              "       [  54,  101,   24],\n",
              "       [  28,  101,   68],\n",
              "       [  41,  103,   17],\n",
              "       [  36,  103,   85],\n",
              "       [  34,  103,   23],\n",
              "       [  32,  103,   69],\n",
              "       [  33,  113,    8],\n",
              "       [  38,  113,   91],\n",
              "       [  47,  120,   16],\n",
              "       [  35,  120,   79],\n",
              "       [  45,  126,   28],\n",
              "       [  32,  126,   74],\n",
              "       [  32,  137,   18],\n",
              "       [  30,  137,   83],\n",
              "       [  37,   20,   13],\n",
              "       [  22,   20,   79],\n",
              "       [  35,   21,   35],\n",
              "       [  20,   21,   66],\n",
              "       [  52,   23,   29],\n",
              "       [  35,   23,   98],\n",
              "       [  35,   24,   35],\n",
              "       [  25,   24,   73],\n",
              "       [  46,   25,    5],\n",
              "       [  31,   25,   73],\n",
              "       [  54,   28,   14],\n",
              "       [  29,   28,   82],\n",
              "       [  45,   28,   32],\n",
              "       [  35,   28,   61],\n",
              "       [  40,   29,   31],\n",
              "       [  23,   29,   87],\n",
              "       [  60,   30,    4],\n",
              "       [  21,   30,   73],\n",
              "       [  53,   33,    4],\n",
              "       [  18,   33,   92],\n",
              "       [  49,   33,   14],\n",
              "       [  21,   33,   81],\n",
              "       [  42,   34,   17],\n",
              "       [  30,   34,   73],\n",
              "       [  36,   37,   26],\n",
              "       [  20,   37,   75],\n",
              "       [  65,   38,   35],\n",
              "       [ 250,  101,   68],\n",
              "       [ 410,  103,   17],\n",
              "       [ 367,  103,   85],\n",
              "       [ 348,  103,   23],\n",
              "       [ 322,  103,   69],\n",
              "       [  33, 1130,    8],\n",
              "       [  38, 1130,   91],\n",
              "       [  47, 1201,   16],\n",
              "       [  35, 1207,   79],\n",
              "       [  45,  126,  182],\n",
              "       [  32,  126,  174],\n",
              "       [  32,  137,  192],\n",
              "       [  30,  137,  183]])"
            ]
          },
          "metadata": {},
          "execution_count": 6
        }
      ]
    },
    {
      "cell_type": "code",
      "source": [
        "#Kita perlu standarisasi terlebih dahulu\n",
        "X = StandardScaler().fit_transform(X)\n",
        "X"
      ],
      "metadata": {
        "colab": {
          "base_uri": "https://localhost:8080/"
        },
        "id": "yEdZRrqmQN0A",
        "outputId": "225050a4-877d-4dc7-9325-05be37ebd42c"
      },
      "execution_count": null,
      "outputs": [
        {
          "output_type": "execute_result",
          "data": {
            "text/plain": [
              "array([[-5.63212969e-01, -4.31393298e-01, -4.21372977e-01],\n",
              "       [-5.19454111e-01, -4.31393298e-01,  9.16824758e-01],\n",
              "       [-5.41333540e-01, -4.24485019e-01, -1.47281405e+00],\n",
              "       [-4.75695253e-01, -4.24485019e-01,  7.89377354e-01],\n",
              "       [-3.00659821e-01, -4.17576739e-01, -3.89511126e-01],\n",
              "       [-4.97574682e-01, -4.17576739e-01,  7.57515504e-01],\n",
              "       [-2.13142105e-01, -4.10668459e-01, -1.47281405e+00],\n",
              "       [-4.75695253e-01, -4.10668459e-01,  1.33102882e+00],\n",
              "       [ 4.21361338e-01, -4.03760179e-01, -1.56839961e+00],\n",
              "       [-3.22539250e-01, -4.03760179e-01,  6.30068100e-01],\n",
              "       [ 4.86999625e-01, -4.03760179e-01, -1.21791925e+00],\n",
              "       [-2.13142105e-01, -4.03760179e-01,  1.49033807e+00],\n",
              "       [ 2.90084763e-01, -3.96851899e-01, -1.18605740e+00],\n",
              "       [-4.53815824e-01, -3.96851899e-01,  7.89377354e-01],\n",
              "       [-1.69383247e-01, -3.96851899e-01, -1.24978110e+00],\n",
              "       [-4.97574682e-01, -3.96851899e-01,  8.53101056e-01],\n",
              "       [-2.13142105e-01, -3.89943619e-01, -5.48820381e-01],\n",
              "       [-5.41333540e-01, -3.89943619e-01,  4.38896995e-01],\n",
              "       [ 1.58808189e-01, -3.76127059e-01, -7.39991486e-01],\n",
              "       [-2.13142105e-01, -3.76127059e-01,  1.45847622e+00],\n",
              "       [-2.13142105e-01, -3.69218779e-01, -5.48820381e-01],\n",
              "       [-4.31936395e-01, -3.69218779e-01,  6.61929951e-01],\n",
              "       [ 2.75316149e-02, -3.62310499e-01, -1.50467591e+00],\n",
              "       [-3.00659821e-01, -3.62310499e-01,  6.61929951e-01],\n",
              "       [ 2.02567047e-01, -3.41585659e-01, -1.21791925e+00],\n",
              "       [-3.44418679e-01, -3.41585659e-01,  9.48686609e-01],\n",
              "       [ 5.65218584e-03, -3.41585659e-01, -6.44405933e-01],\n",
              "       [-2.13142105e-01, -3.41585659e-01,  2.79587741e-01],\n",
              "       [-1.03744959e-01, -3.34677379e-01, -6.76267784e-01],\n",
              "       [-4.75695253e-01, -3.34677379e-01,  1.10799586e+00],\n",
              "       [ 3.33843622e-01, -3.27769099e-01, -1.53653776e+00],\n",
              "       [-5.19454111e-01, -3.27769099e-01,  6.61929951e-01],\n",
              "       [ 1.80687618e-01, -3.07044259e-01, -1.53653776e+00],\n",
              "       [-5.85092398e-01, -3.07044259e-01,  1.26730512e+00],\n",
              "       [ 9.31699020e-02, -3.07044259e-01, -1.21791925e+00],\n",
              "       [-5.19454111e-01, -3.07044259e-01,  9.16824758e-01],\n",
              "       [-5.99861013e-02, -3.00135979e-01, -1.12233370e+00],\n",
              "       [-3.22539250e-01, -3.00135979e-01,  6.61929951e-01],\n",
              "       [-1.91262676e-01, -2.79411140e-01, -8.35577038e-01],\n",
              "       [-5.41333540e-01, -2.79411140e-01,  7.25653653e-01],\n",
              "       [ 4.43240767e-01, -2.72502860e-01, -5.48820381e-01],\n",
              "       [-4.53815824e-01, -2.72502860e-01,  1.26730512e+00],\n",
              "       [ 7.12904730e-02, -2.65594580e-01, -5.16958530e-01],\n",
              "       [-3.00659821e-01, -2.65594580e-01,  2.79587741e-01],\n",
              "       [ 9.31699020e-02, -2.65594580e-01, -7.71853336e-01],\n",
              "       [-4.53815824e-01, -2.65594580e-01,  4.07035144e-01],\n",
              "       [ 1.15049331e-01, -2.58686300e-01,  8.84166361e-02],\n",
              "       [-3.88177537e-01, -2.58686300e-01, -1.66478171e-01],\n",
              "       [-3.44418679e-01, -2.58686300e-01, -3.25787425e-01],\n",
              "       [-3.00659821e-01, -2.58686300e-01, -3.25787425e-01],\n",
              "       [ 9.31699020e-02, -2.44869740e-01, -7.16891644e-03],\n",
              "       [-2.56900963e-01, -2.44869740e-01,  2.47725890e-01],\n",
              "       [-3.00659821e-01, -2.37961460e-01,  5.65547852e-02],\n",
              "       [ 3.11964192e-01, -2.37961460e-01,  2.47725890e-01],\n",
              "       [ 1.15049331e-01, -2.37961460e-01, -2.30201872e-01],\n",
              "       [ 4.94110439e-02, -2.37961460e-01, -3.57649276e-01],\n",
              "       [ 1.36928760e-01, -2.31053180e-01, -7.08926181e-02],\n",
              "       [ 5.30758483e-01, -2.31053180e-01, -1.98340021e-01],\n",
              "       [-3.88177537e-01, -2.17236620e-01, -3.90307673e-02],\n",
              "       [ 1.80687618e-01, -2.17236620e-01, -1.98340021e-01],\n",
              "       [ 5.52637912e-01, -2.17236620e-01,  1.20278487e-01],\n",
              "       [-5.63212969e-01, -2.17236620e-01,  8.84166361e-02],\n",
              "       [ 4.86999625e-01, -2.10328340e-01, -7.16891644e-03],\n",
              "       [ 2.02567047e-01, -2.10328340e-01,  2.15864039e-01],\n",
              "       [ 3.99481909e-01, -2.03420060e-01, -3.90307673e-02],\n",
              "       [-5.85092398e-01, -2.03420060e-01,  2.15864039e-01],\n",
              "       [-3.81066723e-02, -2.03420060e-01, -7.08926181e-02],\n",
              "       [ 5.08879054e-01, -2.03420060e-01, -1.34616320e-01],\n",
              "       [-5.63212969e-01, -2.03420060e-01,  2.15864039e-01],\n",
              "       [-2.78780392e-01, -2.03420060e-01, -1.66478171e-01],\n",
              "       [ 5.52637912e-01, -1.96511780e-01,  8.84166361e-02],\n",
              "       [ 4.94110439e-02, -1.96511780e-01, -3.25787425e-01],\n",
              "       [ 3.33843622e-01, -1.89603500e-01, -1.02754469e-01],\n",
              "       [ 3.33843622e-01, -1.89603500e-01,  1.20278487e-01],\n",
              "       [ 3.11964192e-01, -1.61970380e-01, -1.66478171e-01],\n",
              "       [-4.10056966e-01, -1.61970380e-01,  5.65547852e-02],\n",
              "       [ 5.65218584e-03, -1.61970380e-01,  2.46929344e-02],\n",
              "       [-1.03744959e-01, -1.61970380e-01, -1.34616320e-01],\n",
              "       [-4.75695253e-01, -1.61970380e-01, -7.16891644e-03],\n",
              "       [ 9.31699020e-02, -1.61970380e-01, -3.25787425e-01],\n",
              "       [ 2.68205334e-01, -1.61970380e-01, -3.90307673e-02],\n",
              "       [-1.47503817e-01, -1.61970380e-01,  8.84166361e-02],\n",
              "       [ 4.86999625e-01, -1.61970380e-01, -3.57649276e-01],\n",
              "       [ 2.75316149e-02, -1.61970380e-01, -2.62063723e-01],\n",
              "       [-5.19454111e-01, -1.61970380e-01,  1.52140338e-01],\n",
              "       [ 7.12904730e-02, -1.61970380e-01, -1.98340021e-01],\n",
              "       [ 2.24446476e-01, -1.41245541e-01,  1.84002189e-01],\n",
              "       [-4.97574682e-01, -1.41245541e-01,  8.84166361e-02],\n",
              "       [-2.35021534e-01, -1.34337261e-01,  2.47725890e-01],\n",
              "       [ 1.15049331e-01, -1.34337261e-01, -1.98340021e-01],\n",
              "       [ 5.08879054e-01, -1.27428981e-01,  8.84166361e-02],\n",
              "       [-5.85092398e-01, -1.27428981e-01, -3.57649276e-01],\n",
              "       [ 7.12904730e-02, -1.20520701e-01, -1.02754469e-01],\n",
              "       [-1.03744959e-01, -1.20520701e-01, -3.89511126e-01],\n",
              "       [-2.78780392e-01, -1.20520701e-01, -3.25787425e-01],\n",
              "       [-4.53815824e-01, -1.20520701e-01, -7.16891644e-03],\n",
              "       [ 4.94110439e-02, -1.20520701e-01, -1.66478171e-01],\n",
              "       [-3.88177537e-01, -1.20520701e-01, -7.08926181e-02],\n",
              "       [ 7.12904730e-02, -1.13612421e-01, -3.25787425e-01],\n",
              "       [-5.41333540e-01, -1.13612421e-01, -1.02754469e-01],\n",
              "       [-4.75695253e-01, -1.06704141e-01, -3.57649276e-01],\n",
              "       [ 9.31699020e-02, -1.06704141e-01, -1.34616320e-01],\n",
              "       [ 4.86999625e-01, -1.06704141e-01,  2.15864039e-01],\n",
              "       [-4.10056966e-01, -1.06704141e-01,  8.84166361e-02],\n",
              "       [ 9.31699020e-02, -1.06704141e-01,  1.20278487e-01],\n",
              "       [-5.19454111e-01, -1.06704141e-01, -3.25787425e-01],\n",
              "       [ 4.65120196e-01, -9.97958608e-02, -7.08926181e-02],\n",
              "       [ 2.02567047e-01, -9.97958608e-02, -1.98340021e-01],\n",
              "       [ 5.08879054e-01, -9.97958608e-02, -2.93925574e-01],\n",
              "       [ 4.65120196e-01, -9.97958608e-02, -1.34616320e-01],\n",
              "       [ 4.43240767e-01, -9.97958608e-02, -7.16891644e-03],\n",
              "       [-5.63212969e-01, -9.97958608e-02,  5.65547852e-02],\n",
              "       [-1.47503817e-01, -9.28875808e-02, -3.25787425e-01],\n",
              "       [-5.63212969e-01, -9.28875808e-02, -1.98340021e-01],\n",
              "       [-5.85092398e-01, -8.59793009e-02, -1.34616320e-01],\n",
              "       [-5.63212969e-01, -8.59793009e-02, -7.08926181e-02],\n",
              "       [ 3.99481909e-01, -8.59793009e-02, -2.93925574e-01],\n",
              "       [ 9.31699020e-02, -8.59793009e-02,  2.15864039e-01],\n",
              "       [ 1.36928760e-01, -7.21627410e-02, -2.93925574e-01],\n",
              "       [ 1.15049331e-01, -7.21627410e-02,  1.52140338e-01],\n",
              "       [-3.88177537e-01, -7.21627410e-02,  1.20278487e-01],\n",
              "       [-1.47503817e-01, -7.21627410e-02, -3.89511126e-01],\n",
              "       [-1.03744959e-01, -5.83461811e-02,  1.84002189e-01],\n",
              "       [-1.25624388e-01, -5.83461811e-02,  1.23544327e+00],\n",
              "       [-4.75695253e-01, -5.14379011e-02, -7.39991486e-01],\n",
              "       [-3.00659821e-01, -5.14379011e-02,  7.89377354e-01],\n",
              "       [-3.81066723e-02, -4.45296212e-02, -5.48820381e-01],\n",
              "       [-1.03744959e-01, -4.45296212e-02,  1.36289067e+00],\n",
              "       [ 3.11964192e-01, -4.45296212e-02, -1.31350480e+00],\n",
              "       [-1.47503817e-01, -4.45296212e-02,  7.25653653e-01],\n",
              "       [ 4.94110439e-02, -4.45296212e-02, -1.37722850e+00],\n",
              "       [-1.25624388e-01, -4.45296212e-02,  7.25653653e-01],\n",
              "       [-4.31936395e-01, -3.76213412e-02, -5.80682231e-01],\n",
              "       [-3.00659821e-01, -3.76213412e-02,  5.98206249e-01],\n",
              "       [-5.41333540e-01, -3.07130613e-02, -1.50467591e+00],\n",
              "       [-3.44418679e-01, -3.07130613e-02,  1.13985771e+00],\n",
              "       [-1.62272432e-02, -3.07130613e-02, -1.44095220e+00],\n",
              "       [-2.78780392e-01, -3.07130613e-02,  6.61929951e-01],\n",
              "       [-5.63212969e-01, -2.38047813e-02, -1.34536665e+00],\n",
              "       [-2.13142105e-01, -2.38047813e-02,  6.30068100e-01],\n",
              "       [ 2.68205334e-01, -1.68965014e-02, -1.50467591e+00],\n",
              "       [-2.78780392e-01, -1.68965014e-02,  1.29916697e+00],\n",
              "       [-3.66298108e-01, -9.98822143e-03, -3.89511126e-01],\n",
              "       [-2.78780392e-01, -9.98822143e-03,  1.10799586e+00],\n",
              "       [-4.31936395e-01, -3.07994148e-03, -1.28164295e+00],\n",
              "       [-3.66298108e-01, -3.07994148e-03,  1.42661437e+00],\n",
              "       [ 7.12904730e-02, -3.07994148e-03, -5.16958530e-01],\n",
              "       [-2.78780392e-01, -3.07994148e-03,  6.93791802e-01],\n",
              "       [-2.35021534e-01,  3.82833847e-03, -9.63024442e-01],\n",
              "       [-2.35021534e-01,  3.82833847e-03,  1.20358142e+00],\n",
              "       [-3.81066723e-02,  3.82833847e-03, -1.12233370e+00],\n",
              "       [-1.25624388e-01,  3.82833847e-03,  1.13985771e+00],\n",
              "       [-1.62272432e-02,  3.82833847e-03, -1.02674814e+00],\n",
              "       [-1.47503817e-01,  3.82833847e-03,  7.57515504e-01],\n",
              "       [ 4.94110439e-02,  3.82833847e-03, -1.15419555e+00],\n",
              "       [-3.88177537e-01,  3.82833847e-03,  1.17171956e+00],\n",
              "       [-1.69383247e-01,  3.82833847e-03, -1.63212331e+00],\n",
              "       [-3.22539250e-01,  3.82833847e-03,  8.21239205e-01],\n",
              "       [-2.35021534e-01,  3.82833847e-03, -1.63212331e+00],\n",
              "       [-3.22539250e-01,  3.82833847e-03,  6.61929951e-01],\n",
              "       [ 2.46325905e-01,  1.07366184e-02, -5.48820381e-01],\n",
              "       [-3.44418679e-01,  1.07366184e-02,  9.80548459e-01],\n",
              "       [-5.63212969e-01,  2.45531783e-02, -1.50467591e+00],\n",
              "       [-3.00659821e-01,  2.45531783e-02,  1.29916697e+00],\n",
              "       [ 1.15049331e-01,  5.21862981e-02, -8.35577038e-01],\n",
              "       [-1.91262676e-01,  5.21862981e-02,  7.25653653e-01],\n",
              "       [-5.99861013e-02,  5.90945781e-02, -1.02674814e+00],\n",
              "       [-2.56900963e-01,  5.90945781e-02,  1.36289067e+00],\n",
              "       [-1.91262676e-01,  6.60028580e-02, -8.03715187e-01],\n",
              "       [-2.78780392e-01,  6.60028580e-02,  3.43311443e-01],\n",
              "       [-1.03744959e-01,  6.60028580e-02, -1.24978110e+00],\n",
              "       [-3.66298108e-01,  6.60028580e-02,  7.25653653e-01],\n",
              "       [-1.91262676e-01,  6.60028580e-02, -1.34536665e+00],\n",
              "       [-1.91262676e-01,  6.60028580e-02,  1.26730512e+00],\n",
              "       [ 1.58808189e-01,  7.29111380e-02, -1.24978110e+00],\n",
              "       [-3.22539250e-01,  7.29111380e-02,  1.07613401e+00],\n",
              "       [ 2.90084763e-01,  7.29111380e-02, -1.18605740e+00],\n",
              "       [-3.88177537e-01,  7.29111380e-02,  5.34482548e-01],\n",
              "       [ 3.11964192e-01,  1.07452538e-01, -1.21791925e+00],\n",
              "       [-2.13142105e-01,  1.07452538e-01,  1.20358142e+00],\n",
              "       [-1.69383247e-01,  1.35085658e-01, -6.44405933e-01],\n",
              "       [-2.78780392e-01,  1.35085658e-01,  1.07613401e+00],\n",
              "       [ 2.75316149e-02,  1.41993938e-01, -1.18605740e+00],\n",
              "       [-3.44418679e-01,  1.41993938e-01,  1.13985771e+00],\n",
              "       [-8.18655303e-02,  1.48902217e-01, -4.21372977e-01],\n",
              "       [-3.22539250e-01,  1.48902217e-01,  1.42661437e+00],\n",
              "       [ 2.02567047e-01,  1.62718777e-01, -8.99300740e-01],\n",
              "       [-3.66298108e-01,  1.62718777e-01,  5.02620697e-01],\n",
              "       [-8.18655303e-02,  1.76535337e-01, -1.12233370e+00],\n",
              "       [-1.91262676e-01,  1.76535337e-01,  1.04427216e+00],\n",
              "       [-2.35021534e-01,  1.76535337e-01, -9.31162591e-01],\n",
              "       [-2.78780392e-01,  1.76535337e-01,  5.34482548e-01],\n",
              "       [-2.56900963e-01,  2.45618137e-01, -1.40909035e+00],\n",
              "       [-1.47503817e-01,  2.45618137e-01,  1.23544327e+00],\n",
              "       [ 4.94110439e-02,  2.93976096e-01, -1.15419555e+00],\n",
              "       [-2.13142105e-01,  2.93976096e-01,  8.53101056e-01],\n",
              "       [ 5.65218584e-03,  3.35425776e-01, -7.71853336e-01],\n",
              "       [-2.78780392e-01,  3.35425776e-01,  6.93791802e-01],\n",
              "       [-2.78780392e-01,  4.11416856e-01, -1.09047184e+00],\n",
              "       [-3.22539250e-01,  4.11416856e-01,  9.80548459e-01],\n",
              "       [-1.69383247e-01, -3.96851899e-01, -1.24978110e+00],\n",
              "       [-4.97574682e-01, -3.96851899e-01,  8.53101056e-01],\n",
              "       [-2.13142105e-01, -3.89943619e-01, -5.48820381e-01],\n",
              "       [-5.41333540e-01, -3.89943619e-01,  4.38896995e-01],\n",
              "       [ 1.58808189e-01, -3.76127059e-01, -7.39991486e-01],\n",
              "       [-2.13142105e-01, -3.76127059e-01,  1.45847622e+00],\n",
              "       [-2.13142105e-01, -3.69218779e-01, -5.48820381e-01],\n",
              "       [-4.31936395e-01, -3.69218779e-01,  6.61929951e-01],\n",
              "       [ 2.75316149e-02, -3.62310499e-01, -1.50467591e+00],\n",
              "       [-3.00659821e-01, -3.62310499e-01,  6.61929951e-01],\n",
              "       [ 2.02567047e-01, -3.41585659e-01, -1.21791925e+00],\n",
              "       [-3.44418679e-01, -3.41585659e-01,  9.48686609e-01],\n",
              "       [ 5.65218584e-03, -3.41585659e-01, -6.44405933e-01],\n",
              "       [-2.13142105e-01, -3.41585659e-01,  2.79587741e-01],\n",
              "       [-1.03744959e-01, -3.34677379e-01, -6.76267784e-01],\n",
              "       [-4.75695253e-01, -3.34677379e-01,  1.10799586e+00],\n",
              "       [ 3.33843622e-01, -3.27769099e-01, -1.53653776e+00],\n",
              "       [-5.19454111e-01, -3.27769099e-01,  6.61929951e-01],\n",
              "       [ 1.80687618e-01, -3.07044259e-01, -1.53653776e+00],\n",
              "       [-5.85092398e-01, -3.07044259e-01,  1.26730512e+00],\n",
              "       [ 9.31699020e-02, -3.07044259e-01, -1.21791925e+00],\n",
              "       [-5.19454111e-01, -3.07044259e-01,  9.16824758e-01],\n",
              "       [-5.99861013e-02, -3.00135979e-01, -1.12233370e+00],\n",
              "       [-3.22539250e-01, -3.00135979e-01,  6.61929951e-01],\n",
              "       [-1.91262676e-01, -2.79411140e-01, -8.35577038e-01],\n",
              "       [-5.41333540e-01, -2.79411140e-01,  7.25653653e-01],\n",
              "       [ 4.43240767e-01, -2.72502860e-01, -5.48820381e-01],\n",
              "       [ 4.49093514e+00,  1.62718777e-01,  5.02620697e-01],\n",
              "       [ 7.99164379e+00,  1.76535337e-01, -1.12233370e+00],\n",
              "       [ 7.05082834e+00,  1.76535337e-01,  1.04427216e+00],\n",
              "       [ 6.63511919e+00,  1.76535337e-01, -9.31162591e-01],\n",
              "       [ 6.06625403e+00,  1.76535337e-01,  5.34482548e-01],\n",
              "       [-2.56900963e-01,  7.27133885e+00, -1.40909035e+00],\n",
              "       [-1.47503817e-01,  7.27133885e+00,  1.23544327e+00],\n",
              "       [ 4.94110439e-02,  7.76182672e+00, -1.15419555e+00],\n",
              "       [-2.13142105e-01,  7.80327640e+00,  8.53101056e-01],\n",
              "       [ 5.65218584e-03,  3.35425776e-01,  4.13487169e+00],\n",
              "       [-2.78780392e-01,  3.35425776e-01,  3.87997689e+00],\n",
              "       [-2.78780392e-01,  4.11416856e-01,  4.45349020e+00],\n",
              "       [-3.22539250e-01,  4.11416856e-01,  4.16673354e+00]])"
            ]
          },
          "metadata": {},
          "execution_count": 7
        }
      ]
    },
    {
      "cell_type": "markdown",
      "source": [
        "Sebelum mentraining K-Means, kita mencari nilai K yang baik terlebih dahulu menggunakan Metode Elbow atau KElbowVisualizer pada Python"
      ],
      "metadata": {
        "id": "c2qoHieIQ4nt"
      }
    },
    {
      "cell_type": "code",
      "source": [
        "tes_model = KMeans(random_state=42)\n",
        "visualizer = KElbowVisualizer(tes_model, k=(2,10))\n",
        "visualizer.fit(X)\n",
        "visualizer.show()"
      ],
      "metadata": {
        "colab": {
          "base_uri": "https://localhost:8080/",
          "height": 393
        },
        "id": "IOEks7zkQP8G",
        "outputId": "374f3e31-691e-40d4-c5f8-91fb908f67e0"
      },
      "execution_count": null,
      "outputs": [
        {
          "output_type": "display_data",
          "data": {
            "text/plain": [
              "<Figure size 576x396 with 2 Axes>"
            ],
            "image/png": "[encoded data removed]"
          },
          "metadata": {}
        },
        {
          "output_type": "execute_result",
          "data": {
            "text/plain": [
              "<matplotlib.axes._subplots.AxesSubplot at 0x7f8daa5f8590>"
            ]
          },
          "metadata": {},
          "execution_count": 8
        }
      ]
    },
    {
      "cell_type": "markdown",
      "source": [
        "Berdasarkan hasil Metode Elbow, Titik Elbow berada pada K=4\n",
        "\n",
        "\n",
        "Maka nilai K terbaik/optimal adalah 4."
      ],
      "metadata": {
        "id": "TCeJ98joQqmj"
      }
    },
    {
      "cell_type": "markdown",
      "source": [
        "Selanjutnya kita lakukan training model menggunakan algoritma K-Means dengan:\n",
        "- cluster bejumlah 4 (K=4)\n",
        "- random state bernilai 42\n",
        "\n",
        "Random state berguna untuk mengontrol ke-random-an inisiasi centroid."
      ],
      "metadata": {
        "id": "Gmw-2s8CRDOB"
      }
    },
    {
      "cell_type": "code",
      "source": [
        "jumlah_cluster = 4\n",
        "randomizer = 42\n",
        "model_kmeans = KMeans(n_clusters=jumlah_cluster, random_state=randomizer)\n",
        "\n",
        "model_kmeans.fit(X)"
      ],
      "metadata": {
        "colab": {
          "base_uri": "https://localhost:8080/"
        },
        "id": "BO8bG7PyQ6wg",
        "outputId": "f2b60747-9ce9-4395-eae2-de121dfe637b"
      },
      "execution_count": null,
      "outputs": [
        {
          "output_type": "execute_result",
          "data": {
            "text/plain": [
              "KMeans(n_clusters=4, random_state=42)"
            ]
          },
          "metadata": {},
          "execution_count": 9
        }
      ]
    },
    {
      "cell_type": "code",
      "source": [
        "#Hasil Clustering\n",
        "labels_kmeans = model_kmeans.labels_\n",
        "labels_kmeans"
      ],
      "metadata": {
        "colab": {
          "base_uri": "https://localhost:8080/"
        },
        "id": "eMe-7w_ZRUVs",
        "outputId": "5b06d6af-c1d0-4b36-b690-f3e242ab16f8"
      },
      "execution_count": null,
      "outputs": [
        {
          "output_type": "execute_result",
          "data": {
            "text/plain": [
              "array([0, 3, 0, 3, 0, 3, 0, 3, 0, 3, 0, 3, 0, 3, 0, 3, 0, 3, 0, 3, 0, 3,\n",
              "       0, 3, 0, 3, 0, 3, 0, 3, 0, 3, 0, 3, 0, 3, 0, 3, 0, 3, 0, 3, 0, 3,\n",
              "       0, 3, 0, 0, 0, 0, 0, 3, 0, 0, 0, 0, 0, 0, 0, 0, 0, 0, 0, 0, 0, 3,\n",
              "       0, 0, 3, 0, 0, 0, 0, 0, 0, 0, 0, 0, 0, 0, 0, 0, 0, 0, 0, 0, 0, 0,\n",
              "       3, 0, 0, 0, 0, 0, 0, 0, 0, 0, 0, 0, 0, 0, 0, 0, 0, 0, 0, 0, 0, 0,\n",
              "       0, 0, 0, 0, 0, 0, 0, 0, 0, 0, 0, 0, 0, 3, 0, 3, 0, 3, 0, 3, 0, 3,\n",
              "       0, 3, 0, 3, 0, 3, 0, 3, 0, 3, 0, 3, 0, 3, 0, 3, 0, 3, 0, 3, 0, 3,\n",
              "       0, 3, 0, 3, 0, 3, 0, 3, 0, 3, 0, 3, 0, 3, 0, 3, 0, 3, 0, 3, 0, 3,\n",
              "       0, 3, 0, 3, 0, 3, 0, 3, 0, 3, 0, 3, 0, 3, 0, 3, 0, 3, 0, 3, 0, 3,\n",
              "       0, 3, 0, 3, 0, 3, 0, 3, 0, 3, 0, 3, 0, 3, 0, 3, 0, 3, 0, 3, 0, 3,\n",
              "       0, 3, 0, 3, 0, 3, 0, 1, 1, 1, 1, 1, 2, 2, 2, 2, 3, 3, 3, 3],\n",
              "      dtype=int32)"
            ]
          },
          "metadata": {},
          "execution_count": 11
        }
      ]
    },
    {
      "cell_type": "markdown",
      "source": [
        "Karena kita menentukan K=4 (cluster berjumlah 4), maka kita akan mendapat 4 centroid.\n",
        "\n",
        "Informasi (letak) tiap centroid bisa kita akses menggunakan method cluster_centers_."
      ],
      "metadata": {
        "id": "QzkpANQhRcQ5"
      }
    },
    {
      "cell_type": "code",
      "source": [
        "print(model_kmeans.cluster_centers_)"
      ],
      "metadata": {
        "colab": {
          "base_uri": "https://localhost:8080/"
        },
        "id": "NWC37QIzRYUX",
        "outputId": "78e5802c-bc54-4cff-8676-e071337c9376"
      },
      "execution_count": null,
      "outputs": [
        {
          "output_type": "stream",
          "name": "stdout",
          "text": [
            "[[-2.49494480e-02 -1.45773265e-01 -5.69056962e-01]\n",
            " [ 6.44695610e+00  1.73772025e-01  5.57582390e-03]\n",
            " [-1.42033960e-01  7.52694521e+00 -1.18685394e-01]\n",
            " [-3.37037667e-01 -1.13279492e-01  1.02008786e+00]]\n"
          ]
        }
      ]
    },
    {
      "cell_type": "markdown",
      "source": [
        "**EVALUASI**"
      ],
      "metadata": {
        "id": "Q19dBiKGR5f3"
      }
    },
    {
      "cell_type": "markdown",
      "source": [
        "Ada beberapa metode yang bisa kita gunakan untuk mengevaluasi model clustering, antara lain:\n",
        "1. Melihat dendrogram\n",
        "2. Metode elbow\n",
        "3. Visualisasi data\n",
        "4. Silhouette Coefficient (SC)\n",
        "\n",
        "Dendrogram digunakan pada model AHC.\n",
        "Sedangkan, metode elbow sudah kita gunakan untuk menentukan nilai K terbaik.\n",
        "\n",
        "Selanjutnya, kita akan mengevaluasi model clustering menggunakan visualisasi data dan SC."
      ],
      "metadata": {
        "id": "ATg0kkdxR3Jc"
      }
    },
    {
      "cell_type": "markdown",
      "source": [
        "Kita bisa memvisualisasikan hasil clustering dan centroid secara bersamaan menggunaan scatter plot."
      ],
      "metadata": {
        "id": "_uIBjhtmSDpq"
      }
    },
    {
      "cell_type": "code",
      "source": [
        "plt.scatter(X[:, 0], X[:, 1], c=labels_kmeans, cmap='rainbow')\n",
        "\n",
        "plt.scatter(model_kmeans.cluster_centers_[:,0], model_kmeans.cluster_centers_[:,1], color='black')\n",
        "\n",
        "plt.show()"
      ],
      "metadata": {
        "colab": {
          "base_uri": "https://localhost:8080/",
          "height": 347
        },
        "id": "6PC_PVPURmMS",
        "outputId": "7914afb9-7bc9-4324-aeab-c5b248796ccd"
      },
      "execution_count": null,
      "outputs": [
        {
          "output_type": "display_data",
          "data": {
            "text/plain": [
              "<Figure size 576x396 with 1 Axes>"
            ],
            "image/png": "[encoded data removed]"
          },
          "metadata": {}
        }
      ]
    },
    {
      "cell_type": "markdown",
      "source": [
        "Terlihat hasil clustering sudah cukup bagus."
      ],
      "metadata": {
        "id": "pTXcFyGgSOpf"
      }
    },
    {
      "cell_type": "markdown",
      "source": [
        "Kemudian kita bisa menggunakan silhouette_score untuk mendapat Silhouette Score model yang telah kita training"
      ],
      "metadata": {
        "id": "pc04DfLhSWx-"
      }
    },
    {
      "cell_type": "code",
      "source": [
        "SC_kmeans = silhouette_score"
      ],
      "metadata": {
        "id": "L6UZ_alSSP76"
      },
      "execution_count": null,
      "outputs": []
    },
    {
      "cell_type": "markdown",
      "source": [
        "Semakin Silhouette Score mendekati 1, maka model clustering akan semakin bagus.\n",
        "\n",
        "Berdasarkan Silhouette Score, model K-Means yang telah kita training sudah cukup bagus"
      ],
      "metadata": {
        "id": "wDCJcWpEVm4x"
      }
    },
    {
      "cell_type": "markdown",
      "source": [
        "**KESIMPULAN**"
      ],
      "metadata": {
        "id": "Fp9gJ6vdVSFw"
      }
    },
    {
      "cell_type": "code",
      "source": [
        "#Simpan Hasil clustering ke dalam dataset\n",
        "data['Hasil_Clustering'] = labels_kmeans\n",
        "data"
      ],
      "metadata": {
        "colab": {
          "base_uri": "https://localhost:8080/",
          "height": 455
        },
        "id": "gn1wXiI-VPxE",
        "outputId": "d14ea364-57fe-4d70-b049-f3d8111ef050"
      },
      "execution_count": null,
      "outputs": [
        {
          "output_type": "execute_result",
          "data": {
            "text/plain": [
              "            Gender  Age  AnnualIncome  SpendingScore  Hasil_Clustering\n",
              "CustomerID                                                            \n",
              "1             Male   19            15             39                 0\n",
              "2             Male   21            15             81                 3\n",
              "3           Female   20            16              6                 0\n",
              "4           Female   23            16             77                 3\n",
              "5           Female   31            17             40                 0\n",
              "...            ...  ...           ...            ...               ...\n",
              "209         Female   35          1207             79                 2\n",
              "210         Female   45           126            182                 3\n",
              "211           Male   32           126            174                 3\n",
              "212           Male   32           137            192                 3\n",
              "213           Male   30           137            183                 3\n",
              "\n",
              "[240 rows x 5 columns]"
            ],
            "text/html": [
              "\n",
              "  <div id=\"df-079fe429-a0c7-4a0b-93d9-d4e531bc8e9c\">\n",
              "    <div class=\"colab-df-container\">\n",
              "      <div>\n",
              "<style scoped>\n",
              "    .dataframe tbody tr th:only-of-type {\n",
              "        vertical-align: middle;\n",
              "    }\n",
              "\n",
              "    .dataframe tbody tr th {\n",
              "        vertical-align: top;\n",
              "    }\n",
              "\n",
              "    .dataframe thead th {\n",
              "        text-align: right;\n",
              "    }\n",
              "</style>\n",
              "<table border=\"1\" class=\"dataframe\">\n",
              "  <thead>\n",
              "    <tr style=\"text-align: right;\">\n",
              "      <th></th>\n",
              "      <th>Gender</th>\n",
              "      <th>Age</th>\n",
              "      <th>AnnualIncome</th>\n",
              "      <th>SpendingScore</th>\n",
              "      <th>Hasil_Clustering</th>\n",
              "    </tr>\n",
              "    <tr>\n",
              "      <th>CustomerID</th>\n",
              "      <th></th>\n",
              "      <th></th>\n",
              "      <th></th>\n",
              "      <th></th>\n",
              "      <th></th>\n",
              "    </tr>\n",
              "  </thead>\n",
              "  <tbody>\n",
              "    <tr>\n",
              "      <th>1</th>\n",
              "      <td>Male</td>\n",
              "      <td>19</td>\n",
              "      <td>15</td>\n",
              "      <td>39</td>\n",
              "      <td>0</td>\n",
              "    </tr>\n",
              "    <tr>\n",
              "      <th>2</th>\n",
              "      <td>Male</td>\n",
              "      <td>21</td>\n",
              "      <td>15</td>\n",
              "      <td>81</td>\n",
              "      <td>3</td>\n",
              "    </tr>\n",
              "    <tr>\n",
              "      <th>3</th>\n",
              "      <td>Female</td>\n",
              "      <td>20</td>\n",
              "      <td>16</td>\n",
              "      <td>6</td>\n",
              "      <td>0</td>\n",
              "    </tr>\n",
              "    <tr>\n",
              "      <th>4</th>\n",
              "      <td>Female</td>\n",
              "      <td>23</td>\n",
              "      <td>16</td>\n",
              "      <td>77</td>\n",
              "      <td>3</td>\n",
              "    </tr>\n",
              "    <tr>\n",
              "      <th>5</th>\n",
              "      <td>Female</td>\n",
              "      <td>31</td>\n",
              "      <td>17</td>\n",
              "      <td>40</td>\n",
              "      <td>0</td>\n",
              "    </tr>\n",
              "    <tr>\n",
              "      <th>...</th>\n",
              "      <td>...</td>\n",
              "      <td>...</td>\n",
              "      <td>...</td>\n",
              "      <td>...</td>\n",
              "      <td>...</td>\n",
              "    </tr>\n",
              "    <tr>\n",
              "      <th>209</th>\n",
              "      <td>Female</td>\n",
              "      <td>35</td>\n",
              "      <td>1207</td>\n",
              "      <td>79</td>\n",
              "      <td>2</td>\n",
              "    </tr>\n",
              "    <tr>\n",
              "      <th>210</th>\n",
              "      <td>Female</td>\n",
              "      <td>45</td>\n",
              "      <td>126</td>\n",
              "      <td>182</td>\n",
              "      <td>3</td>\n",
              "    </tr>\n",
              "    <tr>\n",
              "      <th>211</th>\n",
              "      <td>Male</td>\n",
              "      <td>32</td>\n",
              "      <td>126</td>\n",
              "      <td>174</td>\n",
              "      <td>3</td>\n",
              "    </tr>\n",
              "    <tr>\n",
              "      <th>212</th>\n",
              "      <td>Male</td>\n",
              "      <td>32</td>\n",
              "      <td>137</td>\n",
              "      <td>192</td>\n",
              "      <td>3</td>\n",
              "    </tr>\n",
              "    <tr>\n",
              "      <th>213</th>\n",
              "      <td>Male</td>\n",
              "      <td>30</td>\n",
              "      <td>137</td>\n",
              "      <td>183</td>\n",
              "      <td>3</td>\n",
              "    </tr>\n",
              "  </tbody>\n",
              "</table>\n",
              "<p>240 rows × 5 columns</p>\n",
              "</div>\n",
              "      <button class=\"colab-df-convert\" onclick=\"convertToInteractive('df-079fe429-a0c7-4a0b-93d9-d4e531bc8e9c')\"\n",
              "              title=\"Convert this dataframe to an interactive table.\"\n",
              "              style=\"display:none;\">\n",
              "        \n",
              "  <svg xmlns=\"http://www.w3.org/2000/svg\" height=\"24px\"viewBox=\"0 0 24 24\"\n",
              "       width=\"24px\">\n",
              "    <path d=\"M0 0h24v24H0V0z\" fill=\"none\"/>\n",
              "    <path d=\"M18.56 5.44l.94 2.06.94-2.06 2.06-.94-2.06-.94-.94-2.06-.94 2.06-2.06.94zm-11 1L8.5 8.5l.94-2.06 2.06-.94-2.06-.94L8.5 2.5l-.94 2.06-2.06.94zm10 10l.94 2.06.94-2.06 2.06-.94-2.06-.94-.94-2.06-.94 2.06-2.06.94z\"/><path d=\"M17.41 7.96l-1.37-1.37c-.4-.4-.92-.59-1.43-.59-.52 0-1.04.2-1.43.59L10.3 9.45l-7.72 7.72c-.78.78-.78 2.05 0 2.83L4 21.41c.39.39.9.59 1.41.59.51 0 1.02-.2 1.41-.59l7.78-7.78 2.81-2.81c.8-.78.8-2.07 0-2.86zM5.41 20L4 18.59l7.72-7.72 1.47 1.35L5.41 20z\"/>\n",
              "  </svg>\n",
              "      </button>\n",
              "      \n",
              "  <style>\n",
              "    .colab-df-container {\n",
              "      display:flex;\n",
              "      flex-wrap:wrap;\n",
              "      gap: 12px;\n",
              "    }\n",
              "\n",
              "    .colab-df-convert {\n",
              "      background-color: #E8F0FE;\n",
              "      border: none;\n",
              "      border-radius: 50%;\n",
              "      cursor: pointer;\n",
              "      display: none;\n",
              "      fill: #1967D2;\n",
              "      height: 32px;\n",
              "      padding: 0 0 0 0;\n",
              "      width: 32px;\n",
              "    }\n",
              "\n",
              "    .colab-df-convert:hover {\n",
              "      background-color: #E2EBFA;\n",
              "      box-shadow: 0px 1px 2px rgba(60, 64, 67, 0.3), 0px 1px 3px 1px rgba(60, 64, 67, 0.15);\n",
              "      fill: #174EA6;\n",
              "    }\n",
              "\n",
              "    [theme=dark] .colab-df-convert {\n",
              "      background-color: #3B4455;\n",
              "      fill: #D2E3FC;\n",
              "    }\n",
              "\n",
              "    [theme=dark] .colab-df-convert:hover {\n",
              "      background-color: #434B5C;\n",
              "      box-shadow: 0px 1px 3px 1px rgba(0, 0, 0, 0.15);\n",
              "      filter: drop-shadow(0px 1px 2px rgba(0, 0, 0, 0.3));\n",
              "      fill: #FFFFFF;\n",
              "    }\n",
              "  </style>\n",
              "\n",
              "      <script>\n",
              "        const buttonEl =\n",
              "          document.querySelector('#df-079fe429-a0c7-4a0b-93d9-d4e531bc8e9c button.colab-df-convert');\n",
              "        buttonEl.style.display =\n",
              "          google.colab.kernel.accessAllowed ? 'block' : 'none';\n",
              "\n",
              "        async function convertToInteractive(key) {\n",
              "          const element = document.querySelector('#df-079fe429-a0c7-4a0b-93d9-d4e531bc8e9c');\n",
              "          const dataTable =\n",
              "            await google.colab.kernel.invokeFunction('convertToInteractive',\n",
              "                                                     [key], {});\n",
              "          if (!dataTable) return;\n",
              "\n",
              "          const docLinkHtml = 'Like what you see? Visit the ' +\n",
              "            '<a target=\"_blank\" href=https://colab.research.google.com/notebooks/data_table.ipynb>data table notebook</a>'\n",
              "            + ' to learn more about interactive tables.';\n",
              "          element.innerHTML = '';\n",
              "          dataTable['output_type'] = 'display_data';\n",
              "          await google.colab.output.renderOutput(dataTable, element);\n",
              "          const docLink = document.createElement('div');\n",
              "          docLink.innerHTML = docLinkHtml;\n",
              "          element.appendChild(docLink);\n",
              "        }\n",
              "      </script>\n",
              "    </div>\n",
              "  </div>\n",
              "  "
            ]
          },
          "metadata": {},
          "execution_count": 15
        }
      ]
    },
    {
      "cell_type": "markdown",
      "source": [
        "Menghitung Rata-rata untuk menarik kesimpulan"
      ],
      "metadata": {
        "id": "H0rN9n5gWYcz"
      }
    },
    {
      "cell_type": "code",
      "source": [
        "for i in range(jumlah_cluster):\n",
        "  print(f'Cluster ke-{i}')\n",
        "  print('Rata-rata pemasukan customer :', data[data['Hasil_Clustering']==i]['AnnualIncome'].mean())\n",
        "  print('Rata-rata pengeluaran customer :', data[data['Hasil_Clustering']==i]['SpendingScore'].mean())\n",
        "  print()"
      ],
      "metadata": {
        "colab": {
          "base_uri": "https://localhost:8080/"
        },
        "id": "LM0OQ_RIVrNj",
        "outputId": "9bfa229a-10bb-4c1d-e1b5-a77297c6146a"
      },
      "execution_count": null,
      "outputs": [
        {
          "output_type": "stream",
          "name": "stdout",
          "text": [
            "Cluster ke-0\n",
            "Rata-rata pemasukan customer : 56.3445945945946\n",
            "Rata-rata pengeluaran customer : 34.36486486486486\n",
            "\n",
            "Cluster ke-1\n",
            "Rata-rata pemasukan customer : 102.6\n",
            "Rata-rata pengeluaran customer : 52.4\n",
            "\n",
            "Cluster ke-2\n",
            "Rata-rata pemasukan customer : 1167.0\n",
            "Rata-rata pengeluaran customer : 48.5\n",
            "\n",
            "Cluster ke-3\n",
            "Rata-rata pemasukan customer : 61.04819277108434\n",
            "Rata-rata pengeluaran customer : 84.24096385542168\n",
            "\n"
          ]
        }
      ]
    }
  ]
}