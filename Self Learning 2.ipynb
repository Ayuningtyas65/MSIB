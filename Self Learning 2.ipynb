{
  "nbformat": 4,
  "nbformat_minor": 0,
  "metadata": {
    "colab": {
      "provenance": [],
      "collapsed_sections": [],
      "include_colab_link": true
    },
    "kernelspec": {
      "name": "python3",
      "display_name": "Python 3"
    },
    "language_info": {
      "name": "python"
    }
  },
  "cells": [
    {
      "cell_type": "markdown",
      "metadata": {
        "id": "view-in-github",
        "colab_type": "text"
      },
      "source": [
        "<a href=\"https://colab.research.google.com/github/Ayuningtyas65/MSIB/blob/main/Self%20Learning%202.ipynb\" target=\"_parent\"><img src=\"https://colab.research.google.com/assets/colab-badge.svg\" alt=\"Open In Colab\"/></a>"
      ]
    },
    {
      "cell_type": "markdown",
      "source": [
        "# 1 Menyimpan data tabel ke dalam dictionary"
      ],
      "metadata": {
        "id": "POsFcZhgPFPX"
      }
    },
    {
      "cell_type": "markdown",
      "source": [
        "Tri Mulyani Ayuningtyas"
      ],
      "metadata": {
        "id": "9qtID6zWFAUD"
      }
    },
    {
      "cell_type": "code",
      "execution_count": null,
      "metadata": {
        "colab": {
          "base_uri": "https://localhost:8080/"
        },
        "outputId": "6a9ea6f0-defd-4ef8-caed-4beec25827c3",
        "id": "sXl3Wyo1PKDD"
      },
      "outputs": [
        {
          "output_type": "stream",
          "name": "stdout",
          "text": [
            "(1990022, 'Herman', 'L', 'Tangerang', 'Machinery', 'Manager', 10000000)\n",
            "(2001077, 'Badar', 'L', 'Bekasi', 'Machinery', 'Staff', 7500000)\n",
            "(2002019, 'Clara', 'P', 'Depok', 'Compressor', 'Staff', 7000000)\n",
            "(2002081, 'Rista', 'P', 'Bogor', 'QC', 'Staff', 6500000)\n",
            "(2005099, 'Riani', 'P', 'Bekasi', 'QC', 'Operator', 6000000)\n",
            "(2006003, 'Afif', 'L', 'Karawang', 'Compressor', 'Operator', 5500000)\n",
            "(2006104, 'Riven', 'L', 'Tangerang', 'Compressor', 'Operator', 5500000)\n"
          ]
        }
      ],
      "source": [
        "NIK = [1990022, 2001077, 2002019, 2002081, 2005099, 2006003, 2006104, 2008160] \n",
        "Nama = ['Herman', 'Badar', 'Clara', 'Rista', 'Riani', 'Afif', 'Riven', 'Endah']\n",
        "Jenis_Kelamin = ['L', 'L', 'P', 'P', 'P', 'L', 'L', 'P']\n",
        "Alamat = ['Tangerang', 'Bekasi', 'Depok', 'Bogor', 'Bekasi', 'Karawang', 'Tangerang', 'Jakarta']\n",
        "Divisi = ['Machinery', 'Machinery', 'Compressor', 'QC', 'QC', 'Compressor', 'Compressor', 'Machinery']\n",
        "Jabatan = ['Manager', 'Staff', 'Staff', 'Staff', 'Operator', 'Operator', 'Operator']\n",
        "Gaji_Pokok = [10000000, 7500000, 7000000, 6500000, 6000000, 5500000, 5500000, 5000000]\n",
        "\n",
        "for data in zip(NIK,Nama, Jenis_Kelamin, Alamat, Divisi, Jabatan, Gaji_Pokok):\n",
        "  print(data)"
      ]
    },
    {
      "cell_type": "markdown",
      "source": [
        "# 2. Membuat Slicing pada Array"
      ],
      "metadata": {
        "id": "0hWMIBOEPju-"
      }
    },
    {
      "cell_type": "code",
      "source": [
        "import numpy as np\n",
        "\n",
        "A = np.array([[1, 2],\n",
        "              [4, 5],\n",
        "              [7, 8]])\n",
        "\n",
        "print(A, '\\n')\n",
        "\n",
        "print(A[2:3, 0:1],\n",
        "      A[2:3, 1:2])"
      ],
      "metadata": {
        "colab": {
          "base_uri": "https://localhost:8080/"
        },
        "id": "w0jkHzfx15lC",
        "outputId": "33b64ad2-7b7c-4c9e-b100-0ebe497008ba"
      },
      "execution_count": null,
      "outputs": [
        {
          "output_type": "stream",
          "name": "stdout",
          "text": [
            "[[1 2]\n",
            " [4 5]\n",
            " [7 8]] \n",
            "\n",
            "[[7]] [[8]]\n"
          ]
        }
      ]
    },
    {
      "cell_type": "markdown",
      "source": [
        "# 3. Membuat Slicing Pada Array"
      ],
      "metadata": {
        "id": "Wb6klsGUP50w"
      }
    },
    {
      "cell_type": "code",
      "source": [
        "import numpy as np\n",
        "\n",
        "A = np.array([[1, 6, 9],\n",
        "              [2, 5, 8]])\n",
        "\n",
        "print(A, '\\n')\n",
        "\n",
        "print(A[0:1, 1:2],\n",
        "      A[1:2, 1:2])"
      ],
      "metadata": {
        "colab": {
          "base_uri": "https://localhost:8080/"
        },
        "id": "0fEIPK0G3LaQ",
        "outputId": "657fac8c-cc72-42ed-84e5-69ee538ff233"
      },
      "execution_count": null,
      "outputs": [
        {
          "output_type": "stream",
          "name": "stdout",
          "text": [
            "[[1 6 9]\n",
            " [2 5 8]] \n",
            "\n",
            "[[6]] [[5]]\n"
          ]
        }
      ]
    },
    {
      "cell_type": "markdown",
      "source": [
        "# 4. Membuat Slicing Pada Array"
      ],
      "metadata": {
        "id": "fexMSU5hQB1C"
      }
    },
    {
      "cell_type": "code",
      "source": [
        "import numpy as np\n",
        "\n",
        "A = np.array([[4, 3, 8],\n",
        "              [7, 2, 5],\n",
        "              [6, 1, 9]])\n",
        "\n",
        "print(A, '\\n')\n",
        "\n",
        "print(A[1:2, 1:2])\n",
        "print(A[2:3, 1:2])"
      ],
      "metadata": {
        "colab": {
          "base_uri": "https://localhost:8080/"
        },
        "id": "4dREtBO_3PB7",
        "outputId": "deaad378-4434-43cc-9cdf-dbd9dcd0a43f"
      },
      "execution_count": null,
      "outputs": [
        {
          "output_type": "stream",
          "name": "stdout",
          "text": [
            "[[4 3 8]\n",
            " [7 2 5]\n",
            " [6 1 9]] \n",
            "\n",
            "[[2]]\n",
            "[[1]]\n"
          ]
        }
      ]
    },
    {
      "cell_type": "code",
      "source": [
        "import numpy as np\n",
        "\n",
        "B = np.array([[4, 3, 8],\n",
        "              [7, 2, 5],\n",
        "              [6, 1, 9]])\n",
        "\n",
        "print(B, '\\n')\n",
        "\n",
        "print(B[0:1, 1:2], B[0:1, 2:3])"
      ],
      "metadata": {
        "colab": {
          "base_uri": "https://localhost:8080/"
        },
        "id": "4k6eZsBe3Snl",
        "outputId": "df0c09dd-4b69-4453-af1c-df0db6210662"
      },
      "execution_count": null,
      "outputs": [
        {
          "output_type": "stream",
          "name": "stdout",
          "text": [
            "[[4 3 8]\n",
            " [7 2 5]\n",
            " [6 1 9]] \n",
            "\n",
            "[[3]] [[8]]\n"
          ]
        }
      ]
    },
    {
      "cell_type": "markdown",
      "source": [
        "# 5. membuat slicing pada Array"
      ],
      "metadata": {
        "id": "SvR-22xZPqT3"
      }
    },
    {
      "cell_type": "code",
      "source": [
        "import numpy as np\n",
        "\n",
        "A = np.array([[23, 35, 93, 87],\n",
        "              [92, 44, 11, 83],\n",
        "              [40, 12, 46, 28],\n",
        "              [73, 67, 65, 32]])\n",
        "\n",
        "print(A, '\\n')\n",
        "\n",
        "\n",
        "print('a =',A[1:2, 1:2], A[1:2, 2:3], A[1:2, 3:4], '\\n')\n",
        "print('b =',A[2:3, 1:2], A[2:3, 2:3],'\\n', \n",
        "            A[3:4, 1:2], A[3:4, 2:3],'\\n')\n",
        "print('c =',A[1:2, 1:2], A[1:2, 2:3], A[1:2, 3:4],'\\n',\n",
        "            A[2:3, 1:2], A[2:3, 2:3], A[2:3, 3:4],'\\n',\n",
        "            A[3:4, 1:2], A[3:4, 2:3], A[3:4, 3:4],'\\n')\n",
        "print('d =',A[1:2, 0:1], A[1:2, 1:2],'\\n',\n",
        "            A[2:3, 0:1], A[2:3, 1:2],'\\n')\n",
        "print('e =',A[0:1, 0:1], A[0:1, 1:2], A[0:1, 2:3], '\\n',\n",
        "            A[1:2, 0:1], A[1:2, 1:2], A[1:2, 2:3], '\\n')\n",
        "print('f =',A[1:2, 1:2], '\\n',\n",
        "            A[2:3, 1:2], '\\n',\n",
        "            A[3:4, 1:2])"
      ],
      "metadata": {
        "colab": {
          "base_uri": "https://localhost:8080/"
        },
        "id": "MN4fttx33VQP",
        "outputId": "2cae1391-e7d8-42c8-f766-39a856a7094c"
      },
      "execution_count": null,
      "outputs": [
        {
          "output_type": "stream",
          "name": "stdout",
          "text": [
            "[[23 35 93 87]\n",
            " [92 44 11 83]\n",
            " [40 12 46 28]\n",
            " [73 67 65 32]] \n",
            "\n",
            "a = [[44]] [[11]] [[83]] \n",
            "\n",
            "b = [[12]] [[46]] \n",
            " [[67]] [[65]] \n",
            "\n",
            "c = [[44]] [[11]] [[83]] \n",
            " [[12]] [[46]] [[28]] \n",
            " [[67]] [[65]] [[32]] \n",
            "\n",
            "d = [[92]] [[44]] \n",
            " [[40]] [[12]] \n",
            "\n",
            "e = [[23]] [[35]] [[93]] \n",
            " [[92]] [[44]] [[11]] \n",
            "\n",
            "f = [[44]] \n",
            " [[12]] \n",
            " [[67]]\n"
          ]
        }
      ]
    }
  ]
}