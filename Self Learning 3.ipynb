{
  "nbformat": 4,
  "nbformat_minor": 0,
  "metadata": {
    "colab": {
      "provenance": [],
      "collapsed_sections": [],
      "include_colab_link": true
    },
    "kernelspec": {
      "name": "python3",
      "display_name": "Python 3"
    },
    "language_info": {
      "name": "python"
    }
  },
  "cells": [
    {
      "cell_type": "markdown",
      "metadata": {
        "id": "view-in-github",
        "colab_type": "text"
      },
      "source": [
        "<a href=\"https://colab.research.google.com/github/Ayuningtyas65/MSIB/blob/main/Self%20Learning%203.ipynb\" target=\"_parent\"><img src=\"https://colab.research.google.com/assets/colab-badge.svg\" alt=\"Open In Colab\"/></a>"
      ]
    },
    {
      "cell_type": "markdown",
      "source": [
        "# 1. Menampilkan Status Berat Badan Berdasarkan BMI"
      ],
      "metadata": {
        "id": "qhDiSaoMWveu"
      }
    },
    {
      "cell_type": "markdown",
      "source": [
        "tri mulyani Ayuningtyas"
      ],
      "metadata": {
        "id": "A8nUzychFny3"
      }
    },
    {
      "cell_type": "code",
      "execution_count": null,
      "metadata": {
        "id": "pL3lQ2Mio6y-",
        "colab": {
          "base_uri": "https://localhost:8080/"
        },
        "outputId": "c20228cb-602f-4579-9d75-346bc11eef2f"
      },
      "outputs": [
        {
          "output_type": "stream",
          "name": "stdout",
          "text": [
            "Menentukan Status Berat Badan Berdasarkan BMI\n",
            "\n",
            "Masukkan Berat Badan (kg)  : 45\n",
            "Masukkan Tinggi Badan (cm) : 160\n",
            "\n",
            "Normal\n"
          ]
        }
      ],
      "source": [
        "print(\"Menentukan Status Berat Badan Berdasarkan BMI\\n\")\n",
        "\n",
        "BB = float(input(\"Masukkan Berat Badan (kg)  : \"))\n",
        "TB = float(input(\"+Masukkan Tinggi Badan (cm) : \"))\n",
        "\n",
        "BMI = BB / TB * TB\n",
        "\n",
        "if BMI < 18.5:\n",
        "  print(\"\\nKurang Berat Badan\")\n",
        "elif BMI >= 18.5:\n",
        "  print(\"\\nNormal\")\n",
        "elif BMI >= 23:\n",
        "  print(\"\\nKelebihan Berat Badan\")\n",
        "elif BMI >= 25:\n",
        "  print(\"\\nObesitas Tingkat 1\")\n",
        "else:\n",
        "  print(\"\\nObesitas Tingkat 2\")"
      ]
    },
    {
      "cell_type": "markdown",
      "source": [
        "# 2. Program Looping yang akan berhenti ketika diinputkan 0"
      ],
      "metadata": {
        "id": "d9TAlLnzXLU6"
      }
    },
    {
      "cell_type": "code",
      "source": [
        "x, jum, i = 0, 0, 0\n",
        "\n",
        "x = int(input(\"Inputkan Angka\\t: \"))\n",
        "while x != 0:\n",
        "  i += 1\n",
        "  jum += x\n",
        "  x = int(input(\"Inputkan Angka\\t: \"))\n",
        "\n",
        "if i != 0:\n",
        "  rata_rata = jum/i\n",
        "  print(\"Rata - rata semua angka yang diinput sebelumnya adalah \", rata_rata)\n",
        "else:\n",
        "  print(\"tidak ada nilai\")"
      ],
      "metadata": {
        "colab": {
          "base_uri": "https://localhost:8080/"
        },
        "id": "Yxi3xRMVrKXf",
        "outputId": "e79889f7-b311-4427-d97b-1e253b72bfb3"
      },
      "execution_count": null,
      "outputs": [
        {
          "output_type": "stream",
          "name": "stdout",
          "text": [
            "Inputkan Angka\t: 1\n",
            "Inputkan Angka\t: 2\n",
            "Inputkan Angka\t: 3\n",
            "Inputkan Angka\t: 4\n",
            "Inputkan Angka\t: 5\n",
            "Inputkan Angka\t: 6\n",
            "Inputkan Angka\t: 7\n",
            "Inputkan Angka\t: 0\n",
            "Rata - rata semua angka yang diinput sebelumnya adalah  4.0\n"
          ]
        }
      ]
    },
    {
      "cell_type": "markdown",
      "source": [
        "# 3. Program yang dapat memisahkan nilai dari list "
      ],
      "metadata": {
        "id": "X-XtqPAnXVn2"
      }
    },
    {
      "cell_type": "code",
      "source": [
        "data = [67, 46, 52, -12, 50, 73, 11, 61, 101, 41, 86, 86, \n",
        "     74, 88, 43, 67, 71, 47, 81, 45, 85, 17, -1, 39, 20, 79]\n",
        "A = []\n",
        "B = []\n",
        "C = []\n",
        "D = []\n",
        "E = []\n",
        "TV = []\n",
        "\n",
        "for nilai in data:\n",
        "  if nilai >= 80 and nilai <= 100:\n",
        "    A.append(nilai)\n",
        "  elif nilai >= 70 and nilai <= 79:\n",
        "    B.append(nilai)\n",
        "  elif nilai >= 50 and nilai <= 69:\n",
        "    C.append(nilai)\n",
        "  elif nilai >= 40 and nilai <= 49:\n",
        "    D.append(nilai)\n",
        "  elif nilai >= 0 and nilai <= 39:\n",
        "    E.append(nilai)\n",
        "  else:\n",
        "    TV.append(nilai)\n",
        "\n",
        "print(\"Grade A\\t\\t : \", A)\n",
        "print(\"Grade B\\t\\t : \", B)\n",
        "print(\"Grade C\\t\\t : \", C)\n",
        "print(\"Grade D\\t\\t : \", D)\n",
        "print(\"Grade E\\t\\t : \", E)\n",
        "print(\"Nilai Tidak Valid: \", TV)"
      ],
      "metadata": {
        "colab": {
          "base_uri": "https://localhost:8080/"
        },
        "id": "OliIsBt21Mx4",
        "outputId": "c25b1f57-aa9b-420a-992d-e3142c53b44a"
      },
      "execution_count": null,
      "outputs": [
        {
          "output_type": "stream",
          "name": "stdout",
          "text": [
            "Grade A\t\t :  [86, 86, 88, 81, 85]\n",
            "Grade B\t\t :  [73, 74, 71, 79]\n",
            "Grade C\t\t :  [67, 52, 50, 61, 67]\n",
            "Grade D\t\t :  [46, 41, 43, 47, 45]\n",
            "Grade E\t\t :  [11, 17, 39, 20]\n",
            "Nilai Tidak Valid:  [-12, 101, -1]\n"
          ]
        }
      ]
    }
  ]
}