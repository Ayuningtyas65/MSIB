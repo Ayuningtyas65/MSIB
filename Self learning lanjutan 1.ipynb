{
  "nbformat": 4,
  "nbformat_minor": 0,
  "metadata": {
    "colab": {
      "name": "Self learning 29/08/2022.ipynb",
      "provenance": [],
      "collapsed_sections": [],
      "include_colab_link": true
    },
    "kernelspec": {
      "name": "python3",
      "display_name": "Python 3"
    },
    "language_info": {
      "name": "python"
    }
  },
  "cells": [
    {
      "cell_type": "markdown",
      "metadata": {
        "id": "view-in-github",
        "colab_type": "text"
      },
      "source": [
        "<a href=\"https://colab.research.google.com/github/Ayuningtyas65/MSIB/blob/main/Self%20learning%20lanjutan%201.ipynb\" target=\"_parent\"><img src=\"https://colab.research.google.com/assets/colab-badge.svg\" alt=\"Open In Colab\"/></a>"
      ]
    },
    {
      "cell_type": "markdown",
      "source": [
        "a. KUBUS"
      ],
      "metadata": {
        "id": "jZyV4dS61S4z"
      }
    },
    {
      "cell_type": "code",
      "execution_count": null,
      "metadata": {
        "colab": {
          "base_uri": "https://localhost:8080/"
        },
        "id": "hNk2EAOkzaeT",
        "outputId": "f490df9c-ae0c-46ac-a7ce-e666519f4517"
      },
      "outputs": [
        {
          "output_type": "stream",
          "name": "stdout",
          "text": [
            "mencari luas kubus\n",
            "\n",
            "masukan nilai panjang rusuk : 5\n",
            "hasil :  150\n"
          ]
        }
      ],
      "source": [
        "#mencari luas kubus\n",
        "#rumus 6 x r x r\n",
        "\n",
        "print(\"mencari luas kubus\\n\")\n",
        "\n",
        "r = int(input(\"masukan nilai panjang rusuk : \"))\n",
        "\n",
        "luas  = 6 * r * r\n",
        "\n",
        "print(\"hasil : \",luas)\n"
      ]
    },
    {
      "cell_type": "code",
      "source": [
        "#mencari keliling kubus\n",
        "#rumus r x r x r\n",
        "\n",
        "print(\"mencari keliling kubus\\n\")\n",
        "\n",
        "r = int(input(\"masukan nilai panjang rusuk : \"))\n",
        "\n",
        "keliling  = r * r * r\n",
        "\n",
        "print(\"hasil : \",keliling)"
      ],
      "metadata": {
        "colab": {
          "base_uri": "https://localhost:8080/"
        },
        "id": "TPREl3UG1CQm",
        "outputId": "c4061d8c-a598-4a54-b655-f950322501c3"
      },
      "execution_count": null,
      "outputs": [
        {
          "output_type": "stream",
          "name": "stdout",
          "text": [
            "mencari keliling kubus\n",
            "\n",
            "masukan nilai panjang rusuk : 5\n",
            "hasil :  125\n"
          ]
        }
      ]
    },
    {
      "cell_type": "markdown",
      "source": [
        "b. BALOK"
      ],
      "metadata": {
        "id": "ml9qIKMx1Vgy"
      }
    },
    {
      "cell_type": "code",
      "source": [
        "#mencari luas balok\n",
        "#rumus 2 x (pxl + pxt + lxt)\n",
        "\n",
        "print(\"mencari luas balok\\n\")\n",
        "\n",
        "p = int(input(\"masukan nilai panjang : \"))\n",
        "l = int(input(\"masukan nilai luas : \"))\n",
        "t = int(input(\"masukan nilai tinggi : \"))\n",
        "\n",
        "luas  = 2 * (p * l + p * t + l * t)\n",
        "\n",
        "print(\"hasil : \",luas)"
      ],
      "metadata": {
        "colab": {
          "base_uri": "https://localhost:8080/"
        },
        "id": "yCdwiKwk1XbY",
        "outputId": "ac858844-5c06-4183-9037-f67e3fc64a10"
      },
      "execution_count": null,
      "outputs": [
        {
          "output_type": "stream",
          "name": "stdout",
          "text": [
            "mencari luas balok\n",
            "\n",
            "masukan nilai panjang : 10\n",
            "masukan nilai luas : 2\n",
            "masukan nilai tinggi : 6\n",
            "hasil :  184\n"
          ]
        }
      ]
    },
    {
      "cell_type": "code",
      "source": [
        "#mencari keliling balok\n",
        "#rumus p x l x t\n",
        "\n",
        "print(\"mencari keliling balok\\n\")\n",
        "p = int(input(\"masukan nilai panjang : \"))\n",
        "l = int(input(\"masukan nilai luas : \"))\n",
        "t = int(input(\"masukan nilai tinggi : \"))\n",
        "\n",
        "keliling  = p * l * t\n",
        "\n",
        "print(\"hasil : \",keliling)"
      ],
      "metadata": {
        "colab": {
          "base_uri": "https://localhost:8080/"
        },
        "id": "p-oUKNrM2TVX",
        "outputId": "3dc5a776-4d57-47b3-f044-7a6e52490575"
      },
      "execution_count": null,
      "outputs": [
        {
          "output_type": "stream",
          "name": "stdout",
          "text": [
            "mencari luas balok\n",
            "\n",
            "masukan nilai panjang : 10\n",
            "masukan nilai luas : 5\n",
            "masukan nilai tinggi : 10\n",
            "hasil :  500\n"
          ]
        }
      ]
    },
    {
      "cell_type": "markdown",
      "source": [
        "c. TABUNG"
      ],
      "metadata": {
        "id": "48oUdurp2qIF"
      }
    },
    {
      "cell_type": "code",
      "source": [
        "#mencari luas tabung\n",
        "#rumus 2 x phi x r x (t + r)\n",
        "\n",
        "print(\"mencari luas tabung\\n\")\n",
        "\n",
        "t = int(input(\"masukan nilai tinggi : \"))\n",
        "r = int(input(\"masukan nilai jari jari : \"))\n",
        "phi = 3.14\n",
        "\n",
        "luas  = 2 * phi * r * (t + r)\n",
        "\n",
        "print(\"hasil : \",luas)"
      ],
      "metadata": {
        "colab": {
          "base_uri": "https://localhost:8080/"
        },
        "id": "I5gbzlcf24sY",
        "outputId": "40e57ef8-1d10-467b-e90d-39b7e2939029"
      },
      "execution_count": null,
      "outputs": [
        {
          "output_type": "stream",
          "name": "stdout",
          "text": [
            "mencari luas tabung\n",
            "\n",
            "masukan nilai tinggi : 10\n",
            "masukan nilai jari jari : 10\n",
            "hasil :  1256.0\n"
          ]
        }
      ]
    },
    {
      "cell_type": "code",
      "source": [
        "#mencari keliling tabung\n",
        "#rumus phi x r x r x t\n",
        "\n",
        "print(\"mencari keliling tabung\\n\")\n",
        "\n",
        "t = int(input(\"masukan nilai tinggi : \"))\n",
        "r = int(input(\"masukan nilai jari jari : \"))\n",
        "phi = 3.14\n",
        "\n",
        "keliling  = phi * r * r * t\n",
        "\n",
        "print(\"hasil : \",keliling)"
      ],
      "metadata": {
        "colab": {
          "base_uri": "https://localhost:8080/"
        },
        "id": "pWVJKtuT3qz9",
        "outputId": "2c6957a7-2550-4cbf-85d8-b73ca9477797"
      },
      "execution_count": null,
      "outputs": [
        {
          "output_type": "stream",
          "name": "stdout",
          "text": [
            "mencari keliling tabung\n",
            "\n",
            "masukan nilai tinggi : 10\n",
            "masukan nilai jari jari : 10\n",
            "hasil :  3140.0\n"
          ]
        }
      ]
    }
  ]
}