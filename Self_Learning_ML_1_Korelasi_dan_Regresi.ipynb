{
  "cells": [
    {
      "cell_type": "markdown",
      "metadata": {
        "id": "view-in-github",
        "colab_type": "text"
      },
      "source": [
        "<a href=\"https://colab.research.google.com/github/Ayuningtyas65/MSIB/blob/main/Self_Learning_ML_1_Korelasi_dan_Regresi.ipynb\" target=\"_parent\"><img src=\"https://colab.research.google.com/assets/colab-badge.svg\" alt=\"Open In Colab\"/></a>"
      ]
    },
    {
      "cell_type": "markdown",
      "metadata": {
        "id": "yjwk2uEdR1eZ"
      },
      "source": [
        "Karena nilai dw (2.147) berada diantara nilai du (1.628) dan 4-du (2.372), maka **tidak ada masalah autokorelasi**."
      ]
    },
    {
      "cell_type": "markdown",
      "source": [
        "T"
      ],
      "metadata": {
        "id": "DAgM2U46H49K"
      }
    },
    {
      "cell_type": "markdown",
      "metadata": {
        "id": "AoYyq0W07_VD"
      },
      "source": [
        "# Self-Learning ML-1: FGD\n",
        "\n",
        "Download dataset [di sini](https://drive.google.com/file/d/1OjcfLYS5NI2eVHJppg_BGd-fcN5Jj4fo/view?usp=sharing).\n",
        "\n",
        "1. Buat model Regresi Linear dari tersebut\n",
        "2. Lakukan Uji Asumsi Klasik pada model\n",
        "3. Simpulkan hasil Uji Asumsi Klasik\n",
        "4. Kumpulkan SL ke HC!"
      ]
    },
    {
      "cell_type": "markdown",
      "source": [
        "Tri Mulyani Ayuningtyas_JumaTec"
      ],
      "metadata": {
        "id": "E_xdficjrL7L"
      }
    },
    {
      "cell_type": "code",
      "execution_count": null,
      "metadata": {
        "id": "XLeT3BQaGyNf"
      },
      "outputs": [],
      "source": [
        "import numpy as np\n",
        "import pandas as pd\n",
        "from scipy import stats\n",
        "import seaborn as sns\n",
        "import matplotlib.pyplot as plt\n",
        "from sklearn.model_selection import train_test_split\n",
        "from sklearn.linear_model import LinearRegression\n",
        "import statsmodels.api as sm\n",
        "from statsmodels.stats.outliers_influence import variance_inflation_factor\n",
        "from sklearn.metrics import mean_squared_error, mean_absolute_error\n",
        "\n",
        "import warnings\n",
        "warnings.filterwarnings(\"ignore\")"
      ]
    },
    {
      "cell_type": "markdown",
      "source": [
        "**UJI ASUMSI KLASIK PADA LINIER REGRESI**"
      ],
      "metadata": {
        "id": "IlI0-nHT6l4_"
      }
    },
    {
      "cell_type": "code",
      "execution_count": null,
      "metadata": {
        "id": "KeA53JcPxK3V",
        "colab": {
          "base_uri": "https://localhost:8080/"
        },
        "outputId": "a8b1783f-4d95-47d5-9770-dc8efffee3f5"
      },
      "outputs": [
        {
          "output_type": "stream",
          "name": "stdout",
          "text": [
            "--2022-09-17 04:10:36--  https://raw.githubusercontent.com/latief30/Latihan/main/Dataset/kc_house_3_features.csv\n",
            "Resolving raw.githubusercontent.com (raw.githubusercontent.com)... 185.199.108.133, 185.199.111.133, 185.199.109.133, ...\n",
            "Connecting to raw.githubusercontent.com (raw.githubusercontent.com)|185.199.108.133|:443... connected.\n",
            "HTTP request sent, awaiting response... 200 OK\n",
            "Length: 2532 (2.5K) [text/plain]\n",
            "Saving to: ‘kc_house_3_features.csv’\n",
            "\n",
            "\rkc_house_3_features   0%[                    ]       0  --.-KB/s               \rkc_house_3_features 100%[===================>]   2.47K  --.-KB/s    in 0s      \n",
            "\n",
            "2022-09-17 04:10:36 (26.3 MB/s) - ‘kc_house_3_features.csv’ saved [2532/2532]\n",
            "\n"
          ]
        }
      ],
      "source": [
        "# Download dataset\n",
        "! wget -O kc_house_3_features.csv https://raw.githubusercontent.com/latief30/Latihan/main/Dataset/kc_house_3_features.csv"
      ]
    },
    {
      "cell_type": "code",
      "execution_count": null,
      "metadata": {
        "colab": {
          "base_uri": "https://localhost:8080/",
          "height": 206
        },
        "id": "_BOoUK9eyzki",
        "outputId": "bde78db2-2745-4f16-ac84-a164ff3f08e9"
      },
      "outputs": [
        {
          "output_type": "execute_result",
          "data": {
            "text/plain": [
              "   sqft_living  sqft_living15  sqft_above     price\n",
              "0         1180           1340        1180  221900.0\n",
              "1         2570           1690        2170  538000.0\n",
              "2          770           2720         770  180000.0\n",
              "3         1960           1360        1050  604000.0\n",
              "4         1680           1800        1680  510000.0"
            ],
            "text/html": [
              "\n",
              "  <div id=\"df-11bafb8e-8513-47e0-b095-312aeb3df53c\">\n",
              "    <div class=\"colab-df-container\">\n",
              "      <div>\n",
              "<style scoped>\n",
              "    .dataframe tbody tr th:only-of-type {\n",
              "        vertical-align: middle;\n",
              "    }\n",
              "\n",
              "    .dataframe tbody tr th {\n",
              "        vertical-align: top;\n",
              "    }\n",
              "\n",
              "    .dataframe thead th {\n",
              "        text-align: right;\n",
              "    }\n",
              "</style>\n",
              "<table border=\"1\" class=\"dataframe\">\n",
              "  <thead>\n",
              "    <tr style=\"text-align: right;\">\n",
              "      <th></th>\n",
              "      <th>sqft_living</th>\n",
              "      <th>sqft_living15</th>\n",
              "      <th>sqft_above</th>\n",
              "      <th>price</th>\n",
              "    </tr>\n",
              "  </thead>\n",
              "  <tbody>\n",
              "    <tr>\n",
              "      <th>0</th>\n",
              "      <td>1180</td>\n",
              "      <td>1340</td>\n",
              "      <td>1180</td>\n",
              "      <td>221900.0</td>\n",
              "    </tr>\n",
              "    <tr>\n",
              "      <th>1</th>\n",
              "      <td>2570</td>\n",
              "      <td>1690</td>\n",
              "      <td>2170</td>\n",
              "      <td>538000.0</td>\n",
              "    </tr>\n",
              "    <tr>\n",
              "      <th>2</th>\n",
              "      <td>770</td>\n",
              "      <td>2720</td>\n",
              "      <td>770</td>\n",
              "      <td>180000.0</td>\n",
              "    </tr>\n",
              "    <tr>\n",
              "      <th>3</th>\n",
              "      <td>1960</td>\n",
              "      <td>1360</td>\n",
              "      <td>1050</td>\n",
              "      <td>604000.0</td>\n",
              "    </tr>\n",
              "    <tr>\n",
              "      <th>4</th>\n",
              "      <td>1680</td>\n",
              "      <td>1800</td>\n",
              "      <td>1680</td>\n",
              "      <td>510000.0</td>\n",
              "    </tr>\n",
              "  </tbody>\n",
              "</table>\n",
              "</div>\n",
              "      <button class=\"colab-df-convert\" onclick=\"convertToInteractive('df-11bafb8e-8513-47e0-b095-312aeb3df53c')\"\n",
              "              title=\"Convert this dataframe to an interactive table.\"\n",
              "              style=\"display:none;\">\n",
              "        \n",
              "  <svg xmlns=\"http://www.w3.org/2000/svg\" height=\"24px\"viewBox=\"0 0 24 24\"\n",
              "       width=\"24px\">\n",
              "    <path d=\"M0 0h24v24H0V0z\" fill=\"none\"/>\n",
              "    <path d=\"M18.56 5.44l.94 2.06.94-2.06 2.06-.94-2.06-.94-.94-2.06-.94 2.06-2.06.94zm-11 1L8.5 8.5l.94-2.06 2.06-.94-2.06-.94L8.5 2.5l-.94 2.06-2.06.94zm10 10l.94 2.06.94-2.06 2.06-.94-2.06-.94-.94-2.06-.94 2.06-2.06.94z\"/><path d=\"M17.41 7.96l-1.37-1.37c-.4-.4-.92-.59-1.43-.59-.52 0-1.04.2-1.43.59L10.3 9.45l-7.72 7.72c-.78.78-.78 2.05 0 2.83L4 21.41c.39.39.9.59 1.41.59.51 0 1.02-.2 1.41-.59l7.78-7.78 2.81-2.81c.8-.78.8-2.07 0-2.86zM5.41 20L4 18.59l7.72-7.72 1.47 1.35L5.41 20z\"/>\n",
              "  </svg>\n",
              "      </button>\n",
              "      \n",
              "  <style>\n",
              "    .colab-df-container {\n",
              "      display:flex;\n",
              "      flex-wrap:wrap;\n",
              "      gap: 12px;\n",
              "    }\n",
              "\n",
              "    .colab-df-convert {\n",
              "      background-color: #E8F0FE;\n",
              "      border: none;\n",
              "      border-radius: 50%;\n",
              "      cursor: pointer;\n",
              "      display: none;\n",
              "      fill: #1967D2;\n",
              "      height: 32px;\n",
              "      padding: 0 0 0 0;\n",
              "      width: 32px;\n",
              "    }\n",
              "\n",
              "    .colab-df-convert:hover {\n",
              "      background-color: #E2EBFA;\n",
              "      box-shadow: 0px 1px 2px rgba(60, 64, 67, 0.3), 0px 1px 3px 1px rgba(60, 64, 67, 0.15);\n",
              "      fill: #174EA6;\n",
              "    }\n",
              "\n",
              "    [theme=dark] .colab-df-convert {\n",
              "      background-color: #3B4455;\n",
              "      fill: #D2E3FC;\n",
              "    }\n",
              "\n",
              "    [theme=dark] .colab-df-convert:hover {\n",
              "      background-color: #434B5C;\n",
              "      box-shadow: 0px 1px 3px 1px rgba(0, 0, 0, 0.15);\n",
              "      filter: drop-shadow(0px 1px 2px rgba(0, 0, 0, 0.3));\n",
              "      fill: #FFFFFF;\n",
              "    }\n",
              "  </style>\n",
              "\n",
              "      <script>\n",
              "        const buttonEl =\n",
              "          document.querySelector('#df-11bafb8e-8513-47e0-b095-312aeb3df53c button.colab-df-convert');\n",
              "        buttonEl.style.display =\n",
              "          google.colab.kernel.accessAllowed ? 'block' : 'none';\n",
              "\n",
              "        async function convertToInteractive(key) {\n",
              "          const element = document.querySelector('#df-11bafb8e-8513-47e0-b095-312aeb3df53c');\n",
              "          const dataTable =\n",
              "            await google.colab.kernel.invokeFunction('convertToInteractive',\n",
              "                                                     [key], {});\n",
              "          if (!dataTable) return;\n",
              "\n",
              "          const docLinkHtml = 'Like what you see? Visit the ' +\n",
              "            '<a target=\"_blank\" href=https://colab.research.google.com/notebooks/data_table.ipynb>data table notebook</a>'\n",
              "            + ' to learn more about interactive tables.';\n",
              "          element.innerHTML = '';\n",
              "          dataTable['output_type'] = 'display_data';\n",
              "          await google.colab.output.renderOutput(dataTable, element);\n",
              "          const docLink = document.createElement('div');\n",
              "          docLink.innerHTML = docLinkHtml;\n",
              "          element.appendChild(docLink);\n",
              "        }\n",
              "      </script>\n",
              "    </div>\n",
              "  </div>\n",
              "  "
            ]
          },
          "metadata": {},
          "execution_count": 7
        }
      ],
      "source": [
        "# Load Dataset\n",
        "data = pd.read_csv('kc_house_3_features.csv')\n",
        "data.head()"
      ]
    },
    {
      "cell_type": "code",
      "source": [
        "# Informasi terkait dataset (metadata)\n",
        "data.info()"
      ],
      "metadata": {
        "colab": {
          "base_uri": "https://localhost:8080/"
        },
        "id": "D0nkrktJ4GNw",
        "outputId": "a434f6ac-39c4-42c1-9787-632e8ae0b899"
      },
      "execution_count": null,
      "outputs": [
        {
          "output_type": "stream",
          "name": "stdout",
          "text": [
            "<class 'pandas.core.frame.DataFrame'>\n",
            "RangeIndex: 100 entries, 0 to 99\n",
            "Data columns (total 4 columns):\n",
            " #   Column         Non-Null Count  Dtype  \n",
            "---  ------         --------------  -----  \n",
            " 0   sqft_living    100 non-null    int64  \n",
            " 1   sqft_living15  100 non-null    int64  \n",
            " 2   sqft_above     100 non-null    int64  \n",
            " 3   price          100 non-null    float64\n",
            "dtypes: float64(1), int64(3)\n",
            "memory usage: 3.2 KB\n"
          ]
        }
      ]
    },
    {
      "cell_type": "markdown",
      "source": [
        "**Hubungan Linier antara tiap feature dengan label (X dan Y)**"
      ],
      "metadata": {
        "id": "fu459eWE4Zvl"
      }
    },
    {
      "cell_type": "code",
      "source": [
        "# Analisis Korelasi\n",
        "data.corr()"
      ],
      "metadata": {
        "colab": {
          "base_uri": "https://localhost:8080/",
          "height": 175
        },
        "id": "eZcWE4oB4See",
        "outputId": "85ab0322-c70c-4eee-bb43-27c77a65b345"
      },
      "execution_count": null,
      "outputs": [
        {
          "output_type": "execute_result",
          "data": {
            "text/plain": [
              "               sqft_living  sqft_living15  sqft_above     price\n",
              "sqft_living       1.000000       0.774798    0.837615  0.650602\n",
              "sqft_living15     0.774798       1.000000    0.755848  0.648145\n",
              "sqft_above        0.837615       0.755848    1.000000  0.515989\n",
              "price             0.650602       0.648145    0.515989  1.000000"
            ],
            "text/html": [
              "\n",
              "  <div id=\"df-6cf0e3f2-32f7-4af4-a528-767bc97a849f\">\n",
              "    <div class=\"colab-df-container\">\n",
              "      <div>\n",
              "<style scoped>\n",
              "    .dataframe tbody tr th:only-of-type {\n",
              "        vertical-align: middle;\n",
              "    }\n",
              "\n",
              "    .dataframe tbody tr th {\n",
              "        vertical-align: top;\n",
              "    }\n",
              "\n",
              "    .dataframe thead th {\n",
              "        text-align: right;\n",
              "    }\n",
              "</style>\n",
              "<table border=\"1\" class=\"dataframe\">\n",
              "  <thead>\n",
              "    <tr style=\"text-align: right;\">\n",
              "      <th></th>\n",
              "      <th>sqft_living</th>\n",
              "      <th>sqft_living15</th>\n",
              "      <th>sqft_above</th>\n",
              "      <th>price</th>\n",
              "    </tr>\n",
              "  </thead>\n",
              "  <tbody>\n",
              "    <tr>\n",
              "      <th>sqft_living</th>\n",
              "      <td>1.000000</td>\n",
              "      <td>0.774798</td>\n",
              "      <td>0.837615</td>\n",
              "      <td>0.650602</td>\n",
              "    </tr>\n",
              "    <tr>\n",
              "      <th>sqft_living15</th>\n",
              "      <td>0.774798</td>\n",
              "      <td>1.000000</td>\n",
              "      <td>0.755848</td>\n",
              "      <td>0.648145</td>\n",
              "    </tr>\n",
              "    <tr>\n",
              "      <th>sqft_above</th>\n",
              "      <td>0.837615</td>\n",
              "      <td>0.755848</td>\n",
              "      <td>1.000000</td>\n",
              "      <td>0.515989</td>\n",
              "    </tr>\n",
              "    <tr>\n",
              "      <th>price</th>\n",
              "      <td>0.650602</td>\n",
              "      <td>0.648145</td>\n",
              "      <td>0.515989</td>\n",
              "      <td>1.000000</td>\n",
              "    </tr>\n",
              "  </tbody>\n",
              "</table>\n",
              "</div>\n",
              "      <button class=\"colab-df-convert\" onclick=\"convertToInteractive('df-6cf0e3f2-32f7-4af4-a528-767bc97a849f')\"\n",
              "              title=\"Convert this dataframe to an interactive table.\"\n",
              "              style=\"display:none;\">\n",
              "        \n",
              "  <svg xmlns=\"http://www.w3.org/2000/svg\" height=\"24px\"viewBox=\"0 0 24 24\"\n",
              "       width=\"24px\">\n",
              "    <path d=\"M0 0h24v24H0V0z\" fill=\"none\"/>\n",
              "    <path d=\"M18.56 5.44l.94 2.06.94-2.06 2.06-.94-2.06-.94-.94-2.06-.94 2.06-2.06.94zm-11 1L8.5 8.5l.94-2.06 2.06-.94-2.06-.94L8.5 2.5l-.94 2.06-2.06.94zm10 10l.94 2.06.94-2.06 2.06-.94-2.06-.94-.94-2.06-.94 2.06-2.06.94z\"/><path d=\"M17.41 7.96l-1.37-1.37c-.4-.4-.92-.59-1.43-.59-.52 0-1.04.2-1.43.59L10.3 9.45l-7.72 7.72c-.78.78-.78 2.05 0 2.83L4 21.41c.39.39.9.59 1.41.59.51 0 1.02-.2 1.41-.59l7.78-7.78 2.81-2.81c.8-.78.8-2.07 0-2.86zM5.41 20L4 18.59l7.72-7.72 1.47 1.35L5.41 20z\"/>\n",
              "  </svg>\n",
              "      </button>\n",
              "      \n",
              "  <style>\n",
              "    .colab-df-container {\n",
              "      display:flex;\n",
              "      flex-wrap:wrap;\n",
              "      gap: 12px;\n",
              "    }\n",
              "\n",
              "    .colab-df-convert {\n",
              "      background-color: #E8F0FE;\n",
              "      border: none;\n",
              "      border-radius: 50%;\n",
              "      cursor: pointer;\n",
              "      display: none;\n",
              "      fill: #1967D2;\n",
              "      height: 32px;\n",
              "      padding: 0 0 0 0;\n",
              "      width: 32px;\n",
              "    }\n",
              "\n",
              "    .colab-df-convert:hover {\n",
              "      background-color: #E2EBFA;\n",
              "      box-shadow: 0px 1px 2px rgba(60, 64, 67, 0.3), 0px 1px 3px 1px rgba(60, 64, 67, 0.15);\n",
              "      fill: #174EA6;\n",
              "    }\n",
              "\n",
              "    [theme=dark] .colab-df-convert {\n",
              "      background-color: #3B4455;\n",
              "      fill: #D2E3FC;\n",
              "    }\n",
              "\n",
              "    [theme=dark] .colab-df-convert:hover {\n",
              "      background-color: #434B5C;\n",
              "      box-shadow: 0px 1px 3px 1px rgba(0, 0, 0, 0.15);\n",
              "      filter: drop-shadow(0px 1px 2px rgba(0, 0, 0, 0.3));\n",
              "      fill: #FFFFFF;\n",
              "    }\n",
              "  </style>\n",
              "\n",
              "      <script>\n",
              "        const buttonEl =\n",
              "          document.querySelector('#df-6cf0e3f2-32f7-4af4-a528-767bc97a849f button.colab-df-convert');\n",
              "        buttonEl.style.display =\n",
              "          google.colab.kernel.accessAllowed ? 'block' : 'none';\n",
              "\n",
              "        async function convertToInteractive(key) {\n",
              "          const element = document.querySelector('#df-6cf0e3f2-32f7-4af4-a528-767bc97a849f');\n",
              "          const dataTable =\n",
              "            await google.colab.kernel.invokeFunction('convertToInteractive',\n",
              "                                                     [key], {});\n",
              "          if (!dataTable) return;\n",
              "\n",
              "          const docLinkHtml = 'Like what you see? Visit the ' +\n",
              "            '<a target=\"_blank\" href=https://colab.research.google.com/notebooks/data_table.ipynb>data table notebook</a>'\n",
              "            + ' to learn more about interactive tables.';\n",
              "          element.innerHTML = '';\n",
              "          dataTable['output_type'] = 'display_data';\n",
              "          await google.colab.output.renderOutput(dataTable, element);\n",
              "          const docLink = document.createElement('div');\n",
              "          docLink.innerHTML = docLinkHtml;\n",
              "          element.appendChild(docLink);\n",
              "        }\n",
              "      </script>\n",
              "    </div>\n",
              "  </div>\n",
              "  "
            ]
          },
          "metadata": {},
          "execution_count": 9
        }
      ]
    },
    {
      "cell_type": "code",
      "source": [
        "# Visualisasi menggunakan hitmap\n",
        "sns.heatmap(data.corr(), annot=True)\n",
        "plt.show()"
      ],
      "metadata": {
        "colab": {
          "base_uri": "https://localhost:8080/",
          "height": 270
        },
        "id": "rqpol8i74rMM",
        "outputId": "2f72c29b-db7f-4794-ca5b-00c9964880dd"
      },
      "execution_count": null,
      "outputs": [
        {
          "output_type": "display_data",
          "data": {
            "text/plain": [
              "<Figure size 432x288 with 2 Axes>"
            ],
            "image/png": "[encoded data removed]"
          },
          "metadata": {
            "needs_background": "light"
          }
        }
      ]
    },
    {
      "cell_type": "code",
      "source": [
        "# Visualisasi hubungan antara sqft_living15 dan price\n",
        "plt.scatter(data['sqft_living15'], data['price'], color='blue')\n",
        "plt.xlabel(\"sqft_living15\")\n",
        "plt.ylabel(\"price\")\n",
        "plt.show()"
      ],
      "metadata": {
        "id": "hKvEHhdW44nr",
        "colab": {
          "base_uri": "https://localhost:8080/",
          "height": 291
        },
        "outputId": "8389cd43-7dce-4ee3-9208-128b745a6976"
      },
      "execution_count": null,
      "outputs": [
        {
          "output_type": "display_data",
          "data": {
            "text/plain": [
              "<Figure size 432x288 with 1 Axes>"
            ],
            "image/png": "[encoded data removed]"
          },
          "metadata": {
            "needs_background": "light"
          }
        }
      ]
    },
    {
      "cell_type": "code",
      "source": [
        "# Visualisasi hubungan antara sqft_living dan price\n",
        "plt.scatter(data['sqft_living'], data['price'], color='blue')\n",
        "plt.xlabel(\"sqft_living\")\n",
        "plt.ylabel(\"price\")\n",
        "plt.show()"
      ],
      "metadata": {
        "colab": {
          "base_uri": "https://localhost:8080/",
          "height": 291
        },
        "id": "TvcF0ose6ITL",
        "outputId": "cb7bb38b-22c4-42ee-df04-ac47335d4b9f"
      },
      "execution_count": null,
      "outputs": [
        {
          "output_type": "display_data",
          "data": {
            "text/plain": [
              "<Figure size 432x288 with 1 Axes>"
            ],
            "image/png": "[encoded data removed]"
          },
          "metadata": {
            "needs_background": "light"
          }
        }
      ]
    },
    {
      "cell_type": "code",
      "source": [
        "# Visualisasi hubungan antara sqft_above dan price\n",
        "plt.scatter(data['sqft_above'], data['price'], color='blue')\n",
        "plt.xlabel(\"sqft_above\")\n",
        "plt.ylabel(\"price\")\n",
        "plt.show()"
      ],
      "metadata": {
        "colab": {
          "base_uri": "https://localhost:8080/",
          "height": 291
        },
        "id": "HErx_cIo6NPU",
        "outputId": "c7ea3b03-097f-4571-d8bb-2d2c67e7c522"
      },
      "execution_count": null,
      "outputs": [
        {
          "output_type": "display_data",
          "data": {
            "text/plain": [
              "<Figure size 432x288 with 1 Axes>"
            ],
            "image/png": "[encoded data removed]"
          },
          "metadata": {
            "needs_background": "light"
          }
        }
      ]
    },
    {
      "cell_type": "markdown",
      "source": [
        "**SPLITTING DATA MENJADI DATA TRAIN DAN TEST**"
      ],
      "metadata": {
        "id": "Xh3YVAil-GGZ"
      }
    },
    {
      "cell_type": "code",
      "source": [
        "features =['sqft_living', 'sqft_living15', 'sqft_above']\n",
        "X = data[features].values\n",
        "Y = data.price\n",
        "\n",
        "X_train, X_test, Y_train, Y_test = train_test_split(X, Y, test_size=0.2, random_state=23)"
      ],
      "metadata": {
        "id": "uDRswrPX97kl"
      },
      "execution_count": null,
      "outputs": []
    },
    {
      "cell_type": "code",
      "source": [
        "# Periksa bentuk data train dan test\n",
        "print('Data Train :', end='')\n",
        "print(X_train.shape, Y_train.shape)\n",
        "print('\\nData Test : ', end='')\n",
        "print(X_test.shape, Y_test.shape)"
      ],
      "metadata": {
        "colab": {
          "base_uri": "https://localhost:8080/"
        },
        "id": "qRv094xE-9Hc",
        "outputId": "c0bc2f10-5efe-4a99-f157-56ea93766afb"
      },
      "execution_count": null,
      "outputs": [
        {
          "output_type": "stream",
          "name": "stdout",
          "text": [
            "Data Train :(80, 3) (80,)\n",
            "\n",
            "Data Test : (20, 3) (20,)\n"
          ]
        }
      ]
    },
    {
      "cell_type": "markdown",
      "source": [
        "**MODELLING**"
      ],
      "metadata": {
        "id": "WzlxFcYs_eR6"
      }
    },
    {
      "cell_type": "code",
      "source": [
        "lin_reg = LinearRegression()\n",
        "lin_reg.fit(X_train, Y_train)"
      ],
      "metadata": {
        "colab": {
          "base_uri": "https://localhost:8080/"
        },
        "id": "nsliLEZ__cUQ",
        "outputId": "d49b4797-e7c0-48da-d0f9-5d7dd4963288"
      },
      "execution_count": null,
      "outputs": [
        {
          "output_type": "execute_result",
          "data": {
            "text/plain": [
              "LinearRegression()"
            ]
          },
          "metadata": {},
          "execution_count": 16
        }
      ]
    },
    {
      "cell_type": "markdown",
      "source": [
        "**UJI NORMALITAS**"
      ],
      "metadata": {
        "id": "AHnUCHvs_6e_"
      }
    },
    {
      "cell_type": "code",
      "source": [
        "y_predtrain = lin_reg.predict(X_train)       #Prediksi model data train\n",
        "err = y_predtrain - Y_train                  #Residualnya data train\n",
        "sns.distplot(err)                            #membuat plot histogramnya\n",
        "\n",
        "z_er = stats.zscore(err)\n",
        "norm_er = stats.kstest(z_er, 'norm', )       #uji komogorov-smirnov\n",
        "print('hasil uji kolmogorov Smirnov \\n', norm_er)"
      ],
      "metadata": {
        "colab": {
          "base_uri": "https://localhost:8080/",
          "height": 325
        },
        "id": "Qpo8B1vY_9KQ",
        "outputId": "e0fd67d9-0e55-4c60-b85d-7430b53004b3"
      },
      "execution_count": null,
      "outputs": [
        {
          "output_type": "stream",
          "name": "stdout",
          "text": [
            "hasil uji kolmogorov Smirnov \n",
            " KstestResult(statistic=0.1323167164684002, pvalue=0.11080879390488378)\n"
          ]
        },
        {
          "output_type": "display_data",
          "data": {
            "text/plain": [
              "<Figure size 432x288 with 1 Axes>"
            ],
            "image/png": "[encoded data removed]"
          },
          "metadata": {
            "needs_background": "light"
          }
        }
      ]
    },
    {
      "cell_type": "markdown",
      "source": [
        "Ho : data = berdistribusi normal\n",
        "\n",
        "Ha : data tidak berdistribusi normal\n",
        "\n",
        "Karena pvalue > 0.05, maka Ho diterima.\n",
        "\n",
        "Plot histogram yang membentuk lonceng dan puncaknya cenderung ke tengah juga mendukung bahwa **errornya sudah berdistribusi normal**."
      ],
      "metadata": {
        "id": "tLs_xVEaBZ0X"
      }
    },
    {
      "cell_type": "markdown",
      "source": [
        "**MENGECEK TIDAK TERJADINYA HETEROSKEDASTISITAS**"
      ],
      "metadata": {
        "id": "HzDHXuxzCGTZ"
      }
    },
    {
      "cell_type": "code",
      "source": [
        "plt.figure(figsize=(8, 4))\n",
        "plt.scatter(y_predtrain, err)\n",
        "plt.show()"
      ],
      "metadata": {
        "colab": {
          "base_uri": "https://localhost:8080/",
          "height": 278
        },
        "id": "oYhM5rJPCSeg",
        "outputId": "ed334918-4ace-4f01-a6b1-b02fb79464e9"
      },
      "execution_count": null,
      "outputs": [
        {
          "output_type": "display_data",
          "data": {
            "text/plain": [
              "<Figure size 576x288 with 1 Axes>"
            ],
            "image/png": "[encoded data removed]"
          },
          "metadata": {
            "needs_background": "light"
          }
        }
      ]
    },
    {
      "cell_type": "markdown",
      "source": [
        "Artinya nilai prediksi kita tidak terganggu oleh errornya atau **tidak terjadi heteroskedastisitas**."
      ],
      "metadata": {
        "id": "B0BYgT3rCw1_"
      }
    },
    {
      "cell_type": "markdown",
      "source": [
        "**MENGECEK TIDAK TERJADINYA MULTIKOLINEARITAS (KHUSUS REGRESI BERGANDA)**"
      ],
      "metadata": {
        "id": "Dmxh59COC19P"
      }
    },
    {
      "cell_type": "code",
      "source": [
        "vif = [variance_inflation_factor(X_train, i) for i in range(len(X_train.T))]\n",
        "pd.DataFrame({'VIF': vif[0:]}, index=features).T"
      ],
      "metadata": {
        "colab": {
          "base_uri": "https://localhost:8080/",
          "height": 81
        },
        "id": "XxDlfXfqDg-u",
        "outputId": "d650b19c-31f5-4979-8123-488403660b21"
      },
      "execution_count": null,
      "outputs": [
        {
          "output_type": "execute_result",
          "data": {
            "text/plain": [
              "     sqft_living  sqft_living15  sqft_above\n",
              "VIF    26.284273      19.275041   24.946889"
            ],
            "text/html": [
              "\n",
              "  <div id=\"df-6db66558-bb27-4107-b6f7-2a3d13ee5895\">\n",
              "    <div class=\"colab-df-container\">\n",
              "      <div>\n",
              "<style scoped>\n",
              "    .dataframe tbody tr th:only-of-type {\n",
              "        vertical-align: middle;\n",
              "    }\n",
              "\n",
              "    .dataframe tbody tr th {\n",
              "        vertical-align: top;\n",
              "    }\n",
              "\n",
              "    .dataframe thead th {\n",
              "        text-align: right;\n",
              "    }\n",
              "</style>\n",
              "<table border=\"1\" class=\"dataframe\">\n",
              "  <thead>\n",
              "    <tr style=\"text-align: right;\">\n",
              "      <th></th>\n",
              "      <th>sqft_living</th>\n",
              "      <th>sqft_living15</th>\n",
              "      <th>sqft_above</th>\n",
              "    </tr>\n",
              "  </thead>\n",
              "  <tbody>\n",
              "    <tr>\n",
              "      <th>VIF</th>\n",
              "      <td>26.284273</td>\n",
              "      <td>19.275041</td>\n",
              "      <td>24.946889</td>\n",
              "    </tr>\n",
              "  </tbody>\n",
              "</table>\n",
              "</div>\n",
              "      <button class=\"colab-df-convert\" onclick=\"convertToInteractive('df-6db66558-bb27-4107-b6f7-2a3d13ee5895')\"\n",
              "              title=\"Convert this dataframe to an interactive table.\"\n",
              "              style=\"display:none;\">\n",
              "        \n",
              "  <svg xmlns=\"http://www.w3.org/2000/svg\" height=\"24px\"viewBox=\"0 0 24 24\"\n",
              "       width=\"24px\">\n",
              "    <path d=\"M0 0h24v24H0V0z\" fill=\"none\"/>\n",
              "    <path d=\"M18.56 5.44l.94 2.06.94-2.06 2.06-.94-2.06-.94-.94-2.06-.94 2.06-2.06.94zm-11 1L8.5 8.5l.94-2.06 2.06-.94-2.06-.94L8.5 2.5l-.94 2.06-2.06.94zm10 10l.94 2.06.94-2.06 2.06-.94-2.06-.94-.94-2.06-.94 2.06-2.06.94z\"/><path d=\"M17.41 7.96l-1.37-1.37c-.4-.4-.92-.59-1.43-.59-.52 0-1.04.2-1.43.59L10.3 9.45l-7.72 7.72c-.78.78-.78 2.05 0 2.83L4 21.41c.39.39.9.59 1.41.59.51 0 1.02-.2 1.41-.59l7.78-7.78 2.81-2.81c.8-.78.8-2.07 0-2.86zM5.41 20L4 18.59l7.72-7.72 1.47 1.35L5.41 20z\"/>\n",
              "  </svg>\n",
              "      </button>\n",
              "      \n",
              "  <style>\n",
              "    .colab-df-container {\n",
              "      display:flex;\n",
              "      flex-wrap:wrap;\n",
              "      gap: 12px;\n",
              "    }\n",
              "\n",
              "    .colab-df-convert {\n",
              "      background-color: #E8F0FE;\n",
              "      border: none;\n",
              "      border-radius: 50%;\n",
              "      cursor: pointer;\n",
              "      display: none;\n",
              "      fill: #1967D2;\n",
              "      height: 32px;\n",
              "      padding: 0 0 0 0;\n",
              "      width: 32px;\n",
              "    }\n",
              "\n",
              "    .colab-df-convert:hover {\n",
              "      background-color: #E2EBFA;\n",
              "      box-shadow: 0px 1px 2px rgba(60, 64, 67, 0.3), 0px 1px 3px 1px rgba(60, 64, 67, 0.15);\n",
              "      fill: #174EA6;\n",
              "    }\n",
              "\n",
              "    [theme=dark] .colab-df-convert {\n",
              "      background-color: #3B4455;\n",
              "      fill: #D2E3FC;\n",
              "    }\n",
              "\n",
              "    [theme=dark] .colab-df-convert:hover {\n",
              "      background-color: #434B5C;\n",
              "      box-shadow: 0px 1px 3px 1px rgba(0, 0, 0, 0.15);\n",
              "      filter: drop-shadow(0px 1px 2px rgba(0, 0, 0, 0.3));\n",
              "      fill: #FFFFFF;\n",
              "    }\n",
              "  </style>\n",
              "\n",
              "      <script>\n",
              "        const buttonEl =\n",
              "          document.querySelector('#df-6db66558-bb27-4107-b6f7-2a3d13ee5895 button.colab-df-convert');\n",
              "        buttonEl.style.display =\n",
              "          google.colab.kernel.accessAllowed ? 'block' : 'none';\n",
              "\n",
              "        async function convertToInteractive(key) {\n",
              "          const element = document.querySelector('#df-6db66558-bb27-4107-b6f7-2a3d13ee5895');\n",
              "          const dataTable =\n",
              "            await google.colab.kernel.invokeFunction('convertToInteractive',\n",
              "                                                     [key], {});\n",
              "          if (!dataTable) return;\n",
              "\n",
              "          const docLinkHtml = 'Like what you see? Visit the ' +\n",
              "            '<a target=\"_blank\" href=https://colab.research.google.com/notebooks/data_table.ipynb>data table notebook</a>'\n",
              "            + ' to learn more about interactive tables.';\n",
              "          element.innerHTML = '';\n",
              "          dataTable['output_type'] = 'display_data';\n",
              "          await google.colab.output.renderOutput(dataTable, element);\n",
              "          const docLink = document.createElement('div');\n",
              "          docLink.innerHTML = docLinkHtml;\n",
              "          element.appendChild(docLink);\n",
              "        }\n",
              "      </script>\n",
              "    </div>\n",
              "  </div>\n",
              "  "
            ]
          },
          "metadata": {},
          "execution_count": 19
        }
      ]
    },
    {
      "cell_type": "markdown",
      "source": [
        "Terjadi multikolinearitas dikarenakan nilai VIP > 10"
      ],
      "metadata": {
        "id": "sumdDVdEEqtD"
      }
    },
    {
      "cell_type": "markdown",
      "source": [
        "**MENGECEK TIDAK TERJADINYA AUTOKORELASI**"
      ],
      "metadata": {
        "id": "Jo57tLReEy3V"
      }
    },
    {
      "cell_type": "code",
      "source": [
        "X_constant = sm.add_constant(X_train)\n",
        "linreg = sm.OLS(Y_train, X_constant).fit()\n",
        "linreg.summary()"
      ],
      "metadata": {
        "colab": {
          "base_uri": "https://localhost:8080/",
          "height": 529
        },
        "id": "EgXeAOfgEyZq",
        "outputId": "ba8aef1c-678f-4631-b414-de903370b8b1"
      },
      "execution_count": null,
      "outputs": [
        {
          "output_type": "execute_result",
          "data": {
            "text/plain": [
              "<class 'statsmodels.iolib.summary.Summary'>\n",
              "\"\"\"\n",
              "                            OLS Regression Results                            \n",
              "==============================================================================\n",
              "Dep. Variable:                  price   R-squared:                       0.537\n",
              "Model:                            OLS   Adj. R-squared:                  0.519\n",
              "Method:                 Least Squares   F-statistic:                     29.36\n",
              "Date:                Sat, 17 Sep 2022   Prob (F-statistic):           1.04e-12\n",
              "Time:                        04:11:29   Log-Likelihood:                -1097.3\n",
              "No. Observations:                  80   AIC:                             2203.\n",
              "Df Residuals:                      76   BIC:                             2212.\n",
              "Df Model:                           3                                         \n",
              "Covariance Type:            nonrobust                                         \n",
              "==============================================================================\n",
              "                 coef    std err          t      P>|t|      [0.025      0.975]\n",
              "------------------------------------------------------------------------------\n",
              "const      -9.547e+04   7.54e+04     -1.266      0.209   -2.46e+05    5.47e+04\n",
              "x1           164.9679     56.600      2.915      0.005      52.239     277.697\n",
              "x2           233.7268     57.513      4.064      0.000     119.180     348.274\n",
              "x3          -112.2904     67.313     -1.668      0.099    -246.356      21.775\n",
              "==============================================================================\n",
              "Omnibus:                       22.442   Durbin-Watson:                   1.773\n",
              "Prob(Omnibus):                  0.000   Jarque-Bera (JB):               36.156\n",
              "Skew:                           1.110   Prob(JB):                     1.41e-08\n",
              "Kurtosis:                       5.433   Cond. No.                     1.08e+04\n",
              "==============================================================================\n",
              "\n",
              "Notes:\n",
              "[1] Standard Errors assume that the covariance matrix of the errors is correctly specified.\n",
              "[2] The condition number is large, 1.08e+04. This might indicate that there are\n",
              "strong multicollinearity or other numerical problems.\n",
              "\"\"\""
            ],
            "text/html": [
              "<table class=\"simpletable\">\n",
              "<caption>OLS Regression Results</caption>\n",
              "<tr>\n",
              "  <th>Dep. Variable:</th>          <td>price</td>      <th>  R-squared:         </th> <td>   0.537</td>\n",
              "</tr>\n",
              "<tr>\n",
              "  <th>Model:</th>                   <td>OLS</td>       <th>  Adj. R-squared:    </th> <td>   0.519</td>\n",
              "</tr>\n",
              "<tr>\n",
              "  <th>Method:</th>             <td>Least Squares</td>  <th>  F-statistic:       </th> <td>   29.36</td>\n",
              "</tr>\n",
              "<tr>\n",
              "  <th>Date:</th>             <td>Sat, 17 Sep 2022</td> <th>  Prob (F-statistic):</th> <td>1.04e-12</td>\n",
              "</tr>\n",
              "<tr>\n",
              "  <th>Time:</th>                 <td>04:11:29</td>     <th>  Log-Likelihood:    </th> <td> -1097.3</td>\n",
              "</tr>\n",
              "<tr>\n",
              "  <th>No. Observations:</th>      <td>    80</td>      <th>  AIC:               </th> <td>   2203.</td>\n",
              "</tr>\n",
              "<tr>\n",
              "  <th>Df Residuals:</th>          <td>    76</td>      <th>  BIC:               </th> <td>   2212.</td>\n",
              "</tr>\n",
              "<tr>\n",
              "  <th>Df Model:</th>              <td>     3</td>      <th>                     </th>     <td> </td>   \n",
              "</tr>\n",
              "<tr>\n",
              "  <th>Covariance Type:</th>      <td>nonrobust</td>    <th>                     </th>     <td> </td>   \n",
              "</tr>\n",
              "</table>\n",
              "<table class=\"simpletable\">\n",
              "<tr>\n",
              "    <td></td>       <th>coef</th>     <th>std err</th>      <th>t</th>      <th>P>|t|</th>  <th>[0.025</th>    <th>0.975]</th>  \n",
              "</tr>\n",
              "<tr>\n",
              "  <th>const</th> <td>-9.547e+04</td> <td> 7.54e+04</td> <td>   -1.266</td> <td> 0.209</td> <td>-2.46e+05</td> <td> 5.47e+04</td>\n",
              "</tr>\n",
              "<tr>\n",
              "  <th>x1</th>    <td>  164.9679</td> <td>   56.600</td> <td>    2.915</td> <td> 0.005</td> <td>   52.239</td> <td>  277.697</td>\n",
              "</tr>\n",
              "<tr>\n",
              "  <th>x2</th>    <td>  233.7268</td> <td>   57.513</td> <td>    4.064</td> <td> 0.000</td> <td>  119.180</td> <td>  348.274</td>\n",
              "</tr>\n",
              "<tr>\n",
              "  <th>x3</th>    <td> -112.2904</td> <td>   67.313</td> <td>   -1.668</td> <td> 0.099</td> <td> -246.356</td> <td>   21.775</td>\n",
              "</tr>\n",
              "</table>\n",
              "<table class=\"simpletable\">\n",
              "<tr>\n",
              "  <th>Omnibus:</th>       <td>22.442</td> <th>  Durbin-Watson:     </th> <td>   1.773</td>\n",
              "</tr>\n",
              "<tr>\n",
              "  <th>Prob(Omnibus):</th> <td> 0.000</td> <th>  Jarque-Bera (JB):  </th> <td>  36.156</td>\n",
              "</tr>\n",
              "<tr>\n",
              "  <th>Skew:</th>          <td> 1.110</td> <th>  Prob(JB):          </th> <td>1.41e-08</td>\n",
              "</tr>\n",
              "<tr>\n",
              "  <th>Kurtosis:</th>      <td> 5.433</td> <th>  Cond. No.          </th> <td>1.08e+04</td>\n",
              "</tr>\n",
              "</table><br/><br/>Notes:<br/>[1] Standard Errors assume that the covariance matrix of the errors is correctly specified.<br/>[2] The condition number is large, 1.08e+04. This might indicate that there are<br/>strong multicollinearity or other numerical problems."
            ]
          },
          "metadata": {},
          "execution_count": 20
        }
      ]
    },
    {
      "cell_type": "markdown",
      "source": [
        "**VISUALISASI HASIL PREDIKSI**"
      ],
      "metadata": {
        "id": "M_9754l6Gk8l"
      }
    },
    {
      "cell_type": "code",
      "source": [
        "y_predtest = lin_reg.predict(X_test)\n",
        "\n",
        "# MSE\n",
        "MSE_train = mean_squared_error(Y_train, y_predtrain)\n",
        "print('Nilai MSE data training = ', MSE_train)\n",
        "MSE_test = mean_squared_error(Y_test, y_predtest)\n",
        "print('Nilai MSE data testing = ', MSE_test)\n",
        "\n",
        "# RMSE\n",
        "RMSE_train = np.sqrt(MSE_train)\n",
        "print('Nilai RMSE data training =', RMSE_train)\n",
        "RMSE_test = np.sqrt(MSE_test)\n",
        "print('Nilai RMSE data testing = ', RMSE_test)\n",
        "\n",
        "# MAE\n",
        "MAE_train = mean_absolute_error(Y_train, y_predtrain)\n",
        "print('Nilai MAE data training =', MAE_train)\n",
        "MAE_test = mean_absolute_error(Y_test, y_predtest)\n",
        "print('Nilai MAE data testing =', MAE_test)"
      ],
      "metadata": {
        "colab": {
          "base_uri": "https://localhost:8080/"
        },
        "id": "gZxrfdnLdaca",
        "outputId": "0de51df2-2ebb-4b67-d9da-0d41a87f2463"
      },
      "execution_count": null,
      "outputs": [
        {
          "output_type": "stream",
          "name": "stdout",
          "text": [
            "Nilai MSE data training =  47994626311.29503\n",
            "Nilai MSE data testing =  44047671395.58065\n",
            "Nilai RMSE data training = 219076.75894830795\n",
            "Nilai RMSE data testing =  209875.37110290155\n",
            "Nilai MAE data training = 164060.7384825786\n",
            "Nilai MAE data testing = 176540.63195959709\n"
          ]
        }
      ]
    },
    {
      "cell_type": "code",
      "source": [
        "#Plotting data prediksi dan testing untuk membandingkan\n",
        "plt.plot(y_predtest)\n",
        "plt.plot(Y_test.values)\n",
        "\n",
        "# to give title to the graph/figure\n",
        "plt.title('Prediction vs Real data')\n",
        "\n",
        "# Add y label\n",
        "plt.ylabel(\"price\")\n",
        "\n",
        "# Adding legend to the plot/graph/figure\n",
        "plt.legend(labels=['Prediction',\"Real\"],loc='Lower right')"
      ],
      "metadata": {
        "colab": {
          "base_uri": "https://localhost:8080/",
          "height": 298
        },
        "id": "uLNRP35VGo4z",
        "outputId": "278b35af-d682-4d9c-8eb6-8e36e9ff71b6"
      },
      "execution_count": null,
      "outputs": [
        {
          "output_type": "execute_result",
          "data": {
            "text/plain": [
              "<matplotlib.legend.Legend at 0x7f20c567e4d0>"
            ]
          },
          "metadata": {},
          "execution_count": 22
        },
        {
          "output_type": "display_data",
          "data": {
            "text/plain": [
              "<Figure size 432x288 with 1 Axes>"
            ],
            "image/png": "[encoded data removed]"
          },
          "metadata": {
            "needs_background": "light"
          }
        }
      ]
    },
    {
      "cell_type": "markdown",
      "source": [
        "**KOEFISION DETERMINASI**"
      ],
      "metadata": {
        "id": "Bze7LOpxezbT"
      }
    },
    {
      "cell_type": "code",
      "source": [
        "print(f'R^2 score : {lin_reg.score(X, Y)}')"
      ],
      "metadata": {
        "colab": {
          "base_uri": "https://localhost:8080/"
        },
        "id": "F1oc9C8meyIn",
        "outputId": "cc4211a4-d0f2-4b28-bcfe-2da2ed426282"
      },
      "execution_count": null,
      "outputs": [
        {
          "output_type": "stream",
          "name": "stdout",
          "text": [
            "R^2 score : 0.48574851811867203\n"
          ]
        }
      ]
    },
    {
      "cell_type": "markdown",
      "source": [
        "Terlihat nilai R2 = 0.4857, ini merupakan nilai yang kurang.\n",
        "\n",
        "Nilai ini menunjukkan 48.57% dari profit dapat diprediksi oleh sqft_living, sqft_Living15 dan sqft_above\n",
        "\n",
        "Sisanya (51.43%) dipengaruhi faktor lain yang tidak ada di model ini."
      ],
      "metadata": {
        "id": "aYKORG-TfPxc"
      }
    },
    {
      "cell_type": "markdown",
      "source": [
        "**UJI SIMULTAN, PARSIAL, DAN BESAR PENGARUH FEATURE**"
      ],
      "metadata": {
        "id": "ADpoDdzPgbC-"
      }
    },
    {
      "cell_type": "code",
      "source": [
        "# uji ini membutuhkan model linreg pada uji Autikorelasi (bukan model lin_reg)\n",
        "linreg.summary()"
      ],
      "metadata": {
        "colab": {
          "base_uri": "https://localhost:8080/",
          "height": 529
        },
        "id": "bmDkQBdFgYE9",
        "outputId": "fd1a6b58-1836-4bdc-f38e-31f3a0aa1b03"
      },
      "execution_count": null,
      "outputs": [
        {
          "output_type": "execute_result",
          "data": {
            "text/plain": [
              "<class 'statsmodels.iolib.summary.Summary'>\n",
              "\"\"\"\n",
              "                            OLS Regression Results                            \n",
              "==============================================================================\n",
              "Dep. Variable:                  price   R-squared:                       0.537\n",
              "Model:                            OLS   Adj. R-squared:                  0.519\n",
              "Method:                 Least Squares   F-statistic:                     29.36\n",
              "Date:                Sat, 17 Sep 2022   Prob (F-statistic):           1.04e-12\n",
              "Time:                        04:11:41   Log-Likelihood:                -1097.3\n",
              "No. Observations:                  80   AIC:                             2203.\n",
              "Df Residuals:                      76   BIC:                             2212.\n",
              "Df Model:                           3                                         \n",
              "Covariance Type:            nonrobust                                         \n",
              "==============================================================================\n",
              "                 coef    std err          t      P>|t|      [0.025      0.975]\n",
              "------------------------------------------------------------------------------\n",
              "const      -9.547e+04   7.54e+04     -1.266      0.209   -2.46e+05    5.47e+04\n",
              "x1           164.9679     56.600      2.915      0.005      52.239     277.697\n",
              "x2           233.7268     57.513      4.064      0.000     119.180     348.274\n",
              "x3          -112.2904     67.313     -1.668      0.099    -246.356      21.775\n",
              "==============================================================================\n",
              "Omnibus:                       22.442   Durbin-Watson:                   1.773\n",
              "Prob(Omnibus):                  0.000   Jarque-Bera (JB):               36.156\n",
              "Skew:                           1.110   Prob(JB):                     1.41e-08\n",
              "Kurtosis:                       5.433   Cond. No.                     1.08e+04\n",
              "==============================================================================\n",
              "\n",
              "Notes:\n",
              "[1] Standard Errors assume that the covariance matrix of the errors is correctly specified.\n",
              "[2] The condition number is large, 1.08e+04. This might indicate that there are\n",
              "strong multicollinearity or other numerical problems.\n",
              "\"\"\""
            ],
            "text/html": [
              "<table class=\"simpletable\">\n",
              "<caption>OLS Regression Results</caption>\n",
              "<tr>\n",
              "  <th>Dep. Variable:</th>          <td>price</td>      <th>  R-squared:         </th> <td>   0.537</td>\n",
              "</tr>\n",
              "<tr>\n",
              "  <th>Model:</th>                   <td>OLS</td>       <th>  Adj. R-squared:    </th> <td>   0.519</td>\n",
              "</tr>\n",
              "<tr>\n",
              "  <th>Method:</th>             <td>Least Squares</td>  <th>  F-statistic:       </th> <td>   29.36</td>\n",
              "</tr>\n",
              "<tr>\n",
              "  <th>Date:</th>             <td>Sat, 17 Sep 2022</td> <th>  Prob (F-statistic):</th> <td>1.04e-12</td>\n",
              "</tr>\n",
              "<tr>\n",
              "  <th>Time:</th>                 <td>04:11:41</td>     <th>  Log-Likelihood:    </th> <td> -1097.3</td>\n",
              "</tr>\n",
              "<tr>\n",
              "  <th>No. Observations:</th>      <td>    80</td>      <th>  AIC:               </th> <td>   2203.</td>\n",
              "</tr>\n",
              "<tr>\n",
              "  <th>Df Residuals:</th>          <td>    76</td>      <th>  BIC:               </th> <td>   2212.</td>\n",
              "</tr>\n",
              "<tr>\n",
              "  <th>Df Model:</th>              <td>     3</td>      <th>                     </th>     <td> </td>   \n",
              "</tr>\n",
              "<tr>\n",
              "  <th>Covariance Type:</th>      <td>nonrobust</td>    <th>                     </th>     <td> </td>   \n",
              "</tr>\n",
              "</table>\n",
              "<table class=\"simpletable\">\n",
              "<tr>\n",
              "    <td></td>       <th>coef</th>     <th>std err</th>      <th>t</th>      <th>P>|t|</th>  <th>[0.025</th>    <th>0.975]</th>  \n",
              "</tr>\n",
              "<tr>\n",
              "  <th>const</th> <td>-9.547e+04</td> <td> 7.54e+04</td> <td>   -1.266</td> <td> 0.209</td> <td>-2.46e+05</td> <td> 5.47e+04</td>\n",
              "</tr>\n",
              "<tr>\n",
              "  <th>x1</th>    <td>  164.9679</td> <td>   56.600</td> <td>    2.915</td> <td> 0.005</td> <td>   52.239</td> <td>  277.697</td>\n",
              "</tr>\n",
              "<tr>\n",
              "  <th>x2</th>    <td>  233.7268</td> <td>   57.513</td> <td>    4.064</td> <td> 0.000</td> <td>  119.180</td> <td>  348.274</td>\n",
              "</tr>\n",
              "<tr>\n",
              "  <th>x3</th>    <td> -112.2904</td> <td>   67.313</td> <td>   -1.668</td> <td> 0.099</td> <td> -246.356</td> <td>   21.775</td>\n",
              "</tr>\n",
              "</table>\n",
              "<table class=\"simpletable\">\n",
              "<tr>\n",
              "  <th>Omnibus:</th>       <td>22.442</td> <th>  Durbin-Watson:     </th> <td>   1.773</td>\n",
              "</tr>\n",
              "<tr>\n",
              "  <th>Prob(Omnibus):</th> <td> 0.000</td> <th>  Jarque-Bera (JB):  </th> <td>  36.156</td>\n",
              "</tr>\n",
              "<tr>\n",
              "  <th>Skew:</th>          <td> 1.110</td> <th>  Prob(JB):          </th> <td>1.41e-08</td>\n",
              "</tr>\n",
              "<tr>\n",
              "  <th>Kurtosis:</th>      <td> 5.433</td> <th>  Cond. No.          </th> <td>1.08e+04</td>\n",
              "</tr>\n",
              "</table><br/><br/>Notes:<br/>[1] Standard Errors assume that the covariance matrix of the errors is correctly specified.<br/>[2] The condition number is large, 1.08e+04. This might indicate that there are<br/>strong multicollinearity or other numerical problems."
            ]
          },
          "metadata": {},
          "execution_count": 24
        }
      ]
    },
    {
      "cell_type": "markdown",
      "source": [
        "**KSEIMPULAN**"
      ],
      "metadata": {
        "id": "Tj5uoYRqgsL_"
      }
    },
    {
      "cell_type": "code",
      "source": [
        "sqft_living = float(input('Input sqft_living \\t= '))\n",
        "sqft_living15 = float(input('Input sqft_living15\\t= '))\n",
        "sqft_above = float(input('Input sqft_above\\t= '))\n",
        "data_baru = [[sqft_living, sqft_living15, sqft_above]]\n",
        "\n",
        "# Prediksi data baru menggunakan model Regresi Linear\n",
        "hasil_prediksi = lin_reg.predict(data_baru)\n",
        "hasil_prediksi = float(hasil_prediksi)\n",
        "\n",
        "# Cetak hasil prediksi (Profit)\n",
        "print('\\nPrediksi Profit yang akan didapat adalah', hasil_prediksi)"
      ],
      "metadata": {
        "colab": {
          "base_uri": "https://localhost:8080/"
        },
        "id": "6aNsERNTgvMM",
        "outputId": "68264763-e4d8-4d27-c0a3-c7d2d7b7c2c8"
      },
      "execution_count": null,
      "outputs": [
        {
          "output_type": "stream",
          "name": "stdout",
          "text": [
            "Input sqft_living \t= 770\n",
            "Input sqft_living15\t= 7270\n",
            "Input sqft_above\t= 770\n",
            "\n",
            "Prediksi Profit yang akan didapat adalah 1644283.7442436372\n"
          ]
        }
      ]
    }
  ],
  "metadata": {
    "colab": {
      "collapsed_sections": [],
      "provenance": [],
      "include_colab_link": true
    },
    "kernelspec": {
      "display_name": "Python 3",
      "name": "python3"
    }
  },
  "nbformat": 4,
  "nbformat_minor": 0
}